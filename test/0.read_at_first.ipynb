{
 "cells": [
  {
   "cell_type": "markdown",
   "metadata": {},
   "source": [
    "## Structure of JWAS Module"
   ]
  },
  {
   "cell_type": "markdown",
   "metadata": {},
   "source": [
    "<figure class=\"highlight\"><pre><code class=\"language-shell\" data-lang=\"shell\">\n",
    "<mark style=\"background-color:red;\"><big>JWAS.jl</big></mark>\n",
    "\n",
    "├──────── <mark style=\"background-color:orange;\">PedModule.jl</mark>\n",
    "\n",
    "├──────── <mark style=\"background-color:orange;\">ST.jl</mark>\n",
    "           ├── *build_model*\n",
    "           ├── *set_covariate*\n",
    "           ├── *set_random*\n",
    "           ├── *get_pedigree*\n",
    "           ├── *add_markers*\n",
    "           ├── *outputMCMCsamples*\n",
    "           ├── *showMME*\n",
    "           ├── *solve*\n",
    "           └── *runMCMC*\n",
    "\n",
    "├──────── <mark style=\"background-color:orange;\">MT.jl</mark>\n",
    "           ├── *MT.build_model*\n",
    "           ├── *MT.set_covariate*\n",
    "           ├── *MT.set_random*\n",
    "           ├── *MT.get_pedigree*\n",
    "           ├── *MT.add_markers*\n",
    "           ├── *MT.showMME*\n",
    "           ├── *MT.solve*\n",
    "           └── *MT.runMCMC*\n",
    "\n",
    "├──────── <mark style=\"background-color:orange;\">???.jl</mark>\n",
    "</code>\n",
    "</pre>\n",
    "</figure>"
   ]
  },
  {
   "cell_type": "markdown",
   "metadata": {},
   "source": [
    "<figure class=\"highlight\"><pre><code class=\"language-shell\" data-lang=\"shell\">\n",
    "├── _config.yml\n",
    "├── <mark style=\"background-color:orange;\">_drafts</mark>\n",
    "|   ├── begin-with-the-crazy-ideas.textile\n",
    "|   └── on-simplicity-in-technology.markdown\n",
    "├── _includes\n",
    "|   ├── footer.html\n",
    "|   └── header.html\n",
    "├── _layouts\n",
    "|   ├── default.html\n",
    "|   └── post.html\n",
    "├── _posts\n",
    "|   ├── 2007-10-29-why-every-programmer-should-play-nethack.textile\n",
    "|   └── 2009-04-26-barcamp-boston-4-roundup.textile\n",
    "├── _data\n",
    "|   └── members.yml\n",
    "├── _site\n",
    "├── .jekyll-metadata\n",
    "└── index.html\n",
    "</code>\n",
    "</pre>\n",
    "</figure>"
   ]
  },
  {
   "cell_type": "markdown",
   "metadata": {},
   "source": [
    "```markdown\n",
    "JWAS.jl\n",
    "\n",
    "├── <mark style=\"background-color:orange;\">PedModule.jl</mark> \n",
    "├── <mark style=\"background-color:orange;\">ST.jl</mark>  \n",
    "          ├──build_model \n",
    "          ├── set_covariate  \n",
    "           ├── set_random\n",
    "           ├── get_pedigree  \n",
    "           ├── add_markers  \n",
    "           ├── outputMCMCsamples  \n",
    "           ├── showMME \n",
    "           ├── solve \n",
    "           └── runMCMC  \n",
    "├──────── <mark style=\"background-color:orange;\">MT.jl</mark>  \n",
    "           ├── *MT.build_model*  \n",
    "           ├── *MT.set_covariate*  \n",
    "           ├── *MT.set_random*  \n",
    "           ├── *MT.get_pedigree*  \n",
    "           ├── *MT.add_markers*  \n",
    "           ├── *MT.showMME*  \n",
    "           ├── *MT.solve*  \n",
    "           └── *MT.runMCMC*  \n",
    "├──────── <mark style=\"background-color:orange;\">???.jl</mark>  \n",
    "```"
   ]
  },
  {
   "cell_type": "markdown",
   "metadata": {},
   "source": [
    "* <mark style=\"background-color:red;\"><big>JWAS.jl</big></mark>  \n",
    "\n",
    "    * <mark style=\"background-color:orange;\">PedModule.jl</mark> \n",
    "        *  \n",
    "    * <mark style=\"background-color:orange;\">ST.jl</mark>  \n",
    "        * *build_model*  \n",
    "        * *set_covariate*  \n",
    "        * *set_random*  \n",
    "        * *get_pedigree*  \n",
    "        * *add_markers*  \n",
    "        * *outputMCMCsamples*  \n",
    "        * *showMME*  \n",
    "        * *solve*  \n",
    "        * *runMCMC*  \n",
    "    * <mark style=\"background-color:orange;\">MT.jl</mark>  \n",
    "        * *MT.build_model*  \n",
    "        * *MT.set_covariate*  \n",
    "        * *MT.set_random*  \n",
    "        * *MT.get_pedigree*  \n",
    "        * *MT.add_markers*  \n",
    "        * *MT.showMME*  \n",
    "        * *MT.solve*  \n",
    "        * *MT.runMCMC*  \n",
    "    * <mark style=\"background-color:orange;\">???.jl</mark>  "
   ]
  },
  {
   "cell_type": "markdown",
   "metadata": {},
   "source": [
    "* <mark style=\"background-color:red\"><big>module</big></mark>\n",
    "* <mark style=\"background-color:orange\">submodules</mark>\n",
    "* *functions*"
   ]
  },
  {
   "cell_type": "markdown",
   "metadata": {},
   "source": [
    "## Help function"
   ]
  },
  {
   "cell_type": "code",
   "execution_count": 3,
   "metadata": {
    "collapsed": true
   },
   "outputs": [],
   "source": [
    "using JWAS.ST\n",
    "using JWAS.MT"
   ]
  },
  {
   "cell_type": "code",
   "execution_count": 4,
   "metadata": {
    "collapsed": false
   },
   "outputs": [
    {
     "name": "stdout",
     "output_type": "stream",
     "text": [
      "search: runMCMC\n",
      "\n"
     ]
    },
    {
     "data": {
      "text/latex": [
       "\\begin{verbatim}\n",
       "runMCMC(mme,df;Pi=0.0,chain_length=1000,starting_value=false,printout_frequency=100,estimatePi=false,methods=\"no markers\",output_marker_effects_frequency::Int64 = 0)\n",
       "\\end{verbatim}\n",
       "Run MCMC (marker information included or not) with sampling of variance components. Available methods include \"no markers\", \"BayesB\", \"BayesC\".\n"
      ],
      "text/markdown": [
       "```\n",
       "runMCMC(mme,df;Pi=0.0,chain_length=1000,starting_value=false,printout_frequency=100,estimatePi=false,methods=\"no markers\",output_marker_effects_frequency::Int64 = 0)\n",
       "```\n",
       "\n",
       "Run MCMC (marker information included or not) with sampling of variance components. Available methods include \"no markers\", \"BayesB\", \"BayesC\".\n"
      ],
      "text/plain": [
       "```\n",
       "runMCMC(mme,df;Pi=0.0,chain_length=1000,starting_value=false,printout_frequency=100,estimatePi=false,methods=\"no markers\",output_marker_effects_frequency::Int64 = 0)\n",
       "```\n",
       "\n",
       "Run MCMC (marker information included or not) with sampling of variance components. Available methods include \"no markers\", \"BayesB\", \"BayesC\".\n"
      ]
     },
     "execution_count": 4,
     "metadata": {},
     "output_type": "execute_result"
    }
   ],
   "source": [
    "?runMCMC"
   ]
  },
  {
   "cell_type": "code",
   "execution_count": 5,
   "metadata": {
    "collapsed": false
   },
   "outputs": [
    {
     "data": {
      "text/latex": [
       "\\begin{verbatim}\n",
       "runMCMC(mme,df;Pi=0.0,chain_length=1000,starting_value=false,printout_frequency=100,missing_phenotypes= false,methods=\"no markers\",output_marker_effects_frequency::Int64 = 0)\n",
       "\\end{verbatim}\n",
       "Run MCMC (marker information included or not) with sampling of variance components. Available methods include \"no markers\", \"BayesC0\", \"BayesC\", \"BayesCC\". Pi is a dictionary such as \\texttt{Pi=Dict([1.0; 1.0]=>0.7,[1.0; 0.0]=>0.1,[0.0; 1.0]=>0.1,[0.0; 0.0]=>0.1)}\n"
      ],
      "text/markdown": [
       "```\n",
       "runMCMC(mme,df;Pi=0.0,chain_length=1000,starting_value=false,printout_frequency=100,missing_phenotypes= false,methods=\"no markers\",output_marker_effects_frequency::Int64 = 0)\n",
       "```\n",
       "\n",
       "Run MCMC (marker information included or not) with sampling of variance components. Available methods include \"no markers\", \"BayesC0\", \"BayesC\", \"BayesCC\". Pi is a dictionary such as `Pi=Dict([1.0; 1.0]=>0.7,[1.0; 0.0]=>0.1,[0.0; 1.0]=>0.1,[0.0; 0.0]=>0.1)`\n"
      ],
      "text/plain": [
       "```\n",
       "runMCMC(mme,df;Pi=0.0,chain_length=1000,starting_value=false,printout_frequency=100,missing_phenotypes= false,methods=\"no markers\",output_marker_effects_frequency::Int64 = 0)\n",
       "```\n",
       "\n",
       "Run MCMC (marker information included or not) with sampling of variance components. Available methods include \"no markers\", \"BayesC0\", \"BayesC\", \"BayesCC\". Pi is a dictionary such as `Pi=Dict([1.0; 1.0]=>0.7,[1.0; 0.0]=>0.1,[0.0; 1.0]=>0.1,[0.0; 0.0]=>0.1)`\n"
      ]
     },
     "execution_count": 5,
     "metadata": {},
     "output_type": "execute_result"
    }
   ],
   "source": [
    "?MT.runMCMC"
   ]
  }
 ],
 "metadata": {
  "kernelspec": {
   "display_name": "Julia 0.4.5",
   "language": "julia",
   "name": "julia-0.4"
  },
  "language_info": {
   "file_extension": ".jl",
   "mimetype": "application/julia",
   "name": "julia",
   "version": "0.4.5"
  }
 },
 "nbformat": 4,
 "nbformat_minor": 0
}
