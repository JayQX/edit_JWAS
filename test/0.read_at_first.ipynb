{
 "cells": [
  {
   "cell_type": "markdown",
   "metadata": {},
   "source": [
    "## Structure of JWAS Module"
   ]
  },
  {
   "cell_type": "markdown",
   "metadata": {},
   "source": [
    "<figure class=\"highlight\"><pre><code class=\"language-shell\" data-lang=\"shell\">\n",
    "<mark style=\"background-color:red;\"><big>JWAS.jl</big></mark>\n",
    "\n",
    "├──────── <mark style=\"background-color:orange;\">PedModule.jl</mark>\n",
    "\n",
    "├──────── <mark style=\"background-color:orange;\">ST.jl</mark>\n",
    "           ├── <i>build_model</i>\n",
    "           ├── <i>set_covariate</i>\n",
    "           ├── <i>set_random</i>\n",
    "           ├── <i>get_pedigree</i>\n",
    "           ├── <i>add_markers</i>\n",
    "           ├── <i>outputMCMCsamples</i>\n",
    "           ├── <i>showMME</i>\n",
    "           ├── <i>solve</i>\n",
    "           └── <i>runMCMC</i>\n",
    "\n",
    "├──────── <mark style=\"background-color:orange;\">MT.jl</mark>\n",
    "           ├── <i>MT.build_model</i>\n",
    "           ├── <i>MT.set_covariate</i>\n",
    "           ├── <i>MT.set_random</i>\n",
    "           ├── <i>MT.get_pedigree</i>\n",
    "           ├── <i>MT.add_markers</i>\n",
    "           ├── <i>MT.showMME</i>\n",
    "           ├── <i>MT.solve</i>\n",
    "           └── <i>MT.runMCMC</i>\n",
    "\n",
    "├──────── <mark style=\"background-color:orange;\">???.jl</mark>\n",
    "</code>\n",
    "</pre>\n",
    "</figure>"
   ]
  },
  {
   "cell_type": "markdown",
   "metadata": {},
   "source": [
    "* <mark style=\"background-color:red\"><big>module</big></mark> &nbsp;&nbsp; \n",
    "<mark style=\"background-color:orange\">submodules</mark>&nbsp;&nbsp;\n",
    "<i>functions</i>"
   ]
  },
  {
   "cell_type": "markdown",
   "metadata": {},
   "source": [
    "## Help function"
   ]
  },
  {
   "cell_type": "code",
   "execution_count": 1,
   "metadata": {
    "collapsed": false
   },
   "outputs": [],
   "source": [
    "using JWAS.ST\n",
    "using JWAS.MT"
   ]
  },
  {
   "cell_type": "code",
   "execution_count": 2,
   "metadata": {
    "collapsed": false
   },
   "outputs": [
    {
     "name": "stdout",
     "output_type": "stream",
     "text": [
      "search: runMCMC\n",
      "\n"
     ]
    },
    {
     "data": {
      "text/latex": [
       "\\begin{verbatim}\n",
       "runMCMC(mme,df;Pi=0.0,chain_length=1000,starting_value=false,printout_frequency=100,estimatePi=false,methods=\"no markers\",output_marker_effects_frequency::Int64 = 0)\n",
       "\\end{verbatim}\n",
       "Run MCMC (marker information included or not) with sampling of variance components. Available methods include \"no markers\", \"BayesB\", \"BayesC\".\n"
      ],
      "text/markdown": [
       "```\n",
       "runMCMC(mme,df;Pi=0.0,chain_length=1000,starting_value=false,printout_frequency=100,estimatePi=false,methods=\"no markers\",output_marker_effects_frequency::Int64 = 0)\n",
       "```\n",
       "\n",
       "Run MCMC (marker information included or not) with sampling of variance components. Available methods include \"no markers\", \"BayesB\", \"BayesC\".\n"
      ],
      "text/plain": [
       "```\n",
       "runMCMC(mme,df;Pi=0.0,chain_length=1000,starting_value=false,printout_frequency=100,estimatePi=false,methods=\"no markers\",output_marker_effects_frequency::Int64 = 0)\n",
       "```\n",
       "\n",
       "Run MCMC (marker information included or not) with sampling of variance components. Available methods include \"no markers\", \"BayesB\", \"BayesC\".\n"
      ]
     },
     "execution_count": 2,
     "metadata": {},
     "output_type": "execute_result"
    }
   ],
   "source": [
    "?runMCMC"
   ]
  },
  {
   "cell_type": "code",
   "execution_count": 3,
   "metadata": {
    "collapsed": false
   },
   "outputs": [
    {
     "data": {
      "text/latex": [
       "\\begin{verbatim}\n",
       "runMCMC(mme,df;Pi=0.0,chain_length=1000,starting_value=false,printout_frequency=100,missing_phenotypes= false,methods=\"no markers\",output_marker_effects_frequency::Int64 = 0)\n",
       "\\end{verbatim}\n",
       "Run MCMC (marker information included or not) with sampling of variance components. Available methods include \"no markers\", \"BayesC0\", \"BayesC\", \"BayesCC\". Pi is a dictionary such as \\texttt{Pi=Dict([1.0; 1.0]=>0.7,[1.0; 0.0]=>0.1,[0.0; 1.0]=>0.1,[0.0; 0.0]=>0.1)}\n"
      ],
      "text/markdown": [
       "```\n",
       "runMCMC(mme,df;Pi=0.0,chain_length=1000,starting_value=false,printout_frequency=100,missing_phenotypes= false,methods=\"no markers\",output_marker_effects_frequency::Int64 = 0)\n",
       "```\n",
       "\n",
       "Run MCMC (marker information included or not) with sampling of variance components. Available methods include \"no markers\", \"BayesC0\", \"BayesC\", \"BayesCC\". Pi is a dictionary such as `Pi=Dict([1.0; 1.0]=>0.7,[1.0; 0.0]=>0.1,[0.0; 1.0]=>0.1,[0.0; 0.0]=>0.1)`\n"
      ],
      "text/plain": [
       "```\n",
       "runMCMC(mme,df;Pi=0.0,chain_length=1000,starting_value=false,printout_frequency=100,missing_phenotypes= false,methods=\"no markers\",output_marker_effects_frequency::Int64 = 0)\n",
       "```\n",
       "\n",
       "Run MCMC (marker information included or not) with sampling of variance components. Available methods include \"no markers\", \"BayesC0\", \"BayesC\", \"BayesCC\". Pi is a dictionary such as `Pi=Dict([1.0; 1.0]=>0.7,[1.0; 0.0]=>0.1,[0.0; 1.0]=>0.1,[0.0; 0.0]=>0.1)`\n"
      ]
     },
     "execution_count": 3,
     "metadata": {},
     "output_type": "execute_result"
    }
   ],
   "source": [
    "?MT.runMCMC"
   ]
  }
 ],
 "metadata": {
  "kernelspec": {
   "display_name": "Julia 0.4.5",
   "language": "julia",
   "name": "julia-0.4"
  },
  "language_info": {
   "file_extension": ".jl",
   "mimetype": "application/julia",
   "name": "julia",
   "version": "0.4.5"
  }
 },
 "nbformat": 4,
 "nbformat_minor": 0
}
