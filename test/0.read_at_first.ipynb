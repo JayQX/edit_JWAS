{
 "cells": [
  {
   "cell_type": "markdown",
   "metadata": {},
   "source": [
    "## JWAS Module"
   ]
  },
  {
   "cell_type": "code",
   "execution_count": 2,
   "metadata": {
    "collapsed": false
   },
   "outputs": [],
   "source": [
    "using JWAS"
   ]
  },
  {
   "cell_type": "code",
   "execution_count": 3,
   "metadata": {
    "collapsed": false
   },
   "outputs": [
    {
     "name": "stdout",
     "output_type": "stream",
     "text": [
      "search: JWAS\n",
      "\n"
     ]
    },
    {
     "data": {
      "text/latex": [
       "\\section{JWAS.jl}\n",
       "\\href{https://travis-ci.org/reworkhow/JWAS.jl}{\\begin{figure}\n",
       "\\centering\n",
       "\\includegraphics{https://travis-ci.org/reworkhow/JWAS.jl.svg?branch=master}\n",
       "\\caption{Build Status}\n",
       "\\end{figure}\n",
       "}\n",
       "JWAS.jl is an open-source software tool written in Julia for Bayesian multiple regression methods applied to genome-wide association studies and genomic prediction.\n",
       "\\begin{itemize}\n",
       "\\item \\textbf{homepage}: \\href{http://QTL.rocks}{QTL.rocks}\n",
       "\\item \\textbf{Installation}: at the Julia REPL, \\texttt{Pkg.add(\"JWAS\")}\n",
       "\\item {\\sim}{\\sim}\\textbf{Documentation}: \\href{http://jwasjl.readthedocs.org/en/latest/}{available here}{\\sim}{\\sim}\n",
       "\\item \\textbf{Examples}: \\href{http://nbviewer.jupyter.org/github/reworkhow/JWAS.jl/tree/master/test/}{available here}\n",
       "\\end{itemize}\n",
       "\\subsubsection{Structure of JWAS Module}\n",
       "\\begin{verbatim}\n",
       "JWAS.jl\n",
       "\n",
       "├──────── PedModule.jl\n",
       "\n",
       "├──────── ST.jl\n",
       "           ├── build_model\n",
       "           ├── set_covariate\n",
       "           ├── set_random\n",
       "           ├── get_pedigree\n",
       "           ├── add_markers\n",
       "           ├── outputMCMCsamples\n",
       "           ├── showMME\n",
       "           ├── solve\n",
       "           └── runMCMC\n",
       "\n",
       "├──────── MT.jl\n",
       "           ├── MT.build_model\n",
       "           ├── MT.set_covariate\n",
       "           ├── MT.set_random\n",
       "           ├── MT.get_pedigree\n",
       "           ├── MT.add_markers\n",
       "           ├── MT.showMME\n",
       "           ├── MT.solve\n",
       "           └── MT.runMCMC\n",
       "\n",
       "├──────── QTL.jl\n",
       "           ├── get_additive_genetic_variances\n",
       "           └── get_breeding_values\n",
       "           \n",
       "├──────── Datasets.jl\n",
       "\n",
       "\\end{verbatim}\n",
       "\\subsubsection{Help}\n",
       "\\begin{enumerate}\n",
       "\\item Show this README file in REPL or notebook using \\texttt{?JWAS}\n",
       "\\item For help on a specific function above, type ? followed by its name, e.g. \\texttt{?runMCMC} and press enter.\n",
       "\\item Run \\texttt{Pkg.checkout(\"JWAS\")} to get the newest unofficial JWAS. Run \\texttt{Pkg.free(\"JWAS\")} to go back to the offical one.\n",
       "\\end{enumerate}\n"
      ],
      "text/markdown": [
       "# JWAS.jl\n",
       "\n",
       "[![Build Status](https://travis-ci.org/reworkhow/JWAS.jl.svg?branch=master)](https://travis-ci.org/reworkhow/JWAS.jl)\n",
       "\n",
       "JWAS.jl is an open-source software tool written in Julia for Bayesian multiple regression methods applied to genome-wide association studies and genomic prediction.\n",
       "\n",
       "  * **homepage**: [QTL.rocks](http://QTL.rocks)\n",
       "  * **Installation**: at the Julia REPL, `Pkg.add(\"JWAS\")`\n",
       "  * ~~**Documentation**: [available here](http://jwasjl.readthedocs.org/en/latest/)~~\n",
       "  * **Examples**: [available here](http://nbviewer.jupyter.org/github/reworkhow/JWAS.jl/tree/master/test/)\n",
       "\n",
       "### Structure of JWAS Module\n",
       "\n",
       "```\n",
       "JWAS.jl\n",
       "\n",
       "├──────── PedModule.jl\n",
       "\n",
       "├──────── ST.jl\n",
       "           ├── build_model\n",
       "           ├── set_covariate\n",
       "           ├── set_random\n",
       "           ├── get_pedigree\n",
       "           ├── add_markers\n",
       "           ├── outputMCMCsamples\n",
       "           ├── showMME\n",
       "           ├── solve\n",
       "           └── runMCMC\n",
       "\n",
       "├──────── MT.jl\n",
       "           ├── MT.build_model\n",
       "           ├── MT.set_covariate\n",
       "           ├── MT.set_random\n",
       "           ├── MT.get_pedigree\n",
       "           ├── MT.add_markers\n",
       "           ├── MT.showMME\n",
       "           ├── MT.solve\n",
       "           └── MT.runMCMC\n",
       "\n",
       "├──────── QTL.jl\n",
       "           ├── get_additive_genetic_variances\n",
       "           └── get_breeding_values\n",
       "           \n",
       "├──────── Datasets.jl\n",
       "\n",
       "```\n",
       "\n",
       "### Help\n",
       "\n",
       "1. Show this README file in REPL or notebook using `?JWAS`\n",
       "2. For help on a specific function above, type ? followed by its name, e.g. `?runMCMC` and press enter.\n",
       "3. Run `Pkg.checkout(\"JWAS\")` to get the newest unofficial JWAS. Run `Pkg.free(\"JWAS\")` to go back to the offical one.\n"
      ],
      "text/plain": [
       "# JWAS.jl\n",
       "\n",
       "[![Build Status](https://travis-ci.org/reworkhow/JWAS.jl.svg?branch=master)](https://travis-ci.org/reworkhow/JWAS.jl)\n",
       "\n",
       "JWAS.jl is an open-source software tool written in Julia for Bayesian multiple regression methods applied to genome-wide association studies and genomic prediction.\n",
       "\n",
       "  * **homepage**: [QTL.rocks](http://QTL.rocks)\n",
       "  * **Installation**: at the Julia REPL, `Pkg.add(\"JWAS\")`\n",
       "  * ~~**Documentation**: [available here](http://jwasjl.readthedocs.org/en/latest/)~~\n",
       "  * **Examples**: [available here](http://nbviewer.jupyter.org/github/reworkhow/JWAS.jl/tree/master/test/)\n",
       "\n",
       "### Structure of JWAS Module\n",
       "\n",
       "```\n",
       "JWAS.jl\n",
       "\n",
       "├──────── PedModule.jl\n",
       "\n",
       "├──────── ST.jl\n",
       "           ├── build_model\n",
       "           ├── set_covariate\n",
       "           ├── set_random\n",
       "           ├── get_pedigree\n",
       "           ├── add_markers\n",
       "           ├── outputMCMCsamples\n",
       "           ├── showMME\n",
       "           ├── solve\n",
       "           └── runMCMC\n",
       "\n",
       "├──────── MT.jl\n",
       "           ├── MT.build_model\n",
       "           ├── MT.set_covariate\n",
       "           ├── MT.set_random\n",
       "           ├── MT.get_pedigree\n",
       "           ├── MT.add_markers\n",
       "           ├── MT.showMME\n",
       "           ├── MT.solve\n",
       "           └── MT.runMCMC\n",
       "\n",
       "├──────── QTL.jl\n",
       "           ├── get_additive_genetic_variances\n",
       "           └── get_breeding_values\n",
       "           \n",
       "├──────── Datasets.jl\n",
       "\n",
       "```\n",
       "\n",
       "### Help\n",
       "\n",
       "1. Show this README file in REPL or notebook using `?JWAS`\n",
       "2. For help on a specific function above, type ? followed by its name, e.g. `?runMCMC` and press enter.\n",
       "3. Run `Pkg.checkout(\"JWAS\")` to get the newest unofficial JWAS. Run `Pkg.free(\"JWAS\")` to go back to the offical one.\n"
      ]
     },
     "execution_count": 3,
     "metadata": {},
     "output_type": "execute_result"
    }
   ],
   "source": [
    "?JWAS"
   ]
  },
  {
   "cell_type": "code",
   "execution_count": 7,
   "metadata": {
    "collapsed": false
   },
   "outputs": [],
   "source": [
    "using JWAS: ST,MT,Datasets,PedModule,QTL\n",
    "#using JWAS.MT,JWAS.ST,JWAS.Datasets,JWAS.PedModule,JWAS.QTL"
   ]
  },
  {
   "cell_type": "code",
   "execution_count": 8,
   "metadata": {
    "collapsed": false
   },
   "outputs": [
    {
     "data": {
      "text/latex": [
       "\\begin{verbatim}\n",
       "add_markers(mme::MME,file,G::Array{Float64,2});separator=' ',header=true,G_is_marker_variance=false)\n",
       "\\end{verbatim}\n",
       "\\begin{itemize}\n",
       "\\item Get marker informtion from a genotype file (same order as the phenotype file).\n",
       "\\item File format:\n",
       "\\end{itemize}\n",
       "\\begin{verbatim}\n",
       "Animal,marker1,marker2,marker3,marker4,marker5\n",
       "S1,1,0,1,1,1\n",
       "D1,2,0,2,2,1\n",
       "O1,1,2,0,1,0\n",
       "O3,0,0,2,1,1\n",
       "\\end{verbatim}\n"
      ],
      "text/markdown": [
       "```\n",
       "add_markers(mme::MME,file,G::Array{Float64,2});separator=' ',header=true,G_is_marker_variance=false)\n",
       "```\n",
       "\n",
       "  * Get marker informtion from a genotype file (same order as the phenotype file).\n",
       "  * File format:\n",
       "\n",
       "```\n",
       "Animal,marker1,marker2,marker3,marker4,marker5\n",
       "S1,1,0,1,1,1\n",
       "D1,2,0,2,2,1\n",
       "O1,1,2,0,1,0\n",
       "O3,0,0,2,1,1\n",
       "```\n"
      ],
      "text/plain": [
       "```\n",
       "add_markers(mme::MME,file,G::Array{Float64,2});separator=' ',header=true,G_is_marker_variance=false)\n",
       "```\n",
       "\n",
       "  * Get marker informtion from a genotype file (same order as the phenotype file).\n",
       "  * File format:\n",
       "\n",
       "```\n",
       "Animal,marker1,marker2,marker3,marker4,marker5\n",
       "S1,1,0,1,1,1\n",
       "D1,2,0,2,2,1\n",
       "O1,1,2,0,1,0\n",
       "O3,0,0,2,1,1\n",
       "```\n"
      ]
     },
     "execution_count": 8,
     "metadata": {},
     "output_type": "execute_result"
    }
   ],
   "source": [
    "?MT.add_markers"
   ]
  }
 ],
 "metadata": {
  "kernelspec": {
   "display_name": "Julia 0.4.6",
   "language": "julia",
   "name": "julia-0.4"
  },
  "language_info": {
   "file_extension": ".jl",
   "mimetype": "application/julia",
   "name": "julia",
   "version": "0.4.6"
  }
 },
 "nbformat": 4,
 "nbformat_minor": 0
}
