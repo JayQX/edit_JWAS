{
 "cells": [
  {
   "cell_type": "markdown",
   "metadata": {},
   "source": [
    "## Structure of JWAS Module"
   ]
  },
  {
   "cell_type": "code",
   "execution_count": null,
   "metadata": {
    "collapsed": false
   },
   "outputs": [],
   "source": [
    "from IPython.display import HTML"
   ]
  },
  {
   "cell_type": "markdown",
   "metadata": {},
   "source": [
    "<code>\n",
    "<mark style=\"background-color:red;\"><big>JWAS.jl</big></mark>\n",
    "\n",
    "\n",
    "├──────── <mark style=\"background-color:orange;\">PedModule.jl</mark>\n",
    "\n",
    "\n",
    "├──────── <mark style=\"background-color:orange;\">ST.jl</mark>\n",
    "           \n",
    "           ├── *build_model*\n",
    "           \n",
    "           ├── *set_covariate*\n",
    "           \n",
    "           ├── *set_random*\n",
    "           \n",
    "           ├── *get_pedigree*\n",
    "           \n",
    "           ├── *add_markers*\n",
    "           \n",
    "           ├── *outputMCMCsamples*\n",
    "           \n",
    "           ├── *showMME*\n",
    "           \n",
    "           ├── *solve*\n",
    "           \n",
    "           └── *runMCMC*\n",
    "\n",
    "├──────── <mark style=\"background-color:orange;\">MT.jl</mark>\n",
    "           \n",
    "           ├── *MT.build_model*\n",
    "           \n",
    "           ├── *MT.set_covariate*\n",
    "           \n",
    "           ├── *MT.set_random*\n",
    "           \n",
    "           ├── *MT.get_pedigree*\n",
    "           \n",
    "           ├── *MT.add_markers*\n",
    "           \n",
    "           ├── *MT.showMME*\n",
    "           \n",
    "           ├── *MT.solve*\n",
    "           \n",
    "           └── *MT.runMCMC*\n",
    "\n",
    "├──────── <mark style=\"background-color:orange;\">???.jl</mark>\n",
    "</code>"
   ]
  },
  {
   "cell_type": "markdown",
   "metadata": {},
   "source": [
    "* <mark style=\"background-color:red\"><big>module</big></mark>\n",
    "* <mark style=\"background-color:orange\">submodules</mark>\n",
    "* *functions*"
   ]
  },
  {
   "cell_type": "markdown",
   "metadata": {},
   "source": [
    "## Help function"
   ]
  },
  {
   "cell_type": "code",
   "execution_count": 3,
   "metadata": {
    "collapsed": true
   },
   "outputs": [],
   "source": [
    "using JWAS.ST\n",
    "using JWAS.MT"
   ]
  },
  {
   "cell_type": "code",
   "execution_count": 4,
   "metadata": {
    "collapsed": false
   },
   "outputs": [
    {
     "name": "stdout",
     "output_type": "stream",
     "text": [
      "search: runMCMC\n",
      "\n"
     ]
    },
    {
     "data": {
      "text/latex": [
       "\\begin{verbatim}\n",
       "runMCMC(mme,df;Pi=0.0,chain_length=1000,starting_value=false,printout_frequency=100,estimatePi=false,methods=\"no markers\",output_marker_effects_frequency::Int64 = 0)\n",
       "\\end{verbatim}\n",
       "Run MCMC (marker information included or not) with sampling of variance components. Available methods include \"no markers\", \"BayesB\", \"BayesC\".\n"
      ],
      "text/markdown": [
       "```\n",
       "runMCMC(mme,df;Pi=0.0,chain_length=1000,starting_value=false,printout_frequency=100,estimatePi=false,methods=\"no markers\",output_marker_effects_frequency::Int64 = 0)\n",
       "```\n",
       "\n",
       "Run MCMC (marker information included or not) with sampling of variance components. Available methods include \"no markers\", \"BayesB\", \"BayesC\".\n"
      ],
      "text/plain": [
       "```\n",
       "runMCMC(mme,df;Pi=0.0,chain_length=1000,starting_value=false,printout_frequency=100,estimatePi=false,methods=\"no markers\",output_marker_effects_frequency::Int64 = 0)\n",
       "```\n",
       "\n",
       "Run MCMC (marker information included or not) with sampling of variance components. Available methods include \"no markers\", \"BayesB\", \"BayesC\".\n"
      ]
     },
     "execution_count": 4,
     "metadata": {},
     "output_type": "execute_result"
    }
   ],
   "source": [
    "?runMCMC"
   ]
  },
  {
   "cell_type": "code",
   "execution_count": 5,
   "metadata": {
    "collapsed": false
   },
   "outputs": [
    {
     "data": {
      "text/latex": [
       "\\begin{verbatim}\n",
       "runMCMC(mme,df;Pi=0.0,chain_length=1000,starting_value=false,printout_frequency=100,missing_phenotypes= false,methods=\"no markers\",output_marker_effects_frequency::Int64 = 0)\n",
       "\\end{verbatim}\n",
       "Run MCMC (marker information included or not) with sampling of variance components. Available methods include \"no markers\", \"BayesC0\", \"BayesC\", \"BayesCC\". Pi is a dictionary such as \\texttt{Pi=Dict([1.0; 1.0]=>0.7,[1.0; 0.0]=>0.1,[0.0; 1.0]=>0.1,[0.0; 0.0]=>0.1)}\n"
      ],
      "text/markdown": [
       "```\n",
       "runMCMC(mme,df;Pi=0.0,chain_length=1000,starting_value=false,printout_frequency=100,missing_phenotypes= false,methods=\"no markers\",output_marker_effects_frequency::Int64 = 0)\n",
       "```\n",
       "\n",
       "Run MCMC (marker information included or not) with sampling of variance components. Available methods include \"no markers\", \"BayesC0\", \"BayesC\", \"BayesCC\". Pi is a dictionary such as `Pi=Dict([1.0; 1.0]=>0.7,[1.0; 0.0]=>0.1,[0.0; 1.0]=>0.1,[0.0; 0.0]=>0.1)`\n"
      ],
      "text/plain": [
       "```\n",
       "runMCMC(mme,df;Pi=0.0,chain_length=1000,starting_value=false,printout_frequency=100,missing_phenotypes= false,methods=\"no markers\",output_marker_effects_frequency::Int64 = 0)\n",
       "```\n",
       "\n",
       "Run MCMC (marker information included or not) with sampling of variance components. Available methods include \"no markers\", \"BayesC0\", \"BayesC\", \"BayesCC\". Pi is a dictionary such as `Pi=Dict([1.0; 1.0]=>0.7,[1.0; 0.0]=>0.1,[0.0; 1.0]=>0.1,[0.0; 0.0]=>0.1)`\n"
      ]
     },
     "execution_count": 5,
     "metadata": {},
     "output_type": "execute_result"
    }
   ],
   "source": [
    "?MT.runMCMC"
   ]
  }
 ],
 "metadata": {
  "kernelspec": {
   "display_name": "Julia 0.4.5",
   "language": "julia",
   "name": "julia-0.4"
  },
  "language_info": {
   "file_extension": ".jl",
   "mimetype": "application/julia",
   "name": "julia",
   "version": "0.4.5"
  }
 },
 "nbformat": 4,
 "nbformat_minor": 0
}
