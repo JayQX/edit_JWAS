{
 "cells": [
  {
   "cell_type": "markdown",
   "metadata": {},
   "source": [
    "## Structure of JWAS Module"
   ]
  },
  {
   "cell_type": "markdown",
   "metadata": {},
   "source": [
    "JWAS.jl\n",
    "├──────── PedModule.jl\n",
    "\n",
    "├──────── ST.jl\n",
    "           ├── build_model\n",
    "           ├── begin-with-the-crazy-ideas.textile\n",
    "           ├── begin-with-the-crazy-ideas.textile\n",
    "           ├── begin-with-the-crazy-ideas.textile\n",
    "           ├── begin-with-the-crazy-ideas.textile\n",
    "           ├── begin-with-the-crazy-ideas.textile\n",
    "           └── on-simplicity-in-technology.markdown\n",
    "├──────── MT.jl\n",
    "           ├── begin-with-the-crazy-ideas.textile\n",
    "           └── on-simplicity-in-technology.markdown\n",
    "├──────── XXX.jl"
   ]
  }
 ],
 "metadata": {
  "kernelspec": {
   "display_name": "Julia 0.4.5",
   "language": "julia",
   "name": "julia-0.4"
  },
  "language_info": {
   "file_extension": ".jl",
   "mimetype": "application/julia",
   "name": "julia",
   "version": "0.4.5"
  }
 },
 "nbformat": 4,
 "nbformat_minor": 0
}
