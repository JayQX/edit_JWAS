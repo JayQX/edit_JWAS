{
 "cells": [
  {
   "cell_type": "markdown",
   "metadata": {},
   "source": [
    "## Structure of JWAS Module"
   ]
  },
  {
   "cell_type": "markdown",
   "metadata": {},
   "source": [
    "<figure class=\"highlight\"><pre><code class=\"language-shell\" data-lang=\"shell\">\n",
    "<mark style=\"background-color:red;\"><big>JWAS.jl</big></mark>\n",
    "\n",
    "├──────── <mark style=\"background-color:orange;\">PedModule.jl</mark>\n",
    "\n",
    "├──────── <mark style=\"background-color:orange;\">ST.jl</mark>\n",
    "           ├── <i>build_model</i>\n",
    "           ├── <i>set_covariate</i>\n",
    "           ├── <i>set_random</i>\n",
    "           ├── <i>get_pedigree</i>\n",
    "           ├── <i>add_markers</i>\n",
    "           ├── <i>outputMCMCsamples</i>\n",
    "           ├── <i>showMME</i>\n",
    "           ├── <i>solve</i>\n",
    "           └── <i>runMCMC</i>\n",
    "\n",
    "├──────── <mark style=\"background-color:orange;\">MT.jl</mark>\n",
    "           ├── <i>MT.build_model</i>\n",
    "           ├── <i>MT.set_covariate</i>\n",
    "           ├── <i>MT.set_random</i>\n",
    "           ├── <i>MT.get_pedigree</i>\n",
    "           ├── <i>MT.add_markers</i>\n",
    "           ├── <i>MT.showMME</i>\n",
    "           ├── <i>MT.solve</i>\n",
    "           └── <i>MT.runMCMC</i>\n",
    "\n",
    "├──────── <mark style=\"background-color:orange;\">???.jl</mark>\n",
    "</code>\n",
    "</pre>\n",
    "</figure>"
   ]
  },
  {
   "cell_type": "markdown",
   "metadata": {},
   "source": [
    "* <mark style=\"background-color:red\"><big>module</big></mark> &nbsp;&nbsp; \n",
    "<mark style=\"background-color:orange\">submodules</mark>&nbsp;&nbsp;\n",
    "<i>functions</i>"
   ]
  },
  {
   "cell_type": "markdown",
   "metadata": {},
   "source": [
    "## Help function"
   ]
  },
  {
   "cell_type": "code",
   "execution_count": 1,
   "metadata": {
    "collapsed": false
   },
   "outputs": [],
   "source": [
    "using JWAS.ST\n",
    "using JWAS.MT"
   ]
  },
  {
   "cell_type": "code",
   "execution_count": 2,
   "metadata": {
    "collapsed": false
   },
   "outputs": [
    {
     "name": "stdout",
     "output_type": "stream",
     "text": [
      "search: runMCMC\n",
      "\n"
     ]
    },
    {
     "data": {
      "text/latex": [
       "\\begin{verbatim}\n",
       "runMCMC(mme,df;Pi=0.0,chain_length=1000,starting_value=false,printout_frequency=100,estimatePi=false,methods=\"no markers\",output_marker_effects_frequency::Int64 = 0)\n",
       "\\end{verbatim}\n",
       "Run MCMC (marker information included or not) with sampling of variance components. Available methods include \"no markers\", \"BayesB\", \"BayesC\".\n"
      ],
      "text/markdown": [
       "```\n",
       "runMCMC(mme,df;Pi=0.0,chain_length=1000,starting_value=false,printout_frequency=100,estimatePi=false,methods=\"no markers\",output_marker_effects_frequency::Int64 = 0)\n",
       "```\n",
       "\n",
       "Run MCMC (marker information included or not) with sampling of variance components. Available methods include \"no markers\", \"BayesB\", \"BayesC\".\n"
      ],
      "text/plain": [
       "```\n",
       "runMCMC(mme,df;Pi=0.0,chain_length=1000,starting_value=false,printout_frequency=100,estimatePi=false,methods=\"no markers\",output_marker_effects_frequency::Int64 = 0)\n",
       "```\n",
       "\n",
       "Run MCMC (marker information included or not) with sampling of variance components. Available methods include \"no markers\", \"BayesB\", \"BayesC\".\n"
      ]
     },
     "execution_count": 2,
     "metadata": {},
     "output_type": "execute_result"
    }
   ],
   "source": [
    "?runMCMC"
   ]
  },
  {
   "cell_type": "code",
   "execution_count": 3,
   "metadata": {
    "collapsed": true
   },
   "outputs": [],
   "source": [
    "using Base.Markdown"
   ]
  },
  {
   "cell_type": "code",
   "execution_count": 5,
   "metadata": {
    "collapsed": false
   },
   "outputs": [
    {
     "data": {
      "text/latex": [
       "\\section{JWAS.jl}\n",
       "\\href{https://travis-ci.org/reworkhow/JWAS.jl}{\\begin{figure}\n",
       "\\centering\n",
       "\\includegraphics{https://travis-ci.org/reworkhow/JWAS.jl.svg?branch=master}\n",
       "\\caption{Build Status}\n",
       "\\end{figure}\n",
       "}\n",
       "JWAS.jl is an open-source software tool written in Julia for Bayesian multiple regression methods applied to genome-wide association studies and genomic prediction.\n",
       "\\begin{itemize}\n",
       "\\item \\textbf{homepage}: \\href{http://QTL.rocks}{QTL.rocks}\n",
       "\\item \\textbf{Installation}: at the Julia REPL, \\texttt{Pkg.clone(\"https://github.com/reworkhow/JWAS.jl.git\")}\n",
       "\\item {\\sim}{\\sim}\\textbf{Documentation}: \\href{http://jwasjl.readthedocs.org/en/latest/}{available here}{\\sim}{\\sim}\n",
       "\\item \\textbf{Examples}: \\href{http://nbviewer.jupyter.org/github/reworkhow/JWAS.jl/tree/master/test/}{available here}\n",
       "\\end{itemize}\n",
       "\\subsection{Structure of JWAS Module}\n",
       "<figure class=\"highlight\"><pre><code class=\"language-shell\" data-lang=\"shell\">\n",
       "<mark style=\"background-color:red;\"><big>JWAS.jl</big></mark>\n",
       "├──────── <mark style=\"background-color:orange;\">PedModule.jl</mark>\n",
       "├──────── <mark style=\"background-color:orange;\">ST.jl</mark>\n",
       "           ├── <i>build\\_model</i>\n",
       "           ├── <i>set\\_covariate</i>\n",
       "           ├── <i>set\\_random</i>\n",
       "           ├── <i>get\\_pedigree</i>\n",
       "           ├── <i>add\\_markers</i>\n",
       "           ├── <i>outputMCMCsamples</i>\n",
       "           ├── <i>showMME</i>\n",
       "           ├── <i>solve</i>\n",
       "           └── <i>runMCMC</i>\n",
       "├──────── <mark style=\"background-color:orange;\">MT.jl</mark>\n",
       "           ├── <i>MT.build\\_model</i>\n",
       "           ├── <i>MT.set\\_covariate</i>\n",
       "           ├── <i>MT.set\\_random</i>\n",
       "           ├── <i>MT.get\\_pedigree</i>\n",
       "           ├── <i>MT.add\\_markers</i>\n",
       "           ├── <i>MT.showMME</i>\n",
       "           ├── <i>MT.solve</i>\n",
       "           └── <i>MT.runMCMC</i>\n",
       "├──────── <mark style=\"background-color:orange;\">???.jl</mark>\n",
       "</code>\n",
       "</pre>\n",
       "</figure>\n"
      ],
      "text/markdown": [
       "# JWAS.jl\n",
       "\n",
       "[![Build Status](https://travis-ci.org/reworkhow/JWAS.jl.svg?branch=master)](https://travis-ci.org/reworkhow/JWAS.jl)\n",
       "\n",
       "JWAS.jl is an open-source software tool written in Julia for Bayesian multiple regression methods applied to genome-wide association studies and genomic prediction.\n",
       "\n",
       "  * **homepage**: [QTL.rocks](http://QTL.rocks)\n",
       "  * **Installation**: at the Julia REPL, `Pkg.clone(\"https://github.com/reworkhow/JWAS.jl.git\")`\n",
       "  * ~~**Documentation**: [available here](http://jwasjl.readthedocs.org/en/latest/)~~\n",
       "  * **Examples**: [available here](http://nbviewer.jupyter.org/github/reworkhow/JWAS.jl/tree/master/test/)\n",
       "\n",
       "## Structure of JWAS Module\n",
       "\n",
       "<figure class=\"highlight\"><pre><code class=\"language-shell\" data-lang=\"shell\">\n",
       "<mark style=\"background-color:red;\"><big>JWAS.jl</big></mark>\n",
       "\n",
       "├──────── <mark style=\"background-color:orange;\">PedModule.jl</mark>\n",
       "\n",
       "├──────── <mark style=\"background-color:orange;\">ST.jl</mark>\n",
       "           ├── <i>build_model</i>\n",
       "           ├── <i>set_covariate</i>\n",
       "           ├── <i>set_random</i>\n",
       "           ├── <i>get_pedigree</i>\n",
       "           ├── <i>add_markers</i>\n",
       "           ├── <i>outputMCMCsamples</i>\n",
       "           ├── <i>showMME</i>\n",
       "           ├── <i>solve</i>\n",
       "           └── <i>runMCMC</i>\n",
       "\n",
       "├──────── <mark style=\"background-color:orange;\">MT.jl</mark>\n",
       "           ├── <i>MT.build_model</i>\n",
       "           ├── <i>MT.set_covariate</i>\n",
       "           ├── <i>MT.set_random</i>\n",
       "           ├── <i>MT.get_pedigree</i>\n",
       "           ├── <i>MT.add_markers</i>\n",
       "           ├── <i>MT.showMME</i>\n",
       "           ├── <i>MT.solve</i>\n",
       "           └── <i>MT.runMCMC</i>\n",
       "\n",
       "├──────── <mark style=\"background-color:orange;\">???.jl</mark>\n",
       "</code>\n",
       "</pre>\n",
       "</figure>\n"
      ],
      "text/plain": [
       "# JWAS.jl\n",
       "\n",
       "[![Build Status](https://travis-ci.org/reworkhow/JWAS.jl.svg?branch=master)](https://travis-ci.org/reworkhow/JWAS.jl)\n",
       "\n",
       "JWAS.jl is an open-source software tool written in Julia for Bayesian multiple regression methods applied to genome-wide association studies and genomic prediction.\n",
       "\n",
       "  * **homepage**: [QTL.rocks](http://QTL.rocks)\n",
       "  * **Installation**: at the Julia REPL, `Pkg.clone(\"https://github.com/reworkhow/JWAS.jl.git\")`\n",
       "  * ~~**Documentation**: [available here](http://jwasjl.readthedocs.org/en/latest/)~~\n",
       "  * **Examples**: [available here](http://nbviewer.jupyter.org/github/reworkhow/JWAS.jl/tree/master/test/)\n",
       "\n",
       "## Structure of JWAS Module\n",
       "\n",
       "<figure class=\"highlight\"><pre><code class=\"language-shell\" data-lang=\"shell\">\n",
       "<mark style=\"background-color:red;\"><big>JWAS.jl</big></mark>\n",
       "\n",
       "├──────── <mark style=\"background-color:orange;\">PedModule.jl</mark>\n",
       "\n",
       "├──────── <mark style=\"background-color:orange;\">ST.jl</mark>\n",
       "           ├── <i>build_model</i>\n",
       "           ├── <i>set_covariate</i>\n",
       "           ├── <i>set_random</i>\n",
       "           ├── <i>get_pedigree</i>\n",
       "           ├── <i>add_markers</i>\n",
       "           ├── <i>outputMCMCsamples</i>\n",
       "           ├── <i>showMME</i>\n",
       "           ├── <i>solve</i>\n",
       "           └── <i>runMCMC</i>\n",
       "\n",
       "├──────── <mark style=\"background-color:orange;\">MT.jl</mark>\n",
       "           ├── <i>MT.build_model</i>\n",
       "           ├── <i>MT.set_covariate</i>\n",
       "           ├── <i>MT.set_random</i>\n",
       "           ├── <i>MT.get_pedigree</i>\n",
       "           ├── <i>MT.add_markers</i>\n",
       "           ├── <i>MT.showMME</i>\n",
       "           ├── <i>MT.solve</i>\n",
       "           └── <i>MT.runMCMC</i>\n",
       "\n",
       "├──────── <mark style=\"background-color:orange;\">???.jl</mark>\n",
       "</code>\n",
       "</pre>\n",
       "</figure>\n"
      ]
     },
     "execution_count": 5,
     "metadata": {},
     "output_type": "execute_result"
    }
   ],
   "source": [
    "readme(\"JWAS\")"
   ]
  }
 ],
 "metadata": {
  "kernelspec": {
   "display_name": "Julia 0.4.5",
   "language": "julia",
   "name": "julia-0.4"
  },
  "language_info": {
   "file_extension": ".jl",
   "mimetype": "application/julia",
   "name": "julia",
   "version": "0.4.5"
  }
 },
 "nbformat": 4,
 "nbformat_minor": 0
}
