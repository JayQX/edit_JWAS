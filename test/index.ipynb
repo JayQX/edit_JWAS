{
 "cells": [
  {
   "cell_type": "markdown",
   "metadata": {},
   "source": [
    "<nav class=\"navbar navbar-inverse\">\n",
    "  <div class=\"container-fluid\">\n",
    "    <ul class=\"nav navbar-nav\">\n",
    "      <li class=\"active\"><a href=\"#\">Home</a></li>\n",
    "      <li><a href=\"#\">Examples</a></li>\n",
    "      <li><a href=\"#\">Theory</a></li> \n",
    "      <li><a href=\"#\">Page 3</a></li> \n",
    "    </ul>\n",
    "  </div>\n",
    "</nav>\n",
    "\n",
    "<body>\n",
    "<nav class=\"navbar navbar-default\">\n",
    "  <div class=\"container-fluid\">\n",
    "    <ul class=\"nav navbar-nav\">\n",
    "      <li class=\"active\"><a href=\"#\">Home</a></li>\n",
    "      <li><a href=\"#\">Examples</a></li>\n",
    "      <li><a href=\"#\">Theory</a></li> \n",
    "      <li><a href=\"#\">Page 3</a></li> \n",
    "    </ul>\n",
    "  </div>\n",
    "</nav>\n"
   ]
  },
  {
   "cell_type": "markdown",
   "metadata": {},
   "source": [
    "<div class=\"jumbotron\">\n",
    "  <h1>JWAS</h1>\n",
    "  <p>Julia for Whole-genome Analyses Software </p> \n",
    "</div>"
   ]
  },
  {
   "cell_type": "markdown",
   "metadata": {},
   "source": [
    "<button href=\"www.goole.com\" type=\"button\" class=\"btn btn-lg btn-default\">Julia</button>\n",
    "<button type=\"button\" class=\"btn btn-lg btn-primary\">Linear Mixed Effects model</button> \n",
    "<button type=\"button\" class=\"btn btn-lg btn-success\">Multivariate</button>\n",
    "<button type=\"button\" class=\"btn btn-lg btn-warning\">Bayessian Regression</button>\n",
    "<br>\n",
    "<button type=\"button\" class=\"btn btn-lg btn-danger\">Whole-genome Data</button>\n",
    "<button type=\"button\" class=\"btn btn-lg btn-info\">Missing Phenotypes</button>\n",
    "<button type=\"button\" class=\"btn btn-lg btn-danger active disabled\">BayesABC</button>\n",
    "<button type=\"button\" class=\"btn btn-lg btn-link\">More</button>"
   ]
  },
  {
   "cell_type": "markdown",
   "metadata": {},
   "source": [
    "<div class=\"container\">\n",
    "  <div class=\"row\">\n",
    "    <div class=\"col-sm-3\">\n",
    "      <h3>Column 1</h3>\n",
    "      <p>Bayesian multiple regression methods applied to genomic prediction and genome-wide association studies.</p>\n",
    "    </div>\n",
    "    <div class=\"col-sm-3\">\n",
    "      <h3>Column 2</h3>\n",
    "      <p>Lorem ipsum dolor sit amet, consectetur.</p>\n",
    "      <p>Ut enim ad minim veniam, quis nostrud .</p>\n",
    "    </div>\n",
    "    <div class=\"col-sm-3\">\n",
    "      <h3>Column 3</h3> \n",
    "      <p>Lorem ipsum dolor sit amet, con.</p>\n",
    "      <p>Ut enim ad minim veniam, quis nostrud .</p>\n",
    "    </div>\n",
    "  </div>\n",
    "</div>"
   ]
  },
  {
   "cell_type": "markdown",
   "metadata": {},
   "source": [
    "<a href=\"#\">News <span class=\"badge\">5</span></a><br>\n",
    "<a href=\"#\">Comments <span class=\"badge\">10</span></a><br>\n",
    "<a href=\"#\">Updates <span class=\"badge\">2</span></a>\n",
    "Try it Yourself »"
   ]
  },
  {
   "cell_type": "markdown",
   "metadata": {},
   "source": [
    "<ul class=\"pagination pagination-lg\">\n",
    "  <li><a href=\"#\">1</a></li>\n",
    "  <li><a href=\"#\">2</a></li>\n",
    "  <li><a href=\"#\">3</a></li>\n",
    "  <li><a href=\"#\">4</a></li>\n",
    "  <li><a href=\"#\">5</a></li>\n",
    "</ul>\n",
    "\n",
    "<ul class=\"pagination pagination-sm\">\n",
    "  <li><a href=\"#\">1</a></li>\n",
    "  <li><a href=\"#\">2</a></li>\n",
    "  <li><a href=\"#\">3</a></li>\n",
    "  <li><a href=\"#\">4</a></li>\n",
    "  <li><a href=\"#\">5</a></li>\n",
    "</ul>\n",
    "Try it Yourself »"
   ]
  },
  {
   "cell_type": "markdown",
   "metadata": {},
   "source": [
    "<ul class=\"breadcrumb\">\n",
    "  <li><a href=\"#\">Home</a></li>\n",
    "  <li><a href=\"#\">Private</a></li>\n",
    "  <li><a href=\"#\">Pictures</a></li>\n",
    "  <li class=\"active\">Vacation</li> \n",
    "</ul>\n",
    "Try it Yourself »"
   ]
  },
  {
   "cell_type": "markdown",
   "metadata": {},
   "source": [
    "<ul class=\"pager\">\n",
    "  <li><a href=\"#\">Previous</a></li>\n",
    "  <li><a href=\"#\">Next</a></li>\n",
    "</ul>"
   ]
  },
  {
   "cell_type": "markdown",
   "metadata": {},
   "source": [
    " <div class=\"panel-group\">\n",
    "  <div class=\"panel panel-default\">\n",
    "    <div class=\"panel-body\">Panel Content</div>\n",
    "  </div>\n",
    "  <div class=\"panel panel-primary\">\n",
    "    <div class=\"panel-body\">Panel Content</div>\n",
    "  </div>\n",
    "</div>\n",
    "\n",
    "\\\\To color the panel, use contextual classes (.panel-default, .panel-primary, .panel-success, .panel-info, .panel-warning, or .panel-danger):\n",
    "\n"
   ]
  },
  {
   "cell_type": "markdown",
   "metadata": {},
   "source": [
    "<ul class=\"nav nav-tabs\">\n",
    "  <li class=\"active\"><a href=\"#\">Home</a></li>\n",
    "  <li class=\"dropdown\">\n",
    "    <a class=\"dropdown-toggle\" data-toggle=\"dropdown\" href=\"#\">Menu 1\n",
    "    <span class=\"caret\"></span></a>\n",
    "    <ul class=\"dropdown-menu\">\n",
    "      <li><a href=\"#\">Submenu 1-1</a></li>\n",
    "      <li><a href=\"#\">Submenu 1-2</a></li>\n",
    "      <li><a href=\"#\">Submenu 1-3</a></li> \n",
    "    </ul>\n",
    "  </li>\n",
    "  <li><a href=\"#\">Menu 2</a></li>\n",
    "  <li><a href=\"#\">Menu 3</a></li>\n",
    "</ul>\n",
    "Try it Yourself »"
   ]
  },
  {
   "cell_type": "markdown",
   "metadata": {},
   "source": [
    "<div style=\"float:right; \\\">\n",
    "<img src=\"QTL.jpg\" \n",
    " align=right style=\"float:right; margin-left: 5px; margin-top: -10px\" \n",
    " />\n",
    "</div>\n",
    "\n",
    "### Examples\n",
    "\n",
    "* Section 1:\n",
    "  &nbsp; **Univariate Bayesian Linear Regression Model **\n",
    "    * [1.1](basic/MapFunction.ipynb) &nbsp; The Linear Mixed Effects Model\n",
    "    * [1.2](basic/RecProb.ipynb) &nbsp; The Univariate Linear Additive Genetic Model (with Maternal Effects)\n",
    "<br><br>\n",
    "\n",
    "* Section 1:\n",
    "  &nbsp; **Univariate Bayesian Linear Regression Model with marker information **\n",
    "    * [1.3](basic/LD.ipynb) &nbsp; linear models with whole-genome data \n",
    "<br><br>\n",
    "\n",
    "* Section 2:\n",
    "  &nbsp; **Multivariate (multi-trait) Bayesian Linear Regression Model **\n",
    "    * [1.1](basic/MapFunction.ipynb) &nbsp; The Multivaraite Linear Mixed Effects Model\n",
    "    * [2.1](Bayes/BayesTheorem.ipynb) &nbsp; The Multivariate Linear Additive Genetic Model (with Maternal Effects)\n",
    "    * [1.3](basic/LD.ipynb) &nbsp; The Multivariate Linear Additive Genetic Model (with Maternal Effects)\n",
    "    * [1.3](basic/LD.ipynb) &nbsp; Missing Phenotypes\n",
    "\n",
    "    \n",
    "    \n",
    "* Section 4:\n",
    "  &nbsp; **Multivariate Bayesian Linear Regression Model with marker information **\n",
    "    * [1.3](basic/LD.ipynb) &nbsp; linear models with genomic marker information\n",
    "<br><br>"
   ]
  }
 ],
 "metadata": {
  "kernelspec": {
   "display_name": "Julia 0.4.5",
   "language": "julia",
   "name": "julia-0.4"
  },
  "language": "Julia",
  "language_info": {
   "file_extension": ".jl",
   "mimetype": "application/julia",
   "name": "julia",
   "version": "0.4.5"
  }
 },
 "nbformat": 4,
 "nbformat_minor": 0
}
