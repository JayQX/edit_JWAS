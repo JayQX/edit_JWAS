{
 "cells": [
  {
   "cell_type": "markdown",
   "metadata": {},
   "source": [
    "# JWAS \n"
   ]
  },
  {
   "cell_type": "markdown",
   "metadata": {},
   "source": [
    "<div style=\"float:right; \\\">\n",
    "<img src=\"QTL.jpg\" \n",
    " align=right style=\"float:right; margin-left: 5px; margin-top: -10px\" \n",
    " />\n",
    "</div>\n",
    "\n",
    "### Examples\n",
    "\n",
    "* Section 1:\n",
    "  &nbsp; **Univariate Bayesian Linear Regression Model **\n",
    "    * [1.1](basic/MapFunction.ipynb) &nbsp; The Linear Mixed Effects Model\n",
    "    * [1.2](basic/RecProb.ipynb) &nbsp; The Univariate Linear Additive Genetic Model (with Maternal Effects)\n",
    "<br><br>\n",
    "\n",
    "* Section 1:\n",
    "  &nbsp; **Univariate Bayesian Linear Regression Model with marker information **\n",
    "    * [1.3](basic/LD.ipynb) &nbsp; linear models with whole-genome data \n",
    "<br><br>\n",
    "\n",
    "* Section 2:\n",
    "  &nbsp; **Multivariate (multi-trait) Bayesian Linear Regression Model **\n",
    "    * [1.1](basic/MapFunction.ipynb) &nbsp; The Multivaraite Linear Mixed Effects Model\n",
    "    * [2.1](Bayes/BayesTheorem.ipynb) &nbsp; The Multivariate Linear Additive Genetic Model (with Maternal Effects)\n",
    "    * [1.3](basic/LD.ipynb) &nbsp; The Multivariate Linear Additive Genetic Model (with Maternal Effects)\n",
    "    * [1.3](basic/LD.ipynb) &nbsp; Missing Phenotypes\n",
    "\n",
    "    \n",
    "    \n",
    "* Section 4:\n",
    "  &nbsp; **Multivariate Bayesian Linear Regression Model with marker information **\n",
    "    * [1.3](basic/LD.ipynb) &nbsp; linear models with genomic marker information\n",
    "<br><br>"
   ]
  }
 ],
 "metadata": {
  "kernelspec": {
   "display_name": "Julia 0.4.6",
   "language": "julia",
   "name": "julia-0.4"
  },
  "language": "Julia",
  "language_info": {
   "file_extension": ".jl",
   "mimetype": "application/julia",
   "name": "julia",
   "version": "0.4.6"
  }
 },
 "nbformat": 4,
 "nbformat_minor": 0
}
