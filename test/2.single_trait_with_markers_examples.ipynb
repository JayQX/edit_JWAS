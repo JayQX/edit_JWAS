{
 "cells": [
  {
   "cell_type": "markdown",
   "metadata": {},
   "source": [
    "## Module for building Henderson's Mixed Model Equations for single trait including marker  and polygenic effect\n",
    "\n"
   ]
  },
  {
   "cell_type": "markdown",
   "metadata": {},
   "source": [
    "### <font color=\"red\"> Data</font>"
   ]
  },
  {
   "cell_type": "code",
   "execution_count": 1,
   "metadata": {
    "collapsed": false
   },
   "outputs": [
    {
     "data": {
      "text/plain": [
       "JWAS"
      ]
     },
     "execution_count": 1,
     "metadata": {},
     "output_type": "execute_result"
    }
   ],
   "source": [
    "include(\"../src/JWAS.jl\")"
   ]
  },
  {
   "cell_type": "code",
   "execution_count": 2,
   "metadata": {
    "collapsed": true
   },
   "outputs": [],
   "source": [
    "using DataFrames\n",
    "using QTLDatasets\n",
    "using JWAS.MMEModule"
   ]
  },
  {
   "cell_type": "code",
   "execution_count": 3,
   "metadata": {
    "collapsed": false
   },
   "outputs": [
    {
     "data": {
      "text/plain": [
       "\"/Users/haocheng/.julia/v0.4/QTLDatasets/src/../data/testMME/pedigree.txt\""
      ]
     },
     "execution_count": 3,
     "metadata": {},
     "output_type": "execute_result"
    }
   ],
   "source": [
    "phenofile = QTLDatasets.dataset(\"testMME\",\"simple.txt\")\n",
    "genofile = QTLDatasets.dataset(\"testMME\",\"genotype.txt\")\n",
    "pedfile   = QTLDatasets.dataset(\"testMME\",\"pedigree.txt\")"
   ]
  },
  {
   "cell_type": "code",
   "execution_count": 4,
   "metadata": {
    "collapsed": false
   },
   "outputs": [
    {
     "data": {
      "text/html": [
       "<table class=\"data-frame\"><tr><th></th><th>Animal</th><th>Age</th><th>y</th></tr><tr><th>1</th><td>S1</td><td>1</td><td>-0.92</td></tr><tr><th>2</th><td>D1</td><td>2</td><td>-1.05</td></tr><tr><th>3</th><td>O1</td><td>3</td><td>-0.92</td></tr><tr><th>4</th><td>O3</td><td>2</td><td>1.2</td></tr></table>"
      ],
      "text/plain": [
       "4×3 DataFrames.DataFrame\n",
       "│ Row │ Animal │ Age │ y     │\n",
       "├─────┼────────┼─────┼───────┤\n",
       "│ 1   │ \"S1\"   │ 1   │ -0.92 │\n",
       "│ 2   │ \"D1\"   │ 2   │ -1.05 │\n",
       "│ 3   │ \"O1\"   │ 3   │ -0.92 │\n",
       "│ 4   │ \"O3\"   │ 2   │ 1.2   │"
      ]
     },
     "execution_count": 4,
     "metadata": {},
     "output_type": "execute_result"
    }
   ],
   "source": [
    "phenotype = readtable(phenofile,separator = ',',header=true)"
   ]
  },
  {
   "cell_type": "code",
   "execution_count": 5,
   "metadata": {
    "collapsed": false
   },
   "outputs": [
    {
     "name": "stdout",
     "output_type": "stream",
     "text": [
      "Animal,x1,x2,x3,x4,x5\n",
      "S1,1,0,1,1,1\n",
      "D1,2,0,2,2,1\n",
      "O1,1,2,0,1,0\n",
      "O3,0,0,2,1,1\n"
     ]
    }
   ],
   "source": [
    ";cat $genofile"
   ]
  },
  {
   "cell_type": "markdown",
   "metadata": {},
   "source": [
    "### <font color=\"red\"> Run module</font>"
   ]
  },
  {
   "cell_type": "code",
   "execution_count": 6,
   "metadata": {
    "collapsed": false
   },
   "outputs": [],
   "source": [
    "varRes = 1.0\n",
    "varGen = 2.5\n",
    "markerProp = 0.8\n",
    "MVarGen= varGen*markerProp\n",
    "PVarGen= varGen*(1-markerProp);"
   ]
  },
  {
   "cell_type": "code",
   "execution_count": 7,
   "metadata": {
    "collapsed": false
   },
   "outputs": [],
   "source": [
    "ped = get_pedigree(pedfile);"
   ]
  },
  {
   "cell_type": "code",
   "execution_count": 8,
   "metadata": {
    "collapsed": false
   },
   "outputs": [],
   "source": [
    "varRes=1.0\n",
    "mme = build_model(\"y = intercept + Age + Animal\",varRes)\n",
    "set_covariate(mme,\"Age\")\n",
    "set_random(mme,\"Animal\",ped,PVarGen)"
   ]
  },
  {
   "cell_type": "markdown",
   "metadata": {},
   "source": [
    "### <font color=\"red\"> work with markers</font>"
   ]
  },
  {
   "cell_type": "code",
   "execution_count": 9,
   "metadata": {
    "collapsed": false
   },
   "outputs": [
    {
     "name": "stdout",
     "output_type": "stream",
     "text": [
      "The delimiters in file /Users/haocheng/.julia/v0.4/QTLDatasets/src/../data/testMME/genotype.txt is ,  .\n"
     ]
    }
   ],
   "source": [
    "add_markers(mme,genofile,MVarGen,separator=',');"
   ]
  },
  {
   "cell_type": "markdown",
   "metadata": {},
   "source": [
    "### <font color=\"red\"> run MCMC</font>"
   ]
  },
  {
   "cell_type": "code",
   "execution_count": 10,
   "metadata": {
    "collapsed": false
   },
   "outputs": [
    {
     "name": "stdout",
     "output_type": "stream",
     "text": [
      "at sample: 5000 with meanVare: 1.1255339248360174\n",
      "at sample: 10000 with meanVare: 1.157863608313913\n",
      "at sample: 15000 with meanVare: 1.1518654318533825\n",
      "at sample: 20000 with meanVare: 1.1532500036292794\n",
      "at sample: 25000 with meanVare: 1.148365388495088\n",
      "at sample: 30000 with meanVare: 1.1605766679042304\n",
      "at sample: 35000 with meanVare: 1.1509132261386548\n",
      "at sample: 40000 with meanVare: 1.1497864322883686\n",
      "at sample: 45000 with meanVare: 1.1587688281537294\n",
      "at sample: 50000 with meanVare: 1.1633085620213275\n"
     ]
    },
    {
     "data": {
      "text/plain": [
       "Dict{Any,Any} with 4 entries:\n",
       "  \"Posterior Mean of Loca… => 7x2 Array{Any,2}:…\n",
       "  \"MCMC samples for resid… => [0.657129,0.194248,0.454677,0.558346,0.504454,0.5…\n",
       "  \"MCMC samples for genet… => 50000x1 Array{Float64,2}:…\n",
       "  \"Posterior Mean of Mark… => [-0.2829441564991788,-0.1409481105736366,0.090936…"
      ]
     },
     "execution_count": 10,
     "metadata": {},
     "output_type": "execute_result"
    }
   ],
   "source": [
    "output=runMCMC(mme,phenotype,chain_length=50000,\n",
    "                         printout_frequency=5000,methods=\"BayesC\",Pi=0.8,\n",
    "                         output_marker_effects_frequency=1000)"
   ]
  },
  {
   "cell_type": "code",
   "execution_count": 11,
   "metadata": {
    "collapsed": false
   },
   "outputs": [
    {
     "data": {
      "text/plain": [
       "Base.KeyIterator for a Dict{Any,Any} with 4 entries. Keys:\n",
       "  \"Posterior Mean of Location Parameters\"\n",
       "  \"MCMC samples for residual variance\"\n",
       "  \"MCMC samples for genetic var-cov parameters\"\n",
       "  \"Posterior Mean of Marker Effects\""
      ]
     },
     "execution_count": 11,
     "metadata": {},
     "output_type": "execute_result"
    }
   ],
   "source": [
    "keys(output)"
   ]
  },
  {
   "cell_type": "code",
   "execution_count": 12,
   "metadata": {
    "collapsed": false
   },
   "outputs": [
    {
     "data": {
      "text/plain": [
       "7x2 Array{Any,2}:\n",
       " \"intercept: intercept\"  -0.985575  \n",
       " \"Age: Age\"               0.276339  \n",
       " \"Animal: S1\"             0.00398979\n",
       " \"Animal: D1\"            -0.0146501 \n",
       " \"Animal: O1\"            -0.0370037 \n",
       " \"Animal: O3\"             0.0923229 \n",
       " \"Animal: O2\"            -0.0065065 "
      ]
     },
     "execution_count": 12,
     "metadata": {},
     "output_type": "execute_result"
    }
   ],
   "source": [
    "output[\"Posterior Mean of Location Parameters\"]"
   ]
  },
  {
   "cell_type": "code",
   "execution_count": 13,
   "metadata": {
    "collapsed": false
   },
   "outputs": [
    {
     "data": {
      "text/plain": [
       "5-element Array{Float64,1}:\n",
       " -0.282944 \n",
       " -0.140948 \n",
       "  0.0909368\n",
       " -0.111449 \n",
       "  0.139766 "
      ]
     },
     "execution_count": 13,
     "metadata": {},
     "output_type": "execute_result"
    }
   ],
   "source": [
    "output[\"Posterior Mean of Marker Effects\"]"
   ]
  },
  {
   "cell_type": "code",
   "execution_count": 14,
   "metadata": {
    "collapsed": false
   },
   "outputs": [
    {
     "data": {
      "text/plain": [
       "50000x1 Array{Float64,2}:\n",
       " 0.270213 \n",
       " 0.450931 \n",
       " 0.31171  \n",
       " 0.161513 \n",
       " 0.273327 \n",
       " 0.257452 \n",
       " 0.0955835\n",
       " 0.198121 \n",
       " 0.281785 \n",
       " 0.146857 \n",
       " 0.231007 \n",
       " 0.222213 \n",
       " 0.15239  \n",
       " ⋮        \n",
       " 0.283917 \n",
       " 0.353707 \n",
       " 0.142414 \n",
       " 0.48211  \n",
       " 0.205283 \n",
       " 0.383252 \n",
       " 0.284798 \n",
       " 0.324698 \n",
       " 0.273556 \n",
       " 0.28646  \n",
       " 0.113053 \n",
       " 0.168873 "
      ]
     },
     "execution_count": 14,
     "metadata": {},
     "output_type": "execute_result"
    }
   ],
   "source": [
    "output[ \"MCMC samples for genetic var-cov parameters\"]"
   ]
  },
  {
   "cell_type": "code",
   "execution_count": 15,
   "metadata": {
    "collapsed": false
   },
   "outputs": [
    {
     "data": {
      "text/plain": [
       "50000-element Array{Float64,1}:\n",
       " 0.657129\n",
       " 0.194248\n",
       " 0.454677\n",
       " 0.558346\n",
       " 0.504454\n",
       " 0.516481\n",
       " 0.460213\n",
       " 0.833731\n",
       " 0.759667\n",
       " 1.04109 \n",
       " 1.7301  \n",
       " 1.19605 \n",
       " 1.35431 \n",
       " ⋮       \n",
       " 0.64421 \n",
       " 0.524068\n",
       " 0.670135\n",
       " 1.35558 \n",
       " 0.880981\n",
       " 0.851161\n",
       " 1.99047 \n",
       " 0.933943\n",
       " 0.431982\n",
       " 0.331644\n",
       " 0.281757\n",
       " 0.257994"
      ]
     },
     "execution_count": 15,
     "metadata": {},
     "output_type": "execute_result"
    }
   ],
   "source": [
    "output[\"MCMC samples for residual variance\"]"
   ]
  }
 ],
 "metadata": {
  "kernelspec": {
   "display_name": "Julia 0.4.5",
   "language": "julia",
   "name": "julia-0.4"
  },
  "language_info": {
   "file_extension": ".jl",
   "mimetype": "application/julia",
   "name": "julia",
   "version": "0.4.5"
  }
 },
 "nbformat": 4,
 "nbformat_minor": 0
}
