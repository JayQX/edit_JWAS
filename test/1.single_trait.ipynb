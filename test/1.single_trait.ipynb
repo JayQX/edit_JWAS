{
 "cells": [
  {
   "cell_type": "code",
   "execution_count": 1,
   "metadata": {
    "collapsed": false
   },
   "outputs": [],
   "source": [
    "using DataFrames\n",
    "using JWAS.Datasets\n",
    "using JWAS.ST"
   ]
  },
  {
   "cell_type": "markdown",
   "metadata": {},
   "source": [
    "### <font color=\"red\"> Run module</font>"
   ]
  },
  {
   "cell_type": "markdown",
   "metadata": {},
   "source": [
    "### <font color=\"blue\">1. linear model with fixed effects and random effects</font>"
   ]
  },
  {
   "cell_type": "code",
   "execution_count": 2,
   "metadata": {
    "collapsed": false
   },
   "outputs": [
    {
     "data": {
      "text/html": [
       "<table class=\"data-frame\"><tr><th></th><th>sow</th><th>site</th><th>yr</th><th>age</th><th>geneticCode</th><th>parity</th><th>nwn</th><th>SYS</th></tr><tr><th>1</th><td>100-113</td><td>113</td><td>2005</td><td>18</td><td>PIC 1</td><td>1</td><td>8</td><td>113_2005_WNTR</td></tr><tr><th>2</th><td>100-113</td><td>113</td><td>2006</td><td>18</td><td>PIC 1</td><td>2</td><td>12</td><td>113_2006_SPNG</td></tr><tr><th>3</th><td>100-5</td><td>5</td><td>2008</td><td>15</td><td>PIC 2</td><td>1</td><td>10</td><td>5_2008_ATMN</td></tr><tr><th>4</th><td>1000-5</td><td>5</td><td>2009</td><td>17</td><td>PIC 2</td><td>1</td><td>10</td><td>5_2009_SPNG</td></tr><tr><th>5</th><td>10000-13</td><td>13</td><td>2004</td><td>16</td><td>Commercial</td><td>1</td><td>9</td><td>13_2004_WNTR</td></tr><tr><th>6</th><td>10000-13</td><td>13</td><td>2004</td><td>18</td><td>Commercial</td><td>2</td><td>10</td><td>13_2004_SMMR</td></tr><tr><th>7</th><td>10000-13</td><td>13</td><td>2004</td><td>20</td><td>Commercial</td><td>3</td><td>11</td><td>13_2004_ATMN</td></tr><tr><th>8</th><td>10000-13</td><td>13</td><td>2005</td><td>18</td><td>Commercial</td><td>4</td><td>11</td><td>13_2005_SPNG</td></tr><tr><th>9</th><td>10000-13</td><td>13</td><td>2005</td><td>25</td><td>Commercial</td><td>5</td><td>7</td><td>13_2005_ATMN</td></tr><tr><th>10</th><td>10000-6</td><td>6</td><td>2012</td><td>17</td><td>PIC C27</td><td>1</td><td>12</td><td>6_2012_ATMN</td></tr></table>"
      ],
      "text/plain": [
       "10×8 DataFrames.DataFrame\n",
       "│ Row │ sow        │ site │ yr   │ age │ geneticCode  │ parity │ nwn │\n",
       "├─────┼────────────┼──────┼──────┼─────┼──────────────┼────────┼─────┤\n",
       "│ 1   │ \"100-113\"  │ 113  │ 2005 │ 18  │ \"PIC 1\"      │ 1      │ 8   │\n",
       "│ 2   │ \"100-113\"  │ 113  │ 2006 │ 18  │ \"PIC 1\"      │ 2      │ 12  │\n",
       "│ 3   │ \"100-5\"    │ 5    │ 2008 │ 15  │ \"PIC 2\"      │ 1      │ 10  │\n",
       "│ 4   │ \"1000-5\"   │ 5    │ 2009 │ 17  │ \"PIC 2\"      │ 1      │ 10  │\n",
       "│ 5   │ \"10000-13\" │ 13   │ 2004 │ 16  │ \"Commercial\" │ 1      │ 9   │\n",
       "│ 6   │ \"10000-13\" │ 13   │ 2004 │ 18  │ \"Commercial\" │ 2      │ 10  │\n",
       "│ 7   │ \"10000-13\" │ 13   │ 2004 │ 20  │ \"Commercial\" │ 3      │ 11  │\n",
       "│ 8   │ \"10000-13\" │ 13   │ 2005 │ 18  │ \"Commercial\" │ 4      │ 11  │\n",
       "│ 9   │ \"10000-13\" │ 13   │ 2005 │ 25  │ \"Commercial\" │ 5      │ 7   │\n",
       "│ 10  │ \"10000-6\"  │ 6    │ 2012 │ 17  │ \"PIC C27\"    │ 1      │ 12  │\n",
       "\n",
       "│ Row │ SYS             │\n",
       "├─────┼─────────────────┤\n",
       "│ 1   │ \"113_2005_WNTR\" │\n",
       "│ 2   │ \"113_2006_SPNG\" │\n",
       "│ 3   │ \"5_2008_ATMN\"   │\n",
       "│ 4   │ \"5_2009_SPNG\"   │\n",
       "│ 5   │ \"13_2004_WNTR\"  │\n",
       "│ 6   │ \"13_2004_SMMR\"  │\n",
       "│ 7   │ \"13_2004_ATMN\"  │\n",
       "│ 8   │ \"13_2005_SPNG\"  │\n",
       "│ 9   │ \"13_2005_ATMN\"  │\n",
       "│ 10  │ \"6_2012_ATMN\"   │"
      ]
     },
     "execution_count": 2,
     "metadata": {},
     "output_type": "execute_result"
    }
   ],
   "source": [
    "phenofile = Datasets.dataset(\"testMME\",\"data.txt\")\n",
    "data      = readtable(phenofile,separator = ',',header=true)"
   ]
  },
  {
   "cell_type": "code",
   "execution_count": 3,
   "metadata": {
    "collapsed": false
   },
   "outputs": [],
   "source": [
    "model  = \"nwn = intercept + parity + site + yr + geneticCode + age + sow + SYS\"\n",
    "varRes = 2.97      # starting value for residual variance\n",
    "mme    = build_model(model,varRes)\n",
    "\n",
    "set_covariate(mme,\"age\")\n",
    "\n",
    "ν      = 4.0       # degrees of freedom for prior of variance components\n",
    "v1     = 0.26      # starting value for sow variance\n",
    "set_random(mme,\"sow\",v1,ν)\n",
    "v2     = 0.28      # starting value for SYS variance\n",
    "set_random(mme,\"SYS\",v1,ν);"
   ]
  },
  {
   "cell_type": "code",
   "execution_count": 4,
   "metadata": {
    "collapsed": false
   },
   "outputs": [
    {
     "name": "stdout",
     "output_type": "stream",
     "text": [
      "at sample: 5000 with meanVare: 2.9739756374170887\n",
      "at sample: 10000 with meanVare: 2.9199789695308236\n",
      "at sample: 15000 with meanVare: 2.8835335066849686\n",
      "at sample: 20000 with meanVare: 2.8899968667954763\n",
      "at sample: 25000 with meanVare: 2.8594303629971565\n",
      "at sample: 30000 with meanVare: 2.8822272461623193\n",
      "at sample: 35000 with meanVare: 2.9213102723033684\n",
      "at sample: 40000 with meanVare: 2.972056840551057\n",
      "at sample: 45000 with meanVare: 2.982091421665865\n",
      "at sample: 50000 with meanVare: 2.9700848005736766\n"
     ]
    }
   ],
   "source": [
    "outputMCMCsamples(mme,\"parity\",\"age\");\n",
    "out=runMCMC(mme,data,chain_length=50000,printout_frequency=5000);"
   ]
  },
  {
   "cell_type": "code",
   "execution_count": 5,
   "metadata": {
    "collapsed": false
   },
   "outputs": [
    {
     "data": {
      "text/plain": [
       "Base.KeyIterator for a Dict{Any,Any} with 6 entries. Keys:\n",
       "  \"Posterior Mean of Location Parameters\"\n",
       "  \"MCMC samples for residual variance\"\n",
       "  \"MCMC samples for: parity\"\n",
       "  \"MCMC samples for: variance of SYS\"\n",
       "  \"MCMC samples for: age\"\n",
       "  \"MCMC samples for: variance of sow\""
      ]
     },
     "execution_count": 5,
     "metadata": {},
     "output_type": "execute_result"
    }
   ],
   "source": [
    "keys(out)"
   ]
  },
  {
   "cell_type": "code",
   "execution_count": null,
   "metadata": {
    "collapsed": false
   },
   "outputs": [],
   "source": [
    "using Gadfly\n",
    "sample4age = out[\"MCMC samples for: age\"]\n",
    "plot(x=sample4age[30000:end], Geom.histogram)"
   ]
  },
  {
   "cell_type": "markdown",
   "metadata": {},
   "source": [
    "### <font color=\"blue\">2. Pedigree-based BLUP</font>"
   ]
  },
  {
   "cell_type": "code",
   "execution_count": 7,
   "metadata": {
    "collapsed": false
   },
   "outputs": [],
   "source": [
    "pedfile   = Datasets.dataset(\"testMME\",\"pedigree.txt\")\n",
    "phenofile = Datasets.dataset(\"testMME\",\"simple.txt\");"
   ]
  },
  {
   "cell_type": "code",
   "execution_count": 8,
   "metadata": {
    "collapsed": false
   },
   "outputs": [
    {
     "name": "stdout",
     "output_type": "stream",
     "text": [
      "S1 0 0\n",
      "D1 0 0\n",
      "O1 S1 D1\n",
      "O2 S1 D1\n",
      "O3 S1 D1\n"
     ]
    }
   ],
   "source": [
    ";cat $pedfile"
   ]
  },
  {
   "cell_type": "code",
   "execution_count": 9,
   "metadata": {
    "collapsed": false
   },
   "outputs": [
    {
     "data": {
      "text/html": [
       "<table class=\"data-frame\"><tr><th></th><th>Animal</th><th>Age</th><th>y</th></tr><tr><th>1</th><td>S1</td><td>1</td><td>-0.92</td></tr><tr><th>2</th><td>D1</td><td>2</td><td>-1.05</td></tr><tr><th>3</th><td>O1</td><td>3</td><td>-0.92</td></tr><tr><th>4</th><td>O3</td><td>2</td><td>1.2</td></tr></table>"
      ],
      "text/plain": [
       "4×3 DataFrames.DataFrame\n",
       "│ Row │ Animal │ Age │ y     │\n",
       "├─────┼────────┼─────┼───────┤\n",
       "│ 1   │ \"S1\"   │ 1   │ -0.92 │\n",
       "│ 2   │ \"D1\"   │ 2   │ -1.05 │\n",
       "│ 3   │ \"O1\"   │ 3   │ -0.92 │\n",
       "│ 4   │ \"O3\"   │ 2   │ 1.2   │"
      ]
     },
     "execution_count": 9,
     "metadata": {},
     "output_type": "execute_result"
    }
   ],
   "source": [
    "d1 = readtable(phenofile)"
   ]
  },
  {
   "cell_type": "code",
   "execution_count": 10,
   "metadata": {
    "collapsed": false
   },
   "outputs": [],
   "source": [
    "ped = get_pedigree(pedfile);"
   ]
  },
  {
   "cell_type": "code",
   "execution_count": 11,
   "metadata": {
    "collapsed": false
   },
   "outputs": [],
   "source": [
    "varRes=1.0\n",
    "mme = build_model(\"y = intercept + Age + Animal\",varRes)\n",
    "set_covariate(mme,\"Age\")\n",
    "G=1.0\n",
    "set_random(mme,\"Animal\",ped,G)"
   ]
  },
  {
   "cell_type": "code",
   "execution_count": 12,
   "metadata": {
    "collapsed": false
   },
   "outputs": [
    {
     "name": "stdout",
     "output_type": "stream",
     "text": [
      "40 1.8911625184083552e-6\n"
     ]
    },
    {
     "data": {
      "text/plain": [
       "7x2 Array{Any,2}:\n",
       " \"intercept: intercept\"  -0.748707  \n",
       " \"Age: Age\"               0.113636  \n",
       " \"Animal: S1\"             0.0594527 \n",
       " \"Animal: D1\"            -0.0624243 \n",
       " \"Animal: O1\"            -0.171724  \n",
       " \"Animal: O3\"             0.572822  \n",
       " \"Animal: O2\"            -0.00148579"
      ]
     },
     "execution_count": 12,
     "metadata": {},
     "output_type": "execute_result"
    }
   ],
   "source": [
    "out = solve(mme,d1,solver=\"GaussSeidel\",printout_frequency=40)"
   ]
  },
  {
   "cell_type": "markdown",
   "metadata": {},
   "source": [
    "### <font color=\"blue\">3. Repeated Measures</font>"
   ]
  },
  {
   "cell_type": "code",
   "execution_count": 13,
   "metadata": {
    "collapsed": false
   },
   "outputs": [
    {
     "data": {
      "text/html": [
       "<table class=\"data-frame\"><tr><th></th><th>Animal</th><th>Age</th><th>y</th></tr><tr><th>1</th><td>S1</td><td>1</td><td>-0.92</td></tr><tr><th>2</th><td>S1</td><td>2</td><td>-1.35</td></tr><tr><th>3</th><td>S1</td><td>3</td><td>-0.33</td></tr><tr><th>4</th><td>D1</td><td>1</td><td>-0.3</td></tr><tr><th>5</th><td>D1</td><td>2</td><td>-1.05</td></tr><tr><th>6</th><td>D1</td><td>3</td><td>0.56</td></tr><tr><th>7</th><td>O1</td><td>1</td><td>-0.09</td></tr><tr><th>8</th><td>O1</td><td>2</td><td>0.44</td></tr><tr><th>9</th><td>O1</td><td>3</td><td>-0.92</td></tr><tr><th>10</th><td>O3</td><td>1</td><td>-0.2</td></tr><tr><th>11</th><td>O3</td><td>2</td><td>1.2</td></tr><tr><th>12</th><td>O3</td><td>3</td><td>0.25</td></tr></table>"
      ],
      "text/plain": [
       "12×3 DataFrames.DataFrame\n",
       "│ Row │ Animal │ Age │ y     │\n",
       "├─────┼────────┼─────┼───────┤\n",
       "│ 1   │ \"S1\"   │ 1   │ -0.92 │\n",
       "│ 2   │ \"S1\"   │ 2   │ -1.35 │\n",
       "│ 3   │ \"S1\"   │ 3   │ -0.33 │\n",
       "│ 4   │ \"D1\"   │ 1   │ -0.3  │\n",
       "│ 5   │ \"D1\"   │ 2   │ -1.05 │\n",
       "│ 6   │ \"D1\"   │ 3   │ 0.56  │\n",
       "│ 7   │ \"O1\"   │ 1   │ -0.09 │\n",
       "│ 8   │ \"O1\"   │ 2   │ 0.44  │\n",
       "│ 9   │ \"O1\"   │ 3   │ -0.92 │\n",
       "│ 10  │ \"O3\"   │ 1   │ -0.2  │\n",
       "│ 11  │ \"O3\"   │ 2   │ 1.2   │\n",
       "│ 12  │ \"O3\"   │ 3   │ 0.25  │"
      ]
     },
     "execution_count": 13,
     "metadata": {},
     "output_type": "execute_result"
    }
   ],
   "source": [
    "phenofile = Datasets.dataset(\"testMME\",\"repeated_measures.txt\")\n",
    "d2 = readtable(phenofile)"
   ]
  },
  {
   "cell_type": "code",
   "execution_count": 14,
   "metadata": {
    "collapsed": false
   },
   "outputs": [],
   "source": [
    "varRes=1.0\n",
    "mme = build_model(\"y = intercept + Age + Animal + Animal*Age\",varRes)\n",
    "set_covariate(mme,\"Age\")\n",
    "G = [1 0.1; 0.1 1.0]\n",
    "set_random(mme,\"Animal Animal*Age\",ped,G)"
   ]
  },
  {
   "cell_type": "code",
   "execution_count": 15,
   "metadata": {
    "collapsed": false
   },
   "outputs": [
    {
     "name": "stdout",
     "output_type": "stream",
     "text": [
      "40 0.004079837352814904\n",
      "80 0.0008468686195409121\n",
      "120 0.00026899969970286267\n",
      "160 9.606419899377913e-5\n",
      "200 3.649498312582733e-5\n",
      "240 1.4825947812909268e-5\n",
      "280 6.569648963398997e-6\n",
      "320 3.2261059576412398e-6\n",
      "360 1.7555444111655143e-6\n",
      "400 1.0411088953585247e-6\n"
     ]
    },
    {
     "data": {
      "text/plain": [
       "12x2 Array{Any,2}:\n",
       " \"intercept: intercept\"  -0.590464   \n",
       " \"Age: Age\"               0.0738261  \n",
       " \"Animal: S1\"            -0.0839778  \n",
       " \"Animal: D1\"             0.0822513  \n",
       " \"Animal: O1\"             0.191167   \n",
       " \"Animal: O3\"             0.204641   \n",
       " \"Animal: O2\"            -0.000908243\n",
       " \"Animal*Age: S1\"        -0.0943315  \n",
       " \"Animal*Age: D1\"         0.099499   \n",
       " \"Animal*Age: O1\"        -0.0351528  \n",
       " \"Animal*Age: O3\"         0.267083   \n",
       " \"Animal*Age: O2\"         0.00261206 "
      ]
     },
     "execution_count": 15,
     "metadata": {},
     "output_type": "execute_result"
    }
   ],
   "source": [
    "out = solve(mme,d2,solver=\"Jacobi\",printout_frequency=40)"
   ]
  },
  {
   "cell_type": "markdown",
   "metadata": {},
   "source": [
    "### <font color=\"blue\">4. Maternal effects</font>"
   ]
  },
  {
   "cell_type": "code",
   "execution_count": 16,
   "metadata": {
    "collapsed": false
   },
   "outputs": [
    {
     "data": {
      "text/html": [
       "<table class=\"data-frame\"><tr><th></th><th>Animal</th><th>Age</th><th>y</th><th>Dam</th></tr><tr><th>1</th><td>S1</td><td>1</td><td>-0.92</td><td>0</td></tr><tr><th>2</th><td>S1</td><td>2</td><td>-1.35</td><td>0</td></tr><tr><th>3</th><td>S1</td><td>3</td><td>-0.33</td><td>0</td></tr><tr><th>4</th><td>D1</td><td>1</td><td>-0.3</td><td>0</td></tr><tr><th>5</th><td>D1</td><td>2</td><td>-1.05</td><td>0</td></tr><tr><th>6</th><td>D1</td><td>3</td><td>0.56</td><td>0</td></tr><tr><th>7</th><td>O1</td><td>1</td><td>-0.09</td><td>D1</td></tr><tr><th>8</th><td>O1</td><td>2</td><td>0.44</td><td>D1</td></tr><tr><th>9</th><td>O1</td><td>3</td><td>-0.92</td><td>D1</td></tr><tr><th>10</th><td>O3</td><td>1</td><td>-0.2</td><td>D1</td></tr><tr><th>11</th><td>O3</td><td>2</td><td>1.2</td><td>D1</td></tr><tr><th>12</th><td>O3</td><td>3</td><td>0.25</td><td>D1</td></tr></table>"
      ],
      "text/plain": [
       "12×4 DataFrames.DataFrame\n",
       "│ Row │ Animal │ Age │ y     │ Dam  │\n",
       "├─────┼────────┼─────┼───────┼──────┤\n",
       "│ 1   │ \"S1\"   │ 1   │ -0.92 │ \"0\"  │\n",
       "│ 2   │ \"S1\"   │ 2   │ -1.35 │ \"0\"  │\n",
       "│ 3   │ \"S1\"   │ 3   │ -0.33 │ \"0\"  │\n",
       "│ 4   │ \"D1\"   │ 1   │ -0.3  │ \"0\"  │\n",
       "│ 5   │ \"D1\"   │ 2   │ -1.05 │ \"0\"  │\n",
       "│ 6   │ \"D1\"   │ 3   │ 0.56  │ \"0\"  │\n",
       "│ 7   │ \"O1\"   │ 1   │ -0.09 │ \"D1\" │\n",
       "│ 8   │ \"O1\"   │ 2   │ 0.44  │ \"D1\" │\n",
       "│ 9   │ \"O1\"   │ 3   │ -0.92 │ \"D1\" │\n",
       "│ 10  │ \"O3\"   │ 1   │ -0.2  │ \"D1\" │\n",
       "│ 11  │ \"O3\"   │ 2   │ 1.2   │ \"D1\" │\n",
       "│ 12  │ \"O3\"   │ 3   │ 0.25  │ \"D1\" │"
      ]
     },
     "execution_count": 16,
     "metadata": {},
     "output_type": "execute_result"
    }
   ],
   "source": [
    "phenofile = Datasets.dataset(\"testMME\",\"maternal_effects.txt\")\n",
    "d3 = readtable(phenofile)"
   ]
  },
  {
   "cell_type": "code",
   "execution_count": 17,
   "metadata": {
    "collapsed": false
   },
   "outputs": [
    {
     "name": "stdout",
     "output_type": "stream",
     "text": [
      "S1 0 0\n",
      "D1 0 0\n",
      "O1 S1 D1\n",
      "O2 S1 D1\n",
      "O3 S1 D1\n"
     ]
    }
   ],
   "source": [
    ";cat $pedfile"
   ]
  },
  {
   "cell_type": "code",
   "execution_count": 18,
   "metadata": {
    "collapsed": false
   },
   "outputs": [
    {
     "name": "stdout",
     "output_type": "stream",
     "text": [
      "[12.0 3.0 3.0 3.0 3.0\n",
      " 3.0 3.0 0.0 0.0 0.0\n",
      " 3.0 0.0 3.0 0.0 0.0\n",
      " 3.0 0.0 0.0 3.0 0.0\n",
      " 3.0 0.0 0.0 0.0 3.0]\n"
     ]
    }
   ],
   "source": [
    "varRes = 1.0\n",
    "mme1 = build_model(\"y = intercept + Animal\",varRes);\n",
    "lhs,rhs= showMME(mme1,d3);\n",
    "println(full(lhs))"
   ]
  },
  {
   "cell_type": "code",
   "execution_count": 19,
   "metadata": {
    "collapsed": false
   },
   "outputs": [],
   "source": [
    "varRes = 1.0\n",
    "mme = build_model(\"y = intercept + Animal + Dam\",varRes);"
   ]
  },
  {
   "cell_type": "code",
   "execution_count": 20,
   "metadata": {
    "collapsed": false
   },
   "outputs": [
    {
     "name": "stdout",
     "output_type": "stream",
     "text": [
      "[12.0 3.0 3.0 3.0 3.0 0.0 0.0 6.0 0.0 0.0 0.0\n",
      " 3.0 5.53 1.52 -1.01 -1.01 -1.01 -0.25 -0.15 0.1 0.1 0.1\n",
      " 3.0 1.52 5.53 -1.01 -1.01 -1.01 -0.15 -0.25 0.1 0.1 0.1\n",
      " 3.0 -1.01 -1.01 5.02 0.0 0.0 0.1 3.1 -0.2 0.0 0.0\n",
      " 3.0 -1.01 -1.01 0.0 5.02 0.0 0.1 3.1 0.0 -0.2 0.0\n",
      " 0.0 -1.01 -1.01 0.0 0.0 2.02 0.1 0.1 0.0 0.0 -0.2\n",
      " 0.0 -0.25 -0.15 0.1 0.1 0.1 2.53 1.52 -1.01 -1.01 -1.01\n",
      " 6.0 -0.15 -0.25 3.1 3.1 0.1 1.52 8.53 -1.01 -1.01 -1.01\n",
      " 0.0 0.1 0.1 -0.2 0.0 0.0 -1.01 -1.01 2.02 0.0 0.0\n",
      " 0.0 0.1 0.1 0.0 -0.2 0.0 -1.01 -1.01 0.0 2.02 0.0\n",
      " 0.0 0.1 0.1 0.0 0.0 -0.2 -1.01 -1.01 0.0 0.0 2.02]\n"
     ]
    }
   ],
   "source": [
    "G = [1 0.1; 0.1 1.0]\n",
    "set_random(mme,\"Animal Dam\",ped,G)\n",
    "lhs,rhs=showMME(mme,d3);\n",
    "println(full(round(lhs,2)))"
   ]
  },
  {
   "cell_type": "code",
   "execution_count": 21,
   "metadata": {
    "collapsed": false
   },
   "outputs": [
    {
     "name": "stdout",
     "output_type": "stream",
     "text": [
      "at sample: 1000\n",
      "at sample: 2000\n",
      "at sample: 3000\n",
      "at sample: 4000\n",
      "at sample: 5000\n"
     ]
    },
    {
     "data": {
      "text/plain": [
       "11x2 Array{Any,2}:\n",
       " \"intercept: intercept\"  -0.532802 \n",
       " \"Animal: S1\"            -0.191028 \n",
       " \"Animal: D1\"             0.265182 \n",
       " \"Animal: O1\"            -0.0378239\n",
       " \"Animal: O3\"             0.332249 \n",
       " \"Animal: O2\"             0.0312229\n",
       " \"Dam: S1\"               -0.0140497\n",
       " \"Dam: D1\"                0.430563 \n",
       " \"Dam: O1\"                0.196071 \n",
       " \"Dam: O3\"                0.243708 \n",
       " \"Dam: O2\"                0.217919 "
      ]
     },
     "execution_count": 21,
     "metadata": {},
     "output_type": "execute_result"
    }
   ],
   "source": [
    "out = solve(mme,d3,solver=\"Gibbs\",printout_frequency=1000)"
   ]
  }
 ],
 "metadata": {
  "kernelspec": {
   "display_name": "Julia 0.4.6",
   "language": "julia",
   "name": "julia-0.4"
  },
  "language_info": {
   "file_extension": ".jl",
   "mimetype": "application/julia",
   "name": "julia",
   "version": "0.4.6"
  }
 },
 "nbformat": 4,
 "nbformat_minor": 0
}
