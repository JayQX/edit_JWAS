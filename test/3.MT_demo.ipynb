{
 "cells": [
  {
   "cell_type": "code",
   "execution_count": 1,
   "metadata": {
    "collapsed": false
   },
   "outputs": [],
   "source": [
    "include(\"../src/MTJWAS.jl\")\n",
    "using MTJWAS"
   ]
  },
  {
   "cell_type": "markdown",
   "metadata": {},
   "source": [
    "## <font color=\"blue\"> Data</font>"
   ]
  },
  {
   "cell_type": "code",
   "execution_count": 2,
   "metadata": {
    "collapsed": true
   },
   "outputs": [],
   "source": [
    "using DataFrames"
   ]
  },
  {
   "cell_type": "code",
   "execution_count": 3,
   "metadata": {
    "collapsed": false
   },
   "outputs": [],
   "source": [
    "DIR=\"data/\"\n",
    "phenofile=DIR*\"phenotype.txt\"\n",
    "genofile =DIR*\"genotype.txt\"\n",
    "pedfile  =DIR*\"pedigree.txt\";"
   ]
  },
  {
   "cell_type": "markdown",
   "metadata": {},
   "source": [
    "### phenotypes"
   ]
  },
  {
   "cell_type": "code",
   "execution_count": 4,
   "metadata": {
    "collapsed": false
   },
   "outputs": [
    {
     "name": "stdout",
     "output_type": "stream",
     "text": [
      "Animal,BW,CW,age,sex\n",
      "S1,100.0,10.0,8,M\n",
      "D1,50.0,12.9,7,F\n",
      "O1,150.0,13.0,3,M\n",
      "O3,40.0,5.0,4,F\n"
     ]
    }
   ],
   "source": [
    ";cat $phenofile"
   ]
  },
  {
   "cell_type": "markdown",
   "metadata": {},
   "source": [
    "### genotypes"
   ]
  },
  {
   "cell_type": "code",
   "execution_count": 5,
   "metadata": {
    "collapsed": false
   },
   "outputs": [
    {
     "name": "stdout",
     "output_type": "stream",
     "text": [
      "Animal,x1,x2,x3,x4,x5\n",
      "S1,1.0,0.0,1.0,1.0,1.0\n",
      "D1,2.0,0.0,2.0,2.0,1.0\n",
      "O1,1.0,2.0,0.0,1.0,0.0\n",
      "O3,0.0,0.0,2.0,1.0,1.0\n"
     ]
    }
   ],
   "source": [
    ";cat $genofile"
   ]
  },
  {
   "cell_type": "markdown",
   "metadata": {},
   "source": [
    "### pedigree"
   ]
  },
  {
   "cell_type": "code",
   "execution_count": 6,
   "metadata": {
    "collapsed": false
   },
   "outputs": [
    {
     "name": "stdout",
     "output_type": "stream",
     "text": [
      "S1 0 0\n",
      "D1 0 0\n",
      "O1 S1 D1\n",
      "O2 S1 D1\n",
      "O3 S1 D1\n"
     ]
    }
   ],
   "source": [
    ";cat $pedfile"
   ]
  },
  {
   "cell_type": "markdown",
   "metadata": {},
   "source": [
    "### Genetic covariance matrix and residual covariance matrix"
   ]
  },
  {
   "cell_type": "code",
   "execution_count": 7,
   "metadata": {
    "collapsed": false
   },
   "outputs": [],
   "source": [
    "R      = [10.0 2.0\n",
    "           2.0 1.0]\n",
    "G      = [20.0 1.0\n",
    "           1.0 2.0];"
   ]
  },
  {
   "cell_type": "markdown",
   "metadata": {},
   "source": [
    "## <font color=\"blue\">1. mulitiple trait with fixed effects</font> "
   ]
  },
  {
   "cell_type": "code",
   "execution_count": 8,
   "metadata": {
    "collapsed": false
   },
   "outputs": [],
   "source": [
    "using MTJWAS"
   ]
  },
  {
   "cell_type": "code",
   "execution_count": 9,
   "metadata": {
    "collapsed": false
   },
   "outputs": [
    {
     "data": {
      "text/html": [
       "<table class=\"data-frame\"><tr><th></th><th>Animal</th><th>BW</th><th>CW</th><th>age</th><th>sex</th></tr><tr><th>1</th><td>S1</td><td>100.0</td><td>10.0</td><td>8</td><td>M</td></tr><tr><th>2</th><td>D1</td><td>50.0</td><td>12.9</td><td>7</td><td>F</td></tr><tr><th>3</th><td>O1</td><td>150.0</td><td>13.0</td><td>3</td><td>M</td></tr><tr><th>4</th><td>O3</td><td>40.0</td><td>5.0</td><td>4</td><td>F</td></tr></table>"
      ],
      "text/plain": [
       "4×5 DataFrames.DataFrame\n",
       "│ Row │ Animal │ BW    │ CW   │ age │ sex │\n",
       "├─────┼────────┼───────┼──────┼─────┼─────┤\n",
       "│ 1   │ \"S1\"   │ 100.0 │ 10.0 │ 8   │ \"M\" │\n",
       "│ 2   │ \"D1\"   │ 50.0  │ 12.9 │ 7   │ \"F\" │\n",
       "│ 3   │ \"O1\"   │ 150.0 │ 13.0 │ 3   │ \"M\" │\n",
       "│ 4   │ \"O3\"   │ 40.0  │ 5.0  │ 4   │ \"F\" │"
      ]
     },
     "execution_count": 9,
     "metadata": {},
     "output_type": "execute_result"
    }
   ],
   "source": [
    "data=readtable(phenofile)"
   ]
  },
  {
   "cell_type": "markdown",
   "metadata": {},
   "source": [
    "#### set up model equations"
   ]
  },
  {
   "cell_type": "code",
   "execution_count": 10,
   "metadata": {
    "collapsed": false
   },
   "outputs": [],
   "source": [
    "model_equations = \"BW = intercept + age + sex;\n",
    "                  CW = intercept + age + sex\";"
   ]
  },
  {
   "cell_type": "code",
   "execution_count": 12,
   "metadata": {
    "collapsed": true
   },
   "outputs": [],
   "source": [
    "model1 = MTJWAS.build_model(model_equations,R);"
   ]
  },
  {
   "cell_type": "markdown",
   "metadata": {},
   "source": [
    "#### set variables as covariate (all variables are set as factors by default)"
   ]
  },
  {
   "cell_type": "code",
   "execution_count": 13,
   "metadata": {
    "collapsed": false
   },
   "outputs": [],
   "source": [
    "MTJWAS.set_covariate(model1,\"age\")"
   ]
  },
  {
   "cell_type": "markdown",
   "metadata": {},
   "source": [
    "#### run"
   ]
  },
  {
   "cell_type": "code",
   "execution_count": 14,
   "metadata": {
    "collapsed": false
   },
   "outputs": [
    {
     "name": "stdout",
     "output_type": "stream",
     "text": [
      "at sample: 10000\n",
      "Residual covariance matrix: \n",
      "[140.154850433725 33.53738407776266\n",
      " 33.53738407776266 8.478479416354546]\n",
      "\n",
      "at sample: 20000\n",
      "Residual covariance matrix: \n",
      "[146.39527147436098 35.155128514927284\n",
      " 35.155128514927284 8.886245535327399]\n",
      "\n",
      "at sample: 30000\n",
      "Residual covariance matrix: \n",
      "[146.59006151035737 35.257743533327066\n",
      " 35.257743533327066 8.928910545337384]\n",
      "\n",
      "at sample: 40000\n",
      "Residual covariance matrix: \n",
      "[144.6446141420062 34.729994318875356\n",
      " 34.729994318875356 8.788948212738667]\n",
      "\n",
      "at sample: 50000\n",
      "Residual covariance matrix: \n",
      "[145.4376704484496 34.92639206058722\n",
      " 34.92639206058722 8.839095337975094]\n",
      "\n"
     ]
    }
   ],
   "source": [
    "out1=runMCMC(model1,data,chain_length=50000,printout_frequency=10000);"
   ]
  },
  {
   "cell_type": "markdown",
   "metadata": {},
   "source": [
    "## <font color=\"blue\">2. multiple trait with direct genetic effects</font> "
   ]
  },
  {
   "cell_type": "markdown",
   "metadata": {},
   "source": [
    "#### set up model equations"
   ]
  },
  {
   "cell_type": "code",
   "execution_count": 15,
   "metadata": {
    "collapsed": false
   },
   "outputs": [],
   "source": [
    "model_equations = \"BW = intercept + age + sex + Animal;\n",
    "                   CW = intercept + age + sex + Animal\";"
   ]
  },
  {
   "cell_type": "code",
   "execution_count": 16,
   "metadata": {
    "collapsed": true
   },
   "outputs": [],
   "source": [
    "model2    = MTJWAS.build_model(model_equations,R);"
   ]
  },
  {
   "cell_type": "code",
   "execution_count": 18,
   "metadata": {
    "collapsed": false
   },
   "outputs": [],
   "source": [
    "MTJWAS.set_covariate(model1,\"age\")"
   ]
  },
  {
   "cell_type": "markdown",
   "metadata": {},
   "source": [
    "#### set variables as random variables"
   ]
  },
  {
   "cell_type": "markdown",
   "metadata": {},
   "source": [
    "* random variables whose covarince matrices are numerator relationship matrix "
   ]
  },
  {
   "cell_type": "code",
   "execution_count": 19,
   "metadata": {
    "collapsed": false
   },
   "outputs": [],
   "source": [
    "ped = MTJWAS.get_pedigree(pedfile);"
   ]
  },
  {
   "cell_type": "code",
   "execution_count": 20,
   "metadata": {
    "collapsed": false
   },
   "outputs": [],
   "source": [
    "MTJWAS.set_random(model2,\"Animal\", ped,G)"
   ]
  },
  {
   "cell_type": "markdown",
   "metadata": {},
   "source": [
    "#### run"
   ]
  },
  {
   "cell_type": "code",
   "execution_count": 21,
   "metadata": {
    "collapsed": false
   },
   "outputs": [
    {
     "name": "stdout",
     "output_type": "stream",
     "text": [
      "at sample: 10000\n",
      "Residual covariance matrix: \n",
      "[9.820165943766979 2.0046236011310343\n",
      " 2.0046236011310343 1.0144411655137777]\n",
      "\n",
      "at sample: 20000\n",
      "Residual covariance matrix: \n",
      "[9.65898383277881 1.96129223479615\n",
      " 1.96129223479615 0.9982560556271673]\n",
      "\n",
      "at sample: 30000\n",
      "Residual covariance matrix: \n",
      "[9.704919994056782 1.9660159105243893\n",
      " 1.9660159105243893 0.9893309657009017]\n",
      "\n",
      "at sample: 40000\n",
      "Residual covariance matrix: \n",
      "[9.631503460472059 1.9548198779333683\n",
      " 1.9548198779333683 0.9930878018448202]\n",
      "\n",
      "at sample: 50000\n",
      "Residual covariance matrix: \n",
      "[9.708558625560551 1.9522645726047894\n",
      " 1.9522645726047894 0.9882216326407085]\n",
      "\n"
     ]
    }
   ],
   "source": [
    "out2 = MTJWAS.runMCMC(model2,data,chain_length=50000,printout_frequency=10000);"
   ]
  },
  {
   "cell_type": "markdown",
   "metadata": {},
   "source": [
    "## <font color=\"blue\">3. mulitiple traits with marker effects</font> "
   ]
  },
  {
   "cell_type": "markdown",
   "metadata": {},
   "source": [
    "#### set up model equations"
   ]
  },
  {
   "cell_type": "code",
   "execution_count": 22,
   "metadata": {
    "collapsed": false
   },
   "outputs": [],
   "source": [
    "model_equations = \"BW = intercept + age + sex;\n",
    "                   CW = intercept + age + sex\";"
   ]
  },
  {
   "cell_type": "code",
   "execution_count": 23,
   "metadata": {
    "collapsed": true
   },
   "outputs": [],
   "source": [
    "model3    = MTJWAS.build_model(model_equations,R);"
   ]
  },
  {
   "cell_type": "code",
   "execution_count": 25,
   "metadata": {
    "collapsed": false
   },
   "outputs": [],
   "source": [
    "MTJWAS.set_covariate(model3,\"age\")"
   ]
  },
  {
   "cell_type": "code",
   "execution_count": 26,
   "metadata": {
    "collapsed": false
   },
   "outputs": [
    {
     "name": "stdout",
     "output_type": "stream",
     "text": [
      "The delimiters in file data/genotype.txt is ,  .\n"
     ]
    }
   ],
   "source": [
    "MTJWAS.add_markers(model3,genofile,G,separator=',',header=true);"
   ]
  },
  {
   "cell_type": "code",
   "execution_count": 27,
   "metadata": {
    "collapsed": false
   },
   "outputs": [
    {
     "name": "stdout",
     "output_type": "stream",
     "text": [
      "at sample: 10000\n",
      "Residual covariance matrix: \n",
      "[43.37990025135148 10.43779421325325\n",
      " 10.43779421325325 3.2443567269783204]\n",
      "Marker effects covariance matrix: \n",
      "[34.712159075131765 6.63560426385648\n",
      " 6.63560426385648 2.179277074198228]\n",
      "\n",
      "at sample: 20000\n",
      "Residual covariance matrix: \n",
      "[44.79762004520499 10.745526578100506\n",
      " 10.745526578100506 3.2901324663387843]\n",
      "Marker effects covariance matrix: \n",
      "[37.2835369158311 7.3599874279394095\n",
      " 7.3599874279394095 2.3520826784581534]\n",
      "\n",
      "at sample: 30000\n",
      "Residual covariance matrix: \n",
      "[41.540832692269205 9.878648952258995\n",
      " 9.878648952258995 3.063809968040247]\n",
      "Marker effects covariance matrix: \n",
      "[36.92118133337858 7.364193554874619\n",
      " 7.364193554874619 2.373864976268515]\n",
      "\n",
      "at sample: 40000\n",
      "Residual covariance matrix: \n",
      "[52.710015727285395 13.339957838119721\n",
      " 13.339957838119721 4.166635036680465]\n",
      "Marker effects covariance matrix: \n",
      "[36.68224550584762 7.3372716378947755\n",
      " 7.3372716378947755 2.3957266827966652]\n",
      "\n",
      "at sample: 50000\n",
      "Residual covariance matrix: \n",
      "[51.55060409520699 13.017855378174248\n",
      " 13.017855378174248 4.074190734717687]\n",
      "Marker effects covariance matrix: \n",
      "[36.816045893747166 7.3986355896477685\n",
      " 7.3986355896477685 2.4113436056164574]\n",
      "\n"
     ]
    }
   ],
   "source": [
    "out3=MTJWAS.runMCMC(model3,data,chain_length=50000,printout_frequency=10000);"
   ]
  },
  {
   "cell_type": "markdown",
   "metadata": {},
   "source": [
    "## <font color=\"blue\">4. mulitiple traits with marker effects and polygenic effects</font> "
   ]
  },
  {
   "cell_type": "markdown",
   "metadata": {},
   "source": [
    "#### set up model equations"
   ]
  },
  {
   "cell_type": "code",
   "execution_count": 28,
   "metadata": {
    "collapsed": false
   },
   "outputs": [],
   "source": [
    "model_equations = \"BW = intercept + age + sex + Animal;\n",
    "                   CW = intercept + age + sex + Animal\";"
   ]
  },
  {
   "cell_type": "code",
   "execution_count": 29,
   "metadata": {
    "collapsed": true
   },
   "outputs": [],
   "source": [
    "model4    = MTJWAS.build_model(model_equations,R);"
   ]
  },
  {
   "cell_type": "code",
   "execution_count": 30,
   "metadata": {
    "collapsed": false
   },
   "outputs": [],
   "source": [
    "MTJWAS.set_covariate(model4,\"age\")"
   ]
  },
  {
   "cell_type": "code",
   "execution_count": 31,
   "metadata": {
    "collapsed": false
   },
   "outputs": [],
   "source": [
    "GA = G*0.1\n",
    "MTJWAS.set_random(model4,\"Animal\",ped,GA)"
   ]
  },
  {
   "cell_type": "code",
   "execution_count": 32,
   "metadata": {
    "collapsed": false
   },
   "outputs": [
    {
     "name": "stdout",
     "output_type": "stream",
     "text": [
      "The delimiters in file data/genotype.txt is ,  .\n"
     ]
    }
   ],
   "source": [
    "GM = G*0.9\n",
    "MTJWAS.add_markers(model4,genofile,GM,separator=',',header=true);"
   ]
  },
  {
   "cell_type": "markdown",
   "metadata": {},
   "source": [
    "#### run"
   ]
  },
  {
   "cell_type": "code",
   "execution_count": 33,
   "metadata": {
    "collapsed": false
   },
   "outputs": [
    {
     "name": "stdout",
     "output_type": "stream",
     "text": [
      "at sample: 10000\n",
      "Residual covariance matrix: \n",
      "[35.48572233277769 8.282656696068331\n",
      " 8.282656696068331 2.6299397400892617]\n",
      "Marker effects covariance matrix: \n",
      "[34.52682140161455 6.847668774876981\n",
      " 6.847668774876981 2.2063706088382373]\n",
      "\n",
      "at sample: 20000\n",
      "Residual covariance matrix: \n",
      "[49.20041389539753 11.601222504923568\n",
      " 11.601222504923568 3.4573659627427866]\n",
      "Marker effects covariance matrix: \n",
      "[30.043909434730566 5.794357624368241\n",
      " 5.794357624368241 1.9422225670329665]\n",
      "\n",
      "at sample: 30000\n",
      "Residual covariance matrix: \n",
      "[43.83645040824476 10.390115491195754\n",
      " 10.390115491195754 3.1675496004900987]\n",
      "Marker effects covariance matrix: \n",
      "[34.874146370642976 6.913474711866261\n",
      " 6.913474711866261 2.1978146019015483]\n",
      "\n",
      "at sample: 40000\n",
      "Residual covariance matrix: \n",
      "[46.601025980142 11.126368299744152\n",
      " 11.126368299744152 3.3643141880743825]\n",
      "Marker effects covariance matrix: \n",
      "[33.124278656110185 6.555156284874134\n",
      " 6.555156284874134 2.1255066048960645]\n",
      "\n",
      "at sample: 50000\n",
      "Residual covariance matrix: \n",
      "[48.74567254537435 11.607308747139847\n",
      " 11.607308747139847 3.478342293004933]\n",
      "Marker effects covariance matrix: \n",
      "[32.649816362708066 6.415175786215293\n",
      " 6.415175786215293 2.084198100222207]\n",
      "\n"
     ]
    }
   ],
   "source": [
    "out4=MTJWAS.runMCMC(model4,data,chain_length=50000,printout_frequency=10000);"
   ]
  },
  {
   "cell_type": "markdown",
   "metadata": {},
   "source": [
    "## <font color=\"blue\">5. check results</font> "
   ]
  },
  {
   "cell_type": "code",
   "execution_count": 34,
   "metadata": {
    "collapsed": false
   },
   "outputs": [
    {
     "data": {
      "text/plain": [
       "Base.KeyIterator for a Dict{Any,Any} with 5 entries. Keys:\n",
       "  \"posterior mean of marker effects covariance matrix\"\n",
       "  \"posterior mean of residual covaraince matrix\"\n",
       "  \"posterior mean of polygenic effects covariance matrix\"\n",
       "  \"posterior mean of marker effects\"\n",
       "  \"posterior mean of location parameters\""
      ]
     },
     "execution_count": 34,
     "metadata": {},
     "output_type": "execute_result"
    }
   ],
   "source": [
    "keys(out4)"
   ]
  },
  {
   "cell_type": "code",
   "execution_count": 35,
   "metadata": {
    "collapsed": false
   },
   "outputs": [
    {
     "data": {
      "text/plain": [
       "2x2 Array{Float64,2}:\n",
       " 2.12913   0.124127\n",
       " 0.124127  0.199814"
      ]
     },
     "execution_count": 35,
     "metadata": {},
     "output_type": "execute_result"
    }
   ],
   "source": [
    "out4[\"posterior mean of polygenic effects covariance matrix\"]"
   ]
  },
  {
   "cell_type": "code",
   "execution_count": 36,
   "metadata": {
    "collapsed": false
   },
   "outputs": [
    {
     "data": {
      "text/plain": [
       "18x2 Array{Any,2}:\n",
       " \"1:intercept: intercept\"  -164.375      \n",
       " \"1:age: age\"                -6.20652    \n",
       " \"1:sex: M\"                 320.498      \n",
       " \"1:sex: F\"                 246.396      \n",
       " \"1:Animal: S1\"              -0.2143     \n",
       " \"1:Animal: D1\"               0.220048   \n",
       " \"1:Animal: O1\"               0.0952816  \n",
       " \"1:Animal: O3\"              -0.131879   \n",
       " \"1:Animal: O2\"               0.000732052\n",
       " \"2:intercept: intercept\"    45.7918     \n",
       " \"2:age: age\"                 0.308842   \n",
       " \"2:sex: M\"                 -36.6861     \n",
       " \"2:sex: F\"                 -37.8728     \n",
       " \"2:Animal: S1\"              -0.0554943  \n",
       " \"2:Animal: D1\"               0.0473173  \n",
       " \"2:Animal: O1\"               0.0112568  \n",
       " \"2:Animal: O3\"              -0.0327187  \n",
       " \"2:Animal: O2\"              -0.00502265 "
      ]
     },
     "execution_count": 36,
     "metadata": {},
     "output_type": "execute_result"
    }
   ],
   "source": [
    "out4[\"posterior mean of location parameters\"]"
   ]
  },
  {
   "cell_type": "code",
   "execution_count": 37,
   "metadata": {
    "collapsed": false
   },
   "outputs": [
    {
     "data": {
      "text/plain": [
       "5x2 Array{Any,2}:\n",
       " \"x1\"   6.77731\n",
       " \"x2\"   4.19905\n",
       " \"x3\"  -1.68684\n",
       " \"x4\"   3.47748\n",
       " \"x5\"  -2.09433"
      ]
     },
     "execution_count": 37,
     "metadata": {},
     "output_type": "execute_result"
    }
   ],
   "source": [
    "out4[\"posterior mean of marker effects\"][1]"
   ]
  },
  {
   "cell_type": "code",
   "execution_count": 38,
   "metadata": {
    "collapsed": false
   },
   "outputs": [
    {
     "data": {
      "text/plain": [
       "5x2 Array{Any,2}:\n",
       " \"x1\"   1.57689 \n",
       " \"x2\"   0.92599 \n",
       " \"x3\"  -0.416727\n",
       " \"x4\"   0.800486\n",
       " \"x5\"  -0.490916"
      ]
     },
     "execution_count": 38,
     "metadata": {},
     "output_type": "execute_result"
    }
   ],
   "source": [
    "out4[\"posterior mean of marker effects\"][2]"
   ]
  },
  {
   "cell_type": "markdown",
   "metadata": {},
   "source": [
    "## <font color=\"blue\">Bonus: maternal effects</font> "
   ]
  },
  {
   "cell_type": "code",
   "execution_count": 39,
   "metadata": {
    "collapsed": false
   },
   "outputs": [
    {
     "data": {
      "text/html": [
       "<table class=\"data-frame\"><tr><th></th><th>Animal</th><th>BW</th><th>CW</th><th>age</th><th>sex</th></tr><tr><th>1</th><td>S1</td><td>100.0</td><td>10.0</td><td>8</td><td>M</td></tr><tr><th>2</th><td>D1</td><td>50.0</td><td>12.9</td><td>7</td><td>F</td></tr><tr><th>3</th><td>O1</td><td>150.0</td><td>13.0</td><td>3</td><td>M</td></tr><tr><th>4</th><td>O3</td><td>40.0</td><td>5.0</td><td>4</td><td>F</td></tr></table>"
      ],
      "text/plain": [
       "4×5 DataFrames.DataFrame\n",
       "│ Row │ Animal │ BW    │ CW   │ age │ sex │\n",
       "├─────┼────────┼───────┼──────┼─────┼─────┤\n",
       "│ 1   │ \"S1\"   │ 100.0 │ 10.0 │ 8   │ \"M\" │\n",
       "│ 2   │ \"D1\"   │ 50.0  │ 12.9 │ 7   │ \"F\" │\n",
       "│ 3   │ \"O1\"   │ 150.0 │ 13.0 │ 3   │ \"M\" │\n",
       "│ 4   │ \"O3\"   │ 40.0  │ 5.0  │ 4   │ \"F\" │"
      ]
     },
     "execution_count": 39,
     "metadata": {},
     "output_type": "execute_result"
    }
   ],
   "source": [
    "data"
   ]
  },
  {
   "cell_type": "code",
   "execution_count": 40,
   "metadata": {
    "collapsed": false
   },
   "outputs": [
    {
     "data": {
      "text/html": [
       "<table class=\"data-frame\"><tr><th></th><th>Animal</th><th>BW</th><th>CW</th><th>age</th><th>sex</th><th>Dam</th></tr><tr><th>1</th><td>O1</td><td>150.0</td><td>13.0</td><td>3</td><td>M</td><td>D1</td></tr><tr><th>2</th><td>O3</td><td>40.0</td><td>5.0</td><td>4</td><td>F</td><td>D1</td></tr></table>"
      ],
      "text/plain": [
       "2×6 DataFrames.DataFrame\n",
       "│ Row │ Animal │ BW    │ CW   │ age │ sex │ Dam  │\n",
       "├─────┼────────┼───────┼──────┼─────┼─────┼──────┤\n",
       "│ 1   │ \"O1\"   │ 150.0 │ 13.0 │ 3   │ \"M\" │ \"D1\" │\n",
       "│ 2   │ \"O3\"   │ 40.0  │ 5.0  │ 4   │ \"F\" │ \"D1\" │"
      ]
     },
     "execution_count": 40,
     "metadata": {},
     "output_type": "execute_result"
    }
   ],
   "source": [
    "d2 = [data[3:4,:]  DataFrame(Dam = [\"D1\",\"D1\"])]"
   ]
  },
  {
   "cell_type": "code",
   "execution_count": 41,
   "metadata": {
    "collapsed": true
   },
   "outputs": [],
   "source": [
    "model_equations = \"BW = intercept + age + sex + Animal+ Dam;\n",
    "                   CW = intercept + age + sex + Animal\";"
   ]
  },
  {
   "cell_type": "code",
   "execution_count": 42,
   "metadata": {
    "collapsed": false
   },
   "outputs": [],
   "source": [
    "model5 = MTJWAS.build_model(model_equations,R);"
   ]
  },
  {
   "cell_type": "code",
   "execution_count": 43,
   "metadata": {
    "collapsed": false
   },
   "outputs": [],
   "source": [
    "MTJWAS.set_covariate(model1,\"age\")"
   ]
  },
  {
   "cell_type": "code",
   "execution_count": 44,
   "metadata": {
    "collapsed": false
   },
   "outputs": [],
   "source": [
    "# order is BW:Animal, BW:Dam, CW: Animal\n",
    "G0 = [5   1    0.1\n",
    "      1   1    0.01\n",
    "      0.1 0.01 0.5] \n",
    "MTJWAS.set_random(model5,\"Animal Dam\", ped,G0)"
   ]
  },
  {
   "cell_type": "code",
   "execution_count": 45,
   "metadata": {
    "collapsed": false
   },
   "outputs": [
    {
     "name": "stdout",
     "output_type": "stream",
     "text": [
      "at sample: 10000\n",
      "Residual covariance matrix: \n",
      "[9.873410187700825 1.9979197257512247\n",
      " 1.9979197257512247 0.9955478501770609]\n",
      "\n",
      "at sample: 20000\n",
      "Residual covariance matrix: \n",
      "[9.82039106006733 1.9643322260636862\n",
      " 1.9643322260636862 0.9820294682288431]\n",
      "\n",
      "at sample: 30000\n",
      "Residual covariance matrix: \n",
      "[9.850931588079236 1.9558271641426421\n",
      " 1.9558271641426421 0.9849899325582364]\n",
      "\n",
      "at sample: 40000\n",
      "Residual covariance matrix: \n",
      "[9.923554264162794 1.9774158506781074\n",
      " 1.9774158506781074 0.9905738801295279]\n",
      "\n",
      "at sample: 50000\n",
      "Residual covariance matrix: \n",
      "[9.883671914052716 1.9684451715352882\n",
      " 1.9684451715352882 0.9867708894909825]\n",
      "\n"
     ]
    }
   ],
   "source": [
    "out5=MTJWAS.runMCMC(model5,d2,chain_length=50000,printout_frequency=10000);"
   ]
  },
  {
   "cell_type": "code",
   "execution_count": 46,
   "metadata": {
    "collapsed": true
   },
   "outputs": [],
   "source": [
    "#mme.pedTrmVec"
   ]
  }
 ],
 "metadata": {
  "kernelspec": {
   "display_name": "Julia 0.4.5",
   "language": "julia",
   "name": "julia-0.4"
  },
  "language_info": {
   "file_extension": ".jl",
   "mimetype": "application/julia",
   "name": "julia",
   "version": "0.4.5"
  }
 },
 "nbformat": 4,
 "nbformat_minor": 0
}
