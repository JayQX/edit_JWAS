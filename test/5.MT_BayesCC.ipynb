{
 "cells": [
  {
   "cell_type": "code",
   "execution_count": 8,
   "metadata": {
    "collapsed": false
   },
   "outputs": [
    {
     "name": "stderr",
     "output_type": "stream",
     "text": [
      "INFO: No packages to install, update or remove\n",
      "INFO: Package database updated\n"
     ]
    }
   ],
   "source": [
    "Pkg.rm(\"JWAS\")"
   ]
  },
  {
   "cell_type": "code",
   "execution_count": 1,
   "metadata": {
    "collapsed": false
   },
   "outputs": [
    {
     "data": {
      "text/plain": [
       "JWAS"
      ]
     },
     "execution_count": 1,
     "metadata": {},
     "output_type": "execute_result"
    }
   ],
   "source": [
    "include(\"../src/JWAS.jl\")"
   ]
  },
  {
   "cell_type": "code",
   "execution_count": 7,
   "metadata": {
    "collapsed": true
   },
   "outputs": [],
   "source": [
    "using JWAS"
   ]
  },
  {
   "cell_type": "code",
   "execution_count": 9,
   "metadata": {
    "collapsed": false
   },
   "outputs": [
    {
     "name": "stderr",
     "output_type": "stream",
     "text": [
      "INFO: No packages to install, update or remove\n",
      "INFO: Package database updated\n",
      "INFO: METADATA is out-of-date — you may not have the latest version of JWAS\n",
      "INFO: Use `Pkg.update()` to get the latest versions of your packages\n"
     ]
    }
   ],
   "source": [
    "Pkg.add(\"JWAS\")"
   ]
  },
  {
   "cell_type": "code",
   "execution_count": 10,
   "metadata": {
    "collapsed": false
   },
   "outputs": [
    {
     "data": {
      "text/plain": [
       "Dict{ASCIIString,VersionNumber} with 79 entries:\n",
       "  \"ASCIIPlots\"        => v\"0.0.3\"\n",
       "  \"Lazy\"              => v\"0.10.1\"\n",
       "  \"MMMEModule\"        => v\"0.0.0-\"\n",
       "  \"ZMQ\"               => v\"0.3.2\"\n",
       "  \"ArrayViews\"        => v\"0.6.4\"\n",
       "  \"DataStructures\"    => v\"0.4.4\"\n",
       "  \"Compat\"            => v\"0.8.1\"\n",
       "  \"LNR\"               => v\"0.0.2\"\n",
       "  \"Calculus\"          => v\"0.1.15\"\n",
       "  \"GZip\"              => v\"0.2.19\"\n",
       "  \"Measures\"          => v\"0.0.2\"\n",
       "  \"StatsFuns\"         => v\"0.2.2\"\n",
       "  \"Cairo\"             => v\"0.2.32\"\n",
       "  \"CodeTools\"         => v\"0.3.0\"\n",
       "  \"DataFrames\"        => v\"0.7.3+\"\n",
       "  \"HttpParser\"        => v\"0.1.1\"\n",
       "  \"Requires\"          => v\"0.2.2\"\n",
       "  \"Showoff\"           => v\"0.0.7\"\n",
       "  \"Distributions\"     => v\"0.9.0\"\n",
       "  \"Mux\"               => v\"0.2.0\"\n",
       "  \"FactCheck\"         => v\"0.4.3\"\n",
       "  \"FixedPointNumbers\" => v\"0.1.3\"\n",
       "  \"SHA\"               => v\"0.1.2\"\n",
       "  \"DualNumbers\"       => v\"0.2.2\"\n",
       "  \"Media\"             => v\"0.1.2\"\n",
       "  ⋮                   => ⋮"
      ]
     },
     "execution_count": 10,
     "metadata": {},
     "output_type": "execute_result"
    }
   ],
   "source": [
    " Pkg.installed()"
   ]
  }
 ],
 "metadata": {
  "kernelspec": {
   "display_name": "Julia 0.4.5",
   "language": "julia",
   "name": "julia-0.4"
  },
  "language_info": {
   "file_extension": ".jl",
   "mimetype": "application/julia",
   "name": "julia",
   "version": "0.4.5"
  }
 },
 "nbformat": 4,
 "nbformat_minor": 0
}
