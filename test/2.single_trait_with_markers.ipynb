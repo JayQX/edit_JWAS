{
 "cells": [
  {
   "cell_type": "markdown",
   "metadata": {},
   "source": [
    "## Module for building Henderson's Mixed Model Equations for single trait including marker  and polygenic effect\n",
    "\n"
   ]
  },
  {
   "cell_type": "markdown",
   "metadata": {},
   "source": [
    "### <font color=\"red\"> Data</font>"
   ]
  },
  {
   "cell_type": "code",
   "execution_count": 1,
   "metadata": {
    "collapsed": false
   },
   "outputs": [],
   "source": [
    "using DataFrames\n",
    "using JWAS.Datasets\n",
    "using JWAS.ST"
   ]
  },
  {
   "cell_type": "code",
   "execution_count": 2,
   "metadata": {
    "collapsed": false
   },
   "outputs": [],
   "source": [
    "phenofile = Datasets.dataset(\"testMME\",\"simple.txt\")\n",
    "genofile  = Datasets.dataset(\"testMME\",\"genotype.txt\")\n",
    "pedfile   = Datasets.dataset(\"testMME\",\"pedigree.txt\");"
   ]
  },
  {
   "cell_type": "code",
   "execution_count": 3,
   "metadata": {
    "collapsed": false
   },
   "outputs": [
    {
     "data": {
      "text/html": [
       "<table class=\"data-frame\"><tr><th></th><th>Animal</th><th>Age</th><th>y</th></tr><tr><th>1</th><td>S1</td><td>1</td><td>-0.92</td></tr><tr><th>2</th><td>D1</td><td>2</td><td>-1.05</td></tr><tr><th>3</th><td>O1</td><td>3</td><td>-0.92</td></tr><tr><th>4</th><td>O3</td><td>2</td><td>1.2</td></tr></table>"
      ],
      "text/plain": [
       "4×3 DataFrames.DataFrame\n",
       "│ Row │ Animal │ Age │ y     │\n",
       "├─────┼────────┼─────┼───────┤\n",
       "│ 1   │ \"S1\"   │ 1   │ -0.92 │\n",
       "│ 2   │ \"D1\"   │ 2   │ -1.05 │\n",
       "│ 3   │ \"O1\"   │ 3   │ -0.92 │\n",
       "│ 4   │ \"O3\"   │ 2   │ 1.2   │"
      ]
     },
     "execution_count": 3,
     "metadata": {},
     "output_type": "execute_result"
    }
   ],
   "source": [
    "phenotype = readtable(phenofile,separator = ',',header=true)"
   ]
  },
  {
   "cell_type": "code",
   "execution_count": 4,
   "metadata": {
    "collapsed": false
   },
   "outputs": [
    {
     "name": "stdout",
     "output_type": "stream",
     "text": [
      "Animal,x1,x2,x3,x4,x5\n",
      "S1,1,0,1,1,1\n",
      "D1,2,0,2,2,1\n",
      "O1,1,2,0,1,0\n",
      "O3,0,0,2,1,1\n"
     ]
    }
   ],
   "source": [
    ";cat $genofile"
   ]
  },
  {
   "cell_type": "markdown",
   "metadata": {},
   "source": [
    "### <font color=\"red\"> Run module</font>"
   ]
  },
  {
   "cell_type": "code",
   "execution_count": 5,
   "metadata": {
    "collapsed": false
   },
   "outputs": [],
   "source": [
    "varRes = 1.0\n",
    "varGen = 2.5\n",
    "markerProp = 0.8\n",
    "MVarGen= varGen*markerProp\n",
    "PVarGen= varGen*(1-markerProp);"
   ]
  },
  {
   "cell_type": "code",
   "execution_count": 6,
   "metadata": {
    "collapsed": false
   },
   "outputs": [],
   "source": [
    "ped = get_pedigree(pedfile);"
   ]
  },
  {
   "cell_type": "code",
   "execution_count": 7,
   "metadata": {
    "collapsed": false
   },
   "outputs": [],
   "source": [
    "varRes=1.0\n",
    "mme = build_model(\"y = intercept + Age + Animal\",varRes)\n",
    "set_covariate(mme,\"Age\")\n",
    "set_random(mme,\"Animal\",ped,PVarGen)"
   ]
  },
  {
   "cell_type": "markdown",
   "metadata": {},
   "source": [
    "### <font color=\"red\"> work with markers</font>"
   ]
  },
  {
   "cell_type": "code",
   "execution_count": 8,
   "metadata": {
    "collapsed": false
   },
   "outputs": [
    {
     "name": "stdout",
     "output_type": "stream",
     "text": [
      "The delimiters in file /Users/haocheng/.julia/v0.4/JWAS/src/5.Datasets/src/../data/testMME/genotype.txt is ,  .\n"
     ]
    }
   ],
   "source": [
    "add_markers(mme,genofile,MVarGen,separator=',');"
   ]
  },
  {
   "cell_type": "markdown",
   "metadata": {},
   "source": [
    "### <font color=\"red\"> run MCMC</font>"
   ]
  },
  {
   "cell_type": "code",
   "execution_count": 9,
   "metadata": {
    "collapsed": false
   },
   "outputs": [
    {
     "name": "stdout",
     "output_type": "stream",
     "text": [
      "posterior means at sample: 5000\n",
      "Residual variance: 1.154865146982834\n",
      "Marker effects variance: 3.4958582036806956\n",
      "\n",
      "π: 0.0\n",
      "posterior means at sample: 10000\n",
      "Residual variance: 1.1437136026641896\n",
      "Marker effects variance: 3.5550624997454916\n",
      "\n",
      "π: 0.0\n",
      "posterior means at sample: 15000\n",
      "Residual variance: 1.1472666892916414\n",
      "Marker effects variance: 3.5794936674359343\n",
      "\n",
      "π: 0.0\n",
      "posterior means at sample: 20000\n",
      "Residual variance: 1.152352896079321\n",
      "Marker effects variance: 3.5923475762867096\n",
      "\n",
      "π: 0.0\n",
      "posterior means at sample: 25000\n",
      "Residual variance: 1.1613404406055365\n",
      "Marker effects variance: 3.606088624210086\n",
      "\n",
      "π: 0.0\n",
      "posterior means at sample: 30000\n",
      "Residual variance: 1.1706498760762494\n",
      "Marker effects variance: 3.605457209116511\n",
      "\n",
      "π: 0.0\n",
      "posterior means at sample: 35000\n",
      "Residual variance: 1.1727471990989267\n",
      "Marker effects variance: 3.598249315495172\n",
      "\n",
      "π: 0.0\n",
      "posterior means at sample: 40000\n",
      "Residual variance: 1.167499746958942\n",
      "Marker effects variance: 3.5886116162355544\n",
      "\n",
      "π: 0.0\n",
      "posterior means at sample: 45000\n",
      "Residual variance: 1.1708293021204177\n",
      "Marker effects variance: 3.581749616130808\n",
      "\n",
      "π: 0.0\n",
      "posterior means at sample: 50000\n",
      "Residual variance: 1.1689305268692531\n",
      "Marker effects variance: 3.5829021901852696\n",
      "\n",
      "π: 0.0\n"
     ]
    },
    {
     "data": {
      "text/plain": [
       "Dict{Any,Any} with 4 entries:\n",
       "  \"Posterior Mean of Loca… => 7x2 Array{Any,2}:…\n",
       "  \"MCMC samples for resid… => [0.319006,0.463745,0.614878,2.02702,4.62462,0.571…\n",
       "  \"Posterior Mean of Mark… => [-0.285342371848914,-0.12357318466722805,0.095766…\n",
       "  \"MCMC samples for polyg… => 50000x1 Array{Float64,2}:…"
      ]
     },
     "execution_count": 9,
     "metadata": {},
     "output_type": "execute_result"
    }
   ],
   "source": [
    "output=runMCMC(mme,phenotype,chain_length=50000,\n",
    "                         printout_frequency=5000,methods=\"BayesC\",Pi=0.8,\n",
    "                         output_marker_effects_frequency=1000)"
   ]
  },
  {
   "cell_type": "code",
   "execution_count": 10,
   "metadata": {
    "collapsed": false
   },
   "outputs": [
    {
     "data": {
      "text/plain": [
       "Base.KeyIterator for a Dict{Any,Any} with 4 entries. Keys:\n",
       "  \"Posterior Mean of Location Parameters\"\n",
       "  \"MCMC samples for residual variance\"\n",
       "  \"Posterior Mean of Marker Effects\"\n",
       "  \"MCMC samples for polygenic effects var-cov parameters\""
      ]
     },
     "execution_count": 10,
     "metadata": {},
     "output_type": "execute_result"
    }
   ],
   "source": [
    "keys(output)"
   ]
  },
  {
   "cell_type": "code",
   "execution_count": 11,
   "metadata": {
    "collapsed": false
   },
   "outputs": [
    {
     "data": {
      "text/plain": [
       "7x2 Array{Any,2}:\n",
       " \"intercept: intercept\"  -0.948469  \n",
       " \"Age: Age\"               0.254068  \n",
       " \"Animal: S1\"             0.0127085 \n",
       " \"Animal: D1\"            -0.00129497\n",
       " \"Animal: O1\"            -0.0260745 \n",
       " \"Animal: O3\"             0.101358  \n",
       " \"Animal: O2\"             0.00865726"
      ]
     },
     "execution_count": 11,
     "metadata": {},
     "output_type": "execute_result"
    }
   ],
   "source": [
    "output[\"Posterior Mean of Location Parameters\"]"
   ]
  },
  {
   "cell_type": "code",
   "execution_count": 12,
   "metadata": {
    "collapsed": false
   },
   "outputs": [
    {
     "data": {
      "text/plain": [
       "5-element Array{Float64,1}:\n",
       " -0.285342\n",
       " -0.123573\n",
       "  0.095766\n",
       " -0.107533\n",
       "  0.145822"
      ]
     },
     "execution_count": 12,
     "metadata": {},
     "output_type": "execute_result"
    }
   ],
   "source": [
    "output[\"Posterior Mean of Marker Effects\"]"
   ]
  },
  {
   "cell_type": "code",
   "execution_count": 16,
   "metadata": {
    "collapsed": false
   },
   "outputs": [
    {
     "data": {
      "text/plain": [
       "50000x1 Array{Float64,2}:\n",
       " 0.450266 \n",
       " 0.180403 \n",
       " 0.172147 \n",
       " 0.169927 \n",
       " 0.490524 \n",
       " 0.211515 \n",
       " 0.102302 \n",
       " 0.126335 \n",
       " 0.283947 \n",
       " 0.364067 \n",
       " 0.278869 \n",
       " 0.256138 \n",
       " 0.330316 \n",
       " ⋮        \n",
       " 0.163174 \n",
       " 0.337716 \n",
       " 0.384912 \n",
       " 0.245025 \n",
       " 0.537389 \n",
       " 0.245554 \n",
       " 0.164232 \n",
       " 0.15686  \n",
       " 0.0865519\n",
       " 0.216447 \n",
       " 0.140426 \n",
       " 0.0664848"
      ]
     },
     "execution_count": 16,
     "metadata": {},
     "output_type": "execute_result"
    }
   ],
   "source": [
    "output[ \"MCMC samples for polygenic effects var-cov parameters\"]"
   ]
  },
  {
   "cell_type": "code",
   "execution_count": 14,
   "metadata": {
    "collapsed": false
   },
   "outputs": [
    {
     "data": {
      "text/plain": [
       "50000-element Array{Float64,1}:\n",
       " 0.319006\n",
       " 0.463745\n",
       " 0.614878\n",
       " 2.02702 \n",
       " 4.62462 \n",
       " 0.571141\n",
       " 0.629823\n",
       " 0.455549\n",
       " 1.95601 \n",
       " 0.613603\n",
       " 0.510077\n",
       " 0.783871\n",
       " 3.01393 \n",
       " ⋮       \n",
       " 0.91853 \n",
       " 2.82372 \n",
       " 1.72519 \n",
       " 2.97884 \n",
       " 0.969555\n",
       " 0.38909 \n",
       " 0.432348\n",
       " 0.55914 \n",
       " 1.02721 \n",
       " 0.575531\n",
       " 0.491716\n",
       " 0.666004"
      ]
     },
     "execution_count": 14,
     "metadata": {},
     "output_type": "execute_result"
    }
   ],
   "source": [
    "output[\"MCMC samples for residual variance\"]"
   ]
  }
 ],
 "metadata": {
  "kernelspec": {
   "display_name": "Julia 0.4.6",
   "language": "julia",
   "name": "julia-0.4"
  },
  "language_info": {
   "file_extension": ".jl",
   "mimetype": "application/julia",
   "name": "julia",
   "version": "0.4.6"
  }
 },
 "nbformat": 4,
 "nbformat_minor": 0
}
