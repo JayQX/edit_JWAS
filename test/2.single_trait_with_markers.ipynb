{
 "cells": [
  {
   "cell_type": "markdown",
   "metadata": {},
   "source": [
    "## Module for building Henderson's Mixed Model Equations for single trait including marker  and polygenic effect\n",
    "\n"
   ]
  },
  {
   "cell_type": "markdown",
   "metadata": {},
   "source": [
    "### <font color=\"red\"> Data</font>"
   ]
  },
  {
   "cell_type": "code",
   "execution_count": 1,
   "metadata": {
    "collapsed": true
   },
   "outputs": [],
   "source": [
    "#run 'Pkg.clone(\"https://github.com/QTL-rocks/QTLDatasets.jl.git\")' to get test datasets\n",
    "using DataFrames\n",
    "using QTLDatasets\n",
    "using JWAS.ST"
   ]
  },
  {
   "cell_type": "code",
   "execution_count": 3,
   "metadata": {
    "collapsed": false
   },
   "outputs": [],
   "source": [
    "phenofile = QTLDatasets.dataset(\"testMME\",\"simple.txt\")\n",
    "genofile  = QTLDatasets.dataset(\"testMME\",\"genotype.txt\")\n",
    "pedfile   = QTLDatasets.dataset(\"testMME\",\"pedigree.txt\");"
   ]
  },
  {
   "cell_type": "code",
   "execution_count": 4,
   "metadata": {
    "collapsed": false
   },
   "outputs": [
    {
     "data": {
      "text/html": [
       "<table class=\"data-frame\"><tr><th></th><th>Animal</th><th>Age</th><th>y</th></tr><tr><th>1</th><td>S1</td><td>1</td><td>-0.92</td></tr><tr><th>2</th><td>D1</td><td>2</td><td>-1.05</td></tr><tr><th>3</th><td>O1</td><td>3</td><td>-0.92</td></tr><tr><th>4</th><td>O3</td><td>2</td><td>1.2</td></tr></table>"
      ],
      "text/plain": [
       "4×3 DataFrames.DataFrame\n",
       "│ Row │ Animal │ Age │ y     │\n",
       "├─────┼────────┼─────┼───────┤\n",
       "│ 1   │ \"S1\"   │ 1   │ -0.92 │\n",
       "│ 2   │ \"D1\"   │ 2   │ -1.05 │\n",
       "│ 3   │ \"O1\"   │ 3   │ -0.92 │\n",
       "│ 4   │ \"O3\"   │ 2   │ 1.2   │"
      ]
     },
     "execution_count": 4,
     "metadata": {},
     "output_type": "execute_result"
    }
   ],
   "source": [
    "phenotype = readtable(phenofile,separator = ',',header=true)"
   ]
  },
  {
   "cell_type": "code",
   "execution_count": 5,
   "metadata": {
    "collapsed": false
   },
   "outputs": [
    {
     "name": "stdout",
     "output_type": "stream",
     "text": [
      "Animal,x1,x2,x3,x4,x5\n",
      "S1,1,0,1,1,1\n",
      "D1,2,0,2,2,1\n",
      "O1,1,2,0,1,0\n",
      "O3,0,0,2,1,1\n"
     ]
    }
   ],
   "source": [
    ";cat $genofile"
   ]
  },
  {
   "cell_type": "markdown",
   "metadata": {},
   "source": [
    "### <font color=\"red\"> Run module</font>"
   ]
  },
  {
   "cell_type": "code",
   "execution_count": 6,
   "metadata": {
    "collapsed": false
   },
   "outputs": [],
   "source": [
    "varRes = 1.0\n",
    "varGen = 2.5\n",
    "markerProp = 0.8\n",
    "MVarGen= varGen*markerProp\n",
    "PVarGen= varGen*(1-markerProp);"
   ]
  },
  {
   "cell_type": "code",
   "execution_count": 7,
   "metadata": {
    "collapsed": false
   },
   "outputs": [],
   "source": [
    "ped = get_pedigree(pedfile);"
   ]
  },
  {
   "cell_type": "code",
   "execution_count": 8,
   "metadata": {
    "collapsed": false
   },
   "outputs": [],
   "source": [
    "varRes=1.0\n",
    "mme = build_model(\"y = intercept + Age + Animal\",varRes)\n",
    "set_covariate(mme,\"Age\")\n",
    "set_random(mme,\"Animal\",ped,PVarGen)"
   ]
  },
  {
   "cell_type": "markdown",
   "metadata": {},
   "source": [
    "### <font color=\"red\"> work with markers</font>"
   ]
  },
  {
   "cell_type": "code",
   "execution_count": 9,
   "metadata": {
    "collapsed": false
   },
   "outputs": [
    {
     "name": "stdout",
     "output_type": "stream",
     "text": [
      "The delimiters in file /Users/haocheng/.julia/v0.4/QTLDatasets/src/../data/testMME/genotype.txt is ,  .\n"
     ]
    }
   ],
   "source": [
    "add_markers(mme,genofile,MVarGen,separator=',');"
   ]
  },
  {
   "cell_type": "markdown",
   "metadata": {},
   "source": [
    "### <font color=\"red\"> run MCMC</font>"
   ]
  },
  {
   "cell_type": "code",
   "execution_count": 10,
   "metadata": {
    "collapsed": false
   },
   "outputs": [
    {
     "name": "stdout",
     "output_type": "stream",
     "text": [
      "at sample: 5000 with meanVare: 1.180020941204773\n",
      "at sample: 10000 with meanVare: 1.1290584794704177\n",
      "at sample: 15000 with meanVare: 1.1564789627265653\n",
      "at sample: 20000 with meanVare: 1.1568634335108294\n",
      "at sample: 25000 with meanVare: 1.1473013496017428\n",
      "at sample: 30000 with meanVare: 1.147098579656586\n",
      "at sample: 35000 with meanVare: 1.1517152527580927\n",
      "at sample: 40000 with meanVare: 1.1602999832985028\n",
      "at sample: 45000 with meanVare: 1.1529707294334304\n",
      "at sample: 50000 with meanVare: 1.1539114497497545\n"
     ]
    },
    {
     "data": {
      "text/plain": [
       "Dict{Any,Any} with 4 entries:\n",
       "  \"Posterior Mean of Loca… => 7x2 Array{Any,2}:…\n",
       "  \"MCMC samples for resid… => [0.749379,0.565092,1.34446,0.782293,1.39658,0.483…\n",
       "  \"MCMC samples for genet… => 50000x1 Array{Float64,2}:…\n",
       "  \"Posterior Mean of Mark… => [-0.28637301435446094,-0.14759747418073482,0.0904…"
      ]
     },
     "execution_count": 10,
     "metadata": {},
     "output_type": "execute_result"
    }
   ],
   "source": [
    "output=runMCMC(mme,phenotype,chain_length=50000,\n",
    "                         printout_frequency=5000,methods=\"BayesC\",Pi=0.8,\n",
    "                         output_marker_effects_frequency=1000)"
   ]
  },
  {
   "cell_type": "code",
   "execution_count": 11,
   "metadata": {
    "collapsed": false
   },
   "outputs": [
    {
     "data": {
      "text/plain": [
       "Base.KeyIterator for a Dict{Any,Any} with 4 entries. Keys:\n",
       "  \"Posterior Mean of Location Parameters\"\n",
       "  \"MCMC samples for residual variance\"\n",
       "  \"MCMC samples for genetic var-cov parameters\"\n",
       "  \"Posterior Mean of Marker Effects\""
      ]
     },
     "execution_count": 11,
     "metadata": {},
     "output_type": "execute_result"
    }
   ],
   "source": [
    "keys(output)"
   ]
  },
  {
   "cell_type": "code",
   "execution_count": 12,
   "metadata": {
    "collapsed": false
   },
   "outputs": [
    {
     "data": {
      "text/plain": [
       "7x2 Array{Any,2}:\n",
       " \"intercept: intercept\"  -1.05764    \n",
       " \"Age: Age\"               0.307154   \n",
       " \"Animal: S1\"             0.00808428 \n",
       " \"Animal: D1\"            -0.00753495 \n",
       " \"Animal: O1\"            -0.0316165  \n",
       " \"Animal: O3\"             0.0958422  \n",
       " \"Animal: O2\"            -0.000453417"
      ]
     },
     "execution_count": 12,
     "metadata": {},
     "output_type": "execute_result"
    }
   ],
   "source": [
    "output[\"Posterior Mean of Location Parameters\"]"
   ]
  },
  {
   "cell_type": "code",
   "execution_count": 13,
   "metadata": {
    "collapsed": false
   },
   "outputs": [
    {
     "data": {
      "text/plain": [
       "5-element Array{Float64,1}:\n",
       " -0.286373 \n",
       " -0.147597 \n",
       "  0.0904282\n",
       " -0.116729 \n",
       "  0.154358 "
      ]
     },
     "execution_count": 13,
     "metadata": {},
     "output_type": "execute_result"
    }
   ],
   "source": [
    "output[\"Posterior Mean of Marker Effects\"]"
   ]
  },
  {
   "cell_type": "code",
   "execution_count": 14,
   "metadata": {
    "collapsed": false
   },
   "outputs": [
    {
     "data": {
      "text/plain": [
       "50000x1 Array{Float64,2}:\n",
       " 0.772699\n",
       " 0.491373\n",
       " 0.24032 \n",
       " 0.356933\n",
       " 0.214215\n",
       " 0.159621\n",
       " 0.235844\n",
       " 0.210135\n",
       " 0.475849\n",
       " 0.261517\n",
       " 0.22853 \n",
       " 0.451648\n",
       " 0.249645\n",
       " ⋮       \n",
       " 0.157818\n",
       " 0.134052\n",
       " 0.227978\n",
       " 0.223799\n",
       " 0.312398\n",
       " 0.175965\n",
       " 0.204944\n",
       " 0.181598\n",
       " 0.223808\n",
       " 0.386585\n",
       " 0.16054 \n",
       " 0.300723"
      ]
     },
     "execution_count": 14,
     "metadata": {},
     "output_type": "execute_result"
    }
   ],
   "source": [
    "output[ \"MCMC samples for genetic var-cov parameters\"]"
   ]
  },
  {
   "cell_type": "code",
   "execution_count": 15,
   "metadata": {
    "collapsed": false
   },
   "outputs": [
    {
     "data": {
      "text/plain": [
       "50000-element Array{Float64,1}:\n",
       " 0.749379\n",
       " 0.565092\n",
       " 1.34446 \n",
       " 0.782293\n",
       " 1.39658 \n",
       " 0.483855\n",
       " 1.19215 \n",
       " 3.07654 \n",
       " 1.11291 \n",
       " 2.148   \n",
       " 0.475404\n",
       " 1.21807 \n",
       " 0.572408\n",
       " ⋮       \n",
       " 1.08261 \n",
       " 0.673619\n",
       " 1.2749  \n",
       " 1.528   \n",
       " 1.17411 \n",
       " 0.797999\n",
       " 0.640783\n",
       " 1.05866 \n",
       " 1.67794 \n",
       " 0.301304\n",
       " 0.569661\n",
       " 0.571884"
      ]
     },
     "execution_count": 15,
     "metadata": {},
     "output_type": "execute_result"
    }
   ],
   "source": [
    "output[\"MCMC samples for residual variance\"]"
   ]
  }
 ],
 "metadata": {
  "kernelspec": {
   "display_name": "Julia 0.4.5",
   "language": "julia",
   "name": "julia-0.4"
  },
  "language_info": {
   "file_extension": ".jl",
   "mimetype": "application/julia",
   "name": "julia",
   "version": "0.4.5"
  }
 },
 "nbformat": 4,
 "nbformat_minor": 0
}
