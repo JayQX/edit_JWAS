{
 "cells": [
  {
   "cell_type": "markdown",
   "metadata": {},
   "source": [
    "## <font color=\"blue\"> Data</font>"
   ]
  },
  {
   "cell_type": "code",
   "execution_count": 11,
   "metadata": {
    "collapsed": false
   },
   "outputs": [],
   "source": [
    "using DataFrames\n",
    "using JWAS.Datasets\n",
    "using JWAS.MT"
   ]
  },
  {
   "cell_type": "code",
   "execution_count": 12,
   "metadata": {
    "collapsed": false
   },
   "outputs": [],
   "source": [
    "phenofile = Datasets.dataset(\"testMT\",\"phenotype.txt\")\n",
    "genofile  = Datasets.dataset(\"testMT\",\"genotype.txt\")\n",
    "pedfile   = Datasets.dataset(\"testMT\",\"pedigree.txt\");"
   ]
  },
  {
   "cell_type": "markdown",
   "metadata": {},
   "source": [
    "### Genetic covariance matrix and residual covariance matrix"
   ]
  },
  {
   "cell_type": "code",
   "execution_count": 13,
   "metadata": {
    "collapsed": false
   },
   "outputs": [],
   "source": [
    "R      = [10.0 0.0\n",
    "           0.0 1.0]\n",
    "G      = [20.0 1.0\n",
    "           1.0 2.0];"
   ]
  },
  {
   "cell_type": "code",
   "execution_count": 14,
   "metadata": {
    "collapsed": false
   },
   "outputs": [
    {
     "data": {
      "text/html": [
       "<table class=\"data-frame\"><tr><th></th><th>Animal</th><th>BW</th><th>CW</th><th>age</th><th>sex</th></tr><tr><th>1</th><td>S1</td><td>100.0</td><td>10.0</td><td>8</td><td>M</td></tr><tr><th>2</th><td>D1</td><td>50.0</td><td>12.9</td><td>7</td><td>F</td></tr><tr><th>3</th><td>O1</td><td>150.0</td><td>13.0</td><td>3</td><td>M</td></tr><tr><th>4</th><td>O3</td><td>40.0</td><td>5.0</td><td>4</td><td>F</td></tr></table>"
      ],
      "text/plain": [
       "4×5 DataFrames.DataFrame\n",
       "│ Row │ Animal │ BW    │ CW   │ age │ sex │\n",
       "├─────┼────────┼───────┼──────┼─────┼─────┤\n",
       "│ 1   │ \"S1\"   │ 100.0 │ 10.0 │ 8   │ \"M\" │\n",
       "│ 2   │ \"D1\"   │ 50.0  │ 12.9 │ 7   │ \"F\" │\n",
       "│ 3   │ \"O1\"   │ 150.0 │ 13.0 │ 3   │ \"M\" │\n",
       "│ 4   │ \"O3\"   │ 40.0  │ 5.0  │ 4   │ \"F\" │"
      ]
     },
     "execution_count": 14,
     "metadata": {},
     "output_type": "execute_result"
    }
   ],
   "source": [
    "data=readtable(phenofile)"
   ]
  },
  {
   "cell_type": "markdown",
   "metadata": {},
   "source": [
    "## <font color=\"blue\">3. mulitiple traits with marker effects</font> "
   ]
  },
  {
   "cell_type": "markdown",
   "metadata": {},
   "source": [
    "#### set up model equations"
   ]
  },
  {
   "cell_type": "code",
   "execution_count": 15,
   "metadata": {
    "collapsed": false
   },
   "outputs": [],
   "source": [
    "model_equations = \"BW = intercept + age + sex;\n",
    "                   CW = intercept + age + sex\";"
   ]
  },
  {
   "cell_type": "code",
   "execution_count": 16,
   "metadata": {
    "collapsed": false
   },
   "outputs": [],
   "source": [
    "model3    = MT.build_model(model_equations,R);"
   ]
  },
  {
   "cell_type": "code",
   "execution_count": 17,
   "metadata": {
    "collapsed": false
   },
   "outputs": [],
   "source": [
    "MT.set_covariate(model3,\"age\")"
   ]
  },
  {
   "cell_type": "code",
   "execution_count": 18,
   "metadata": {
    "collapsed": false
   },
   "outputs": [
    {
     "name": "stdout",
     "output_type": "stream",
     "text": [
      "The delimiters in file /Users/haocheng/.julia/v0.4/JWAS/src/5.Datasets/src/../data/testMT/genotype.txt is ,  .\n"
     ]
    }
   ],
   "source": [
    "MT.add_markers(model3,genofile,G,separator=',',header=true);"
   ]
  },
  {
   "cell_type": "code",
   "execution_count": 19,
   "metadata": {
    "collapsed": false
   },
   "outputs": [
    {
     "name": "stdout",
     "output_type": "stream",
     "text": [
      "posterior means at sample: 10\n",
      "Residual covariance matrix: \n",
      "[66.45262094074693 0.0\n",
      " 0.0 0.4551138307758551]\n",
      "Marker effects covariance matrix: \n",
      "[50.80121935995164 19.01520010653735\n",
      " 19.01520010653735 9.031630183677091]\n",
      "\n",
      "π: \n",
      "Dict([0.0,1.0]=>0.2255089183873541,[1.0,0.0]=>0.4519159523814974,[1.0,1.0]=>0.19783548071334559,[0.0,0.0]=>0.12473964851780295)\n",
      "posterior means at sample: 20\n",
      "Residual covariance matrix: \n",
      "[35.59024236830428 0.0\n",
      " 0.0 0.4708892625754071]\n",
      "Marker effects covariance matrix: \n",
      "[69.17839269755845 30.370361152377356\n",
      " 30.370361152377356 15.747950097868621]\n",
      "\n",
      "π: \n",
      "Dict([0.0,1.0]=>0.2664307400479557,[1.0,0.0]=>0.45091188364115387,[1.0,1.0]=>0.18963399596865774,[0.0,0.0]=>0.09302338034223266)\n",
      "posterior means at sample: 30\n",
      "Residual covariance matrix: \n",
      "[25.559020080216435 0.0\n",
      " 0.0 0.5828569570900948]\n",
      "Marker effects covariance matrix: \n",
      "[73.3728942087813 27.446134955367903\n",
      " 27.446134955367903 12.701487549218353]\n",
      "\n",
      "π: \n",
      "Dict([0.0,1.0]=>0.28357796698642035,[1.0,0.0]=>0.45273918945215125,[1.0,1.0]=>0.1608366261602533,[0.0,0.0]=>0.10284621740117512)\n",
      "posterior means at sample: 40\n",
      "Residual covariance matrix: \n",
      "[20.608678464407877 0.0\n",
      " 0.0 0.6996139764520616]\n",
      "Marker effects covariance matrix: \n",
      "[89.60857050665658 26.072179508974116\n",
      " 26.072179508974116 10.62347477711558]\n",
      "\n",
      "π: \n",
      "Dict([0.0,1.0]=>0.29058537865557343,[1.0,0.0]=>0.37064695091986516,[1.0,1.0]=>0.18498988575626443,[0.0,0.0]=>0.1537777846682971)\n",
      "posterior means at sample: 50\n",
      "Residual covariance matrix: \n",
      "[19.49987614427602 0.0\n",
      " 0.0 0.7516450711798869]\n",
      "Marker effects covariance matrix: \n",
      "[87.09108007703612 23.697379704958827\n",
      " 23.697379704958827 9.148631179966204]\n",
      "\n",
      "π: \n",
      "Dict([0.0,1.0]=>0.2756455499236805,[1.0,0.0]=>0.3395837356681569,[1.0,1.0]=>0.20333633241759602,[0.0,0.0]=>0.18143438199056672)\n"
     ]
    }
   ],
   "source": [
    "Pi=Dict([1.0; 1.0]=>0.25,[1.0;0.0]=>0.25,[0.0,1.0]=>0.25,[0.0; 0.0]=>0.25)\n",
    "out2 = MT.runMCMC(model3,data,Pi=Pi,chain_length=50,constraint=true,\n",
    "                  printout_frequency=10,methods=\"BayesC\",output_marker_effects_frequency=1);"
   ]
  },
  {
   "cell_type": "code",
   "execution_count": 10,
   "metadata": {
    "collapsed": true
   },
   "outputs": [],
   "source": [
    "using JWAS.QTL"
   ]
  },
  {
   "cell_type": "code",
   "execution_count": 21,
   "metadata": {
    "collapsed": false
   },
   "outputs": [],
   "source": [
    "file1=\"marker_effects_BW_2016-07-26T14:39:03.txt\"\n",
    "file2=\"marker_effects_CW_2016-07-26T14:39:03.txt\";"
   ]
  },
  {
   "cell_type": "code",
   "execution_count": 22,
   "metadata": {
    "collapsed": false
   },
   "outputs": [],
   "source": [
    "a,b,c=get_additive_genetic_variances(model3,file1,file2);"
   ]
  },
  {
   "cell_type": "code",
   "execution_count": 23,
   "metadata": {
    "collapsed": false
   },
   "outputs": [
    {
     "name": "stdout",
     "output_type": "stream",
     "text": [
      "search: get_additive_genetic_variances\n",
      "\n"
     ]
    },
    {
     "data": {
      "text/latex": [
       "\\begin{verbatim}\n",
       "get_additive_genetic_variances(model::MME,files...)\n",
       "\\end{verbatim}\n",
       "\\begin{itemize}\n",
       "\\item calculate distributions of additive genetic variances with output\\_marker\\_effects \\textbf{files}\n",
       "\\item return samples, mean, variance for additive genetic variances\n",
       "\\end{itemize}\n"
      ],
      "text/markdown": [
       "```\n",
       "get_additive_genetic_variances(model::MME,files...)\n",
       "```\n",
       "\n",
       "  * calculate distributions of additive genetic variances with output_marker_effects **files**\n",
       "  * return samples, mean, variance for additive genetic variances\n"
      ],
      "text/plain": [
       "```\n",
       "get_additive_genetic_variances(model::MME,files...)\n",
       "```\n",
       "\n",
       "  * calculate distributions of additive genetic variances with output_marker_effects **files**\n",
       "  * return samples, mean, variance for additive genetic variances\n"
      ]
     },
     "execution_count": 23,
     "metadata": {},
     "output_type": "execute_result"
    }
   ],
   "source": [
    "?get_additive_genetic_variances"
   ]
  },
  {
   "cell_type": "code",
   "execution_count": 26,
   "metadata": {
    "collapsed": false,
    "scrolled": true
   },
   "outputs": [
    {
     "data": {
      "text/plain": [
       "2-element Array{Any,1}:\n",
       " 4×3 DataFrames.DataFrame\n",
       "│ Row │ ID   │ EBV      │ PEV     │\n",
       "├─────┼──────┼──────────┼─────────┤\n",
       "│ 1   │ \"S1\" │ -11.0744 │ 11.0705 │\n",
       "│ 2   │ \"D1\" │ 1.57389  │ 11.9758 │\n",
       "│ 3   │ \"O1\" │ 23.223   │ 25.7696 │\n",
       "│ 4   │ \"O3\" │ -13.7226 │ 8.3652  │            \n",
       " 4×3 DataFrames.DataFrame\n",
       "│ Row │ ID   │ EBV       │ PEV      │\n",
       "├─────┼──────┼───────────┼──────────┤\n",
       "│ 1   │ \"S1\" │ -0.183236 │ 1.20921  │\n",
       "│ 2   │ \"D1\" │ 1.2146    │ 1.26763  │\n",
       "│ 3   │ \"O1\" │ 4.149     │ 1.55523  │\n",
       "│ 4   │ \"O3\" │ -5.18036  │ 0.933692 │"
      ]
     },
     "execution_count": 26,
     "metadata": {},
     "output_type": "execute_result"
    }
   ],
   "source": [
    "get_breeding_values(model3,file1,file2)"
   ]
  }
 ],
 "metadata": {
  "kernelspec": {
   "display_name": "Julia 0.4.6",
   "language": "julia",
   "name": "julia-0.4"
  },
  "language_info": {
   "file_extension": ".jl",
   "mimetype": "application/julia",
   "name": "julia",
   "version": "0.4.6"
  }
 },
 "nbformat": 4,
 "nbformat_minor": 0
}
