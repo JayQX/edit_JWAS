{
 "cells": [
  {
   "cell_type": "markdown",
   "metadata": {},
   "source": [
    "## <font color=\"blue\"> Data</font>"
   ]
  },
  {
   "cell_type": "code",
   "execution_count": 2,
   "metadata": {
    "collapsed": false
   },
   "outputs": [],
   "source": [
    "using DataFrames\n",
    "using JWAS.Datasets\n",
    "using JWAS.MT"
   ]
  },
  {
   "cell_type": "code",
   "execution_count": 3,
   "metadata": {
    "collapsed": false
   },
   "outputs": [],
   "source": [
    "phenofile = Datasets.dataset(\"testMT\",\"phenotype.txt\")\n",
    "genofile  = Datasets.dataset(\"testMT\",\"genotype.txt\")\n",
    "pedfile   = Datasets.dataset(\"testMT\",\"pedigree.txt\");"
   ]
  },
  {
   "cell_type": "markdown",
   "metadata": {},
   "source": [
    "### Genetic covariance matrix and residual covariance matrix"
   ]
  },
  {
   "cell_type": "code",
   "execution_count": 4,
   "metadata": {
    "collapsed": false
   },
   "outputs": [],
   "source": [
    "R      = [10.0 0.0\n",
    "           0.0 1.0]\n",
    "G      = [20.0 1.0\n",
    "           1.0 2.0];"
   ]
  },
  {
   "cell_type": "code",
   "execution_count": 5,
   "metadata": {
    "collapsed": false
   },
   "outputs": [
    {
     "data": {
      "text/html": [
       "<table class=\"data-frame\"><tr><th></th><th>Animal</th><th>BW</th><th>CW</th><th>age</th><th>sex</th></tr><tr><th>1</th><td>S1</td><td>100.0</td><td>10.0</td><td>8</td><td>M</td></tr><tr><th>2</th><td>D1</td><td>50.0</td><td>12.9</td><td>7</td><td>F</td></tr><tr><th>3</th><td>O1</td><td>150.0</td><td>13.0</td><td>3</td><td>M</td></tr><tr><th>4</th><td>O3</td><td>40.0</td><td>5.0</td><td>4</td><td>F</td></tr></table>"
      ],
      "text/plain": [
       "4×5 DataFrames.DataFrame\n",
       "│ Row │ Animal │ BW    │ CW   │ age │ sex │\n",
       "├─────┼────────┼───────┼──────┼─────┼─────┤\n",
       "│ 1   │ \"S1\"   │ 100.0 │ 10.0 │ 8   │ \"M\" │\n",
       "│ 2   │ \"D1\"   │ 50.0  │ 12.9 │ 7   │ \"F\" │\n",
       "│ 3   │ \"O1\"   │ 150.0 │ 13.0 │ 3   │ \"M\" │\n",
       "│ 4   │ \"O3\"   │ 40.0  │ 5.0  │ 4   │ \"F\" │"
      ]
     },
     "execution_count": 5,
     "metadata": {},
     "output_type": "execute_result"
    }
   ],
   "source": [
    "data=readtable(phenofile)"
   ]
  },
  {
   "cell_type": "markdown",
   "metadata": {},
   "source": [
    "## <font color=\"blue\">3. mulitiple traits with marker effects</font> "
   ]
  },
  {
   "cell_type": "markdown",
   "metadata": {},
   "source": [
    "#### set up model equations"
   ]
  },
  {
   "cell_type": "code",
   "execution_count": 6,
   "metadata": {
    "collapsed": false
   },
   "outputs": [],
   "source": [
    "model_equations = \"BW = intercept + age + sex;\n",
    "                   CW = intercept + age + sex\";"
   ]
  },
  {
   "cell_type": "code",
   "execution_count": 7,
   "metadata": {
    "collapsed": false
   },
   "outputs": [],
   "source": [
    "model3    = MT.build_model(model_equations,R);"
   ]
  },
  {
   "cell_type": "code",
   "execution_count": 8,
   "metadata": {
    "collapsed": false
   },
   "outputs": [],
   "source": [
    "MT.set_covariate(model3,\"age\")"
   ]
  },
  {
   "cell_type": "code",
   "execution_count": 9,
   "metadata": {
    "collapsed": false
   },
   "outputs": [
    {
     "name": "stdout",
     "output_type": "stream",
     "text": [
      "The delimiters in file /Users/haocheng/Github/JWAS.jl/src/5.Datasets/src/../data/testMT/genotype.txt is ,  .\n"
     ]
    }
   ],
   "source": [
    "MT.add_markers(model3,genofile,G,separator=',',header=true);"
   ]
  },
  {
   "cell_type": "code",
   "execution_count": 10,
   "metadata": {
    "collapsed": false
   },
   "outputs": [
    {
     "name": "stdout",
     "output_type": "stream",
     "text": [
      "Posterior means at iteration: 10\n",
      "Residual covariance matrix: \n",
      "[131.72359988521032 0.0\n",
      " 0.0 4.644832278326033]\n",
      "Marker effects covariance matrix: \n",
      "[11.061939906664731 1.051357805627184\n",
      " 1.051357805627184 1.1809885436033594]\n",
      "\n",
      "Posterior means at iteration: 20\n",
      "Residual covariance matrix: \n",
      "[132.23078898731558 0.0\n",
      " 0.0 5.477737573520423]\n",
      "Marker effects covariance matrix: \n",
      "[8.365613191962364 0.5695088645509314\n",
      " 0.5695088645509314 1.8118860265288093]\n",
      "\n",
      "Posterior means at iteration: 30\n",
      "Residual covariance matrix: \n",
      "[126.14887563973927 0.0\n",
      " 0.0 5.734876868969988]\n",
      "Marker effects covariance matrix: \n",
      "[7.475446282619975 0.3385129671551335\n",
      " 0.3385129671551335 1.3625973599245875]\n",
      "\n",
      "Posterior means at iteration: 40\n",
      "Residual covariance matrix: \n",
      "[118.17584003668372 0.0\n",
      " 0.0 5.519224567760144]\n",
      "Marker effects covariance matrix: \n",
      "[8.521169814463773 -0.0856759564678628\n",
      " -0.0856759564678628 1.5109361726944726]\n",
      "\n",
      "Posterior means at iteration: 50\n",
      "Residual covariance matrix: \n",
      "[104.86976690786469 0.0\n",
      " 0.0 4.509218180208052]\n",
      "Marker effects covariance matrix: \n",
      "[12.716853558791064 2.7753190611435574\n",
      " 2.7753190611435574 2.8454150422914997]\n",
      "\n"
     ]
    }
   ],
   "source": [
    "Pi=Dict([1.0; 1.0]=>0.1,[0.0; 0.0]=>0.9)\n",
    "out2 = MT.runMCMC(model3,data,Pi=Pi,chain_length=50,estimatePi=false,constraint=true,\n",
    "                  printout_frequency=10,methods=\"BayesCC\",output_marker_effects_frequency=1);"
   ]
  },
  {
   "cell_type": "code",
   "execution_count": 11,
   "metadata": {
    "collapsed": false
   },
   "outputs": [
    {
     "data": {
      "text/plain": [
       "Base.KeyIterator for a Dict{Any,Any} with 4 entries. Keys:\n",
       "  \"posterior mean of marker effects covariance matrix\"\n",
       "  \"posterior mean of residual covaraince matrix\"\n",
       "  \"posterior mean of marker effects\"\n",
       "  \"posterior mean of location parameters\""
      ]
     },
     "execution_count": 11,
     "metadata": {},
     "output_type": "execute_result"
    }
   ],
   "source": [
    "keys(out2)"
   ]
  },
  {
   "cell_type": "code",
   "execution_count": 12,
   "metadata": {
    "collapsed": false
   },
   "outputs": [
    {
     "data": {
      "text/plain": [
       "2-element Array{Any,1}:\n",
       " 5x2 Array{Any,2}:\n",
       " \"x1\"   2.79339   \n",
       " \"x2\"   0.416431  \n",
       " \"x3\"   0.00157184\n",
       " \"x4\"   0.0251137 \n",
       " \"x5\"  -0.0162638 \n",
       " 5x2 Array{Any,2}:\n",
       " \"x1\"   1.68362   \n",
       " \"x2\"   0.0606433 \n",
       " \"x3\"  -0.0222896 \n",
       " \"x4\"   0.0542484 \n",
       " \"x5\"  -0.00136889"
      ]
     },
     "execution_count": 12,
     "metadata": {},
     "output_type": "execute_result"
    }
   ],
   "source": [
    "out2[\"posterior mean of marker effects\"]"
   ]
  },
  {
   "cell_type": "code",
   "execution_count": 13,
   "metadata": {
    "collapsed": true
   },
   "outputs": [],
   "source": [
    "using JWAS.QTL"
   ]
  },
  {
   "cell_type": "code",
   "execution_count": 14,
   "metadata": {
    "collapsed": false
   },
   "outputs": [],
   "source": [
    "file1=\"marker_effects_BW_2016-07-27T00:07:40.txt\"\n",
    "file2=\"marker_effects_CW_2016-07-27T00:07:40.txt\";"
   ]
  },
  {
   "cell_type": "code",
   "execution_count": 15,
   "metadata": {
    "collapsed": false
   },
   "outputs": [],
   "source": [
    "a,b,c=get_additive_genetic_variances(model3,file1,file2);"
   ]
  },
  {
   "cell_type": "code",
   "execution_count": 16,
   "metadata": {
    "collapsed": false
   },
   "outputs": [
    {
     "data": {
      "text/plain": [
       "2-element Array{Any,1}:\n",
       " 4×3 DataFrames.DataFrame\n",
       "│ Row │ ID   │ EBV      │ PEV     │\n",
       "├─────┼──────┼──────────┼─────────┤\n",
       "│ 1   │ \"S1\" │ -7.07086 │ 1.91292 │\n",
       "│ 2   │ \"D1\" │ 3.44448  │ 8.45197 │\n",
       "│ 3   │ \"O1\" │ 20.5108  │ 17.237  │\n",
       "│ 4   │ \"O3\" │ -16.8844 │ 4.52614 │      \n",
       " 4×3 DataFrames.DataFrame\n",
       "│ Row │ ID   │ EBV      │ PEV      │\n",
       "├─────┼──────┼──────────┼──────────┤\n",
       "│ 1   │ \"S1\" │ -1.28609 │ 0.133655 │\n",
       "│ 2   │ \"D1\" │ 1.53838  │ 0.619756 │\n",
       "│ 3   │ \"O1\" │ 3.74108  │ 1.09428  │\n",
       "│ 4   │ \"O3\" │ -3.99336 │ 0.651    │"
      ]
     },
     "execution_count": 16,
     "metadata": {},
     "output_type": "execute_result"
    }
   ],
   "source": [
    "get_breeding_values(model3,file1,file2)"
   ]
  }
 ],
 "metadata": {
  "kernelspec": {
   "display_name": "Julia 0.4.5",
   "language": "julia",
   "name": "julia-0.4"
  },
  "language_info": {
   "file_extension": ".jl",
   "mimetype": "application/julia",
   "name": "julia",
   "version": "0.4.5"
  }
 },
 "nbformat": 4,
 "nbformat_minor": 0
}
