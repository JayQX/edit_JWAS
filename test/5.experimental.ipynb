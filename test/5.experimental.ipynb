{
 "cells": [
  {
   "cell_type": "markdown",
   "metadata": {},
   "source": [
    "## <font color=\"blue\"> Data</font>"
   ]
  },
  {
   "cell_type": "code",
   "execution_count": 1,
   "metadata": {
    "collapsed": false
   },
   "outputs": [],
   "source": [
    "include(\"../src/JWAS.jl\")\n",
    "using DataFrames\n",
    "using QTLDatasets\n",
    "using JWAS.MT"
   ]
  },
  {
   "cell_type": "code",
   "execution_count": 2,
   "metadata": {
    "collapsed": false
   },
   "outputs": [],
   "source": [
    "phenofile = QTLDatasets.dataset(\"testMT\",\"phenotype.txt\")\n",
    "genofile  = QTLDatasets.dataset(\"testMT\",\"genotype.txt\")\n",
    "pedfile   = QTLDatasets.dataset(\"testMT\",\"pedigree.txt\");"
   ]
  },
  {
   "cell_type": "markdown",
   "metadata": {},
   "source": [
    "### Genetic covariance matrix and residual covariance matrix"
   ]
  },
  {
   "cell_type": "code",
   "execution_count": 3,
   "metadata": {
    "collapsed": false
   },
   "outputs": [],
   "source": [
    "R      = [10.0 0.0\n",
    "           0.0 1.0]\n",
    "G      = [20.0 1.0\n",
    "           1.0 2.0];"
   ]
  },
  {
   "cell_type": "code",
   "execution_count": 4,
   "metadata": {
    "collapsed": false
   },
   "outputs": [
    {
     "data": {
      "text/html": [
       "<table class=\"data-frame\"><tr><th></th><th>Animal</th><th>BW</th><th>CW</th><th>age</th><th>sex</th></tr><tr><th>1</th><td>S1</td><td>100.0</td><td>10.0</td><td>8</td><td>M</td></tr><tr><th>2</th><td>D1</td><td>50.0</td><td>12.9</td><td>7</td><td>F</td></tr><tr><th>3</th><td>O1</td><td>150.0</td><td>13.0</td><td>3</td><td>M</td></tr><tr><th>4</th><td>O3</td><td>40.0</td><td>5.0</td><td>4</td><td>F</td></tr></table>"
      ],
      "text/plain": [
       "4×5 DataFrames.DataFrame\n",
       "│ Row │ Animal │ BW    │ CW   │ age │ sex │\n",
       "├─────┼────────┼───────┼──────┼─────┼─────┤\n",
       "│ 1   │ \"S1\"   │ 100.0 │ 10.0 │ 8   │ \"M\" │\n",
       "│ 2   │ \"D1\"   │ 50.0  │ 12.9 │ 7   │ \"F\" │\n",
       "│ 3   │ \"O1\"   │ 150.0 │ 13.0 │ 3   │ \"M\" │\n",
       "│ 4   │ \"O3\"   │ 40.0  │ 5.0  │ 4   │ \"F\" │"
      ]
     },
     "execution_count": 4,
     "metadata": {},
     "output_type": "execute_result"
    }
   ],
   "source": [
    "data=readtable(phenofile)"
   ]
  },
  {
   "cell_type": "markdown",
   "metadata": {},
   "source": [
    "## <font color=\"blue\">3. mulitiple traits with marker effects</font> "
   ]
  },
  {
   "cell_type": "markdown",
   "metadata": {},
   "source": [
    "#### set up model equations"
   ]
  },
  {
   "cell_type": "code",
   "execution_count": 5,
   "metadata": {
    "collapsed": false
   },
   "outputs": [],
   "source": [
    "model_equations = \"BW = intercept + age + sex;\n",
    "                   CW = intercept + age + sex\";"
   ]
  },
  {
   "cell_type": "code",
   "execution_count": 6,
   "metadata": {
    "collapsed": false
   },
   "outputs": [],
   "source": [
    "model3    = MT.build_model(model_equations,R);"
   ]
  },
  {
   "cell_type": "code",
   "execution_count": 7,
   "metadata": {
    "collapsed": false
   },
   "outputs": [],
   "source": [
    "MT.set_covariate(model3,\"age\")"
   ]
  },
  {
   "cell_type": "code",
   "execution_count": 8,
   "metadata": {
    "collapsed": false
   },
   "outputs": [
    {
     "name": "stdout",
     "output_type": "stream",
     "text": [
      "The delimiters in file /Users/haocheng/.julia/v0.4/QTLDatasets/src/../data/testMT/genotype.txt is ,  .\n"
     ]
    }
   ],
   "source": [
    "MT.add_markers(model3,genofile,G,separator=',',header=true);"
   ]
  },
  {
   "cell_type": "code",
   "execution_count": 9,
   "metadata": {
    "collapsed": false
   },
   "outputs": [
    {
     "name": "stdout",
     "output_type": "stream",
     "text": [
      "posterior means at sample: 10\n",
      "Residual covariance matrix: \n",
      "[135.2224146514924 0.0\n",
      " 0.0 0.4878686352225702]\n",
      "Marker effects covariance matrix: \n",
      "[17.14784361737218 7.684547600676272\n",
      " 7.684547600676272 5.1248163248837155]\n",
      "\n",
      "π: \n",
      "Dict([0.0,1.0]=>0.17264068156810403,[1.0,0.0]=>0.3021274539375286,[1.0,1.0]=>0.3362292669034995,[0.0,0.0]=>0.18900259759086785)\n",
      "posterior means at sample: 20\n",
      "Residual covariance matrix: \n",
      "[84.51187854079498 0.0\n",
      " 0.0 1.9231199526770242]\n",
      "Marker effects covariance matrix: \n",
      "[29.29832073205885 5.501519456966839\n",
      " 5.501519456966839 2.9814930243986764]\n",
      "\n",
      "π: \n",
      "Dict([0.0,1.0]=>0.1803157004554784,[1.0,0.0]=>0.2513289583552475,[1.0,1.0]=>0.37047990028335065,[0.0,0.0]=>0.1978754409059234)\n",
      "posterior means at sample: 30\n",
      "Residual covariance matrix: \n",
      "[81.257008876543 0.0\n",
      " 0.0 3.1006512747378663]\n",
      "Marker effects covariance matrix: \n",
      "[30.303984048242846 5.054155557791729\n",
      " 5.054155557791729 2.3756626949461315]\n",
      "\n",
      "π: \n",
      "Dict([0.0,1.0]=>0.20973900461712433,[1.0,0.0]=>0.2191825265751662,[1.0,1.0]=>0.38773992788055106,[0.0,0.0]=>0.18333854092715832)\n",
      "posterior means at sample: 40\n",
      "Residual covariance matrix: \n",
      "[65.87764367904437 0.0\n",
      " 0.0 2.577801547539054]\n",
      "Marker effects covariance matrix: \n",
      "[41.19115065858141 8.115478012230222\n",
      " 8.115478012230222 2.9989658417236287]\n",
      "\n",
      "π: \n",
      "Dict([0.0,1.0]=>0.19317670613787455,[1.0,0.0]=>0.22485828407524627,[1.0,1.0]=>0.40157482157157276,[0.0,0.0]=>0.18039018821530628)\n",
      "posterior means at sample: 50\n",
      "Residual covariance matrix: \n",
      "[53.85685784773382 0.0\n",
      " 0.0 2.178288281567726]\n",
      "Marker effects covariance matrix: \n",
      "[46.077220328505945 10.091651077597303\n",
      " 10.091651077597303 3.542415025289073]\n",
      "\n",
      "π: \n",
      "Dict([0.0,1.0]=>0.1811832538006034,[1.0,0.0]=>0.25702248396202665,[1.0,1.0]=>0.3936212587346434,[0.0,0.0]=>0.1681730035027264)\n"
     ]
    }
   ],
   "source": [
    "Pi=Dict([1.0; 1.0]=>0.25,[1.0;0.0]=>0.25,[0.0,1.0]=>0.25,[0.0; 0.0]=>0.25)\n",
    "C = [false true;true false]\n",
    "out2 = MT.runMCMC(model3,data,Pi=Pi,chain_length=50,constraint=C,printout_frequency=10,methods=\"BayesC\",output_marker_effects_frequency=1);"
   ]
  },
  {
   "cell_type": "code",
   "execution_count": 10,
   "metadata": {
    "collapsed": true
   },
   "outputs": [],
   "source": [
    "using JWAS.QTL"
   ]
  },
  {
   "cell_type": "code",
   "execution_count": 11,
   "metadata": {
    "collapsed": false
   },
   "outputs": [],
   "source": [
    "file1=\"marker_effects_BW_2016-07-15T00:20:40.txt\"\n",
    "file2=\"marker_effects_CW_2016-07-15T00:20:40.txt\";"
   ]
  },
  {
   "cell_type": "code",
   "execution_count": 12,
   "metadata": {
    "collapsed": false
   },
   "outputs": [],
   "source": [
    "a,b,c=get_additive_genetic_variances(model3,file1,file2);"
   ]
  },
  {
   "cell_type": "code",
   "execution_count": 13,
   "metadata": {
    "collapsed": false,
    "scrolled": true
   },
   "outputs": [
    {
     "data": {
      "text/plain": [
       "2-element Array{Any,1}:\n",
       " 4×3 DataFrames.DataFrame\n",
       "│ Row │ ID   │ EBV      │ PEV     │\n",
       "├─────┼──────┼──────────┼─────────┤\n",
       "│ 1   │ \"S1\" │ -14.7203 │ 28.8167 │\n",
       "│ 2   │ \"D1\" │ 5.74251  │ 34.8293 │\n",
       "│ 3   │ \"O1\" │ 21.217   │ 48.5628 │\n",
       "│ 4   │ \"O3\" │ -12.2392 │ 18.5602 │\n",
       " 4×3 DataFrames.DataFrame\n",
       "│ Row │ ID   │ EBV      │ PEV     │\n",
       "├─────┼──────┼──────────┼─────────┤\n",
       "│ 1   │ \"S1\" │ -2.94535 │ 2.39471 │\n",
       "│ 2   │ \"D1\" │ 1.56458  │ 1.95413 │\n",
       "│ 3   │ \"O1\" │ 3.70722  │ 4.90648 │\n",
       "│ 4   │ \"O3\" │ -2.32645 │ 1.21073 │"
      ]
     },
     "execution_count": 13,
     "metadata": {},
     "output_type": "execute_result"
    }
   ],
   "source": [
    "get_breeding_values(model3,file1,file2)"
   ]
  },
  {
   "cell_type": "code",
   "execution_count": 18,
   "metadata": {
    "collapsed": false
   },
   "outputs": [
    {
     "data": {
      "text/latex": [
       "\\section{JWAS.jl}\n",
       "\\href{https://travis-ci.org/reworkhow/JWAS.jl}{\\begin{figure}\n",
       "\\centering\n",
       "\\includegraphics{https://travis-ci.org/reworkhow/JWAS.jl.svg?branch=master}\n",
       "\\caption{Build Status}\n",
       "\\end{figure}\n",
       "}\n",
       "JWAS.jl is an open-source software tool written in Julia for Bayesian multiple regression methods applied to genome-wide association studies and genomic prediction.\n",
       "\\begin{itemize}\n",
       "\\item \\textbf{homepage}: \\href{http://QTL.rocks}{QTL.rocks}\n",
       "\\item \\textbf{Installation}: at the Julia REPL, \\texttt{Pkg.clone(\"https://github.com/reworkhow/JWAS.jl.git\")}\n",
       "\\item {\\sim}{\\sim}\\textbf{Documentation}: \\href{http://jwasjl.readthedocs.org/en/latest/}{available here}{\\sim}{\\sim}\n",
       "\\item \\textbf{Examples}: \\href{http://nbviewer.jupyter.org/github/reworkhow/JWAS.jl/tree/master/test/}{available here}\n",
       "\\end{itemize}\n",
       "\\subsubsection{Structure of JWAS Module}\n",
       "\\begin{verbatim}\n",
       "JWAS.j\n",
       "\n",
       "├──────── PedModule.jl\n",
       "\n",
       "├──────── ST.jl\n",
       "           ├── build_model\n",
       "           ├── set_covariate\n",
       "           ├── set_random\n",
       "           ├── get_pedigree\n",
       "           ├── add_markers\n",
       "           ├── outputMCMCsamples\n",
       "           ├── showMME\n",
       "           ├── solve\n",
       "           └── runMCMC\n",
       "\n",
       "├──────── MT.jl\n",
       "           ├── MT.build_model\n",
       "           ├── MT.set_covariate\n",
       "           ├── MT.set_random\n",
       "           ├── MT.get_pedigree\n",
       "           ├── MT.add_markers\n",
       "           ├── MT.showMME\n",
       "           ├── MT.solve\n",
       "           └── MT.runMCMC\n",
       "\n",
       "├──────── QTL.jl\n",
       "\\end{verbatim}\n",
       "\\subsubsection{Troubleshooting}\n",
       "\\begin{enumerate}\n",
       "\\item Get help about functions above through \\textbf{?foo} or \\textbf{@doc(foo)}\n",
       "\\end{enumerate}\n"
      ],
      "text/markdown": [
       "# JWAS.jl\n",
       "\n",
       "[![Build Status](https://travis-ci.org/reworkhow/JWAS.jl.svg?branch=master)](https://travis-ci.org/reworkhow/JWAS.jl)\n",
       "\n",
       "JWAS.jl is an open-source software tool written in Julia for Bayesian multiple regression methods applied to genome-wide association studies and genomic prediction.\n",
       "\n",
       "  * **homepage**: [QTL.rocks](http://QTL.rocks)\n",
       "  * **Installation**: at the Julia REPL, `Pkg.clone(\"https://github.com/reworkhow/JWAS.jl.git\")`\n",
       "  * ~~**Documentation**: [available here](http://jwasjl.readthedocs.org/en/latest/)~~\n",
       "  * **Examples**: [available here](http://nbviewer.jupyter.org/github/reworkhow/JWAS.jl/tree/master/test/)\n",
       "\n",
       "### Structure of JWAS Module\n",
       "\n",
       "```\n",
       "JWAS.j\n",
       "\n",
       "├──────── PedModule.jl\n",
       "\n",
       "├──────── ST.jl\n",
       "           ├── build_model\n",
       "           ├── set_covariate\n",
       "           ├── set_random\n",
       "           ├── get_pedigree\n",
       "           ├── add_markers\n",
       "           ├── outputMCMCsamples\n",
       "           ├── showMME\n",
       "           ├── solve\n",
       "           └── runMCMC\n",
       "\n",
       "├──────── MT.jl\n",
       "           ├── MT.build_model\n",
       "           ├── MT.set_covariate\n",
       "           ├── MT.set_random\n",
       "           ├── MT.get_pedigree\n",
       "           ├── MT.add_markers\n",
       "           ├── MT.showMME\n",
       "           ├── MT.solve\n",
       "           └── MT.runMCMC\n",
       "\n",
       "├──────── QTL.jl\n",
       "```\n",
       "\n",
       "### Troubleshooting\n",
       "\n",
       "1. Get help about functions above through **?foo** or **@doc(foo)**\n"
      ],
      "text/plain": [
       "# JWAS.jl\n",
       "\n",
       "[![Build Status](https://travis-ci.org/reworkhow/JWAS.jl.svg?branch=master)](https://travis-ci.org/reworkhow/JWAS.jl)\n",
       "\n",
       "JWAS.jl is an open-source software tool written in Julia for Bayesian multiple regression methods applied to genome-wide association studies and genomic prediction.\n",
       "\n",
       "  * **homepage**: [QTL.rocks](http://QTL.rocks)\n",
       "  * **Installation**: at the Julia REPL, `Pkg.clone(\"https://github.com/reworkhow/JWAS.jl.git\")`\n",
       "  * ~~**Documentation**: [available here](http://jwasjl.readthedocs.org/en/latest/)~~\n",
       "  * **Examples**: [available here](http://nbviewer.jupyter.org/github/reworkhow/JWAS.jl/tree/master/test/)\n",
       "\n",
       "### Structure of JWAS Module\n",
       "\n",
       "```\n",
       "JWAS.j\n",
       "\n",
       "├──────── PedModule.jl\n",
       "\n",
       "├──────── ST.jl\n",
       "           ├── build_model\n",
       "           ├── set_covariate\n",
       "           ├── set_random\n",
       "           ├── get_pedigree\n",
       "           ├── add_markers\n",
       "           ├── outputMCMCsamples\n",
       "           ├── showMME\n",
       "           ├── solve\n",
       "           └── runMCMC\n",
       "\n",
       "├──────── MT.jl\n",
       "           ├── MT.build_model\n",
       "           ├── MT.set_covariate\n",
       "           ├── MT.set_random\n",
       "           ├── MT.get_pedigree\n",
       "           ├── MT.add_markers\n",
       "           ├── MT.showMME\n",
       "           ├── MT.solve\n",
       "           └── MT.runMCMC\n",
       "\n",
       "├──────── QTL.jl\n",
       "```\n",
       "\n",
       "### Troubleshooting\n",
       "\n",
       "1. Get help about functions above through **?foo** or **@doc(foo)**\n"
      ]
     },
     "execution_count": 18,
     "metadata": {},
     "output_type": "execute_result"
    }
   ],
   "source": [
    "Markdown.readme(\"JWAS\")"
   ]
  }
 ],
 "metadata": {
  "kernelspec": {
   "display_name": "Julia 0.4.5",
   "language": "julia",
   "name": "julia-0.4"
  },
  "language_info": {
   "file_extension": ".jl",
   "mimetype": "application/julia",
   "name": "julia",
   "version": "0.4.5"
  }
 },
 "nbformat": 4,
 "nbformat_minor": 0
}
