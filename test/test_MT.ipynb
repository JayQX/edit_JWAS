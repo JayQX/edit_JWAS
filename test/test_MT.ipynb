{
 "cells": [
  {
   "cell_type": "code",
   "execution_count": 1,
   "metadata": {
    "collapsed": false
   },
   "outputs": [],
   "source": [
    "include(\"/Users/haocheng/Github/JWAS.jl/src/JWAS.jl\")\n",
    "using DataFrames,JWAS,JWAS.Datasets"
   ]
  },
  {
   "cell_type": "code",
   "execution_count": 2,
   "metadata": {
    "collapsed": false
   },
   "outputs": [
    {
     "name": "stdout",
     "output_type": "stream",
     "text": [
      "999 markers on 351 individuals were added.\n"
     ]
    }
   ],
   "source": [
    "phenofile = \"/Users/haocheng/Downloads/vED_test.txt\"\n",
    "genofile  = \"/Users/haocheng/Downloads/test\"\n",
    "\n",
    "data      = readtable(phenofile,separator = ',',header=true)\n",
    "\n",
    "R = [7.062221e+10 -4.806167e+04 -5.706463e+05\n",
    "            -4.806167e+04 8.383308e-01 4.356155e+00\n",
    "            -5.706463e+05 4.356155e+00 4.160800e+01]\n",
    "G = [7.062221e+10 -4.806167e+04 -5.706463e+05\n",
    "            -4.806167e+04 8.383308e-01 4.356155e+00\n",
    "             -5.706463e+05 4.356155e+00 4.160800e+01]\n",
    "model_equations = \"volume = intercept;\n",
    "                   SqrtEHT = intercept;\n",
    "                   DTA = intercept\";\n",
    "model1 = build_model(model_equations,R);\n",
    "add_markers(model1,genofile,G,separator=' ',header=true);"
   ]
  },
  {
   "cell_type": "code",
   "execution_count": null,
   "metadata": {
    "collapsed": false
   },
   "outputs": [],
   "source": [
    "Pi=Dict(\n",
    "[1.0; 1.0; 1.0]=>0.5,[1.0;1.0;0.0]=>0.0,[1.0;0.0;1.0]=>0.0,\n",
    "[0.0;1.0;1.0]=>0.0,[0.0;0.0;1.0]=>0.0,[1.0;0.0;0.0]=>0.0, \n",
    "[0.0;1.0;0.0]=>0.0,[0.0;0.0;0.0]=>0.5)\n",
    "\n",
    "out = runMCMC(model1,data,Pi=Pi,chain_length=5000,methods=\"BayesB\",estimatePi=false,output_samples_frequency=1);"
   ]
  },
  {
   "cell_type": "code",
   "execution_count": 4,
   "metadata": {
    "collapsed": false
   },
   "outputs": [
    {
     "data": {
      "text/plain": [
       "Dict{Any,Any} with 5 entries:\n",
       "  \"posterior mean of marke… => [0.0 0.0 0.0; 0.0 0.0 0.0; 0.0 0.0 0.0]\n",
       "  \"posterior mean of resid… => [1.14214e12 -7.52406e6 -4.33047e7; -7.52406e6 56…\n",
       "  \"posterior mean of Pi\"    => Dict([1.0,0.0,1.0]=>0.0,[0.0,1.0,1.0]=>0.0,[0.0,…\n",
       "  \"posterior mean of marke… => Any[…\n",
       "  \"posterior mean of locat… => Any[\"1:intercept : intercept\" 9.42458e5; \"2:inte…"
      ]
     },
     "execution_count": 4,
     "metadata": {},
     "output_type": "execute_result"
    }
   ],
   "source": [
    "out"
   ]
  },
  {
   "cell_type": "code",
   "execution_count": null,
   "metadata": {
    "collapsed": true
   },
   "outputs": [],
   "source": []
  }
 ],
 "metadata": {
  "anaconda-cloud": {},
  "kernelspec": {
   "display_name": "Julia 0.5.0",
   "language": "julia",
   "name": "julia-0.5"
  },
  "language_info": {
   "file_extension": ".jl",
   "mimetype": "application/julia",
   "name": "julia",
   "version": "0.5.0"
  }
 },
 "nbformat": 4,
 "nbformat_minor": 1
}
