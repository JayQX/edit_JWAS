{
 "cells": [
  {
   "cell_type": "code",
   "execution_count": 1,
   "metadata": {
    "collapsed": true
   },
   "outputs": [],
   "source": [
    "include(\"/Users/haocheng/Github/JWAS.jl/src/JWAS.jl\")\n",
    "using DataFrames,JWAS,JWAS.Datasets"
   ]
  },
  {
   "cell_type": "code",
   "execution_count": 2,
   "metadata": {
    "collapsed": false
   },
   "outputs": [
    {
     "name": "stdout",
     "output_type": "stream",
     "text": [
      "5 markers on 4 individuals were added.\n",
      "Priors for marker effects covariance matrix were calculated from genetic covariance matrix and π.\n",
      "Marker effects covariance matrix is \n",
      "[10.9589 0.626223; 0.626223 1.09589].\n",
      "\n",
      "\n",
      "MCMC Information:\n",
      "\n",
      "methods                                      BayesB\n",
      "chain_length                                    500\n",
      "starting_value                                false\n",
      "printout_frequency                              501\n",
      "output_samples_frequency                          5\n",
      "constraint                                    false\n",
      "missing_phenotypes                            false\n",
      "update_priors_frequency                           0\n",
      "\n",
      "Information for hyper-parameter: π (Π)\n",
      "π                              Dict([0.0,1.0]=>0.1,[1.0,0.0]=>0.1,[1.0,1.0]=>0.7,[0.0,0.0]=>0.1)\n",
      "estimatePi                                     true\n",
      "\n",
      "Degree of freedom for hyper-parameters:\n",
      "residual variances:                           4.000\n",
      "iid random effect variances:                  4.000\n",
      "polygenic effect variances:                   4.000\n",
      "marker effect variances:                      4.000\n",
      "\n",
      "\n",
      "\n"
     ]
    },
    {
     "data": {
      "text/plain": [
       "Dict{Any,Any} with 5 entries:\n",
       "  \"posterior mean of marke… => [0.0 0.0; 0.0 0.0]\n",
       "  \"posterior mean of resid… => [46.7171 11.6754; 11.6754 3.7871]\n",
       "  \"posterior mean of Pi\"    => Dict([0.0,1.0]=>0.0,[1.0,0.0]=>0.0,[1.0,1.0]=>0.…\n",
       "  \"posterior mean of marke… => Any[…\n",
       "  \"posterior mean of locat… => Any[\"1:intercept : intercept\" 77.8125; \"1:age : …"
      ]
     },
     "execution_count": 2,
     "metadata": {},
     "output_type": "execute_result"
    }
   ],
   "source": [
    "using DataFrames,JWAS,JWAS.Datasets\n",
    "phenofile = Datasets.dataset(\"testMT\",\"phenotype.txt\")\n",
    "genofile  = Datasets.dataset(\"testMT\",\"genotype.txt\")\n",
    "pedfile   = Datasets.dataset(\"testMT\",\"pedigree.txt\");\n",
    "\n",
    "data = readtable(phenofile,separator = ',',header=true);\n",
    "\n",
    "R      = [10.0 2.0\n",
    "           2.0 1.0]\n",
    "\n",
    "G      = [20.0 1.0\n",
    "           1.0 2.0]\n",
    "\n",
    "model_equations = \"BW = intercept + age + sex\n",
    "                   CW = intercept + age + sex\";\n",
    "\n",
    "model1 = build_model(model_equations,R)\n",
    "\n",
    "set_covariate(model1,\"age\");\n",
    "\n",
    "add_markers(model1,genofile,G,separator=',',header=true);\n",
    "Pi=Dict([1.0; 1.0]=>0.7,[1.0;0.0]=>0.1,[0.0,1.0]=>0.1,[0.0; 0.0]=>0.1)\n",
    "out = runMCMC(model1,data,Pi=Pi,chain_length=500,methods=\"BayesB\",\n",
    "              estimatePi=true,output_samples_frequency=5)"
   ]
  },
  {
   "cell_type": "code",
   "execution_count": 1,
   "metadata": {
    "collapsed": false
   },
   "outputs": [
    {
     "name": "stdout",
     "output_type": "stream",
     "text": [
      "coding pedigree... 100%|████████████████████████████████| Time: 0:00:01\n",
      "calculating inbreeding... 100%|█████████████████████████| Time: 0:00:11\n",
      "Finished!\n",
      "MCMC Information:\n",
      "\n",
      "methods                        conventional (no markers)\n",
      "chain_length                                      2\n",
      "starting_value                                false\n",
      "printout_frequency                                1\n",
      "output_samples_frequency                          0\n",
      "constraint                                    false\n",
      "missing_phenotypes                            false\n",
      "update_priors_frequency                           0\n",
      "\n",
      "Degree of freedom for hyper-parameters:\n",
      "residual variances:                           4.000\n",
      "iid random effect variances:                  4.000\n",
      "polygenic effect variances:                   4.000\n",
      "marker effect variances:                      4.000\n",
      "\n",
      "\n",
      "\n",
      "\n",
      "Posterior means at iteration: 1\n",
      "Residual covariance matrix: \n",
      "[65.6984 1.17019; 1.17019 0.131025]\n",
      "Polygenic effects covariance matrix \n",
      "[24.8832 0.065279 1.45772 0.016846; 0.065279 0.006824 -0.002719 -0.003351; 1.45772 -0.002719 3.47436 0.015216; 0.016846 -0.003351 0.015216 0.004751]\n",
      "\n",
      "running MCMC for conventional (no markers)... 50%|███   |  ETA: 0:00:14\n",
      "Posterior means at iteration: 2\n",
      "Residual covariance matrix: \n",
      "[59.761 0.876642; 0.876642 0.109428]\n",
      "Polygenic effects covariance matrix \n",
      "[24.0044 0.062581 1.29854 0.014889; 0.062581 0.006545 -0.001724 -0.003077; 1.29854 -0.001724 3.36809 0.013505; 0.014889 -0.003077 0.013505 0.004474]\n",
      "\n",
      "running MCMC for conventional (no markers)...100%|██████| Time: 0:00:26\n",
      " 51.362163 seconds (45.19 M allocations: 16.638 GB, 26.01% gc time)\n",
      "MCMC Information:\n",
      "\n",
      "methods                        conventional (no markers)\n",
      "chain_length                                      2\n",
      "starting_value                                false\n",
      "printout_frequency                                1\n",
      "output_samples_frequency                          0\n",
      "constraint                                    false\n",
      "missing_phenotypes                            false\n",
      "update_priors_frequency                           0\n",
      "\n",
      "Degree of freedom for hyper-parameters:\n",
      "residual variances:                           4.000\n",
      "iid random effect variances:                  4.000\n",
      "polygenic effect variances:                   4.000\n",
      "marker effect variances:                      4.000\n",
      "\n",
      "\n",
      "\n",
      "\n",
      "Posterior means at iteration: 1\n",
      "Residual covariance matrix: \n",
      "[102.89 1.00536; 1.00536 0.089243]\n",
      "Polygenic effects covariance matrix \n",
      "[17.4853 0.045122 0.677203 0.008131; 0.045122 0.003495 0.005017 -0.001359; 0.677203 0.005017 2.59553 0.005291; 0.008131 -0.001359 0.005291 0.002963]\n",
      "\n",
      "running MCMC for conventional (no markers)... 50%|███   |  ETA: 0:00:15\n",
      "Posterior means at iteration: 2\n",
      "Residual covariance matrix: \n",
      "[82.5236 0.75052; 0.75052 0.085383]\n",
      "Polygenic effects covariance matrix \n",
      "[16.9653 0.042458 0.641855 0.007752; 0.042458 0.003359 0.004985 -0.001248; 0.641855 0.004985 2.52879 0.00477; 0.007752 -0.001248 0.00477 0.002854]\n",
      "\n",
      "running MCMC for conventional (no markers)...100%|██████| Time: 0:00:30\n"
     ]
    },
    {
     "data": {
      "text/plain": [
       "Dict{Any,Any} with 3 entries:\n",
       "  \"Posterior mean of polyg… => [16.9653 0.0424579 0.641855 0.00775181; 0.042457…\n",
       "  \"Posterior mean of resid… => [82.5236 0.75052; 0.75052 0.0853829]\n",
       "  \"Posterior mean of locat… => Any[\"1:intercept : intercept\" 82.8173; \"1:bwcg :…"
      ]
     },
     "execution_count": 1,
     "metadata": {},
     "output_type": "execute_result"
    }
   ],
   "source": [
    "include(\"../src/JWAS.jl\")\n",
    "cd(\"/Users/haocheng/Desktop/hailin-8.reByCECG.123only.aod\")\n",
    "\n",
    "using DataFrames\n",
    "using JWAS\n",
    "\n",
    "ped = get_pedigree(\"finalPED\");\n",
    "\n",
    "dat = readtable(\"finalDAT\", separator = ' ');\n",
    "\n",
    "model_equations = \"bw    = intercept + bwcg + HH + XX + aod + animal + dam;\n",
    "                   ce    = intercept + cecg + HH + XX + aod + animal + dam\";\n",
    "\n",
    "R = readdlm(\"startingValues.R\");\n",
    "G = readdlm(\"startingValues.G\");\n",
    "starting = readdlm(\"startingValues.sol\");\n",
    "\n",
    "model = build_model(model_equations,R);\n",
    "set_covariate(model,\"HH XX\")\n",
    "set_random(model,\"animal dam\", ped, G)\n",
    "\n",
    "#@time out=solve(model, dat,solver=\"GaussSeidel\", printout_frequency=100, tolerance = 0.0001);\n",
    "#starting=map(Float64, out[:, 2]);\n",
    "#writedlm(\"startingValues.sol\", starting)\n",
    "\n",
    "@time outMCMC=runMCMC(model, dat, chain_length=2, printout_frequency=1) #, starting_value=starting);"
   ]
  },
  {
   "cell_type": "code",
   "execution_count": null,
   "metadata": {
    "collapsed": true
   },
   "outputs": [],
   "source": []
  }
 ],
 "metadata": {
  "anaconda-cloud": {},
  "kernelspec": {
   "display_name": "Julia 0.5.0",
   "language": "julia",
   "name": "julia-0.5"
  },
  "language_info": {
   "file_extension": ".jl",
   "mimetype": "application/julia",
   "name": "julia",
   "version": "0.5.0"
  }
 },
 "nbformat": 4,
 "nbformat_minor": 1
}
