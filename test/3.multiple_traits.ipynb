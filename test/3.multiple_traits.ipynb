{
 "cells": [
  {
   "cell_type": "markdown",
   "metadata": {},
   "source": [
    "## <font color=\"blue\"> Data</font>"
   ]
  },
  {
   "cell_type": "code",
   "execution_count": 2,
   "metadata": {
    "collapsed": true
   },
   "outputs": [],
   "source": [
    "#run 'Pkg.clone(\"https://github.com/QTL-rocks/QTLDatasets.jl.git\")' to get test datasets\n",
    "using DataFrames\n",
    "using QTLDatasets\n",
    "using JWAS.MT"
   ]
  },
  {
   "cell_type": "code",
   "execution_count": 3,
   "metadata": {
    "collapsed": false
   },
   "outputs": [],
   "source": [
    "phenofile = QTLDatasets.dataset(\"testMT\",\"phenotype.txt\")\n",
    "genofile  = QTLDatasets.dataset(\"testMT\",\"genotype.txt\")\n",
    "pedfile   = QTLDatasets.dataset(\"testMT\",\"pedigree.txt\");"
   ]
  },
  {
   "cell_type": "markdown",
   "metadata": {},
   "source": [
    "### phenotypes"
   ]
  },
  {
   "cell_type": "code",
   "execution_count": 4,
   "metadata": {
    "collapsed": false
   },
   "outputs": [
    {
     "name": "stdout",
     "output_type": "stream",
     "text": [
      "Animal,BW,CW,age,sex\n",
      "S1,100.0,10.0,8,M\n",
      "D1,50.0,12.9,7,F\n",
      "O1,150.0,13.0,3,M\n",
      "O3,40.0,5.0,4,F\n"
     ]
    }
   ],
   "source": [
    ";cat $phenofile"
   ]
  },
  {
   "cell_type": "markdown",
   "metadata": {},
   "source": [
    "### genotypes"
   ]
  },
  {
   "cell_type": "code",
   "execution_count": 5,
   "metadata": {
    "collapsed": false
   },
   "outputs": [
    {
     "name": "stdout",
     "output_type": "stream",
     "text": [
      "Animal,x1,x2,x3,x4,x5\n",
      "S1,1.0,0.0,1.0,1.0,1.0\n",
      "D1,2.0,0.0,2.0,2.0,1.0\n",
      "O1,1.0,2.0,0.0,1.0,0.0\n",
      "O3,0.0,0.0,2.0,1.0,1.0\n"
     ]
    }
   ],
   "source": [
    ";cat $genofile"
   ]
  },
  {
   "cell_type": "markdown",
   "metadata": {},
   "source": [
    "### pedigree"
   ]
  },
  {
   "cell_type": "code",
   "execution_count": 6,
   "metadata": {
    "collapsed": false
   },
   "outputs": [
    {
     "name": "stdout",
     "output_type": "stream",
     "text": [
      "S1 0 0\n",
      "D1 0 0\n",
      "O1 S1 D1\n",
      "O2 S1 D1\n",
      "O3 S1 D1\n"
     ]
    }
   ],
   "source": [
    ";cat $pedfile"
   ]
  },
  {
   "cell_type": "markdown",
   "metadata": {},
   "source": [
    "### Genetic covariance matrix and residual covariance matrix"
   ]
  },
  {
   "cell_type": "code",
   "execution_count": 7,
   "metadata": {
    "collapsed": false
   },
   "outputs": [],
   "source": [
    "R      = [10.0 2.0\n",
    "           2.0 1.0]\n",
    "G      = [20.0 1.0\n",
    "           1.0 2.0];"
   ]
  },
  {
   "cell_type": "markdown",
   "metadata": {},
   "source": [
    "## <font color=\"blue\">1. mulitiple trait with fixed effects</font> "
   ]
  },
  {
   "cell_type": "code",
   "execution_count": 8,
   "metadata": {
    "collapsed": false
   },
   "outputs": [
    {
     "data": {
      "text/html": [
       "<table class=\"data-frame\"><tr><th></th><th>Animal</th><th>BW</th><th>CW</th><th>age</th><th>sex</th></tr><tr><th>1</th><td>S1</td><td>100.0</td><td>10.0</td><td>8</td><td>M</td></tr><tr><th>2</th><td>D1</td><td>50.0</td><td>12.9</td><td>7</td><td>F</td></tr><tr><th>3</th><td>O1</td><td>150.0</td><td>13.0</td><td>3</td><td>M</td></tr><tr><th>4</th><td>O3</td><td>40.0</td><td>5.0</td><td>4</td><td>F</td></tr></table>"
      ],
      "text/plain": [
       "4×5 DataFrames.DataFrame\n",
       "│ Row │ Animal │ BW    │ CW   │ age │ sex │\n",
       "├─────┼────────┼───────┼──────┼─────┼─────┤\n",
       "│ 1   │ \"S1\"   │ 100.0 │ 10.0 │ 8   │ \"M\" │\n",
       "│ 2   │ \"D1\"   │ 50.0  │ 12.9 │ 7   │ \"F\" │\n",
       "│ 3   │ \"O1\"   │ 150.0 │ 13.0 │ 3   │ \"M\" │\n",
       "│ 4   │ \"O3\"   │ 40.0  │ 5.0  │ 4   │ \"F\" │"
      ]
     },
     "execution_count": 8,
     "metadata": {},
     "output_type": "execute_result"
    }
   ],
   "source": [
    "data=readtable(phenofile)"
   ]
  },
  {
   "cell_type": "markdown",
   "metadata": {},
   "source": [
    "#### set up model equations"
   ]
  },
  {
   "cell_type": "code",
   "execution_count": 9,
   "metadata": {
    "collapsed": false
   },
   "outputs": [],
   "source": [
    "model_equations = \"BW = intercept + age + sex;\n",
    "                  CW = intercept + age + sex\";"
   ]
  },
  {
   "cell_type": "code",
   "execution_count": 10,
   "metadata": {
    "collapsed": false
   },
   "outputs": [],
   "source": [
    "model1 = MT.build_model(model_equations,R);"
   ]
  },
  {
   "cell_type": "markdown",
   "metadata": {},
   "source": [
    "#### set variables as covariate (all variables are set as factors by default)"
   ]
  },
  {
   "cell_type": "code",
   "execution_count": 11,
   "metadata": {
    "collapsed": false
   },
   "outputs": [],
   "source": [
    "MT.set_covariate(model1,\"age\")"
   ]
  },
  {
   "cell_type": "markdown",
   "metadata": {},
   "source": [
    "#### run"
   ]
  },
  {
   "cell_type": "code",
   "execution_count": 12,
   "metadata": {
    "collapsed": false
   },
   "outputs": [
    {
     "name": "stdout",
     "output_type": "stream",
     "text": [
      "at sample: 10000\n",
      "Residual covariance matrix: \n",
      "[149.03909452141565 35.748058383114454\n",
      " 35.748058383114454 9.029087620408959]\n",
      "\n",
      "at sample: 20000\n",
      "Residual covariance matrix: \n",
      "[150.35907136012355 36.052181362602965\n",
      " 36.052181362602965 9.099998496554692]\n",
      "\n",
      "at sample: 30000\n",
      "Residual covariance matrix: \n",
      "[147.3072187685705 35.32293070546113\n",
      " 35.32293070546113 8.92322067874281]\n",
      "\n",
      "at sample: 40000\n",
      "Residual covariance matrix: \n",
      "[155.5184955690814 37.32435180295877\n",
      " 37.32435180295877 9.41906105307504]\n",
      "\n",
      "at sample: 50000\n",
      "Residual covariance matrix: \n",
      "[154.39242915669377 37.052206049265514\n",
      " 37.052206049265514 9.349809355916875]\n",
      "\n"
     ]
    }
   ],
   "source": [
    "out1=MT.runMCMC(model1,data,chain_length=50000,printout_frequency=10000);"
   ]
  },
  {
   "cell_type": "markdown",
   "metadata": {},
   "source": [
    "## <font color=\"blue\">2. multiple trait with direct genetic effects</font> "
   ]
  },
  {
   "cell_type": "markdown",
   "metadata": {},
   "source": [
    "#### set up model equations"
   ]
  },
  {
   "cell_type": "code",
   "execution_count": 13,
   "metadata": {
    "collapsed": false
   },
   "outputs": [],
   "source": [
    "model_equations = \"BW = intercept + age + sex + Animal;\n",
    "                   CW = intercept + age + sex + Animal\";"
   ]
  },
  {
   "cell_type": "code",
   "execution_count": 14,
   "metadata": {
    "collapsed": false
   },
   "outputs": [],
   "source": [
    "model2    = MT.build_model(model_equations,R);"
   ]
  },
  {
   "cell_type": "code",
   "execution_count": 15,
   "metadata": {
    "collapsed": false
   },
   "outputs": [],
   "source": [
    "MT.set_covariate(model1,\"age\")"
   ]
  },
  {
   "cell_type": "markdown",
   "metadata": {},
   "source": [
    "#### set variables as random variables"
   ]
  },
  {
   "cell_type": "markdown",
   "metadata": {},
   "source": [
    "* random variables whose covariance matrices are numerator relationship matrix "
   ]
  },
  {
   "cell_type": "code",
   "execution_count": 16,
   "metadata": {
    "collapsed": false
   },
   "outputs": [],
   "source": [
    "ped = MT.get_pedigree(pedfile);"
   ]
  },
  {
   "cell_type": "code",
   "execution_count": 17,
   "metadata": {
    "collapsed": false
   },
   "outputs": [],
   "source": [
    "MT.set_random(model2,\"Animal\", ped,G)"
   ]
  },
  {
   "cell_type": "markdown",
   "metadata": {},
   "source": [
    "#### run"
   ]
  },
  {
   "cell_type": "code",
   "execution_count": 18,
   "metadata": {
    "collapsed": false
   },
   "outputs": [
    {
     "name": "stdout",
     "output_type": "stream",
     "text": [
      "at sample: 10000\n",
      "Residual covariance matrix: \n",
      "[10.574894652774029 2.0569031977746173\n",
      " 2.0569031977746173 1.029633070944177]\n",
      "\n",
      "at sample: 20000\n",
      "Residual covariance matrix: \n",
      "[10.141337872662055 2.033440842049013\n",
      " 2.033440842049013 1.0270109296291818]\n",
      "\n",
      "at sample: 30000\n",
      "Residual covariance matrix: \n",
      "[9.927777400079348 1.985638070524171\n",
      " 1.985638070524171 1.0055137157086174]\n",
      "\n",
      "at sample: 40000\n",
      "Residual covariance matrix: \n",
      "[9.834032884340138 1.9748779633424438\n",
      " 1.9748779633424438 1.0021574471114667]\n",
      "\n",
      "at sample: 50000\n",
      "Residual covariance matrix: \n",
      "[9.91210898753696 1.9816063714857222\n",
      " 1.9816063714857222 1.0007226268964031]\n",
      "\n"
     ]
    }
   ],
   "source": [
    "out2 = MT.runMCMC(model2,data,chain_length=50000,printout_frequency=10000);"
   ]
  },
  {
   "cell_type": "markdown",
   "metadata": {},
   "source": [
    "## <font color=\"blue\">3. mulitiple traits with marker effects</font> "
   ]
  },
  {
   "cell_type": "markdown",
   "metadata": {},
   "source": [
    "#### set up model equations"
   ]
  },
  {
   "cell_type": "code",
   "execution_count": 19,
   "metadata": {
    "collapsed": false
   },
   "outputs": [],
   "source": [
    "model_equations = \"BW = intercept + age + sex;\n",
    "                   CW = intercept + age + sex\";"
   ]
  },
  {
   "cell_type": "code",
   "execution_count": 20,
   "metadata": {
    "collapsed": false
   },
   "outputs": [],
   "source": [
    "model3    = MT.build_model(model_equations,R);"
   ]
  },
  {
   "cell_type": "code",
   "execution_count": 21,
   "metadata": {
    "collapsed": false
   },
   "outputs": [],
   "source": [
    "MT.set_covariate(model3,\"age\")"
   ]
  },
  {
   "cell_type": "code",
   "execution_count": 22,
   "metadata": {
    "collapsed": false
   },
   "outputs": [
    {
     "name": "stdout",
     "output_type": "stream",
     "text": [
      "The delimiters in file /Users/haocheng/.julia/v0.4/QTLDatasets/src/../data/testMT/genotype.txt is ,  .\n"
     ]
    }
   ],
   "source": [
    "MT.add_markers(model3,genofile,G,separator=',',header=true);"
   ]
  },
  {
   "cell_type": "code",
   "execution_count": 42,
   "metadata": {
    "collapsed": false
   },
   "outputs": [
    {
     "name": "stdout",
     "output_type": "stream",
     "text": [
      "at sample: 10000\n",
      "Residual covariance matrix: \n",
      "[109.45116501029153 27.719009215818176\n",
      " 27.719009215818176 7.928843688876041]\n",
      "Marker effects covariance matrix: \n",
      "[23.214638313424356 4.35988570423136\n",
      " 4.35988570423136 1.8716828148972637]\n",
      "\n",
      "Dict([0.0,1.0]=>0.40535514756442836,[1.0,0.0]=>0.0706605639674552,[1.0,1.0]=>0.4953066158450146,[0.0,0.0]=>0.028677672623101825)\n",
      "at sample: 20000\n",
      "Residual covariance matrix: \n",
      "[105.27467661470206 26.348094859773237\n",
      " 26.348094859773237 7.443546016569365]\n",
      "Marker effects covariance matrix: \n",
      "[23.282106119917124 4.267656827892287\n",
      " 4.267656827892287 1.870214005551951]\n",
      "\n",
      "Dict([0.0,1.0]=>0.036769858307265035,[1.0,0.0]=>0.21538899691067084,[1.0,1.0]=>0.10512233194204422,[0.0,0.0]=>0.64271881284002)\n",
      "at sample: 30000\n",
      "Residual covariance matrix: \n",
      "[104.51669760553288 26.20156330622448\n",
      " 26.20156330622448 7.4030007653762535]\n",
      "Marker effects covariance matrix: \n",
      "[22.0100139486343 3.901059653079987\n",
      " 3.901059653079987 1.7352953854518052]\n",
      "\n",
      "Dict([0.0,1.0]=>0.4346269710177719,[1.0,0.0]=>0.24362892930372965,[1.0,1.0]=>0.3123048448924184,[0.0,0.0]=>0.009439254786079963)\n",
      "at sample: 40000\n",
      "Residual covariance matrix: \n",
      "[101.85460157035833 25.44516150496757\n",
      " 25.44516150496757 7.179708389459117]\n",
      "Marker effects covariance matrix: \n",
      "[25.84736544086196 4.679130882501309\n",
      " 4.679130882501309 1.9124757767737894]\n",
      "\n",
      "Dict([0.0,1.0]=>0.49383408656801,[1.0,0.0]=>0.18377351988039756,[1.0,1.0]=>0.24168762587206458,[0.0,0.0]=>0.08070476767952793)\n",
      "at sample: 50000\n",
      "Residual covariance matrix: \n",
      "[98.50432929857259 24.57720927574648\n",
      " 24.57720927574648 6.944362583996728]\n",
      "Marker effects covariance matrix: \n",
      "[27.373095459963523 4.5912515346611436\n",
      " 4.5912515346611436 1.9302725541240944]\n",
      "\n",
      "Dict([0.0,1.0]=>0.5736566818317167,[1.0,0.0]=>0.33872785044269055,[1.0,1.0]=>0.03158793113659069,[0.0,0.0]=>0.05602753658900221)\n"
     ]
    }
   ],
   "source": [
    "Pi=Dict([1.0; 1.0]=>0.25,[1.0;0.0]=>0.25,[0.0,1.0]=>0.25,[0.0; 0.0]=>0.25)\n",
    "out2 = MT.runMCMC(model3,data,Pi=Pi,chain_length=50000,printout_frequency=10000,methods=\"BayesC\");"
   ]
  },
  {
   "cell_type": "markdown",
   "metadata": {},
   "source": [
    "## <font color=\"blue\">4. mulitiple traits with marker effects and polygenic effects</font> "
   ]
  },
  {
   "cell_type": "markdown",
   "metadata": {},
   "source": [
    "#### set up model equations"
   ]
  },
  {
   "cell_type": "code",
   "execution_count": 43,
   "metadata": {
    "collapsed": false
   },
   "outputs": [],
   "source": [
    "model_equations = \"BW = intercept + age + sex + Animal;\n",
    "                   CW = intercept + age + sex + Animal\";"
   ]
  },
  {
   "cell_type": "code",
   "execution_count": 44,
   "metadata": {
    "collapsed": false
   },
   "outputs": [],
   "source": [
    "model4    = MT.build_model(model_equations,R);"
   ]
  },
  {
   "cell_type": "code",
   "execution_count": 45,
   "metadata": {
    "collapsed": false
   },
   "outputs": [],
   "source": [
    "MT.set_covariate(model4,\"age\")"
   ]
  },
  {
   "cell_type": "code",
   "execution_count": 46,
   "metadata": {
    "collapsed": false
   },
   "outputs": [],
   "source": [
    "GA = G*0.1\n",
    "MT.set_random(model4,\"Animal\",ped,GA)"
   ]
  },
  {
   "cell_type": "code",
   "execution_count": 47,
   "metadata": {
    "collapsed": false
   },
   "outputs": [
    {
     "name": "stdout",
     "output_type": "stream",
     "text": [
      "The delimiters in file /Users/haocheng/.julia/v0.4/QTLDatasets/src/../data/testMT/genotype.txt is ,  .\n"
     ]
    }
   ],
   "source": [
    "GM = G*0.9\n",
    "MT.add_markers(model4,genofile,GM,separator=',',header=true);"
   ]
  },
  {
   "cell_type": "markdown",
   "metadata": {},
   "source": [
    "#### run"
   ]
  },
  {
   "cell_type": "code",
   "execution_count": 50,
   "metadata": {
    "collapsed": false
   },
   "outputs": [
    {
     "name": "stdout",
     "output_type": "stream",
     "text": [
      "at sample: 10000\n",
      "Residual covariance matrix: \n",
      "[143.0963101787434 34.56417564237993\n",
      " 34.56417564237993 9.199239235064251]\n",
      "Marker effects covariance matrix: \n",
      "[19.635206072474585 3.635408406712763\n",
      " 3.635408406712763 1.713860234171312]\n",
      "\n",
      "Dict([0.0,1.0]=>0.5184336497308867,[1.0,0.0]=>0.14065440080110503,[1.0,1.0]=>0.19104284887286188,[0.0,0.0]=>0.14986910059514624)\n",
      "at sample: 20000\n",
      "Residual covariance matrix: \n",
      "[112.02335886244559 27.411804207194436\n",
      " 27.411804207194436 7.511089720184142]\n",
      "Marker effects covariance matrix: \n",
      "[20.563000489353264 3.534345772129759\n",
      " 3.534345772129759 1.5867334824442452]\n",
      "\n",
      "Dict([0.0,1.0]=>0.03202827868278435,[1.0,0.0]=>0.08345380920160476,[1.0,1.0]=>0.3453946922805601,[0.0,0.0]=>0.5391232198350506)\n",
      "at sample: 30000\n",
      "Residual covariance matrix: \n",
      "[108.20598113804009 26.546399284396248\n",
      " 26.546399284396248 7.292772831454718]\n",
      "Marker effects covariance matrix: \n",
      "[19.57832888768704 3.359519703823538\n",
      " 3.359519703823538 1.5854309822460309]\n",
      "\n",
      "Dict([0.0,1.0]=>0.5326797896305383,[1.0,0.0]=>0.3317983966426784,[1.0,1.0]=>0.04040080913491148,[0.0,0.0]=>0.09512100459187185)\n",
      "at sample: 40000\n",
      "Residual covariance matrix: \n",
      "[106.51146934348982 26.212810690004776\n",
      " 26.212810690004776 7.226920648859723]\n",
      "Marker effects covariance matrix: \n",
      "[18.972903724784363 3.1980117484612487\n",
      " 3.1980117484612487 1.5422050559133542]\n",
      "\n",
      "Dict([0.0,1.0]=>0.531099906530905,[1.0,0.0]=>0.03937205049178429,[1.0,1.0]=>0.37402210288697846,[0.0,0.0]=>0.055505940090332384)\n",
      "at sample: 50000\n",
      "Residual covariance matrix: \n",
      "[101.43005272849688 24.99235443641118\n",
      " 24.99235443641118 6.91656897876162]\n",
      "Marker effects covariance matrix: \n",
      "[19.00031394660218 3.199339384436501\n",
      " 3.199339384436501 1.5119920999516876]\n",
      "\n",
      "Dict([0.0,1.0]=>0.31652468413638174,[1.0,0.0]=>0.010886459483007503,[1.0,1.0]=>0.26527638000191894,[0.0,0.0]=>0.4073124763786917)\n"
     ]
    }
   ],
   "source": [
    "Pi=Dict([1.0; 1.0]=>0.25,[1.0;0.0]=>0.25,[0.0,1.0]=>0.25,[0.0; 0.0]=>0.25)\n",
    "out4=MT.runMCMC(model4,data,Pi=Pi,chain_length=50000,printout_frequency=10000,methods=\"BayesC\");"
   ]
  },
  {
   "cell_type": "markdown",
   "metadata": {},
   "source": [
    "## <font color=\"blue\">5. check results</font> "
   ]
  },
  {
   "cell_type": "code",
   "execution_count": 51,
   "metadata": {
    "collapsed": false
   },
   "outputs": [
    {
     "data": {
      "text/plain": [
       "Base.KeyIterator for a Dict{Any,Any} with 6 entries. Keys:\n",
       "  \"posterior mean of marker effects covariance matrix\"\n",
       "  \"posterior mean of residual covaraince matrix\"\n",
       "  \"posterior mean of Pi\"\n",
       "  \"posterior mean of polygenic effects covariance matrix\"\n",
       "  \"posterior mean of marker effects\"\n",
       "  \"posterior mean of location parameters\""
      ]
     },
     "execution_count": 51,
     "metadata": {},
     "output_type": "execute_result"
    }
   ],
   "source": [
    "keys(out4)"
   ]
  },
  {
   "cell_type": "code",
   "execution_count": 52,
   "metadata": {
    "collapsed": false
   },
   "outputs": [
    {
     "data": {
      "text/plain": [
       "2x2 Array{Float64,2}:\n",
       " 2.2206    0.144358\n",
       " 0.144358  0.214228"
      ]
     },
     "execution_count": 52,
     "metadata": {},
     "output_type": "execute_result"
    }
   ],
   "source": [
    "out4[\"posterior mean of polygenic effects covariance matrix\"]"
   ]
  },
  {
   "cell_type": "code",
   "execution_count": 53,
   "metadata": {
    "collapsed": false
   },
   "outputs": [
    {
     "data": {
      "text/plain": [
       "18x2 Array{Any,2}:\n",
       " \"1:intercept: intercept\"   301.855     \n",
       " \"1:age: age\"                -6.62363   \n",
       " \"1:sex: M\"                -141.798     \n",
       " \"1:sex: F\"                -219.683     \n",
       " \"1:Animal: S1\"              -0.238522  \n",
       " \"1:Animal: D1\"               0.26346   \n",
       " \"1:Animal: O1\"               0.114284  \n",
       " \"1:Animal: O3\"              -0.156439  \n",
       " \"1:Animal: O2\"               0.0101066 \n",
       " \"2:intercept: intercept\"    55.4702    \n",
       " \"2:age: age\"                 0.207591  \n",
       " \"2:sex: M\"                 -45.3616    \n",
       " \"2:sex: F\"                 -47.5601    \n",
       " \"2:Animal: S1\"              -0.0468317 \n",
       " \"2:Animal: D1\"               0.0504608 \n",
       " \"2:Animal: O1\"               0.0268939 \n",
       " \"2:Animal: O3\"              -0.029719  \n",
       " \"2:Animal: O2\"              -0.00163124"
      ]
     },
     "execution_count": 53,
     "metadata": {},
     "output_type": "execute_result"
    }
   ],
   "source": [
    "out4[\"posterior mean of location parameters\"]"
   ]
  },
  {
   "cell_type": "code",
   "execution_count": 54,
   "metadata": {
    "collapsed": false
   },
   "outputs": [
    {
     "data": {
      "text/plain": [
       "5x2 Array{Any,2}:\n",
       " \"x1\"   3.43759 \n",
       " \"x2\"   1.42375 \n",
       " \"x3\"  -0.677437\n",
       " \"x4\"   1.52963 \n",
       " \"x5\"  -0.762181"
      ]
     },
     "execution_count": 54,
     "metadata": {},
     "output_type": "execute_result"
    }
   ],
   "source": [
    "out4[\"posterior mean of marker effects\"][1]"
   ]
  },
  {
   "cell_type": "code",
   "execution_count": 55,
   "metadata": {
    "collapsed": false
   },
   "outputs": [
    {
     "data": {
      "text/plain": [
       "5x2 Array{Any,2}:\n",
       " \"x1\"   0.721011\n",
       " \"x2\"   0.271618\n",
       " \"x3\"  -0.113406\n",
       " \"x4\"   0.314413\n",
       " \"x5\"  -0.141763"
      ]
     },
     "execution_count": 55,
     "metadata": {},
     "output_type": "execute_result"
    }
   ],
   "source": [
    "out4[\"posterior mean of marker effects\"][2]"
   ]
  },
  {
   "cell_type": "markdown",
   "metadata": {},
   "source": [
    "## <font color=\"blue\">Bonus: maternal effects</font> "
   ]
  },
  {
   "cell_type": "code",
   "execution_count": 58,
   "metadata": {
    "collapsed": false
   },
   "outputs": [
    {
     "data": {
      "text/html": [
       "<table class=\"data-frame\"><tr><th></th><th>Animal</th><th>BW</th><th>CW</th><th>age</th><th>sex</th></tr><tr><th>1</th><td>S1</td><td>100.0</td><td>10.0</td><td>8</td><td>M</td></tr><tr><th>2</th><td>D1</td><td>50.0</td><td>12.9</td><td>7</td><td>F</td></tr><tr><th>3</th><td>O1</td><td>150.0</td><td>13.0</td><td>3</td><td>M</td></tr><tr><th>4</th><td>O3</td><td>40.0</td><td>5.0</td><td>4</td><td>F</td></tr></table>"
      ],
      "text/plain": [
       "4×5 DataFrames.DataFrame\n",
       "│ Row │ Animal │ BW    │ CW   │ age │ sex │\n",
       "├─────┼────────┼───────┼──────┼─────┼─────┤\n",
       "│ 1   │ \"S1\"   │ 100.0 │ 10.0 │ 8   │ \"M\" │\n",
       "│ 2   │ \"D1\"   │ 50.0  │ 12.9 │ 7   │ \"F\" │\n",
       "│ 3   │ \"O1\"   │ 150.0 │ 13.0 │ 3   │ \"M\" │\n",
       "│ 4   │ \"O3\"   │ 40.0  │ 5.0  │ 4   │ \"F\" │"
      ]
     },
     "execution_count": 58,
     "metadata": {},
     "output_type": "execute_result"
    }
   ],
   "source": [
    "data"
   ]
  },
  {
   "cell_type": "code",
   "execution_count": 59,
   "metadata": {
    "collapsed": false
   },
   "outputs": [
    {
     "data": {
      "text/html": [
       "<table class=\"data-frame\"><tr><th></th><th>Animal</th><th>BW</th><th>CW</th><th>age</th><th>sex</th><th>Dam</th></tr><tr><th>1</th><td>O1</td><td>150.0</td><td>13.0</td><td>3</td><td>M</td><td>D1</td></tr><tr><th>2</th><td>O3</td><td>40.0</td><td>5.0</td><td>4</td><td>F</td><td>D1</td></tr></table>"
      ],
      "text/plain": [
       "2×6 DataFrames.DataFrame\n",
       "│ Row │ Animal │ BW    │ CW   │ age │ sex │ Dam  │\n",
       "├─────┼────────┼───────┼──────┼─────┼─────┼──────┤\n",
       "│ 1   │ \"O1\"   │ 150.0 │ 13.0 │ 3   │ \"M\" │ \"D1\" │\n",
       "│ 2   │ \"O3\"   │ 40.0  │ 5.0  │ 4   │ \"F\" │ \"D1\" │"
      ]
     },
     "execution_count": 59,
     "metadata": {},
     "output_type": "execute_result"
    }
   ],
   "source": [
    "d2 = [data[3:4,:]  DataFrame(Dam = [\"D1\",\"D1\"])]"
   ]
  },
  {
   "cell_type": "code",
   "execution_count": 60,
   "metadata": {
    "collapsed": true
   },
   "outputs": [],
   "source": [
    "model_equations = \"BW = intercept + age + sex + Animal+ Dam;\n",
    "                   CW = intercept + age + sex + Animal\";"
   ]
  },
  {
   "cell_type": "code",
   "execution_count": 61,
   "metadata": {
    "collapsed": false
   },
   "outputs": [],
   "source": [
    "model5 = MT.build_model(model_equations,R);"
   ]
  },
  {
   "cell_type": "code",
   "execution_count": 62,
   "metadata": {
    "collapsed": false
   },
   "outputs": [],
   "source": [
    "MT.set_covariate(model1,\"age\")"
   ]
  },
  {
   "cell_type": "code",
   "execution_count": 63,
   "metadata": {
    "collapsed": false
   },
   "outputs": [],
   "source": [
    "# order is BW:Animal, BW:Dam, CW: Animal\n",
    "G0 = [5   1    0.1\n",
    "      1   1    0.01\n",
    "      0.1 0.01 0.5] \n",
    "MT.set_random(model5,\"Animal Dam\", ped,G0)"
   ]
  },
  {
   "cell_type": "code",
   "execution_count": 64,
   "metadata": {
    "collapsed": false
   },
   "outputs": [
    {
     "name": "stdout",
     "output_type": "stream",
     "text": [
      "at sample: 10000\n",
      "Residual covariance matrix: \n",
      "[10.305296488013786 2.0690708098765995\n",
      " 2.0690708098765995 1.0189575708657537]\n",
      "\n",
      "at sample: 20000\n",
      "Residual covariance matrix: \n",
      "[10.295700274403409 2.056008569716368\n",
      " 2.056008569716368 1.0036929436008017]\n",
      "\n",
      "at sample: 30000\n",
      "Residual covariance matrix: \n",
      "[10.08891459245722 1.9873913898809983\n",
      " 1.9873913898809983 0.9874186395064027]\n",
      "\n",
      "at sample: 40000\n",
      "Residual covariance matrix: \n",
      "[10.057721839361168 1.9904158228035724\n",
      " 1.9904158228035724 0.9881859070826281]\n",
      "\n",
      "at sample: 50000\n",
      "Residual covariance matrix: \n",
      "[10.06232213287369 2.0092034453949306\n",
      " 2.0092034453949306 1.0006697759298224]\n",
      "\n"
     ]
    }
   ],
   "source": [
    "out5=MT.runMCMC(model5,d2,chain_length=50000,printout_frequency=10000);"
   ]
  }
 ],
 "metadata": {
  "kernelspec": {
   "display_name": "Julia 0.4.5",
   "language": "julia",
   "name": "julia-0.4"
  },
  "language_info": {
   "file_extension": ".jl",
   "mimetype": "application/julia",
   "name": "julia",
   "version": "0.4.5"
  }
 },
 "nbformat": 4,
 "nbformat_minor": 0
}
