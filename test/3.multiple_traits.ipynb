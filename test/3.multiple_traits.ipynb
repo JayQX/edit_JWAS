{
 "cells": [
  {
   "cell_type": "markdown",
   "metadata": {},
   "source": [
    "## <font color=\"blue\"> Data</font>"
   ]
  },
  {
   "cell_type": "code",
   "execution_count": 1,
   "metadata": {
    "collapsed": false
   },
   "outputs": [],
   "source": [
    "using DataFrames\n",
    "using JWAS: MT,Datasets"
   ]
  },
  {
   "cell_type": "code",
   "execution_count": 2,
   "metadata": {
    "collapsed": false
   },
   "outputs": [],
   "source": [
    "phenofile = Datasets.dataset(\"testMT\",\"phenotype.txt\")\n",
    "genofile  = Datasets.dataset(\"testMT\",\"genotype.txt\")\n",
    "pedfile   = Datasets.dataset(\"testMT\",\"pedigree.txt\");"
   ]
  },
  {
   "cell_type": "markdown",
   "metadata": {},
   "source": [
    "### phenotypes"
   ]
  },
  {
   "cell_type": "code",
   "execution_count": 3,
   "metadata": {
    "collapsed": false
   },
   "outputs": [
    {
     "name": "stdout",
     "output_type": "stream",
     "text": [
      "Animal,BW,CW,age,sex\n",
      "S1,100.0,10.0,8,M\n",
      "D1,50.0,12.9,7,F\n",
      "O1,150.0,13.0,3,M\n",
      "O3,40.0,5.0,4,F\n"
     ]
    }
   ],
   "source": [
    ";cat $phenofile"
   ]
  },
  {
   "cell_type": "markdown",
   "metadata": {},
   "source": [
    "### genotypes"
   ]
  },
  {
   "cell_type": "code",
   "execution_count": 4,
   "metadata": {
    "collapsed": false
   },
   "outputs": [
    {
     "name": "stdout",
     "output_type": "stream",
     "text": [
      "Animal,x1,x2,x3,x4,x5\n",
      "S1,1.0,0.0,1.0,1.0,1.0\n",
      "D1,2.0,0.0,2.0,2.0,1.0\n",
      "O1,1.0,2.0,0.0,1.0,0.0\n",
      "O3,0.0,0.0,2.0,1.0,1.0\n"
     ]
    }
   ],
   "source": [
    ";cat $genofile"
   ]
  },
  {
   "cell_type": "markdown",
   "metadata": {},
   "source": [
    "### pedigree"
   ]
  },
  {
   "cell_type": "code",
   "execution_count": 5,
   "metadata": {
    "collapsed": false
   },
   "outputs": [
    {
     "name": "stdout",
     "output_type": "stream",
     "text": [
      "S1 0 0\n",
      "D1 0 0\n",
      "O1 S1 D1\n",
      "O2 S1 D1\n",
      "O3 S1 D1\n"
     ]
    }
   ],
   "source": [
    ";cat $pedfile"
   ]
  },
  {
   "cell_type": "markdown",
   "metadata": {},
   "source": [
    "### Genetic covariance matrix and residual covariance matrix"
   ]
  },
  {
   "cell_type": "code",
   "execution_count": 6,
   "metadata": {
    "collapsed": false
   },
   "outputs": [],
   "source": [
    "R      = [10.0 2.0\n",
    "           2.0 1.0]\n",
    "G      = [20.0 1.0\n",
    "           1.0 2.0];"
   ]
  },
  {
   "cell_type": "markdown",
   "metadata": {},
   "source": [
    "<div class=\"span5 alert alert-info\">\n",
    " <font size=\"5\" face=\"Georgia\">Mulitiple Trait with fixed effects</font> \n",
    "</div>"
   ]
  },
  {
   "cell_type": "code",
   "execution_count": 7,
   "metadata": {
    "collapsed": false
   },
   "outputs": [
    {
     "data": {
      "text/html": [
       "<table class=\"data-frame\"><tr><th></th><th>Animal</th><th>BW</th><th>CW</th><th>age</th><th>sex</th></tr><tr><th>1</th><td>S1</td><td>100.0</td><td>10.0</td><td>8</td><td>M</td></tr><tr><th>2</th><td>D1</td><td>50.0</td><td>12.9</td><td>7</td><td>F</td></tr><tr><th>3</th><td>O1</td><td>150.0</td><td>13.0</td><td>3</td><td>M</td></tr><tr><th>4</th><td>O3</td><td>40.0</td><td>5.0</td><td>4</td><td>F</td></tr></table>"
      ],
      "text/plain": [
       "4×5 DataFrames.DataFrame\n",
       "│ Row │ Animal │ BW    │ CW   │ age │ sex │\n",
       "├─────┼────────┼───────┼──────┼─────┼─────┤\n",
       "│ 1   │ \"S1\"   │ 100.0 │ 10.0 │ 8   │ \"M\" │\n",
       "│ 2   │ \"D1\"   │ 50.0  │ 12.9 │ 7   │ \"F\" │\n",
       "│ 3   │ \"O1\"   │ 150.0 │ 13.0 │ 3   │ \"M\" │\n",
       "│ 4   │ \"O3\"   │ 40.0  │ 5.0  │ 4   │ \"F\" │"
      ]
     },
     "execution_count": 7,
     "metadata": {},
     "output_type": "execute_result"
    }
   ],
   "source": [
    "data=readtable(phenofile)"
   ]
  },
  {
   "cell_type": "markdown",
   "metadata": {},
   "source": [
    "#### set up model equations"
   ]
  },
  {
   "cell_type": "code",
   "execution_count": 8,
   "metadata": {
    "collapsed": false
   },
   "outputs": [],
   "source": [
    "model_equations = \"BW = intercept + age + sex;\n",
    "                  CW = intercept + age + sex\";"
   ]
  },
  {
   "cell_type": "code",
   "execution_count": 9,
   "metadata": {
    "collapsed": false
   },
   "outputs": [],
   "source": [
    "model1 = MT.build_model(model_equations,R);"
   ]
  },
  {
   "cell_type": "markdown",
   "metadata": {},
   "source": [
    "#### set variables as covariate (all variables are set as factors by default)"
   ]
  },
  {
   "cell_type": "code",
   "execution_count": 10,
   "metadata": {
    "collapsed": false
   },
   "outputs": [],
   "source": [
    "MT.set_covariate(model1,\"age\")"
   ]
  },
  {
   "cell_type": "markdown",
   "metadata": {},
   "source": [
    "#### run"
   ]
  },
  {
   "cell_type": "code",
   "execution_count": 11,
   "metadata": {
    "collapsed": false
   },
   "outputs": [
    {
     "name": "stdout",
     "output_type": "stream",
     "text": [
      "at sample: 10000\n",
      "Residual covariance matrix: \n",
      "[150.79622271220214 36.38259853653519\n",
      " 36.38259853653519 9.244202441974712]\n",
      "\n",
      "at sample: 20000\n",
      "Residual covariance matrix: \n",
      "[154.3511835226707 37.12417672514885\n",
      " 37.12417672514885 9.390125409112045]\n",
      "\n",
      "at sample: 30000\n",
      "Residual covariance matrix: \n",
      "[150.46216179754984 36.18036395527724\n",
      " 36.18036395527724 9.16015989488966]\n",
      "\n",
      "at sample: 40000\n",
      "Residual covariance matrix: \n",
      "[149.40385720735583 35.94168081055768\n",
      " 35.94168081055768 9.10922993800725]\n",
      "\n",
      "at sample: 50000\n",
      "Residual covariance matrix: \n",
      "[151.33910254297342 36.38907026838128\n",
      " 36.38907026838128 9.213154300862362]\n",
      "\n"
     ]
    }
   ],
   "source": [
    "out1=MT.runMCMC(model1,data,chain_length=50000,printout_frequency=10000);"
   ]
  },
  {
   "cell_type": "markdown",
   "metadata": {},
   "source": [
    "## <font color=\"blue\">2. multiple trait with direct genetic effects</font> "
   ]
  },
  {
   "cell_type": "markdown",
   "metadata": {},
   "source": [
    "#### set up model equations"
   ]
  },
  {
   "cell_type": "code",
   "execution_count": 12,
   "metadata": {
    "collapsed": false
   },
   "outputs": [],
   "source": [
    "model_equations = \"BW = intercept + age + sex + Animal;\n",
    "                   CW = intercept + age + sex + Animal\";"
   ]
  },
  {
   "cell_type": "code",
   "execution_count": 13,
   "metadata": {
    "collapsed": false
   },
   "outputs": [],
   "source": [
    "model2    = MT.build_model(model_equations,R);"
   ]
  },
  {
   "cell_type": "code",
   "execution_count": 14,
   "metadata": {
    "collapsed": false
   },
   "outputs": [],
   "source": [
    "MT.set_covariate(model1,\"age\")"
   ]
  },
  {
   "cell_type": "markdown",
   "metadata": {},
   "source": [
    "#### set variables as random variables"
   ]
  },
  {
   "cell_type": "markdown",
   "metadata": {},
   "source": [
    "* random variables whose covariance matrices are numerator relationship matrix "
   ]
  },
  {
   "cell_type": "code",
   "execution_count": 15,
   "metadata": {
    "collapsed": false
   },
   "outputs": [],
   "source": [
    "ped = MT.get_pedigree(pedfile);"
   ]
  },
  {
   "cell_type": "code",
   "execution_count": 16,
   "metadata": {
    "collapsed": false
   },
   "outputs": [],
   "source": [
    "MT.set_random(model2,\"Animal\", ped,G)"
   ]
  },
  {
   "cell_type": "markdown",
   "metadata": {},
   "source": [
    "#### run"
   ]
  },
  {
   "cell_type": "code",
   "execution_count": 17,
   "metadata": {
    "collapsed": false
   },
   "outputs": [
    {
     "name": "stdout",
     "output_type": "stream",
     "text": [
      "at sample: 10000\n",
      "Residual covariance matrix: \n",
      "[10.076070697796817 2.014053662507801\n",
      " 2.014053662507801 0.9907440781291249]\n",
      "\n",
      "at sample: 20000\n",
      "Residual covariance matrix: \n",
      "[9.795159647202667 1.967417772112444\n",
      " 1.967417772112444 0.9954529847492887]\n",
      "\n",
      "at sample: 30000\n",
      "Residual covariance matrix: \n",
      "[10.029809802614125 1.9265927901393582\n",
      " 1.9265927901393582 0.9784010204519306]\n",
      "\n",
      "at sample: 40000\n",
      "Residual covariance matrix: \n",
      "[10.071169109358841 1.9570225392422889\n",
      " 1.9570225392422889 0.9909602442557353]\n",
      "\n",
      "at sample: 50000\n",
      "Residual covariance matrix: \n",
      "[10.011037605962265 1.9546467419619271\n",
      " 1.9546467419619271 0.989539181215114]\n",
      "\n"
     ]
    }
   ],
   "source": [
    "out2 = MT.runMCMC(model2,data,chain_length=50000,printout_frequency=10000);"
   ]
  },
  {
   "cell_type": "markdown",
   "metadata": {},
   "source": [
    "## <font color=\"blue\">3. mulitiple traits with marker effects</font> "
   ]
  },
  {
   "cell_type": "markdown",
   "metadata": {},
   "source": [
    "#### set up model equations"
   ]
  },
  {
   "cell_type": "code",
   "execution_count": 18,
   "metadata": {
    "collapsed": false
   },
   "outputs": [],
   "source": [
    "model_equations = \"BW = intercept + age + sex;\n",
    "                   CW = intercept + age + sex\";"
   ]
  },
  {
   "cell_type": "code",
   "execution_count": 19,
   "metadata": {
    "collapsed": false
   },
   "outputs": [],
   "source": [
    "model3    = MT.build_model(model_equations,R);"
   ]
  },
  {
   "cell_type": "code",
   "execution_count": 20,
   "metadata": {
    "collapsed": false
   },
   "outputs": [],
   "source": [
    "MT.set_covariate(model3,\"age\")"
   ]
  },
  {
   "cell_type": "code",
   "execution_count": 21,
   "metadata": {
    "collapsed": false
   },
   "outputs": [
    {
     "name": "stdout",
     "output_type": "stream",
     "text": [
      "The delimiters in file /Users/haocheng/.julia/v0.4/JWAS/src/5.Datasets/src/../data/testMT/genotype.txt is ,  .\n"
     ]
    }
   ],
   "source": [
    "MT.add_markers(model3,genofile,G,separator=',',header=true);"
   ]
  },
  {
   "cell_type": "code",
   "execution_count": 22,
   "metadata": {
    "collapsed": false
   },
   "outputs": [
    {
     "name": "stdout",
     "output_type": "stream",
     "text": [
      "running MCMC for BayesC 18%|█████                       |  ETA: 0:00:05\n",
      " Posterior means at iteration: 10000\n",
      "Residual covariance matrix: \n",
      "[108.99139625969705 27.520270414923388\n",
      " 27.520270414923388 7.887642300947553]\n",
      "Marker effects covariance matrix: \n",
      "[18.217326712674936 2.790165751648037\n",
      " 2.790165751648037 1.5403976714823906]\n",
      "\n",
      "running MCMC for BayesC 38%|███████████                 |  ETA: 0:00:03\n",
      " Posterior means at iteration: 20000\n",
      "Residual covariance matrix: \n",
      "[105.32022134775926 26.306443625723944\n",
      " 26.306443625723944 7.418468356270786]\n",
      "Marker effects covariance matrix: \n",
      "[20.973589471507232 3.2818104920248\n",
      " 3.2818104920248 1.6115731672571172]\n",
      "\n",
      "running MCMC for BayesC 60%|█████████████████           |  ETA: 0:00:02\n",
      " Posterior means at iteration: 30000\n",
      "Residual covariance matrix: \n",
      "[93.92069129254212 23.41384711751854\n",
      " 23.41384711751854 6.63277575030565]\n",
      "Marker effects covariance matrix: \n",
      "[28.116915742372022 5.037424884035958\n",
      " 5.037424884035958 2.058787066552571]\n",
      "\n",
      "running MCMC for BayesC 79%|██████████████████████      |  ETA: 0:00:01\n",
      " Posterior means at iteration: 40000\n",
      "Residual covariance matrix: \n",
      "[93.5869242040305 23.35298714811835\n",
      " 23.35298714811835 6.6313064751243935]\n",
      "Marker effects covariance matrix: \n",
      "[27.562137578421588 4.910983434914349\n",
      " 4.910983434914349 2.0030898767661327]\n",
      "\n",
      "running MCMC for BayesC 98%|███████████████████████████ |  ETA: 0:00:00\n",
      " Posterior means at iteration: 50000\n",
      "Residual covariance matrix: \n",
      "[95.3191940351936 23.675789034628547\n",
      " 23.675789034628547 6.674202246177369]\n",
      "Marker effects covariance matrix: \n",
      "[25.65682597353854 4.4677825686978805\n",
      " 4.4677825686978805 1.8896348286926632]\n",
      "\n",
      "running MCMC for BayesC100%|████████████████████████████| Time: 0:00:04\n"
     ]
    }
   ],
   "source": [
    "Pi=Dict([1.0; 1.0]=>0.25,[1.0;0.0]=>0.25,[0.0,1.0]=>0.25,[0.0; 0.0]=>0.25)\n",
    "out2 = MT.runMCMC(model3,data,Pi=Pi,chain_length=50000,methods=\"BayesC\");"
   ]
  },
  {
   "cell_type": "markdown",
   "metadata": {},
   "source": [
    "## <font color=\"blue\">4. mulitiple traits with marker effects and polygenic effects</font> "
   ]
  },
  {
   "cell_type": "markdown",
   "metadata": {},
   "source": [
    "#### set up model equations"
   ]
  },
  {
   "cell_type": "code",
   "execution_count": 23,
   "metadata": {
    "collapsed": false
   },
   "outputs": [],
   "source": [
    "model_equations = \"BW = intercept + age + sex + Animal;\n",
    "                   CW = intercept + age + sex + Animal\";"
   ]
  },
  {
   "cell_type": "code",
   "execution_count": 24,
   "metadata": {
    "collapsed": false
   },
   "outputs": [],
   "source": [
    "model4    = MT.build_model(model_equations,R);"
   ]
  },
  {
   "cell_type": "code",
   "execution_count": 25,
   "metadata": {
    "collapsed": false
   },
   "outputs": [],
   "source": [
    "MT.set_covariate(model4,\"age\")"
   ]
  },
  {
   "cell_type": "code",
   "execution_count": 26,
   "metadata": {
    "collapsed": false
   },
   "outputs": [],
   "source": [
    "GA = G*0.1\n",
    "MT.set_random(model4,\"Animal\",ped,GA)"
   ]
  },
  {
   "cell_type": "code",
   "execution_count": 27,
   "metadata": {
    "collapsed": false
   },
   "outputs": [
    {
     "name": "stdout",
     "output_type": "stream",
     "text": [
      "The delimiters in file /Users/haocheng/.julia/v0.4/JWAS/src/5.Datasets/src/../data/testMT/genotype.txt is ,  .\n"
     ]
    }
   ],
   "source": [
    "GM = G*0.9\n",
    "MT.add_markers(model4,genofile,GM,separator=',',header=true);"
   ]
  },
  {
   "cell_type": "markdown",
   "metadata": {},
   "source": [
    "#### run"
   ]
  },
  {
   "cell_type": "code",
   "execution_count": 28,
   "metadata": {
    "collapsed": false
   },
   "outputs": [
    {
     "name": "stdout",
     "output_type": "stream",
     "text": [
      "posterior means at sample: 10000\n",
      "Residual covariance matrix: \n",
      "[130.01857461779846 32.81659799753262\n",
      " 32.81659799753262 9.095561238555176]\n",
      "Marker effects covariance matrix: \n",
      "[27.863577925026686 3.702837117847429\n",
      " 3.702837117847429 1.7429010627545944]\n",
      "\n",
      "π: \n",
      "Dict([0.0,1.0]=>0.22430497628803378,[1.0,0.0]=>0.24224591213714788,[1.0,1.0]=>0.30315833049078944,[0.0,0.0]=>0.23029078108402898)\n",
      "posterior means at sample: 20000\n",
      "Residual covariance matrix: \n",
      "[121.78602690844771 30.303486692757506\n",
      " 30.303486692757506 8.337833614877836]\n",
      "Marker effects covariance matrix: \n",
      "[21.465486193213152 2.9245403664018825\n",
      " 2.9245403664018825 1.458980521449259]\n",
      "\n",
      "π: \n",
      "Dict([0.0,1.0]=>0.22407350145795618,[1.0,0.0]=>0.24642209690521483,[1.0,1.0]=>0.3009316467526234,[0.0,0.0]=>0.22857275488420578)\n",
      "posterior means at sample: 30000\n",
      "Residual covariance matrix: \n",
      "[109.57927626985605 27.257980923819687\n",
      " 27.257980923819687 7.560741915252158]\n",
      "Marker effects covariance matrix: \n",
      "[22.364939995385978 3.3325252583956906\n",
      " 3.3325252583956906 1.5279734489331944]\n",
      "\n",
      "π: \n",
      "Dict([0.0,1.0]=>0.22395576436722897,[1.0,0.0]=>0.24733135980825102,[1.0,1.0]=>0.30362626019926575,[0.0,0.0]=>0.22508661562525453)\n",
      "posterior means at sample: 40000\n",
      "Residual covariance matrix: \n",
      "[101.90913595007176 25.251459426074906\n",
      " 25.251459426074906 7.018848109926874]\n",
      "Marker effects covariance matrix: \n",
      "[22.08296775297909 3.5366464550643046\n",
      " 3.5366464550643046 1.6015560158684954]\n",
      "\n",
      "π: \n",
      "Dict([0.0,1.0]=>0.22147533428937188,[1.0,0.0]=>0.2456543612689548,[1.0,1.0]=>0.30850582836410484,[0.0,0.0]=>0.22436447607757015)\n",
      "posterior means at sample: 50000\n",
      "Residual covariance matrix: \n",
      "[122.47880971948 30.058388914204155\n",
      " 30.058388914204155 8.168442287573987]\n",
      "Marker effects covariance matrix: \n",
      "[20.64874633538651 3.2855532313329276\n",
      " 3.2855532313329276 1.5387817759898317]\n",
      "\n",
      "π: \n",
      "Dict([0.0,1.0]=>0.22247948220454145,[1.0,0.0]=>0.2452332965897438,[1.0,1.0]=>0.3063211880297415,[0.0,0.0]=>0.2259660331759735)\n"
     ]
    }
   ],
   "source": [
    "Pi=Dict([1.0; 1.0]=>0.25,[1.0;0.0]=>0.25,[0.0,1.0]=>0.25,[0.0; 0.0]=>0.25)\n",
    "out4=MT.runMCMC(model4,data,Pi=Pi,chain_length=50000,printout_frequency=10000,methods=\"BayesC\");"
   ]
  },
  {
   "cell_type": "markdown",
   "metadata": {},
   "source": [
    "## <font color=\"blue\">5. check results</font> "
   ]
  },
  {
   "cell_type": "code",
   "execution_count": 29,
   "metadata": {
    "collapsed": false
   },
   "outputs": [
    {
     "data": {
      "text/plain": [
       "Base.KeyIterator for a Dict{Any,Any} with 6 entries. Keys:\n",
       "  \"posterior mean of marker effects covariance matrix\"\n",
       "  \"posterior mean of residual covaraince matrix\"\n",
       "  \"posterior mean of Pi\"\n",
       "  \"posterior mean of polygenic effects covariance matrix\"\n",
       "  \"posterior mean of marker effects\"\n",
       "  \"posterior mean of location parameters\""
      ]
     },
     "execution_count": 29,
     "metadata": {},
     "output_type": "execute_result"
    }
   ],
   "source": [
    "keys(out4)"
   ]
  },
  {
   "cell_type": "code",
   "execution_count": 30,
   "metadata": {
    "collapsed": false
   },
   "outputs": [
    {
     "data": {
      "text/plain": [
       "2x2 Array{Float64,2}:\n",
       " 2.0712    0.111882\n",
       " 0.111882  0.194692"
      ]
     },
     "execution_count": 30,
     "metadata": {},
     "output_type": "execute_result"
    }
   ],
   "source": [
    "out4[\"posterior mean of polygenic effects covariance matrix\"]"
   ]
  },
  {
   "cell_type": "code",
   "execution_count": 31,
   "metadata": {
    "collapsed": false
   },
   "outputs": [
    {
     "data": {
      "text/plain": [
       "18x2 Array{Any,2}:\n",
       " \"1:intercept: intercept\"  126.496     \n",
       " \"1:age: age\"               -6.10916   \n",
       " \"1:sex: M\"                 30.7993    \n",
       " \"1:sex: F\"                -47.2409    \n",
       " \"1:Animal: S1\"             -0.2025    \n",
       " \"1:Animal: D1\"              0.251537  \n",
       " \"1:Animal: O1\"              0.103791  \n",
       " \"1:Animal: O3\"             -0.109212  \n",
       " \"1:Animal: O2\"              0.0370225 \n",
       " \"2:intercept: intercept\"   39.7416    \n",
       " \"2:age: age\"                0.344531  \n",
       " \"2:sex: M\"                -30.4183    \n",
       " \"2:sex: F\"                -32.5468    \n",
       " \"2:Animal: S1\"             -0.045055  \n",
       " \"2:Animal: D1\"              0.0361508 \n",
       " \"2:Animal: O1\"              0.0116877 \n",
       " \"2:Animal: O3\"             -0.0306742 \n",
       " \"2:Animal: O2\"             -0.00380884"
      ]
     },
     "execution_count": 31,
     "metadata": {},
     "output_type": "execute_result"
    }
   ],
   "source": [
    "out4[\"posterior mean of location parameters\"]"
   ]
  },
  {
   "cell_type": "code",
   "execution_count": 32,
   "metadata": {
    "collapsed": false
   },
   "outputs": [
    {
     "data": {
      "text/plain": [
       "5x2 Array{Any,2}:\n",
       " \"x1\"   3.2871  \n",
       " \"x2\"   1.84795 \n",
       " \"x3\"  -0.825319\n",
       " \"x4\"   1.44957 \n",
       " \"x5\"  -0.624471"
      ]
     },
     "execution_count": 32,
     "metadata": {},
     "output_type": "execute_result"
    }
   ],
   "source": [
    "out4[\"posterior mean of marker effects\"][1]"
   ]
  },
  {
   "cell_type": "code",
   "execution_count": 33,
   "metadata": {
    "collapsed": false
   },
   "outputs": [
    {
     "data": {
      "text/plain": [
       "5x2 Array{Any,2}:\n",
       " \"x1\"   0.671408\n",
       " \"x2\"   0.386237\n",
       " \"x3\"  -0.186109\n",
       " \"x4\"   0.280759\n",
       " \"x5\"  -0.135505"
      ]
     },
     "execution_count": 33,
     "metadata": {},
     "output_type": "execute_result"
    }
   ],
   "source": [
    "out4[\"posterior mean of marker effects\"][2]"
   ]
  },
  {
   "cell_type": "markdown",
   "metadata": {},
   "source": [
    "## <font color=\"blue\">Bonus: maternal effects</font> "
   ]
  },
  {
   "cell_type": "code",
   "execution_count": 34,
   "metadata": {
    "collapsed": false
   },
   "outputs": [
    {
     "data": {
      "text/html": [
       "<table class=\"data-frame\"><tr><th></th><th>Animal</th><th>BW</th><th>CW</th><th>age</th><th>sex</th></tr><tr><th>1</th><td>S1</td><td>100.0</td><td>10.0</td><td>8</td><td>M</td></tr><tr><th>2</th><td>D1</td><td>50.0</td><td>12.9</td><td>7</td><td>F</td></tr><tr><th>3</th><td>O1</td><td>150.0</td><td>13.0</td><td>3</td><td>M</td></tr><tr><th>4</th><td>O3</td><td>40.0</td><td>5.0</td><td>4</td><td>F</td></tr></table>"
      ],
      "text/plain": [
       "4×5 DataFrames.DataFrame\n",
       "│ Row │ Animal │ BW    │ CW   │ age │ sex │\n",
       "├─────┼────────┼───────┼──────┼─────┼─────┤\n",
       "│ 1   │ \"S1\"   │ 100.0 │ 10.0 │ 8   │ \"M\" │\n",
       "│ 2   │ \"D1\"   │ 50.0  │ 12.9 │ 7   │ \"F\" │\n",
       "│ 3   │ \"O1\"   │ 150.0 │ 13.0 │ 3   │ \"M\" │\n",
       "│ 4   │ \"O3\"   │ 40.0  │ 5.0  │ 4   │ \"F\" │"
      ]
     },
     "execution_count": 34,
     "metadata": {},
     "output_type": "execute_result"
    }
   ],
   "source": [
    "data"
   ]
  },
  {
   "cell_type": "code",
   "execution_count": 35,
   "metadata": {
    "collapsed": false
   },
   "outputs": [
    {
     "data": {
      "text/html": [
       "<table class=\"data-frame\"><tr><th></th><th>Animal</th><th>BW</th><th>CW</th><th>age</th><th>sex</th><th>Dam</th></tr><tr><th>1</th><td>O1</td><td>150.0</td><td>13.0</td><td>3</td><td>M</td><td>D1</td></tr><tr><th>2</th><td>O3</td><td>40.0</td><td>5.0</td><td>4</td><td>F</td><td>D1</td></tr></table>"
      ],
      "text/plain": [
       "2×6 DataFrames.DataFrame\n",
       "│ Row │ Animal │ BW    │ CW   │ age │ sex │ Dam  │\n",
       "├─────┼────────┼───────┼──────┼─────┼─────┼──────┤\n",
       "│ 1   │ \"O1\"   │ 150.0 │ 13.0 │ 3   │ \"M\" │ \"D1\" │\n",
       "│ 2   │ \"O3\"   │ 40.0  │ 5.0  │ 4   │ \"F\" │ \"D1\" │"
      ]
     },
     "execution_count": 35,
     "metadata": {},
     "output_type": "execute_result"
    }
   ],
   "source": [
    "d2 = [data[3:4,:]  DataFrame(Dam = [\"D1\",\"D1\"])]"
   ]
  },
  {
   "cell_type": "code",
   "execution_count": 36,
   "metadata": {
    "collapsed": true
   },
   "outputs": [],
   "source": [
    "model_equations = \"BW = intercept + age + sex + Animal+ Dam;\n",
    "                   CW = intercept + age + sex + Animal\";"
   ]
  },
  {
   "cell_type": "code",
   "execution_count": 37,
   "metadata": {
    "collapsed": false
   },
   "outputs": [],
   "source": [
    "model5 = MT.build_model(model_equations,R);"
   ]
  },
  {
   "cell_type": "code",
   "execution_count": 38,
   "metadata": {
    "collapsed": false
   },
   "outputs": [],
   "source": [
    "MT.set_covariate(model1,\"age\")"
   ]
  },
  {
   "cell_type": "code",
   "execution_count": 39,
   "metadata": {
    "collapsed": false
   },
   "outputs": [],
   "source": [
    "# order is BW:Animal, BW:Dam, CW: Animal\n",
    "G0 = [5   1    0.1\n",
    "      1   1    0.01\n",
    "      0.1 0.01 0.5] \n",
    "MT.set_random(model5,\"Animal Dam\", ped,G0)"
   ]
  },
  {
   "cell_type": "code",
   "execution_count": null,
   "metadata": {
    "collapsed": false
   },
   "outputs": [],
   "source": [
    "out5=MT.runMCMC(model5,d2,chain_length=50000,printout_frequency=10000);"
   ]
  }
 ],
 "metadata": {
  "kernelspec": {
   "display_name": "Julia 0.4.5",
   "language": "julia",
   "name": "julia-0.4"
  },
  "language_info": {
   "file_extension": ".jl",
   "mimetype": "application/julia",
   "name": "julia",
   "version": "0.4.5"
  }
 },
 "nbformat": 4,
 "nbformat_minor": 0
}
