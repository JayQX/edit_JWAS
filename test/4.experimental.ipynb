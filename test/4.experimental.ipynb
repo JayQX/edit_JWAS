{
 "cells": [
  {
   "cell_type": "markdown",
   "metadata": {},
   "source": [
    "## <font color=\"blue\"> Data</font>"
   ]
  },
  {
   "cell_type": "code",
   "execution_count": 1,
   "metadata": {
    "collapsed": false
   },
   "outputs": [],
   "source": [
    "include(\"../src/JWAS.jl\")\n",
    "using DataFrames\n",
    "using QTLDatasets\n",
    "using JWAS.MT"
   ]
  },
  {
   "cell_type": "code",
   "execution_count": 2,
   "metadata": {
    "collapsed": false
   },
   "outputs": [],
   "source": [
    "phenofile = QTLDatasets.dataset(\"testMT\",\"phenotype.txt\")\n",
    "genofile  = QTLDatasets.dataset(\"testMT\",\"genotype.txt\")\n",
    "pedfile   = QTLDatasets.dataset(\"testMT\",\"pedigree.txt\");"
   ]
  },
  {
   "cell_type": "markdown",
   "metadata": {},
   "source": [
    "### Genetic covariance matrix and residual covariance matrix"
   ]
  },
  {
   "cell_type": "code",
   "execution_count": 3,
   "metadata": {
    "collapsed": false
   },
   "outputs": [],
   "source": [
    "R      = [10.0 0.0\n",
    "           0.0 1.0]\n",
    "G      = [20.0 1.0\n",
    "           1.0 2.0];"
   ]
  },
  {
   "cell_type": "code",
   "execution_count": 4,
   "metadata": {
    "collapsed": false
   },
   "outputs": [
    {
     "data": {
      "text/html": [
       "<table class=\"data-frame\"><tr><th></th><th>Animal</th><th>BW</th><th>CW</th><th>age</th><th>sex</th></tr><tr><th>1</th><td>S1</td><td>100.0</td><td>10.0</td><td>8</td><td>M</td></tr><tr><th>2</th><td>D1</td><td>50.0</td><td>12.9</td><td>7</td><td>F</td></tr><tr><th>3</th><td>O1</td><td>150.0</td><td>13.0</td><td>3</td><td>M</td></tr><tr><th>4</th><td>O3</td><td>40.0</td><td>5.0</td><td>4</td><td>F</td></tr></table>"
      ],
      "text/plain": [
       "4×5 DataFrames.DataFrame\n",
       "│ Row │ Animal │ BW    │ CW   │ age │ sex │\n",
       "├─────┼────────┼───────┼──────┼─────┼─────┤\n",
       "│ 1   │ \"S1\"   │ 100.0 │ 10.0 │ 8   │ \"M\" │\n",
       "│ 2   │ \"D1\"   │ 50.0  │ 12.9 │ 7   │ \"F\" │\n",
       "│ 3   │ \"O1\"   │ 150.0 │ 13.0 │ 3   │ \"M\" │\n",
       "│ 4   │ \"O3\"   │ 40.0  │ 5.0  │ 4   │ \"F\" │"
      ]
     },
     "execution_count": 4,
     "metadata": {},
     "output_type": "execute_result"
    }
   ],
   "source": [
    "data=readtable(phenofile)"
   ]
  },
  {
   "cell_type": "markdown",
   "metadata": {},
   "source": [
    "## <font color=\"blue\">3. mulitiple traits with marker effects</font> "
   ]
  },
  {
   "cell_type": "markdown",
   "metadata": {},
   "source": [
    "#### set up model equations"
   ]
  },
  {
   "cell_type": "code",
   "execution_count": 5,
   "metadata": {
    "collapsed": false
   },
   "outputs": [],
   "source": [
    "model_equations = \"BW = intercept + age + sex;\n",
    "                   CW = intercept + age + sex\";"
   ]
  },
  {
   "cell_type": "code",
   "execution_count": 6,
   "metadata": {
    "collapsed": false
   },
   "outputs": [],
   "source": [
    "model3    = MT.build_model(model_equations,R);"
   ]
  },
  {
   "cell_type": "code",
   "execution_count": 7,
   "metadata": {
    "collapsed": false
   },
   "outputs": [],
   "source": [
    "MT.set_covariate(model3,\"age\")"
   ]
  },
  {
   "cell_type": "code",
   "execution_count": 8,
   "metadata": {
    "collapsed": false
   },
   "outputs": [
    {
     "name": "stdout",
     "output_type": "stream",
     "text": [
      "The delimiters in file /Users/haocheng/.julia/v0.4/QTLDatasets/src/../data/testMT/genotype.txt is ,  .\n"
     ]
    }
   ],
   "source": [
    "MT.add_markers(model3,genofile,G,separator=',',header=true);"
   ]
  },
  {
   "cell_type": "code",
   "execution_count": 9,
   "metadata": {
    "collapsed": false
   },
   "outputs": [
    {
     "ename": "LoadError",
     "evalue": "LoadError: UndefVarError: constrainta not defined\nwhile loading In[9], in expression starting on line 3",
     "output_type": "error",
     "traceback": [
      "LoadError: UndefVarError: constrainta not defined\nwhile loading In[9], in expression starting on line 3",
      "",
      " in MCMC_BayesC at /Users/haocheng/Github/JWAS.jl/src/4.MTJWAS/src/MCMC/MCMC_BayesC.jl:177",
      " in runMCMC at /Users/haocheng/Github/JWAS.jl/src/4.MTJWAS/src/interface.jl:148"
     ]
    }
   ],
   "source": [
    "Pi=Dict([1.0; 1.0]=>0.25,[1.0;0.0]=>0.25,[0.0,1.0]=>0.25,[0.0; 0.0]=>0.25)\n",
    "C = [false true;true false]\n",
    "out2 = MT.runMCMC(model3,data,Pi=Pi,chain_length=50,constraint=C,printout_frequency=10,methods=\"BayesC\",output_marker_effects_frequency=1);"
   ]
  },
  {
   "cell_type": "code",
   "execution_count": 10,
   "metadata": {
    "collapsed": true
   },
   "outputs": [],
   "source": [
    "using JWAS.QTL"
   ]
  },
  {
   "cell_type": "code",
   "execution_count": 11,
   "metadata": {
    "collapsed": false
   },
   "outputs": [],
   "source": [
    "file1=\"marker_effects_BW_2016-07-15T00:20:40.txt\"\n",
    "file2=\"marker_effects_CW_2016-07-15T00:20:40.txt\";"
   ]
  },
  {
   "cell_type": "code",
   "execution_count": 12,
   "metadata": {
    "collapsed": false
   },
   "outputs": [],
   "source": [
    "a,b,c=get_additive_genetic_variances(model3,file1,file2);"
   ]
  },
  {
   "cell_type": "code",
   "execution_count": 13,
   "metadata": {
    "collapsed": false
   },
   "outputs": [
    {
     "data": {
      "text/plain": [
       "2-element Array{Any,1}:\n",
       " 4×3 DataFrames.DataFrame\n",
       "│ Row │ ID   │ EBV      │ PEV     │\n",
       "├─────┼──────┼──────────┼─────────┤\n",
       "│ 1   │ \"S1\" │ -14.7203 │ 28.8167 │\n",
       "│ 2   │ \"D1\" │ 5.74251  │ 34.8293 │\n",
       "│ 3   │ \"O1\" │ 21.217   │ 48.5628 │\n",
       "│ 4   │ \"O3\" │ -12.2392 │ 18.5602 │\n",
       " 4×3 DataFrames.DataFrame\n",
       "│ Row │ ID   │ EBV      │ PEV     │\n",
       "├─────┼──────┼──────────┼─────────┤\n",
       "│ 1   │ \"S1\" │ -2.94535 │ 2.39471 │\n",
       "│ 2   │ \"D1\" │ 1.56458  │ 1.95413 │\n",
       "│ 3   │ \"O1\" │ 3.70722  │ 4.90648 │\n",
       "│ 4   │ \"O3\" │ -2.32645 │ 1.21073 │"
      ]
     },
     "execution_count": 13,
     "metadata": {},
     "output_type": "execute_result"
    }
   ],
   "source": [
    "get_breeding_values(model3,file1,file2)"
   ]
  }
 ],
 "metadata": {
  "kernelspec": {
   "display_name": "Julia 0.4.5",
   "language": "julia",
   "name": "julia-0.4"
  },
  "language_info": {
   "file_extension": ".jl",
   "mimetype": "application/julia",
   "name": "julia",
   "version": "0.4.5"
  }
 },
 "nbformat": 4,
 "nbformat_minor": 0
}
