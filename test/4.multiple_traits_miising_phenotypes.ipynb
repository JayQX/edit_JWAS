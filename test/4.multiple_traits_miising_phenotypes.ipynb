{
 "cells": [
  {
   "cell_type": "code",
   "execution_count": 2,
   "metadata": {
    "collapsed": true
   },
   "outputs": [],
   "source": [
    "#run 'Pkg.clone(\"https://github.com/QTL-rocks/QTLDatasets.jl.git\")' to get test datasets\n",
    "using DataFrames\n",
    "using QTLDatasets\n",
    "using JWAS.MT"
   ]
  },
  {
   "cell_type": "markdown",
   "metadata": {},
   "source": [
    "### mulitiple trait with missing phenotypes"
   ]
  },
  {
   "cell_type": "markdown",
   "metadata": {},
   "source": [
    "### <font, color=\"red\">missing values are denoted as \"NA\"</font>"
   ]
  },
  {
   "cell_type": "code",
   "execution_count": 10,
   "metadata": {
    "collapsed": false
   },
   "outputs": [],
   "source": [
    "MTData   = QTLDatasets.dataset(\"testMT\",\"MTData.txt\");\n",
    "genofile = QTLDatasets.dataset(\"testMT\",\"genotype.txt\");"
   ]
  },
  {
   "cell_type": "code",
   "execution_count": 11,
   "metadata": {
    "collapsed": false
   },
   "outputs": [
    {
     "name": "stdout",
     "output_type": "stream",
     "text": [
      "y1   y2    trt\n",
      "1.0  2.0    1\n",
      "1.1  NA     1\n",
      "0.9  1.9    2\n",
      "1.2   1.7   2\n"
     ]
    }
   ],
   "source": [
    ";cat $MTData"
   ]
  },
  {
   "cell_type": "code",
   "execution_count": 12,
   "metadata": {
    "collapsed": false
   },
   "outputs": [
    {
     "data": {
      "text/html": [
       "<table class=\"data-frame\"><tr><th></th><th>y1</th><th>y2</th><th>trt</th></tr><tr><th>1</th><td>1.0</td><td>2.0</td><td>1</td></tr><tr><th>2</th><td>1.1</td><td>NA</td><td>1</td></tr><tr><th>3</th><td>0.9</td><td>1.9</td><td>2</td></tr><tr><th>4</th><td>1.2</td><td>1.7</td><td>2</td></tr></table>"
      ],
      "text/plain": [
       "4×3 DataFrames.DataFrame\n",
       "│ Row │ y1  │ y2  │ trt │\n",
       "├─────┼─────┼─────┼─────┤\n",
       "│ 1   │ 1.0 │ 2.0 │ 1   │\n",
       "│ 2   │ 1.1 │ NA  │ 1   │\n",
       "│ 3   │ 0.9 │ 1.9 │ 2   │\n",
       "│ 4   │ 1.2 │ 1.7 │ 2   │"
      ]
     },
     "execution_count": 12,
     "metadata": {},
     "output_type": "execute_result"
    }
   ],
   "source": [
    "df = readtable(MTData, separator = ' ')"
   ]
  },
  {
   "cell_type": "code",
   "execution_count": 13,
   "metadata": {
    "collapsed": true
   },
   "outputs": [],
   "source": [
    "R0=[1.0 0.5\n",
    "    0.5 2.0];"
   ]
  },
  {
   "cell_type": "code",
   "execution_count": 14,
   "metadata": {
    "collapsed": false
   },
   "outputs": [],
   "source": [
    "models = \"y1 = intercept + trt;\n",
    "          y2 = intercept + trt\"\n",
    "mme = MT.build_model(models,R0);"
   ]
  },
  {
   "cell_type": "code",
   "execution_count": 15,
   "metadata": {
    "collapsed": false
   },
   "outputs": [
    {
     "name": "stdout",
     "output_type": "stream",
     "text": [
      "The delimiters in file /Users/haocheng/.julia/v0.4/QTLDatasets/src/../data/testMT/genotype.txt is ,  .\n"
     ]
    }
   ],
   "source": [
    "G=[1.0 0.5\n",
    "    0.5 2.0];\n",
    "MT.add_markers(mme,genofile,G,separator=',',header=true);"
   ]
  },
  {
   "cell_type": "code",
   "execution_count": 17,
   "metadata": {
    "collapsed": false
   },
   "outputs": [
    {
     "name": "stdout",
     "output_type": "stream",
     "text": [
      "at sample: 100\n",
      "Residual covariance matrix: \n",
      "[0.621912512911431 0.25297188166373197\n",
      " 0.25297188166373197 1.2749999508406962]\n",
      "Marker effects covariance matrix: \n",
      "[0.2995296357092736 0.17981684854547253\n",
      " 0.17981684854547253 0.8285559526425385]\n",
      "\n",
      "Dict([0.0,1.0]=>0.06571081354183186,[1.0,0.0]=>0.29930775646002217,[1.0,1.0]=>0.11389821596603672,[0.0,0.0]=>0.5210832140321092)\n",
      "at sample: 200\n",
      "Residual covariance matrix: \n",
      "[0.6582080254931031 0.32310218256821793\n",
      " 0.32310218256821793 1.4368512353277563]\n",
      "Marker effects covariance matrix: \n",
      "[0.34463394643537426 0.17037936359398384\n",
      " 0.17037936359398384 0.7777208733283922]\n",
      "\n",
      "Dict([0.0,1.0]=>0.15072846002357926,[1.0,0.0]=>0.3301042127178358,[1.0,1.0]=>0.11044469446732887,[0.0,0.0]=>0.408722632791256)\n",
      "at sample: 300\n",
      "Residual covariance matrix: \n",
      "[0.6414107828403305 0.31774225104099757\n",
      " 0.31774225104099757 1.4722932210968045]\n",
      "Marker effects covariance matrix: \n",
      "[0.3448782092029659 0.19199877663352455\n",
      " 0.19199877663352455 0.8213823267202169]\n",
      "\n",
      "Dict([0.0,1.0]=>0.6066973315333075,[1.0,0.0]=>0.14977734339256615,[1.0,1.0]=>0.08686991174156751,[0.0,0.0]=>0.15665541333255878)\n",
      "at sample: 400\n",
      "Residual covariance matrix: \n",
      "[0.673440154878226 0.3002367244554019\n",
      " 0.3002367244554019 1.6178312711775704]\n",
      "Marker effects covariance matrix: \n",
      "[0.3273527131789622 0.17530361252579466\n",
      " 0.17530361252579466 0.8079723974605405]\n",
      "\n",
      "Dict([0.0,1.0]=>0.2545498881342264,[1.0,0.0]=>0.0222419546999066,[1.0,1.0]=>0.18176057486291086,[0.0,0.0]=>0.541447582302956)\n",
      "at sample: 500\n",
      "Residual covariance matrix: \n",
      "[0.7108198413563107 0.3237861688263424\n",
      " 0.3237861688263424 1.6768580317426072]\n",
      "Marker effects covariance matrix: \n",
      "[0.3244924187511162 0.17336435642787434\n",
      " 0.17336435642787434 0.7795368812102773]\n",
      "\n",
      "Dict([0.0,1.0]=>0.002631132065088388,[1.0,0.0]=>0.5242866338577392,[1.0,1.0]=>0.10120327306724845,[0.0,0.0]=>0.37187896100992385)\n"
     ]
    }
   ],
   "source": [
    "Pi=Dict([1.0; 1.0]=>0.25,[1.0; 0.0]=>0.25,[0.0; 1.0]=>0.25,[0.0; 0.0]=>0.25)\n",
    "out = MT.runMCMC(mme,df,Pi=Pi,methods=\"BayesC\",missing_phenotypes=true,chain_length=500,printout_frequency=100);"
   ]
  },
  {
   "cell_type": "code",
   "execution_count": 18,
   "metadata": {
    "collapsed": false
   },
   "outputs": [
    {
     "data": {
      "text/latex": [
       "\\begin{verbatim}\n",
       "runMCMC(mme,df;Pi=0.0,chain_length=1000,starting_value=false,printout_frequency=100,missing_phenotypes= false,methods=\"no markers\",output_marker_effects_frequency::Int64 = 0)\n",
       "\\end{verbatim}\n",
       "Run MCMC (marker information included or not) with sampling of variance components. Available methods include \"no markers\", \"BayesC0\", \"BayesC\", \"BayesCC\". Pi is a dictionary such as \\texttt{Pi=Dict([1.0; 1.0]=>0.7,[1.0; 0.0]=>0.1,[0.0; 1.0]=>0.1,[0.0; 0.0]=>0.1)}\n"
      ],
      "text/markdown": [
       "```\n",
       "runMCMC(mme,df;Pi=0.0,chain_length=1000,starting_value=false,printout_frequency=100,missing_phenotypes= false,methods=\"no markers\",output_marker_effects_frequency::Int64 = 0)\n",
       "```\n",
       "\n",
       "Run MCMC (marker information included or not) with sampling of variance components. Available methods include \"no markers\", \"BayesC0\", \"BayesC\", \"BayesCC\". Pi is a dictionary such as `Pi=Dict([1.0; 1.0]=>0.7,[1.0; 0.0]=>0.1,[0.0; 1.0]=>0.1,[0.0; 0.0]=>0.1)`\n"
      ],
      "text/plain": [
       "```\n",
       "runMCMC(mme,df;Pi=0.0,chain_length=1000,starting_value=false,printout_frequency=100,missing_phenotypes= false,methods=\"no markers\",output_marker_effects_frequency::Int64 = 0)\n",
       "```\n",
       "\n",
       "Run MCMC (marker information included or not) with sampling of variance components. Available methods include \"no markers\", \"BayesC0\", \"BayesC\", \"BayesCC\". Pi is a dictionary such as `Pi=Dict([1.0; 1.0]=>0.7,[1.0; 0.0]=>0.1,[0.0; 1.0]=>0.1,[0.0; 0.0]=>0.1)`\n"
      ]
     },
     "execution_count": 18,
     "metadata": {},
     "output_type": "execute_result"
    }
   ],
   "source": [
    "?MT.runMCMC"
   ]
  }
 ],
 "metadata": {
  "kernelspec": {
   "display_name": "Julia 0.4.5",
   "language": "julia",
   "name": "julia-0.4"
  },
  "language_info": {
   "file_extension": ".jl",
   "mimetype": "application/julia",
   "name": "julia",
   "version": "0.4.5"
  }
 },
 "nbformat": 4,
 "nbformat_minor": 0
}
