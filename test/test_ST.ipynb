{
 "cells": [
  {
   "cell_type": "code",
   "execution_count": 1,
   "metadata": {
    "collapsed": false
   },
   "outputs": [
    {
     "data": {
      "text/plain": [
       "JWAS"
      ]
     },
     "execution_count": 1,
     "metadata": {},
     "output_type": "execute_result"
    }
   ],
   "source": [
    "include(\"../Github/JWAS.jl/src/JWAS.jl\")"
   ]
  },
  {
   "cell_type": "code",
   "execution_count": 2,
   "metadata": {
    "collapsed": true
   },
   "outputs": [],
   "source": [
    "using DataFrames,JWAS,JWAS.Datasets"
   ]
  },
  {
   "cell_type": "code",
   "execution_count": 3,
   "metadata": {
    "collapsed": false
   },
   "outputs": [
    {
     "name": "stdout",
     "output_type": "stream",
     "text": [
      "coding pedigree... 100%|████████████████████████████████| Time: 0:00:00\n",
      "Finished!\n",
      "5 markers on 4 individuals were added.\n"
     ]
    }
   ],
   "source": [
    "phenofile = Datasets.dataset(\"testMME\",\"simple.txt\")\n",
    "genofile  = Datasets.dataset(\"testMME\",\"genotype.txt\")\n",
    "pedfile   = Datasets.dataset(\"testMME\",\"pedigree.txt\");\n",
    "phenotype = readtable(phenofile,separator = ',',header=true);\n",
    "pedigree = get_pedigree(pedfile);\n",
    "residual_variance = 1.0\n",
    "genetic_variance  = 2.5\n",
    "genetic_variance_by_marker    = 1.5\n",
    "genetic_variance_by_polygenic = 1.0;\n",
    "model = build_model(\"y = intercept + Age + Animal\",residual_variance)\n",
    "set_covariate(model,\"Age\")\n",
    "set_random(model,\"Animal\",pedigree,genetic_variance_by_polygenic)\n",
    "add_markers(model,genofile,genetic_variance_by_marker,separator=',');"
   ]
  },
  {
   "cell_type": "code",
   "execution_count": 4,
   "metadata": {
    "collapsed": false
   },
   "outputs": [
    {
     "name": "stdout",
     "output_type": "stream",
     "text": [
      "Priors for marker effects covariance matrix were calculated from genetic covariance matrix and π.\n",
      "Marker effects covariance matrix is \n",
      "13.150685.\n",
      "\n",
      "\n",
      "MCMC Information:\n",
      "\n",
      "methods                                      BayesB\n",
      "chain_length                                   5000\n",
      "starting_value                                false\n",
      "printout_frequency                             1000\n",
      "output_samples_frequency                       1000\n",
      "constraint                                    false\n",
      "missing_phenotypes                            false\n",
      "update_priors_frequency                           0\n",
      "\n",
      "Information for hyper-parameter: π (Π)\n",
      "π                                              0.95\n",
      "estimatePi                                    false\n",
      "\n",
      "Degree of freedom for hyper-parameters:\n",
      "residual variances:                           4.000\n",
      "iid random effect variances:                  4.000\n",
      "polygenic effect variances:                   4.000\n",
      "marker effect variances:                      4.000\n",
      "\n",
      "\n",
      "\n",
      "running MCMC for BayesB ...  0%|                        |  ETA: 0:55:27\n",
      "Posterior means at iteration: 1000\n",
      "Residual variance: 1.194123\n",
      "Polygenic effects covariance matrix \n",
      "[0.654]\n",
      "running MCMC for BayesB ... 20%|█████                   |  ETA: 0:00:05\n",
      "Posterior means at iteration: 2000\n",
      "Residual variance: 1.174168\n",
      "Polygenic effects covariance matrix \n",
      "[0.618]\n",
      "running MCMC for BayesB ... 46%|███████████             |  ETA: 0:00:02\n",
      "Posterior means at iteration: 3000\n",
      "Residual variance: 1.195167\n",
      "Polygenic effects covariance matrix \n",
      "[0.608]\n",
      "running MCMC for BayesB ... 73%|█████████████████       |  ETA: 0:00:01\n",
      "Posterior means at iteration: 4000\n",
      "Residual variance: 1.195376\n",
      "Polygenic effects covariance matrix \n",
      "[0.612]\n",
      "running MCMC for BayesB ... 96%|███████████████████████ |  ETA: 0:00:00\n",
      "Posterior means at iteration: 5000\n",
      "Residual variance: 1.205527\n",
      "Polygenic effects covariance matrix \n",
      "[0.615]\n",
      "running MCMC for BayesB ...100%|████████████████████████| Time: 0:00:02\n"
     ]
    }
   ],
   "source": [
    "output=runMCMC(model,phenotype,chain_length=5000,methods=\"BayesB\",output_samples_frequency=1000,printout_frequency=1000);"
   ]
  },
  {
   "cell_type": "code",
   "execution_count": 5,
   "metadata": {
    "collapsed": false
   },
   "outputs": [
    {
     "data": {
      "text/plain": [
       "Dict{Any,Any} with 4 entries:\n",
       "  \"Posterior mean of marke… => Any[\"x1\" -0.0672701; \"x2\" -0.0447898; … ; \"x4\" -…\n",
       "  \"MCMC samples for residu… => [2.30776 0.982642 … 0.785603 0.22616]\n",
       "  \"MCMC samples for polyge… => [0.33819 0.23262 … 0.288085 0.362474]\n",
       "  \"Posterior mean of locat… => Any[\"1:intercept : intercept\" -0.676576; \"1:Age …"
      ]
     },
     "execution_count": 5,
     "metadata": {},
     "output_type": "execute_result"
    }
   ],
   "source": [
    "output"
   ]
  },
  {
   "cell_type": "code",
   "execution_count": 6,
   "metadata": {
    "collapsed": false
   },
   "outputs": [
    {
     "name": "stdout",
     "output_type": "stream",
     "text": [
      "MCMC_samples_for_marker_effects.txt\n",
      "MCMC_samples_for_marker_effects_1.txt\n",
      "MCMC_samples_for_marker_effects_10.txt\n",
      "MCMC_samples_for_marker_effects_11.txt\n",
      "MCMC_samples_for_marker_effects_2.txt\n",
      "MCMC_samples_for_marker_effects_3.txt\n",
      "MCMC_samples_for_marker_effects_4.txt\n",
      "MCMC_samples_for_marker_effects_5.txt\n",
      "MCMC_samples_for_marker_effects_6.txt\n",
      "MCMC_samples_for_marker_effects_7.txt\n",
      "MCMC_samples_for_marker_effects_8.txt\n",
      "MCMC_samples_for_marker_effects_9.txt\n",
      "Untitled.ipynb\n",
      "hailin-8.reByCECG.123only.aod\n",
      "test_Gibbs.ipynb\n"
     ]
    }
   ],
   "source": [
    ";ls"
   ]
  },
  {
   "cell_type": "code",
   "execution_count": null,
   "metadata": {
    "collapsed": true
   },
   "outputs": [],
   "source": []
  }
 ],
 "metadata": {
  "anaconda-cloud": {},
  "kernelspec": {
   "display_name": "Julia 0.5.0",
   "language": "julia",
   "name": "julia-0.5"
  },
  "language_info": {
   "file_extension": ".jl",
   "mimetype": "application/julia",
   "name": "julia",
   "version": "0.5.0"
  }
 },
 "nbformat": 4,
 "nbformat_minor": 1
}
