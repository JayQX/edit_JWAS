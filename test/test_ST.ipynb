{
 "cells": [
  {
   "cell_type": "code",
   "execution_count": 1,
   "metadata": {
    "collapsed": false
   },
   "outputs": [
    {
     "data": {
      "text/plain": [
       "JWAS"
      ]
     },
     "execution_count": 1,
     "metadata": {},
     "output_type": "execute_result"
    }
   ],
   "source": [
    "include(\"../src/JWAS.jl\")"
   ]
  },
  {
   "cell_type": "code",
   "execution_count": 2,
   "metadata": {
    "collapsed": true
   },
   "outputs": [],
   "source": [
    "using DataFrames,JWAS,JWAS.Datasets"
   ]
  },
  {
   "cell_type": "code",
   "execution_count": 7,
   "metadata": {
    "collapsed": false
   },
   "outputs": [
    {
     "name": "stdout",
     "output_type": "stream",
     "text": [
      "Finished!\n",
      "5 markers on 4 individuals were added.\n"
     ]
    }
   ],
   "source": [
    "phenofile = Datasets.dataset(\"testMME\",\"simple.txt\")\n",
    "genofile  = Datasets.dataset(\"testMME\",\"genotype.txt\")\n",
    "pedfile   = Datasets.dataset(\"testMME\",\"pedigree.txt\");\n",
    "phenotype = readtable(phenofile,separator = ',',header=true);\n",
    "pedigree = get_pedigree(pedfile);\n",
    "residual_variance = 1.0\n",
    "genetic_variance  = 2.5\n",
    "genetic_variance_by_marker    = 1.5\n",
    "genetic_variance_by_polygenic = 1.0;\n",
    "model = build_model(\"y = intercept + Age + Animal\",residual_variance)\n",
    "set_covariate(model,\"Age\")\n",
    "#set_random(model,\"Animal\",pedigree,genetic_variance_by_polygenic)\n",
    "add_markers(model,genofile,genetic_variance_by_marker,separator=',');"
   ]
  },
  {
   "cell_type": "code",
   "execution_count": 8,
   "metadata": {
    "collapsed": false
   },
   "outputs": [
    {
     "name": "stdout",
     "output_type": "stream",
     "text": [
      "Priors for marker effects covariance matrix were calculated from genetic covariance matrix and π.\n",
      "Marker effects covariance matrix is \n",
      "13.150685.\n",
      "\n",
      "\n",
      "MCMC Information:\n",
      "\n",
      "methods                        conventional (no markers)\n",
      "chain_length                                   5000\n",
      "starting_value                                false\n",
      "printout_frequency                             1000\n",
      "output_samples_frequency                       1000\n",
      "constraint                                    false\n",
      "missing_phenotypes                            false\n",
      "update_priors_frequency                           0\n",
      "\n",
      "Degree of freedom for hyper-parameters:\n",
      "residual variances:                           4.000\n",
      "iid random effect variances:                  4.000\n",
      "polygenic effect variances:                   4.000\n",
      "marker effect variances:                      4.000\n",
      "\n",
      "\n",
      "\n",
      "\n",
      "Posterior means at iteration: 1000\n",
      "Residual variance: 1.100226\n",
      "running MCMC for conventional analyses... 25%|███       |  ETA: 0:00:00\n",
      "Posterior means at iteration: 2000\n",
      "Residual variance: 1.050892\n",
      "\n",
      "Posterior means at iteration: 3000\n",
      "Residual variance: 1.082976\n",
      "running MCMC for conventional analyses... 77%|████████  |  ETA: 0:00:00\n",
      "Posterior means at iteration: 4000\n",
      "Residual variance: 1.052242\n",
      "\n",
      "Posterior means at iteration: 5000\n",
      "Residual variance: 1.050235\n",
      "running MCMC for conventional analyses...100%|██████████| Time: 0:00:00\n"
     ]
    }
   ],
   "source": [
    "output=runMCMC(model,phenotype,chain_length=5000,output_samples_frequency=1000,printout_frequency=1000);"
   ]
  },
  {
   "cell_type": "code",
   "execution_count": 9,
   "metadata": {
    "collapsed": false
   },
   "outputs": [
    {
     "data": {
      "text/plain": [
       "Dict{Any,Any} with 2 entries:\n",
       "  \"MCMC samples for residu… => [0.47211 0.312208 … 0.962124 0.706912]\n",
       "  \"Posterior mean of locat… => Any[\"1:intercept : intercept\" 31.9948; \"1:Age : …"
      ]
     },
     "execution_count": 9,
     "metadata": {},
     "output_type": "execute_result"
    }
   ],
   "source": [
    "output"
   ]
  },
  {
   "cell_type": "code",
   "execution_count": 10,
   "metadata": {
    "collapsed": false
   },
   "outputs": [
    {
     "name": "stdout",
     "output_type": "stream",
     "text": [
      "MCMC_samples_for_marker_effects.txt\n",
      "MCMC_samples_for_marker_effects_1.txt\n",
      "MCMC_samples_for_marker_effects_2.txt\n",
      "MCMC_samples_for_marker_effects_3.txt\n",
      "MCMC_samples_for_marker_effects_4.txt\n",
      "MCMC_samples_for_marker_effects_5.txt\n",
      "MCMC_samples_for_marker_effects_6.txt\n",
      "MCMC_samples_for_marker_effects_7.txt\n",
      "MCMC_samples_for_marker_effects_8.txt\n",
      "runtests.jl\n",
      "test_GBLUP2.jl\n",
      "test_MT.jl\n",
      "test_MT_PBLUP.jl\n",
      "test_ST.ipynb\n",
      "test_ST.jl\n"
     ]
    }
   ],
   "source": [
    ";ls"
   ]
  },
  {
   "cell_type": "code",
   "execution_count": null,
   "metadata": {
    "collapsed": true
   },
   "outputs": [],
   "source": []
  },
  {
   "cell_type": "code",
   "execution_count": null,
   "metadata": {
    "collapsed": true
   },
   "outputs": [],
   "source": []
  }
 ],
 "metadata": {
  "anaconda-cloud": {},
  "kernelspec": {
   "display_name": "Julia 0.5.0",
   "language": "julia",
   "name": "julia-0.5"
  },
  "language_info": {
   "file_extension": ".jl",
   "mimetype": "application/julia",
   "name": "julia",
   "version": "0.5.0"
  }
 },
 "nbformat": 4,
 "nbformat_minor": 1
}
