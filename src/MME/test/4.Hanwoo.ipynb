{
 "cells": [
  {
   "cell_type": "markdown",
   "metadata": {},
   "source": [
    "## Module for building Henderson's Mixed Model Equations for single trait including marker  and polygenic effect\n",
    "\n"
   ]
  },
  {
   "cell_type": "markdown",
   "metadata": {},
   "source": [
    "### <font color=\"red\"> Run module</font>"
   ]
  },
  {
   "cell_type": "code",
   "execution_count": 1,
   "metadata": {
    "collapsed": false
   },
   "outputs": [
    {
     "data": {
      "text/plain": [
       "MMEModule"
      ]
     },
     "execution_count": 1,
     "metadata": {},
     "output_type": "execute_result"
    }
   ],
   "source": [
    "include(\"../src/MMEModule.jl\")"
   ]
  },
  {
   "cell_type": "code",
   "execution_count": 2,
   "metadata": {
    "collapsed": true
   },
   "outputs": [],
   "source": [
    "PATH=\"/Users/haocheng/Documents/1_testMTBR/\"\n",
    "PATH=\"/Users/joonho/Desktop/1_testMTBR/\"\n",
    "genotype=readdlm(PATH*\"SNP.t1\");\n",
    "phenotype_MAR = readdlm(PATH*\"MARt1\");\n",
    "phenotype_CWT = readdlm(PATH*\"CWTt1\");"
   ]
  },
  {
   "cell_type": "code",
   "execution_count": 3,
   "metadata": {
    "collapsed": true
   },
   "outputs": [],
   "source": [
    "M=genotype[:,2:end];\n",
    "y=[phenotype_MAR[:,2] phenotype_CWT[:,2]];"
   ]
  },
  {
   "cell_type": "code",
   "execution_count": 4,
   "metadata": {
    "collapsed": true
   },
   "outputs": [],
   "source": [
    "using DataFrames"
   ]
  },
  {
   "cell_type": "code",
   "execution_count": 5,
   "metadata": {
    "collapsed": false
   },
   "outputs": [],
   "source": [
    "df2 = DataFrame(y2=y[:,2]);"
   ]
  },
  {
   "cell_type": "code",
   "execution_count": 6,
   "metadata": {
    "collapsed": true
   },
   "outputs": [],
   "source": [
    "nIter     = 50\n",
    "\n",
    "G=[4.48   9.22    \n",
    "9.22   303.63]\n",
    "\n",
    "R=[6.72   24.84\n",
    "24.84   708.41];"
   ]
  },
  {
   "cell_type": "markdown",
   "metadata": {},
   "source": [
    "### <font color=\"red\"> work with markers</font>"
   ]
  },
  {
   "cell_type": "code",
   "execution_count": 7,
   "metadata": {
    "collapsed": false
   },
   "outputs": [],
   "source": [
    "models = \"y2 = intercept\"\n",
    "mme = MMEModule.initMME(models,R[2,2]);"
   ]
  },
  {
   "cell_type": "code",
   "execution_count": 8,
   "metadata": {
    "collapsed": false
   },
   "outputs": [],
   "source": [
    "MMEModule.addMarkers(mme,M,G[2,2]);"
   ]
  },
  {
   "cell_type": "markdown",
   "metadata": {},
   "source": [
    "##### sample without vc"
   ]
  },
  {
   "cell_type": "code",
   "execution_count": 9,
   "metadata": {
    "collapsed": false
   },
   "outputs": [
    {
     "name": "stdout",
     "output_type": "stream",
     "text": [
      "at sample: 10 with meanVare: 547.6655782189869 meanVara 0.025846334655531097 and G0Mean: 0.0\n",
      "at sample: 20 with meanVare: 562.6929662890336 meanVara 0.02595680795579361 and G0Mean: 0.0\n",
      "at sample: 30 with meanVare: 564.2183237578687 meanVara 0.026032789892147513 and G0Mean: 0.0\n",
      "at sample: 40 with meanVare: 558.9975574727564 meanVara 0.026350524607350993 and G0Mean: 0.0\n",
      "at sample: 50 with meanVare: 563.3714278420518 meanVara 0.02646512209905991 and G0Mean: 0.0\n",
      "at sample: 60 with meanVare: 564.3644977631113 meanVara 0.02665897454908934 and G0Mean: 0.0\n",
      "at sample: 70 with meanVare: 563.4458669346985 meanVara 0.026713138250460348 and G0Mean: 0.0\n",
      "at sample: 80 with meanVare: 573.5973257997167 meanVara 0.02669088622598228 and G0Mean: 0.0\n",
      "at sample: 90 with meanVare: 570.2739417687203 meanVara 0.026615484897457617 and G0Mean: 0.0\n",
      "at sample: 100 with meanVare: 568.8649552863252 meanVara 0.026574979900177747 and G0Mean: 0.0\n",
      "at sample: 110 with meanVare: 573.0258830724798 meanVara 0.026508383618657993 and G0Mean: 0.0\n",
      "at sample: 120 with meanVare: 570.9211681283577 meanVara 0.02644141215427752 and G0Mean: 0.0\n",
      "at sample: 130 with meanVare: 570.4222196274845 meanVara 0.0264043574020318 and G0Mean: 0.0\n",
      "at sample: 140 with meanVare: 572.1980672824541 meanVara 0.026301856130839612 and G0Mean: 0.0\n",
      "at sample: 150 with meanVare: 572.7321484467957 meanVara 0.026175570178141584 and G0Mean: 0.0\n",
      "at sample: 160 with meanVare: 573.585441128163 meanVara 0.02607498901837937 and G0Mean: 0.0\n",
      "at sample: 170 with meanVare: 573.090472325479 meanVara 0.026028622097546205 and G0Mean: 0.0\n",
      "at sample: 180 with meanVare: 574.91157457639 meanVara 0.025991708387111914 and G0Mean: 0.0\n",
      "at sample: 190 with meanVare: 573.5360730120773 meanVara 0.02600976838727096 and G0Mean: 0.0\n",
      "at sample: 200 with meanVare: 572.9809337708178 meanVara 0.026025898025236225 and G0Mean: 0.0\n",
      "at sample: 210 with meanVare: 573.149077959968 meanVara 0.02602743288957925 and G0Mean: 0.0\n",
      "at sample: 220 with meanVare: 573.3399785247768 meanVara 0.026012163068075515 and G0Mean: 0.0\n",
      "at sample: 230 with meanVare: 572.5952238443449 meanVara 0.026043622996575998 and G0Mean: 0.0\n",
      "at sample: 240 with meanVare: 571.4823611730902 meanVara 0.026047018294710445 and G0Mean: 0.0\n",
      "at sample: 250 with meanVare: 571.0733102728814 meanVara 0.026064776615849824 and G0Mean: 0.0\n",
      "at sample: 260 with meanVare: 570.9444851282377 meanVara 0.026119940693885936 and G0Mean: 0.0\n",
      "at sample: 270 with meanVare: 571.3795819385564 meanVara 0.026177622551848002 and G0Mean: 0.0\n",
      "at sample: 280 with meanVare: 571.5208316646019 meanVara 0.026194455030583517 and G0Mean: 0.0\n",
      "at sample: 290 with meanVare: 571.863503409562 meanVara 0.02617121511039384 and G0Mean: 0.0\n",
      "at sample: 300 with meanVare: 571.5258365244032 meanVara 0.02616888483547837 and G0Mean: 0.0\n",
      "at sample: 310 with meanVare: 571.7826238144539 meanVara 0.026158161710701948 and G0Mean: 0.0\n",
      "at sample: 320 with meanVare: 570.727423555377 meanVara 0.026160774880892718 and G0Mean: 0.0\n",
      "at sample: 330 with meanVare: 570.8049857494528 meanVara 0.026167984036114356 and G0Mean: 0.0\n",
      "at sample: 340 with meanVare: 571.1134298805645 meanVara 0.026146150264096737 and G0Mean: 0.0\n",
      "at sample: 350 with meanVare: 569.4475954826279 meanVara 0.026149844618303605 and G0Mean: 0.0\n",
      "at sample: 360 with meanVare: 569.3342405720103 meanVara 0.0261388232016815 and G0Mean: 0.0\n",
      "at sample: 370 with meanVare: 569.4514538940648 meanVara 0.026123019715759827 and G0Mean: 0.0\n",
      "at sample: 380 with meanVare: 570.6263955692297 meanVara 0.026073007954589326 and G0Mean: 0.0\n",
      "at sample: 390 with meanVare: 570.7245619622522 meanVara 0.02603408957361417 and G0Mean: 0.0\n",
      "at sample: 400 with meanVare: 570.8759686614304 meanVara 0.02601527010905055 and G0Mean: 0.0\n",
      "at sample: 410 with meanVare: 570.7588409925605 meanVara 0.026010702914680703 and G0Mean: 0.0\n",
      "at sample: 420 with meanVare: 570.620794526972 meanVara 0.026003982293574805 and G0Mean: 0.0\n",
      "at sample: 430 with meanVare: 570.0412541618242 meanVara 0.026000526111978912 and G0Mean: 0.0\n",
      "at sample: 440 with meanVare: 569.3293627902326 meanVara 0.026009838581836343 and G0Mean: 0.0\n",
      "at sample: 450 with meanVare: 568.8029596176538 meanVara 0.026027872218961846 and G0Mean: 0.0\n",
      "at sample: 460 with meanVare: 569.1942122137956 meanVara 0.026053692900532336 and G0Mean: 0.0\n",
      "at sample: 470 with meanVare: 569.0359270076526 meanVara 0.02608200088937463 and G0Mean: 0.0\n",
      "at sample: 480 with meanVare: 568.399175796648 meanVara 0.02612664223422721 and G0Mean: 0.0\n",
      "at sample: 490 with meanVare: 567.1414311301482 meanVara 0.026188617285398782 and G0Mean: 0.0\n",
      "at sample: 500 with meanVare: 566.5930124139986 meanVara 0.02624648469644169 and G0Mean: 0.0\n",
      "at sample: 510 with meanVare: 565.5965613729342 meanVara 0.026324629638246062 and G0Mean: 0.0\n",
      "at sample: 520 with meanVare: 564.6238116683002 meanVara 0.02643168117901728 and G0Mean: 0.0\n",
      "at sample: 530 with meanVare: 563.748850335471 meanVara 0.026540101823849874 and G0Mean: 0.0\n",
      "at sample: 540 with meanVare: 563.0909996092761 meanVara 0.026636420537405937 and G0Mean: 0.0\n",
      "at sample: 550 with meanVare: 562.2076538481726 meanVara 0.026700732896699986 and G0Mean: 0.0\n",
      "at sample: 560 with meanVare: 561.7908368827565 meanVara 0.026747875891292204 and G0Mean: 0.0\n",
      "at sample: 570 with meanVare: 561.5686955407637 meanVara 0.026787468274101098 and G0Mean: 0.0\n",
      "at sample: 580 with meanVare: 560.7840060018256 meanVara 0.026833027042847887 and G0Mean: 0.0\n",
      "at sample: 590 with meanVare: 560.4832323718559 meanVara 0.026863486106592675 and G0Mean: 0.0\n",
      "at sample: 600 with meanVare: 560.6081780138261 meanVara 0.02687970118118878 and G0Mean: 0.0\n",
      "at sample: 610 with meanVare: 560.7183023058711 meanVara 0.026884289771626182 and G0Mean: 0.0\n",
      "at sample: 620 with meanVare: 560.1966005471534 meanVara 0.026885980030874706 and G0Mean: 0.0\n",
      "at sample: 630 with meanVare: 559.9482037911428 meanVara 0.026892424743349373 and G0Mean: 0.0\n",
      "at sample: 640 with meanVare: 560.2360440614822 meanVara 0.026895298431363766 and G0Mean: 0.0\n",
      "at sample: 650 with meanVare: 559.936300252959 meanVara 0.026877679841069396 and G0Mean: 0.0\n",
      "at sample: 660 with meanVare: 559.9980587978991 meanVara 0.026868355717695105 and G0Mean: 0.0\n",
      "at sample: 670 with meanVare: 559.8905596330214 meanVara 0.026872187353413162 and G0Mean: 0.0\n",
      "at sample: 680 with meanVare: 559.7055805923123 meanVara 0.026874953420328713 and G0Mean: 0.0\n",
      "at sample: 690 with meanVare: 560.4502141442985 meanVara 0.026868068890350035 and G0Mean: 0.0\n",
      "at sample: 700 with meanVare: 560.8621225100467 meanVara 0.026865845058309204 and G0Mean: 0.0\n",
      "at sample: 710 with meanVare: 560.9575436275838 meanVara 0.02685816736583026 and G0Mean: 0.0\n",
      "at sample: 720 with meanVare: 561.7149377468335 meanVara 0.02684221991750541 and G0Mean: 0.0\n",
      "at sample: 730 with meanVare: 561.7525348635472 meanVara 0.026825821719025995 and G0Mean: 0.0\n",
      "at sample: 740 with meanVare: 562.1287581806829 meanVara 0.026801768109295927 and G0Mean: 0.0\n",
      "at sample: 750 with meanVare: 562.1963829829381 meanVara 0.026766632856095537 and G0Mean: 0.0\n",
      "at sample: 760 with meanVare: 562.7052480496845 meanVara 0.02673192100620563 and G0Mean: 0.0\n",
      "at sample: 770 with meanVare: 562.9326536455056 meanVara 0.026707245735033074 and G0Mean: 0.0\n",
      "at sample: 780 with meanVare: 563.1226874835022 meanVara 0.026685606194698428 and G0Mean: 0.0\n",
      "at sample: 790 with meanVare: 563.4587843737595 meanVara 0.02666354576725735 and G0Mean: 0.0\n",
      "at sample: 800 with meanVare: 564.0022682876318 meanVara 0.026640188675352516 and G0Mean: 0.0\n",
      "at sample: 810 with meanVare: 563.8865242098055 meanVara 0.026615678570124878 and G0Mean: 0.0\n",
      "at sample: 820 with meanVare: 564.1341933690085 meanVara 0.026583020572970927 and G0Mean: 0.0\n",
      "at sample: 830 with meanVare: 564.2038434823751 meanVara 0.026548937354444965 and G0Mean: 0.0\n",
      "at sample: 840 with meanVare: 564.2211038544957 meanVara 0.026529903670100583 and G0Mean: 0.0\n",
      "at sample: 850 with meanVare: 563.8931276753776 meanVara 0.02650899783145351 and G0Mean: 0.0\n",
      "at sample: 860 with meanVare: 564.0835921251411 meanVara 0.026494999749851828 and G0Mean: 0.0\n",
      "at sample: 870 with meanVare: 564.6638946455412 meanVara 0.026484560515364824 and G0Mean: 0.0\n",
      "at sample: 880 with meanVare: 564.4276402902826 meanVara 0.026471105402514405 and G0Mean: 0.0\n",
      "at sample: 890 with meanVare: 564.1692413715665 meanVara 0.02645718148550903 and G0Mean: 0.0\n",
      "at sample: 900 with meanVare: 564.5362165122451 meanVara 0.026438108247833658 and G0Mean: 0.0\n",
      "at sample: 910 with meanVare: 564.7384883222403 meanVara 0.026421820305530187 and G0Mean: 0.0\n",
      "at sample: 920 with meanVare: 564.7920059558544 meanVara 0.026429169116783103 and G0Mean: 0.0\n",
      "at sample: 930 with meanVare: 564.8839418400063 meanVara 0.026430395061355017 and G0Mean: 0.0\n",
      "at sample: 940 with meanVare: 564.8039440333554 meanVara 0.026440397056224967 and G0Mean: 0.0\n",
      "at sample: 950 with meanVare: 564.7362724046344 meanVara 0.026456108837373923 and G0Mean: 0.0\n",
      "at sample: 960 with meanVare: 564.3162928607181 meanVara 0.02648003887802005 and G0Mean: 0.0\n",
      "at sample: 970 with meanVare: 564.0504625200091 meanVara 0.02651318120170706 and G0Mean: 0.0\n",
      "at sample: 980 with meanVare: 563.554476008437 meanVara 0.026541374848187155 and G0Mean: 0.0\n",
      "at sample: 990 with meanVare: 563.3502846230455 meanVara 0.026559669515861677 and G0Mean: 0.0\n",
      "at sample: 1000"
     ]
    },
    {
     "data": {
      "text/plain": [
       "Dict{Any,Any} with 3 entries:\n",
       "  \"posteriorMeanLocationP… => 1x2 Array{Any,2}:…\n",
       "  \"posteriorMeanMarkerEff… => [-0.0157637,0.0100552,-0.0172162,-0.0243887,-0.01…\n",
       "  \"MCMCSamples for residu… => [547.401,518.485,579.772,559.004,526.812,552.063,…"
      ]
     },
     "execution_count": 9,
     "metadata": {},
     "output_type": "execute_result"
    },
    {
     "name": "stdout",
     "output_type": "stream",
     "text": [
      " with meanVare: 562.8444872705192 meanVara 0.026577445718212536 and G0Mean: 0.0\n"
     ]
    }
   ],
   "source": [
    "output=MMEModule.sampleMCMCv(1000,mme,df2,outFreq=10)"
   ]
  },
  {
   "cell_type": "code",
   "execution_count": 10,
   "metadata": {
    "collapsed": false
   },
   "outputs": [
    {
     "data": {
      "text/plain": [
       "1x2 Array{Any,2}:\n",
       " \"intercept: intercept\"  5.6451"
      ]
     },
     "execution_count": 10,
     "metadata": {},
     "output_type": "execute_result"
    }
   ],
   "source": [
    "output[\"posteriorMeanLocationParms\"]"
   ]
  },
  {
   "cell_type": "code",
   "execution_count": 12,
   "metadata": {
    "collapsed": false
   },
   "outputs": [
    {
     "data": {
      "text/plain": [
       "1-element Array{Float64,1}:\n",
       " 7.79271"
      ]
     },
     "execution_count": 12,
     "metadata": {},
     "output_type": "execute_result"
    }
   ],
   "source": [
    "a=output[\"posteriorMeanMarkerEffects\"]\n",
    "a'a"
   ]
  }
 ],
 "metadata": {
  "kernelspec": {
   "display_name": "Julia 0.4.0",
   "language": "julia",
   "name": "julia-0.4"
  },
  "language_info": {
   "file_extension": ".jl",
   "mimetype": "application/julia",
   "name": "julia",
   "version": "0.4.0"
  }
 },
 "nbformat": 4,
 "nbformat_minor": 0
}
