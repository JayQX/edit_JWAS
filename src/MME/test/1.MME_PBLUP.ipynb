{
 "cells": [
  {
   "cell_type": "markdown",
   "metadata": {},
   "source": [
    "## Module for building Henderson's Mixed Model Equations for single trait\n",
    "\n"
   ]
  },
  {
   "cell_type": "markdown",
   "metadata": {},
   "source": [
    "### Data set to test the module"
   ]
  },
  {
   "cell_type": "code",
   "execution_count": 1,
   "metadata": {
    "collapsed": true
   },
   "outputs": [],
   "source": [
    "using DataFrames"
   ]
  },
  {
   "cell_type": "code",
   "execution_count": 2,
   "metadata": {
    "collapsed": false
   },
   "outputs": [],
   "source": [
    "FILE = \"data/ped.txt\";"
   ]
  },
  {
   "cell_type": "code",
   "execution_count": 3,
   "metadata": {
    "collapsed": false
   },
   "outputs": [
    {
     "data": {
      "text/html": [
       "<table class=\"data-frame\"><tr><th></th><th>Animal</th><th>Age</th><th>y</th></tr><tr><th>1</th><td>S1</td><td>1</td><td>-0.92</td></tr><tr><th>2</th><td>S1</td><td>2</td><td>-1.35</td></tr><tr><th>3</th><td>S1</td><td>3</td><td>-0.33</td></tr><tr><th>4</th><td>D1</td><td>1</td><td>-0.3</td></tr><tr><th>5</th><td>D1</td><td>2</td><td>-1.05</td></tr><tr><th>6</th><td>D1</td><td>3</td><td>0.56</td></tr></table>"
      ],
      "text/plain": [
       "6x3 DataFrames.DataFrame\n",
       "│ Row │ Animal │ Age │ y     │\n",
       "┝━━━━━┿━━━━━━━━┿━━━━━┿━━━━━━━┥\n",
       "│ 1   │ \"S1\"   │ 1   │ -0.92 │\n",
       "│ 2   │ \"S1\"   │ 2   │ -1.35 │\n",
       "│ 3   │ \"S1\"   │ 3   │ -0.33 │\n",
       "│ 4   │ \"D1\"   │ 1   │ -0.3  │\n",
       "│ 5   │ \"D1\"   │ 2   │ -1.05 │\n",
       "│ 6   │ \"D1\"   │ 3   │ 0.56  │"
      ]
     },
     "execution_count": 3,
     "metadata": {},
     "output_type": "execute_result"
    }
   ],
   "source": [
    "df=readtable(\"data/data.txt\")\n",
    "head(df)"
   ]
  },
  {
   "cell_type": "markdown",
   "metadata": {},
   "source": [
    "### <font color=\"red\"> Run module</font>"
   ]
  },
  {
   "cell_type": "code",
   "execution_count": 4,
   "metadata": {
    "collapsed": true
   },
   "outputs": [],
   "source": [
    "using MMEModule"
   ]
  },
  {
   "cell_type": "markdown",
   "metadata": {},
   "source": [
    "### <font color=\"blue\">example 1</font>"
   ]
  },
  {
   "cell_type": "code",
   "execution_count": 5,
   "metadata": {
    "collapsed": false
   },
   "outputs": [],
   "source": [
    "ped = PedModule.mkPed(FILE);"
   ]
  },
  {
   "cell_type": "code",
   "execution_count": 6,
   "metadata": {
    "collapsed": false
   },
   "outputs": [],
   "source": [
    "varRes=1.0\n",
    "mme = MMEModule.initMME(\"y = intercept + Age + Animal\",varRes)\n",
    "MMEModule.covList(mme,\"Age\")\n",
    "G=1.0\n",
    "MMEModule.setAsRandom(mme,\"Animal\",ped,G)"
   ]
  },
  {
   "cell_type": "code",
   "execution_count": 7,
   "metadata": {
    "collapsed": false
   },
   "outputs": [
    {
     "name": "stdout",
     "output_type": "stream",
     "text": [
      "40 8.192726257394507e-5\n"
     ]
    },
    {
     "data": {
      "text/plain": [
       "7x2 Array{Any,2}:\n",
       " \"intercept: intercept\"  -0.637763   \n",
       " \"Age: Age\"               0.133742   \n",
       " \"Animal: S1\"            -0.227011   \n",
       " \"Animal: D1\"             0.225456   \n",
       " \"Animal: O1\"             0.107856   \n",
       " \"Animal: O3\"             0.471856   \n",
       " \"Animal: O2\"            -0.000777194"
      ]
     },
     "execution_count": 7,
     "metadata": {},
     "output_type": "execute_result"
    }
   ],
   "source": [
    "resG = MMEModule.getSolG(mme,df,outFreq=40)"
   ]
  },
  {
   "cell_type": "code",
   "execution_count": 8,
   "metadata": {
    "collapsed": false
   },
   "outputs": [
    {
     "name": "stdout",
     "output_type": "stream",
     "text": [
      "at sample: 50000\n",
      "at sample: 100000\n",
      "at sample: 150000\n",
      "at sample: 200000\n",
      "at sample: 250000\n",
      "at sample: 300000\n",
      "at sample: 350000\n",
      "at sample: 400000\n",
      "at sample: 450000\n",
      "at sample: 500000\n"
     ]
    },
    {
     "data": {
      "text/plain": [
       "7x2 Array{Any,2}:\n",
       " \"intercept: intercept\"  -0.632164  \n",
       " \"Age: Age\"               0.134161  \n",
       " \"Animal: S1\"            -0.231291  \n",
       " \"Animal: D1\"             0.218654  \n",
       " \"Animal: O1\"             0.101314  \n",
       " \"Animal: O3\"             0.466     \n",
       " \"Animal: O2\"            -0.00821526"
      ]
     },
     "execution_count": 8,
     "metadata": {},
     "output_type": "execute_result"
    }
   ],
   "source": [
    "res2 = MMEModule.getSolGibbs(mme,df,nIter=500000,outFreq=50000)"
   ]
  },
  {
   "cell_type": "markdown",
   "metadata": {},
   "source": [
    "### <font color=\"blue\">example 2. repeated measures</font>"
   ]
  },
  {
   "cell_type": "code",
   "execution_count": 9,
   "metadata": {
    "collapsed": false
   },
   "outputs": [],
   "source": [
    "varRes=1.0\n",
    "mme = MMEModule.initMME(\"y = intercept + Age + Animal + Animal*Age\",varRes)\n",
    "MMEModule.covList(mme,\"Age\")\n",
    "G = [1 0.1; 0.1 1.0]\n",
    "MMEModule.setAsRandom(mme,\"Animal Animal*Age\",ped,G)"
   ]
  },
  {
   "cell_type": "code",
   "execution_count": 10,
   "metadata": {
    "collapsed": false
   },
   "outputs": [
    {
     "name": "stdout",
     "output_type": "stream",
     "text": [
      "40 0.000488827050490874\n",
      "80 5.2967537039388847e-5\n",
      "120 2.6253825843251525e-6\n"
     ]
    },
    {
     "data": {
      "text/plain": [
       "12x2 Array{Any,2}:\n",
       " \"intercept: intercept\"  -0.596308  \n",
       " \"Age: Age\"               0.0793891 \n",
       " \"Animal: S1\"            -0.0814985 \n",
       " \"Animal: D1\"             0.0848132 \n",
       " \"Animal: O1\"             0.194462  \n",
       " \"Animal: O3\"             0.207936  \n",
       " \"Animal: O2\"             0.00165738\n",
       " \"Animal*Age: S1\"        -0.0982786 \n",
       " \"Animal*Age: D1\"         0.0955121 \n",
       " \"Animal*Age: O1\"        -0.0395884 \n",
       " \"Animal*Age: O3\"         0.262647  \n",
       " \"Animal*Age: O2\"        -0.00138322"
      ]
     },
     "execution_count": 10,
     "metadata": {},
     "output_type": "execute_result"
    }
   ],
   "source": [
    "res1 = MMEModule.getSolG(mme,df,outFreq=40)"
   ]
  },
  {
   "cell_type": "code",
   "execution_count": 11,
   "metadata": {
    "collapsed": false
   },
   "outputs": [
    {
     "name": "stdout",
     "output_type": "stream",
     "text": [
      "at sample: 5000\n",
      "at sample: 10000\n",
      "at sample: 15000\n",
      "at sample: 20000\n",
      "at sample: 25000\n",
      "at sample: 30000\n",
      "at sample: 35000\n",
      "at sample: 40000\n",
      "at sample: 45000\n",
      "at sample: 50000\n"
     ]
    },
    {
     "data": {
      "text/plain": [
       "12x2 Array{Any,2}:\n",
       " \"intercept: intercept\"  -0.575673  \n",
       " \"Age: Age\"               0.0793386 \n",
       " \"Animal: S1\"            -0.107591  \n",
       " \"Animal: D1\"             0.0715805 \n",
       " \"Animal: O1\"             0.177915  \n",
       " \"Animal: O3\"             0.182727  \n",
       " \"Animal: O2\"            -0.0214369 \n",
       " \"Animal*Age: S1\"        -0.0949443 \n",
       " \"Animal*Age: D1\"         0.0906617 \n",
       " \"Animal*Age: O1\"        -0.041534  \n",
       " \"Animal*Age: O3\"         0.264498  \n",
       " \"Animal*Age: O2\"        -0.00286382"
      ]
     },
     "execution_count": 11,
     "metadata": {},
     "output_type": "execute_result"
    }
   ],
   "source": [
    "res2 = MMEModule.getSolGibbs(mme,df,nIter=50000,outFreq=5000)"
   ]
  },
  {
   "cell_type": "markdown",
   "metadata": {},
   "source": [
    "### <font color=\"blue\">example 3. Maternal effects</font>"
   ]
  },
  {
   "cell_type": "code",
   "execution_count": 12,
   "metadata": {
    "collapsed": false
   },
   "outputs": [
    {
     "data": {
      "text/html": [
       "<table class=\"data-frame\"><tr><th></th><th>intercept</th><th>Animal</th><th>y</th></tr><tr><th>1</th><td>1</td><td>S1</td><td>100.0</td></tr><tr><th>2</th><td>1</td><td>D1</td><td>50.0</td></tr><tr><th>3</th><td>1</td><td>O1</td><td>150.0</td></tr><tr><th>4</th><td>1</td><td>O3</td><td>40.0</td></tr></table>"
      ],
      "text/plain": [
       "4x3 DataFrames.DataFrame\n",
       "│ Row │ intercept │ Animal │ y     │\n",
       "┝━━━━━┿━━━━━━━━━━━┿━━━━━━━━┿━━━━━━━┥\n",
       "│ 1   │ 1         │ \"S1\"   │ 100.0 │\n",
       "│ 2   │ 1         │ \"D1\"   │ 50.0  │\n",
       "│ 3   │ 1         │ \"O1\"   │ 150.0 │\n",
       "│ 4   │ 1         │ \"O3\"   │ 40.0  │"
      ]
     },
     "execution_count": 12,
     "metadata": {},
     "output_type": "execute_result"
    }
   ],
   "source": [
    "A = [1,1,1,1]\n",
    "B = [\"S1\",\"D1\",\"O1\",\"O3\"]\n",
    "y = [100.0, 50.0, 150.0, 40.0]\n",
    "df1 = DataFrame(intercept=A,Animal=B,y=y)"
   ]
  },
  {
   "cell_type": "code",
   "execution_count": 13,
   "metadata": {
    "collapsed": false
   },
   "outputs": [
    {
     "data": {
      "text/html": [
       "<table class=\"data-frame\"><tr><th></th><th>intercept</th><th>Animal</th><th>y</th><th>mat</th></tr><tr><th>1</th><td>1</td><td>O1</td><td>150.0</td><td>D1</td></tr><tr><th>2</th><td>1</td><td>O3</td><td>40.0</td><td>D1</td></tr></table>"
      ],
      "text/plain": [
       "2x4 DataFrames.DataFrame\n",
       "│ Row │ intercept │ Animal │ y     │ mat  │\n",
       "┝━━━━━┿━━━━━━━━━━━┿━━━━━━━━┿━━━━━━━┿━━━━━━┥\n",
       "│ 1   │ 1         │ \"O1\"   │ 150.0 │ \"D1\" │\n",
       "│ 2   │ 1         │ \"O3\"   │ 40.0  │ \"D1\" │"
      ]
     },
     "execution_count": 13,
     "metadata": {},
     "output_type": "execute_result"
    }
   ],
   "source": [
    "df3 = [df1[3:4,:]  DataFrame(mat = [\"D1\",\"D1\"])]"
   ]
  },
  {
   "cell_type": "code",
   "execution_count": 14,
   "metadata": {
    "collapsed": false
   },
   "outputs": [
    {
     "data": {
      "text/plain": [
       "11x2 Array{Any,2}:\n",
       " \"intercept: intercept\"   95.0        \n",
       " \"Animal: S1\"              0.0        \n",
       " \"Animal: D1\"              0.0        \n",
       " \"Animal: O1\"             18.3333     \n",
       " \"Animal: O3\"            -18.3333     \n",
       " \"Animal: O2\"              0.0        \n",
       " \"mat: S1\"                 1.75859e-16\n",
       " \"mat: D1\"                 0.0        \n",
       " \"mat: O1\"                 1.83333    \n",
       " \"mat: O3\"                -1.83333    \n",
       " \"mat: O2\"                 8.79297e-17"
      ]
     },
     "execution_count": 14,
     "metadata": {},
     "output_type": "execute_result"
    }
   ],
   "source": [
    "mme = MMEModule.initMME(\"y = intercept + Animal + mat\",varRes)\n",
    "G = [1 0.1; 0.1 1.0]\n",
    "MMEModule.setAsRandom(mme,\"Animal mat\",ped,G)\n",
    "resG = MMEModule.getSolG(mme,df3)"
   ]
  }
 ],
 "metadata": {
  "kernelspec": {
   "display_name": "Julia 0.4.5",
   "language": "julia",
   "name": "julia-0.4"
  },
  "language_info": {
   "file_extension": ".jl",
   "mimetype": "application/julia",
   "name": "julia",
   "version": "0.4.5"
  }
 },
 "nbformat": 4,
 "nbformat_minor": 0
}
