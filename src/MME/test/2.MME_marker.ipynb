{
 "cells": [
  {
   "cell_type": "markdown",
   "metadata": {},
   "source": [
    "## Module for building Henderson's Mixed Model Equations for single trait including marker  and polygenic effect\n",
    "\n"
   ]
  },
  {
   "cell_type": "markdown",
   "metadata": {},
   "source": [
    "### <font color=\"red\"> Data</font>"
   ]
  },
  {
   "cell_type": "code",
   "execution_count": 8,
   "metadata": {
    "collapsed": true
   },
   "outputs": [],
   "source": [
    "using DataFrames\n",
    "using Distributions"
   ]
  },
  {
   "cell_type": "code",
   "execution_count": 9,
   "metadata": {
    "collapsed": false
   },
   "outputs": [],
   "source": [
    "FILE = \"data/small.ped\";"
   ]
  },
  {
   "cell_type": "code",
   "execution_count": 10,
   "metadata": {
    "collapsed": false
   },
   "outputs": [],
   "source": [
    "Animal = [\"S1\",\"D1\",\"O1\",\"O3\"]\n",
    "y = [-1.77, -1.40,0.89,-2.91]\n",
    "df = DataFrame(Animal=Animal,y=y);"
   ]
  },
  {
   "cell_type": "code",
   "execution_count": 11,
   "metadata": {
    "collapsed": false
   },
   "outputs": [],
   "source": [
    "srand(123)\n",
    "d = Binomial(2,0.5)\n",
    "nObs     = 4\n",
    "nMarkers = 5\n",
    "M        = float(rand(d,(nObs,nMarkers)));"
   ]
  },
  {
   "cell_type": "code",
   "execution_count": 12,
   "metadata": {
    "collapsed": false
   },
   "outputs": [
    {
     "data": {
      "text/html": [
       "<table class=\"data-frame\"><tr><th></th><th>Animal</th><th>y</th><th>x1</th><th>x2</th><th>x3</th><th>x4</th><th>x5</th></tr><tr><th>1</th><td>S1</td><td>-1.77</td><td>1.0</td><td>0.0</td><td>1.0</td><td>1.0</td><td>1.0</td></tr><tr><th>2</th><td>D1</td><td>-1.4</td><td>2.0</td><td>0.0</td><td>2.0</td><td>2.0</td><td>1.0</td></tr><tr><th>3</th><td>O1</td><td>0.89</td><td>1.0</td><td>2.0</td><td>0.0</td><td>1.0</td><td>0.0</td></tr><tr><th>4</th><td>O3</td><td>-2.91</td><td>0.0</td><td>0.0</td><td>2.0</td><td>1.0</td><td>1.0</td></tr></table>"
      ],
      "text/plain": [
       "4×7 DataFrames.DataFrame\n",
       "│ Row │ Animal │ y     │ x1  │ x2  │ x3  │ x4  │ x5  │\n",
       "├─────┼────────┼───────┼─────┼─────┼─────┼─────┼─────┤\n",
       "│ 1   │ \"S1\"   │ -1.77 │ 1.0 │ 0.0 │ 1.0 │ 1.0 │ 1.0 │\n",
       "│ 2   │ \"D1\"   │ -1.4  │ 2.0 │ 0.0 │ 2.0 │ 2.0 │ 1.0 │\n",
       "│ 3   │ \"O1\"   │ 0.89  │ 1.0 │ 2.0 │ 0.0 │ 1.0 │ 0.0 │\n",
       "│ 4   │ \"O3\"   │ -2.91 │ 0.0 │ 0.0 │ 2.0 │ 1.0 │ 1.0 │"
      ]
     },
     "execution_count": 12,
     "metadata": {},
     "output_type": "execute_result"
    }
   ],
   "source": [
    "df=[df DataFrame(M)]"
   ]
  },
  {
   "cell_type": "markdown",
   "metadata": {},
   "source": [
    "### <font color=\"red\"> Run module</font>"
   ]
  },
  {
   "cell_type": "code",
   "execution_count": 13,
   "metadata": {
    "collapsed": false
   },
   "outputs": [],
   "source": [
    "using MMEModule"
   ]
  },
  {
   "cell_type": "code",
   "execution_count": 14,
   "metadata": {
    "collapsed": false
   },
   "outputs": [],
   "source": [
    "varRes = 1.0\n",
    "varGen = 2.5\n",
    "markerProp = 0.8\n",
    "MVarGen= varGen*markerProp\n",
    "PVarGen= varGen*(1-markerProp);"
   ]
  },
  {
   "cell_type": "code",
   "execution_count": 15,
   "metadata": {
    "collapsed": false
   },
   "outputs": [],
   "source": [
    "ped = PedModule.mkPed(FILE);"
   ]
  },
  {
   "cell_type": "code",
   "execution_count": 16,
   "metadata": {
    "collapsed": false
   },
   "outputs": [],
   "source": [
    "mme = MMEModule.initMME(\"y = intercept + Animal\",varRes);"
   ]
  },
  {
   "cell_type": "code",
   "execution_count": 17,
   "metadata": {
    "collapsed": false
   },
   "outputs": [],
   "source": [
    "G = PVarGen\n",
    "MMEModule.setAsRandom(mme,\"Animal\",ped,G)"
   ]
  },
  {
   "cell_type": "markdown",
   "metadata": {},
   "source": [
    "### <font color=\"blue\"> Gauss-Seidel</font> "
   ]
  },
  {
   "cell_type": "code",
   "execution_count": 18,
   "metadata": {
    "collapsed": false
   },
   "outputs": [
    {
     "data": {
      "text/plain": [
       "6x2 Array{Any,2}:\n",
       " \"intercept: intercept\"  -1.32835    \n",
       " \"Animal: S1\"            -0.0623349  \n",
       " \"Animal: D1\"             0.0607066  \n",
       " \"Animal: O1\"             0.443018   \n",
       " \"Animal: O3\"            -0.316982   \n",
       " \"Animal: O2\"            -0.000814176"
      ]
     },
     "execution_count": 18,
     "metadata": {},
     "output_type": "execute_result"
    }
   ],
   "source": [
    "resG = MMEModule.getSolG(mme,df,outFreq=100)"
   ]
  },
  {
   "cell_type": "markdown",
   "metadata": {},
   "source": [
    "### <font color=\"blue\"> Gibbs</font> "
   ]
  },
  {
   "cell_type": "code",
   "execution_count": 19,
   "metadata": {
    "collapsed": false
   },
   "outputs": [
    {
     "name": "stdout",
     "output_type": "stream",
     "text": [
      "at sample: 10000\n",
      "at sample: 20000\n",
      "at sample: 30000\n",
      "at sample: 40000\n",
      "at sample: 50000\n"
     ]
    },
    {
     "data": {
      "text/plain": [
       "6x2 Array{Any,2}:\n",
       " \"intercept: intercept\"  -1.33148   \n",
       " \"Animal: S1\"            -0.0567149 \n",
       " \"Animal: D1\"             0.0639893 \n",
       " \"Animal: O1\"             0.448488  \n",
       " \"Animal: O3\"            -0.313325  \n",
       " \"Animal: O2\"             0.00484819"
      ]
     },
     "execution_count": 19,
     "metadata": {},
     "output_type": "execute_result"
    }
   ],
   "source": [
    "res2 = MMEModule.getSolGibbs(mme,df,outFreq=10000)"
   ]
  },
  {
   "cell_type": "markdown",
   "metadata": {},
   "source": [
    "### <font color=\"red\"> work with markers</font>"
   ]
  },
  {
   "cell_type": "code",
   "execution_count": 20,
   "metadata": {
    "collapsed": true
   },
   "outputs": [],
   "source": [
    "MMEModule.addMarkers(mme,df[:,3:7],MVarGen);"
   ]
  },
  {
   "cell_type": "markdown",
   "metadata": {},
   "source": [
    "##### sample without vc"
   ]
  },
  {
   "cell_type": "code",
   "execution_count": 21,
   "metadata": {
    "collapsed": false
   },
   "outputs": [
    {
     "name": "stdout",
     "output_type": "stream",
     "text": [
      "at sample: 10000\n",
      "at sample: 20000\n",
      "at sample: 30000\n",
      "at sample: 40000\n",
      "at sample: 50000\n"
     ]
    },
    {
     "data": {
      "text/plain": [
       "Dict{Any,Any} with 2 entries:\n",
       "  \"posteriorMeanLocationP… => 6x2 Array{Any,2}:…\n",
       "  \"posteriorMeanMarkerEff… => [0.4014222266219835,0.617610218193303,-0.49622805…"
      ]
     },
     "execution_count": 21,
     "metadata": {},
     "output_type": "execute_result"
    }
   ],
   "source": [
    "output=MMEModule.sampleMCMC(50000,mme,df,outFreq=10000)"
   ]
  },
  {
   "cell_type": "code",
   "execution_count": 22,
   "metadata": {
    "collapsed": false
   },
   "outputs": [
    {
     "data": {
      "text/plain": [
       "6x2 Array{Any,2}:\n",
       " \"intercept: intercept\"  -1.30033   \n",
       " \"Animal: S1\"            -0.0563279 \n",
       " \"Animal: D1\"             0.0573889 \n",
       " \"Animal: O1\"             0.088265  \n",
       " \"Animal: O3\"            -0.0832777 \n",
       " \"Animal: O2\"             0.00181328"
      ]
     },
     "execution_count": 22,
     "metadata": {},
     "output_type": "execute_result"
    }
   ],
   "source": [
    "output[\"posteriorMeanLocationParms\"]"
   ]
  },
  {
   "cell_type": "code",
   "execution_count": 23,
   "metadata": {
    "collapsed": false
   },
   "outputs": [
    {
     "data": {
      "text/plain": [
       "5-element Array{Float64,1}:\n",
       "  0.401422\n",
       "  0.61761 \n",
       " -0.496228\n",
       "  0.107644\n",
       " -0.305358"
      ]
     },
     "execution_count": 23,
     "metadata": {},
     "output_type": "execute_result"
    }
   ],
   "source": [
    "output[\"posteriorMeanMarkerEffects\"]"
   ]
  },
  {
   "cell_type": "markdown",
   "metadata": {},
   "source": [
    "##### sample vc"
   ]
  },
  {
   "cell_type": "code",
   "execution_count": 24,
   "metadata": {
    "collapsed": false
   },
   "outputs": [
    {
     "name": "stdout",
     "output_type": "stream",
     "text": [
      "at sample: 100000 with meanVare: 0.7370977750701039 meanVara 0.6692961512286464 and G0Mean: [0.2825480899475662]\n",
      "at sample: 200000 with meanVare: 0.7380709536814705 meanVara 0.6682686241708016 and G0Mean: [0.28272862480163224]\n",
      "at sample: 300000 with meanVare: 0.7388636967298994 meanVara 0.6703262047708591 and G0Mean: [0.28262155944820666]\n",
      "at sample: 400000 with meanVare: 0.7385118307575053 meanVara 0.6695506464814575 and G0Mean: [0.28248318325878097]\n",
      "at sample: 500000 with meanVare: 0.7387515478289401 meanVara 0.6699670590017469 and G0Mean: [0.28279747111683917]\n"
     ]
    },
    {
     "data": {
      "text/plain": [
       "Dict{Any,Any} with 4 entries:\n",
       "  \"posteriorMeanLocationP… => 6x2 Array{Any,2}:…\n",
       "  \"posteriorMeanMarkerEff… => [0.4170068280996278,0.6217719439828568,-0.4849346…\n",
       "  \"MCMCSamples for geneti… => 500000x1 Array{Float64,2}:…\n",
       "  \"MCMCSamples for residu… => [0.241851,0.845866,0.671582,0.464386,0.0916222,0.…"
      ]
     },
     "execution_count": 24,
     "metadata": {},
     "output_type": "execute_result"
    }
   ],
   "source": [
    "output=MMEModule.sampleMCMCv(500000,mme,df,outFreq=100000)"
   ]
  },
  {
   "cell_type": "code",
   "execution_count": 25,
   "metadata": {
    "collapsed": false
   },
   "outputs": [
    {
     "data": {
      "text/plain": [
       "Base.KeyIterator for a Dict{Any,Any} with 4 entries. Keys:\n",
       "  \"posteriorMeanLocationParms\"\n",
       "  \"posteriorMeanMarkerEffects\"\n",
       "  \"MCMCSamples for genetic var-cov parameters\"\n",
       "  \"MCMCSamples for residual variance\""
      ]
     },
     "execution_count": 25,
     "metadata": {},
     "output_type": "execute_result"
    }
   ],
   "source": [
    "keys(output)"
   ]
  },
  {
   "cell_type": "code",
   "execution_count": 26,
   "metadata": {
    "collapsed": false
   },
   "outputs": [
    {
     "data": {
      "text/plain": [
       "6x2 Array{Any,2}:\n",
       " \"intercept: intercept\"  -1.29876    \n",
       " \"Animal: S1\"            -0.0274788  \n",
       " \"Animal: D1\"             0.0282235  \n",
       " \"Animal: O1\"             0.0408205  \n",
       " \"Animal: O3\"            -0.037919   \n",
       " \"Animal: O2\"            -0.000297438"
      ]
     },
     "execution_count": 26,
     "metadata": {},
     "output_type": "execute_result"
    }
   ],
   "source": [
    "output[\"posteriorMeanLocationParms\"]"
   ]
  },
  {
   "cell_type": "code",
   "execution_count": 27,
   "metadata": {
    "collapsed": false
   },
   "outputs": [
    {
     "data": {
      "text/plain": [
       "5-element Array{Float64,1}:\n",
       "  0.417007\n",
       "  0.621772\n",
       " -0.484935\n",
       "  0.120861\n",
       " -0.309817"
      ]
     },
     "execution_count": 27,
     "metadata": {},
     "output_type": "execute_result"
    }
   ],
   "source": [
    "output[\"posteriorMeanMarkerEffects\"]"
   ]
  }
 ],
 "metadata": {
  "kernelspec": {
   "display_name": "Julia 0.4.5",
   "language": "julia",
   "name": "julia-0.4"
  },
  "language_info": {
   "file_extension": ".jl",
   "mimetype": "application/julia",
   "name": "julia",
   "version": "0.4.5"
  }
 },
 "nbformat": 4,
 "nbformat_minor": 0
}
