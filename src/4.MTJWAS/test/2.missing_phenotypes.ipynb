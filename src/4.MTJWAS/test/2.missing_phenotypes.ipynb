{
 "cells": [
  {
   "cell_type": "code",
   "execution_count": 1,
   "metadata": {
    "collapsed": false
   },
   "outputs": [],
   "source": [
    "include(\"../src/MTJWAS.jl\")\n",
    "using MTJWAS"
   ]
  },
  {
   "cell_type": "markdown",
   "metadata": {},
   "source": [
    "### mulitiple trait with missing phenotypes"
   ]
  },
  {
   "cell_type": "markdown",
   "metadata": {},
   "source": [
    "### <font, color=\"red\">missing values are denoted as \"NA\"</font>"
   ]
  },
  {
   "cell_type": "code",
   "execution_count": 2,
   "metadata": {
    "collapsed": false
   },
   "outputs": [
    {
     "name": "stdout",
     "output_type": "stream",
     "text": [
      "y1   y2    trt\n",
      "1.0  2.0    1\n",
      "1.1  NA     1\n",
      "0.9  1.9    2\n",
      "1.2   1.7   2\n"
     ]
    }
   ],
   "source": [
    ";cat data/MTData.txt"
   ]
  },
  {
   "cell_type": "code",
   "execution_count": 3,
   "metadata": {
    "collapsed": true
   },
   "outputs": [],
   "source": [
    "using DataFrames"
   ]
  },
  {
   "cell_type": "code",
   "execution_count": 4,
   "metadata": {
    "collapsed": false
   },
   "outputs": [
    {
     "data": {
      "text/html": [
       "<table class=\"data-frame\"><tr><th></th><th>y1</th><th>y2</th><th>trt</th></tr><tr><th>1</th><td>1.0</td><td>2.0</td><td>1</td></tr><tr><th>2</th><td>1.1</td><td>NA</td><td>1</td></tr><tr><th>3</th><td>0.9</td><td>1.9</td><td>2</td></tr><tr><th>4</th><td>1.2</td><td>1.7</td><td>2</td></tr></table>"
      ],
      "text/plain": [
       "4×3 DataFrames.DataFrame\n",
       "│ Row │ y1  │ y2  │ trt │\n",
       "├─────┼─────┼─────┼─────┤\n",
       "│ 1   │ 1.0 │ 2.0 │ 1   │\n",
       "│ 2   │ 1.1 │ NA  │ 1   │\n",
       "│ 3   │ 0.9 │ 1.9 │ 2   │\n",
       "│ 4   │ 1.2 │ 1.7 │ 2   │"
      ]
     },
     "execution_count": 4,
     "metadata": {},
     "output_type": "execute_result"
    }
   ],
   "source": [
    "df = readtable(\"data/MTData.txt\", separator = ' ')"
   ]
  },
  {
   "cell_type": "code",
   "execution_count": 5,
   "metadata": {
    "collapsed": true
   },
   "outputs": [],
   "source": [
    "R0=[1.0 0.5\n",
    "    0.5 2.0];"
   ]
  },
  {
   "cell_type": "code",
   "execution_count": 6,
   "metadata": {
    "collapsed": false
   },
   "outputs": [],
   "source": [
    "models = \"y1 = intercept + trt;\n",
    "          y2 = intercept + trt\"\n",
    "mme = MTJWAS.build_model(models,R0);"
   ]
  },
  {
   "cell_type": "code",
   "execution_count": 7,
   "metadata": {
    "collapsed": false
   },
   "outputs": [
    {
     "name": "stdout",
     "output_type": "stream",
     "text": [
      "The delimiters in file data/genotype.txt is ,  .\n"
     ]
    }
   ],
   "source": [
    "genofile=\"data/genotype.txt\"\n",
    "G=R0\n",
    "MTJWAS.add_markers(mme,genofile,G,separator=',',header=true);"
   ]
  },
  {
   "cell_type": "code",
   "execution_count": 8,
   "metadata": {
    "collapsed": false
   },
   "outputs": [
    {
     "name": "stdout",
     "output_type": "stream",
     "text": [
      "at sample: 100\n",
      "Residual covariance matrix: \n",
      "[0.7134366475735084 0.4392090699651732\n",
      " 0.4392090699651732 1.523834486602323]\n",
      "Marker effects covariance matrix: \n",
      "[0.3684520968577219 0.13141439653215645\n",
      " 0.13141439653215645 0.8164051726844833]\n",
      "\n",
      "Dict([0.0,1.0]=>0.35951886401711153,[1.0,0.0]=>0.12344808178391162,[1.0,1.0]=>0.014237954949772414,[0.0,0.0]=>0.5027950992492045)\n",
      "at sample: 200\n",
      "Residual covariance matrix: \n",
      "[0.6595850377364012 0.4132421173531073\n",
      " 0.4132421173531073 1.6401201574769477]\n",
      "Marker effects covariance matrix: \n",
      "[0.3292928451449197 0.13029768149429385\n",
      " 0.13029768149429385 0.6606220425413488]\n",
      "\n",
      "Dict([0.0,1.0]=>0.4762433896056364,[1.0,0.0]=>0.08959494708957116,[1.0,1.0]=>0.24152922924884218,[0.0,0.0]=>0.19263243405595026)\n",
      "at sample: 300\n",
      "Residual covariance matrix: \n",
      "[0.6942605606612953 0.37946254310765914\n",
      " 0.37946254310765914 1.5443770240178298]\n",
      "Marker effects covariance matrix: \n",
      "[0.33932112303400974 0.1430113077312682\n",
      " 0.1430113077312682 0.6598666892403189]\n",
      "\n",
      "Dict([0.0,1.0]=>0.13028612307409582,[1.0,0.0]=>0.1462928208957553,[1.0,1.0]=>0.6060610352629975,[0.0,0.0]=>0.11736002076715141)\n",
      "at sample: 400\n",
      "Residual covariance matrix: \n",
      "[0.6626012508691609 0.34130001837487833\n",
      " 0.34130001837487833 1.5096969153080566]\n",
      "Marker effects covariance matrix: \n",
      "[0.3335293145236433 0.14139267506524633\n",
      " 0.14139267506524633 0.659065583722045]\n",
      "\n",
      "Dict([0.0,1.0]=>0.048334618246890775,[1.0,0.0]=>0.4094333294644866,[1.0,1.0]=>0.3207072153510074,[0.0,0.0]=>0.22152483693761513)\n",
      "at sample: 500\n",
      "Residual covariance matrix: \n",
      "[0.6801220562738187 0.3464306391676048\n",
      " 0.3464306391676048 1.4684143472764744]\n",
      "Marker effects covariance matrix: \n",
      "[0.33038186228388544 0.1454358807532531\n",
      " 0.1454358807532531 0.684064138581623]\n",
      "\n",
      "Dict([0.0,1.0]=>0.1165558838488119,[1.0,0.0]=>0.6041701583664794,[1.0,1.0]=>0.14597740045075738,[0.0,0.0]=>0.13329655733395135)\n"
     ]
    }
   ],
   "source": [
    "Pi=Dict([1.0; 1.0]=>0.25,[1.0; 0.0]=>0.25,[0.0; 1.0]=>0.25,[0.0; 0.0]=>0.25)\n",
    "out = MTJWAS.runMCMC(mme,df,Pi=Pi,missing_phenotypes=true,chain_length=500,printout_frequency=100);"
   ]
  }
 ],
 "metadata": {
  "kernelspec": {
   "display_name": "Julia 0.4.5",
   "language": "julia",
   "name": "julia-0.4"
  },
  "language_info": {
   "file_extension": ".jl",
   "mimetype": "application/julia",
   "name": "julia",
   "version": "0.4.5"
  }
 },
 "nbformat": 4,
 "nbformat_minor": 0
}
