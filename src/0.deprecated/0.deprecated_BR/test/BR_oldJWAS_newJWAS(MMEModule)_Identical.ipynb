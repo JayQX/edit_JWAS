{
 "cells": [
  {
   "cell_type": "code",
   "execution_count": 1,
   "metadata": {
    "collapsed": false
   },
   "outputs": [],
   "source": [
    "srand(314)\n",
    "using(Distributions)\n",
    "d = Binomial(2,0.5)\n",
    "\n",
    "nObs     = 10\n",
    "nMarkers = 100\n",
    "X        = float(rand(d,(nObs,nMarkers)))\n",
    "α        = randn(nMarkers)\n",
    "a        = X*α\n",
    "stdGen   = std(a)\n",
    "a        = a/stdGen\n",
    "y        = a + randn(nObs);"
   ]
  },
  {
   "cell_type": "code",
   "execution_count": 2,
   "metadata": {
    "collapsed": false
   },
   "outputs": [
    {
     "data": {
      "text/plain": [
       "BR"
      ]
     },
     "execution_count": 2,
     "metadata": {},
     "output_type": "execute_result"
    }
   ],
   "source": [
    "include(\"../0.deprecated_BR/BR.jl\")"
   ]
  },
  {
   "cell_type": "code",
   "execution_count": 3,
   "metadata": {
    "collapsed": true
   },
   "outputs": [],
   "source": [
    "using QTL"
   ]
  },
  {
   "cell_type": "code",
   "execution_count": 4,
   "metadata": {
    "collapsed": false
   },
   "outputs": [
    {
     "name": "stdout",
     "output_type": "stream",
     "text": [
      "MCMC Information:\n",
      "seed                        314\n",
      "chainLength               50000\n",
      "method                   BayesC\n",
      "outFreq                    5000\n",
      "probFixed                 0.950\n",
      "varGenotypic              1.000\n",
      "varResidual               1.000\n",
      "estimateVariance           true\n",
      "estimatePi                 true\n",
      "estimateScale             false\n",
      "dfEffectVar               4.000\n",
      "nuRes                     4.000\n",
      "nuGen                     4.000\n",
      "centering                  true\n"
     ]
    }
   ],
   "source": [
    "input=InputParameters()\n",
    "input.method       = \"BayesC\"\n",
    "input.varGenotypic = 1.0\n",
    "input.varResidual  = 1.0\n",
    "input.probFixed    = 0.95\n",
    "input.chainLength  = 50000\n",
    "input.centering    = true\n",
    "input.outFreq      = 5000\n",
    "input.estimatePi   = true\n",
    "\n",
    "MCMCinfo(input)"
   ]
  },
  {
   "cell_type": "code",
   "execution_count": 5,
   "metadata": {
    "collapsed": false
   },
   "outputs": [
    {
     "name": "stdout",
     "output_type": "stream",
     "text": [
      "running BayesC with a MCMC of length 50000\n",
      "Iteration 5000 with 27 loci included in the model, mean residual/marker effect  0.595/ 0.223 with mean π=  0.840.\n",
      "Iteration 10000 with 8 loci included in the model, mean residual/marker effect  0.599/ 0.218 with mean π=  0.839.\n",
      "Iteration 15000 with 9 loci included in the model, mean residual/marker effect  0.599/ 0.217 with mean π=  0.836.\n",
      "Iteration 20000 with 42 loci included in the model, mean residual/marker effect  0.600/ 0.217 with mean π=  0.840.\n",
      "Iteration 25000 with 0 loci included in the model, mean residual/marker effect  0.596/ 0.221 with mean π=  0.842.\n",
      "Iteration 30000 with 1 loci included in the model, mean residual/marker effect  0.594/ 0.221 with mean π=  0.841.\n",
      "Iteration 35000 with 12 loci included in the model, mean residual/marker effect  0.596/ 0.223 with mean π=  0.845.\n",
      "Iteration 40000 with 1 loci included in the model, mean residual/marker effect  0.596/ 0.222 with mean π=  0.845.\n",
      "Iteration 45000 with 27 loci included in the model, mean residual/marker effect  0.594/ 0.223 with mean π=  0.847.\n",
      "Iteration 50000 with 9 loci included in the model, mean residual/marker effect  0.593/ 0.222 with mean π=  0.844.\n"
     ]
    },
    {
     "data": {
      "text/plain": [
       "100-element Array{Float64,1}:\n",
       "  0.000281512\n",
       " -0.0204212  \n",
       " -0.0178922  \n",
       " -0.0504015  \n",
       "  0.0199567  \n",
       " -0.0270632  \n",
       "  0.00833018 \n",
       "  0.00846933 \n",
       "  0.00570045 \n",
       "  0.0185589  \n",
       " -0.0163994  \n",
       " -0.0310323  \n",
       "  0.00593951 \n",
       "  ⋮          \n",
       "  0.0143341  \n",
       "  0.0274117  \n",
       "  0.0152736  \n",
       " -0.015015   \n",
       "  0.0121579  \n",
       "  0.0145877  \n",
       "  0.0112964  \n",
       " -0.00902406 \n",
       "  0.00162967 \n",
       "  0.00613139 \n",
       " -0.00774564 \n",
       "  0.0116662  "
      ]
     },
     "execution_count": 5,
     "metadata": {},
     "output_type": "execute_result"
    }
   ],
   "source": [
    "beta2=BR.runBR(input,genotype=X,phenotype=y)"
   ]
  },
  {
   "cell_type": "code",
   "execution_count": 6,
   "metadata": {
    "collapsed": false
   },
   "outputs": [],
   "source": [
    "srand(314)\n",
    "using(Distributions)\n",
    "d = Binomial(2,0.5)\n",
    "\n",
    "nObs     = 10\n",
    "nMarkers = 100\n",
    "X        = float(rand(d,(nObs,nMarkers)))\n",
    "α        = randn(nMarkers)\n",
    "a        = X*α\n",
    "stdGen   = std(a)\n",
    "a        = a/stdGen\n",
    "y        = a + randn(nObs);"
   ]
  },
  {
   "cell_type": "code",
   "execution_count": 7,
   "metadata": {
    "collapsed": false
   },
   "outputs": [
    {
     "name": "stdout",
     "output_type": "stream",
     "text": [
      "This is iteration 5000, number of loci 8, vara 1.1334569514909414, vare 0.13972895384576264\n"
     ]
    },
    {
     "name": "stderr",
     "output_type": "stream",
     "text": [
      "WARNING: imported binding for run overwritten in module oldJWAS\n"
     ]
    },
    {
     "name": "stdout",
     "output_type": "stream",
     "text": [
      "This is iteration 10000, number of loci 7, vara 0.8671078760995132, vare 0.1594504285534714\n",
      "This is iteration 15000, number of loci 29, vara 0.6803892381588219, vare 0.2642661248658907\n",
      "This is iteration 20000, number of loci 2, vara 0.14332177567986606, vare 0.4196453538422861\n",
      "This is iteration 25000, number of loci 20, vara 0.860933035908188, vare 0.27306921591839145\n",
      "This is iteration 30000, number of loci 0, vara 0.0, vare 1.6503014560881413\n",
      "This is iteration 35000, number of loci 1, vara 0.014639877551054697, vare 0.885866535290019\n",
      "This is iteration 40000, number of loci 23, vara 0.5378351107174109, vare 0.32855495722363925\n",
      "This is iteration 45000, number of loci 20, vara 0.4568528726042872, vare 0.2414369534805469\n",
      "This is iteration 50000, number of loci 12, vara 0.6276096551455, vare 1.2435607348104465\n"
     ]
    },
    {
     "data": {
      "text/plain": [
       "Dict{Any,Any} with 8 entries:\n",
       "  \"Proportion of variance… => 50000x1 Array{Float64,2}:…\n",
       "  \"posterior sample of ge… => [0.453909,0.926868,0.795386,0.288816,0.0682186,0.…\n",
       "  \"posterior mean of fixe… => [1.6275769933768554]\n",
       "  \"posterior mean of mark… => [0.000171776,-0.0224289,-0.0170548,-0.0527296,0.0…\n",
       "  \"posterior sample of pi\" => [0.97659,0.843546,0.886302,0.947962,0.941708,0.85…\n",
       "  \"posterior sample of re… => [0.494222,0.375909,0.506723,0.767744,0.555247,0.8…\n",
       "  \"posterior sample of sc… => [0.21097,0.21097,0.21097,0.21097,0.21097,0.21097,…\n",
       "  \"model frequency\"        => [0.14994,0.16468,0.1671,0.20104,0.16138,0.17086,0…"
      ]
     },
     "execution_count": 7,
     "metadata": {},
     "output_type": "execute_result"
    }
   ],
   "source": [
    "include(\"../0.deprecated_oldJWAS/oldJWAS.jl\")\n",
    "using oldJWAS\n",
    "\n",
    "myOption=Dict()\n",
    "myOption[\"run\"]           = \"BayesC\"\n",
    "myOption[\"seed\"]          = 123\n",
    "myOption[\"chainLength\"]   = 50000\n",
    "myOption[\"probFixed\"]     = 0.95\n",
    "myOption[\"estimatePi\"]    = \"yes\"\n",
    "myOption[\"estimateScale\"] = \"no\"\n",
    "myOption[\"varGenotypic\"]  = 1\n",
    "myOption[\"varResidual\"]   = 1\n",
    "\n",
    "output = runJWAS(myOption,X,y)"
   ]
  },
  {
   "cell_type": "code",
   "execution_count": 8,
   "metadata": {
    "collapsed": false
   },
   "outputs": [
    {
     "data": {
      "text/plain": [
       "100-element Array{Float64,1}:\n",
       "  0.000171776\n",
       " -0.0224289  \n",
       " -0.0170548  \n",
       " -0.0527296  \n",
       "  0.0211365  \n",
       " -0.0278139  \n",
       "  0.00817019 \n",
       "  0.00985067 \n",
       "  0.00618653 \n",
       "  0.020807   \n",
       " -0.0207543  \n",
       " -0.0336786  \n",
       "  0.00608711 \n",
       "  ⋮          \n",
       "  0.0148481  \n",
       "  0.0279333  \n",
       "  0.0162836  \n",
       " -0.0156757  \n",
       "  0.0145379  \n",
       "  0.0144553  \n",
       "  0.013036   \n",
       " -0.00927405 \n",
       "  0.00410696 \n",
       "  0.00379601 \n",
       " -0.00802192 \n",
       "  0.0144613  "
      ]
     },
     "execution_count": 8,
     "metadata": {},
     "output_type": "execute_result"
    }
   ],
   "source": [
    "beta1=output[\"posterior mean of marker effects\"];\n",
    "beta1"
   ]
  },
  {
   "cell_type": "code",
   "execution_count": 9,
   "metadata": {
    "collapsed": false
   },
   "outputs": [
    {
     "data": {
      "text/plain": [
       "100x2 Array{Float64,2}:\n",
       "  0.000171776   0.000281512\n",
       " -0.0224289    -0.0204212  \n",
       " -0.0170548    -0.0178922  \n",
       " -0.0527296    -0.0504015  \n",
       "  0.0211365     0.0199567  \n",
       " -0.0278139    -0.0270632  \n",
       "  0.00817019    0.00833018 \n",
       "  0.00985067    0.00846933 \n",
       "  0.00618653    0.00570045 \n",
       "  0.020807      0.0185589  \n",
       " -0.0207543    -0.0163994  \n",
       " -0.0336786    -0.0310323  \n",
       "  0.00608711    0.00593951 \n",
       "  ⋮                        \n",
       "  0.0148481     0.0143341  \n",
       "  0.0279333     0.0274117  \n",
       "  0.0162836     0.0152736  \n",
       " -0.0156757    -0.015015   \n",
       "  0.0145379     0.0121579  \n",
       "  0.0144553     0.0145877  \n",
       "  0.013036      0.0112964  \n",
       " -0.00927405   -0.00902406 \n",
       "  0.00410696    0.00162967 \n",
       "  0.00379601    0.00613139 \n",
       " -0.00802192   -0.00774564 \n",
       "  0.0144613     0.0116662  "
      ]
     },
     "execution_count": 9,
     "metadata": {},
     "output_type": "execute_result"
    }
   ],
   "source": [
    "[beta1 beta2]"
   ]
  },
  {
   "cell_type": "code",
   "execution_count": 10,
   "metadata": {
    "collapsed": false
   },
   "outputs": [
    {
     "data": {
      "text/plain": [
       "0.9999913011034178"
      ]
     },
     "execution_count": 10,
     "metadata": {},
     "output_type": "execute_result"
    }
   ],
   "source": [
    "cor(X*beta1,X*beta2)"
   ]
  },
  {
   "cell_type": "code",
   "execution_count": 11,
   "metadata": {
    "collapsed": true
   },
   "outputs": [],
   "source": [
    "using DataFrames"
   ]
  },
  {
   "cell_type": "code",
   "execution_count": 12,
   "metadata": {
    "collapsed": true
   },
   "outputs": [],
   "source": [
    "#writedlm(\"geno.txt\",X)"
   ]
  },
  {
   "cell_type": "code",
   "execution_count": 13,
   "metadata": {
    "collapsed": false
   },
   "outputs": [
    {
     "data": {
      "text/html": [
       "<table class=\"data-frame\"><tr><th></th><th>y</th></tr><tr><th>1</th><td>1.8031502046877939</td></tr><tr><th>2</th><td>3.376068808270318</td></tr><tr><th>3</th><td>0.05449720591496543</td></tr><tr><th>4</th><td>1.9547479445616438</td></tr><tr><th>5</th><td>0.510558668932955</td></tr><tr><th>6</th><td>1.552954739410723</td></tr><tr><th>7</th><td>1.618770528203041</td></tr><tr><th>8</th><td>2.3041115374993426</td></tr><tr><th>9</th><td>1.1268729585780282</td></tr><tr><th>10</th><td>1.9772296992742773</td></tr></table>"
      ],
      "text/plain": [
       "10×1 DataFrames.DataFrame\n",
       "│ Row │ y         │\n",
       "├─────┼───────────┤\n",
       "│ 1   │ 1.80315   │\n",
       "│ 2   │ 3.37607   │\n",
       "│ 3   │ 0.0544972 │\n",
       "│ 4   │ 1.95475   │\n",
       "│ 5   │ 0.510559  │\n",
       "│ 6   │ 1.55295   │\n",
       "│ 7   │ 1.61877   │\n",
       "│ 8   │ 2.30411   │\n",
       "│ 9   │ 1.12687   │\n",
       "│ 10  │ 1.97723   │"
      ]
     },
     "execution_count": 13,
     "metadata": {},
     "output_type": "execute_result"
    }
   ],
   "source": [
    "test=DataFrame(y=y)"
   ]
  },
  {
   "cell_type": "code",
   "execution_count": 14,
   "metadata": {
    "collapsed": false
   },
   "outputs": [
    {
     "data": {
      "text/plain": [
       "MMEModule"
      ]
     },
     "execution_count": 14,
     "metadata": {},
     "output_type": "execute_result"
    }
   ],
   "source": [
    "include(\"../../../MMEModule.jl/src/MMEModule.jl\")"
   ]
  },
  {
   "cell_type": "code",
   "execution_count": 15,
   "metadata": {
    "collapsed": true
   },
   "outputs": [],
   "source": [
    "using MMEModule"
   ]
  },
  {
   "cell_type": "code",
   "execution_count": 16,
   "metadata": {
    "collapsed": false
   },
   "outputs": [],
   "source": [
    "varRes=1.0\n",
    "mme = MMEModule.build_model(\"y = intercept\",varRes);"
   ]
  },
  {
   "cell_type": "code",
   "execution_count": 17,
   "metadata": {
    "collapsed": false
   },
   "outputs": [
    {
     "name": "stdout",
     "output_type": "stream",
     "text": [
      "The delimiters in file geno.txt is \t  .\n"
     ]
    }
   ],
   "source": [
    "MMEModule.addMarkers(mme,\"geno.txt\",1.0,header=false,separator='\\t');"
   ]
  },
  {
   "cell_type": "code",
   "execution_count": 18,
   "metadata": {
    "collapsed": false
   },
   "outputs": [
    {
     "name": "stdout",
     "output_type": "stream",
     "text": [
      "at sample: 5000 with meanVare: 0.5780393961589684\n",
      "at sample: 10000 with meanVare: 0.5836559699036918\n",
      "at sample: 15000 with meanVare: 0.5845246683908016\n",
      "at sample: 20000 with meanVare: 0.5872376800261305\n",
      "at sample: 25000 with meanVare: 0.5861955212148773\n",
      "at sample: 30000 with meanVare: 0.5890290536231467\n",
      "at sample: 35000 with meanVare: 0.5883784057708568\n",
      "at sample: 40000 with meanVare: 0.5890896188674953\n",
      "at sample: 45000 with meanVare: 0.5885332488511633\n",
      "at sample: 50000 with meanVare: 0.5872151165210724\n",
      "at sample: 55000 with meanVare: 0.5864796006132\n",
      "at sample: 60000 with meanVare: 0.5877527153281169\n",
      "at sample: 65000 with meanVare: 0.5885307347575364\n",
      "at sample: 70000 with meanVare: 0.5885050055684955\n",
      "at sample: 75000 with meanVare: 0.5888472955190147\n",
      "at sample: 80000 with meanVare: 0.5879852432499618\n",
      "at sample: 85000 with meanVare: 0.587851340793821\n",
      "at sample: 90000 with meanVare: 0.5881579539539179\n",
      "at sample: 95000 with meanVare: 0.5889035567045622\n",
      "at sample: 100000 with meanVare: 0.589698383903424\n"
     ]
    },
    {
     "data": {
      "text/plain": [
       "Dict{Any,Any} with 4 entries:\n",
       "  \"Posterior Mean of Loca… => 1x2 Array{Any,2}:…\n",
       "  \"MCMC samples for resid… => [0.566783,0.348597,0.362075,0.330791,0.388863,0.1…\n",
       "  \"Posterior Mean of Mark… => [2.63001e-6,-0.0231469,-0.0178541,-0.0506663,0.01…\n",
       "  \"MCMC samples for: π\"    => [0.902196,0.92549,0.885801,0.93874,0.924486,0.942…"
      ]
     },
     "execution_count": 18,
     "metadata": {},
     "output_type": "execute_result"
    }
   ],
   "source": [
    "output=MMEModule.runMCMC(mme,test,chain_length=100000,\n",
    "                         printout_frequency=5000,methods=\"BayesC\",Pi=0.95,\n",
    "estimatePi=true)"
   ]
  },
  {
   "cell_type": "code",
   "execution_count": 19,
   "metadata": {
    "collapsed": false
   },
   "outputs": [
    {
     "data": {
      "text/plain": [
       "Base.KeyIterator for a Dict{Any,Any} with 4 entries. Keys:\n",
       "  \"Posterior Mean of Location Parameters\"\n",
       "  \"MCMC samples for residual variance\"\n",
       "  \"Posterior Mean of Marker Effects\"\n",
       "  \"MCMC samples for: π\""
      ]
     },
     "execution_count": 19,
     "metadata": {},
     "output_type": "execute_result"
    }
   ],
   "source": [
    "keys(output)"
   ]
  },
  {
   "cell_type": "code",
   "execution_count": 20,
   "metadata": {
    "collapsed": false
   },
   "outputs": [
    {
     "data": {
      "text/plain": [
       "1x2 Array{Any,2}:\n",
       " \"intercept: intercept\"  1.62761"
      ]
     },
     "execution_count": 20,
     "metadata": {},
     "output_type": "execute_result"
    }
   ],
   "source": [
    "beta3=output[\"Posterior Mean of Location Parameters\"]"
   ]
  },
  {
   "cell_type": "code",
   "execution_count": 21,
   "metadata": {
    "collapsed": false
   },
   "outputs": [
    {
     "data": {
      "text/plain": [
       "100-element Array{Float64,1}:\n",
       "  2.63001e-6\n",
       " -0.0231469 \n",
       " -0.0178541 \n",
       " -0.0506663 \n",
       "  0.0196927 \n",
       " -0.0272377 \n",
       "  0.00800267\n",
       "  0.00818424\n",
       "  0.00591928\n",
       "  0.0204951 \n",
       " -0.0181813 \n",
       " -0.0335485 \n",
       "  0.00627734\n",
       "  ⋮         \n",
       "  0.0149391 \n",
       "  0.0276611 \n",
       "  0.0162816 \n",
       " -0.0157178 \n",
       "  0.0134405 \n",
       "  0.0147612 \n",
       "  0.0129465 \n",
       " -0.00772476\n",
       "  0.00282223\n",
       "  0.00439893\n",
       " -0.00824716\n",
       "  0.0133199 "
      ]
     },
     "execution_count": 21,
     "metadata": {},
     "output_type": "execute_result"
    }
   ],
   "source": [
    "beta3=output[\"Posterior Mean of Marker Effects\"]"
   ]
  },
  {
   "cell_type": "code",
   "execution_count": 22,
   "metadata": {
    "collapsed": false
   },
   "outputs": [
    {
     "data": {
      "text/plain": [
       "100x3 Array{Float64,2}:\n",
       "  0.000171776   0.000281512   2.63001e-6\n",
       " -0.0224289    -0.0204212    -0.0231469 \n",
       " -0.0170548    -0.0178922    -0.0178541 \n",
       " -0.0527296    -0.0504015    -0.0506663 \n",
       "  0.0211365     0.0199567     0.0196927 \n",
       " -0.0278139    -0.0270632    -0.0272377 \n",
       "  0.00817019    0.00833018    0.00800267\n",
       "  0.00985067    0.00846933    0.00818424\n",
       "  0.00618653    0.00570045    0.00591928\n",
       "  0.020807      0.0185589     0.0204951 \n",
       " -0.0207543    -0.0163994    -0.0181813 \n",
       " -0.0336786    -0.0310323    -0.0335485 \n",
       "  0.00608711    0.00593951    0.00627734\n",
       "  ⋮                                     \n",
       "  0.0148481     0.0143341     0.0149391 \n",
       "  0.0279333     0.0274117     0.0276611 \n",
       "  0.0162836     0.0152736     0.0162816 \n",
       " -0.0156757    -0.015015     -0.0157178 \n",
       "  0.0145379     0.0121579     0.0134405 \n",
       "  0.0144553     0.0145877     0.0147612 \n",
       "  0.013036      0.0112964     0.0129465 \n",
       " -0.00927405   -0.00902406   -0.00772476\n",
       "  0.00410696    0.00162967    0.00282223\n",
       "  0.00379601    0.00613139    0.00439893\n",
       " -0.00802192   -0.00774564   -0.00824716\n",
       "  0.0144613     0.0116662     0.0133199 "
      ]
     },
     "execution_count": 22,
     "metadata": {},
     "output_type": "execute_result"
    }
   ],
   "source": [
    "[beta1 beta2 beta3]"
   ]
  },
  {
   "cell_type": "code",
   "execution_count": 26,
   "metadata": {
    "collapsed": false
   },
   "outputs": [
    {
     "data": {
      "text/plain": [
       "0.9999913011034178"
      ]
     },
     "execution_count": 26,
     "metadata": {},
     "output_type": "execute_result"
    }
   ],
   "source": [
    "cor(X*beta2,X*beta1)"
   ]
  },
  {
   "cell_type": "code",
   "execution_count": 27,
   "metadata": {
    "collapsed": false
   },
   "outputs": [
    {
     "data": {
      "text/plain": [
       "0.9999922682855739"
      ]
     },
     "execution_count": 27,
     "metadata": {},
     "output_type": "execute_result"
    }
   ],
   "source": [
    "cor(X*beta2,X*beta3)"
   ]
  },
  {
   "cell_type": "markdown",
   "metadata": {},
   "source": [
    "# compare oldJWAS and JWAS(MMEModule) BayesB"
   ]
  },
  {
   "cell_type": "code",
   "execution_count": 28,
   "metadata": {
    "collapsed": false
   },
   "outputs": [
    {
     "name": "stdout",
     "output_type": "stream",
     "text": [
      "This is iteration 5000, number of loci 3and vare 0.2903985218537527\n",
      "This is iteration 10000, number of loci 6and vare 0.7742689898990693\n",
      "This is iteration 15000, number of loci 5and vare 0.9599325469252361\n",
      "This is iteration 20000, number of loci 4and vare 0.4232268341835519\n",
      "This is iteration 25000, number of loci 5and vare 0.2588546300753118\n",
      "This is iteration 30000, number of loci 7and vare 0.7562739905523324\n",
      "This is iteration 35000, number of loci 3and vare 1.426257844833594\n",
      "This is iteration 40000, number of loci 5and vare 0.3316108868243706\n",
      "This is iteration 45000, number of loci 3and vare 0.9173205606441555\n",
      "This is iteration 50000, number of loci 7and vare 0.46927460533298676\n"
     ]
    },
    {
     "data": {
      "text/plain": [
       "Dict{Any,Any} with 8 entries:\n",
       "  \"Proportion of variance… => 10x1 Array{Float64,2}:…\n",
       "  \"posterior sample of ge… => [0.0,0.0,0.0,0.0,0.0,0.0,0.0,0.0,0.0,0.0]\n",
       "  \"posterior mean of fixe… => [1.6274526471727675]\n",
       "  \"posterior mean of mark… => 100x1 Array{Float64,2}:…\n",
       "  \"posterior sample of pi\" => [0.95,0.95,0.95,0.95,0.95,0.95,0.95,0.95,0.95,0.9…\n",
       "  \"posterior sample of re… => [0.912059,0.775106,1.17091,2.72984,1.79787,1.3286…\n",
       "  \"posterior sample of sc… => [0.21097,0.21097,0.21097,0.21097,0.21097,0.21097,…\n",
       "  \"model frequency\"        => [0.03454,0.05202,0.04996,0.09394,0.04592,0.05684,…"
      ]
     },
     "execution_count": 28,
     "metadata": {},
     "output_type": "execute_result"
    }
   ],
   "source": [
    "using oldJWAS\n",
    "\n",
    "myOption=Dict()\n",
    "myOption[\"run\"]           = \"BayesB\"\n",
    "myOption[\"seed\"]          = 123\n",
    "myOption[\"chainLength\"]   = 50000\n",
    "myOption[\"probFixed\"]     = 0.95\n",
    "myOption[\"estimatePi\"]    = \"no\"\n",
    "myOption[\"estimateScale\"] = \"no\"\n",
    "myOption[\"varGenotypic\"]  = 1\n",
    "myOption[\"varResidual\"]   = 1\n",
    "\n",
    "output = runJWAS(myOption,X,y)"
   ]
  },
  {
   "cell_type": "code",
   "execution_count": 29,
   "metadata": {
    "collapsed": false
   },
   "outputs": [
    {
     "name": "stdout",
     "output_type": "stream",
     "text": [
      "at sample: 5000 with meanVare: 0.4850655956242786\n",
      "at sample: 10000 with meanVare: 0.4857213455852994\n",
      "at sample: 15000 with meanVare: 0.4844783222476542\n",
      "at sample: 20000 with meanVare: 0.4866607089837925\n",
      "at sample: 25000 with meanVare: 0.4851175084213007\n",
      "at sample: 30000 with meanVare: 0.48643197635976904\n",
      "at sample: 35000 with meanVare: 0.48801046708100176\n",
      "at sample: 40000 with meanVare: 0.48804877581836204\n",
      "at sample: 45000 with meanVare: 0.48916323177240534\n",
      "at sample: 50000 with meanVare: 0.4895638076660683\n",
      "at sample: 55000 with meanVare: 0.4885267165067474\n",
      "at sample: 60000 with meanVare: 0.4886563804981134\n",
      "at sample: 65000 with meanVare: 0.48706036687552823\n",
      "at sample: 70000 with meanVare: 0.48749920171226885\n",
      "at sample: 75000 with meanVare: 0.48813434839479536\n",
      "at sample: 80000 with meanVare: 0.4875085203173253\n",
      "at sample: 85000 with meanVare: 0.48747722202855476\n",
      "at sample: 90000 with meanVare: 0.4873177672641523\n",
      "at sample: 95000 with meanVare: 0.48688043240964146\n",
      "at sample: 100000 with meanVare: 0.48657577582269623\n"
     ]
    },
    {
     "data": {
      "text/plain": [
       "Dict{Any,Any} with 3 entries:\n",
       "  \"Posterior Mean of Loca… => 1x2 Array{Any,2}:…\n",
       "  \"MCMC samples for resid… => [0.704782,0.479053,0.234446,0.269246,0.166422,0.4…\n",
       "  \"Posterior Mean of Mark… => [-0.000503365,-0.0146095,-0.016149,-0.0541999,0.0…"
      ]
     },
     "execution_count": 29,
     "metadata": {},
     "output_type": "execute_result"
    }
   ],
   "source": [
    "output2=MMEModule.runMCMC(mme,test,chain_length=100000,\n",
    "                         printout_frequency=5000,methods=\"BayesB\",Pi=0.95)"
   ]
  },
  {
   "cell_type": "code",
   "execution_count": 30,
   "metadata": {
    "collapsed": true
   },
   "outputs": [],
   "source": [
    "beta1=output[\"posterior mean of marker effects\"];\n",
    "beta2=output2[\"Posterior Mean of Marker Effects\"];"
   ]
  },
  {
   "cell_type": "code",
   "execution_count": 31,
   "metadata": {
    "collapsed": false
   },
   "outputs": [
    {
     "data": {
      "text/plain": [
       "1x1 Array{Float64,2}:\n",
       " 0.996402"
      ]
     },
     "execution_count": 31,
     "metadata": {},
     "output_type": "execute_result"
    }
   ],
   "source": [
    "cor(beta1,beta2)"
   ]
  },
  {
   "cell_type": "code",
   "execution_count": 32,
   "metadata": {
    "collapsed": false
   },
   "outputs": [
    {
     "data": {
      "text/plain": [
       "1x1 Array{Float64,2}:\n",
       " 0.999861"
      ]
     },
     "execution_count": 32,
     "metadata": {},
     "output_type": "execute_result"
    }
   ],
   "source": [
    "cor(X*beta1,X*beta2)"
   ]
  }
 ],
 "metadata": {
  "kernelspec": {
   "display_name": "Julia 0.4.5",
   "language": "julia",
   "name": "julia-0.4"
  },
  "language_info": {
   "file_extension": ".jl",
   "mimetype": "application/julia",
   "name": "julia",
   "version": "0.4.5"
  }
 },
 "nbformat": 4,
 "nbformat_minor": 0
}
