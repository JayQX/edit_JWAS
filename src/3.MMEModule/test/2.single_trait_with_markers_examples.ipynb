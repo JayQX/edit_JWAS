{
 "cells": [
  {
   "cell_type": "markdown",
   "metadata": {},
   "source": [
    "## Module for building Henderson's Mixed Model Equations for single trait including marker  and polygenic effect\n",
    "\n"
   ]
  },
  {
   "cell_type": "markdown",
   "metadata": {},
   "source": [
    "### <font color=\"red\"> Data</font>"
   ]
  },
  {
   "cell_type": "code",
   "execution_count": 1,
   "metadata": {
    "collapsed": false
   },
   "outputs": [
    {
     "data": {
      "text/plain": [
       "MMEModule"
      ]
     },
     "execution_count": 1,
     "metadata": {},
     "output_type": "execute_result"
    }
   ],
   "source": [
    "include(\"../src/MMEModule.jl\")"
   ]
  },
  {
   "cell_type": "code",
   "execution_count": 2,
   "metadata": {
    "collapsed": true
   },
   "outputs": [],
   "source": [
    "using DataFrames\n",
    "using QTLDatasets\n",
    "using MMEModule"
   ]
  },
  {
   "cell_type": "code",
   "execution_count": 3,
   "metadata": {
    "collapsed": false
   },
   "outputs": [
    {
     "data": {
      "text/plain": [
       "\"/Users/haocheng/.julia/v0.4/QTLDatasets/src/../data/testMME/pedigree.txt\""
      ]
     },
     "execution_count": 3,
     "metadata": {},
     "output_type": "execute_result"
    }
   ],
   "source": [
    "phenofile = QTLDatasets.dataset(\"testMME\",\"simple.txt\")\n",
    "genofile = QTLDatasets.dataset(\"testMME\",\"genotype.txt\")\n",
    "pedfile   = QTLDatasets.dataset(\"testMME\",\"pedigree.txt\")"
   ]
  },
  {
   "cell_type": "code",
   "execution_count": 4,
   "metadata": {
    "collapsed": false
   },
   "outputs": [
    {
     "data": {
      "text/html": [
       "<table class=\"data-frame\"><tr><th></th><th>Animal</th><th>Age</th><th>y</th></tr><tr><th>1</th><td>S1</td><td>1</td><td>-0.92</td></tr><tr><th>2</th><td>D1</td><td>2</td><td>-1.05</td></tr><tr><th>3</th><td>O1</td><td>3</td><td>-0.92</td></tr><tr><th>4</th><td>O3</td><td>2</td><td>1.2</td></tr></table>"
      ],
      "text/plain": [
       "4×3 DataFrames.DataFrame\n",
       "│ Row │ Animal │ Age │ y     │\n",
       "├─────┼────────┼─────┼───────┤\n",
       "│ 1   │ \"S1\"   │ 1   │ -0.92 │\n",
       "│ 2   │ \"D1\"   │ 2   │ -1.05 │\n",
       "│ 3   │ \"O1\"   │ 3   │ -0.92 │\n",
       "│ 4   │ \"O3\"   │ 2   │ 1.2   │"
      ]
     },
     "execution_count": 4,
     "metadata": {},
     "output_type": "execute_result"
    }
   ],
   "source": [
    "phenotype = readtable(phenofile,separator = ',',header=true)"
   ]
  },
  {
   "cell_type": "code",
   "execution_count": 5,
   "metadata": {
    "collapsed": false
   },
   "outputs": [
    {
     "name": "stdout",
     "output_type": "stream",
     "text": [
      "Animal,x1,x2,x3,x4,x5\n",
      "S1,1,0,1,1,1\n",
      "D1,2,0,2,2,1\n",
      "O1,1,2,0,1,0\n",
      "O3,0,0,2,1,1\n"
     ]
    }
   ],
   "source": [
    ";cat $genofile"
   ]
  },
  {
   "cell_type": "markdown",
   "metadata": {},
   "source": [
    "### <font color=\"red\"> Run module</font>"
   ]
  },
  {
   "cell_type": "code",
   "execution_count": 6,
   "metadata": {
    "collapsed": false
   },
   "outputs": [],
   "source": [
    "varRes = 1.0\n",
    "varGen = 2.5\n",
    "markerProp = 0.8\n",
    "MVarGen= varGen*markerProp\n",
    "PVarGen= varGen*(1-markerProp);"
   ]
  },
  {
   "cell_type": "code",
   "execution_count": 7,
   "metadata": {
    "collapsed": false
   },
   "outputs": [],
   "source": [
    "ped = PedModule.mkPed(pedfile);"
   ]
  },
  {
   "cell_type": "code",
   "execution_count": 8,
   "metadata": {
    "collapsed": false
   },
   "outputs": [],
   "source": [
    "varRes=1.0\n",
    "mme = MMEModule.build_model(\"y = intercept + Age + Animal\",varRes)\n",
    "MMEModule.set_covariate(mme,\"Age\")\n",
    "MMEModule.set_random(mme,\"Animal\",ped,PVarGen)"
   ]
  },
  {
   "cell_type": "markdown",
   "metadata": {},
   "source": [
    "### <font color=\"red\"> work with markers</font>"
   ]
  },
  {
   "cell_type": "code",
   "execution_count": 9,
   "metadata": {
    "collapsed": false
   },
   "outputs": [
    {
     "name": "stdout",
     "output_type": "stream",
     "text": [
      "The delimiters in file /Users/haocheng/.julia/v0.4/QTLDatasets/src/../data/testMME/genotype.txt is ,  .\n"
     ]
    }
   ],
   "source": [
    "MMEModule.add_markers(mme,genofile,MVarGen,separator=',');"
   ]
  },
  {
   "cell_type": "markdown",
   "metadata": {},
   "source": [
    "### <font color=\"red\"> run MCMC</font>"
   ]
  },
  {
   "cell_type": "code",
   "execution_count": 10,
   "metadata": {
    "collapsed": false
   },
   "outputs": [
    {
     "name": "stdout",
     "output_type": "stream",
     "text": [
      "at sample: 5000 with meanVare: 1.1682561655474932\n",
      "at sample: 10000 with meanVare: 1.146805407838937\n",
      "at sample: 15000 with meanVare: 1.1610481989029204\n",
      "at sample: 20000 with meanVare: 1.178576981213072\n",
      "at sample: 25000 with meanVare: 1.1733052501469943\n",
      "at sample: 30000 with meanVare: 1.1622525472365408\n",
      "at sample: 35000 with meanVare: 1.161035043118952\n",
      "at sample: 40000 with meanVare: 1.1501234876578255\n",
      "at sample: 45000 with meanVare: 1.1509511084521353\n",
      "at sample: 50000 with meanVare: 1.1523109941628331\n"
     ]
    },
    {
     "data": {
      "text/plain": [
       "Dict{Any,Any} with 4 entries:\n",
       "  \"Posterior Mean of Loca… => 7x2 Array{Any,2}:…\n",
       "  \"MCMC samples for resid… => [0.679684,0.58551,1.43908,0.705037,0.470015,0.865…\n",
       "  \"MCMC samples for genet… => 50000x1 Array{Float64,2}:…\n",
       "  \"Posterior Mean of Mark… => [-0.2987018723158025,-0.12395720134615784,0.09532…"
      ]
     },
     "execution_count": 10,
     "metadata": {},
     "output_type": "execute_result"
    }
   ],
   "source": [
    "output=MMEModule.runMCMC(mme,phenotype,chain_length=50000,\n",
    "                         printout_frequency=5000,methods=\"BayesC\",Pi=0.8,\n",
    "                         output_marker_effects_frequency=1000)"
   ]
  },
  {
   "cell_type": "code",
   "execution_count": 11,
   "metadata": {
    "collapsed": false
   },
   "outputs": [
    {
     "data": {
      "text/plain": [
       "Base.KeyIterator for a Dict{Any,Any} with 4 entries. Keys:\n",
       "  \"Posterior Mean of Location Parameters\"\n",
       "  \"MCMC samples for residual variance\"\n",
       "  \"MCMC samples for genetic var-cov parameters\"\n",
       "  \"Posterior Mean of Marker Effects\""
      ]
     },
     "execution_count": 11,
     "metadata": {},
     "output_type": "execute_result"
    }
   ],
   "source": [
    "keys(output)"
   ]
  },
  {
   "cell_type": "code",
   "execution_count": 12,
   "metadata": {
    "collapsed": false
   },
   "outputs": [
    {
     "data": {
      "text/plain": [
       "7x2 Array{Any,2}:\n",
       " \"intercept: intercept\"  -0.936964   \n",
       " \"Age: Age\"               0.248339   \n",
       " \"Animal: S1\"             0.00309496 \n",
       " \"Animal: D1\"            -0.000620785\n",
       " \"Animal: O1\"            -0.0281503  \n",
       " \"Animal: O3\"             0.0970751  \n",
       " \"Animal: O2\"             0.00559842 "
      ]
     },
     "execution_count": 12,
     "metadata": {},
     "output_type": "execute_result"
    }
   ],
   "source": [
    "output[\"Posterior Mean of Location Parameters\"]"
   ]
  },
  {
   "cell_type": "code",
   "execution_count": 13,
   "metadata": {
    "collapsed": false
   },
   "outputs": [
    {
     "data": {
      "text/plain": [
       "5-element Array{Float64,1}:\n",
       " -0.298702 \n",
       " -0.123957 \n",
       "  0.0953282\n",
       " -0.108071 \n",
       "  0.154245 "
      ]
     },
     "execution_count": 13,
     "metadata": {},
     "output_type": "execute_result"
    }
   ],
   "source": [
    "output[\"Posterior Mean of Marker Effects\"]"
   ]
  },
  {
   "cell_type": "code",
   "execution_count": 14,
   "metadata": {
    "collapsed": false
   },
   "outputs": [
    {
     "data": {
      "text/plain": [
       "50000x1 Array{Float64,2}:\n",
       " 0.22142 \n",
       " 0.311651\n",
       " 0.127704\n",
       " 0.348496\n",
       " 0.217233\n",
       " 0.159236\n",
       " 0.362204\n",
       " 0.195517\n",
       " 0.104291\n",
       " 0.197336\n",
       " 0.159772\n",
       " 0.227538\n",
       " 0.132382\n",
       " ⋮       \n",
       " 0.184224\n",
       " 0.191131\n",
       " 0.327721\n",
       " 0.299434\n",
       " 0.865846\n",
       " 0.504255\n",
       " 0.177754\n",
       " 0.279193\n",
       " 0.441899\n",
       " 0.349182\n",
       " 0.300953\n",
       " 0.500673"
      ]
     },
     "execution_count": 14,
     "metadata": {},
     "output_type": "execute_result"
    }
   ],
   "source": [
    "output[ \"MCMC samples for genetic var-cov parameters\"]"
   ]
  },
  {
   "cell_type": "code",
   "execution_count": 15,
   "metadata": {
    "collapsed": false
   },
   "outputs": [
    {
     "data": {
      "text/plain": [
       "50000-element Array{Float64,1}:\n",
       " 0.679684\n",
       " 0.58551 \n",
       " 1.43908 \n",
       " 0.705037\n",
       " 0.470015\n",
       " 0.865157\n",
       " 1.4342  \n",
       " 0.518495\n",
       " 0.865078\n",
       " 0.335365\n",
       " 1.00218 \n",
       " 0.693965\n",
       " 3.5976  \n",
       " ⋮       \n",
       " 0.997715\n",
       " 0.709423\n",
       " 3.75033 \n",
       " 0.881523\n",
       " 1.67993 \n",
       " 0.892106\n",
       " 1.1598  \n",
       " 0.848082\n",
       " 1.12722 \n",
       " 0.8265  \n",
       " 0.381788\n",
       " 0.294895"
      ]
     },
     "execution_count": 15,
     "metadata": {},
     "output_type": "execute_result"
    }
   ],
   "source": [
    "output[\"MCMC samples for residual variance\"]"
   ]
  }
 ],
 "metadata": {
  "kernelspec": {
   "display_name": "Julia 0.4.5",
   "language": "julia",
   "name": "julia-0.4"
  },
  "language_info": {
   "file_extension": ".jl",
   "mimetype": "application/julia",
   "name": "julia",
   "version": "0.4.5"
  }
 },
 "nbformat": 4,
 "nbformat_minor": 0
}
