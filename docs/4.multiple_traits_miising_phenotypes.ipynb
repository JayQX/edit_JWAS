{
 "cells": [
  {
   "cell_type": "code",
   "execution_count": 1,
   "metadata": {
    "collapsed": true
   },
   "outputs": [],
   "source": [
    "using DataFrames\n",
    "using JWAS.Datasets\n",
    "using JWAS.MT"
   ]
  },
  {
   "cell_type": "markdown",
   "metadata": {},
   "source": [
    "### mulitiple trait with missing phenotypes"
   ]
  },
  {
   "cell_type": "markdown",
   "metadata": {},
   "source": [
    "### <font, color=\"red\">missing values are denoted as \"NA\"</font>"
   ]
  },
  {
   "cell_type": "code",
   "execution_count": 2,
   "metadata": {
    "collapsed": false
   },
   "outputs": [],
   "source": [
    "MTData   = Datasets.dataset(\"testMT\",\"MTData.txt\");\n",
    "genofile = Datasets.dataset(\"testMT\",\"genotype.txt\");"
   ]
  },
  {
   "cell_type": "code",
   "execution_count": 3,
   "metadata": {
    "collapsed": false
   },
   "outputs": [
    {
     "name": "stdout",
     "output_type": "stream",
     "text": [
      "y1   y2    trt\n",
      "1.0  2.0    1\n",
      "1.1  NA     1\n",
      "0.9  1.9    2\n",
      "1.2   1.7   2\n"
     ]
    }
   ],
   "source": [
    ";cat $MTData"
   ]
  },
  {
   "cell_type": "code",
   "execution_count": 4,
   "metadata": {
    "collapsed": false
   },
   "outputs": [
    {
     "data": {
      "text/html": [
       "<table class=\"data-frame\"><tr><th></th><th>y1</th><th>y2</th><th>trt</th></tr><tr><th>1</th><td>1.0</td><td>2.0</td><td>1</td></tr><tr><th>2</th><td>1.1</td><td>NA</td><td>1</td></tr><tr><th>3</th><td>0.9</td><td>1.9</td><td>2</td></tr><tr><th>4</th><td>1.2</td><td>1.7</td><td>2</td></tr></table>"
      ],
      "text/plain": [
       "4×3 DataFrames.DataFrame\n",
       "│ Row │ y1  │ y2  │ trt │\n",
       "├─────┼─────┼─────┼─────┤\n",
       "│ 1   │ 1.0 │ 2.0 │ 1   │\n",
       "│ 2   │ 1.1 │ NA  │ 1   │\n",
       "│ 3   │ 0.9 │ 1.9 │ 2   │\n",
       "│ 4   │ 1.2 │ 1.7 │ 2   │"
      ]
     },
     "execution_count": 4,
     "metadata": {},
     "output_type": "execute_result"
    }
   ],
   "source": [
    "df = readtable(MTData, separator = ' ')"
   ]
  },
  {
   "cell_type": "code",
   "execution_count": 5,
   "metadata": {
    "collapsed": true
   },
   "outputs": [],
   "source": [
    "R0=[1.0 0.5\n",
    "    0.5 2.0];"
   ]
  },
  {
   "cell_type": "code",
   "execution_count": 6,
   "metadata": {
    "collapsed": false
   },
   "outputs": [],
   "source": [
    "models = \"y1 = intercept + trt;\n",
    "          y2 = intercept + trt\"\n",
    "mme = MT.build_model(models,R0);"
   ]
  },
  {
   "cell_type": "code",
   "execution_count": 7,
   "metadata": {
    "collapsed": false
   },
   "outputs": [
    {
     "name": "stdout",
     "output_type": "stream",
     "text": [
      "The delimiters in file /Users/haocheng/.julia/v0.4/JWAS/src/5.Datasets/src/../data/testMT/genotype.txt is ,  .\n"
     ]
    }
   ],
   "source": [
    "G=[1.0 0.5\n",
    "    0.5 2.0];\n",
    "MT.add_markers(mme,genofile,G,separator=',',header=true);"
   ]
  },
  {
   "cell_type": "code",
   "execution_count": 8,
   "metadata": {
    "collapsed": false
   },
   "outputs": [
    {
     "name": "stdout",
     "output_type": "stream",
     "text": [
      "posterior means at sample: 100\n",
      "Residual covariance matrix: \n",
      "[0.7231792805885138 0.3692973305610133\n",
      " 0.3692973305610133 1.6654271841364625]\n",
      "Marker effects covariance matrix: \n",
      "[0.3095793475459984 0.1501612527503134\n",
      " 0.1501612527503134 0.61469697852179]\n",
      "\n",
      "π: \n",
      "Dict([0.0,1.0]=>0.21869797888997725,[1.0,0.0]=>0.29272750310089873,[1.0,1.0]=>0.17755487266922979,[0.0,0.0]=>0.3110196453398944)\n",
      "posterior means at sample: 200\n",
      "Residual covariance matrix: \n",
      "[0.6766627117942862 0.3390324300546547\n",
      " 0.3390324300546547 1.6036411133018684]\n",
      "Marker effects covariance matrix: \n",
      "[0.29559650835955253 0.14487307090469737\n",
      " 0.14487307090469737 0.632117997896648]\n",
      "\n",
      "π: \n",
      "Dict([0.0,1.0]=>0.23373865073555725,[1.0,0.0]=>0.28016818143599304,[1.0,1.0]=>0.20258703948331566,[0.0,0.0]=>0.2835061283451344)\n",
      "posterior means at sample: 300\n",
      "Residual covariance matrix: \n",
      "[0.6668447408104983 0.3280407359808703\n",
      " 0.3280407359808703 1.5517434001848331]\n",
      "Marker effects covariance matrix: \n",
      "[0.3054358131510443 0.12805575714769413\n",
      " 0.12805575714769413 0.6288896290342548]\n",
      "\n",
      "π: \n",
      "Dict([0.0,1.0]=>0.254531232653346,[1.0,0.0]=>0.27061189129165597,[1.0,1.0]=>0.21102045405532655,[0.0,0.0]=>0.2638364219996715)\n",
      "posterior means at sample: 400\n",
      "Residual covariance matrix: \n",
      "[0.6629349069455993 0.32796059705559966\n",
      " 0.32796059705559966 1.514268146049883]\n",
      "Marker effects covariance matrix: \n",
      "[0.3057812551635599 0.13102538835052133\n",
      " 0.13102538835052133 0.6452652492862047]\n",
      "\n",
      "π: \n",
      "Dict([0.0,1.0]=>0.2562738221654741,[1.0,0.0]=>0.2590076633747455,[1.0,1.0]=>0.19982595575887172,[0.0,0.0]=>0.28489255870090846)\n",
      "posterior means at sample: 500\n",
      "Residual covariance matrix: \n",
      "[0.6464881055854106 0.3166433570652438\n",
      " 0.3166433570652438 1.4934229341645655]\n",
      "Marker effects covariance matrix: \n",
      "[0.3154231111405238 0.13119092599084378\n",
      " 0.13119092599084378 0.628244564914424]\n",
      "\n",
      "π: \n",
      "Dict([0.0,1.0]=>0.27264058236111166,[1.0,0.0]=>0.24600647676718676,[1.0,1.0]=>0.19629117854554745,[0.0,0.0]=>0.2850617623261539)\n"
     ]
    }
   ],
   "source": [
    "Pi=Dict([1.0; 1.0]=>0.25,[1.0; 0.0]=>0.25,[0.0; 1.0]=>0.25,[0.0; 0.0]=>0.25)\n",
    "out = MT.runMCMC(mme,df,Pi=Pi,methods=\"BayesC\",missing_phenotypes=true,chain_length=500,printout_frequency=100);"
   ]
  },
  {
   "cell_type": "code",
   "execution_count": 9,
   "metadata": {
    "collapsed": false
   },
   "outputs": [
    {
     "data": {
      "text/latex": [
       "\\begin{verbatim}\n",
       "runMCMC(mme,df;Pi=0.0,chain_length=1000,starting_value=false,printout_frequency=100,missing_phenotypes= false,methods=\"no markers\",output_marker_effects_frequency::Int64 = 0)\n",
       "\\end{verbatim}\n",
       "Run MCMC (marker information included or not) with sampling of variance components.\n",
       "\\begin{itemize}\n",
       "\\item available \\textbf{methods} include \"no markers\", \"BayesC0\", \"BayesC\", \"BayesCC\".\n",
       "\\item \\textbf{missing\\_phenotypes}\n",
       "\\item \\textbf{Pi} is a dictionary such as \\texttt{Pi=Dict([1.0; 1.0]=>0.7,[1.0; 0.0]=>0.1,[0.0; 1.0]=>0.1,[0.0; 0.0]=>0.1)}\n",
       "\\item save samples of marker effects every \\textbf{output\\_marker\\_effects\\_frequency} iterations to files\n",
       "\\item \\textbf{starting\\_value} can be provided as vector for all location parameteres except marker effects.\n",
       "\\item print out the monte carlo mean in REPL with \\textbf{printout\\_frequency},\n",
       "\\end{itemize}\n"
      ],
      "text/markdown": [
       "```\n",
       "runMCMC(mme,df;Pi=0.0,chain_length=1000,starting_value=false,printout_frequency=100,missing_phenotypes= false,methods=\"no markers\",output_marker_effects_frequency::Int64 = 0)\n",
       "```\n",
       "\n",
       "Run MCMC (marker information included or not) with sampling of variance components.\n",
       "\n",
       "  * available **methods** include \"no markers\", \"BayesC0\", \"BayesC\", \"BayesCC\".\n",
       "  * **missing_phenotypes**\n",
       "  * **Pi** is a dictionary such as `Pi=Dict([1.0; 1.0]=>0.7,[1.0; 0.0]=>0.1,[0.0; 1.0]=>0.1,[0.0; 0.0]=>0.1)`\n",
       "  * save samples of marker effects every **output_marker_effects_frequency** iterations to files\n",
       "  * **starting_value** can be provided as vector for all location parameteres except marker effects.\n",
       "  * print out the monte carlo mean in REPL with **printout_frequency**,\n"
      ],
      "text/plain": [
       "```\n",
       "runMCMC(mme,df;Pi=0.0,chain_length=1000,starting_value=false,printout_frequency=100,missing_phenotypes= false,methods=\"no markers\",output_marker_effects_frequency::Int64 = 0)\n",
       "```\n",
       "\n",
       "Run MCMC (marker information included or not) with sampling of variance components.\n",
       "\n",
       "  * available **methods** include \"no markers\", \"BayesC0\", \"BayesC\", \"BayesCC\".\n",
       "  * **missing_phenotypes**\n",
       "  * **Pi** is a dictionary such as `Pi=Dict([1.0; 1.0]=>0.7,[1.0; 0.0]=>0.1,[0.0; 1.0]=>0.1,[0.0; 0.0]=>0.1)`\n",
       "  * save samples of marker effects every **output_marker_effects_frequency** iterations to files\n",
       "  * **starting_value** can be provided as vector for all location parameteres except marker effects.\n",
       "  * print out the monte carlo mean in REPL with **printout_frequency**,\n"
      ]
     },
     "execution_count": 9,
     "metadata": {},
     "output_type": "execute_result"
    }
   ],
   "source": [
    "?MT.runMCMC"
   ]
  }
 ],
 "metadata": {
  "kernelspec": {
   "display_name": "Julia 0.4.6",
   "language": "julia",
   "name": "julia-0.4"
  },
  "language_info": {
   "file_extension": ".jl",
   "mimetype": "application/julia",
   "name": "julia",
   "version": "0.4.6"
  }
 },
 "nbformat": 4,
 "nbformat_minor": 0
}
