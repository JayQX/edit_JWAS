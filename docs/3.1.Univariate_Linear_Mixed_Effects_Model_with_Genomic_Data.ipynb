{
 "cells": [
  {
   "cell_type": "markdown",
   "metadata": {},
   "source": [
    "<ul class=\"breadcrumb\">\n",
    "  <li><a href=\"1.1.Univaraite_Linear_Mixed_Effects_Model.ipynb\">Univariate Basics</a></li>\n",
    "  <li><a href=\"1.2.Univariate_Linear_Additive_Genetic_Model.ipynb\">Univariate Additive Genetic Model</a></li> \n",
    "  <li><a href=\"1.3.Univariate_Linear_Mixed_Effects_Model_with_Genomic_Data.ipynb\">Univariate Genomic Data</a></li>\n",
    "</ul>"
   ]
  },
  {
   "cell_type": "markdown",
   "metadata": {},
   "source": [
    "<div class=\"span5 alert alert-success\">\n",
    " <font size=\"5\" face=\"Georgia\">Univaraite Linear Mixed Effects Model with Genomic Data</font> \n",
    "</div>\n"
   ]
  },
  {
   "cell_type": "markdown",
   "metadata": {},
   "source": [
    "<button type=\"button\" class=\"btn btn-lg btn-primary\">Data</button>"
   ]
  },
  {
   "cell_type": "code",
   "execution_count": 22,
   "metadata": {
    "collapsed": false
   },
   "outputs": [],
   "source": [
    "using DataFrames,JWAS,JWAS.Datasets"
   ]
  },
  {
   "cell_type": "code",
   "execution_count": 2,
   "metadata": {
    "collapsed": false
   },
   "outputs": [],
   "source": [
    "phenofile = Datasets.dataset(\"testMME\",\"simple.txt\")\n",
    "genofile  = Datasets.dataset(\"testMME\",\"genotype.txt\")\n",
    "pedfile   = Datasets.dataset(\"testMME\",\"pedigree.txt\");"
   ]
  },
  {
   "cell_type": "code",
   "execution_count": 3,
   "metadata": {
    "collapsed": false
   },
   "outputs": [
    {
     "name": "stdout",
     "output_type": "stream",
     "text": [
      "Animal,Age,y\n",
      "S1,1,-0.92\n",
      "D1,2,-1.05\n",
      "O1,3,-0.92\n",
      "O3,2,1.2\n"
     ]
    }
   ],
   "source": [
    ";cat $phenofile"
   ]
  },
  {
   "cell_type": "code",
   "execution_count": 4,
   "metadata": {
    "collapsed": false
   },
   "outputs": [
    {
     "name": "stdout",
     "output_type": "stream",
     "text": [
      "Animal,x1,x2,x3,x4,x5\n",
      "S1,1,0,1,1,1\n",
      "D1,2,0,2,2,1\n",
      "O1,1,2,0,1,0\n",
      "O3,0,0,2,1,1\n"
     ]
    }
   ],
   "source": [
    ";cat $genofile"
   ]
  },
  {
   "cell_type": "code",
   "execution_count": 5,
   "metadata": {
    "collapsed": false
   },
   "outputs": [
    {
     "name": "stdout",
     "output_type": "stream",
     "text": [
      "S1 0 0\n",
      "D1 0 0\n",
      "O1 S1 D1\n",
      "O2 S1 D1\n",
      "O3 S1 D1\n"
     ]
    }
   ],
   "source": [
    ";cat $pedfile"
   ]
  },
  {
   "cell_type": "markdown",
   "metadata": {},
   "source": [
    "<button type=\"button\" class=\"btn btn-lg btn-primary\">Build Model</button> "
   ]
  },
  {
   "cell_type": "code",
   "execution_count": 6,
   "metadata": {
    "collapsed": false
   },
   "outputs": [],
   "source": [
    "phenotype = readtable(phenofile,separator = ',',header=true);"
   ]
  },
  {
   "cell_type": "code",
   "execution_count": 7,
   "metadata": {
    "collapsed": false
   },
   "outputs": [
    {
     "name": "stdout",
     "output_type": "stream",
     "text": [
      "Finished!\n"
     ]
    }
   ],
   "source": [
    "pedigree = get_pedigree(pedfile);"
   ]
  },
  {
   "cell_type": "code",
   "execution_count": 8,
   "metadata": {
    "collapsed": false
   },
   "outputs": [],
   "source": [
    "residual_variance = 1.0\n",
    "genetic_variance  = 2.5\n",
    "genetic_variance_by_marker    = 1.5\n",
    "genetic_variance_by_polygenic = 1.0;"
   ]
  },
  {
   "cell_type": "code",
   "execution_count": 9,
   "metadata": {
    "collapsed": false
   },
   "outputs": [],
   "source": [
    "model = build_model(\"y = intercept + Age + Animal\",residual_variance)\n",
    "set_covariate(model,\"Age\")\n",
    "set_random(model,\"Animal\",pedigree,genetic_variance_by_polygenic)"
   ]
  },
  {
   "cell_type": "code",
   "execution_count": 10,
   "metadata": {
    "collapsed": false
   },
   "outputs": [
    {
     "name": "stdout",
     "output_type": "stream",
     "text": [
      "The delimiters in file /Users/haocheng/Github/JWAS.jl/src/5.Datasets/src/../data/testMME/genotype.txt is ,  .\n"
     ]
    }
   ],
   "source": [
    "add_markers(model,genofile,genetic_variance_by_marker,separator=',');"
   ]
  },
  {
   "cell_type": "markdown",
   "metadata": {},
   "source": [
    "<button type=\"button\" class=\"btn btn-lg btn-primary\">Run Model</button> "
   ]
  },
  {
   "cell_type": "code",
   "execution_count": 17,
   "metadata": {
    "collapsed": false
   },
   "outputs": [
    {
     "name": "stdout",
     "output_type": "stream",
     "text": [
      "Priors for marker effects covariance matrix were calculated from genetic covariance matrix and π.\n",
      "Marker effects covariance matrix is \n",
      "126.349234.\n",
      "\n",
      "\n",
      "MCMC Information:\n",
      "methods                                      BayesC\n",
      "chain_length                                   5000\n",
      "estimatePi                                     true\n",
      "constraint                                    false\n",
      "missing_phenotypes                            false\n",
      "starting_value                                false\n",
      "output_samples_frequency                        100\n",
      "printout_frequency                             5001\n",
      "\n",
      "Degree of freedom for hyper-parameters:\n",
      "residual variances:                           4.000\n",
      "iid random effect variances:                  4.000\n",
      "polygenic effect variances:                   4.000\n",
      "marker effect variances:                      4.000\n",
      "\n",
      "\n",
      "\n",
      "running MCMC for BayesC...100%|█████████████████████████| Time: 0:00:00\n"
     ]
    }
   ],
   "source": [
    "output=runMCMC(model,phenotype,chain_length=5000,\n",
    "methods=\"BayesC\",Pi=0.9,estimatePi=true,output_samples_frequency=100);"
   ]
  },
  {
   "cell_type": "code",
   "execution_count": 18,
   "metadata": {
    "collapsed": false
   },
   "outputs": [
    {
     "data": {
      "text/plain": [
       "Base.KeyIterator for a Dict{Any,Any} with 6 entries. Keys:\n",
       "  \"Posterior mean of marker effects\"\n",
       "  \"MCMC samples for residual variance\"\n",
       "  \"MCMC samples for: π\"\n",
       "  \"MCMC samples for polygenic effects var-cov parameters\"\n",
       "  \"Posterior mean of location parameters\"\n",
       "  \"Posterior mean of Pi\""
      ]
     },
     "execution_count": 18,
     "metadata": {},
     "output_type": "execute_result"
    }
   ],
   "source": [
    "keys(output)"
   ]
  },
  {
   "cell_type": "markdown",
   "metadata": {},
   "source": [
    "<button type=\"button\" class=\"btn btn-lg btn-primary\">Check Results</button> "
   ]
  },
  {
   "cell_type": "code",
   "execution_count": 19,
   "metadata": {
    "collapsed": false
   },
   "outputs": [
    {
     "data": {
      "text/plain": [
       "7x2 Array{Any,2}:\n",
       " \"1:intercept : intercept\"  -0.459423  \n",
       " \"1:Age : Age\"              -0.00503868\n",
       " \"1:Animal : S1\"             0.0231295 \n",
       " \"1:Animal : D1\"             0.00975485\n",
       " \"1:Animal : O1\"            -0.0150733 \n",
       " \"1:Animal : O3\"             0.193806  \n",
       " \"1:Animal : O2\"             0.0219952 "
      ]
     },
     "execution_count": 19,
     "metadata": {},
     "output_type": "execute_result"
    }
   ],
   "source": [
    "output[\"Posterior mean of location parameters\"]"
   ]
  },
  {
   "cell_type": "code",
   "execution_count": 20,
   "metadata": {
    "collapsed": false
   },
   "outputs": [
    {
     "data": {
      "text/plain": [
       "5x2 Array{Any,2}:\n",
       " \"x1\"  -0.115961 \n",
       " \"x2\"  -0.0403096\n",
       " \"x3\"   0.157725 \n",
       " \"x4\"  -0.16427  \n",
       " \"x5\"  -0.0515051"
      ]
     },
     "execution_count": 20,
     "metadata": {},
     "output_type": "execute_result"
    }
   ],
   "source": [
    "output[\"Posterior mean of marker effects\"]"
   ]
  },
  {
   "cell_type": "code",
   "execution_count": 21,
   "metadata": {
    "collapsed": false
   },
   "outputs": [
    {
     "data": {
      "text/html": [
       "<img src=\"data:image/png;base64,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\" />"
      ]
     },
     "execution_count": 21,
     "metadata": {},
     "output_type": "execute_result"
    }
   ],
   "source": [
    "using Plots\n",
    "histogram(output[\"MCMC samples for: π\"])"
   ]
  }
 ],
 "metadata": {
  "kernelspec": {
   "display_name": "Julia 0.4.6",
   "language": "julia",
   "name": "julia-0.4"
  },
  "language_info": {
   "file_extension": ".jl",
   "mimetype": "application/julia",
   "name": "julia",
   "version": "0.4.6"
  }
 },
 "nbformat": 4,
 "nbformat_minor": 0
}
