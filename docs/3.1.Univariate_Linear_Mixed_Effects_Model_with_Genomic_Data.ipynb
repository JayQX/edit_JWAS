{
 "cells": [
  {
   "cell_type": "markdown",
   "metadata": {},
   "source": [
    "<ul class=\"breadcrumb\">\n",
    "  <li><a href=\"1.1.Univaraite_Linear_Mixed_Effects_Model.ipynb\">Univariate Basics</a></li>\n",
    "  <li><a href=\"2.1.Univariate_Linear_Additive_Genetic_Model.ipynb\">Univariate Additive Genetic Model</a></li> \n",
    "  <li><a href=\"3.1.Univariate_Linear_Mixed_Effects_Model_with_Genomic_Data.ipynb\">Univariate Genomic Data</a></li>\n",
    "</ul>"
   ]
  },
  {
   "cell_type": "markdown",
   "metadata": {},
   "source": [
    "<div class=\"span5 alert alert-success\">\n",
    " <font size=\"5\" face=\"Georgia\">Univaraite Linear Mixed Effects Model with Genomic Data</font> \n",
    "</div>\n"
   ]
  },
  {
   "cell_type": "markdown",
   "metadata": {},
   "source": [
    "<button type=\"button\" class=\"btn btn-lg btn-primary\">Data</button>"
   ]
  },
  {
   "cell_type": "code",
   "execution_count": 1,
   "metadata": {},
   "outputs": [
    {
     "data": {
      "text/plain": [
       "JWAS"
      ]
     },
     "execution_count": 1,
     "metadata": {},
     "output_type": "execute_result"
    }
   ],
   "source": [
    "include(\"../src/JWAS.jl\")"
   ]
  },
  {
   "cell_type": "code",
   "execution_count": 2,
   "metadata": {},
   "outputs": [],
   "source": [
    "using DataFrames,CSV,JWAS,JWAS.Datasets"
   ]
  },
  {
   "cell_type": "code",
   "execution_count": 3,
   "metadata": {},
   "outputs": [],
   "source": [
    "phenofile = Datasets.dataset(\"testMME\",\"simple.txt\")\n",
    "genofile  = Datasets.dataset(\"testMME\",\"genotype.txt\")\n",
    "pedfile   = Datasets.dataset(\"testMME\",\"pedigree.txt\");"
   ]
  },
  {
   "cell_type": "code",
   "execution_count": 4,
   "metadata": {},
   "outputs": [
    {
     "name": "stdout",
     "output_type": "stream",
     "text": [
      "Animal,Age,y\n",
      "S1,1,-0.92\n",
      "D1,2,-1.05\n",
      "O1,3,NA\n",
      "O3,2,1.2\n"
     ]
    }
   ],
   "source": [
    ";cat $phenofile"
   ]
  },
  {
   "cell_type": "code",
   "execution_count": 5,
   "metadata": {},
   "outputs": [
    {
     "name": "stdout",
     "output_type": "stream",
     "text": [
      "Animal,x1,x2,x3,x4,x5\n",
      "S1,1,0,1,1,1\n",
      "D1,2,0,2,2,1\n",
      "O1,1,2,0,1,0\n",
      "O3,0,0,2,1,1\n"
     ]
    }
   ],
   "source": [
    ";cat $genofile"
   ]
  },
  {
   "cell_type": "code",
   "execution_count": 6,
   "metadata": {},
   "outputs": [
    {
     "name": "stdout",
     "output_type": "stream",
     "text": [
      "S1 0 0\n",
      "D1 0 0\n",
      "O1 S1 D1\n",
      "O2 S1 D1\n",
      "O3 S1 D1\n"
     ]
    }
   ],
   "source": [
    ";cat $pedfile"
   ]
  },
  {
   "cell_type": "markdown",
   "metadata": {},
   "source": [
    "<button type=\"button\" class=\"btn btn-lg btn-primary\">Build Model</button> "
   ]
  },
  {
   "cell_type": "code",
   "execution_count": 7,
   "metadata": {},
   "outputs": [],
   "source": [
    "phenotype = CSV.read(phenofile,delim = ',',header=true,null=\"NA\");"
   ]
  },
  {
   "cell_type": "code",
   "execution_count": 8,
   "metadata": {},
   "outputs": [
    {
     "data": {
      "text/html": [
       "<table class=\"data-frame\"><thead><tr><th></th><th>Animal</th><th>Age</th><th>y</th></tr></thead><tbody><tr><th>1</th><td>S1</td><td>1</td><td>-0.92</td></tr><tr><th>2</th><td>D1</td><td>2</td><td>-1.05</td></tr><tr><th>3</th><td>O1</td><td>3</td><td>missing</td></tr><tr><th>4</th><td>O3</td><td>2</td><td>1.2</td></tr></tbody></table>"
      ],
      "text/plain": [
       "4×3 DataFrames.DataFrame\n",
       "│ Row │ Animal │ Age │ y       │\n",
       "├─────┼────────┼─────┼─────────┤\n",
       "│ 1   │ S1     │ 1   │ -0.92   │\n",
       "│ 2   │ D1     │ 2   │ -1.05   │\n",
       "│ 3   │ O1     │ 3   │ \u001b[90mmissing\u001b[39m │\n",
       "│ 4   │ O3     │ 2   │ 1.2     │"
      ]
     },
     "execution_count": 8,
     "metadata": {},
     "output_type": "execute_result"
    }
   ],
   "source": [
    "phenotype"
   ]
  },
  {
   "cell_type": "code",
   "execution_count": 9,
   "metadata": {
    "scrolled": true
   },
   "outputs": [
    {
     "name": "stderr",
     "output_type": "stream",
     "text": [
      "\u001b[32mcoding pedigree... 100%|████████████████████████████████| Time: 0:00:00\u001b[39m\n"
     ]
    },
    {
     "name": "stdout",
     "output_type": "stream",
     "text": [
      "Finished!\n"
     ]
    }
   ],
   "source": [
    "pedigree = get_pedigree(pedfile);"
   ]
  },
  {
   "cell_type": "code",
   "execution_count": 11,
   "metadata": {},
   "outputs": [],
   "source": [
    "residual_variance = 1.0\n",
    "genetic_variance  = 2.5\n",
    "genetic_variance_by_marker    = 1.5\n",
    "genetic_variance_by_polygenic = 1.0;"
   ]
  },
  {
   "cell_type": "code",
   "execution_count": 12,
   "metadata": {},
   "outputs": [],
   "source": [
    "model = build_model(\"y = intercept + Age + Animal\",residual_variance)\n",
    "set_covariate(model,\"Age\")\n",
    "set_random(model,\"Animal\",pedigree,genetic_variance_by_polygenic)"
   ]
  },
  {
   "cell_type": "code",
   "execution_count": 13,
   "metadata": {},
   "outputs": [
    {
     "name": "stdout",
     "output_type": "stream",
     "text": [
      "5 markers on 4 individuals were added.\n"
     ]
    }
   ],
   "source": [
    "add_markers(model,genofile,genetic_variance_by_marker,separator=',');"
   ]
  },
  {
   "cell_type": "markdown",
   "metadata": {},
   "source": [
    "<button type=\"button\" class=\"btn btn-lg btn-primary\">Run Model</button> "
   ]
  },
  {
   "cell_type": "code",
   "execution_count": 14,
   "metadata": {},
   "outputs": [
    {
     "name": "stdout",
     "output_type": "stream",
     "text": [
      "The prior for marker effects variance was calculated from genetic varaince and π.\n",
      "Marker effects variance is \n",
      "6.575342.\n",
      "\n",
      "\n",
      "MCMC Information:\n",
      "\n",
      "methods                                      BayesC\n",
      "chain_length                                   5000\n",
      "starting_value                                false\n",
      "printout_frequency                             5001\n",
      "output_samples_frequency                        100\n",
      "constraint                                    false\n",
      "missing_phenotypes                            false\n",
      "update_priors_frequency                           0\n",
      "\n",
      "Information for hyper-parameter: π (Π)\n",
      "π                                               0.9\n",
      "estimatePi                                     true\n",
      "\n",
      "Degree of freedom for hyper-parameters:\n",
      "residual variances:                           4.000\n",
      "iid random effect variances:                  4.000\n",
      "polygenic effect variances:                   4.000\n",
      "marker effect variances:                      4.000\n",
      "\n",
      "\n",
      "\n"
     ]
    },
    {
     "name": "stderr",
     "output_type": "stream",
     "text": [
      "\u001b[1m\u001b[33mWARNING: \u001b[39m\u001b[22m\u001b[33mThe file MCMC_samples_for_marker_effects already exists!!! It was overwritten by the new output.\u001b[39m\n",
      "\u001b[32mrunning MCMC for BayesC...100%|█████████████████████████| Time: 0:00:00\u001b[39m\n"
     ]
    }
   ],
   "source": [
    "output=runMCMC(model,phenotype,chain_length=5000,\n",
    "methods=\"BayesC\",Pi=0.9,estimatePi=true,output_samples_frequency=100);"
   ]
  },
  {
   "cell_type": "code",
   "execution_count": 15,
   "metadata": {},
   "outputs": [
    {
     "data": {
      "text/plain": [
       "Base.KeyIterator for a Dict{Any,Any} with 6 entries. Keys:\n",
       "  \"Posterior mean of marker effects\"\n",
       "  \"MCMC samples for residual variance\"\n",
       "  \"MCMC samples for: π\"\n",
       "  \"MCMC samples for polygenic effects var-cov parameters\"\n",
       "  \"Posterior mean of location parameters\"\n",
       "  \"Posterior mean of Pi\""
      ]
     },
     "execution_count": 15,
     "metadata": {},
     "output_type": "execute_result"
    }
   ],
   "source": [
    "keys(output)"
   ]
  },
  {
   "cell_type": "markdown",
   "metadata": {},
   "source": [
    "<button type=\"button\" class=\"btn btn-lg btn-primary\">Check Results</button> "
   ]
  },
  {
   "cell_type": "code",
   "execution_count": 16,
   "metadata": {},
   "outputs": [
    {
     "data": {
      "text/plain": [
       "7×2 Array{Any,2}:\n",
       " \"1:intercept : intercept\"  -1.76651  \n",
       " \"1:Age : Age\"               0.733556 \n",
       " \"1:Animal : S1\"             0.104319 \n",
       " \"1:Animal : D1\"            -0.0504889\n",
       " \"1:Animal : O1\"            -0.0406266\n",
       " \"1:Animal : O3\"             0.378959 \n",
       " \"1:Animal : O2\"             0.011537 "
      ]
     },
     "execution_count": 16,
     "metadata": {},
     "output_type": "execute_result"
    }
   ],
   "source": [
    "output[\"Posterior mean of location parameters\"]"
   ]
  },
  {
   "cell_type": "code",
   "execution_count": 17,
   "metadata": {},
   "outputs": [
    {
     "data": {
      "text/plain": [
       "5×2 Array{Any,2}:\n",
       " \"x1\"  -0.398951 \n",
       " \"x2\"  -0.088739 \n",
       " \"x3\"   0.125268 \n",
       " \"x4\"  -0.231774 \n",
       " \"x5\"   0.0903614"
      ]
     },
     "execution_count": 17,
     "metadata": {},
     "output_type": "execute_result"
    }
   ],
   "source": [
    "output[\"Posterior mean of marker effects\"]"
   ]
  },
  {
   "cell_type": "code",
   "execution_count": 18,
   "metadata": {},
   "outputs": [
    {
     "data": {
      "text/html": [
       "<img src=\"data:image/png;base64,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\" />"
      ]
     },
     "execution_count": 18,
     "metadata": {},
     "output_type": "execute_result"
    }
   ],
   "source": [
    "using Plots\n",
    "histogram(output[\"MCMC samples for: π\"])"
   ]
  },
  {
   "cell_type": "code",
   "execution_count": null,
   "metadata": {},
   "outputs": [],
   "source": []
  }
 ],
 "metadata": {
  "kernelspec": {
   "display_name": "Julia 0.6.2",
   "language": "julia",
   "name": "julia-0.6"
  },
  "language_info": {
   "file_extension": ".jl",
   "mimetype": "application/julia",
   "name": "julia",
   "version": "0.6.2"
  }
 },
 "nbformat": 4,
 "nbformat_minor": 1
}
