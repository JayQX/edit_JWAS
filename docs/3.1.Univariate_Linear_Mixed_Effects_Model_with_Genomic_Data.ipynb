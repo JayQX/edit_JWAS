{
 "cells": [
  {
   "cell_type": "markdown",
   "metadata": {},
   "source": [
    "<ul class=\"breadcrumb\">\n",
    "  <li><a href=\"1.1.Univaraite_Linear_Mixed_Effects_Model.ipynb\">Univariate Basics</a></li>\n",
    "  <li><a href=\"2.1.Univariate_Linear_Additive_Genetic_Model.ipynb\">Univariate Additive Genetic Model</a></li> \n",
    "  <li><a href=\"3.1.Univariate_Linear_Mixed_Effects_Model_with_Genomic_Data.ipynb\">Univariate Genomic Data</a></li>\n",
    "</ul>"
   ]
  },
  {
   "cell_type": "markdown",
   "metadata": {},
   "source": [
    "<div class=\"span5 alert alert-success\">\n",
    " <font size=\"5\" face=\"Georgia\">Univaraite Linear Mixed Effects Model with Genomic Data</font> \n",
    "</div>\n"
   ]
  },
  {
   "cell_type": "markdown",
   "metadata": {},
   "source": [
    "<button type=\"button\" class=\"btn btn-lg btn-primary\">Data</button>"
   ]
  },
  {
   "cell_type": "code",
   "execution_count": 1,
   "metadata": {},
   "outputs": [],
   "source": [
    "using DataFrames,CSV,JWAS,JWAS.Datasets"
   ]
  },
  {
   "cell_type": "code",
   "execution_count": 2,
   "metadata": {},
   "outputs": [],
   "source": [
    "phenofile = Datasets.dataset(\"testMME\",\"simple.txt\")\n",
    "genofile  = Datasets.dataset(\"testMME\",\"genotype.txt\")\n",
    "pedfile   = Datasets.dataset(\"testMME\",\"pedigree.txt\");"
   ]
  },
  {
   "cell_type": "code",
   "execution_count": 3,
   "metadata": {},
   "outputs": [
    {
     "name": "stdout",
     "output_type": "stream",
     "text": [
      "Animal,Age,y\n",
      "S1,1,-0.92\n",
      "D1,2,-1.05\n",
      "O1,3,-0.92\n",
      "O3,2,1.2\n"
     ]
    }
   ],
   "source": [
    ";cat $phenofile"
   ]
  },
  {
   "cell_type": "code",
   "execution_count": 4,
   "metadata": {},
   "outputs": [
    {
     "name": "stdout",
     "output_type": "stream",
     "text": [
      "Animal,x1,x2,x3,x4,x5\n",
      "S1,1,0,1,1,1\n",
      "D1,2,0,2,2,1\n",
      "O1,1,2,0,1,0\n",
      "O3,0,0,2,1,1\n"
     ]
    }
   ],
   "source": [
    ";cat $genofile"
   ]
  },
  {
   "cell_type": "code",
   "execution_count": 5,
   "metadata": {},
   "outputs": [
    {
     "name": "stdout",
     "output_type": "stream",
     "text": [
      "S1 0 0\n",
      "D1 0 0\n",
      "O1 S1 D1\n",
      "O2 S1 D1\n",
      "O3 S1 D1\n"
     ]
    }
   ],
   "source": [
    ";cat $pedfile"
   ]
  },
  {
   "cell_type": "markdown",
   "metadata": {},
   "source": [
    "<button type=\"button\" class=\"btn btn-lg btn-primary\">Build Model</button> "
   ]
  },
  {
   "cell_type": "code",
   "execution_count": 7,
   "metadata": {},
   "outputs": [],
   "source": [
    "phenotype = CSV.read(phenofile,delim = ',',header=true,null=\"NA\");"
   ]
  },
  {
   "cell_type": "code",
   "execution_count": 8,
   "metadata": {},
   "outputs": [
    {
     "data": {
      "text/html": [
       "<table class=\"data-frame\"><thead><tr><th></th><th>Animal</th><th>Age</th><th>y</th></tr></thead><tbody><tr><th>1</th><td>S1</td><td>1</td><td>-0.92</td></tr><tr><th>2</th><td>D1</td><td>2</td><td>-1.05</td></tr><tr><th>3</th><td>O1</td><td>3</td><td>-0.92</td></tr><tr><th>4</th><td>O3</td><td>2</td><td>1.2</td></tr></tbody></table>"
      ],
      "text/plain": [
       "4×3 DataFrames.DataFrame\n",
       "│ Row │ Animal │ Age │ y     │\n",
       "├─────┼────────┼─────┼───────┤\n",
       "│ 1   │ S1     │ 1   │ -0.92 │\n",
       "│ 2   │ D1     │ 2   │ -1.05 │\n",
       "│ 3   │ O1     │ 3   │ -0.92 │\n",
       "│ 4   │ O3     │ 2   │ 1.2   │"
      ]
     },
     "execution_count": 8,
     "metadata": {},
     "output_type": "execute_result"
    }
   ],
   "source": [
    "phenotype"
   ]
  },
  {
   "cell_type": "code",
   "execution_count": 9,
   "metadata": {
    "scrolled": true
   },
   "outputs": [
    {
     "name": "stderr",
     "output_type": "stream",
     "text": [
      "\u001b[32mcoding pedigree... 100%|████████████████████████████████| Time: 0:00:00\u001b[39m"
     ]
    },
    {
     "name": "stdout",
     "output_type": "stream",
     "text": [
      "Finished!\n"
     ]
    },
    {
     "name": "stderr",
     "output_type": "stream",
     "text": [
      "\n"
     ]
    }
   ],
   "source": [
    "pedigree = get_pedigree(pedfile);"
   ]
  },
  {
   "cell_type": "code",
   "execution_count": 10,
   "metadata": {},
   "outputs": [],
   "source": [
    "residual_variance = 1.0\n",
    "genetic_variance  = 2.5\n",
    "genetic_variance_by_marker    = 1.5\n",
    "genetic_variance_by_polygenic = 1.0;"
   ]
  },
  {
   "cell_type": "code",
   "execution_count": 11,
   "metadata": {},
   "outputs": [],
   "source": [
    "model = build_model(\"y = intercept + Age + Animal\",residual_variance)\n",
    "set_covariate(model,\"Age\")\n",
    "set_random(model,\"Animal\",pedigree,genetic_variance_by_polygenic)"
   ]
  },
  {
   "cell_type": "code",
   "execution_count": 12,
   "metadata": {},
   "outputs": [
    {
     "name": "stdout",
     "output_type": "stream",
     "text": [
      "5 markers on 4 individuals were added.\n"
     ]
    }
   ],
   "source": [
    "add_markers(model,genofile,genetic_variance_by_marker,separator=',');\n",
    "#add_markers(model,map(Float64,M),genetic_variance_by_marker,separator=',');"
   ]
  },
  {
   "cell_type": "markdown",
   "metadata": {},
   "source": [
    "<button type=\"button\" class=\"btn btn-lg btn-primary\">Run Model</button> "
   ]
  },
  {
   "cell_type": "code",
   "execution_count": 13,
   "metadata": {},
   "outputs": [
    {
     "name": "stdout",
     "output_type": "stream",
     "text": [
      "The prior for marker effects variance was calculated from genetic varaince and π.\n",
      "Marker effects variance is \n",
      "6.575342.\n",
      "\n",
      "\n",
      "MCMC Information:\n",
      "\n",
      "methods                                      BayesC\n",
      "chain_length                                   5000\n",
      "starting_value                                false\n",
      "printout_frequency                             5001\n",
      "output_samples_frequency                        100\n",
      "constraint                                    false\n",
      "missing_phenotypes                            false\n",
      "update_priors_frequency                           0\n",
      "\n",
      "Information for hyper-parameter: π (Π)\n",
      "π                                               0.9\n",
      "estimatePi                                     true\n",
      "\n",
      "Degree of freedom for hyper-parameters:\n",
      "residual variances:                           4.000\n",
      "iid random effect variances:                  4.000\n",
      "polygenic effect variances:                   4.000\n",
      "marker effect variances:                      4.000\n",
      "\n",
      "\n",
      "\n"
     ]
    },
    {
     "name": "stderr",
     "output_type": "stream",
     "text": [
      "\u001b[1m\u001b[36mINFO: \u001b[39m\u001b[22m\u001b[36mThe file MCMC_samples_for_marker_effects was created to save MCMC samples for marker effects.\n",
      "\u001b[32mrunning MCMC for BayesC...100%|█████████████████████████| Time: 0:00:01\u001b[39m\n"
     ]
    }
   ],
   "source": [
    "output=runMCMC(model,phenotype,chain_length=5000,\n",
    "methods=\"BayesC\",Pi=0.9,estimatePi=true,output_samples_frequency=100);"
   ]
  },
  {
   "cell_type": "code",
   "execution_count": 14,
   "metadata": {},
   "outputs": [
    {
     "data": {
      "text/plain": [
       "Base.KeyIterator for a Dict{Any,Any} with 6 entries. Keys:\n",
       "  \"Posterior mean of marker effects\"\n",
       "  \"MCMC samples for residual variance\"\n",
       "  \"MCMC samples for: π\"\n",
       "  \"MCMC samples for polygenic effects var-cov parameters\"\n",
       "  \"Posterior mean of location parameters\"\n",
       "  \"Posterior mean of Pi\""
      ]
     },
     "execution_count": 14,
     "metadata": {},
     "output_type": "execute_result"
    }
   ],
   "source": [
    "keys(output)"
   ]
  },
  {
   "cell_type": "markdown",
   "metadata": {},
   "source": [
    "<button type=\"button\" class=\"btn btn-lg btn-primary\">Check Results</button> "
   ]
  },
  {
   "cell_type": "code",
   "execution_count": 15,
   "metadata": {},
   "outputs": [
    {
     "data": {
      "text/plain": [
       "7×2 Array{Any,2}:\n",
       " \"1:intercept : intercept\"  -1.5575   \n",
       " \"1:Age : Age\"               0.543525 \n",
       " \"1:Animal : S1\"             0.0583083\n",
       " \"1:Animal : D1\"            -0.0574181\n",
       " \"1:Animal : O1\"            -0.117227 \n",
       " \"1:Animal : O3\"             0.333354 \n",
       " \"1:Animal : O2\"             0.0237369"
      ]
     },
     "execution_count": 15,
     "metadata": {},
     "output_type": "execute_result"
    }
   ],
   "source": [
    "output[\"Posterior mean of location parameters\"]"
   ]
  },
  {
   "cell_type": "code",
   "execution_count": 16,
   "metadata": {},
   "outputs": [
    {
     "data": {
      "text/plain": [
       "5-element Array{Float64,1}:\n",
       " -0.458677\n",
       " -0.299109\n",
       "  0.16386 \n",
       " -0.190522\n",
       "  0.17547 "
      ]
     },
     "execution_count": 16,
     "metadata": {},
     "output_type": "execute_result"
    }
   ],
   "source": [
    "output[\"Posterior mean of marker effects\"]"
   ]
  },
  {
   "cell_type": "code",
   "execution_count": 17,
   "metadata": {},
   "outputs": [
    {
     "name": "stderr",
     "output_type": "stream",
     "text": [
      "\u001b[1m\u001b[36mINFO: \u001b[39m\u001b[22m\u001b[36mPrecompiling module Plots.\n",
      "\u001b[39m\u001b[1m\u001b[36mINFO: \u001b[39m\u001b[22m\u001b[36mRecompiling stale cache file /Users/haocheng/.julia/lib/v0.6/PyPlot.ji for module PyPlot.\n",
      "\u001b[39m"
     ]
    },
    {
     "data": {
      "text/html": [
       "<img src=\"data:image/png;base64,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\" />"
      ]
     },
     "execution_count": 17,
     "metadata": {},
     "output_type": "execute_result"
    }
   ],
   "source": [
    "using Plots\n",
    "histogram(output[\"MCMC samples for: π\"])"
   ]
  },
  {
   "cell_type": "code",
   "execution_count": null,
   "metadata": {},
   "outputs": [],
   "source": []
  }
 ],
 "metadata": {
  "kernelspec": {
   "display_name": "Julia 0.6.2",
   "language": "julia",
   "name": "julia-0.6"
  },
  "language_info": {
   "file_extension": ".jl",
   "mimetype": "application/julia",
   "name": "julia",
   "version": "0.6.2"
  }
 },
 "nbformat": 4,
 "nbformat_minor": 1
}
