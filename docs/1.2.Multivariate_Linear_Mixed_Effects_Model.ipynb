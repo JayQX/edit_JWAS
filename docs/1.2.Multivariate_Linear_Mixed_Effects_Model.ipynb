{
 "cells": [
  {
   "cell_type": "markdown",
   "metadata": {},
   "source": [
    "<ul class=\"breadcrumb\">\n",
    "  <li><a href=\"2.1.Multivariate_Linear_Mixed_Effects_Model.ipynb\">Multivariate Basics</a></li>\n",
    "  <li><a href=\"2.2.Multivariate_Linear_Additive_Genetic_Model.ipynb\">Multivariate Additive Genetic Model</a></li> \n",
    "  <li><a href=\"2.3.Multivariate_Linear_Mixed_Effects_Model_with_Genomic_Data.ipynb\">Multivariate Genomic Data</a></li>\n",
    "</ul>"
   ]
  },
  {
   "cell_type": "markdown",
   "metadata": {},
   "source": [
    "<div class=\"span5 alert alert-success\">\n",
    " <font size=\"5\" face=\"Georgia\">The Multivariate Linear Mixed Effects Model</font> \n",
    "</div>"
   ]
  },
  {
   "cell_type": "code",
   "execution_count": 1,
   "metadata": {
    "collapsed": false
   },
   "outputs": [],
   "source": [
    "using DataFrames,JWAS,JWAS.Datasets"
   ]
  },
  {
   "cell_type": "markdown",
   "metadata": {},
   "source": [
    "<button type=\"button\" class=\"btn btn-lg btn-primary\">Data</button> "
   ]
  },
  {
   "cell_type": "code",
   "execution_count": 2,
   "metadata": {
    "collapsed": false
   },
   "outputs": [
    {
     "data": {
      "text/html": [
       "<table class=\"data-frame\"><tr><th></th><th>sow</th><th>site</th><th>yr</th><th>age</th><th>geneticCode</th><th>parity</th><th>nwn</th><th>SYS</th><th>bw</th></tr><tr><th>1</th><td>100-113</td><td>113</td><td>2005</td><td>18</td><td>PIC 1</td><td>1</td><td>8</td><td>113_2005_WNTR</td><td>9.0</td></tr><tr><th>2</th><td>100-113</td><td>113</td><td>2006</td><td>18</td><td>PIC 1</td><td>2</td><td>12</td><td>113_2006_SPNG</td><td>8.0</td></tr><tr><th>3</th><td>100-5</td><td>5</td><td>2008</td><td>15</td><td>PIC 2</td><td>1</td><td>10</td><td>5_2008_ATMN</td><td>7.5</td></tr><tr><th>4</th><td>1000-5</td><td>5</td><td>2009</td><td>17</td><td>PIC 2</td><td>1</td><td>10</td><td>5_2009_SPNG</td><td>8.3</td></tr><tr><th>5</th><td>10000-13</td><td>13</td><td>2004</td><td>16</td><td>Commercial</td><td>1</td><td>9</td><td>13_2004_WNTR</td><td>4.3</td></tr><tr><th>6</th><td>10000-13</td><td>13</td><td>2004</td><td>18</td><td>Commercial</td><td>2</td><td>10</td><td>13_2004_SMMR</td><td>2.8</td></tr><tr><th>7</th><td>10000-13</td><td>13</td><td>2004</td><td>20</td><td>Commercial</td><td>3</td><td>11</td><td>13_2004_ATMN</td><td>3.9</td></tr><tr><th>8</th><td>10000-13</td><td>13</td><td>2005</td><td>18</td><td>Commercial</td><td>4</td><td>11</td><td>13_2005_SPNG</td><td>10.0</td></tr><tr><th>9</th><td>10000-13</td><td>13</td><td>2005</td><td>25</td><td>Commercial</td><td>5</td><td>7</td><td>13_2005_ATMN</td><td>4.0</td></tr><tr><th>10</th><td>10000-6</td><td>6</td><td>2012</td><td>17</td><td>PIC C27</td><td>1</td><td>12</td><td>6_2012_ATMN</td><td>8.9</td></tr></table>"
      ],
      "text/plain": [
       "10×9 DataFrames.DataFrame\n",
       "│ Row │ sow        │ site │ yr   │ age │ geneticCode  │ parity │ nwn │\n",
       "├─────┼────────────┼──────┼──────┼─────┼──────────────┼────────┼─────┤\n",
       "│ 1   │ \"100-113\"  │ 113  │ 2005 │ 18  │ \"PIC 1\"      │ 1      │ 8   │\n",
       "│ 2   │ \"100-113\"  │ 113  │ 2006 │ 18  │ \"PIC 1\"      │ 2      │ 12  │\n",
       "│ 3   │ \"100-5\"    │ 5    │ 2008 │ 15  │ \"PIC 2\"      │ 1      │ 10  │\n",
       "│ 4   │ \"1000-5\"   │ 5    │ 2009 │ 17  │ \"PIC 2\"      │ 1      │ 10  │\n",
       "│ 5   │ \"10000-13\" │ 13   │ 2004 │ 16  │ \"Commercial\" │ 1      │ 9   │\n",
       "│ 6   │ \"10000-13\" │ 13   │ 2004 │ 18  │ \"Commercial\" │ 2      │ 10  │\n",
       "│ 7   │ \"10000-13\" │ 13   │ 2004 │ 20  │ \"Commercial\" │ 3      │ 11  │\n",
       "│ 8   │ \"10000-13\" │ 13   │ 2005 │ 18  │ \"Commercial\" │ 4      │ 11  │\n",
       "│ 9   │ \"10000-13\" │ 13   │ 2005 │ 25  │ \"Commercial\" │ 5      │ 7   │\n",
       "│ 10  │ \"10000-6\"  │ 6    │ 2012 │ 17  │ \"PIC C27\"    │ 1      │ 12  │\n",
       "\n",
       "│ Row │ SYS             │ bw   │\n",
       "├─────┼─────────────────┼──────┤\n",
       "│ 1   │ \"113_2005_WNTR\" │ 9.0  │\n",
       "│ 2   │ \"113_2006_SPNG\" │ 8.0  │\n",
       "│ 3   │ \"5_2008_ATMN\"   │ 7.5  │\n",
       "│ 4   │ \"5_2009_SPNG\"   │ 8.3  │\n",
       "│ 5   │ \"13_2004_WNTR\"  │ 4.3  │\n",
       "│ 6   │ \"13_2004_SMMR\"  │ 2.8  │\n",
       "│ 7   │ \"13_2004_ATMN\"  │ 3.9  │\n",
       "│ 8   │ \"13_2005_SPNG\"  │ 10.0 │\n",
       "│ 9   │ \"13_2005_ATMN\"  │ 4.0  │\n",
       "│ 10  │ \"6_2012_ATMN\"   │ 8.9  │"
      ]
     },
     "execution_count": 2,
     "metadata": {},
     "output_type": "execute_result"
    }
   ],
   "source": [
    "phenofile = Datasets.dataset(\"testMME\",\"data.txt\")\n",
    "data      = readtable(phenofile,separator = ',',header=true)"
   ]
  },
  {
   "cell_type": "markdown",
   "metadata": {},
   "source": [
    "<button type=\"button\" class=\"btn btn-lg btn-primary\">Build Model</button> "
   ]
  },
  {
   "cell_type": "markdown",
   "metadata": {},
   "source": [
    "#### set up model equations"
   ]
  },
  {
   "cell_type": "code",
   "execution_count": 9,
   "metadata": {
    "collapsed": false
   },
   "outputs": [],
   "source": [
    "model_equations    = \"nwn = intercept+parity*site+ age\n",
    "                      bw = intercept+parity*site+ age\";\n",
    "\n",
    "residual_variance = [10.0 2.0\n",
    "                      2.0 1.0];"
   ]
  },
  {
   "cell_type": "code",
   "execution_count": 10,
   "metadata": {
    "collapsed": false
   },
   "outputs": [],
   "source": [
    "model = build_model(model_equations,residual_variance);"
   ]
  },
  {
   "cell_type": "markdown",
   "metadata": {},
   "source": [
    "#### set variables as covariate (all variables are set as factors by default)"
   ]
  },
  {
   "cell_type": "code",
   "execution_count": 11,
   "metadata": {
    "collapsed": false
   },
   "outputs": [],
   "source": [
    "set_covariate(model,\"age\");"
   ]
  },
  {
   "cell_type": "markdown",
   "metadata": {},
   "source": [
    "<button type=\"button\" class=\"btn btn-lg btn-primary\">Run Model</button> "
   ]
  },
  {
   "cell_type": "code",
   "execution_count": 12,
   "metadata": {
    "collapsed": false
   },
   "outputs": [
    {
     "name": "stdout",
     "output_type": "stream",
     "text": [
      "MCMC Information:\n",
      "methods                        conventional (no markers)\n",
      "chain_length                                  10000\n",
      "estimatePi                                    false\n",
      "constraint                                    false\n",
      "missing_phenotypes                            false\n",
      "starting_value                                false\n",
      "output_samples_frequency                        100\n",
      "printout_frequency                            10001\n",
      "\n",
      "Degree of freedom for hyper-parameters:\n",
      "residual variances:                           4.000\n",
      "iid random effect variances:                  4.000\n",
      "polygenic effect variances:                   4.000\n",
      "marker effect variances:                      4.000\n",
      "\n",
      "\n",
      "\n",
      "running MCMC for conventional (no markers)...100%|██████| Time: 0:00:02\n"
     ]
    }
   ],
   "source": [
    "outputMCMCsamples(model,\"age\");\n",
    "out=runMCMC(model,data,chain_length=10000,output_samples_frequency=100);"
   ]
  },
  {
   "cell_type": "markdown",
   "metadata": {},
   "source": [
    "<button type=\"button\" class=\"btn btn-lg btn-primary\">Check Results</button> "
   ]
  },
  {
   "cell_type": "code",
   "execution_count": 13,
   "metadata": {
    "collapsed": false
   },
   "outputs": [
    {
     "data": {
      "text/plain": [
       "Base.KeyIterator for a Dict{Any,Any} with 5 entries. Keys:\n",
       "  \"Posterior mean of residual covariance matrix\"\n",
       "  \"MCMC samples for: 1:age\"\n",
       "  \"MCMC samples for: 2:age\"\n",
       "  \"MCMC samples for residual covariance matrix\"\n",
       "  \"Posterior mean of location parameters\""
      ]
     },
     "execution_count": 13,
     "metadata": {},
     "output_type": "execute_result"
    }
   ],
   "source": [
    "keys(out)"
   ]
  },
  {
   "cell_type": "code",
   "execution_count": 14,
   "metadata": {
    "collapsed": false
   },
   "outputs": [
    {
     "data": {
      "text/plain": [
       "22x2 Array{Any,2}:\n",
       " \"1:intercept : intercept\"   16.2861  \n",
       " \"1:parity*site : 1 * 113\"  -21.4     \n",
       " \"1:parity*site : 2 * 113\"  -17.3969  \n",
       " \"1:parity*site : 1 * 5\"    -17.8752  \n",
       " \"1:parity*site : 1 * 13\"   -18.8202  \n",
       " \"1:parity*site : 2 * 13\"   -19.3936  \n",
       " \"1:parity*site : 3 * 13\"   -19.6934  \n",
       " \"1:parity*site : 4 * 13\"   -18.3825  \n",
       " \"1:parity*site : 5 * 13\"   -27.3456  \n",
       " \"1:parity*site : 1 * 6\"    -16.5704  \n",
       " \"1:age : age\"                0.7229  \n",
       " \"2:intercept : intercept\"    4.74538 \n",
       " \"2:parity*site : 1 * 113\"   -2.5794  \n",
       " \"2:parity*site : 2 * 113\"   -3.58803 \n",
       " \"2:parity*site : 1 * 5\"     -2.90829 \n",
       " \"2:parity*site : 1 * 13\"    -6.49124 \n",
       " \"2:parity*site : 2 * 13\"    -8.8013  \n",
       " \"2:parity*site : 3 * 13\"    -8.39953 \n",
       " \"2:parity*site : 4 * 13\"    -1.60111 \n",
       " \"2:parity*site : 5 * 13\"   -10.2217  \n",
       " \"2:parity*site : 1 * 6\"     -2.2948  \n",
       " \"2:age : age\"                0.378996"
      ]
     },
     "execution_count": 14,
     "metadata": {},
     "output_type": "execute_result"
    }
   ],
   "source": [
    "out[\"Posterior mean of location parameters\"]"
   ]
  },
  {
   "cell_type": "code",
   "execution_count": 17,
   "metadata": {
    "collapsed": false
   },
   "outputs": [
    {
     "data": {
      "text/plain": [
       "1x101 Array{Any,2}:\n",
       " \"2:age : age\"  0.201385  0.312227  …  0.0772481  0.172825  0.116788"
      ]
     },
     "execution_count": 17,
     "metadata": {},
     "output_type": "execute_result"
    }
   ],
   "source": [
    "outsample=out[\"MCMC samples for: 2:age\"]"
   ]
  },
  {
   "cell_type": "code",
   "execution_count": 18,
   "metadata": {
    "collapsed": false
   },
   "outputs": [
    {
     "data": {
      "text/html": [
       "<img src=\"data:image/png;base64,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\" />"
      ]
     },
     "execution_count": 18,
     "metadata": {},
     "output_type": "execute_result"
    }
   ],
   "source": [
    "using Plots\n",
    "histogram(outsample[2:end])"
   ]
  }
 ],
 "metadata": {
  "kernelspec": {
   "display_name": "Julia 0.4.6",
   "language": "julia",
   "name": "julia-0.4"
  },
  "language_info": {
   "file_extension": ".jl",
   "mimetype": "application/julia",
   "name": "julia",
   "version": "0.4.6"
  }
 },
 "nbformat": 4,
 "nbformat_minor": 0
}
