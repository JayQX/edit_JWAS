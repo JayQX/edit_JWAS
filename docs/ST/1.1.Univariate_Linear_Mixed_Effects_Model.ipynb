{
 "cells": [
  {
   "cell_type": "markdown",
   "metadata": {},
   "source": [
    "<ul class=\"breadcrumb\">\n",
    "  <li><a href=\"1.1.Univaraite_Linear_Mixed_Effects_Model.ipynb\">Univariate Basics</a></li>\n",
    "  <li><a href=\"1.2.Univariate_Linear_Additive_Genetic_Model.ipynb\">Univariate Additive Genetic Model</a></li> \n",
    "  <li><a href=\"1.3.Univariate_Linear_Mixed_Effects_Model_with_Genomic_Data.ipynb\">Univariate Genomic Data</a></li>\n",
    "</ul>"
   ]
  },
  {
   "cell_type": "markdown",
   "metadata": {},
   "source": [
    "<div class=\"span5 alert alert-success\">\n",
    " <font size=\"5\" face=\"Georgia\">Univaraite Linear Mixed Effects Model</font> \n",
    "</div>"
   ]
  },
  {
   "cell_type": "code",
   "execution_count": 2,
   "metadata": {
    "collapsed": false
   },
   "outputs": [],
   "source": [
    "using DataFrames\n",
    "using JWAS: ST,Datasets"
   ]
  },
  {
   "cell_type": "markdown",
   "metadata": {},
   "source": [
    "<button type=\"button\" class=\"btn btn-lg btn-primary\">Data</button> "
   ]
  },
  {
   "cell_type": "code",
   "execution_count": 3,
   "metadata": {
    "collapsed": false
   },
   "outputs": [
    {
     "data": {
      "text/html": [
       "<table class=\"data-frame\"><tr><th></th><th>sow</th><th>site</th><th>yr</th><th>age</th><th>geneticCode</th><th>parity</th><th>nwn</th><th>SYS</th></tr><tr><th>1</th><td>100-113</td><td>113</td><td>2005</td><td>18</td><td>PIC 1</td><td>1</td><td>8</td><td>113_2005_WNTR</td></tr><tr><th>2</th><td>100-113</td><td>113</td><td>2006</td><td>18</td><td>PIC 1</td><td>2</td><td>12</td><td>113_2006_SPNG</td></tr><tr><th>3</th><td>100-5</td><td>5</td><td>2008</td><td>15</td><td>PIC 2</td><td>1</td><td>10</td><td>5_2008_ATMN</td></tr><tr><th>4</th><td>1000-5</td><td>5</td><td>2009</td><td>17</td><td>PIC 2</td><td>1</td><td>10</td><td>5_2009_SPNG</td></tr><tr><th>5</th><td>10000-13</td><td>13</td><td>2004</td><td>16</td><td>Commercial</td><td>1</td><td>9</td><td>13_2004_WNTR</td></tr><tr><th>6</th><td>10000-13</td><td>13</td><td>2004</td><td>18</td><td>Commercial</td><td>2</td><td>10</td><td>13_2004_SMMR</td></tr><tr><th>7</th><td>10000-13</td><td>13</td><td>2004</td><td>20</td><td>Commercial</td><td>3</td><td>11</td><td>13_2004_ATMN</td></tr><tr><th>8</th><td>10000-13</td><td>13</td><td>2005</td><td>18</td><td>Commercial</td><td>4</td><td>11</td><td>13_2005_SPNG</td></tr><tr><th>9</th><td>10000-13</td><td>13</td><td>2005</td><td>25</td><td>Commercial</td><td>5</td><td>7</td><td>13_2005_ATMN</td></tr><tr><th>10</th><td>10000-6</td><td>6</td><td>2012</td><td>17</td><td>PIC C27</td><td>1</td><td>12</td><td>6_2012_ATMN</td></tr></table>"
      ],
      "text/plain": [
       "10×8 DataFrames.DataFrame\n",
       "│ Row │ sow        │ site │ yr   │ age │ geneticCode  │ parity │ nwn │\n",
       "├─────┼────────────┼──────┼──────┼─────┼──────────────┼────────┼─────┤\n",
       "│ 1   │ \"100-113\"  │ 113  │ 2005 │ 18  │ \"PIC 1\"      │ 1      │ 8   │\n",
       "│ 2   │ \"100-113\"  │ 113  │ 2006 │ 18  │ \"PIC 1\"      │ 2      │ 12  │\n",
       "│ 3   │ \"100-5\"    │ 5    │ 2008 │ 15  │ \"PIC 2\"      │ 1      │ 10  │\n",
       "│ 4   │ \"1000-5\"   │ 5    │ 2009 │ 17  │ \"PIC 2\"      │ 1      │ 10  │\n",
       "│ 5   │ \"10000-13\" │ 13   │ 2004 │ 16  │ \"Commercial\" │ 1      │ 9   │\n",
       "│ 6   │ \"10000-13\" │ 13   │ 2004 │ 18  │ \"Commercial\" │ 2      │ 10  │\n",
       "│ 7   │ \"10000-13\" │ 13   │ 2004 │ 20  │ \"Commercial\" │ 3      │ 11  │\n",
       "│ 8   │ \"10000-13\" │ 13   │ 2005 │ 18  │ \"Commercial\" │ 4      │ 11  │\n",
       "│ 9   │ \"10000-13\" │ 13   │ 2005 │ 25  │ \"Commercial\" │ 5      │ 7   │\n",
       "│ 10  │ \"10000-6\"  │ 6    │ 2012 │ 17  │ \"PIC C27\"    │ 1      │ 12  │\n",
       "\n",
       "│ Row │ SYS             │\n",
       "├─────┼─────────────────┤\n",
       "│ 1   │ \"113_2005_WNTR\" │\n",
       "│ 2   │ \"113_2006_SPNG\" │\n",
       "│ 3   │ \"5_2008_ATMN\"   │\n",
       "│ 4   │ \"5_2009_SPNG\"   │\n",
       "│ 5   │ \"13_2004_WNTR\"  │\n",
       "│ 6   │ \"13_2004_SMMR\"  │\n",
       "│ 7   │ \"13_2004_ATMN\"  │\n",
       "│ 8   │ \"13_2005_SPNG\"  │\n",
       "│ 9   │ \"13_2005_ATMN\"  │\n",
       "│ 10  │ \"6_2012_ATMN\"   │"
      ]
     },
     "execution_count": 3,
     "metadata": {},
     "output_type": "execute_result"
    }
   ],
   "source": [
    "phenofile = Datasets.dataset(\"testMME\",\"data.txt\")\n",
    "data      = readtable(phenofile,separator = ',',header=true)"
   ]
  },
  {
   "cell_type": "markdown",
   "metadata": {},
   "source": [
    "<button type=\"button\" class=\"btn btn-lg btn-primary\">Build Model</button> "
   ]
  },
  {
   "cell_type": "code",
   "execution_count": 4,
   "metadata": {
    "collapsed": false
   },
   "outputs": [
    {
     "data": {
      "text/plain": [
       "\"nwn = intercept + parity + site + parity*site + yr + geneticCode + age + sow + SYS\""
      ]
     },
     "execution_count": 4,
     "metadata": {},
     "output_type": "execute_result"
    }
   ],
   "source": [
    "model  = \"nwn = intercept + parity + site + parity*site + yr + geneticCode + age + sow + SYS\""
   ]
  },
  {
   "cell_type": "code",
   "execution_count": 5,
   "metadata": {
    "collapsed": false
   },
   "outputs": [],
   "source": [
    "varRes = 2.97\n",
    "mme    = build_model(model,varRes)\n",
    "\n",
    "set_covariate(mme,\"age\")\n",
    "\n",
    "ν      = 4.0      \n",
    "v1     = 0.26\n",
    "set_random(mme,\"sow\",v1,ν);"
   ]
  },
  {
   "cell_type": "markdown",
   "metadata": {},
   "source": [
    "<button type=\"button\" class=\"btn btn-lg btn-primary\">Run Model</button> "
   ]
  },
  {
   "cell_type": "code",
   "execution_count": 6,
   "metadata": {
    "collapsed": true
   },
   "outputs": [],
   "source": [
    "outputMCMCsamples(mme,\"parity\",\"age\");"
   ]
  },
  {
   "cell_type": "code",
   "execution_count": 7,
   "metadata": {
    "collapsed": false
   },
   "outputs": [
    {
     "name": "stdout",
     "output_type": "stream",
     "text": [
      "running MCMC for conventional analyses... 37%|████      |  ETA: 0:00:01\n",
      "Posterior means at iteration: 20000\n",
      "Residual variance: 2.887\n",
      "running MCMC for conventional analyses... 79%|████████  |  ETA: 0:00:00\n",
      "Posterior means at iteration: 40000\n",
      "Residual variance: 2.929\n",
      "running MCMC for conventional analyses...100%|██████████| Time: 0:00:02\n"
     ]
    }
   ],
   "source": [
    "out=runMCMC(mme,data,chain_length=50000,printout_frequency=20000);"
   ]
  },
  {
   "cell_type": "markdown",
   "metadata": {},
   "source": [
    "<button type=\"button\" class=\"btn btn-lg btn-primary\">Check Results</button> "
   ]
  },
  {
   "cell_type": "code",
   "execution_count": 8,
   "metadata": {
    "collapsed": false
   },
   "outputs": [
    {
     "data": {
      "text/plain": [
       "Base.KeyIterator for a Dict{Any,Any} with 5 entries. Keys:\n",
       "  \"Posterior Mean of Location Parameters\"\n",
       "  \"MCMC samples for residual variance\"\n",
       "  \"MCMC samples for: parity\"\n",
       "  \"MCMC samples for: age\"\n",
       "  \"MCMC samples for: variance of sow\""
      ]
     },
     "execution_count": 8,
     "metadata": {},
     "output_type": "execute_result"
    }
   ],
   "source": [
    "keys(out)"
   ]
  },
  {
   "cell_type": "code",
   "execution_count": 9,
   "metadata": {
    "collapsed": false
   },
   "outputs": [
    {
     "data": {
      "text/plain": [
       "45x2 Array{Any,2}:\n",
       " \"intercept: intercept\"    -3.23778   \n",
       " \"parity: 1\"              -30.9002    \n",
       " \"parity: 2\"             -298.289     \n",
       " \"parity: 3\"             -336.32      \n",
       " \"parity: 4\"               26.5529    \n",
       " \"parity: 5\"               86.7543    \n",
       " \"site: 113\"             -167.711     \n",
       " \"site: 5\"                142.728     \n",
       " \"site: 13\"               143.866     \n",
       " \"site: 6\"               -426.39      \n",
       " \"parity*site: 1 x 113\"  -357.482     \n",
       " \"parity*site: 2 x 113\"   305.003     \n",
       " \"parity*site: 1 x 5\"    -360.032     \n",
       " ⋮                                    \n",
       " \"sow: 10000-13\"            0.00138753\n",
       " \"sow: 10000-6\"            -5.77325e-5\n",
       " \"SYS: 113_2005_WNTR\"     834.522     \n",
       " \"SYS: 113_2006_SPNG\"     106.854     \n",
       " \"SYS: 5_2008_ATMN\"       211.706     \n",
       " \"SYS: 5_2009_SPNG\"       422.961     \n",
       " \"SYS: 13_2004_WNTR\"     -170.488     \n",
       " \"SYS: 13_2004_SMMR\"      843.257     \n",
       " \"SYS: 13_2004_ATMN\"      -50.5303    \n",
       " \"SYS: 13_2005_SPNG\"       29.2274    \n",
       " \"SYS: 13_2005_ATMN\"      -97.9552    \n",
       " \"SYS: 6_2012_ATMN\"       345.976     "
      ]
     },
     "execution_count": 9,
     "metadata": {},
     "output_type": "execute_result"
    }
   ],
   "source": [
    "out[\"Posterior Mean of Location Parameters\"]"
   ]
  },
  {
   "cell_type": "code",
   "execution_count": 23,
   "metadata": {
    "collapsed": false
   },
   "outputs": [
    {
     "data": {
      "text/html": [
       "<script src=\"/Users/haocheng/.julia/v0.4/Plots/deps/plotly-latest.min.js\"></script>    <div id=\"74b11162-12ab-469d-99a5-db033cc821f6\" style=\"width:600px;height:400px;\"></div>\n",
       "    <script>\n",
       "    PLOT = document.getElementById('74b11162-12ab-469d-99a5-db033cc821f6');\n",
       "    Plotly.plot(PLOT, [{\"yaxis\":\"y\",\"y\":[103.0,312.0,565.0,970.0,1202.0,1651.0,2389.0,1892.0,2229.0,1882.0,2102.0,1949.0,1414.0,1804.0,2119.0,2789.0,3641.0,3274.0,3494.0,3146.0,2725.0,2652.0,1705.0,1238.0,1079.0,777.0,386.0,277.0,153.0,81.0],\"showlegend\":true,\"name\":\"y1\",\"type\":\"bar\",\"xaxis\":\"x\",\"orientation\":\"v\",\"x\":[-4.210523280315763,-3.9947747804362,-3.7790262805566375,-3.563277780677075,-3.347529280797512,-3.1317807809179494,-2.916032281038387,-2.700283781158824,-2.4845352812792614,-2.2687867813996987,-2.053038281520136,-1.8372897816405735,-1.6215412817610104,-1.405792781881448,-1.190044282001885,-0.9742957821223224,-0.7585472822427597,-0.5427987823631971,-0.32705028248363444,-0.11130178260407154,0.10444671727549111,0.3201952171550538,0.5359437170346164,0.7516922169141791,0.967440716793742,1.1831892166733047,1.3989377165528676,1.6146862164324298,1.8304347163119927,2.0461832161915554,2.261931716071118]}], {\"yaxis\":{\"type\":\"-\",\"titlefont\":{\"size\":15,\"color\":\"rgba(0, 0, 0, 1.000)\",\"family\":\"Helvetica\"},\"title\":\"\",\"tickfont\":{\"size\":11,\"color\":\"rgba(0, 0, 0, 1.000)\",\"family\":\"Helvetica\"},\"tickmode\":\"array\",\"showgrid\":true,\"tickvals\":[0.0,1000.0,2000.0,3000.0],\"domain\":[0.057305336832895896,0.9901574803149605],\"ticktext\":[\"0\",\"1000\",\"2000\",\"3000\"],\"zeroline\":false,\"linecolor\":\"rgba(0, 0, 0, 1.000)\",\"tickcolor\":\"rgba(0, 0, 0, 1.000)\",\"anchor\":\"x\"},\"annotations\":[],\"width\":600,\"plot_bgcolor\":\"rgba(255, 255, 255, 1.000)\",\"showlegend\":true,\"legend\":{\"bgcolor\":\"rgba(255, 255, 255, 1.000)\",\"font\":{\"size\":11,\"color\":\"rgba(0, 0, 0, 1.000)\",\"family\":\"Helvetica\"},\"bordercolor\":\"rgba(0, 0, 0, 1.000)\"},\"xaxis\":{\"type\":\"-\",\"titlefont\":{\"size\":15,\"color\":\"rgba(0, 0, 0, 1.000)\",\"family\":\"Helvetica\"},\"title\":\"\",\"tickfont\":{\"size\":11,\"color\":\"rgba(0, 0, 0, 1.000)\",\"family\":\"Helvetica\"},\"tickmode\":\"array\",\"showgrid\":true,\"tickvals\":[-2.5,0.0],\"domain\":[0.05905511811023622,0.9934383202099738],\"ticktext\":[\"-2.5\",\"0.0\"],\"zeroline\":false,\"linecolor\":\"rgba(0, 0, 0, 1.000)\",\"tickcolor\":\"rgba(0, 0, 0, 1.000)\",\"anchor\":\"y\"},\"paper_bgcolor\":\"rgba(255, 255, 255, 1.000)\",\"height\":400,\"margin\":{\"r\":0,\"l\":0,\"b\":0,\"t\":20}});\n",
       "    </script>\n"
      ]
     },
     "execution_count": 23,
     "metadata": {},
     "output_type": "execute_result"
    }
   ],
   "source": [
    "using Plots\n",
    "sample4age = out[\"MCMC samples for: age\"]\n",
    "histogram(sample4age)"
   ]
  },
  {
   "cell_type": "code",
   "execution_count": null,
   "metadata": {
    "collapsed": true
   },
   "outputs": [],
   "source": []
  }
 ],
 "metadata": {
  "kernelspec": {
   "display_name": "Julia 0.4.6",
   "language": "julia",
   "name": "julia-0.4"
  },
  "language_info": {
   "file_extension": ".jl",
   "mimetype": "application/julia",
   "name": "julia",
   "version": "0.4.6"
  }
 },
 "nbformat": 4,
 "nbformat_minor": 0
}
