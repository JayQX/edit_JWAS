{
 "cells": [
  {
   "cell_type": "markdown",
   "metadata": {},
   "source": [
    "<ul class=\"breadcrumb\">\n",
    "  <li><a href=\"1.1.Univaraite_Linear_Mixed_Effects_Model.ipynb\">Univariate Basics</a></li>\n",
    "  <li><a href=\"1.2.Univariate_Linear_Additive_Genetic_Model.ipynb\">Univariate Additive Genetic Model</a></li> \n",
    "  <li><a href=\"1.3.Univariate_Linear_Mixed_Effects_Model_with_Genomic_Data.ipynb\">Univariate Genomic Data</a></li>\n",
    "</ul>"
   ]
  },
  {
   "cell_type": "markdown",
   "metadata": {},
   "source": [
    "<div class=\"span5 alert alert-success\">\n",
    " <font size=\"5\" face=\"Georgia\">Univaraite Linear Mixed Effects Model</font> \n",
    "</div>"
   ]
  },
  {
   "cell_type": "code",
   "execution_count": 1,
   "metadata": {
    "collapsed": false
   },
   "outputs": [],
   "source": [
    "using DataFrames,JWAS,JWAS.Datasets"
   ]
  },
  {
   "cell_type": "markdown",
   "metadata": {},
   "source": [
    "<button type=\"button\" class=\"btn btn-lg btn-primary\">Data</button> "
   ]
  },
  {
   "cell_type": "code",
   "execution_count": 2,
   "metadata": {
    "collapsed": false
   },
   "outputs": [
    {
     "data": {
      "text/html": [
       "<table class=\"data-frame\"><tr><th></th><th>sow</th><th>site</th><th>yr</th><th>age</th><th>geneticCode</th><th>parity</th><th>nwn</th><th>SYS</th><th>bw</th></tr><tr><th>1</th><td>100-113</td><td>113</td><td>2005</td><td>18</td><td>PIC 1</td><td>1</td><td>8</td><td>113_2005_WNTR</td><td>9.0</td></tr><tr><th>2</th><td>100-113</td><td>113</td><td>2006</td><td>18</td><td>PIC 1</td><td>2</td><td>12</td><td>113_2006_SPNG</td><td>8.0</td></tr><tr><th>3</th><td>100-5</td><td>5</td><td>2008</td><td>15</td><td>PIC 2</td><td>1</td><td>10</td><td>5_2008_ATMN</td><td>7.5</td></tr><tr><th>4</th><td>1000-5</td><td>5</td><td>2009</td><td>17</td><td>PIC 2</td><td>1</td><td>10</td><td>5_2009_SPNG</td><td>8.3</td></tr><tr><th>5</th><td>10000-13</td><td>13</td><td>2004</td><td>16</td><td>Commercial</td><td>1</td><td>9</td><td>13_2004_WNTR</td><td>4.3</td></tr><tr><th>6</th><td>10000-13</td><td>13</td><td>2004</td><td>18</td><td>Commercial</td><td>2</td><td>10</td><td>13_2004_SMMR</td><td>2.8</td></tr><tr><th>7</th><td>10000-13</td><td>13</td><td>2004</td><td>20</td><td>Commercial</td><td>3</td><td>11</td><td>13_2004_ATMN</td><td>3.9</td></tr><tr><th>8</th><td>10000-13</td><td>13</td><td>2005</td><td>18</td><td>Commercial</td><td>4</td><td>11</td><td>13_2005_SPNG</td><td>10.0</td></tr><tr><th>9</th><td>10000-13</td><td>13</td><td>2005</td><td>25</td><td>Commercial</td><td>5</td><td>7</td><td>13_2005_ATMN</td><td>4.0</td></tr><tr><th>10</th><td>10000-6</td><td>6</td><td>2012</td><td>17</td><td>PIC C27</td><td>1</td><td>12</td><td>6_2012_ATMN</td><td>8.9</td></tr></table>"
      ],
      "text/plain": [
       "10×9 DataFrames.DataFrame\n",
       "│ Row │ sow        │ site │ yr   │ age │ geneticCode  │ parity │ nwn │\n",
       "├─────┼────────────┼──────┼──────┼─────┼──────────────┼────────┼─────┤\n",
       "│ 1   │ \"100-113\"  │ 113  │ 2005 │ 18  │ \"PIC 1\"      │ 1      │ 8   │\n",
       "│ 2   │ \"100-113\"  │ 113  │ 2006 │ 18  │ \"PIC 1\"      │ 2      │ 12  │\n",
       "│ 3   │ \"100-5\"    │ 5    │ 2008 │ 15  │ \"PIC 2\"      │ 1      │ 10  │\n",
       "│ 4   │ \"1000-5\"   │ 5    │ 2009 │ 17  │ \"PIC 2\"      │ 1      │ 10  │\n",
       "│ 5   │ \"10000-13\" │ 13   │ 2004 │ 16  │ \"Commercial\" │ 1      │ 9   │\n",
       "│ 6   │ \"10000-13\" │ 13   │ 2004 │ 18  │ \"Commercial\" │ 2      │ 10  │\n",
       "│ 7   │ \"10000-13\" │ 13   │ 2004 │ 20  │ \"Commercial\" │ 3      │ 11  │\n",
       "│ 8   │ \"10000-13\" │ 13   │ 2005 │ 18  │ \"Commercial\" │ 4      │ 11  │\n",
       "│ 9   │ \"10000-13\" │ 13   │ 2005 │ 25  │ \"Commercial\" │ 5      │ 7   │\n",
       "│ 10  │ \"10000-6\"  │ 6    │ 2012 │ 17  │ \"PIC C27\"    │ 1      │ 12  │\n",
       "\n",
       "│ Row │ SYS             │ bw   │\n",
       "├─────┼─────────────────┼──────┤\n",
       "│ 1   │ \"113_2005_WNTR\" │ 9.0  │\n",
       "│ 2   │ \"113_2006_SPNG\" │ 8.0  │\n",
       "│ 3   │ \"5_2008_ATMN\"   │ 7.5  │\n",
       "│ 4   │ \"5_2009_SPNG\"   │ 8.3  │\n",
       "│ 5   │ \"13_2004_WNTR\"  │ 4.3  │\n",
       "│ 6   │ \"13_2004_SMMR\"  │ 2.8  │\n",
       "│ 7   │ \"13_2004_ATMN\"  │ 3.9  │\n",
       "│ 8   │ \"13_2005_SPNG\"  │ 10.0 │\n",
       "│ 9   │ \"13_2005_ATMN\"  │ 4.0  │\n",
       "│ 10  │ \"6_2012_ATMN\"   │ 8.9  │"
      ]
     },
     "execution_count": 2,
     "metadata": {},
     "output_type": "execute_result"
    }
   ],
   "source": [
    "phenofile = Datasets.dataset(\"testMME\",\"data.txt\")\n",
    "data      = readtable(phenofile,separator = ',',header=true)"
   ]
  },
  {
   "cell_type": "markdown",
   "metadata": {},
   "source": [
    "<button type=\"button\" class=\"btn btn-lg btn-primary\">Build Model</button> "
   ]
  },
  {
   "cell_type": "code",
   "execution_count": 10,
   "metadata": {
    "collapsed": false
   },
   "outputs": [
    {
     "data": {
      "text/plain": [
       "\"nwn = intercept +parity + parity*site + yr + geneticCode + age\""
      ]
     },
     "execution_count": 10,
     "metadata": {},
     "output_type": "execute_result"
    }
   ],
   "source": [
    "model_equation  = \"nwn = intercept +parity + parity*site + yr + geneticCode + age\""
   ]
  },
  {
   "cell_type": "code",
   "execution_count": 12,
   "metadata": {
    "collapsed": false
   },
   "outputs": [],
   "source": [
    "residual_variance = 2.97\n",
    "model             = build_model(model_equation,residual_variance)\n",
    "\n",
    "set_covariate(model,\"age\")\n",
    "\n",
    "sow_variance      = 0.26\n",
    "set_random(model,\"sow\",sow_variance);"
   ]
  },
  {
   "cell_type": "markdown",
   "metadata": {},
   "source": [
    "<button type=\"button\" class=\"btn btn-lg btn-primary\">Run Model</button> "
   ]
  },
  {
   "cell_type": "code",
   "execution_count": 13,
   "metadata": {
    "collapsed": false
   },
   "outputs": [],
   "source": [
    "outputMCMCsamples(model,\"parity\",\"age\");"
   ]
  },
  {
   "cell_type": "code",
   "execution_count": 14,
   "metadata": {
    "collapsed": false
   },
   "outputs": [
    {
     "name": "stdout",
     "output_type": "stream",
     "text": [
      "MCMC Information:\n",
      "methods                        conventional (no markers)\n",
      "chain_length                                  50000\n",
      "estimatePi                                    false\n",
      "constraint                                    false\n",
      "missing_phenotypes                            false\n",
      "starting_value                                false\n",
      "output_samples_frequency                        100\n",
      "printout_frequency                            50001\n",
      "\n",
      "Degree of freedom for hyper-parameters:\n",
      "residual variances:                           4.000\n",
      "iid random effect variances:                  4.000\n",
      "polygenic effect variances:                   4.000\n",
      "marker effect variances:                      4.000\n",
      "\n",
      "\n",
      "\n",
      "running MCMC for conventional (no markers)...100%|██████| Time: 0:00:01\n"
     ]
    }
   ],
   "source": [
    "out=runMCMC(model,data,chain_length=50000,output_samples_frequency=100);"
   ]
  },
  {
   "cell_type": "markdown",
   "metadata": {},
   "source": [
    "<button type=\"button\" class=\"btn btn-lg btn-primary\">Check Results</button> "
   ]
  },
  {
   "cell_type": "code",
   "execution_count": 15,
   "metadata": {
    "collapsed": false
   },
   "outputs": [
    {
     "data": {
      "text/plain": [
       "Base.KeyIterator for a Dict{Any,Any} with 4 entries. Keys:\n",
       "  \"MCMC samples for: 1:age\"\n",
       "  \"MCMC samples for residual variance\"\n",
       "  \"Posterior mean of location parameters\"\n",
       "  \"MCMC samples for: 1:parity\""
      ]
     },
     "execution_count": 15,
     "metadata": {},
     "output_type": "execute_result"
    }
   ],
   "source": [
    "keys(out)"
   ]
  },
  {
   "cell_type": "code",
   "execution_count": 16,
   "metadata": {
    "collapsed": false
   },
   "outputs": [
    {
     "data": {
      "text/plain": [
       "26x2 Array{Any,2}:\n",
       " \"1:intercept : intercept\"       16.2405 \n",
       " \"1:parity : 1\"                -252.631  \n",
       " \"1:parity : 2\"                 128.879  \n",
       " \"1:parity : 3\"                 102.679  \n",
       " \"1:parity : 4\"                  86.6888 \n",
       " \"1:parity : 5\"                 164.27   \n",
       " \"1:parity*site : 1 * 113\"      447.974  \n",
       " \"1:parity*site : 2 * 113\"       90.6083 \n",
       " \"1:parity*site : 1 * 5\"        150.576  \n",
       " \"1:parity*site : 1 * 13\"       306.37   \n",
       " \"1:parity*site : 2 * 13\"       -63.5133 \n",
       " \"1:parity*site : 3 * 13\"       -25.6579 \n",
       " \"1:parity*site : 4 * 13\"        90.0363 \n",
       " \"1:parity*site : 5 * 13\"        45.7297 \n",
       " \"1:parity*site : 1 * 6\"        607.99   \n",
       " \"1:yr : 2005\"                 -297.867  \n",
       " \"1:yr : 2006\"                 -318.027  \n",
       " \"1:yr : 2008\"                  121.919  \n",
       " \"1:yr : 2009\"                  132.583  \n",
       " \"1:yr : 2004\"                 -187.51   \n",
       " \"1:yr : 2012\"                  370.478  \n",
       " \"1:geneticCode : PIC 1\"        190.16   \n",
       " \"1:geneticCode : PIC 2\"         53.7755 \n",
       " \"1:geneticCode : Commercial\"   211.765  \n",
       " \"1:geneticCode : PIC C27\"     -639.539  \n",
       " \"1:age : age\"                   -5.32589"
      ]
     },
     "execution_count": 16,
     "metadata": {},
     "output_type": "execute_result"
    }
   ],
   "source": [
    "out[\"Posterior mean of location parameters\"]"
   ]
  },
  {
   "cell_type": "code",
   "execution_count": 18,
   "metadata": {
    "collapsed": false
   },
   "outputs": [
    {
     "data": {
      "text/html": [
       "<img src=\"data:image/png;base64,iVBORw0KGgoAAAANSUhEUgAAAlgAAAGQCAYAAAByNR6YAAAABHNCSVQICAgIfAhkiAAAAAlwSFlzAAAPYQAAD2EBqD+naQAAIABJREFUeJzt3WtsVNe5xvGHS0XsKiEX1+LSjHHaOqAeEWyQgpu0KFTiJnVOmpQSE1tccsEquHHTctHJB9tS09g0jUCASHtqEhrIcGkkg5ompmopwVETIcY0SjWOW4qZqJnGTKE0kaERxOcDZU4cG7bNXstr9p7/T7IEm/GaZ9vv4Idhz5oRvb29vQIAAIAxI10HAAAACBsKFgAAgGGjbS6eTqfV2tqqSZMmKS8vz+ZdAQAAOHHu3Dl1dXVp7ty5KigokGS5YLW2tqqystLmXQAAAGSFHTt26MEHH5RkuWBNmjQpc4dTpkyxeVdwpLa2Vhs2bBj07ROJxKXSveB/pHG3+7vzf5yQ9tUzX7BuqHOeq3h8Bxcz7s/l2b/ceyTLBevyfwtOmTJFZWVlNu8Kjtx4443X9r0t/W+pqNTfnZ9sl/bVM1+w7prnPFfx+A4cZtyMT14OxUXu8OWjjz5yHQGwjjlH2DHj5ll9Bgvhd+zYMdcRAOuYc4SdrRlPJpNKp9NW1napoKBAkUjkqrehYMGX22/3eZ0FEADMOcLOxownk0lNmTJFPT09xtd2LT8/X4lE4qoli4IFX6qrq11HAKxjzhF2NmY8nU6rp6cndC9UuHxBezqdpmDBnoqKCtcRAOuYc4SdzRnP1RcqcJE7AACAYRQs+NLc3Ow6AmAdc46wY8bNo2DBl3g87joCYB1zjrDL9Rk/efKk7rnnHqP7gXENFnzZsmWL6wiAdcw5wm44Z/yR1y7o7TPm1vuvm6T//Zq/OnPDDTfoySef1NmzZ/XEE08YyUXBAgAAw+btM9Ib3b0GVxwx6Fv+5Cc/UWdnp376059Kks6ePasvfvGL+vOf/6yvfOUrOnTokLFU/BchAADICQ8//LD27dunf/3rX5Kk5557Tvfee69uvPFG4/dFwQIAADlh7Nix+ta3vqVt27ZJkrZu3apVq1ZZuS8KFnyJRqOuIwDWMecIu1ya8ZqaGm3dulWvvvqqCgsLdccdd1i5H67Bgi+2mj+QTZhzhN1wzvh/3SQN5bqpwa03eLfffrtuu+02Pfroo3r66af7/Flvb696e81cH0bBgi9z5sxxHQGwjjlH2A3njPt9xZ8JjzzyiGpqanT//fdLks6dO6eSkhJ99NFHOnv2rCKRiKqqqvTkk09e8324P0sAAIBhdPDgQX3nO9/RqFGjJEl5eXl69913jd4HBQsAAOSEVCql2bNn65ZbblFra6vV++Iid/jS0tLiOgJgHXOOsMuVGR8/frwSiYTa2tr02c9+1up9XbVgPffccxo5cqT2798vSTp16pTmz5+vkpISTZ06VYcPH7YaDtkvFou5jgBYx5wj7Jhx865YsE6ePKmf//znKi8vzxxbt26dysvL1dnZqW3btmnx4sW6ePHisARFdtq9e7frCIB1zDnCjhk3b8BrsHp7e/Xwww9r8+bNevzxxzPH9+zZo+PHj0uSZsyYoYkTJ+rQoUOaPXv28KQFAACBkkgkXEcwarDnM2DBeuaZZ/TVr35VpaWlmWOnT5/WhQsXVFhYmDlWVFSkZDLpMyoAAAibgoIC5efnq7Ky0nUU4/Lz81VQUHDV2/QrWH/605/00ksvcX0VAAC4ZpFIRIlEQul02nUU4woKChSJRK56m37XYB0+fFgnT57Ul770JRUXF+uNN97Qo48+qj179mj06NHq7u7O3Larq8vzDiRpwYIFikajfT7Ky8v7vWrhwIEDA27Xv3LlSjU3N/c5Fo/HFY1G+33j6urq1NTU1OdYMplUNBpVR0dHn+ObNm3S6tWr+xzr6elRNBpVW1tbn+OxWEzLli3rl23RokU5fR6X1xrKediU698PzsPOeRQXF4fiPIbz+2FKfX19v2NhmatsOo9P5jN5HpFIRGVlZZmP5uZmtbe39zkmXfo+f/q2+/bt029+85s+xwoKClRfX6/8/Pw+x19//XXFYrE+xyZPnqz6+nr19PT0Of7OO+9o06ZNfY6VlZWpqalJyWSyz7F0Oq36+vp+nz9r1ixNmzYt02lqa2v7fV1G9HrsCX/PPffo8ccf1ze+8Q0tX75cRUVFqqur05EjR3Tfffepq6srs1HXp8XjcU2fPl1Hjx7NfBERLrFYTBUVFYO+/eWZ0BNvSkWl3p9wNSfbpSfvZL5g3VDnPFfx+A4uZtyfgfqO50ajI0aMyLwvT2Njo6qqqlRSUqIxY8Zo586dVyxXyA08IJELmHOEHTNunmfB+t3vfpf5dWFhofWdTwEAAIKOndwBAAAMo2DBl09fBAmEEXOOsGPGzaNgwZf169e7jgBYx5wj7Jhx8yhY8GXXrl2uIwDWMecIO2bcPAoWfMnPz3cdAbCOOUfYMePmUbAAAAAMo2ABAAAYRsGCL59+qwggjJhzhB0zbh4FC74M5r0ogaBjzhF2zLh5FCz4UlNT4zoCYB1zjrBjxs2jYAEAABhGwQIAADCMggVfOjo6XEcArGPOEXbMuHkULPiyZs0a1xEA65hzhB0zbh4FC75s3rzZdQTAOuYcYceMm0fBgi+8tBe5gDlH2DHj5lGwAAAADKNgAQAAGEbBgi9NTU2uIwDWMecIO2bcPAoWfOnp6XEdAbCOOUfYMePmUbDgS0NDg+sIgHXMOcKOGTePggUAAGAYBQsAAMAwChZ8SafTriMA1jHnCDtm3DwKFnxZvny56wiAdcw5wo4ZN4+CBV/q6+tdRwCsY84Rdsy4eRQs+FJWVuY6AmAdc46wY8bNo2ABAAAYRsECAAAwjIIFX5qbm11HAKxjzhF2zLh5FCz4Eo/HXUcArGPOEXbMuHkULPiyZcsW1xEA65hzhB0zbh4FCwAAwDAKFgAAgGEULAAAAMMoWPAlGo26jgBYx5wj7Jhx8yhY8GXVqlWuIwDWMecIO2bcPAoWfJkzZ47rCIB1zDnCjhk3j4IFAABgGAULAADAMAoWfGlpaXEdAbCOOUfYMePmUbDgSywWcx0BsI45R9gx4+ZRsODL7t27XUcArGPOEXbMuHkULAAAAMMoWAAAAIZRsAAAAAyjYMGXZcuWuY4AWMecI+yYcfMoWPCF3X+RC5hzhB0zbh4FC75UVFS4jgBYx5wj7Jhx8yhYAAAAhlGwAAAADKNgwZe2tjbXEQDrmHOEHTNuHgULvqxfv951BMA65hxhx4ybR8GCL7t27XIdAbCOOUfYMePmUbDgS35+vusIgHXMOcKOGTePggUAAGAYBQsAAMAwChZ8Wb16tesIgHXMOcKOGTePggVfIpGI6wiAdcw5wo4ZN4+CBV9qampcRwCsY84Rdsy4eRQsAAAAwyhYAAAAhlGw4EtHR4frCIB1zDnCjhk3j4IFX9asWeM6AmAdc46wY8bNo2DBl82bN7uOAFjHnCPsmHHzRrsOgGDjpb3IBcy5O4lEwsg6BQUFfB+vgq+NeRQsAED2+SAtSaqsrDSy3HV5+XqnI0GRwLChYAEAss+HlwqWqp6VIqX+1vp7QueblyqdTlOwMGwoWPClqalJa9eudR0DsIo5dyhSKhX5LFjwxIybx0Xu8KWnp8d1BMA65hxhx4ybR8GCLw0NDa4jANYx5wg7Ztw8ChYAAIBhFCwAAADDKFjwJZ1Ou44AWMecI+yYcfMoWPBl+fLlriMA1jHnCDtm3DwKFnypr693HQGwjjlH2DHj5lGw4EtZWZnrCIB1zDnCjhk3j4IFAABgGAULAADAsCsWrLlz52ratGkqLS3VrFmzdOzYMUnSqVOnNH/+fJWUlGjq1Kk6fPjwsIVF9mlubnYdAbCOOUfYMePmXbFg7d27V8eOHVN7e7u+973vaenSpZKktWvXqry8XJ2dndq2bZsWL16sixcvDldeZJl4PO46AmAdc46wY8bNu+KbPd9www2ZX//zn//UqFGjJF0qXsePH5ckzZgxQxMnTtShQ4c0e/Zsy1GRjbZs2eI6AmAdc46wY8bNu2LBkqQlS5bo4MGDGjFihH7961/r9OnTunDhggoLCzO3KSoqUjKZtB4UAAAgKK56kfv27duVTCb1wx/+UGvWrJEk9fb2DkswAACAoBrUqwirqqr0+9//XpL0mc98Rt3d3Zk/6+rqUiQSuernL1iwQNFotM9HeXm5Wlpa+tzuwIEDikaj/T5/5cqV/S7Ai8fjikaj/bb3r6urU1NTU59jyWRS0WhUHR0dfY5v2rRJq1ev7nOsp6dH0WhUbW1tfY7HYjEtW7asX7ZFixZxHkM8D5v4fnAenEd2nEc2y8XvB+dh7jxisZiKi4s1bdq0TKepra3tt96I3gGekjp79qx6eno0fvx4SVJLS4u++93vKplMavny5SoqKlJdXZ2OHDmi++67T11dXZlrtD4pHo9r+vTpOnr0KJuYhVQ0GtX+/fsHffvLM6En3pSKSv3d+cl26ck7mS9YN9Q5z1VGH99vxKRtS/i7Ypgw4/4M1HcGvAbr7NmzWrhwoc6fP68RI0aosLBQv/rVryRJjY2NqqqqUklJicaMGaOdO3cOWK6QG1atWuU6AmAdc46wY8bNG7BgRSIRvfnmmwN+QmFhoVpbW62GQnDMmTPHdQTAOuYcYceMm8dO7gAAAIZRsAAAAAyjYMGXT7/iAggj5hxhx4ybR8GCL7FYzHUEwDrmHGHHjJtHwYIvu3fvdh0BsI45R9gx4+ZRsAAAAAyjYAEAABhGwQIAADCMggVfBno/JyBsmHOEHTNuHgULvrD7L3IBc46wY8bNo2DBl4qKCtcRAOuYc4QdM24eBQsAAMCwAd/sGQCQO1KplFKplO91EomEgTRAOFCw4EtbW5vuvvtu1zEAq8I856lUShMmTHAdA46FecZdoWDBl/Xr1/OgROiFec4zz1xVPStFSv0t9vYr0r5635kw/MI8465QsODLrl27XEcArMuJOY+USkU+C1aqw0wWDLucmPFhxkXu8CU/P991BMA65hxhx4ybR8ECAAAwjIIFAABgGAULvqxevdp1BMA65hxhx4ybR8GCL5FIxHUEwDrmHGHHjJvHqwgxKFfaiPCuu+5SPB4f9DpsRIggqqmpcR0BsIoZN4+CBU9sRAgAwNBQsOCJjQgBABgaChYGj40IkaM6Ojo0efJk1zEAa5hx87jIHQA8rFmzxnUEwCpm3DwKFgB42Lx5s+sIgFXMuHkULADwwEvYEXbMuHkULAAAAMMoWAAAAIZRsADAQ1NTk+sIgFXMuHkULADw0NPT4zoCYBUzbh4FCwA8NDQ0uI4AWMWMm0fBAgAAMIyCBQAAYBgFCwA8pNNp1xEAq5hx8yhYAOBh+fLlriMAVjHj5lGwAMBDfX296wiAVcy4eRQsAPBQVlbmOgJgFTNu3mjXAQAAQ5dKpZRKpXyvk0gkDKQB8GkULAAImFQqpQkTJriOAeAqKFgA4KG5uVkPPfSQ6xgZmWeuqp6VIqX+Fnv7FWlfve9MCLZsm/EwoGABgId4PJ6dP3wipVKRz4KV6jCTBYGWtTMeYFzkDgAetmzZ4joCYBUzbh4FCwAAwDAKFgAAgGEULAAAAMO4yB2BZ2ofn4KCAkUiESNrIVyi0aj279/vOgZgDTNuHgULwfXBpTcnraysNLLcdXn5eqcjQclCP6tWrXIdAbCKGTePgoXg+vA/7/5uYi+gvyd0vnmp0uk0BQv9zJkzx3UEwCpm3DwKFoLPxF5AAAAYxEXuAAAAhlGwAMBDS0uL6wiAVcy4eRQsAPAQi8VcRwCsYsbNo2ABgIfdu3e7jgBYxYybR8ECAAAwjIIFAABgGAULAADAMAoWAHhYtmyZ6wiAVcy4eRQsAPDALtcIO2bcPAoWAHioqKhwHQGwihk3j4IFAABgGAULAADAMAoWAHhoa2tzHQGwihk3j4IFAB7Wr1/vOgJgFTNuHgULADzs2rXLdQTAKmbcPAoWAHjIz893HQGwihk3j4IFAABgGAULAADAMAoWAHhYvXq16wiAVcy4eRQsAPAQiURcRwCsYsbNo2ABgIeamhrXEQCrmHHzKFgAAACGUbAAAAAMG+06AABku46ODk2ePNl1DPiUSCSMrVVQUBCq65aYcfMoWADgYc2aNdq/f7/rGLhWH6QlSZWVlcaWvC4vX+90JEJTsphx8yhYAOBh8+bNriPAjw8vFSxVPStFSv2v9/eEzjcvVTqdDk3BYsbNo2ABgIew/BDNeZFSqchAwQohZty8AS9y//e//61vfvObmjx5skpLSzV37lwdP35cknTq1CnNnz9fJSUlmjp1qg4fPjysgQEAALLdFV9FuGLFCnV0dKi9vV3RaFQPP/ywJGnt2rUqLy9XZ2entm3bpsWLF+vixYvDFhgAACDbDViwxowZo3nz5mV+P3PmTJ08eVKStHfvXlVXV0uSZsyYoYkTJ+rQoUPDEBUA3GhqanIdAbCKGTdvUPtgbdy4Uffee69Onz6tCxcuqLCwMPNnRUVFSiaT1gICgGs9PT2uIwBWMePmeV7k/qMf/UjHjx/Xz372M74BAHJSQ0OD6wiAVcy4eVd9Buvpp59WS0uLXn31VV133XW6+eabNXr0aHV3d2du09XV5fnqgwULFigajfb5KC8vV0tLS5/bHThwQNFotN/nr1y5Us3NzX2OxeNxRaNRpdPpPsfr6ur6PdWZTCYVjUbV0dHR5/imTZv6vYN4T0+PotGo2tra+hyPxWJatmxZv2yLFi3KufMIs0QiEbjvR1jmivMY+nnArQ0bNvT5fVjmivO4+nnEYjEVFxdr2rRpmU5TW1vbb70Rvb29vf2OSnrmmWf04osv6re//a3Gjh2bOb58+XIVFRWprq5OR44c0X333aeuri6NGjWq3xrxeFzTp0/X0aNHVVZWNtDdIAAufx/1xJv+X+L8RkzatiT71jrZLj15J7OKQMiJx2S2riXx9wX6GajvDPhfhH/729/0gx/8QF/4whd0zz33qLe3V9ddd53+8Ic/qLGxUVVVVSopKdGYMWO0c+fOAcsVAIRFOp1WQUGB6xiANcy4eQMWrIkTJ+rjjz8e8BMKCwvV2tpqNRQAZJPly5fzNiIINWbcvEG9ihAAcll9fb3rCIBVzLh5FCwA8MB1Ngg7Ztw8ChYAAIBhFCwAAADDKFgA4OHT+/YAYcOMm0fBAgAP8XjcdQTAKmbcPAoWAHjYsmWL6wiAVcy4eRQsAAAAwyhYAAAAhlGwAAAADKNgAYCHaDTqOgJgFTNuHgULADysWrXKdQTAKmbcPAoWAHiYM2eO6wiAVcy4eaNdBwDCKpVKKZVKGVmroKBAkUjEyFq5gK89ANcoWIAFqVRKEyZMMLbedXn5eqcjwQ/6QeBrDyAbULAACzLPnlQ9K0VK/S3294TONy9VOp3mh/wg2Pja7927V9///vf9hwOyVEtLi+69917XMUKFggXYFCmVinz+kMe1Mfi1b21tpWAh1GKxGAXLMC5yBwAPjY2NriMAVu3evdt1hNChYAEAABhGwQIAADCMggUAAGAYBQsAPNTX17uOAFi1bNky1xFCh1cRAoCHmTNnuo6ALJRIJIyskw2b2dreyT0XN/+lYAGAh3nz5rmOgGzyQVqSVFlZaWS5bNjMtqKiwtraubr5LwULAICh+PBSwWIj4cHJ1Y2XKVgAAFwLNhIemhz7enGROwB4aG9vdx0BsKqtrc11hNChYAGAh+3bt7uOAFi1fv161xFCh4IFAB6eeuop1xEAq3bt2uU6QuhQsADAQ15enusIgFX5+fmuI4QOF7kDARGmPXcAIOwoWEC2C+GeOwAQdhQsINux545zGzZs0C9+8QvXMQBrVq9erR//+MeuY4QKBQsIihzbQyabjBs3znUEwCr+wWUeF7kDgIcHHnjAdQTAqpqaGtcRQoeCBQAAYBgFCwAAwDAKFgB4OHHihOsIgFUdHR2uI4QOBQsAPGzcuNF1BMCqNWvWuI4QOryKEAA8rF271sg6qVRKqVTK9zqmNp1F9nC9kfDmzZuN3D/+HwULADyMHz/e9xqpVEoTJkwwkAahkiUbCbNNg3kULAAYBplnrkxsGPv2K9K+et+ZkAXYSDi0KFgAMJxMbBib4oLk0GEj4dDhIncA8PD888+7jgBY1dTU5DpC6FCwAMDD+fPnXUcArOrp6XEdIXQoWADgobq62nUEwKqGhgbXEUKHggUAAGAYBQsAAMAwXkUIICtk8yacZ86cMb4mYMu1PAbOnDmjm266qc+xa920FJdQsAA4l+2bcDY0NOjrX/+66xjA1WXJpqW4hIIFwLls34RzxYoVRtcDrGDT0qxCwQKQPbJ0E84pU6YYXxOwhk1LswIXuQMAABhGwQIAADCMggUAHlpaWlxHABAwFCwA8NDRwZsrAxgaChYAeFi3bp3rCAACZlheRWhq4z82PQMAYPiY+PltY/PfIBiWgsWmZwAABIjhTUtz0fDsg7Xgf6TS//a3BpueAQAwPExuWmph898gGJ6CNe52Nj0DEFi1tbV67bXXXMcAhl+Wbv4bBFzkDgAeFi1a5DoCgIChYAGAh/LyctcRAAQMBQsAAMAwChYAAIBhFCwA8HDw4EHXEQAEDAULADy0tra6jgAgYChYAOChsbHRdQQAAUPBAgAAMIyCBQAAYBgFCwAAwDAKFgB4qK+vdx0BQMBQsADAw8yZM11HABAwFCwA8DBv3jzXEQAEzGjXAQAEVyqVUiqV8r1OIpEwkAYAsgcFC8A1SaVSmjBhgusYAJCVKFgArknmmauqZ6VIqb/F3n5F2lfvO5Mt7e3tKisrcx0DQIBQsAD4EymVinwWrFSHmSyWbN++XQ899JDrGAAChIvcAcDDU0895ToCgIAZsGA99thjKi4u1siRI/XWW29ljp86dUrz589XSUmJpk6dqsOHDw9bUABwJS8vz3UEAAEzYMFauHChXn/9dU2aNKnP8XXr1qm8vFydnZ3atm2bFi9erIsXLw5HTgAAgMAY8Bqsu+++W5LU29vb5/iePXt0/PhxSdKMGTM0ceJEHTp0SLNnz7YcEwAAIDgGfQ3W6dOndeHCBRUWFmaOFRUVKZlMWgkGANliw4YNriMACBheRZhlTG3cKEkFBQWKRCJG1soVpja8ZOPMcBk3bpzrCAACZtDPYN18880aPXq0uru7M8e6urqc/QCPx+OKRqNKp9N9jtfV1ampqanPsWQyqWg0qo6Ovi8F37Rpk1avXt3nWE9Pj6LRqNra2vocj8ViWrZsWb8cixYtUktLS59jBw4cUDQa7XfblStXqrm5+YrncXnjxunTpxv5KP7CF/XSSy8ZP49Q+uDSHFVWVhr52ldWVjo+ocEz8fgIu2PHjvl+nNfW1lrNCOSSEydO9Pn9cP48j8ViKi4u1rRp0xSNRhWNRgd8fA/pGayFCxdq69atqqur05EjR/Tee+9p1qxZQ1nCmLKyMu3fv7/f8YaGhn7HIpHIgLetqanpdyw/P3/A21ZUVKiioqLf8d27d/c7NmfOHM2ZM6ff8S1btvQ79snziMfjlw6a2Ljx7wl93LxUxcXFfQ5fy3lkcoXZh/8p6ia+9lLWb5z5Sdf6+MiJufiPxsbGfhuNDvVxvmHDBk2fPt1aRiCXfPpn23D+PB/o8+PxeL/H94AFq7q6Wi+//LLef/99zZ07V9dff706OzvV2NioqqoqlZSUaMyYMdq5c6dGjRo10BLww8TGjbg2pr72Wb5xJgDArgEL1rPPPjvgjQsLC9Xa2mo1EABkmxMnTvBWOQCGhJ3cAcDDxo0bXUcAEDAULADwsHbtWtcRAAQMBQsAPIwfP951BAABQ8ECAAAwjI1GDTC1OSibU2K4mJg15hUAroyC5dPlzUGBQPjEhqoYvOeff55XEQIYEgqWT5lnrkxsUBmgzSkRUCY3VM2heT1//rzrCAAChoJliokNKtmcEsOFeR2S6upq1xEABAwXuQMAABhGwQIAADCMggUAHs6cOeM6AoCAoWABgIeGhgbXEQAETM5e5J4re1ex3xHg34oVK1xHABAwOVmwcmLvKvY7AoyZMmWK6wgAAiZnC5akcO8FxH5HAAA4k5MFKyMX9gLKhXMEACDLcJE7AHhoaWlxHQFAwFCwAMBDRwfP4gIYGgoWAHhYt26d6wgAAoaCBQAAYBgFCwAAwLDAvYqQjTMBAIAJNjcdD07BYuNMAI7U1tbqtddecx0DgEG2Nx0PTsFi40wAjixatMh1BACG2d50PDgF6zI2zgQwzMrLy11HAGCLpV7BRe4AAACGUbAAAAAMo2ABgIeDBw+6jgAgYChYAOChtbXVdQQAAUPBAgAPjY2NriMACBgKFgAAgGEULAAAAMMoWAAAAIZRsADAQ319vesIAAKGggUAHmbOnOk6AoCAoWABgId58+a5jgAgYChYAAAAhlGwAAAADKNgAYCH9vZ21xEABAwFCwA8bN++3XUEAAFDwQIAD0899ZTrCAAChoIFAB7y8vJcRwAQMBQsAAAAwyhYAAAAhlGwAMDDhg0bXEcAEDAULADwMG7cONcRAAQMBQsAPDzwwAOuIwAImNGuAwBAtkskElmxBoBLgvCYpGABwJV8kJYkVVZWOg4CQFKgHpMULAC4kg8v/WWuqmelSKm/td5+RdpX7zsSkNMC9JikYAGAl0ipVOTzL/NUh5ksAALxmOQidwAAAMMoWAAAAIZRsAAAAAyjYAEAABhGwQIAADCMggUAAGAYBQsAAMAwChYAAIBhFCwAAADDKFgAAACGUbAAAAAMo2ABAAAYRsECAAAwjIIFAABgGAULAADAMAoWAACAYRQsAAAAwyhYAAAAhlGwAAAADKNgAQAAGEbBAgAAMIyCBQAAYBgFCwAAwDAKFgAAgGEULAAAAMMoWAAAAIZRsAAAAAyjYAEAABh2TQXrL3/5i+666y7dfvvtuvPOO5VIJEznAgAACKxrKlgrVqxQdXW13nnnHa1Zs0ZLliwxnQsAACCwhlywTp06paNHj+rBBx+UJN1///3NB0CTAAADK0lEQVR699139de//tV4OAAAgCAacsF69913NX78eI0c+f+fGolElEwmjQYDAAAIqtE2Fz937tylXxx/3f9il9d4+xUp1cFarJW9a5lej7VYi7WyZy3T67FWqNbK9B5J6h2i7u7u3rFjx/ZevHgxc2zcuHG9x48f73fbHTt29Erigw8++OCDDz74CP3Hjh07Mh1oyM9gfe5zn1NZWZleeOEFLVmyRL/85S9166236rbbbut327lz52rHjh2aNGmS8vLyhnpXAAAAWe/cuXPq6urS3LlzM8dG9Pb29g51oc7OTi1dulT/+Mc/NHbsWD333HP68pe/bDQsAABAUF1TwQIAAMCVsZM7AACAYRQsDMljjz2m4uJijRw5Um+99VafPzt16pTmz5+vkpISTZ06VYcPH3aUEjBn0qRJmjJlikpLS1VWVqa9e/e6jgQYxbuz2EHBwpAsXLhQr7/+uiZNmtTvz9atW6fy8nJ1dnZq27ZtWrx4sS5evDj8IQGDRo4cqT179qi9vV3xeFwLFy50HQkwindnsYOChSG5++67NWHCBA106d6ePXtUXV0tSZoxY4YmTpyoQ4cODXdEwKje3t4B5x0IA96dxR4KFow4ffq0Lly4oMLCwsyxoqIidvhHKFRVVemOO+7QI488onQ67ToOYAzvzmIPBQsAruLw4cP64x//qHg8rltuuYX/PgEwKBQsXNULL7yQubh3+/btV7zdzTffrNGjR6u7uztzrKurS5FIZDhiAsZ8euY///nPS5JGjRql2tpatbW1OU4ImHPrrbcqlUrp448/zhxLJpP83W0ABQtXVVVVlbm41+tf7gsXLtTWrVslSUeOHNF7772nWbNmDUdMwJhPzvy3v/1tnT17NvNnL774okpLSx2mA8z65LuzSLrqu7NgaNhoFENSXV2tl19+We+//75uueUWXX/99ers7JQkdXd3q6qqSidOnNCYMWO0ZcsWfe1rX3OcGLh2J06c0P3336+PP/5Yvb29uu2227Rx40b+dY9Q4d1Z7KBgAQAAGMZ/EQIAABhGwQIAADCMggUAAGAYBQsAAMAwChYAAIBh/wemQjabpJQtHQAAAABJRU5ErkJggg==\" />"
      ]
     },
     "execution_count": 18,
     "metadata": {},
     "output_type": "execute_result"
    }
   ],
   "source": [
    "using Plots\n",
    "sample4age = vec(out[\"MCMC samples for: 1:age\"])\n",
    "histogram(sample4age)"
   ]
  }
 ],
 "metadata": {
  "kernelspec": {
   "display_name": "Julia 0.4.6",
   "language": "julia",
   "name": "julia-0.4"
  },
  "language_info": {
   "file_extension": ".jl",
   "mimetype": "application/julia",
   "name": "julia",
   "version": "0.4.6"
  }
 },
 "nbformat": 4,
 "nbformat_minor": 0
}
