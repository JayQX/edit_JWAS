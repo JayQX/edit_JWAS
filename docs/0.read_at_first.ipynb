{
 "cells": [
  {
   "cell_type": "markdown",
   "metadata": {},
   "source": [
    "## JWAS Module"
   ]
  },
  {
   "cell_type": "code",
   "execution_count": 1,
   "metadata": {
    "collapsed": false
   },
   "outputs": [],
   "source": [
    "using JWAS"
   ]
  },
  {
   "cell_type": "code",
   "execution_count": 2,
   "metadata": {
    "collapsed": false
   },
   "outputs": [
    {
     "name": "stdout",
     "output_type": "stream",
     "text": [
      "search: JWAS\n",
      "\n"
     ]
    },
    {
     "data": {
      "text/markdown": [
       "# JWAS.jl\n",
       "\n",
       "[![Build Status](https://travis-ci.org/reworkhow/JWAS.jl.svg?branch=master)](https://travis-ci.org/reworkhow/JWAS.jl)\n",
       "\n",
       "JWAS.jl is an open-source software tool written in Julia for Bayesian multiple regression methods applied to genome-wide association studies and genomic prediction.\n",
       "\n",
       "  * **homepage**: [QTL.rocks](http://QTL.rocks)\n",
       "  * **Installation**: at the Julia REPL, `Pkg.add(\"JWAS\")`\n",
       "  * **Documentaion**: [available here](http://nbviewer.jupyter.org/github/reworkhow/JWAS.jl/tree/master/docs/index.ipynb)\n",
       "\n",
       "### Structure of JWAS Module\n",
       "\n",
       "```\n",
       "JWAS.jl\n",
       "\n",
       "├──────── PedModule.jl\n",
       "\n",
       "├──────── ST.jl\n",
       "           ├── build_model\n",
       "           ├── set_covariate\n",
       "           ├── set_random\n",
       "           ├── get_pedigree\n",
       "           ├── add_markers\n",
       "           ├── outputMCMCsamples\n",
       "           ├── showMME\n",
       "           ├── solve\n",
       "           └── runMCMC\n",
       "\n",
       "├──────── MT.jl\n",
       "           ├── MT.build_model\n",
       "           ├── MT.set_covariate\n",
       "           ├── MT.set_random\n",
       "           ├── MT.get_pedigree\n",
       "           ├── MT.add_markers\n",
       "           ├── MT.showMME\n",
       "           ├── MT.solve\n",
       "           └── MT.runMCMC\n",
       "\n",
       "├──────── misc.jl\n",
       "           ├── get_breeding_values\n",
       "           ├── get_additive_genetic_variances\n",
       "           ├── get_heritability\n",
       "           ├── get_correlations\n",
       "           └── report\n",
       "\n",
       "\n",
       "├──────── Datasets.jl\n",
       "\n",
       "```\n",
       "\n",
       "### Help\n",
       "\n",
       "1. Show this README file in REPL or notebook using `?JWAS`\n",
       "2. For help on a specific function above, type ? followed by its name, e.g. `?runMCMC` and press enter.\n",
       "3. Run `Pkg.checkout(\"JWAS\")` to get the newest unofficial JWAS. Run `Pkg.free(\"JWAS\")` to go back to the offical one.\n"
      ],
      "text/plain": [
       "# JWAS.jl\n",
       "\n",
       "[![Build Status](https://travis-ci.org/reworkhow/JWAS.jl.svg?branch=master)](https://travis-ci.org/reworkhow/JWAS.jl)\n",
       "\n",
       "JWAS.jl is an open-source software tool written in Julia for Bayesian multiple regression methods applied to genome-wide association studies and genomic prediction.\n",
       "\n",
       "  * **homepage**: [QTL.rocks](http://QTL.rocks)\n",
       "  * **Installation**: at the Julia REPL, `Pkg.add(\"JWAS\")`\n",
       "  * **Documentaion**: [available here](http://nbviewer.jupyter.org/github/reworkhow/JWAS.jl/tree/master/docs/index.ipynb)\n",
       "\n",
       "### Structure of JWAS Module\n",
       "\n",
       "```\n",
       "JWAS.jl\n",
       "\n",
       "├──────── PedModule.jl\n",
       "\n",
       "├──────── ST.jl\n",
       "           ├── build_model\n",
       "           ├── set_covariate\n",
       "           ├── set_random\n",
       "           ├── get_pedigree\n",
       "           ├── add_markers\n",
       "           ├── outputMCMCsamples\n",
       "           ├── showMME\n",
       "           ├── solve\n",
       "           └── runMCMC\n",
       "\n",
       "├──────── MT.jl\n",
       "           ├── MT.build_model\n",
       "           ├── MT.set_covariate\n",
       "           ├── MT.set_random\n",
       "           ├── MT.get_pedigree\n",
       "           ├── MT.add_markers\n",
       "           ├── MT.showMME\n",
       "           ├── MT.solve\n",
       "           └── MT.runMCMC\n",
       "\n",
       "├──────── misc.jl\n",
       "           ├── get_breeding_values\n",
       "           ├── get_additive_genetic_variances\n",
       "           ├── get_heritability\n",
       "           ├── get_correlations\n",
       "           └── report\n",
       "\n",
       "\n",
       "├──────── Datasets.jl\n",
       "\n",
       "```\n",
       "\n",
       "### Help\n",
       "\n",
       "1. Show this README file in REPL or notebook using `?JWAS`\n",
       "2. For help on a specific function above, type ? followed by its name, e.g. `?runMCMC` and press enter.\n",
       "3. Run `Pkg.checkout(\"JWAS\")` to get the newest unofficial JWAS. Run `Pkg.free(\"JWAS\")` to go back to the offical one.\n"
      ]
     },
     "execution_count": 2,
     "metadata": {},
     "output_type": "execute_result"
    }
   ],
   "source": [
    "?JWAS"
   ]
  },
  {
   "cell_type": "code",
   "execution_count": 3,
   "metadata": {
    "collapsed": false
   },
   "outputs": [],
   "source": [
    "using JWAS\n",
    "#using JWAS.PedModule,JWAS.misc"
   ]
  },
  {
   "cell_type": "code",
   "execution_count": 4,
   "metadata": {
    "collapsed": false
   },
   "outputs": [
    {
     "name": "stdout",
     "output_type": "stream",
     "text": [
      "search: add_markers\n",
      "\n"
     ]
    },
    {
     "data": {
      "text/markdown": [
       "```\n",
       "add_markers(mme::MME,file,G;separator=' ',header=true,G_is_marker_variance=false,df=4)\n",
       "```\n",
       "\n",
       "  * Get marker informtion from a genotype file (same order as the phenotype file).\n",
       "  * **G** defaults to the marker effect  variance with degree of freedom **df**=4.0.\n",
       "  * File format:\n",
       "\n",
       "```\n",
       "Animal,marker1,marker2,marker3,marker4,marker5\n",
       "S1,1,0,1,1,1\n",
       "D1,2,0,2,2,1\n",
       "O1,1,2,0,1,0\n",
       "O3,0,0,2,1,1\n",
       "```\n"
      ],
      "text/plain": [
       "```\n",
       "add_markers(mme::MME,file,G;separator=' ',header=true,G_is_marker_variance=false,df=4)\n",
       "```\n",
       "\n",
       "  * Get marker informtion from a genotype file (same order as the phenotype file).\n",
       "  * **G** defaults to the marker effect  variance with degree of freedom **df**=4.0.\n",
       "  * File format:\n",
       "\n",
       "```\n",
       "Animal,marker1,marker2,marker3,marker4,marker5\n",
       "S1,1,0,1,1,1\n",
       "D1,2,0,2,2,1\n",
       "O1,1,2,0,1,0\n",
       "O3,0,0,2,1,1\n",
       "```\n"
      ]
     },
     "execution_count": 4,
     "metadata": {},
     "output_type": "execute_result"
    }
   ],
   "source": [
    "?add_markers"
   ]
  }
 ],
 "metadata": {
  "kernelspec": {
   "display_name": "Julia 0.4.6",
   "language": "julia",
   "name": "julia-0.4"
  },
  "language_info": {
   "file_extension": ".jl",
   "mimetype": "application/julia",
   "name": "julia",
   "version": "0.4.6"
  }
 },
 "nbformat": 4,
 "nbformat_minor": 0
}
