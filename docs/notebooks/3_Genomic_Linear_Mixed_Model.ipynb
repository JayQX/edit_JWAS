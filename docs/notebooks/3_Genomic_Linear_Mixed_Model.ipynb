{
 "cells": [
  {
   "cell_type": "markdown",
   "metadata": {},
   "source": [
    "<ul class=\"breadcrumb\">\n",
    "  <li><a href=\"1_Conventional_Linear_Mixed_Model.ipynb\">Bayesian Linear Mixed Models (Conventional)</a></li>\n",
    "  <li><a href=\"2_Linear_Additive_Genetic_Model.ipynb\">Bayesian Linear Additive Genetic Model</a></li> \n",
    "  <li><a href=\"3_Genomic_Linear_Mixed_Model.ipynb\">Bayesian Linear Mixed Models (Genomic Data)</a></li>\n",
    "</ul>"
   ]
  },
  {
   "cell_type": "markdown",
   "metadata": {},
   "source": [
    "<div class=\"span5 alert alert-success\">\n",
    " <font size=\"5\" face=\"Georgia\">Bayesian Linear Mixed Models (Genomic Data)</font> \n",
    "</div>"
   ]
  },
  {
   "cell_type": "markdown",
   "metadata": {},
   "source": [
    "<button type=\"button\" class=\"btn btn-lg btn-primary\">Step 1: Load Packages</button> "
   ]
  },
  {
   "cell_type": "code",
   "execution_count": 1,
   "metadata": {},
   "outputs": [],
   "source": [
    "using JWAS,JWAS.Datasets,DataFrames,CSV"
   ]
  },
  {
   "cell_type": "markdown",
   "metadata": {},
   "source": [
    "<button type=\"button\" class=\"btn btn-lg btn-primary\">Step 2: Read data</button> "
   ]
  },
  {
   "cell_type": "code",
   "execution_count": 2,
   "metadata": {},
   "outputs": [
    {
     "name": "stdout",
     "output_type": "stream",
     "text": [
      "\u001b[32mThe delimiter in pedigree.txt is ','.\u001b[39m\n",
      "Pedigree informatin:\n",
      "#individuals: 12\n",
      "#sires:       4\n",
      "#dams:        5\n",
      "#founders:    3\n"
     ]
    }
   ],
   "source": [
    "phenofile  = Datasets.dataset(\"example\",\"phenotypes.txt\")\n",
    "pedfile    = Datasets.dataset(\"example\",\"pedigree.txt\")\n",
    "genofile   = Datasets.dataset(\"example\",\"genotypes.txt\")\n",
    "\n",
    "phenotypes = CSV.read(phenofile,delim = ',',header=true,missingstrings=[\"NA\"])\n",
    "pedigree   = get_pedigree(pedfile,separator=\",\",header=true);"
   ]
  },
  {
   "cell_type": "code",
   "execution_count": 3,
   "metadata": {},
   "outputs": [
    {
     "data": {
      "text/html": [
       "<table class=\"data-frame\"><thead><tr><th></th><th>ID</th><th>y1</th><th>y2</th><th>y3</th><th>x1</th><th>x2</th><th>x3</th><th>dam</th><th>weights</th></tr><tr><th></th><th>String</th><th>Float64⍰</th><th>Float64⍰</th><th>Float64⍰</th><th>Float64</th><th>Float64</th><th>String</th><th>String⍰</th><th>Float64</th></tr></thead><tbody><p>5 rows × 9 columns</p><tr><th>1</th><td>a1</td><td>-0.06</td><td>3.58</td><td>-1.18</td><td>0.9</td><td>2.0</td><td>m</td><td>missing</td><td>1.0</td></tr><tr><th>2</th><td>a3</td><td>-2.07</td><td>3.19</td><td>1.0</td><td>0.7</td><td>2.0</td><td>f</td><td>missing</td><td>1.0</td></tr><tr><th>3</th><td>a4</td><td>-2.63</td><td>6.97</td><td>-0.83</td><td>0.6</td><td>1.0</td><td>m</td><td>a2</td><td>1.0</td></tr><tr><th>4</th><td>a5</td><td>2.31</td><td>missing</td><td>-1.52</td><td>0.4</td><td>2.0</td><td>m</td><td>a2</td><td>1.0</td></tr><tr><th>5</th><td>a7</td><td>missing</td><td>missing</td><td>missing</td><td>0.1</td><td>0.1</td><td>m</td><td>a3</td><td>1.0</td></tr></tbody></table>"
      ],
      "text/latex": [
       "\\begin{tabular}{r|ccccccccc}\n",
       "\t& ID & y1 & y2 & y3 & x1 & x2 & x3 & dam & weights\\\\\n",
       "\t\\hline\n",
       "\t& String & Float64⍰ & Float64⍰ & Float64⍰ & Float64 & Float64 & String & String⍰ & Float64\\\\\n",
       "\t\\hline\n",
       "\t1 & a1 & -0.06 & 3.58 & -1.18 & 0.9 & 2.0 & m &  & 1.0 \\\\\n",
       "\t2 & a3 & -2.07 & 3.19 & 1.0 & 0.7 & 2.0 & f &  & 1.0 \\\\\n",
       "\t3 & a4 & -2.63 & 6.97 & -0.83 & 0.6 & 1.0 & m & a2 & 1.0 \\\\\n",
       "\t4 & a5 & 2.31 &  & -1.52 & 0.4 & 2.0 & m & a2 & 1.0 \\\\\n",
       "\t5 & a7 &  &  &  & 0.1 & 0.1 & m & a3 & 1.0 \\\\\n",
       "\\end{tabular}\n"
      ],
      "text/plain": [
       "5×9 DataFrame. Omitted printing of 2 columns\n",
       "│ Row │ ID     │ y1       │ y2       │ y3       │ x1      │ x2      │ x3     │\n",
       "│     │ \u001b[90mString\u001b[39m │ \u001b[90mFloat64⍰\u001b[39m │ \u001b[90mFloat64⍰\u001b[39m │ \u001b[90mFloat64⍰\u001b[39m │ \u001b[90mFloat64\u001b[39m │ \u001b[90mFloat64\u001b[39m │ \u001b[90mString\u001b[39m │\n",
       "├─────┼────────┼──────────┼──────────┼──────────┼─────────┼─────────┼────────┤\n",
       "│ 1   │ a1     │ -0.06    │ 3.58     │ -1.18    │ 0.9     │ 2.0     │ m      │\n",
       "│ 2   │ a3     │ -2.07    │ 3.19     │ 1.0      │ 0.7     │ 2.0     │ f      │\n",
       "│ 3   │ a4     │ -2.63    │ 6.97     │ -0.83    │ 0.6     │ 1.0     │ m      │\n",
       "│ 4   │ a5     │ 2.31     │ \u001b[90mmissing\u001b[39m  │ -1.52    │ 0.4     │ 2.0     │ m      │\n",
       "│ 5   │ a7     │ \u001b[90mmissing\u001b[39m  │ \u001b[90mmissing\u001b[39m  │ \u001b[90mmissing\u001b[39m  │ 0.1     │ 0.1     │ m      │"
      ]
     },
     "execution_count": 3,
     "metadata": {},
     "output_type": "execute_result"
    }
   ],
   "source": [
    "first(phenotypes,5)"
   ]
  },
  {
   "cell_type": "markdown",
   "metadata": {},
   "source": [
    "<div class=\"span5 alert alert-success\">\n",
    " <font size=\"5\" face=\"Georgia\">Univariate Linear Mixed Model (Genomic data)</font> \n",
    "</div>"
   ]
  },
  {
   "cell_type": "markdown",
   "metadata": {},
   "source": [
    "<button type=\"button\" class=\"btn btn-lg btn-primary\">Step 3: Build Model Equations</button> "
   ]
  },
  {
   "cell_type": "code",
   "execution_count": 4,
   "metadata": {},
   "outputs": [],
   "source": [
    "model_equation1  =\"y1 = intercept + x1*x3 + x2 + x3 + ID + dam\";"
   ]
  },
  {
   "cell_type": "code",
   "execution_count": 5,
   "metadata": {},
   "outputs": [],
   "source": [
    "model1 = build_model(model_equation1);"
   ]
  },
  {
   "cell_type": "markdown",
   "metadata": {},
   "source": [
    "<button type=\"button\" class=\"btn btn-lg btn-primary\">Step 4: Set Factors or Covariates</button> "
   ]
  },
  {
   "cell_type": "code",
   "execution_count": 6,
   "metadata": {},
   "outputs": [],
   "source": [
    "set_covariate(model1,\"x1\");"
   ]
  },
  {
   "cell_type": "markdown",
   "metadata": {},
   "source": [
    "<button type=\"button\" class=\"btn btn-lg btn-primary\">Step 5: Set Random or Fixed Effects</button> "
   ]
  },
  {
   "cell_type": "code",
   "execution_count": 7,
   "metadata": {},
   "outputs": [],
   "source": [
    "set_random(model1,\"x2\");\n",
    "set_random(model1,\"ID dam\",pedigree);"
   ]
  },
  {
   "cell_type": "markdown",
   "metadata": {},
   "source": [
    "<button type=\"button\" class=\"btn btn-lg btn-primary\">Step 6: Use Genomic Information</button> "
   ]
  },
  {
   "cell_type": "code",
   "execution_count": 8,
   "metadata": {},
   "outputs": [
    {
     "name": "stdout",
     "output_type": "stream",
     "text": [
      "\u001b[32mThe delimiter in genotypes.txt is ','.\u001b[39m\n",
      "\u001b[32mThe header (marker IDs) is provided in genotypes.txt.\u001b[39m\n",
      "5 markers on 7 individuals were added.\n"
     ]
    }
   ],
   "source": [
    "add_genotypes(model1,genofile,separator=',');"
   ]
  },
  {
   "cell_type": "markdown",
   "metadata": {},
   "source": [
    "<button type=\"button\" class=\"btn btn-lg btn-primary\">Step 7: Run Analysis</button> "
   ]
  },
  {
   "cell_type": "code",
   "execution_count": 9,
   "metadata": {},
   "outputs": [
    {
     "name": "stdout",
     "output_type": "stream",
     "text": [
      "\u001b[32mChecking phenotypes...\u001b[39m\n",
      "\u001b[32mIndividual IDs (strings) are provided in the first column of the phenotypic data.\u001b[39m\n",
      "\u001b[31mPhenotypes for all traits included in the model for individual a7 in the row 5 are missing. This record is deleted.\u001b[39m\n",
      "\u001b[32mThe number of observations with both genotypes and phenotypes used in the analysis is 4.\u001b[39m\n",
      "\u001b[32mThe number of observations with both phenotype and pedigree information used in the analysis is 4.\u001b[39m\n",
      "\u001b[32mPrior information for genomic variance is not provided and is generated from the data.\u001b[39m\n",
      "\u001b[32mPrior information for residual variance is not provided and is generated from the data.\u001b[39m\n",
      "\u001b[32mPrior information for random effect variance is not provided and is generated from the data.\u001b[39m\n",
      "\u001b[32mPrior information for random effect variance is not provided and is generated from the data.\u001b[39m\n",
      "\u001b[31mMissing values are found in independent variables: dam.\u001b[39m\n",
      "\n",
      "The prior for marker effects variance is calculated from the genetic variance and π.\n",
      "The mean of the prior for the marker effects variance is: 0.617255\n",
      "\n",
      "\n",
      "\n",
      "\u001b[0m\u001b[1mA Linear Mixed Model was build using model equations:\u001b[22m\n",
      "\n",
      "y1 = intercept + x1*x3 + x2 + x3 + ID + dam\n",
      "\n",
      "\u001b[0m\u001b[1mModel Information:\u001b[22m\n",
      "\n",
      "Term            C/F          F/R            nLevels\n",
      "intercept       factor       fixed                1\n",
      "x1*x3           interaction  fixed                2\n",
      "x2              factor       random               2\n",
      "x3              factor       fixed                2\n",
      "ID              factor       random              12\n",
      "dam             factor       random              12\n",
      "\n",
      "\u001b[0m\u001b[1mMCMC Information:\u001b[22m\n",
      "\n",
      "methods                                      BayesC\n",
      "                              complete genomic data\n",
      "                   (i.e., non-single-step analysis)\n",
      "chain_length                                    100\n",
      "burnin                                            0\n",
      "estimatePi                                     true\n",
      "estimateScale                                 false\n",
      "starting_value                                false\n",
      "printout_frequency                              101\n",
      "output_samples_frequency                          1\n",
      "constraint                                    false\n",
      "missing_phenotypes                             true\n",
      "update_priors_frequency                           0\n",
      "seed                                          false\n",
      "\n",
      "\u001b[0m\u001b[1mHyper-parameters Information:\u001b[22m\n",
      "\n",
      "random effect variances (y1:x2):              [1.253]\n",
      "random effect variances (y1:ID,y1:dam): [1.253 0.0; 0.0 1.253]\n",
      "residual variances:                           1.253\n",
      "genetic variances (genomic):                  1.253\n",
      "marker effect variances:                      0.617\n",
      "π                                               0.0\n",
      "\n",
      "\u001b[0m\u001b[1mDegree of freedom for hyper-parameters:\u001b[22m\n",
      "\n",
      "residual variances:                           4.000\n",
      "random effect variances:                      5.000\n",
      "polygenic effect variances:                   6.000\n",
      "marker effect variances:                      4.000\n",
      "\n",
      "\n",
      "\n",
      "\u001b[31mThe file MCMC_samples_residual_variance.txt already exists!!! It is overwritten by the new output.\u001b[39m\n",
      "\u001b[31mThe file MCMC_samples_polygenic_effects_variance.txt already exists!!! It is overwritten by the new output.\u001b[39m\n",
      "\u001b[32mThe file MCMC_samples_marker_effects_y1.txt is created to save MCMC samples for marker_effects_y1.\u001b[39m\n",
      "\u001b[32mThe file MCMC_samples_marker_effects_variances.txt is created to save MCMC samples for marker_effects_variances.\u001b[39m\n",
      "\u001b[32mThe file MCMC_samples_pi.txt is created to save MCMC samples for pi.\u001b[39m\n",
      "\u001b[31mThe file MCMC_samples_y1.x2_variances.txt already exists!!! It is overwritten by the new output.\u001b[39m\n",
      "\u001b[31mThe file MCMC_samples_y1.ID_y1.dam_variances.txt already exists!!! It is overwritten by the new output.\u001b[39m\n",
      "\u001b[31mThe file MCMC_samples_EBV_y1.txt already exists!!! It is overwritten by the new output.\u001b[39m\n",
      "\u001b[31mThe file MCMC_samples_genetic_variance.txt already exists!!! It is overwritten by the new output.\u001b[39m\n",
      "\u001b[31mThe file MCMC_samples_heritability.txt already exists!!! It is overwritten by the new output.\u001b[39m\n"
     ]
    },
    {
     "name": "stderr",
     "output_type": "stream",
     "text": [
      "\u001b[32mrunning MCMC for BayesC...100%|█████████████████████████| Time: 0:00:02\u001b[39m\n"
     ]
    },
    {
     "name": "stdout",
     "output_type": "stream",
     "text": [
      "\n",
      "\n",
      "\u001b[0m\u001b[1mThe version of Julia and Platform in use:\u001b[22m\n",
      "\n",
      "Julia Version 1.3.1\n",
      "Commit 2d5741174c (2019-12-30 21:36 UTC)\n",
      "Platform Info:\n",
      "  OS: macOS (x86_64-apple-darwin18.6.0)\n",
      "  CPU: Intel(R) Core(TM) i7-7700K CPU @ 4.20GHz\n",
      "  WORD_SIZE: 64\n",
      "  LIBM: libopenlibm\n",
      "  LLVM: libLLVM-6.0.1 (ORCJIT, skylake)\n",
      "\n",
      "\n",
      "\u001b[0m\u001b[1mThe analysis has finished. Results are saved in the returned \u001b[22m\u001b[0m\u001b[1mvariable and text files. MCMC samples are saved in text files.\u001b[22m\n",
      "\n",
      "\n"
     ]
    }
   ],
   "source": [
    "out1=runMCMC(model1,phenotypes,methods=\"BayesC\",estimatePi=true);"
   ]
  },
  {
   "cell_type": "markdown",
   "metadata": {},
   "source": [
    "<button type=\"button\" class=\"btn btn-lg btn-primary\">Check Results</button> "
   ]
  },
  {
   "cell_type": "code",
   "execution_count": 10,
   "metadata": {},
   "outputs": [
    {
     "data": {
      "text/plain": [
       "Base.KeySet for a Dict{Any,Any} with 9 entries. Keys:\n",
       "  \"marker effects\"\n",
       "  \"EBV_y1\"\n",
       "  \"Pi\"\n",
       "  \"heritability\"\n",
       "  \"location parameters\"\n",
       "  \"residual variance\"\n",
       "  \"polygenic effects covariance matrix\"\n",
       "  \"genetic_variance\"\n",
       "  \"marker effects variance\""
      ]
     },
     "execution_count": 10,
     "metadata": {},
     "output_type": "execute_result"
    }
   ],
   "source": [
    "keys(out1)"
   ]
  },
  {
   "cell_type": "code",
   "execution_count": 11,
   "metadata": {},
   "outputs": [
    {
     "data": {
      "text/html": [
       "<table class=\"data-frame\"><thead><tr><th></th><th>ID</th><th>EBV</th><th>PEV</th></tr><tr><th></th><th>Any</th><th>Any</th><th>Any</th></tr></thead><tbody><p>7 rows × 3 columns</p><tr><th>1</th><td>a1</td><td>0.446483</td><td>1.80448</td></tr><tr><th>2</th><td>a3</td><td>0.246589</td><td>1.93395</td></tr><tr><th>3</th><td>a4</td><td>-1.20395</td><td>1.3241</td></tr><tr><th>4</th><td>a5</td><td>-0.334794</td><td>1.48462</td></tr><tr><th>5</th><td>a6</td><td>0.239163</td><td>2.05027</td></tr><tr><th>6</th><td>a7</td><td>0.532515</td><td>2.21422</td></tr><tr><th>7</th><td>a8</td><td>-0.431805</td><td>1.82995</td></tr></tbody></table>"
      ],
      "text/latex": [
       "\\begin{tabular}{r|ccc}\n",
       "\t& ID & EBV & PEV\\\\\n",
       "\t\\hline\n",
       "\t& Any & Any & Any\\\\\n",
       "\t\\hline\n",
       "\t1 & a1 & 0.446483 & 1.80448 \\\\\n",
       "\t2 & a3 & 0.246589 & 1.93395 \\\\\n",
       "\t3 & a4 & -1.20395 & 1.3241 \\\\\n",
       "\t4 & a5 & -0.334794 & 1.48462 \\\\\n",
       "\t5 & a6 & 0.239163 & 2.05027 \\\\\n",
       "\t6 & a7 & 0.532515 & 2.21422 \\\\\n",
       "\t7 & a8 & -0.431805 & 1.82995 \\\\\n",
       "\\end{tabular}\n"
      ],
      "text/plain": [
       "7×3 DataFrame\n",
       "│ Row │ ID  │ EBV       │ PEV     │\n",
       "│     │ \u001b[90mAny\u001b[39m │ \u001b[90mAny\u001b[39m       │ \u001b[90mAny\u001b[39m     │\n",
       "├─────┼─────┼───────────┼─────────┤\n",
       "│ 1   │ a1  │ 0.446483  │ 1.80448 │\n",
       "│ 2   │ a3  │ 0.246589  │ 1.93395 │\n",
       "│ 3   │ a4  │ -1.20395  │ 1.3241  │\n",
       "│ 4   │ a5  │ -0.334794 │ 1.48462 │\n",
       "│ 5   │ a6  │ 0.239163  │ 2.05027 │\n",
       "│ 6   │ a7  │ 0.532515  │ 2.21422 │\n",
       "│ 7   │ a8  │ -0.431805 │ 1.82995 │"
      ]
     },
     "execution_count": 11,
     "metadata": {},
     "output_type": "execute_result"
    }
   ],
   "source": [
    "out1[\"EBV_y1\"]"
   ]
  },
  {
   "cell_type": "code",
   "execution_count": 12,
   "metadata": {},
   "outputs": [
    {
     "data": {
      "text/html": [
       "<table class=\"data-frame\"><thead><tr><th></th><th>π</th><th>Estimate</th><th>Std_Error</th></tr><tr><th></th><th>Any</th><th>Any</th><th>Any</th></tr></thead><tbody><p>1 rows × 3 columns</p><tr><th>1</th><td>π</td><td>0.427833</td><td>0.279688</td></tr></tbody></table>"
      ],
      "text/latex": [
       "\\begin{tabular}{r|ccc}\n",
       "\t& π & Estimate & Std\\_Error\\\\\n",
       "\t\\hline\n",
       "\t& Any & Any & Any\\\\\n",
       "\t\\hline\n",
       "\t1 & π & 0.427833 & 0.279688 \\\\\n",
       "\\end{tabular}\n"
      ],
      "text/plain": [
       "1×3 DataFrame\n",
       "│ Row │ π   │ Estimate │ Std_Error │\n",
       "│     │ \u001b[90mAny\u001b[39m │ \u001b[90mAny\u001b[39m      │ \u001b[90mAny\u001b[39m       │\n",
       "├─────┼─────┼──────────┼───────────┤\n",
       "│ 1   │ π   │ 0.427833 │ 0.279688  │"
      ]
     },
     "execution_count": 12,
     "metadata": {},
     "output_type": "execute_result"
    }
   ],
   "source": [
    "out1[\"Pi\"]"
   ]
  },
  {
   "cell_type": "markdown",
   "metadata": {},
   "source": [
    "<div class=\"span5 alert alert-success\">\n",
    " <font size=\"5\" face=\"Georgia\">Multivariate Linear Mixed Model (Genomic data)</font> \n",
    "</div>"
   ]
  },
  {
   "cell_type": "markdown",
   "metadata": {},
   "source": [
    "<button type=\"button\" class=\"btn btn-lg btn-primary\">Step 3: Build Model Equations</button> "
   ]
  },
  {
   "cell_type": "code",
   "execution_count": 13,
   "metadata": {},
   "outputs": [],
   "source": [
    "model_equation2 =\"y1 = intercept + x1 + x3 + ID + dam\n",
    "                  y2 = intercept + x1 + x2 + x3 + ID\n",
    "                  y3 = intercept + x1 + x1*x3 + x2 + ID\";"
   ]
  },
  {
   "cell_type": "code",
   "execution_count": 14,
   "metadata": {},
   "outputs": [],
   "source": [
    "model2 = build_model(model_equation2);"
   ]
  },
  {
   "cell_type": "markdown",
   "metadata": {},
   "source": [
    "<button type=\"button\" class=\"btn btn-lg btn-primary\">Step 4: Set Factors or Covariates</button> "
   ]
  },
  {
   "cell_type": "code",
   "execution_count": 15,
   "metadata": {},
   "outputs": [],
   "source": [
    "set_covariate(model2,\"x1\");"
   ]
  },
  {
   "cell_type": "markdown",
   "metadata": {},
   "source": [
    "<button type=\"button\" class=\"btn btn-lg btn-primary\">Step 5: Set Random or Fixed Effects</button> "
   ]
  },
  {
   "cell_type": "code",
   "execution_count": 16,
   "metadata": {},
   "outputs": [
    {
     "name": "stdout",
     "output_type": "stream",
     "text": [
      "\u001b[32mx2 is not found in model equation 1.\u001b[39m\n",
      "\u001b[32mdam is not found in model equation 2.\u001b[39m\n",
      "\u001b[32mdam is not found in model equation 3.\u001b[39m\n"
     ]
    }
   ],
   "source": [
    "set_random(model2,\"x2\");\n",
    "set_random(model2,\"ID dam\",pedigree);"
   ]
  },
  {
   "cell_type": "markdown",
   "metadata": {},
   "source": [
    "<button type=\"button\" class=\"btn btn-lg btn-primary\">Step 6: Use Genomic Information</button> "
   ]
  },
  {
   "cell_type": "code",
   "execution_count": 17,
   "metadata": {},
   "outputs": [
    {
     "name": "stdout",
     "output_type": "stream",
     "text": [
      "\u001b[32mThe delimiter in genotypes.txt is ','.\u001b[39m\n",
      "\u001b[32mThe header (marker IDs) is provided in genotypes.txt.\u001b[39m\n",
      "5 markers on 7 individuals were added.\n"
     ]
    }
   ],
   "source": [
    "add_genotypes(model2,genofile,separator=',');"
   ]
  },
  {
   "cell_type": "markdown",
   "metadata": {},
   "source": [
    "<button type=\"button\" class=\"btn btn-lg btn-primary\">Step 7: Run Analysis</button> "
   ]
  },
  {
   "cell_type": "code",
   "execution_count": 18,
   "metadata": {},
   "outputs": [
    {
     "name": "stdout",
     "output_type": "stream",
     "text": [
      "\u001b[32mChecking phenotypes...\u001b[39m\n",
      "\u001b[32mIndividual IDs (strings) are provided in the first column of the phenotypic data.\u001b[39m\n",
      "\u001b[31mPhenotypes for all traits included in the model for individual a7 in the row 5 are missing. This record is deleted.\u001b[39m\n",
      "\u001b[32mThe number of observations with both genotypes and phenotypes used in the analysis is 4.\u001b[39m\n",
      "\u001b[32mThe number of observations with both phenotype and pedigree information used in the analysis is 4.\u001b[39m\n",
      "\u001b[32mPrior information for genomic variance is not provided and is generated from the data.\u001b[39m\n",
      "\u001b[32mPrior information for residual variance is not provided and is generated from the data.\u001b[39m\n",
      "\u001b[32mPrior information for random effect variance is not provided and is generated from the data.\u001b[39m\n",
      "\u001b[32mPrior information for random effect variance is not provided and is generated from the data.\u001b[39m\n",
      "\u001b[31mMissing values are found in independent variables: dam.\u001b[39m\n",
      "\n",
      "\u001b[0mPi (Π) is not provided.\n",
      "\u001b[0mPi (Π) is generated assuming all markers have effects on all traits.\n",
      "\n",
      "The prior for marker effects covariance matrix is calculated from genetic covariance matrix and Π.\n",
      "The mean of the prior for the marker effects covariance matrix is:\n",
      " 0.617255  0.0       0.0     \n",
      " 0.0       0.532118  0.0     \n",
      " 0.0       0.0       0.155597\n",
      "\n",
      "\n",
      "\n",
      "\u001b[0m\u001b[1mA Linear Mixed Model was build using model equations:\u001b[22m\n",
      "\n",
      "y1 = intercept + x1 + x3 + ID + dam\n",
      "y2 = intercept + x1 + x2 + x3 + ID\n",
      "y3 = intercept + x1 + x1*x3 + x2 + ID\n",
      "\n",
      "\u001b[0m\u001b[1mModel Information:\u001b[22m\n",
      "\n",
      "Term            C/F          F/R            nLevels\n",
      "intercept       factor       fixed                1\n",
      "x1              covariate    fixed                1\n",
      "x3              factor       fixed                2\n",
      "ID              factor       random              12\n",
      "dam             factor       random              12\n",
      "x2              factor       random               2\n",
      "x1*x3           interaction  fixed                2\n",
      "\n",
      "\u001b[0m\u001b[1mMCMC Information:\u001b[22m\n",
      "\n",
      "methods                                      BayesC\n",
      "                              complete genomic data\n",
      "                   (i.e., non-single-step analysis)\n",
      "chain_length                                    100\n",
      "burnin                                            0\n",
      "estimatePi                                     true\n",
      "estimateScale                                 false\n",
      "starting_value                                false\n",
      "printout_frequency                              101\n",
      "output_samples_frequency                          1\n",
      "constraint                                    false\n",
      "missing_phenotypes                             true\n",
      "update_priors_frequency                           0\n",
      "seed                                          false\n",
      "\n",
      "\u001b[0m\u001b[1mHyper-parameters Information:\u001b[22m\n",
      "\n",
      "random effect variances (y2:x2,y3:x2):\n",
      " 1.081  0.0  \n",
      " 0.0    0.316\n",
      "random effect variances (y1:ID,y2:ID,y3:ID,y1:dam):\n",
      " 1.253  0.0    0.0    0.0  \n",
      " 0.0    1.081  0.0    0.0  \n",
      " 0.0    0.0    0.316  0.0  \n",
      " 0.0    0.0    0.0    1.253\n",
      "residual variances:           \n",
      " 1.253  0.0    0.0  \n",
      " 0.0    1.081  0.0  \n",
      " 0.0    0.0    0.316\n",
      "genetic variances (polygenic):\n",
      " 1.253  0.0    0.0    0.0  \n",
      " 0.0    1.081  0.0    0.0  \n",
      " 0.0    0.0    0.316  0.0  \n",
      " 0.0    0.0    0.0    1.253\n",
      "genetic variances (genomic):  \n",
      " 1.253  0.0    0.0  \n",
      " 0.0    1.081  0.0  \n",
      " 0.0    0.0    0.316\n",
      "marker effect variances:      \n",
      " 0.617  0.0    0.0  \n",
      " 0.0    0.532  0.0  \n",
      " 0.0    0.0    0.156\n",
      "\n",
      "Π: (Y(yes):included; N(no):excluded)\n",
      "\n",
      "[\"y1\", \"y2\", \"y3\"]         probability\n",
      "[\"Y\", \"Y\", \"N\"]                 0.0\n",
      "[\"N\", \"N\", \"N\"]                 0.0\n",
      "[\"Y\", \"N\", \"N\"]                 0.0\n",
      "[\"N\", \"Y\", \"Y\"]                 0.0\n",
      "[\"Y\", \"N\", \"Y\"]                 0.0\n",
      "[\"N\", \"N\", \"Y\"]                 0.0\n",
      "[\"Y\", \"Y\", \"Y\"]                 1.0\n",
      "[\"N\", \"Y\", \"N\"]                 0.0\n",
      "\n",
      "\u001b[0m\u001b[1mDegree of freedom for hyper-parameters:\u001b[22m\n",
      "\n",
      "residual variances:                           7.000\n",
      "random effect variances:                      6.000\n",
      "polygenic effect variances:                   8.000\n",
      "marker effect variances:                      7.000\n",
      "\n",
      "\n",
      "\n",
      "\u001b[31mThe file MCMC_samples_residual_variance.txt already exists!!! It is overwritten by the new output.\u001b[39m\n",
      "\u001b[31mThe file MCMC_samples_polygenic_effects_variance.txt already exists!!! It is overwritten by the new output.\u001b[39m\n",
      "\u001b[31mThe file MCMC_samples_marker_effects_y1.txt already exists!!! It is overwritten by the new output.\u001b[39m\n",
      "\u001b[32mThe file MCMC_samples_marker_effects_y2.txt is created to save MCMC samples for marker_effects_y2.\u001b[39m\n",
      "\u001b[32mThe file MCMC_samples_marker_effects_y3.txt is created to save MCMC samples for marker_effects_y3.\u001b[39m\n",
      "\u001b[31mThe file MCMC_samples_marker_effects_variances.txt already exists!!! It is overwritten by the new output.\u001b[39m\n",
      "\u001b[31mThe file MCMC_samples_pi.txt already exists!!! It is overwritten by the new output.\u001b[39m\n",
      "\u001b[31mThe file MCMC_samples_y2.x2_y3.x2_variances.txt already exists!!! It is overwritten by the new output.\u001b[39m\n",
      "\u001b[31mThe file MCMC_samples_y1.ID_y2.ID_y3.ID_y1.dam_variances.txt already exists!!! It is overwritten by the new output.\u001b[39m\n",
      "\u001b[31mThe file MCMC_samples_EBV_y1.txt already exists!!! It is overwritten by the new output.\u001b[39m\n",
      "\u001b[31mThe file MCMC_samples_EBV_y2.txt already exists!!! It is overwritten by the new output.\u001b[39m\n",
      "\u001b[31mThe file MCMC_samples_EBV_y3.txt already exists!!! It is overwritten by the new output.\u001b[39m\n",
      "\u001b[31mThe file MCMC_samples_genetic_variance.txt already exists!!! It is overwritten by the new output.\u001b[39m\n",
      "\u001b[31mThe file MCMC_samples_heritability.txt already exists!!! It is overwritten by the new output.\u001b[39m\n"
     ]
    },
    {
     "name": "stderr",
     "output_type": "stream",
     "text": [
      "\u001b[32mrunning MCMC for BayesC...100%|█████████████████████████| Time: 0:00:03\u001b[39m\n"
     ]
    },
    {
     "name": "stdout",
     "output_type": "stream",
     "text": [
      "\n",
      "\n",
      "\u001b[0m\u001b[1mThe version of Julia and Platform in use:\u001b[22m\n",
      "\n",
      "Julia Version 1.3.1\n",
      "Commit 2d5741174c (2019-12-30 21:36 UTC)\n",
      "Platform Info:\n",
      "  OS: macOS (x86_64-apple-darwin18.6.0)\n",
      "  CPU: Intel(R) Core(TM) i7-7700K CPU @ 4.20GHz\n",
      "  WORD_SIZE: 64\n",
      "  LIBM: libopenlibm\n",
      "  LLVM: libLLVM-6.0.1 (ORCJIT, skylake)\n",
      "\n",
      "\n",
      "\u001b[0m\u001b[1mThe analysis has finished. Results are saved in the returned \u001b[22m\u001b[0m\u001b[1mvariable and text files. MCMC samples are saved in text files.\u001b[22m\n",
      "\n",
      "\n"
     ]
    }
   ],
   "source": [
    "out2=runMCMC(model2,phenotypes,methods=\"BayesC\",estimatePi=true);"
   ]
  },
  {
   "cell_type": "markdown",
   "metadata": {},
   "source": [
    "<button type=\"button\" class=\"btn btn-lg btn-primary\">Check Results</button> "
   ]
  },
  {
   "cell_type": "code",
   "execution_count": 19,
   "metadata": {},
   "outputs": [
    {
     "data": {
      "text/plain": [
       "Base.KeySet for a Dict{Any,Any} with 11 entries. Keys:\n",
       "  \"location parameters\"\n",
       "  \"polygenic effects covariance matrix\"\n",
       "  \"EBV_y3\"\n",
       "  \"genetic_variance\"\n",
       "  \"EBV_y2\"\n",
       "  \"EBV_y1\"\n",
       "  \"marker effects\"\n",
       "  \"heritability\"\n",
       "  \"residual variance\"\n",
       "  \"Pi\"\n",
       "  \"marker effects variance\""
      ]
     },
     "execution_count": 19,
     "metadata": {},
     "output_type": "execute_result"
    }
   ],
   "source": [
    "keys(out2)"
   ]
  },
  {
   "cell_type": "code",
   "execution_count": 20,
   "metadata": {},
   "outputs": [
    {
     "data": {
      "text/html": [
       "<table class=\"data-frame\"><thead><tr><th></th><th>π</th><th>Estimate</th><th>Std_Error</th></tr><tr><th></th><th>Any</th><th>Any</th><th>Any</th></tr></thead><tbody><p>8 rows × 3 columns</p><tr><th>1</th><td>[1.0, 1.0, 0.0]</td><td>0.136707</td><td>0.118103</td></tr><tr><th>2</th><td>[0.0, 0.0, 0.0]</td><td>0.135537</td><td>0.110178</td></tr><tr><th>3</th><td>[1.0, 0.0, 0.0]</td><td>0.147073</td><td>0.118746</td></tr><tr><th>4</th><td>[0.0, 1.0, 1.0]</td><td>0.110508</td><td>0.0945137</td></tr><tr><th>5</th><td>[1.0, 0.0, 1.0]</td><td>0.108752</td><td>0.117394</td></tr><tr><th>6</th><td>[0.0, 0.0, 1.0]</td><td>0.109641</td><td>0.10215</td></tr><tr><th>7</th><td>[1.0, 1.0, 1.0]</td><td>0.129829</td><td>0.117483</td></tr><tr><th>8</th><td>[0.0, 1.0, 0.0]</td><td>0.121955</td><td>0.106232</td></tr></tbody></table>"
      ],
      "text/latex": [
       "\\begin{tabular}{r|ccc}\n",
       "\t& π & Estimate & Std\\_Error\\\\\n",
       "\t\\hline\n",
       "\t& Any & Any & Any\\\\\n",
       "\t\\hline\n",
       "\t1 & [1.0, 1.0, 0.0] & 0.136707 & 0.118103 \\\\\n",
       "\t2 & [0.0, 0.0, 0.0] & 0.135537 & 0.110178 \\\\\n",
       "\t3 & [1.0, 0.0, 0.0] & 0.147073 & 0.118746 \\\\\n",
       "\t4 & [0.0, 1.0, 1.0] & 0.110508 & 0.0945137 \\\\\n",
       "\t5 & [1.0, 0.0, 1.0] & 0.108752 & 0.117394 \\\\\n",
       "\t6 & [0.0, 0.0, 1.0] & 0.109641 & 0.10215 \\\\\n",
       "\t7 & [1.0, 1.0, 1.0] & 0.129829 & 0.117483 \\\\\n",
       "\t8 & [0.0, 1.0, 0.0] & 0.121955 & 0.106232 \\\\\n",
       "\\end{tabular}\n"
      ],
      "text/plain": [
       "8×3 DataFrame\n",
       "│ Row │ π               │ Estimate │ Std_Error │\n",
       "│     │ \u001b[90mAny\u001b[39m             │ \u001b[90mAny\u001b[39m      │ \u001b[90mAny\u001b[39m       │\n",
       "├─────┼─────────────────┼──────────┼───────────┤\n",
       "│ 1   │ [1.0, 1.0, 0.0] │ 0.136707 │ 0.118103  │\n",
       "│ 2   │ [0.0, 0.0, 0.0] │ 0.135537 │ 0.110178  │\n",
       "│ 3   │ [1.0, 0.0, 0.0] │ 0.147073 │ 0.118746  │\n",
       "│ 4   │ [0.0, 1.0, 1.0] │ 0.110508 │ 0.0945137 │\n",
       "│ 5   │ [1.0, 0.0, 1.0] │ 0.108752 │ 0.117394  │\n",
       "│ 6   │ [0.0, 0.0, 1.0] │ 0.109641 │ 0.10215   │\n",
       "│ 7   │ [1.0, 1.0, 1.0] │ 0.129829 │ 0.117483  │\n",
       "│ 8   │ [0.0, 1.0, 0.0] │ 0.121955 │ 0.106232  │"
      ]
     },
     "execution_count": 20,
     "metadata": {},
     "output_type": "execute_result"
    }
   ],
   "source": [
    "out2[\"Pi\"]"
   ]
  },
  {
   "cell_type": "code",
   "execution_count": 21,
   "metadata": {},
   "outputs": [
    {
     "data": {
      "text/html": [
       "<table class=\"data-frame\"><thead><tr><th></th><th>ID</th><th>EBV</th><th>PEV</th></tr><tr><th></th><th>Any</th><th>Any</th><th>Any</th></tr></thead><tbody><p>7 rows × 3 columns</p><tr><th>1</th><td>a1</td><td>-1.15508</td><td>0.718204</td></tr><tr><th>2</th><td>a3</td><td>0.657493</td><td>2.40265</td></tr><tr><th>3</th><td>a4</td><td>-0.586396</td><td>1.05399</td></tr><tr><th>4</th><td>a5</td><td>-0.65314</td><td>1.99496</td></tr><tr><th>5</th><td>a6</td><td>-0.164568</td><td>1.64079</td></tr><tr><th>6</th><td>a7</td><td>-0.723695</td><td>1.48565</td></tr><tr><th>7</th><td>a8</td><td>-0.814014</td><td>2.1087</td></tr></tbody></table>"
      ],
      "text/latex": [
       "\\begin{tabular}{r|ccc}\n",
       "\t& ID & EBV & PEV\\\\\n",
       "\t\\hline\n",
       "\t& Any & Any & Any\\\\\n",
       "\t\\hline\n",
       "\t1 & a1 & -1.15508 & 0.718204 \\\\\n",
       "\t2 & a3 & 0.657493 & 2.40265 \\\\\n",
       "\t3 & a4 & -0.586396 & 1.05399 \\\\\n",
       "\t4 & a5 & -0.65314 & 1.99496 \\\\\n",
       "\t5 & a6 & -0.164568 & 1.64079 \\\\\n",
       "\t6 & a7 & -0.723695 & 1.48565 \\\\\n",
       "\t7 & a8 & -0.814014 & 2.1087 \\\\\n",
       "\\end{tabular}\n"
      ],
      "text/plain": [
       "7×3 DataFrame\n",
       "│ Row │ ID  │ EBV       │ PEV      │\n",
       "│     │ \u001b[90mAny\u001b[39m │ \u001b[90mAny\u001b[39m       │ \u001b[90mAny\u001b[39m      │\n",
       "├─────┼─────┼───────────┼──────────┤\n",
       "│ 1   │ a1  │ -1.15508  │ 0.718204 │\n",
       "│ 2   │ a3  │ 0.657493  │ 2.40265  │\n",
       "│ 3   │ a4  │ -0.586396 │ 1.05399  │\n",
       "│ 4   │ a5  │ -0.65314  │ 1.99496  │\n",
       "│ 5   │ a6  │ -0.164568 │ 1.64079  │\n",
       "│ 6   │ a7  │ -0.723695 │ 1.48565  │\n",
       "│ 7   │ a8  │ -0.814014 │ 2.1087   │"
      ]
     },
     "execution_count": 21,
     "metadata": {},
     "output_type": "execute_result"
    }
   ],
   "source": [
    "out2[\"EBV_y2\"]"
   ]
  }
 ],
 "metadata": {
  "anaconda-cloud": {},
  "kernelspec": {
   "display_name": "Julia 1.3.0",
   "language": "julia",
   "name": "julia-1.3"
  },
  "language_info": {
   "file_extension": ".jl",
   "mimetype": "application/julia",
   "name": "julia",
   "version": "1.3.1"
  }
 },
 "nbformat": 4,
 "nbformat_minor": 2
}
