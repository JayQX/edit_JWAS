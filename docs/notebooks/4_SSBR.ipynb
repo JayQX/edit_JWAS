{
 "cells": [
  {
   "cell_type": "markdown",
   "metadata": {},
   "source": [
    "<ul class=\"breadcrumb\">\n",
    "  <li><a href=\"1_Conventional_Linear_Mixed_Model.ipynb\">Bayesian Linear Mixed Models (Conventional)</a></li>\n",
    "  <li><a href=\"2_Linear_Additive_Genetic_Model.ipynb\">Bayesian Linear Additive Genetic Model</a></li> \n",
    "  <li><a href=\"3_Genomic_Linear_Mixed_Model.ipynb\">Bayesian Linear Mixed Models (Genomic Data)</a></li>\n",
    "</ul>"
   ]
  },
  {
   "cell_type": "markdown",
   "metadata": {},
   "source": [
    "<div class=\"span5 alert alert-success\">\n",
    " <font size=\"5\" face=\"Georgia\">Single-step Bayesian Regression (Incomplete Genomic Data)</font> \n",
    "</div>"
   ]
  },
  {
   "cell_type": "markdown",
   "metadata": {},
   "source": [
    "<button type=\"button\" class=\"btn btn-lg btn-primary\">Step 1: Load Packages</button> "
   ]
  },
  {
   "cell_type": "code",
   "execution_count": 48,
   "metadata": {},
   "outputs": [],
   "source": [
    "using JWAS,JWAS.Datasets,DataFrames,CSV, LinearAlgebra"
   ]
  },
  {
   "cell_type": "markdown",
   "metadata": {},
   "source": [
    "<button type=\"button\" class=\"btn btn-lg btn-primary\">Step 2: Read data</button> "
   ]
  },
  {
   "cell_type": "code",
   "execution_count": 49,
   "metadata": {},
   "outputs": [
    {
     "name": "stdout",
     "output_type": "stream",
     "text": [
      "\u001b[32mThe delimiter in pedigree.txt is ','.\u001b[39m\n",
      "Pedigree informatin:\n",
      "#individuals: 12\n",
      "#sires:       4\n",
      "#dams:        5\n",
      "#founders:    3\n"
     ]
    }
   ],
   "source": [
    "phenofile  = Datasets.dataset(\"example\",\"phenotypes_ssbr.txt\")\n",
    "pedfile    = Datasets.dataset(\"example\",\"pedigree.txt\")\n",
    "genofile   = Datasets.dataset(\"example\",\"genotypes.txt\")\n",
    "\n",
    "phenotypes = CSV.read(phenofile,delim = ',',header=true,missingstrings=[\"NA\"])\n",
    "pedigree   = get_pedigree(pedfile,separator=\",\",header=true);"
   ]
  },
  {
   "cell_type": "code",
   "execution_count": 51,
   "metadata": {},
   "outputs": [
    {
     "data": {
      "text/html": [
       "<table class=\"data-frame\"><thead><tr><th></th><th>ID</th><th>y1</th><th>y2</th><th>y3</th><th>x1</th><th>x2</th><th>x3</th><th>dam</th><th>weights</th></tr><tr><th></th><th>String</th><th>Float64</th><th>Float64</th><th>Float64</th><th>Float64</th><th>Int64</th><th>String</th><th>String⍰</th><th>Float64</th></tr></thead><tbody><p>5 rows × 9 columns</p><tr><th>1</th><td>a1</td><td>-0.06</td><td>3.58</td><td>-1.18</td><td>0.9</td><td>2</td><td>m</td><td>missing</td><td>1.0</td></tr><tr><th>2</th><td>a2</td><td>-0.6</td><td>4.9</td><td>0.88</td><td>0.3</td><td>1</td><td>f</td><td>missing</td><td>1.0</td></tr><tr><th>3</th><td>a3</td><td>-2.07</td><td>3.19</td><td>0.73</td><td>0.7</td><td>2</td><td>f</td><td>missing</td><td>1.0</td></tr><tr><th>4</th><td>a4</td><td>-2.63</td><td>6.97</td><td>-0.83</td><td>0.6</td><td>1</td><td>m</td><td>a2</td><td>1.0</td></tr><tr><th>5</th><td>a5</td><td>2.31</td><td>3.5</td><td>-1.52</td><td>0.4</td><td>2</td><td>m</td><td>a2</td><td>1.0</td></tr></tbody></table>"
      ],
      "text/latex": [
       "\\begin{tabular}{r|ccccccccc}\n",
       "\t& ID & y1 & y2 & y3 & x1 & x2 & x3 & dam & weights\\\\\n",
       "\t\\hline\n",
       "\t& String & Float64 & Float64 & Float64 & Float64 & Int64 & String & String⍰ & Float64\\\\\n",
       "\t\\hline\n",
       "\t1 & a1 & -0.06 & 3.58 & -1.18 & 0.9 & 2 & m &  & 1.0 \\\\\n",
       "\t2 & a2 & -0.6 & 4.9 & 0.88 & 0.3 & 1 & f &  & 1.0 \\\\\n",
       "\t3 & a3 & -2.07 & 3.19 & 0.73 & 0.7 & 2 & f &  & 1.0 \\\\\n",
       "\t4 & a4 & -2.63 & 6.97 & -0.83 & 0.6 & 1 & m & a2 & 1.0 \\\\\n",
       "\t5 & a5 & 2.31 & 3.5 & -1.52 & 0.4 & 2 & m & a2 & 1.0 \\\\\n",
       "\\end{tabular}\n"
      ],
      "text/plain": [
       "5×9 DataFrame. Omitted printing of 2 columns\n",
       "│ Row │ ID     │ y1      │ y2      │ y3      │ x1      │ x2    │ x3     │\n",
       "│     │ \u001b[90mString\u001b[39m │ \u001b[90mFloat64\u001b[39m │ \u001b[90mFloat64\u001b[39m │ \u001b[90mFloat64\u001b[39m │ \u001b[90mFloat64\u001b[39m │ \u001b[90mInt64\u001b[39m │ \u001b[90mString\u001b[39m │\n",
       "├─────┼────────┼─────────┼─────────┼─────────┼─────────┼───────┼────────┤\n",
       "│ 1   │ a1     │ -0.06   │ 3.58    │ -1.18   │ 0.9     │ 2     │ m      │\n",
       "│ 2   │ a2     │ -0.6    │ 4.9     │ 0.88    │ 0.3     │ 1     │ f      │\n",
       "│ 3   │ a3     │ -2.07   │ 3.19    │ 0.73    │ 0.7     │ 2     │ f      │\n",
       "│ 4   │ a4     │ -2.63   │ 6.97    │ -0.83   │ 0.6     │ 1     │ m      │\n",
       "│ 5   │ a5     │ 2.31    │ 3.5     │ -1.52   │ 0.4     │ 2     │ m      │"
      ]
     },
     "execution_count": 51,
     "metadata": {},
     "output_type": "execute_result"
    }
   ],
   "source": [
    "first(phenotypes,5)"
   ]
  },
  {
   "cell_type": "markdown",
   "metadata": {},
   "source": [
    "<div class=\"span5 alert alert-success\">\n",
    " <font size=\"5\" face=\"Georgia\">Single-trait Single-step Bayesian Regression (Incomplete Genomic Data)</font> \n",
    "</div>"
   ]
  },
  {
   "cell_type": "markdown",
   "metadata": {},
   "source": [
    "<button type=\"button\" class=\"btn btn-lg btn-primary\">Step 3: Build Model Equations</button> "
   ]
  },
  {
   "cell_type": "code",
   "execution_count": 52,
   "metadata": {},
   "outputs": [],
   "source": [
    "model_equation1  =\"y1 = intercept + x1*x3 + x2 + x3 + ID + dam\";"
   ]
  },
  {
   "cell_type": "code",
   "execution_count": 53,
   "metadata": {},
   "outputs": [],
   "source": [
    "model1 = build_model(model_equation1);"
   ]
  },
  {
   "cell_type": "markdown",
   "metadata": {},
   "source": [
    "<button type=\"button\" class=\"btn btn-lg btn-primary\">Step 4: Set Factors or Covariates</button> "
   ]
  },
  {
   "cell_type": "code",
   "execution_count": 54,
   "metadata": {},
   "outputs": [],
   "source": [
    "set_covariate(model1,\"x1\");"
   ]
  },
  {
   "cell_type": "markdown",
   "metadata": {},
   "source": [
    "<button type=\"button\" class=\"btn btn-lg btn-primary\">Step 5: Set Random or Fixed Effects</button> "
   ]
  },
  {
   "cell_type": "code",
   "execution_count": 55,
   "metadata": {},
   "outputs": [],
   "source": [
    "set_random(model1,\"x2\");\n",
    "set_random(model1,\"ID dam\",pedigree);"
   ]
  },
  {
   "cell_type": "markdown",
   "metadata": {},
   "source": [
    "<button type=\"button\" class=\"btn btn-lg btn-primary\">Step 6: Use Genomic Information</button> "
   ]
  },
  {
   "cell_type": "code",
   "execution_count": 56,
   "metadata": {},
   "outputs": [
    {
     "name": "stdout",
     "output_type": "stream",
     "text": [
      "\u001b[32mThe delimiter in genotypes.txt is ','.\u001b[39m\n",
      "\u001b[32mThe header (marker IDs) is provided in genotypes.txt.\u001b[39m\n",
      "5 markers on 7 individuals were added.\n"
     ]
    }
   ],
   "source": [
    "add_genotypes(model1,genofile,separator=',');"
   ]
  },
  {
   "cell_type": "markdown",
   "metadata": {},
   "source": [
    "<button type=\"button\" class=\"btn btn-lg btn-primary\">Step 7: Run Analysis</button> "
   ]
  },
  {
   "cell_type": "code",
   "execution_count": 57,
   "metadata": {},
   "outputs": [
    {
     "name": "stdout",
     "output_type": "stream",
     "text": [
      "\u001b[32mChecking phenotypes...\u001b[39m\n",
      "\u001b[32mIndividual IDs (strings) are provided in the first column of the phenotypic data.\u001b[39m\n",
      "\u001b[32mThe number of observations with both phenotype and pedigree information used in the analysis is 8.\u001b[39m\n",
      "\u001b[32mPrior information for genomic variance is not provided and is generated from the data.\u001b[39m\n",
      "\u001b[32mPrior information for residual variance is not provided and is generated from the data.\u001b[39m\n",
      "\u001b[32mPrior information for random effect variance is not provided and is generated from the data.\u001b[39m\n",
      "\u001b[32mPrior information for random effect variance is not provided and is generated from the data.\u001b[39m\n",
      "calculating A inverse\n",
      "  0.000082 seconds (205 allocations: 16.031 KiB)\n",
      "imputing missing genotypes\n",
      "  0.195236 seconds (190 allocations: 23.781 KiB, 99.87% gc time)\n",
      "completed imputing genotypes\n",
      "\u001b[31mMissing values are found in independent variables: dam.\u001b[39m\n",
      "\n",
      "The prior for marker effects variance is calculated from the genetic variance and π.\n",
      "The mean of the prior for the marker effects variance is: 0.496268\n",
      "\n",
      "\n",
      "\n",
      "\u001b[0m\u001b[1mA Linear Mixed Model was build using model equations:\u001b[22m\n",
      "\n",
      "y1 = intercept + x1*x3 + x2 + x3 + ID + dam\n",
      "\n",
      "\u001b[0m\u001b[1mModel Information:\u001b[22m\n",
      "\n",
      "Term            C/F          F/R            nLevels\n",
      "intercept       factor       fixed                1\n",
      "x1*x3           interaction  fixed                2\n",
      "x2              factor       random               2\n",
      "x3              factor       fixed                2\n",
      "ID              factor       random              12\n",
      "dam             factor       random              12\n",
      "ϵ               factor       random               5\n",
      "J               covariate    fixed                1\n",
      "\n",
      "\u001b[0m\u001b[1mMCMC Information:\u001b[22m\n",
      "\n",
      "methods                                     RR-BLUP\n",
      "                            incomplete genomic data\n",
      "                       (i.e., single-step analysis)\n",
      "chain_length                                    100\n",
      "burnin                                            0\n",
      "estimatePi                                    false\n",
      "estimateScale                                 false\n",
      "starting_value                                false\n",
      "printout_frequency                              101\n",
      "output_samples_frequency                          1\n",
      "constraint                                    false\n",
      "missing_phenotypes                             true\n",
      "update_priors_frequency                           0\n",
      "seed                                          false\n",
      "\n",
      "\u001b[0m\u001b[1mHyper-parameters Information:\u001b[22m\n",
      "\n",
      "random effect variances (y1:x2):              [1.008]\n",
      "random effect variances (y1:ID,y1:dam): [1.008 0.0; 0.0 1.008]\n",
      "random effect variances (y1:ϵ): [1.0080000162124634]\n",
      "residual variances:                           1.008\n",
      "genetic variances (genomic):                  1.008\n",
      "marker effect variances:                      0.496\n",
      "π                                               0.0\n",
      "\n",
      "\u001b[0m\u001b[1mDegree of freedom for hyper-parameters:\u001b[22m\n",
      "\n",
      "residual variances:                           4.000\n",
      "random effect variances:                      5.000\n",
      "random effect variances:                      5.000\n",
      "polygenic effect variances:                   6.000\n",
      "marker effect variances:                      4.000\n",
      "\n",
      "\n",
      "\n",
      "\u001b[31mThe file MCMC_samples_residual_variance.txt already exists!!! It is overwritten by the new output.\u001b[39m\n",
      "\u001b[31mThe file MCMC_samples_polygenic_effects_variance.txt already exists!!! It is overwritten by the new output.\u001b[39m\n",
      "\u001b[31mThe file MCMC_samples_marker_effects_y1.txt already exists!!! It is overwritten by the new output.\u001b[39m\n",
      "\u001b[31mThe file MCMC_samples_marker_effects_variances.txt already exists!!! It is overwritten by the new output.\u001b[39m\n",
      "\u001b[31mThe file MCMC_samples_pi.txt already exists!!! It is overwritten by the new output.\u001b[39m\n",
      "\u001b[31mThe file MCMC_samples_y1.J.txt already exists!!! It is overwritten by the new output.\u001b[39m\n",
      "\u001b[31mThe file MCMC_samples_y1.ϵ.txt already exists!!! It is overwritten by the new output.\u001b[39m\n",
      "\u001b[31mThe file MCMC_samples_y1.x2_variances.txt already exists!!! It is overwritten by the new output.\u001b[39m\n",
      "\u001b[31mThe file MCMC_samples_y1.ID_y1.dam_variances.txt already exists!!! It is overwritten by the new output.\u001b[39m\n",
      "\u001b[31mThe file MCMC_samples_y1.ϵ_variances.txt already exists!!! It is overwritten by the new output.\u001b[39m\n",
      "\u001b[31mThe file MCMC_samples_EBV_y1.txt already exists!!! It is overwritten by the new output.\u001b[39m\n",
      "\n",
      "\n",
      "\u001b[0m\u001b[1mThe version of Julia and Platform in use:\u001b[22m\n",
      "\n",
      "Julia Version 1.3.1\n",
      "Commit 2d5741174c (2019-12-30 21:36 UTC)\n",
      "Platform Info:\n",
      "  OS: macOS (x86_64-apple-darwin18.6.0)\n",
      "  CPU: Intel(R) Core(TM) i7-7700K CPU @ 4.20GHz\n",
      "  WORD_SIZE: 64\n",
      "  LIBM: libopenlibm\n",
      "  LLVM: libLLVM-6.0.1 (ORCJIT, skylake)\n",
      "\n",
      "\n",
      "\u001b[0m\u001b[1mThe analysis has finished. Results are saved in the returned \u001b[22m\u001b[0m\u001b[1mvariable and text files. MCMC samples are saved in text files.\u001b[22m\n",
      "\n",
      "\n"
     ]
    }
   ],
   "source": [
    "out1=runMCMC(model1,phenotypes,methods=\"RR-BLUP\",single_step_analysis=true,pedigree=pedigree);"
   ]
  },
  {
   "cell_type": "markdown",
   "metadata": {},
   "source": [
    "<button type=\"button\" class=\"btn btn-lg btn-primary\">Check Results</button> "
   ]
  },
  {
   "cell_type": "code",
   "execution_count": 58,
   "metadata": {},
   "outputs": [
    {
     "data": {
      "text/plain": [
       "Base.KeySet for a Dict{Any,Any} with 6 entries. Keys:\n",
       "  \"marker effects\"\n",
       "  \"EBV_y1\"\n",
       "  \"location parameters\"\n",
       "  \"residual variance\"\n",
       "  \"polygenic effects covariance matrix\"\n",
       "  \"marker effects variance\""
      ]
     },
     "execution_count": 58,
     "metadata": {},
     "output_type": "execute_result"
    }
   ],
   "source": [
    "keys(out1)"
   ]
  },
  {
   "cell_type": "code",
   "execution_count": 59,
   "metadata": {},
   "outputs": [
    {
     "data": {
      "text/html": [
       "<table class=\"data-frame\"><thead><tr><th></th><th>ID</th><th>EBV</th><th>PEV</th></tr><tr><th></th><th>Any</th><th>Any</th><th>Any</th></tr></thead><tbody><p>7 rows × 3 columns</p><tr><th>1</th><td>a1</td><td>0.308266</td><td>6.46324</td></tr><tr><th>2</th><td>a3</td><td>-0.992717</td><td>6.05282</td></tr><tr><th>3</th><td>a4</td><td>-0.399613</td><td>7.90331</td></tr><tr><th>4</th><td>a5</td><td>0.671401</td><td>4.17104</td></tr><tr><th>5</th><td>a6</td><td>0.0388337</td><td>7.78589</td></tr><tr><th>6</th><td>a7</td><td>-1.41756</td><td>6.00083</td></tr><tr><th>7</th><td>a8</td><td>-0.166578</td><td>8.37988</td></tr></tbody></table>"
      ],
      "text/latex": [
       "\\begin{tabular}{r|ccc}\n",
       "\t& ID & EBV & PEV\\\\\n",
       "\t\\hline\n",
       "\t& Any & Any & Any\\\\\n",
       "\t\\hline\n",
       "\t1 & a1 & 0.308266 & 6.46324 \\\\\n",
       "\t2 & a3 & -0.992717 & 6.05282 \\\\\n",
       "\t3 & a4 & -0.399613 & 7.90331 \\\\\n",
       "\t4 & a5 & 0.671401 & 4.17104 \\\\\n",
       "\t5 & a6 & 0.0388337 & 7.78589 \\\\\n",
       "\t6 & a7 & -1.41756 & 6.00083 \\\\\n",
       "\t7 & a8 & -0.166578 & 8.37988 \\\\\n",
       "\\end{tabular}\n"
      ],
      "text/plain": [
       "7×3 DataFrame\n",
       "│ Row │ ID  │ EBV       │ PEV     │\n",
       "│     │ \u001b[90mAny\u001b[39m │ \u001b[90mAny\u001b[39m       │ \u001b[90mAny\u001b[39m     │\n",
       "├─────┼─────┼───────────┼─────────┤\n",
       "│ 1   │ a1  │ 0.308266  │ 6.46324 │\n",
       "│ 2   │ a3  │ -0.992717 │ 6.05282 │\n",
       "│ 3   │ a4  │ -0.399613 │ 7.90331 │\n",
       "│ 4   │ a5  │ 0.671401  │ 4.17104 │\n",
       "│ 5   │ a6  │ 0.0388337 │ 7.78589 │\n",
       "│ 6   │ a7  │ -1.41756  │ 6.00083 │\n",
       "│ 7   │ a8  │ -0.166578 │ 8.37988 │"
      ]
     },
     "execution_count": 59,
     "metadata": {},
     "output_type": "execute_result"
    }
   ],
   "source": [
    "out1[\"EBV_y1\"]"
   ]
  },
  {
   "cell_type": "code",
   "execution_count": 60,
   "metadata": {},
   "outputs": [
    {
     "data": {
      "text/html": [
       "<table class=\"data-frame\"><thead><tr><th></th><th>Trait</th><th>Marker_ID</th><th>Estimate</th><th>Std_Error</th><th>Model_Frequency</th></tr><tr><th></th><th>Any</th><th>Any</th><th>Any</th><th>Any</th><th>Any</th></tr></thead><tbody><p>5 rows × 5 columns</p><tr><th>1</th><td>y1</td><td>m1</td><td>-0.112787</td><td>0.535923</td><td>1.0</td></tr><tr><th>2</th><td>y1</td><td>m2</td><td>-0.256412</td><td>0.670566</td><td>1.0</td></tr><tr><th>3</th><td>y1</td><td>m3</td><td>0.272158</td><td>0.607386</td><td>1.0</td></tr><tr><th>4</th><td>y1</td><td>m4</td><td>-0.275205</td><td>0.563826</td><td>1.0</td></tr><tr><th>5</th><td>y1</td><td>m5</td><td>-0.00133083</td><td>0.535076</td><td>1.0</td></tr></tbody></table>"
      ],
      "text/latex": [
       "\\begin{tabular}{r|ccccc}\n",
       "\t& Trait & Marker\\_ID & Estimate & Std\\_Error & Model\\_Frequency\\\\\n",
       "\t\\hline\n",
       "\t& Any & Any & Any & Any & Any\\\\\n",
       "\t\\hline\n",
       "\t1 & y1 & m1 & -0.112787 & 0.535923 & 1.0 \\\\\n",
       "\t2 & y1 & m2 & -0.256412 & 0.670566 & 1.0 \\\\\n",
       "\t3 & y1 & m3 & 0.272158 & 0.607386 & 1.0 \\\\\n",
       "\t4 & y1 & m4 & -0.275205 & 0.563826 & 1.0 \\\\\n",
       "\t5 & y1 & m5 & -0.00133083 & 0.535076 & 1.0 \\\\\n",
       "\\end{tabular}\n"
      ],
      "text/plain": [
       "5×5 DataFrame\n",
       "│ Row │ Trait │ Marker_ID │ Estimate    │ Std_Error │ Model_Frequency │\n",
       "│     │ \u001b[90mAny\u001b[39m   │ \u001b[90mAny\u001b[39m       │ \u001b[90mAny\u001b[39m         │ \u001b[90mAny\u001b[39m       │ \u001b[90mAny\u001b[39m             │\n",
       "├─────┼───────┼───────────┼─────────────┼───────────┼─────────────────┤\n",
       "│ 1   │ y1    │ m1        │ -0.112787   │ 0.535923  │ 1.0             │\n",
       "│ 2   │ y1    │ m2        │ -0.256412   │ 0.670566  │ 1.0             │\n",
       "│ 3   │ y1    │ m3        │ 0.272158    │ 0.607386  │ 1.0             │\n",
       "│ 4   │ y1    │ m4        │ -0.275205   │ 0.563826  │ 1.0             │\n",
       "│ 5   │ y1    │ m5        │ -0.00133083 │ 0.535076  │ 1.0             │"
      ]
     },
     "execution_count": 60,
     "metadata": {},
     "output_type": "execute_result"
    }
   ],
   "source": [
    "out1[\"marker effects\"]"
   ]
  },
  {
   "cell_type": "markdown",
   "metadata": {},
   "source": [
    "<div class=\"span5 alert alert-success\">\n",
    " <font size=\"5\" face=\"Georgia\">Multi-trait Single-step Bayesian Regression (Incomplete Genomic Data)</font> \n",
    "</div>"
   ]
  },
  {
   "cell_type": "markdown",
   "metadata": {},
   "source": [
    "<button type=\"button\" class=\"btn btn-lg btn-primary\">Step 3: Build Model Equations</button> "
   ]
  },
  {
   "cell_type": "code",
   "execution_count": 61,
   "metadata": {},
   "outputs": [],
   "source": [
    "model_equation2 =\"y1 = intercept + x1 + x3 + ID + dam\n",
    "                  y2 = intercept + x1 + x2 + x3 + ID\n",
    "                  y3 = intercept + x1 + x1*x3 + x2 + ID\";"
   ]
  },
  {
   "cell_type": "code",
   "execution_count": 62,
   "metadata": {},
   "outputs": [],
   "source": [
    "model2 = build_model(model_equation2);"
   ]
  },
  {
   "cell_type": "markdown",
   "metadata": {},
   "source": [
    "<button type=\"button\" class=\"btn btn-lg btn-primary\">Step 4: Set Factors or Covariates</button> "
   ]
  },
  {
   "cell_type": "code",
   "execution_count": 63,
   "metadata": {},
   "outputs": [],
   "source": [
    "set_covariate(model2,\"x1\");"
   ]
  },
  {
   "cell_type": "markdown",
   "metadata": {},
   "source": [
    "<button type=\"button\" class=\"btn btn-lg btn-primary\">Step 5: Set Random or Fixed Effects</button> "
   ]
  },
  {
   "cell_type": "code",
   "execution_count": 64,
   "metadata": {},
   "outputs": [
    {
     "name": "stdout",
     "output_type": "stream",
     "text": [
      "\u001b[32mx2 is not found in model equation 1.\u001b[39m\n",
      "\u001b[32mdam is not found in model equation 2.\u001b[39m\n",
      "\u001b[32mdam is not found in model equation 3.\u001b[39m\n"
     ]
    }
   ],
   "source": [
    "set_random(model2,\"x2\");\n",
    "set_random(model2,\"ID dam\",pedigree);"
   ]
  },
  {
   "cell_type": "markdown",
   "metadata": {},
   "source": [
    "<button type=\"button\" class=\"btn btn-lg btn-primary\">Step 6: Use Genomic Information</button> "
   ]
  },
  {
   "cell_type": "code",
   "execution_count": 65,
   "metadata": {},
   "outputs": [
    {
     "name": "stdout",
     "output_type": "stream",
     "text": [
      "\u001b[32mThe delimiter in genotypes.txt is ','.\u001b[39m\n",
      "\u001b[32mThe header (marker IDs) is provided in genotypes.txt.\u001b[39m\n",
      "5 markers on 7 individuals were added.\n"
     ]
    }
   ],
   "source": [
    "add_genotypes(model2,genofile,separator=',');"
   ]
  },
  {
   "cell_type": "markdown",
   "metadata": {},
   "source": [
    "<button type=\"button\" class=\"btn btn-lg btn-primary\">Step 7: Run Analysis</button> "
   ]
  },
  {
   "cell_type": "code",
   "execution_count": 66,
   "metadata": {},
   "outputs": [
    {
     "name": "stdout",
     "output_type": "stream",
     "text": [
      "\u001b[32mChecking phenotypes...\u001b[39m\n",
      "\u001b[32mIndividual IDs (strings) are provided in the first column of the phenotypic data.\u001b[39m\n",
      "\u001b[32mThe number of observations with both phenotype and pedigree information used in the analysis is 8.\u001b[39m\n",
      "\u001b[32mPrior information for genomic variance is not provided and is generated from the data.\u001b[39m\n",
      "\u001b[32mPrior information for residual variance is not provided and is generated from the data.\u001b[39m\n",
      "\u001b[32mPrior information for random effect variance is not provided and is generated from the data.\u001b[39m\n",
      "\u001b[32mPrior information for random effect variance is not provided and is generated from the data.\u001b[39m\n",
      "calculating A inverse\n",
      "  0.000049 seconds (205 allocations: 16.031 KiB)\n",
      "imputing missing genotypes\n",
      "  0.124649 seconds (190 allocations: 23.781 KiB, 99.87% gc time)\n",
      "completed imputing genotypes\n",
      "\u001b[31mMissing values are found in independent variables: dam.\u001b[39m\n",
      "\n",
      "\u001b[0mPi (Π) is not provided.\n",
      "\u001b[0mPi (Π) is generated assuming all markers have effects on all traits.\n",
      "\n",
      "The prior for marker effects covariance matrix is calculated from genetic covariance matrix and Π.\n",
      "The mean of the prior for the marker effects covariance matrix is:\n",
      " 0.496268  0.0       0.0     \n",
      " 0.0       0.431625  0.0     \n",
      " 0.0       0.0       0.114775\n",
      "\n",
      "\n",
      "\n",
      "\u001b[0m\u001b[1mA Linear Mixed Model was build using model equations:\u001b[22m\n",
      "\n",
      "y1 = intercept + x1 + x3 + ID + dam\n",
      "y2 = intercept + x1 + x2 + x3 + ID\n",
      "y3 = intercept + x1 + x1*x3 + x2 + ID\n",
      "\n",
      "\u001b[0m\u001b[1mModel Information:\u001b[22m\n",
      "\n",
      "Term            C/F          F/R            nLevels\n",
      "intercept       factor       fixed                1\n",
      "x1              covariate    fixed                1\n",
      "x3              factor       fixed                2\n",
      "ID              factor       random              12\n",
      "dam             factor       random              12\n",
      "x2              factor       random               2\n",
      "x1*x3           interaction  fixed                2\n",
      "ϵ               factor       random               5\n",
      "J               covariate    fixed                1\n",
      "\n",
      "\u001b[0m\u001b[1mMCMC Information:\u001b[22m\n",
      "\n",
      "methods                                      BayesC\n",
      "                            incomplete genomic data\n",
      "                       (i.e., single-step analysis)\n",
      "chain_length                                    100\n",
      "burnin                                            0\n",
      "estimatePi                                     true\n",
      "estimateScale                                 false\n",
      "starting_value                                false\n",
      "printout_frequency                              101\n",
      "output_samples_frequency                          1\n",
      "constraint                                    false\n",
      "missing_phenotypes                             true\n",
      "update_priors_frequency                           0\n",
      "seed                                          false\n",
      "\n",
      "\u001b[0m\u001b[1mHyper-parameters Information:\u001b[22m\n",
      "\n",
      "random effect variances (y2:x2,y3:x2):\n",
      " 0.876  0.0  \n",
      " 0.0    0.233\n",
      "random effect variances (y1:ID,y2:ID,y3:ID,y1:dam):\n",
      " 1.008  0.0    0.0    0.0  \n",
      " 0.0    0.876  0.0    0.0  \n",
      " 0.0    0.0    0.233  0.0  \n",
      " 0.0    0.0    0.0    1.008\n",
      "random effect variances (y1:ϵ,y2:ϵ,y3:ϵ):\n",
      " 1.008f0  0.0f0    0.0f0  \n",
      " 0.0f0    0.876f0  0.0f0  \n",
      " 0.0f0    0.0f0    0.233f0\n",
      "residual variances:           \n",
      " 1.008  0.0    0.0  \n",
      " 0.0    0.876  0.0  \n",
      " 0.0    0.0    0.233\n",
      "genetic variances (polygenic):\n",
      " 1.008  0.0    0.0    0.0  \n",
      " 0.0    0.876  0.0    0.0  \n",
      " 0.0    0.0    0.233  0.0  \n",
      " 0.0    0.0    0.0    1.008\n",
      "genetic variances (genomic):  \n",
      " 1.008  0.0    0.0  \n",
      " 0.0    0.876  0.0  \n",
      " 0.0    0.0    0.233\n",
      "marker effect variances:      \n",
      " 0.496  0.0    0.0  \n",
      " 0.0    0.432  0.0  \n",
      " 0.0    0.0    0.115\n",
      "\n",
      "Π: (Y(yes):included; N(no):excluded)\n",
      "\n",
      "[\"y1\", \"y2\", \"y3\"]         probability\n",
      "[\"Y\", \"Y\", \"N\"]                 0.0\n",
      "[\"N\", \"N\", \"N\"]                 0.0\n",
      "[\"Y\", \"N\", \"N\"]                 0.0\n",
      "[\"N\", \"Y\", \"Y\"]                 0.0\n",
      "[\"Y\", \"N\", \"Y\"]                 0.0\n",
      "[\"N\", \"N\", \"Y\"]                 0.0\n",
      "[\"Y\", \"Y\", \"Y\"]                 1.0\n",
      "[\"N\", \"Y\", \"N\"]                 0.0\n",
      "\n",
      "\u001b[0m\u001b[1mDegree of freedom for hyper-parameters:\u001b[22m\n",
      "\n",
      "residual variances:                           7.000\n",
      "random effect variances:                      6.000\n",
      "random effect variances:                      7.000\n",
      "polygenic effect variances:                   8.000\n",
      "marker effect variances:                      7.000\n",
      "\n",
      "\n",
      "\n",
      "\u001b[31mThe file MCMC_samples_residual_variance.txt already exists!!! It is overwritten by the new output.\u001b[39m\n",
      "\u001b[31mThe file MCMC_samples_polygenic_effects_variance.txt already exists!!! It is overwritten by the new output.\u001b[39m\n",
      "\u001b[31mThe file MCMC_samples_marker_effects_y1.txt already exists!!! It is overwritten by the new output.\u001b[39m\n",
      "\u001b[31mThe file MCMC_samples_marker_effects_y2.txt already exists!!! It is overwritten by the new output.\u001b[39m\n",
      "\u001b[31mThe file MCMC_samples_marker_effects_y3.txt already exists!!! It is overwritten by the new output.\u001b[39m\n",
      "\u001b[31mThe file MCMC_samples_marker_effects_variances.txt already exists!!! It is overwritten by the new output.\u001b[39m\n",
      "\u001b[31mThe file MCMC_samples_pi.txt already exists!!! It is overwritten by the new output.\u001b[39m\n",
      "\u001b[31mThe file MCMC_samples_y1.J.txt already exists!!! It is overwritten by the new output.\u001b[39m\n",
      "\u001b[32mThe file MCMC_samples_y2.J.txt is created to save MCMC samples for y2:J.\u001b[39m\n",
      "\u001b[32mThe file MCMC_samples_y3.J.txt is created to save MCMC samples for y3:J.\u001b[39m\n",
      "\u001b[31mThe file MCMC_samples_y1.ϵ.txt already exists!!! It is overwritten by the new output.\u001b[39m\n",
      "\u001b[32mThe file MCMC_samples_y2.ϵ.txt is created to save MCMC samples for y2:ϵ.\u001b[39m\n",
      "\u001b[32mThe file MCMC_samples_y3.ϵ.txt is created to save MCMC samples for y3:ϵ.\u001b[39m\n",
      "\u001b[31mThe file MCMC_samples_y2.x2_y3.x2_variances.txt already exists!!! It is overwritten by the new output.\u001b[39m\n",
      "\u001b[31mThe file MCMC_samples_y1.ID_y2.ID_y3.ID_y1.dam_variances.txt already exists!!! It is overwritten by the new output.\u001b[39m\n",
      "\u001b[32mThe file MCMC_samples_y1.ϵ_y2.ϵ_y3.ϵ_variances.txt is created to save MCMC samples for y1:ϵ_y2:ϵ_y3:ϵ_variances.\u001b[39m\n",
      "\u001b[31mThe file MCMC_samples_EBV_y1.txt already exists!!! It is overwritten by the new output.\u001b[39m\n",
      "\u001b[31mThe file MCMC_samples_EBV_y2.txt already exists!!! It is overwritten by the new output.\u001b[39m\n",
      "\u001b[31mThe file MCMC_samples_EBV_y3.txt already exists!!! It is overwritten by the new output.\u001b[39m\n"
     ]
    },
    {
     "name": "stderr",
     "output_type": "stream",
     "text": [
      "\u001b[32mrunning MCMC for BayesC...100%|█████████████████████████| Time: 0:00:01\u001b[39m\n"
     ]
    },
    {
     "name": "stdout",
     "output_type": "stream",
     "text": [
      "\n",
      "\n",
      "\u001b[0m\u001b[1mThe version of Julia and Platform in use:\u001b[22m\n",
      "\n",
      "Julia Version 1.3.1\n",
      "Commit 2d5741174c (2019-12-30 21:36 UTC)\n",
      "Platform Info:\n",
      "  OS: macOS (x86_64-apple-darwin18.6.0)\n",
      "  CPU: Intel(R) Core(TM) i7-7700K CPU @ 4.20GHz\n",
      "  WORD_SIZE: 64\n",
      "  LIBM: libopenlibm\n",
      "  LLVM: libLLVM-6.0.1 (ORCJIT, skylake)\n",
      "\n",
      "\n",
      "\u001b[0m\u001b[1mThe analysis has finished. Results are saved in the returned \u001b[22m\u001b[0m\u001b[1mvariable and text files. MCMC samples are saved in text files.\u001b[22m\n",
      "\n",
      "\n"
     ]
    }
   ],
   "source": [
    "out2=runMCMC(model2,phenotypes,methods=\"BayesC\",estimatePi=true,single_step_analysis=true,pedigree=pedigree);"
   ]
  },
  {
   "cell_type": "markdown",
   "metadata": {},
   "source": [
    "<button type=\"button\" class=\"btn btn-lg btn-primary\">Check Results</button> "
   ]
  },
  {
   "cell_type": "code",
   "execution_count": 67,
   "metadata": {},
   "outputs": [
    {
     "data": {
      "text/plain": [
       "Base.KeySet for a Dict{Any,Any} with 9 entries. Keys:\n",
       "  \"marker effects\"\n",
       "  \"EBV_y2\"\n",
       "  \"EBV_y1\"\n",
       "  \"Pi\"\n",
       "  \"location parameters\"\n",
       "  \"residual variance\"\n",
       "  \"polygenic effects covariance matrix\"\n",
       "  \"EBV_y3\"\n",
       "  \"marker effects variance\""
      ]
     },
     "execution_count": 67,
     "metadata": {},
     "output_type": "execute_result"
    }
   ],
   "source": [
    "keys(out2)"
   ]
  },
  {
   "cell_type": "code",
   "execution_count": 68,
   "metadata": {},
   "outputs": [
    {
     "data": {
      "text/html": [
       "<table class=\"data-frame\"><thead><tr><th></th><th>Trait</th><th>Effect</th><th>Level</th><th>Estimate</th><th>Std_Error</th></tr><tr><th></th><th>Any</th><th>Any</th><th>Any</th><th>Any</th><th>Any</th></tr></thead><tbody><p>37 rows × 5 columns</p><tr><th>1</th><td>y1</td><td>intercept</td><td>intercept</td><td>-3.57266</td><td>2.6059</td></tr><tr><th>2</th><td>y1</td><td>x1*x3</td><td>x1 * m</td><td>-4.19906</td><td>6.89503</td></tr><tr><th>3</th><td>y1</td><td>x1*x3</td><td>x1 * f</td><td>0.479728</td><td>0.560252</td></tr><tr><th>4</th><td>y1</td><td>x2</td><td>2</td><td>-0.0529523</td><td>0.916848</td></tr><tr><th>5</th><td>y1</td><td>x2</td><td>1</td><td>-0.0712717</td><td>0.674382</td></tr><tr><th>6</th><td>y1</td><td>x3</td><td>m</td><td>5.86229</td><td>3.02209</td></tr><tr><th>7</th><td>y1</td><td>x3</td><td>f</td><td>2.34139</td><td>3.67728</td></tr><tr><th>8</th><td>y1</td><td>ID</td><td>a2</td><td>0.06083</td><td>0.990601</td></tr><tr><th>9</th><td>y1</td><td>ID</td><td>a1</td><td>0.137081</td><td>0.945244</td></tr><tr><th>10</th><td>y1</td><td>ID</td><td>a3</td><td>-0.469558</td><td>1.20428</td></tr><tr><th>11</th><td>y1</td><td>ID</td><td>a7</td><td>-0.479249</td><td>1.10237</td></tr><tr><th>12</th><td>y1</td><td>ID</td><td>a4</td><td>-0.0408258</td><td>0.96728</td></tr><tr><th>13</th><td>y1</td><td>ID</td><td>a6</td><td>-0.0803028</td><td>1.06643</td></tr><tr><th>14</th><td>y1</td><td>ID</td><td>a9</td><td>0.0885007</td><td>1.02335</td></tr><tr><th>15</th><td>y1</td><td>ID</td><td>a5</td><td>0.138324</td><td>0.989212</td></tr><tr><th>16</th><td>y1</td><td>ID</td><td>a10</td><td>-0.451677</td><td>0.993673</td></tr><tr><th>17</th><td>y1</td><td>ID</td><td>a12</td><td>-0.108276</td><td>1.06282</td></tr><tr><th>18</th><td>y1</td><td>ID</td><td>a11</td><td>-0.191731</td><td>1.16108</td></tr><tr><th>19</th><td>y1</td><td>ID</td><td>a8</td><td>0.0123802</td><td>0.881637</td></tr><tr><th>20</th><td>y1</td><td>dam</td><td>a2</td><td>-0.0785836</td><td>0.907202</td></tr><tr><th>21</th><td>y1</td><td>dam</td><td>a1</td><td>0.205705</td><td>1.08132</td></tr><tr><th>22</th><td>y1</td><td>dam</td><td>a3</td><td>-0.471563</td><td>1.34062</td></tr><tr><th>23</th><td>y1</td><td>dam</td><td>a7</td><td>-0.740043</td><td>0.951426</td></tr><tr><th>24</th><td>y1</td><td>dam</td><td>a4</td><td>0.0606774</td><td>1.08693</td></tr><tr><th>25</th><td>y1</td><td>dam</td><td>a6</td><td>0.00698366</td><td>1.27143</td></tr><tr><th>26</th><td>y1</td><td>dam</td><td>a9</td><td>0.165479</td><td>1.12386</td></tr><tr><th>27</th><td>y1</td><td>dam</td><td>a5</td><td>0.0403578</td><td>1.21389</td></tr><tr><th>28</th><td>y1</td><td>dam</td><td>a10</td><td>-0.226581</td><td>1.18702</td></tr><tr><th>29</th><td>y1</td><td>dam</td><td>a12</td><td>0.0442761</td><td>1.1841</td></tr><tr><th>30</th><td>y1</td><td>dam</td><td>a11</td><td>-0.117548</td><td>1.27627</td></tr><tr><th>&vellip;</th><td>&vellip;</td><td>&vellip;</td><td>&vellip;</td><td>&vellip;</td><td>&vellip;</td></tr></tbody></table>"
      ],
      "text/latex": [
       "\\begin{tabular}{r|ccccc}\n",
       "\t& Trait & Effect & Level & Estimate & Std\\_Error\\\\\n",
       "\t\\hline\n",
       "\t& Any & Any & Any & Any & Any\\\\\n",
       "\t\\hline\n",
       "\t1 & y1 & intercept & intercept & -3.57266 & 2.6059 \\\\\n",
       "\t2 & y1 & x1*x3 & x1 * m & -4.19906 & 6.89503 \\\\\n",
       "\t3 & y1 & x1*x3 & x1 * f & 0.479728 & 0.560252 \\\\\n",
       "\t4 & y1 & x2 & 2 & -0.0529523 & 0.916848 \\\\\n",
       "\t5 & y1 & x2 & 1 & -0.0712717 & 0.674382 \\\\\n",
       "\t6 & y1 & x3 & m & 5.86229 & 3.02209 \\\\\n",
       "\t7 & y1 & x3 & f & 2.34139 & 3.67728 \\\\\n",
       "\t8 & y1 & ID & a2 & 0.06083 & 0.990601 \\\\\n",
       "\t9 & y1 & ID & a1 & 0.137081 & 0.945244 \\\\\n",
       "\t10 & y1 & ID & a3 & -0.469558 & 1.20428 \\\\\n",
       "\t11 & y1 & ID & a7 & -0.479249 & 1.10237 \\\\\n",
       "\t12 & y1 & ID & a4 & -0.0408258 & 0.96728 \\\\\n",
       "\t13 & y1 & ID & a6 & -0.0803028 & 1.06643 \\\\\n",
       "\t14 & y1 & ID & a9 & 0.0885007 & 1.02335 \\\\\n",
       "\t15 & y1 & ID & a5 & 0.138324 & 0.989212 \\\\\n",
       "\t16 & y1 & ID & a10 & -0.451677 & 0.993673 \\\\\n",
       "\t17 & y1 & ID & a12 & -0.108276 & 1.06282 \\\\\n",
       "\t18 & y1 & ID & a11 & -0.191731 & 1.16108 \\\\\n",
       "\t19 & y1 & ID & a8 & 0.0123802 & 0.881637 \\\\\n",
       "\t20 & y1 & dam & a2 & -0.0785836 & 0.907202 \\\\\n",
       "\t21 & y1 & dam & a1 & 0.205705 & 1.08132 \\\\\n",
       "\t22 & y1 & dam & a3 & -0.471563 & 1.34062 \\\\\n",
       "\t23 & y1 & dam & a7 & -0.740043 & 0.951426 \\\\\n",
       "\t24 & y1 & dam & a4 & 0.0606774 & 1.08693 \\\\\n",
       "\t25 & y1 & dam & a6 & 0.00698366 & 1.27143 \\\\\n",
       "\t26 & y1 & dam & a9 & 0.165479 & 1.12386 \\\\\n",
       "\t27 & y1 & dam & a5 & 0.0403578 & 1.21389 \\\\\n",
       "\t28 & y1 & dam & a10 & -0.226581 & 1.18702 \\\\\n",
       "\t29 & y1 & dam & a12 & 0.0442761 & 1.1841 \\\\\n",
       "\t30 & y1 & dam & a11 & -0.117548 & 1.27627 \\\\\n",
       "\t$\\dots$ & $\\dots$ & $\\dots$ & $\\dots$ & $\\dots$ & $\\dots$ \\\\\n",
       "\\end{tabular}\n"
      ],
      "text/plain": [
       "37×5 DataFrame\n",
       "│ Row │ Trait │ Effect    │ Level     │ Estimate   │ Std_Error │\n",
       "│     │ \u001b[90mAny\u001b[39m   │ \u001b[90mAny\u001b[39m       │ \u001b[90mAny\u001b[39m       │ \u001b[90mAny\u001b[39m        │ \u001b[90mAny\u001b[39m       │\n",
       "├─────┼───────┼───────────┼───────────┼────────────┼───────────┤\n",
       "│ 1   │ y1    │ intercept │ intercept │ -3.57266   │ 2.6059    │\n",
       "│ 2   │ y1    │ x1*x3     │ x1 * m    │ -4.19906   │ 6.89503   │\n",
       "│ 3   │ y1    │ x1*x3     │ x1 * f    │ 0.479728   │ 0.560252  │\n",
       "│ 4   │ y1    │ x2        │ 2         │ -0.0529523 │ 0.916848  │\n",
       "│ 5   │ y1    │ x2        │ 1         │ -0.0712717 │ 0.674382  │\n",
       "│ 6   │ y1    │ x3        │ m         │ 5.86229    │ 3.02209   │\n",
       "│ 7   │ y1    │ x3        │ f         │ 2.34139    │ 3.67728   │\n",
       "│ 8   │ y1    │ ID        │ a2        │ 0.06083    │ 0.990601  │\n",
       "│ 9   │ y1    │ ID        │ a1        │ 0.137081   │ 0.945244  │\n",
       "│ 10  │ y1    │ ID        │ a3        │ -0.469558  │ 1.20428   │\n",
       "⋮\n",
       "│ 27  │ y1    │ dam       │ a5        │ 0.0403578  │ 1.21389   │\n",
       "│ 28  │ y1    │ dam       │ a10       │ -0.226581  │ 1.18702   │\n",
       "│ 29  │ y1    │ dam       │ a12       │ 0.0442761  │ 1.1841    │\n",
       "│ 30  │ y1    │ dam       │ a11       │ -0.117548  │ 1.27627   │\n",
       "│ 31  │ y1    │ dam       │ a8        │ -0.0346995 │ 1.20309   │\n",
       "│ 32  │ y1    │ ϵ         │ a2        │ 0.0884588  │ 0.622774  │\n",
       "│ 33  │ y1    │ ϵ         │ a12       │ 0.1906     │ 0.851674  │\n",
       "│ 34  │ y1    │ ϵ         │ a10       │ -0.24843   │ 0.718196  │\n",
       "│ 35  │ y1    │ ϵ         │ a11       │ -0.0611233 │ 0.816385  │\n",
       "│ 36  │ y1    │ ϵ         │ a9        │ 0.0681767  │ 0.686547  │\n",
       "│ 37  │ y1    │ J         │ J         │ 0.0347481  │ 1.73831   │"
      ]
     },
     "execution_count": 68,
     "metadata": {},
     "output_type": "execute_result"
    }
   ],
   "source": [
    "out1[\"location parameters\"]"
   ]
  }
 ],
 "metadata": {
  "anaconda-cloud": {},
  "kernelspec": {
   "display_name": "Julia 1.3.0",
   "language": "julia",
   "name": "julia-1.3"
  },
  "language_info": {
   "file_extension": ".jl",
   "mimetype": "application/julia",
   "name": "julia",
   "version": "1.3.1"
  }
 },
 "nbformat": 4,
 "nbformat_minor": 2
}
