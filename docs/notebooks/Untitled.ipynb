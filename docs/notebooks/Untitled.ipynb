{
 "cells": [
  {
   "cell_type": "code",
   "execution_count": 1,
   "metadata": {},
   "outputs": [
    {
     "name": "stdout",
     "output_type": "stream",
     "text": [
      "/Users/haocheng/Github/JWAS.jl/docs/notebooks\n"
     ]
    }
   ],
   "source": [
    ";pwd"
   ]
  },
  {
   "cell_type": "code",
   "execution_count": 2,
   "metadata": {},
   "outputs": [
    {
     "data": {
      "text/plain": [
       "JWAS"
      ]
     },
     "execution_count": 2,
     "metadata": {},
     "output_type": "execute_result"
    }
   ],
   "source": [
    "include(\"/Users/haocheng/Github/JWAS.jl/src/JWAS.jl\")"
   ]
  },
  {
   "cell_type": "code",
   "execution_count": 3,
   "metadata": {},
   "outputs": [
    {
     "name": "stderr",
     "output_type": "stream",
     "text": [
      "\u001b[32mcoding pedigree... 100%|████████████████████████████████| Time: 0:00:00\u001b[39m"
     ]
    },
    {
     "name": "stdout",
     "output_type": "stream",
     "text": [
      "Finished!\n"
     ]
    },
    {
     "name": "stderr",
     "output_type": "stream",
     "text": [
      "\n",
      "\r",
      "\u001b[32mcalculating inbreeding...   0%|                         |  ETA: 0:11:38\u001b[39m\r",
      "\u001b[32mcalculating inbreeding... 100%|█████████████████████████| Time: 0:00:00\u001b[39m\n"
     ]
    },
    {
     "name": "stdout",
     "output_type": "stream",
     "text": [
      "42045 markers on 992 individuals were added.\n",
      "The prior for marker effects variance was calculated from genetic varaince and π.\n",
      "Marker effects variance is \n",
      "0.007796.\n",
      "\n",
      "\n",
      "MCMC Information:\n",
      "\n",
      "methods                                      BayesB\n",
      "chain_length                                    500\n",
      "burnin                                          100\n",
      "starting_value                                false\n",
      "printout_frequency                              100\n",
      "output_samples_frequency                          1\n",
      "constraint                                    false\n",
      "missing_phenotypes                            false\n",
      "update_priors_frequency                           0\n",
      "\n",
      "Information for hyper-parameter: π (Π)\n",
      "π                                               0.9\n",
      "estimatePi                                    false\n",
      "\n",
      "Degree of freedom for hyper-parameters:\n",
      "residual variances:                           4.000\n",
      "iid random effect variances:                  4.000\n",
      "polygenic effect variances:                   4.000\n",
      "marker effect variances:                      4.000\n",
      "\n",
      "\n",
      "\n"
     ]
    },
    {
     "name": "stderr",
     "output_type": "stream",
     "text": [
      "\u001b[1m\u001b[33mWARNING: \u001b[39m\u001b[22m\u001b[33mThe file MCMC_samples_for_marker_effects already exists!!! It was overwritten by the new output.\u001b[39m\n",
      "\u001b[32mrunning MCMC for BayesB ... 40%|██████████              |  ETA: 0:00:38\u001b[39m"
     ]
    },
    {
     "name": "stdout",
     "output_type": "stream",
     "text": [
      "\n",
      "Posterior means at iteration: 200\n",
      "Residual variance: 27.234342\n",
      "Polygenic effects covariance matrix \n",
      "[5.766]\n"
     ]
    },
    {
     "name": "stderr",
     "output_type": "stream",
     "text": [
      "\u001b[32mrunning MCMC for BayesB ... 60%|██████████████          |  ETA: 0:00:26\u001b[39m"
     ]
    },
    {
     "name": "stdout",
     "output_type": "stream",
     "text": [
      "\n",
      "Posterior means at iteration: 300\n",
      "Residual variance: 27.569222\n",
      "Polygenic effects covariance matrix \n",
      "[5.399]\n"
     ]
    },
    {
     "name": "stderr",
     "output_type": "stream",
     "text": [
      "\u001b[32mrunning MCMC for BayesB ... 80%|███████████████████     |  ETA: 0:00:13\u001b[39m"
     ]
    },
    {
     "name": "stdout",
     "output_type": "stream",
     "text": [
      "\n",
      "Posterior means at iteration: 400\n",
      "Residual variance: 27.634945\n",
      "Polygenic effects covariance matrix \n",
      "[5.375]\n"
     ]
    },
    {
     "name": "stderr",
     "output_type": "stream",
     "text": [
      "\u001b[32mrunning MCMC for BayesB ...100%|████████████████████████|  ETA: 0:00:00\u001b[39m"
     ]
    },
    {
     "name": "stdout",
     "output_type": "stream",
     "text": [
      "\n",
      "Posterior means at iteration: 500\n",
      "Residual variance: 27.630992\n",
      "Polygenic effects covariance matrix \n",
      "[5.44]\n"
     ]
    },
    {
     "name": "stderr",
     "output_type": "stream",
     "text": [
      "\r",
      "\u001b[32mrunning MCMC for BayesB ...100%|████████████████████████| Time: 0:01:07\u001b[39m\n"
     ]
    }
   ],
   "source": [
    "mypath    =\"/Users/haocheng/Box Sync/5.Data/rainbowtrout/complete_genomic_data/\"\n",
    "phenofile =mypath*\"pheno.common.csv\"\n",
    "genofile  =mypath*\"geno.common.csv\"\n",
    "pedfile   =mypath*\"ped.txt\"\n",
    "\n",
    "cd(mypath)\n",
    "\n",
    "using DataFrames,CSV,JWAS\n",
    "phenotype = CSV.read(phenofile,delim = ',',header=true);\n",
    "phenotype\n",
    "\n",
    "#priors\n",
    "residual_variance             = 20.0\n",
    "genetic_variance              = 20.0\n",
    "genetic_variance_by_marker    = genetic_variance*0.5\n",
    "genetic_variance_by_polygenic = genetic_variance*0.5\n",
    "variance_family_data          = 20.0\n",
    "familiy_date_variance         = 20.0\n",
    "\n",
    "#build model\n",
    "pedigree = get_pedigree(pedfile);\n",
    "model = build_model(\"days = intercept + family_date + animal\",residual_variance)\n",
    "set_random(model,\"family_date\",variance_family_data)\n",
    "set_random(model,\"animal\",pedigree,genetic_variance_by_polygenic)\n",
    "add_genotypes(model,genofile,genetic_variance_by_marker,header=false,separator=',')\n",
    "\n",
    "output=runMCMC(model,phenotype,chain_length=500,burnin=100,printout_frequency=100,methods=\"BayesB\",Pi=0.9,output_samples_frequency=1);"
   ]
  },
  {
   "cell_type": "code",
   "execution_count": 4,
   "metadata": {},
   "outputs": [
    {
     "data": {
      "text/plain": [
       "\"/Users/haocheng/Box Sync/5.Data/rainbowtrout/complete_genomic_data/map42045.gwas.ihnv.csf2016.map\""
      ]
     },
     "execution_count": 4,
     "metadata": {},
     "output_type": "execute_result"
    }
   ],
   "source": [
    "using JWAS:misc\n",
    "file=mypath*\"MCMC_samples_for_marker_effects.txt\"\n",
    "mapfile=mypath*\"map42045.gwas.ihnv.csf2016.map\""
   ]
  },
  {
   "cell_type": "code",
   "execution_count": 5,
   "metadata": {},
   "outputs": [],
   "source": [
    "out=GWAS(file,header=false)\n",
    "writedlm(\"modelfrequency.txt\",out)"
   ]
  },
  {
   "cell_type": "code",
   "execution_count": 8,
   "metadata": {},
   "outputs": [
    {
     "name": "stdout",
     "output_type": "stream",
     "text": [
      "Compute posterior probability that window explains more than 0.001 of genetic variance\n"
     ]
    },
    {
     "name": "stderr",
     "output_type": "stream",
     "text": [
      "\u001b[32mProgress: 100%|█████████████████████████████████████████| Time: 0:01:38\u001b[39m\n"
     ]
    }
   ],
   "source": [
    "out=GWAS(file,mapfile,model,threshold=0.001,window_size=\"1 Mb\",header=false)\n",
    "writedlm(\"windowprobability.txt\",out)"
   ]
  },
  {
   "cell_type": "code",
   "execution_count": 49,
   "metadata": {},
   "outputs": [
    {
     "name": "stdout",
     "output_type": "stream",
     "text": [
      "posterior mean for variance of 1:family_date\n",
      "2.8730952852458245\n"
     ]
    }
   ],
   "source": [
    "println(\"posterior mean for variance of 1:family_date\")\n",
    "println(mean(vec(output[\"MCMC samples for: variance of 1:family_date\"])))"
   ]
  },
  {
   "cell_type": "code",
   "execution_count": 36,
   "metadata": {},
   "outputs": [
    {
     "data": {
      "text/plain": [
       "Base.KeyIterator for a Dict{Any,Any} with 5 entries. Keys:\n",
       "  \"Posterior mean of marker effects\"\n",
       "  \"MCMC samples for residual variance\"\n",
       "  \"MCMC samples for: variance of 1:family_date\"\n",
       "  \"MCMC samples for polygenic effects var-cov parameters\"\n",
       "  \"Posterior mean of location parameters\""
      ]
     },
     "execution_count": 36,
     "metadata": {},
     "output_type": "execute_result"
    }
   ],
   "source": [
    "keys(output)"
   ]
  },
  {
   "cell_type": "code",
   "execution_count": 51,
   "metadata": {},
   "outputs": [
    {
     "data": {
      "text/plain": [
       "2.8730952852458245"
      ]
     },
     "execution_count": 51,
     "metadata": {},
     "output_type": "execute_result"
    }
   ],
   "source": [
    "mean(output[\"MCMC samples for: variance of 1:family_date\"])"
   ]
  },
  {
   "cell_type": "code",
   "execution_count": null,
   "metadata": {},
   "outputs": [],
   "source": []
  }
 ],
 "metadata": {
  "kernelspec": {
   "display_name": "Julia 0.6.2",
   "language": "julia",
   "name": "julia-0.6"
  },
  "language_info": {
   "file_extension": ".jl",
   "mimetype": "application/julia",
   "name": "julia",
   "version": "0.6.2"
  }
 },
 "nbformat": 4,
 "nbformat_minor": 2
}
