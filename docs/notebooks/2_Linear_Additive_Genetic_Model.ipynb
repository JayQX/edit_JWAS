{
 "cells": [
  {
   "cell_type": "markdown",
   "metadata": {},
   "source": [
    "<ul class=\"breadcrumb\">\n",
    "  <li><a href=\"1_Conventional_Linear_Mixed_Model.ipynb\">Bayesian Linear Mixed Models (Conventional)</a></li>\n",
    "  <li><a href=\"2_Linear_Additive_Genetic_Model.ipynb\">Bayesian Linear Additive Genetic Model</a></li> \n",
    "  <li><a href=\"3_Genomic_Linear_Mixed_Model.ipynb\">Bayesian Linear Mixed Models (Genomic Data)</a></li>\n",
    "</ul>"
   ]
  },
  {
   "cell_type": "markdown",
   "metadata": {},
   "source": [
    "<div class=\"span5 alert alert-success\">\n",
    " <font size=\"5\" face=\"Georgia\">Bayesian Linear Additive Genetic Model</font> \n",
    "</div>"
   ]
  },
  {
   "cell_type": "markdown",
   "metadata": {},
   "source": [
    "<button type=\"button\" class=\"btn btn-lg btn-primary\">Step 1: Load Packages</button> "
   ]
  },
  {
   "cell_type": "code",
   "execution_count": 21,
   "metadata": {},
   "outputs": [],
   "source": [
    "using JWAS,JWAS.Datasets,DataFrames,CSV"
   ]
  },
  {
   "cell_type": "markdown",
   "metadata": {},
   "source": [
    "<button type=\"button\" class=\"btn btn-lg btn-primary\">Step 2: Read data</button> "
   ]
  },
  {
   "cell_type": "code",
   "execution_count": 22,
   "metadata": {},
   "outputs": [
    {
     "name": "stdout",
     "output_type": "stream",
     "text": [
      "\u001b[32mThe delimiter in pedigree.txt is ','.\u001b[39m\n",
      "Pedigree informatin:\n",
      "#individuals: 12\n",
      "#sires:       4\n",
      "#dams:        5\n",
      "#founders:    3\n"
     ]
    }
   ],
   "source": [
    "phenofile  = Datasets.dataset(\"example\",\"phenotypes.txt\")\n",
    "pedfile    = Datasets.dataset(\"example\",\"pedigree.txt\")\n",
    "\n",
    "phenotypes = CSV.read(phenofile,delim = ',',header=true,missingstrings=[\"NA\"])\n",
    "pedigree   = get_pedigree(pedfile,separator=\",\",header=true);"
   ]
  },
  {
   "cell_type": "code",
   "execution_count": 23,
   "metadata": {},
   "outputs": [
    {
     "data": {
      "text/html": [
       "<table class=\"data-frame\"><thead><tr><th></th><th>ID</th><th>y1</th><th>y2</th><th>y3</th><th>x1</th><th>x2</th><th>x3</th><th>dam</th><th>weights</th></tr><tr><th></th><th>String</th><th>Float64⍰</th><th>Float64⍰</th><th>Float64⍰</th><th>Float64</th><th>Float64</th><th>String</th><th>String⍰</th><th>Float64</th></tr></thead><tbody><p>5 rows × 9 columns</p><tr><th>1</th><td>a1</td><td>-0.06</td><td>3.58</td><td>-1.18</td><td>0.9</td><td>2.0</td><td>m</td><td>missing</td><td>1.0</td></tr><tr><th>2</th><td>a3</td><td>-2.07</td><td>3.19</td><td>1.0</td><td>0.7</td><td>2.0</td><td>f</td><td>missing</td><td>1.0</td></tr><tr><th>3</th><td>a4</td><td>-2.63</td><td>6.97</td><td>-0.83</td><td>0.6</td><td>1.0</td><td>m</td><td>a2</td><td>1.0</td></tr><tr><th>4</th><td>a5</td><td>2.31</td><td>missing</td><td>-1.52</td><td>0.4</td><td>2.0</td><td>m</td><td>a2</td><td>1.0</td></tr><tr><th>5</th><td>a7</td><td>missing</td><td>missing</td><td>missing</td><td>0.1</td><td>0.1</td><td>m</td><td>a3</td><td>1.0</td></tr></tbody></table>"
      ],
      "text/latex": [
       "\\begin{tabular}{r|ccccccccc}\n",
       "\t& ID & y1 & y2 & y3 & x1 & x2 & x3 & dam & weights\\\\\n",
       "\t\\hline\n",
       "\t& String & Float64⍰ & Float64⍰ & Float64⍰ & Float64 & Float64 & String & String⍰ & Float64\\\\\n",
       "\t\\hline\n",
       "\t1 & a1 & -0.06 & 3.58 & -1.18 & 0.9 & 2.0 & m &  & 1.0 \\\\\n",
       "\t2 & a3 & -2.07 & 3.19 & 1.0 & 0.7 & 2.0 & f &  & 1.0 \\\\\n",
       "\t3 & a4 & -2.63 & 6.97 & -0.83 & 0.6 & 1.0 & m & a2 & 1.0 \\\\\n",
       "\t4 & a5 & 2.31 &  & -1.52 & 0.4 & 2.0 & m & a2 & 1.0 \\\\\n",
       "\t5 & a7 &  &  &  & 0.1 & 0.1 & m & a3 & 1.0 \\\\\n",
       "\\end{tabular}\n"
      ],
      "text/plain": [
       "5×9 DataFrame. Omitted printing of 2 columns\n",
       "│ Row │ ID     │ y1       │ y2       │ y3       │ x1      │ x2      │ x3     │\n",
       "│     │ \u001b[90mString\u001b[39m │ \u001b[90mFloat64⍰\u001b[39m │ \u001b[90mFloat64⍰\u001b[39m │ \u001b[90mFloat64⍰\u001b[39m │ \u001b[90mFloat64\u001b[39m │ \u001b[90mFloat64\u001b[39m │ \u001b[90mString\u001b[39m │\n",
       "├─────┼────────┼──────────┼──────────┼──────────┼─────────┼─────────┼────────┤\n",
       "│ 1   │ a1     │ -0.06    │ 3.58     │ -1.18    │ 0.9     │ 2.0     │ m      │\n",
       "│ 2   │ a3     │ -2.07    │ 3.19     │ 1.0      │ 0.7     │ 2.0     │ f      │\n",
       "│ 3   │ a4     │ -2.63    │ 6.97     │ -0.83    │ 0.6     │ 1.0     │ m      │\n",
       "│ 4   │ a5     │ 2.31     │ \u001b[90mmissing\u001b[39m  │ -1.52    │ 0.4     │ 2.0     │ m      │\n",
       "│ 5   │ a7     │ \u001b[90mmissing\u001b[39m  │ \u001b[90mmissing\u001b[39m  │ \u001b[90mmissing\u001b[39m  │ 0.1     │ 0.1     │ m      │"
      ]
     },
     "execution_count": 23,
     "metadata": {},
     "output_type": "execute_result"
    }
   ],
   "source": [
    "first(phenotypes,5)"
   ]
  },
  {
   "cell_type": "markdown",
   "metadata": {},
   "source": [
    "<div class=\"span5 alert alert-success\">\n",
    " <font size=\"5\" face=\"Georgia\">Univariate Linear Additive Genetic Model</font> \n",
    "</div>"
   ]
  },
  {
   "cell_type": "markdown",
   "metadata": {},
   "source": [
    "<button type=\"button\" class=\"btn btn-lg btn-primary\">Step 3: Build Model Equations</button> "
   ]
  },
  {
   "cell_type": "code",
   "execution_count": 24,
   "metadata": {},
   "outputs": [],
   "source": [
    "model_equation1  =\"y1 = intercept + x1*x3 + x2 + x3 + ID + dam\";"
   ]
  },
  {
   "cell_type": "code",
   "execution_count": 25,
   "metadata": {},
   "outputs": [],
   "source": [
    "model1 = build_model(model_equation1);"
   ]
  },
  {
   "cell_type": "markdown",
   "metadata": {},
   "source": [
    "<button type=\"button\" class=\"btn btn-lg btn-primary\">Step 4: Set Factors or Covariates</button> "
   ]
  },
  {
   "cell_type": "code",
   "execution_count": 26,
   "metadata": {},
   "outputs": [],
   "source": [
    "set_covariate(model1,\"x1\");"
   ]
  },
  {
   "cell_type": "markdown",
   "metadata": {},
   "source": [
    "<button type=\"button\" class=\"btn btn-lg btn-primary\">Step 5: Set Random or Fixed Effects</button> "
   ]
  },
  {
   "cell_type": "code",
   "execution_count": 27,
   "metadata": {},
   "outputs": [],
   "source": [
    "set_random(model1,\"x2\");\n",
    "set_random(model1,\"ID dam\",pedigree);"
   ]
  },
  {
   "cell_type": "markdown",
   "metadata": {},
   "source": [
    "<button type=\"button\" class=\"btn btn-lg btn-primary\">Step 6:Run Analysis</button> "
   ]
  },
  {
   "cell_type": "code",
   "execution_count": 28,
   "metadata": {},
   "outputs": [
    {
     "name": "stdout",
     "output_type": "stream",
     "text": [
      "\u001b[32mChecking phenotypes...\u001b[39m\n",
      "\u001b[32mIndividual IDs (strings) are provided in the first column of the phenotypic data.\u001b[39m\n",
      "\u001b[31mPhenotypes for all traits included in the model for individual a7 in the row 5 are missing. This record is deleted.\u001b[39m\n",
      "\u001b[32mThe number of observations with both phenotype and pedigree information used in the analysis is 4.\u001b[39m\n",
      "\u001b[32mPrior information for residual variance is not provided and is generated from the data.\u001b[39m\n",
      "\u001b[32mPrior information for random effect variance is not provided and is generated from the data.\u001b[39m\n",
      "\u001b[32mPrior information for random effect variance is not provided and is generated from the data.\u001b[39m\n",
      "\u001b[31mMissing values are found in independent variables: dam.\u001b[39m\n",
      "\n",
      "\u001b[0m\u001b[1mA Linear Mixed Model was build using model equations:\u001b[22m\n",
      "\n",
      "y1 = intercept + x1*x3 + x2 + x3 + ID + dam\n",
      "\n",
      "\u001b[0m\u001b[1mModel Information:\u001b[22m\n",
      "\n",
      "Term            C/F          F/R            nLevels\n",
      "intercept       factor       fixed                1\n",
      "x1*x3           interaction  fixed                2\n",
      "x2              factor       random               2\n",
      "x3              factor       fixed                2\n",
      "ID              factor       random              12\n",
      "dam             factor       random              12\n",
      "\n",
      "\u001b[0m\u001b[1mMCMC Information:\u001b[22m\n",
      "\n",
      "methods                   conventional (no markers)\n",
      "chain_length                                    100\n",
      "burnin                                            0\n",
      "estimateScale                                 false\n",
      "starting_value                                false\n",
      "printout_frequency                              101\n",
      "output_samples_frequency                          1\n",
      "constraint                                    false\n",
      "missing_phenotypes                             true\n",
      "update_priors_frequency                           0\n",
      "seed                                          false\n",
      "\n",
      "\u001b[0m\u001b[1mHyper-parameters Information:\u001b[22m\n",
      "\n",
      "random effect variances (y1:x2):              [1.253]\n",
      "random effect variances (y1:ID,y1:dam): [2.507 0.0; 0.0 2.507]\n",
      "residual variances:                           1.253\n",
      "\n",
      "\u001b[0m\u001b[1mDegree of freedom for hyper-parameters:\u001b[22m\n",
      "\n",
      "residual variances:                           4.000\n",
      "random effect variances:                      5.000\n",
      "polygenic effect variances:                   6.000\n",
      "\n",
      "\n",
      "\n",
      "\u001b[31mThe file MCMC_samples_residual_variance.txt already exists!!! It is overwritten by the new output.\u001b[39m\n",
      "\u001b[31mThe file MCMC_samples_polygenic_effects_variance.txt already exists!!! It is overwritten by the new output.\u001b[39m\n",
      "\u001b[31mThe file MCMC_samples_y1.x2_variances.txt already exists!!! It is overwritten by the new output.\u001b[39m\n",
      "\u001b[31mThe file MCMC_samples_y1.ID_y1.dam_variances.txt already exists!!! It is overwritten by the new output.\u001b[39m\n",
      "\u001b[31mThe file MCMC_samples_EBV_y1.txt already exists!!! It is overwritten by the new output.\u001b[39m\n",
      "\u001b[31mThe file MCMC_samples_genetic_variance.txt already exists!!! It is overwritten by the new output.\u001b[39m\n",
      "\u001b[31mThe file MCMC_samples_heritability.txt already exists!!! It is overwritten by the new output.\u001b[39m\n"
     ]
    },
    {
     "name": "stderr",
     "output_type": "stream",
     "text": [
      "\u001b[32mrunning MCMC for conventional (no markers)...100%|██████| Time: 0:00:00\u001b[39m\n"
     ]
    },
    {
     "name": "stdout",
     "output_type": "stream",
     "text": [
      "\n",
      "\n",
      "\u001b[0m\u001b[1mThe version of Julia and Platform in use:\u001b[22m\n",
      "\n",
      "Julia Version 1.3.1\n",
      "Commit 2d5741174c (2019-12-30 21:36 UTC)\n",
      "Platform Info:\n",
      "  OS: macOS (x86_64-apple-darwin18.6.0)\n",
      "  CPU: Intel(R) Core(TM) i7-7700K CPU @ 4.20GHz\n",
      "  WORD_SIZE: 64\n",
      "  LIBM: libopenlibm\n",
      "  LLVM: libLLVM-6.0.1 (ORCJIT, skylake)\n",
      "\n",
      "\n",
      "\u001b[0m\u001b[1mThe analysis has finished. Results are saved in the returned \u001b[22m\u001b[0m\u001b[1mvariable and text files. MCMC samples are saved in text files.\u001b[22m\n",
      "\n",
      "\n"
     ]
    }
   ],
   "source": [
    "out1=runMCMC(model1,phenotypes);"
   ]
  },
  {
   "cell_type": "markdown",
   "metadata": {},
   "source": [
    "<button type=\"button\" class=\"btn btn-lg btn-primary\">Check Results</button> "
   ]
  },
  {
   "cell_type": "code",
   "execution_count": 29,
   "metadata": {},
   "outputs": [
    {
     "data": {
      "text/plain": [
       "Base.KeySet for a Dict{Any,Any} with 6 entries. Keys:\n",
       "  \"EBV_y1\"\n",
       "  \"heritability\"\n",
       "  \"location parameters\"\n",
       "  \"residual variance\"\n",
       "  \"polygenic effects covariance matrix\"\n",
       "  \"genetic_variance\""
      ]
     },
     "execution_count": 29,
     "metadata": {},
     "output_type": "execute_result"
    }
   ],
   "source": [
    "keys(out1)"
   ]
  },
  {
   "cell_type": "code",
   "execution_count": 30,
   "metadata": {},
   "outputs": [
    {
     "data": {
      "text/html": [
       "<table class=\"data-frame\"><thead><tr><th></th><th>Covariance</th><th>Estimate</th><th>Std_Error</th></tr><tr><th></th><th>Any</th><th>Any</th><th>Any</th></tr></thead><tbody><p>4 rows × 3 columns</p><tr><th>1</th><td>y1:ID_y1:ID</td><td>4.0002</td><td>3.48931</td></tr><tr><th>2</th><td>y1:ID_y1:dam</td><td>0.326146</td><td>2.61556</td></tr><tr><th>3</th><td>y1:dam_y1:ID</td><td>0.326146</td><td>2.61556</td></tr><tr><th>4</th><td>y1:dam_y1:dam</td><td>3.82478</td><td>4.50704</td></tr></tbody></table>"
      ],
      "text/latex": [
       "\\begin{tabular}{r|ccc}\n",
       "\t& Covariance & Estimate & Std\\_Error\\\\\n",
       "\t\\hline\n",
       "\t& Any & Any & Any\\\\\n",
       "\t\\hline\n",
       "\t1 & y1:ID\\_y1:ID & 4.0002 & 3.48931 \\\\\n",
       "\t2 & y1:ID\\_y1:dam & 0.326146 & 2.61556 \\\\\n",
       "\t3 & y1:dam\\_y1:ID & 0.326146 & 2.61556 \\\\\n",
       "\t4 & y1:dam\\_y1:dam & 3.82478 & 4.50704 \\\\\n",
       "\\end{tabular}\n"
      ],
      "text/plain": [
       "4×3 DataFrame\n",
       "│ Row │ Covariance    │ Estimate │ Std_Error │\n",
       "│     │ \u001b[90mAny\u001b[39m           │ \u001b[90mAny\u001b[39m      │ \u001b[90mAny\u001b[39m       │\n",
       "├─────┼───────────────┼──────────┼───────────┤\n",
       "│ 1   │ y1:ID_y1:ID   │ 4.0002   │ 3.48931   │\n",
       "│ 2   │ y1:ID_y1:dam  │ 0.326146 │ 2.61556   │\n",
       "│ 3   │ y1:dam_y1:ID  │ 0.326146 │ 2.61556   │\n",
       "│ 4   │ y1:dam_y1:dam │ 3.82478  │ 4.50704   │"
      ]
     },
     "execution_count": 30,
     "metadata": {},
     "output_type": "execute_result"
    }
   ],
   "source": [
    "out1[\"polygenic effects covariance matrix\"]"
   ]
  },
  {
   "cell_type": "markdown",
   "metadata": {},
   "source": [
    "<div class=\"span5 alert alert-success\">\n",
    " <font size=\"5\" face=\"Georgia\">Multivariate Linear Additive Genetic Model</font> \n",
    "</div>"
   ]
  },
  {
   "cell_type": "markdown",
   "metadata": {},
   "source": [
    "<button type=\"button\" class=\"btn btn-lg btn-primary\">Step 3: Build Model Equations</button> "
   ]
  },
  {
   "cell_type": "code",
   "execution_count": 31,
   "metadata": {},
   "outputs": [],
   "source": [
    "model_equation2 =\"y1 = intercept + x1 + x3 + ID + dam\n",
    "                  y2 = intercept + x1 + x2 + x3 + ID\n",
    "                  y3 = intercept + x1 + x1*x3 + x2 + ID\";"
   ]
  },
  {
   "cell_type": "code",
   "execution_count": 32,
   "metadata": {},
   "outputs": [],
   "source": [
    "model2 = build_model(model_equation2);"
   ]
  },
  {
   "cell_type": "markdown",
   "metadata": {},
   "source": [
    "<button type=\"button\" class=\"btn btn-lg btn-primary\">Step 4: Set Factors or Covariates</button> "
   ]
  },
  {
   "cell_type": "code",
   "execution_count": 33,
   "metadata": {},
   "outputs": [],
   "source": [
    "set_covariate(model2,\"x1\");"
   ]
  },
  {
   "cell_type": "markdown",
   "metadata": {},
   "source": [
    "<button type=\"button\" class=\"btn btn-lg btn-primary\">Step 5: Set Random or Fixed Effects</button> "
   ]
  },
  {
   "cell_type": "code",
   "execution_count": 34,
   "metadata": {},
   "outputs": [
    {
     "name": "stdout",
     "output_type": "stream",
     "text": [
      "\u001b[32mx2 is not found in model equation 1.\u001b[39m\n",
      "\u001b[32mdam is not found in model equation 2.\u001b[39m\n",
      "\u001b[32mdam is not found in model equation 3.\u001b[39m\n"
     ]
    }
   ],
   "source": [
    "set_random(model2,\"x2\");\n",
    "set_random(model2,\"ID dam\",pedigree);"
   ]
  },
  {
   "cell_type": "markdown",
   "metadata": {},
   "source": [
    "<button type=\"button\" class=\"btn btn-lg btn-primary\">Step 6: Run Analysis</button> "
   ]
  },
  {
   "cell_type": "code",
   "execution_count": 35,
   "metadata": {},
   "outputs": [
    {
     "name": "stdout",
     "output_type": "stream",
     "text": [
      "\u001b[32mChecking phenotypes...\u001b[39m\n",
      "\u001b[32mIndividual IDs (strings) are provided in the first column of the phenotypic data.\u001b[39m\n",
      "\u001b[31mPhenotypes for all traits included in the model for individual a7 in the row 5 are missing. This record is deleted.\u001b[39m\n",
      "\u001b[32mThe number of observations with both phenotype and pedigree information used in the analysis is 4.\u001b[39m\n",
      "\u001b[32mPrior information for residual variance is not provided and is generated from the data.\u001b[39m\n",
      "\u001b[32mPrior information for random effect variance is not provided and is generated from the data.\u001b[39m\n",
      "\u001b[32mPrior information for random effect variance is not provided and is generated from the data.\u001b[39m\n",
      "\u001b[31mMissing values are found in independent variables: dam.\u001b[39m\n",
      "\n",
      "\u001b[0m\u001b[1mA Linear Mixed Model was build using model equations:\u001b[22m\n",
      "\n",
      "y1 = intercept + x1 + x3 + ID + dam\n",
      "y2 = intercept + x1 + x2 + x3 + ID\n",
      "y3 = intercept + x1 + x1*x3 + x2 + ID\n",
      "\n",
      "\u001b[0m\u001b[1mModel Information:\u001b[22m\n",
      "\n",
      "Term            C/F          F/R            nLevels\n",
      "intercept       factor       fixed                1\n",
      "x1              covariate    fixed                1\n",
      "x3              factor       fixed                2\n",
      "ID              factor       random              12\n",
      "dam             factor       random              12\n",
      "x2              factor       random               2\n",
      "x1*x3           interaction  fixed                2\n",
      "\n",
      "\u001b[0m\u001b[1mMCMC Information:\u001b[22m\n",
      "\n",
      "methods                   conventional (no markers)\n",
      "chain_length                                    100\n",
      "burnin                                            0\n",
      "estimateScale                                 false\n",
      "starting_value                                false\n",
      "printout_frequency                              101\n",
      "output_samples_frequency                          1\n",
      "constraint                                    false\n",
      "missing_phenotypes                             true\n",
      "update_priors_frequency                           0\n",
      "seed                                          false\n",
      "\n",
      "\u001b[0m\u001b[1mHyper-parameters Information:\u001b[22m\n",
      "\n",
      "random effect variances (y2:x2,y3:x2):\n",
      " 1.081  0.0  \n",
      " 0.0    0.316\n",
      "random effect variances (y1:ID,y2:ID,y3:ID,y1:dam):\n",
      " 2.507  0.0    0.0    0.0  \n",
      " 0.0    2.161  0.0    0.0  \n",
      " 0.0    0.0    0.632  0.0  \n",
      " 0.0    0.0    0.0    2.507\n",
      "residual variances:           \n",
      " 1.253  0.0    0.0  \n",
      " 0.0    1.081  0.0  \n",
      " 0.0    0.0    0.316\n",
      "genetic variances (polygenic):\n",
      " 2.507  0.0    0.0    0.0  \n",
      " 0.0    2.161  0.0    0.0  \n",
      " 0.0    0.0    0.632  0.0  \n",
      " 0.0    0.0    0.0    2.507\n",
      "\n",
      "\u001b[0m\u001b[1mDegree of freedom for hyper-parameters:\u001b[22m\n",
      "\n",
      "residual variances:                           7.000\n",
      "random effect variances:                      6.000\n",
      "polygenic effect variances:                   8.000\n",
      "\n",
      "\n",
      "\n",
      "\u001b[31mThe file MCMC_samples_residual_variance.txt already exists!!! It is overwritten by the new output.\u001b[39m\n",
      "\u001b[31mThe file MCMC_samples_polygenic_effects_variance.txt already exists!!! It is overwritten by the new output.\u001b[39m\n",
      "\u001b[31mThe file MCMC_samples_y2.x2_y3.x2_variances.txt already exists!!! It is overwritten by the new output.\u001b[39m\n",
      "\u001b[31mThe file MCMC_samples_y1.ID_y2.ID_y3.ID_y1.dam_variances.txt already exists!!! It is overwritten by the new output.\u001b[39m\n",
      "\u001b[31mThe file MCMC_samples_EBV_y1.txt already exists!!! It is overwritten by the new output.\u001b[39m\n",
      "\u001b[31mThe file MCMC_samples_EBV_y2.txt already exists!!! It is overwritten by the new output.\u001b[39m\n",
      "\u001b[31mThe file MCMC_samples_EBV_y3.txt already exists!!! It is overwritten by the new output.\u001b[39m\n",
      "\u001b[31mThe file MCMC_samples_genetic_variance.txt already exists!!! It is overwritten by the new output.\u001b[39m\n",
      "\u001b[31mThe file MCMC_samples_heritability.txt already exists!!! It is overwritten by the new output.\u001b[39m\n"
     ]
    },
    {
     "name": "stderr",
     "output_type": "stream",
     "text": [
      "\u001b[32mrunning MCMC for conventional (no markers)...100%|██████| Time: 0:00:00\u001b[39m\n"
     ]
    },
    {
     "name": "stdout",
     "output_type": "stream",
     "text": [
      "\n",
      "\n",
      "\u001b[0m\u001b[1mThe version of Julia and Platform in use:\u001b[22m\n",
      "\n",
      "Julia Version 1.3.1\n",
      "Commit 2d5741174c (2019-12-30 21:36 UTC)\n",
      "Platform Info:\n",
      "  OS: macOS (x86_64-apple-darwin18.6.0)\n",
      "  CPU: Intel(R) Core(TM) i7-7700K CPU @ 4.20GHz\n",
      "  WORD_SIZE: 64\n",
      "  LIBM: libopenlibm\n",
      "  LLVM: libLLVM-6.0.1 (ORCJIT, skylake)\n",
      "\n",
      "\n",
      "\u001b[0m\u001b[1mThe analysis has finished. Results are saved in the returned \u001b[22m\u001b[0m\u001b[1mvariable and text files. MCMC samples are saved in text files.\u001b[22m\n",
      "\n",
      "\n"
     ]
    }
   ],
   "source": [
    "out2=runMCMC(model2,phenotypes);"
   ]
  },
  {
   "cell_type": "markdown",
   "metadata": {},
   "source": [
    "<button type=\"button\" class=\"btn btn-lg btn-primary\">Check Results</button> "
   ]
  },
  {
   "cell_type": "code",
   "execution_count": 36,
   "metadata": {},
   "outputs": [
    {
     "data": {
      "text/plain": [
       "Base.KeySet for a Dict{Any,Any} with 8 entries. Keys:\n",
       "  \"EBV_y2\"\n",
       "  \"EBV_y1\"\n",
       "  \"heritability\"\n",
       "  \"location parameters\"\n",
       "  \"residual variance\"\n",
       "  \"polygenic effects covariance matrix\"\n",
       "  \"EBV_y3\"\n",
       "  \"genetic_variance\""
      ]
     },
     "execution_count": 36,
     "metadata": {},
     "output_type": "execute_result"
    }
   ],
   "source": [
    "keys(out2)"
   ]
  },
  {
   "cell_type": "code",
   "execution_count": 37,
   "metadata": {},
   "outputs": [
    {
     "data": {
      "text/html": [
       "<table class=\"data-frame\"><thead><tr><th></th><th>Trait</th><th>Effect</th><th>Level</th><th>Estimate</th><th>Std_Error</th></tr><tr><th></th><th>Any</th><th>Any</th><th>Any</th><th>Any</th><th>Any</th></tr></thead><tbody><p>64 rows × 5 columns</p><tr><th>1</th><td>y1</td><td>intercept</td><td>intercept</td><td>-13.2552</td><td>8.67802</td></tr><tr><th>2</th><td>y1</td><td>x1</td><td>x1</td><td>10.6374</td><td>7.5289</td></tr><tr><th>3</th><td>y1</td><td>x3</td><td>m</td><td>5.63865</td><td>6.78181</td></tr><tr><th>4</th><td>y1</td><td>x3</td><td>f</td><td>3.88134</td><td>7.0109</td></tr><tr><th>5</th><td>y1</td><td>ID</td><td>a2</td><td>0.625727</td><td>0.948119</td></tr><tr><th>6</th><td>y1</td><td>ID</td><td>a1</td><td>-0.102821</td><td>1.36501</td></tr><tr><th>7</th><td>y1</td><td>ID</td><td>a3</td><td>0.118026</td><td>1.17951</td></tr><tr><th>8</th><td>y1</td><td>ID</td><td>a7</td><td>-0.00813342</td><td>1.25624</td></tr><tr><th>9</th><td>y1</td><td>ID</td><td>a4</td><td>0.391211</td><td>1.36237</td></tr><tr><th>10</th><td>y1</td><td>ID</td><td>a6</td><td>-0.175139</td><td>1.30038</td></tr><tr><th>11</th><td>y1</td><td>ID</td><td>a9</td><td>0.322273</td><td>1.75786</td></tr><tr><th>12</th><td>y1</td><td>ID</td><td>a5</td><td>0.959672</td><td>0.905914</td></tr><tr><th>13</th><td>y1</td><td>ID</td><td>a10</td><td>0.306878</td><td>1.2159</td></tr><tr><th>14</th><td>y1</td><td>ID</td><td>a12</td><td>0.361632</td><td>1.53531</td></tr><tr><th>15</th><td>y1</td><td>ID</td><td>a11</td><td>0.364075</td><td>1.63428</td></tr><tr><th>16</th><td>y1</td><td>ID</td><td>a8</td><td>0.0803529</td><td>1.54358</td></tr><tr><th>17</th><td>y1</td><td>dam</td><td>a2</td><td>0.595587</td><td>1.26182</td></tr><tr><th>18</th><td>y1</td><td>dam</td><td>a1</td><td>0.10356</td><td>1.59261</td></tr><tr><th>19</th><td>y1</td><td>dam</td><td>a3</td><td>0.0135136</td><td>1.35755</td></tr><tr><th>20</th><td>y1</td><td>dam</td><td>a7</td><td>-0.0795304</td><td>1.84925</td></tr><tr><th>21</th><td>y1</td><td>dam</td><td>a4</td><td>0.488761</td><td>1.66216</td></tr><tr><th>22</th><td>y1</td><td>dam</td><td>a6</td><td>-0.161232</td><td>1.45572</td></tr><tr><th>23</th><td>y1</td><td>dam</td><td>a9</td><td>0.142637</td><td>1.93583</td></tr><tr><th>24</th><td>y1</td><td>dam</td><td>a5</td><td>0.717194</td><td>1.68037</td></tr><tr><th>25</th><td>y1</td><td>dam</td><td>a10</td><td>0.439873</td><td>1.79305</td></tr><tr><th>26</th><td>y1</td><td>dam</td><td>a12</td><td>0.454339</td><td>1.92791</td></tr><tr><th>27</th><td>y1</td><td>dam</td><td>a11</td><td>0.197857</td><td>1.68761</td></tr><tr><th>28</th><td>y1</td><td>dam</td><td>a8</td><td>0.210002</td><td>1.53829</td></tr><tr><th>29</th><td>y2</td><td>intercept</td><td>intercept</td><td>8.39969</td><td>1.68005</td></tr><tr><th>30</th><td>y2</td><td>x1</td><td>x1</td><td>-8.38349</td><td>2.75414</td></tr><tr><th>&vellip;</th><td>&vellip;</td><td>&vellip;</td><td>&vellip;</td><td>&vellip;</td><td>&vellip;</td></tr></tbody></table>"
      ],
      "text/latex": [
       "\\begin{tabular}{r|ccccc}\n",
       "\t& Trait & Effect & Level & Estimate & Std\\_Error\\\\\n",
       "\t\\hline\n",
       "\t& Any & Any & Any & Any & Any\\\\\n",
       "\t\\hline\n",
       "\t1 & y1 & intercept & intercept & -13.2552 & 8.67802 \\\\\n",
       "\t2 & y1 & x1 & x1 & 10.6374 & 7.5289 \\\\\n",
       "\t3 & y1 & x3 & m & 5.63865 & 6.78181 \\\\\n",
       "\t4 & y1 & x3 & f & 3.88134 & 7.0109 \\\\\n",
       "\t5 & y1 & ID & a2 & 0.625727 & 0.948119 \\\\\n",
       "\t6 & y1 & ID & a1 & -0.102821 & 1.36501 \\\\\n",
       "\t7 & y1 & ID & a3 & 0.118026 & 1.17951 \\\\\n",
       "\t8 & y1 & ID & a7 & -0.00813342 & 1.25624 \\\\\n",
       "\t9 & y1 & ID & a4 & 0.391211 & 1.36237 \\\\\n",
       "\t10 & y1 & ID & a6 & -0.175139 & 1.30038 \\\\\n",
       "\t11 & y1 & ID & a9 & 0.322273 & 1.75786 \\\\\n",
       "\t12 & y1 & ID & a5 & 0.959672 & 0.905914 \\\\\n",
       "\t13 & y1 & ID & a10 & 0.306878 & 1.2159 \\\\\n",
       "\t14 & y1 & ID & a12 & 0.361632 & 1.53531 \\\\\n",
       "\t15 & y1 & ID & a11 & 0.364075 & 1.63428 \\\\\n",
       "\t16 & y1 & ID & a8 & 0.0803529 & 1.54358 \\\\\n",
       "\t17 & y1 & dam & a2 & 0.595587 & 1.26182 \\\\\n",
       "\t18 & y1 & dam & a1 & 0.10356 & 1.59261 \\\\\n",
       "\t19 & y1 & dam & a3 & 0.0135136 & 1.35755 \\\\\n",
       "\t20 & y1 & dam & a7 & -0.0795304 & 1.84925 \\\\\n",
       "\t21 & y1 & dam & a4 & 0.488761 & 1.66216 \\\\\n",
       "\t22 & y1 & dam & a6 & -0.161232 & 1.45572 \\\\\n",
       "\t23 & y1 & dam & a9 & 0.142637 & 1.93583 \\\\\n",
       "\t24 & y1 & dam & a5 & 0.717194 & 1.68037 \\\\\n",
       "\t25 & y1 & dam & a10 & 0.439873 & 1.79305 \\\\\n",
       "\t26 & y1 & dam & a12 & 0.454339 & 1.92791 \\\\\n",
       "\t27 & y1 & dam & a11 & 0.197857 & 1.68761 \\\\\n",
       "\t28 & y1 & dam & a8 & 0.210002 & 1.53829 \\\\\n",
       "\t29 & y2 & intercept & intercept & 8.39969 & 1.68005 \\\\\n",
       "\t30 & y2 & x1 & x1 & -8.38349 & 2.75414 \\\\\n",
       "\t$\\dots$ & $\\dots$ & $\\dots$ & $\\dots$ & $\\dots$ & $\\dots$ \\\\\n",
       "\\end{tabular}\n"
      ],
      "text/plain": [
       "64×5 DataFrame\n",
       "│ Row │ Trait │ Effect    │ Level     │ Estimate    │ Std_Error │\n",
       "│     │ \u001b[90mAny\u001b[39m   │ \u001b[90mAny\u001b[39m       │ \u001b[90mAny\u001b[39m       │ \u001b[90mAny\u001b[39m         │ \u001b[90mAny\u001b[39m       │\n",
       "├─────┼───────┼───────────┼───────────┼─────────────┼───────────┤\n",
       "│ 1   │ y1    │ intercept │ intercept │ -13.2552    │ 8.67802   │\n",
       "│ 2   │ y1    │ x1        │ x1        │ 10.6374     │ 7.5289    │\n",
       "│ 3   │ y1    │ x3        │ m         │ 5.63865     │ 6.78181   │\n",
       "│ 4   │ y1    │ x3        │ f         │ 3.88134     │ 7.0109    │\n",
       "│ 5   │ y1    │ ID        │ a2        │ 0.625727    │ 0.948119  │\n",
       "│ 6   │ y1    │ ID        │ a1        │ -0.102821   │ 1.36501   │\n",
       "│ 7   │ y1    │ ID        │ a3        │ 0.118026    │ 1.17951   │\n",
       "│ 8   │ y1    │ ID        │ a7        │ -0.00813342 │ 1.25624   │\n",
       "│ 9   │ y1    │ ID        │ a4        │ 0.391211    │ 1.36237   │\n",
       "│ 10  │ y1    │ ID        │ a6        │ -0.175139   │ 1.30038   │\n",
       "⋮\n",
       "│ 54  │ y3    │ ID        │ a1        │ -0.274732   │ 0.564589  │\n",
       "│ 55  │ y3    │ ID        │ a3        │ 0.197955    │ 0.560989  │\n",
       "│ 56  │ y3    │ ID        │ a7        │ -0.0333457  │ 0.557454  │\n",
       "│ 57  │ y3    │ ID        │ a4        │ -0.228729   │ 0.522143  │\n",
       "│ 58  │ y3    │ ID        │ a6        │ -0.00738397 │ 0.487175  │\n",
       "│ 59  │ y3    │ ID        │ a9        │ -0.125105   │ 0.582044  │\n",
       "│ 60  │ y3    │ ID        │ a5        │ -0.401951   │ 0.493284  │\n",
       "│ 61  │ y3    │ ID        │ a10       │ -0.34216    │ 0.624292  │\n",
       "│ 62  │ y3    │ ID        │ a12       │ -0.214199   │ 0.549406  │\n",
       "│ 63  │ y3    │ ID        │ a11       │ -0.189437   │ 0.580872  │\n",
       "│ 64  │ y3    │ ID        │ a8        │ -0.103272   │ 0.562058  │"
      ]
     },
     "execution_count": 37,
     "metadata": {},
     "output_type": "execute_result"
    }
   ],
   "source": [
    "out2[\"location parameters\"]"
   ]
  },
  {
   "cell_type": "code",
   "execution_count": 38,
   "metadata": {},
   "outputs": [
    {
     "data": {
      "text/html": [
       "<table class=\"data-frame\"><thead><tr><th></th><th>ID</th><th>EBV</th><th>PEV</th></tr><tr><th></th><th>Any</th><th>Any</th><th>Any</th></tr></thead><tbody><p>12 rows × 3 columns</p><tr><th>1</th><td>a2</td><td>-0.180406</td><td>0.305792</td></tr><tr><th>2</th><td>a1</td><td>-0.274732</td><td>0.321981</td></tr><tr><th>3</th><td>a3</td><td>0.197955</td><td>0.317888</td></tr><tr><th>4</th><td>a7</td><td>-0.0333457</td><td>0.313894</td></tr><tr><th>5</th><td>a4</td><td>-0.228729</td><td>0.275388</td></tr><tr><th>6</th><td>a6</td><td>-0.00738397</td><td>0.239737</td></tr><tr><th>7</th><td>a9</td><td>-0.125105</td><td>0.342197</td></tr><tr><th>8</th><td>a5</td><td>-0.401951</td><td>0.245787</td></tr><tr><th>9</th><td>a10</td><td>-0.34216</td><td>0.393678</td></tr><tr><th>10</th><td>a12</td><td>-0.214199</td><td>0.304896</td></tr><tr><th>11</th><td>a11</td><td>-0.189437</td><td>0.34082</td></tr><tr><th>12</th><td>a8</td><td>-0.103272</td><td>0.319101</td></tr></tbody></table>"
      ],
      "text/latex": [
       "\\begin{tabular}{r|ccc}\n",
       "\t& ID & EBV & PEV\\\\\n",
       "\t\\hline\n",
       "\t& Any & Any & Any\\\\\n",
       "\t\\hline\n",
       "\t1 & a2 & -0.180406 & 0.305792 \\\\\n",
       "\t2 & a1 & -0.274732 & 0.321981 \\\\\n",
       "\t3 & a3 & 0.197955 & 0.317888 \\\\\n",
       "\t4 & a7 & -0.0333457 & 0.313894 \\\\\n",
       "\t5 & a4 & -0.228729 & 0.275388 \\\\\n",
       "\t6 & a6 & -0.00738397 & 0.239737 \\\\\n",
       "\t7 & a9 & -0.125105 & 0.342197 \\\\\n",
       "\t8 & a5 & -0.401951 & 0.245787 \\\\\n",
       "\t9 & a10 & -0.34216 & 0.393678 \\\\\n",
       "\t10 & a12 & -0.214199 & 0.304896 \\\\\n",
       "\t11 & a11 & -0.189437 & 0.34082 \\\\\n",
       "\t12 & a8 & -0.103272 & 0.319101 \\\\\n",
       "\\end{tabular}\n"
      ],
      "text/plain": [
       "12×3 DataFrame\n",
       "│ Row │ ID  │ EBV         │ PEV      │\n",
       "│     │ \u001b[90mAny\u001b[39m │ \u001b[90mAny\u001b[39m         │ \u001b[90mAny\u001b[39m      │\n",
       "├─────┼─────┼─────────────┼──────────┤\n",
       "│ 1   │ a2  │ -0.180406   │ 0.305792 │\n",
       "│ 2   │ a1  │ -0.274732   │ 0.321981 │\n",
       "│ 3   │ a3  │ 0.197955    │ 0.317888 │\n",
       "│ 4   │ a7  │ -0.0333457  │ 0.313894 │\n",
       "│ 5   │ a4  │ -0.228729   │ 0.275388 │\n",
       "│ 6   │ a6  │ -0.00738397 │ 0.239737 │\n",
       "│ 7   │ a9  │ -0.125105   │ 0.342197 │\n",
       "│ 8   │ a5  │ -0.401951   │ 0.245787 │\n",
       "│ 9   │ a10 │ -0.34216    │ 0.393678 │\n",
       "│ 10  │ a12 │ -0.214199   │ 0.304896 │\n",
       "│ 11  │ a11 │ -0.189437   │ 0.34082  │\n",
       "│ 12  │ a8  │ -0.103272   │ 0.319101 │"
      ]
     },
     "execution_count": 38,
     "metadata": {},
     "output_type": "execute_result"
    }
   ],
   "source": [
    "out2[\"EBV_y3\"]"
   ]
  },
  {
   "cell_type": "code",
   "execution_count": 39,
   "metadata": {},
   "outputs": [
    {
     "data": {
      "text/html": [
       "<table class=\"data-frame\"><thead><tr><th></th><th>Covariance</th><th>Estimate</th><th>Std_Error</th></tr><tr><th></th><th>Any</th><th>Any</th><th>Any</th></tr></thead><tbody><p>16 rows × 3 columns</p><tr><th>1</th><td>y1:ID_y1:ID</td><td>1.80557</td><td>1.00455</td></tr><tr><th>2</th><td>y1:ID_y2:ID</td><td>0.0900607</td><td>0.830421</td></tr><tr><th>3</th><td>y1:ID_y3:ID</td><td>0.019925</td><td>0.355726</td></tr><tr><th>4</th><td>y1:ID_y1:dam</td><td>0.409764</td><td>0.653957</td></tr><tr><th>5</th><td>y2:ID_y1:ID</td><td>0.0900607</td><td>0.830421</td></tr><tr><th>6</th><td>y2:ID_y2:ID</td><td>2.00541</td><td>1.89668</td></tr><tr><th>7</th><td>y2:ID_y3:ID</td><td>-0.0685386</td><td>0.466511</td></tr><tr><th>8</th><td>y2:ID_y1:dam</td><td>-0.147121</td><td>0.927323</td></tr><tr><th>9</th><td>y3:ID_y1:ID</td><td>0.0199249</td><td>0.355726</td></tr><tr><th>10</th><td>y3:ID_y2:ID</td><td>-0.0685386</td><td>0.466511</td></tr><tr><th>11</th><td>y3:ID_y3:ID</td><td>0.475873</td><td>0.301468</td></tr><tr><th>12</th><td>y3:ID_y1:dam</td><td>-0.112991</td><td>0.327674</td></tr><tr><th>13</th><td>y1:dam_y1:ID</td><td>0.409764</td><td>0.653957</td></tr><tr><th>14</th><td>y1:dam_y2:ID</td><td>-0.147121</td><td>0.927323</td></tr><tr><th>15</th><td>y1:dam_y3:ID</td><td>-0.112991</td><td>0.327674</td></tr><tr><th>16</th><td>y1:dam_y1:dam</td><td>1.97517</td><td>1.06663</td></tr></tbody></table>"
      ],
      "text/latex": [
       "\\begin{tabular}{r|ccc}\n",
       "\t& Covariance & Estimate & Std\\_Error\\\\\n",
       "\t\\hline\n",
       "\t& Any & Any & Any\\\\\n",
       "\t\\hline\n",
       "\t1 & y1:ID\\_y1:ID & 1.80557 & 1.00455 \\\\\n",
       "\t2 & y1:ID\\_y2:ID & 0.0900607 & 0.830421 \\\\\n",
       "\t3 & y1:ID\\_y3:ID & 0.019925 & 0.355726 \\\\\n",
       "\t4 & y1:ID\\_y1:dam & 0.409764 & 0.653957 \\\\\n",
       "\t5 & y2:ID\\_y1:ID & 0.0900607 & 0.830421 \\\\\n",
       "\t6 & y2:ID\\_y2:ID & 2.00541 & 1.89668 \\\\\n",
       "\t7 & y2:ID\\_y3:ID & -0.0685386 & 0.466511 \\\\\n",
       "\t8 & y2:ID\\_y1:dam & -0.147121 & 0.927323 \\\\\n",
       "\t9 & y3:ID\\_y1:ID & 0.0199249 & 0.355726 \\\\\n",
       "\t10 & y3:ID\\_y2:ID & -0.0685386 & 0.466511 \\\\\n",
       "\t11 & y3:ID\\_y3:ID & 0.475873 & 0.301468 \\\\\n",
       "\t12 & y3:ID\\_y1:dam & -0.112991 & 0.327674 \\\\\n",
       "\t13 & y1:dam\\_y1:ID & 0.409764 & 0.653957 \\\\\n",
       "\t14 & y1:dam\\_y2:ID & -0.147121 & 0.927323 \\\\\n",
       "\t15 & y1:dam\\_y3:ID & -0.112991 & 0.327674 \\\\\n",
       "\t16 & y1:dam\\_y1:dam & 1.97517 & 1.06663 \\\\\n",
       "\\end{tabular}\n"
      ],
      "text/plain": [
       "16×3 DataFrame\n",
       "│ Row │ Covariance    │ Estimate   │ Std_Error │\n",
       "│     │ \u001b[90mAny\u001b[39m           │ \u001b[90mAny\u001b[39m        │ \u001b[90mAny\u001b[39m       │\n",
       "├─────┼───────────────┼────────────┼───────────┤\n",
       "│ 1   │ y1:ID_y1:ID   │ 1.80557    │ 1.00455   │\n",
       "│ 2   │ y1:ID_y2:ID   │ 0.0900607  │ 0.830421  │\n",
       "│ 3   │ y1:ID_y3:ID   │ 0.019925   │ 0.355726  │\n",
       "│ 4   │ y1:ID_y1:dam  │ 0.409764   │ 0.653957  │\n",
       "│ 5   │ y2:ID_y1:ID   │ 0.0900607  │ 0.830421  │\n",
       "│ 6   │ y2:ID_y2:ID   │ 2.00541    │ 1.89668   │\n",
       "│ 7   │ y2:ID_y3:ID   │ -0.0685386 │ 0.466511  │\n",
       "│ 8   │ y2:ID_y1:dam  │ -0.147121  │ 0.927323  │\n",
       "│ 9   │ y3:ID_y1:ID   │ 0.0199249  │ 0.355726  │\n",
       "│ 10  │ y3:ID_y2:ID   │ -0.0685386 │ 0.466511  │\n",
       "│ 11  │ y3:ID_y3:ID   │ 0.475873   │ 0.301468  │\n",
       "│ 12  │ y3:ID_y1:dam  │ -0.112991  │ 0.327674  │\n",
       "│ 13  │ y1:dam_y1:ID  │ 0.409764   │ 0.653957  │\n",
       "│ 14  │ y1:dam_y2:ID  │ -0.147121  │ 0.927323  │\n",
       "│ 15  │ y1:dam_y3:ID  │ -0.112991  │ 0.327674  │\n",
       "│ 16  │ y1:dam_y1:dam │ 1.97517    │ 1.06663   │"
      ]
     },
     "execution_count": 39,
     "metadata": {},
     "output_type": "execute_result"
    }
   ],
   "source": [
    "out2[\"polygenic effects covariance matrix\"]"
   ]
  },
  {
   "cell_type": "code",
   "execution_count": 40,
   "metadata": {},
   "outputs": [
    {
     "data": {
      "text/html": [
       "<table class=\"data-frame\"><thead><tr><th></th><th>Covariance</th><th>Estimate</th><th>Std_Error</th></tr><tr><th></th><th>Any</th><th>Any</th><th>Any</th></tr></thead><tbody><p>9 rows × 3 columns</p><tr><th>1</th><td>y1_y1</td><td>3.10513</td><td>2.4985</td></tr><tr><th>2</th><td>y1_y2</td><td>-0.250541</td><td>1.02221</td></tr><tr><th>3</th><td>y1_y3</td><td>-0.0604672</td><td>0.414207</td></tr><tr><th>4</th><td>y2_y1</td><td>-0.250541</td><td>1.02221</td></tr><tr><th>5</th><td>y2_y2</td><td>1.10382</td><td>1.07214</td></tr><tr><th>6</th><td>y2_y3</td><td>-0.0461574</td><td>0.27032</td></tr><tr><th>7</th><td>y3_y1</td><td>-0.0604672</td><td>0.414207</td></tr><tr><th>8</th><td>y3_y2</td><td>-0.0461574</td><td>0.27032</td></tr><tr><th>9</th><td>y3_y3</td><td>0.264821</td><td>0.180307</td></tr></tbody></table>"
      ],
      "text/latex": [
       "\\begin{tabular}{r|ccc}\n",
       "\t& Covariance & Estimate & Std\\_Error\\\\\n",
       "\t\\hline\n",
       "\t& Any & Any & Any\\\\\n",
       "\t\\hline\n",
       "\t1 & y1\\_y1 & 3.10513 & 2.4985 \\\\\n",
       "\t2 & y1\\_y2 & -0.250541 & 1.02221 \\\\\n",
       "\t3 & y1\\_y3 & -0.0604672 & 0.414207 \\\\\n",
       "\t4 & y2\\_y1 & -0.250541 & 1.02221 \\\\\n",
       "\t5 & y2\\_y2 & 1.10382 & 1.07214 \\\\\n",
       "\t6 & y2\\_y3 & -0.0461574 & 0.27032 \\\\\n",
       "\t7 & y3\\_y1 & -0.0604672 & 0.414207 \\\\\n",
       "\t8 & y3\\_y2 & -0.0461574 & 0.27032 \\\\\n",
       "\t9 & y3\\_y3 & 0.264821 & 0.180307 \\\\\n",
       "\\end{tabular}\n"
      ],
      "text/plain": [
       "9×3 DataFrame\n",
       "│ Row │ Covariance │ Estimate   │ Std_Error │\n",
       "│     │ \u001b[90mAny\u001b[39m        │ \u001b[90mAny\u001b[39m        │ \u001b[90mAny\u001b[39m       │\n",
       "├─────┼────────────┼────────────┼───────────┤\n",
       "│ 1   │ y1_y1      │ 3.10513    │ 2.4985    │\n",
       "│ 2   │ y1_y2      │ -0.250541  │ 1.02221   │\n",
       "│ 3   │ y1_y3      │ -0.0604672 │ 0.414207  │\n",
       "│ 4   │ y2_y1      │ -0.250541  │ 1.02221   │\n",
       "│ 5   │ y2_y2      │ 1.10382    │ 1.07214   │\n",
       "│ 6   │ y2_y3      │ -0.0461574 │ 0.27032   │\n",
       "│ 7   │ y3_y1      │ -0.0604672 │ 0.414207  │\n",
       "│ 8   │ y3_y2      │ -0.0461574 │ 0.27032   │\n",
       "│ 9   │ y3_y3      │ 0.264821   │ 0.180307  │"
      ]
     },
     "execution_count": 40,
     "metadata": {},
     "output_type": "execute_result"
    }
   ],
   "source": [
    "out2[\"genetic_variance\"]"
   ]
  }
 ],
 "metadata": {
  "anaconda-cloud": {},
  "kernelspec": {
   "display_name": "Julia 1.3.0",
   "language": "julia",
   "name": "julia-1.3"
  },
  "language_info": {
   "file_extension": ".jl",
   "mimetype": "application/julia",
   "name": "julia",
   "version": "1.3.1"
  }
 },
 "nbformat": 4,
 "nbformat_minor": 2
}
