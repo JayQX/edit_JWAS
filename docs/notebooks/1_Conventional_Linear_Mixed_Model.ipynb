{
 "cells": [
  {
   "cell_type": "markdown",
   "metadata": {},
   "source": [
    "<ul class=\"breadcrumb\">\n",
    "  <li><a href=\"1_Conventional_Linear_Mixed_Model.ipynb\">Bayesian Linear Mixed Models (Conventional)</a></li>\n",
    "  <li><a href=\"2_Linear_Additive_Genetic_Model.ipynb\">Bayesian Linear Additive Genetic Model</a></li> \n",
    "  <li><a href=\"3_Genomic_Linear_Mixed_Model.ipynb\">Bayesian Linear Mixed Models (Genomic Data)</a></li>\n",
    "</ul>"
   ]
  },
  {
   "cell_type": "markdown",
   "metadata": {},
   "source": [
    "<div class=\"span5 alert alert-success\">\n",
    " <font size=\"5\" face=\"Georgia\">Bayesian Linear Mixed Models (Conventional)</font> \n",
    "</div>"
   ]
  },
  {
   "cell_type": "markdown",
   "metadata": {},
   "source": [
    "<button type=\"button\" class=\"btn btn-lg btn-primary\">Step 1: Load Packages</button> "
   ]
  },
  {
   "cell_type": "code",
   "execution_count": 20,
   "metadata": {},
   "outputs": [],
   "source": [
    "using JWAS,JWAS.Datasets,DataFrames,CSV"
   ]
  },
  {
   "cell_type": "markdown",
   "metadata": {},
   "source": [
    "<button type=\"button\" class=\"btn btn-lg btn-primary\">Step 2: Read data</button> "
   ]
  },
  {
   "cell_type": "code",
   "execution_count": 2,
   "metadata": {},
   "outputs": [],
   "source": [
    "phenofile  = Datasets.dataset(\"example\",\"phenotypes.txt\")\n",
    "phenotypes = CSV.read(phenofile,delim = ',',header=true,missingstrings=[\"NA\"]);"
   ]
  },
  {
   "cell_type": "code",
   "execution_count": 3,
   "metadata": {},
   "outputs": [
    {
     "data": {
      "text/html": [
       "<table class=\"data-frame\"><thead><tr><th></th><th>ID</th><th>y1</th><th>y2</th><th>y3</th><th>x1</th><th>x2</th><th>x3</th><th>dam</th><th>weights</th></tr><tr><th></th><th>String</th><th>Float64⍰</th><th>Float64⍰</th><th>Float64⍰</th><th>Float64</th><th>Float64</th><th>String</th><th>String⍰</th><th>Float64</th></tr></thead><tbody><p>5 rows × 9 columns</p><tr><th>1</th><td>a1</td><td>-0.06</td><td>3.58</td><td>-1.18</td><td>0.9</td><td>2.0</td><td>m</td><td>missing</td><td>1.0</td></tr><tr><th>2</th><td>a3</td><td>-2.07</td><td>3.19</td><td>1.0</td><td>0.7</td><td>2.0</td><td>f</td><td>missing</td><td>1.0</td></tr><tr><th>3</th><td>a4</td><td>-2.63</td><td>6.97</td><td>-0.83</td><td>0.6</td><td>1.0</td><td>m</td><td>a2</td><td>1.0</td></tr><tr><th>4</th><td>a5</td><td>2.31</td><td>missing</td><td>-1.52</td><td>0.4</td><td>2.0</td><td>m</td><td>a2</td><td>1.0</td></tr><tr><th>5</th><td>a7</td><td>missing</td><td>missing</td><td>missing</td><td>0.1</td><td>0.1</td><td>m</td><td>a3</td><td>1.0</td></tr></tbody></table>"
      ],
      "text/latex": [
       "\\begin{tabular}{r|ccccccccc}\n",
       "\t& ID & y1 & y2 & y3 & x1 & x2 & x3 & dam & weights\\\\\n",
       "\t\\hline\n",
       "\t& String & Float64⍰ & Float64⍰ & Float64⍰ & Float64 & Float64 & String & String⍰ & Float64\\\\\n",
       "\t\\hline\n",
       "\t1 & a1 & -0.06 & 3.58 & -1.18 & 0.9 & 2.0 & m &  & 1.0 \\\\\n",
       "\t2 & a3 & -2.07 & 3.19 & 1.0 & 0.7 & 2.0 & f &  & 1.0 \\\\\n",
       "\t3 & a4 & -2.63 & 6.97 & -0.83 & 0.6 & 1.0 & m & a2 & 1.0 \\\\\n",
       "\t4 & a5 & 2.31 &  & -1.52 & 0.4 & 2.0 & m & a2 & 1.0 \\\\\n",
       "\t5 & a7 &  &  &  & 0.1 & 0.1 & m & a3 & 1.0 \\\\\n",
       "\\end{tabular}\n"
      ],
      "text/plain": [
       "5×9 DataFrame. Omitted printing of 2 columns\n",
       "│ Row │ ID     │ y1       │ y2       │ y3       │ x1      │ x2      │ x3     │\n",
       "│     │ \u001b[90mString\u001b[39m │ \u001b[90mFloat64⍰\u001b[39m │ \u001b[90mFloat64⍰\u001b[39m │ \u001b[90mFloat64⍰\u001b[39m │ \u001b[90mFloat64\u001b[39m │ \u001b[90mFloat64\u001b[39m │ \u001b[90mString\u001b[39m │\n",
       "├─────┼────────┼──────────┼──────────┼──────────┼─────────┼─────────┼────────┤\n",
       "│ 1   │ a1     │ -0.06    │ 3.58     │ -1.18    │ 0.9     │ 2.0     │ m      │\n",
       "│ 2   │ a3     │ -2.07    │ 3.19     │ 1.0      │ 0.7     │ 2.0     │ f      │\n",
       "│ 3   │ a4     │ -2.63    │ 6.97     │ -0.83    │ 0.6     │ 1.0     │ m      │\n",
       "│ 4   │ a5     │ 2.31     │ \u001b[90mmissing\u001b[39m  │ -1.52    │ 0.4     │ 2.0     │ m      │\n",
       "│ 5   │ a7     │ \u001b[90mmissing\u001b[39m  │ \u001b[90mmissing\u001b[39m  │ \u001b[90mmissing\u001b[39m  │ 0.1     │ 0.1     │ m      │"
      ]
     },
     "execution_count": 3,
     "metadata": {},
     "output_type": "execute_result"
    }
   ],
   "source": [
    "first(phenotypes,5)"
   ]
  },
  {
   "cell_type": "markdown",
   "metadata": {},
   "source": [
    "<div class=\"span5 alert alert-success\">\n",
    " <font size=\"5\" face=\"Georgia\">Univariate Linear Mixed Models (Conventional)</font> \n",
    "</div>"
   ]
  },
  {
   "cell_type": "markdown",
   "metadata": {},
   "source": [
    "<button type=\"button\" class=\"btn btn-lg btn-primary\">Step 3: Build Model Equations</button> "
   ]
  },
  {
   "cell_type": "code",
   "execution_count": 4,
   "metadata": {},
   "outputs": [],
   "source": [
    "model_equation1  =\"y1 = intercept + x1*x3 + x2 + x3\";"
   ]
  },
  {
   "cell_type": "code",
   "execution_count": 5,
   "metadata": {},
   "outputs": [],
   "source": [
    "model1 = build_model(model_equation1);"
   ]
  },
  {
   "cell_type": "markdown",
   "metadata": {},
   "source": [
    "<button type=\"button\" class=\"btn btn-lg btn-primary\">Step 4: Set Factors or Covariates</button> "
   ]
  },
  {
   "cell_type": "code",
   "execution_count": 6,
   "metadata": {},
   "outputs": [],
   "source": [
    "set_covariate(model1,\"x1\");"
   ]
  },
  {
   "cell_type": "markdown",
   "metadata": {},
   "source": [
    "<button type=\"button\" class=\"btn btn-lg btn-primary\">Step 5: Set Random or Fixed Effects</button> "
   ]
  },
  {
   "cell_type": "code",
   "execution_count": 7,
   "metadata": {},
   "outputs": [],
   "source": [
    "set_random(model1,\"x2\");"
   ]
  },
  {
   "cell_type": "markdown",
   "metadata": {},
   "source": [
    "<button type=\"button\" class=\"btn btn-lg btn-primary\">Step 6:Run Analysis</button> "
   ]
  },
  {
   "cell_type": "code",
   "execution_count": 8,
   "metadata": {},
   "outputs": [
    {
     "name": "stdout",
     "output_type": "stream",
     "text": [
      "\u001b[32mChecking phenotypes...\u001b[39m\n",
      "\u001b[32mIndividual IDs (strings) are provided in the first column of the phenotypic data.\u001b[39m\n",
      "\u001b[31mPhenotypes for all traits included in the model for individual a7 in the row 5 are missing. This record is deleted.\u001b[39m\n",
      "\u001b[32mPrior information for residual variance is not provided and is generated from the data.\u001b[39m\n",
      "\u001b[32mPrior information for random effect variance is not provided and is generated from the data.\u001b[39m\n",
      "\n",
      "\u001b[0m\u001b[1mA Linear Mixed Model was build using model equations:\u001b[22m\n",
      "\n",
      "y1 = intercept + x1*x3 + x2 + x3\n",
      "\n",
      "\u001b[0m\u001b[1mModel Information:\u001b[22m\n",
      "\n",
      "Term            C/F          F/R            nLevels\n",
      "intercept       factor       fixed                1\n",
      "x1*x3           interaction  fixed                2\n",
      "x2              factor       random               2\n",
      "x3              factor       fixed                2\n",
      "\n",
      "\u001b[0m\u001b[1mMCMC Information:\u001b[22m\n",
      "\n",
      "methods                   conventional (no markers)\n",
      "chain_length                                    100\n",
      "burnin                                            0\n",
      "estimateScale                                 false\n",
      "starting_value                                false\n",
      "printout_frequency                              101\n",
      "output_samples_frequency                          1\n",
      "constraint                                    false\n",
      "missing_phenotypes                             true\n",
      "update_priors_frequency                           0\n",
      "seed                                          false\n",
      "\n",
      "\u001b[0m\u001b[1mHyper-parameters Information:\u001b[22m\n",
      "\n",
      "random effect variances (y1:x2):              [1.253]\n",
      "residual variances:                           1.253\n",
      "\n",
      "\u001b[0m\u001b[1mDegree of freedom for hyper-parameters:\u001b[22m\n",
      "\n",
      "residual variances:                           4.000\n",
      "random effect variances:                      5.000\n",
      "\n",
      "\n",
      "\n",
      "\u001b[31mThe file MCMC_samples_residual_variance.txt already exists!!! It is overwritten by the new output.\u001b[39m\n",
      "\u001b[31mThe file MCMC_samples_y1.x2_variances.txt already exists!!! It is overwritten by the new output.\u001b[39m\n"
     ]
    },
    {
     "name": "stderr",
     "output_type": "stream",
     "text": [
      "\u001b[32mrunning MCMC for conventional (no markers)...100%|██████| Time: 0:00:01\u001b[39m\n"
     ]
    },
    {
     "name": "stdout",
     "output_type": "stream",
     "text": [
      "\n",
      "\n",
      "\u001b[0m\u001b[1mThe version of Julia and Platform in use:\u001b[22m\n",
      "\n",
      "Julia Version 1.3.1\n",
      "Commit 2d5741174c (2019-12-30 21:36 UTC)\n",
      "Platform Info:\n",
      "  OS: macOS (x86_64-apple-darwin18.6.0)\n",
      "  CPU: Intel(R) Core(TM) i7-7700K CPU @ 4.20GHz\n",
      "  WORD_SIZE: 64\n",
      "  LIBM: libopenlibm\n",
      "  LLVM: libLLVM-6.0.1 (ORCJIT, skylake)\n",
      "\n",
      "\n",
      "\u001b[0m\u001b[1mThe analysis has finished. Results are saved in the returned \u001b[22m\u001b[0m\u001b[1mvariable and text files. MCMC samples are saved in text files.\u001b[22m\n",
      "\n",
      "\n"
     ]
    }
   ],
   "source": [
    "out1=runMCMC(model1,phenotypes);"
   ]
  },
  {
   "cell_type": "markdown",
   "metadata": {},
   "source": [
    "<button type=\"button\" class=\"btn btn-lg btn-primary\">Check Results</button> "
   ]
  },
  {
   "cell_type": "code",
   "execution_count": 9,
   "metadata": {},
   "outputs": [
    {
     "data": {
      "text/plain": [
       "Base.KeySet for a Dict{Any,Any} with 2 entries. Keys:\n",
       "  \"location parameters\"\n",
       "  \"residual variance\""
      ]
     },
     "execution_count": 9,
     "metadata": {},
     "output_type": "execute_result"
    }
   ],
   "source": [
    "keys(out1)"
   ]
  },
  {
   "cell_type": "code",
   "execution_count": 10,
   "metadata": {},
   "outputs": [
    {
     "data": {
      "text/html": [
       "<table class=\"data-frame\"><thead><tr><th></th><th>Trait</th><th>Effect</th><th>Level</th><th>Estimate</th><th>Std_Error</th></tr><tr><th></th><th>Any</th><th>Any</th><th>Any</th><th>Any</th><th>Any</th></tr></thead><tbody><p>7 rows × 5 columns</p><tr><th>1</th><td>y1</td><td>intercept</td><td>intercept</td><td>-0.68565</td><td>2.15387</td></tr><tr><th>2</th><td>y1</td><td>x1*x3</td><td>x1 * m</td><td>-3.53323</td><td>2.7287</td></tr><tr><th>3</th><td>y1</td><td>x1*x3</td><td>x1 * f</td><td>2.51169</td><td>7.1064</td></tr><tr><th>4</th><td>y1</td><td>x2</td><td>2.0</td><td>1.01359</td><td>1.53674</td></tr><tr><th>5</th><td>y1</td><td>x2</td><td>1.0</td><td>-1.27899</td><td>1.43765</td></tr><tr><th>6</th><td>y1</td><td>x3</td><td>m</td><td>2.54268</td><td>3.66508</td></tr><tr><th>7</th><td>y1</td><td>x3</td><td>f</td><td>-4.14117</td><td>3.3524</td></tr></tbody></table>"
      ],
      "text/latex": [
       "\\begin{tabular}{r|ccccc}\n",
       "\t& Trait & Effect & Level & Estimate & Std\\_Error\\\\\n",
       "\t\\hline\n",
       "\t& Any & Any & Any & Any & Any\\\\\n",
       "\t\\hline\n",
       "\t1 & y1 & intercept & intercept & -0.68565 & 2.15387 \\\\\n",
       "\t2 & y1 & x1*x3 & x1 * m & -3.53323 & 2.7287 \\\\\n",
       "\t3 & y1 & x1*x3 & x1 * f & 2.51169 & 7.1064 \\\\\n",
       "\t4 & y1 & x2 & 2.0 & 1.01359 & 1.53674 \\\\\n",
       "\t5 & y1 & x2 & 1.0 & -1.27899 & 1.43765 \\\\\n",
       "\t6 & y1 & x3 & m & 2.54268 & 3.66508 \\\\\n",
       "\t7 & y1 & x3 & f & -4.14117 & 3.3524 \\\\\n",
       "\\end{tabular}\n"
      ],
      "text/plain": [
       "7×5 DataFrame\n",
       "│ Row │ Trait │ Effect    │ Level     │ Estimate │ Std_Error │\n",
       "│     │ \u001b[90mAny\u001b[39m   │ \u001b[90mAny\u001b[39m       │ \u001b[90mAny\u001b[39m       │ \u001b[90mAny\u001b[39m      │ \u001b[90mAny\u001b[39m       │\n",
       "├─────┼───────┼───────────┼───────────┼──────────┼───────────┤\n",
       "│ 1   │ y1    │ intercept │ intercept │ -0.68565 │ 2.15387   │\n",
       "│ 2   │ y1    │ x1*x3     │ x1 * m    │ -3.53323 │ 2.7287    │\n",
       "│ 3   │ y1    │ x1*x3     │ x1 * f    │ 2.51169  │ 7.1064    │\n",
       "│ 4   │ y1    │ x2        │ 2.0       │ 1.01359  │ 1.53674   │\n",
       "│ 5   │ y1    │ x2        │ 1.0       │ -1.27899 │ 1.43765   │\n",
       "│ 6   │ y1    │ x3        │ m         │ 2.54268  │ 3.66508   │\n",
       "│ 7   │ y1    │ x3        │ f         │ -4.14117 │ 3.3524    │"
      ]
     },
     "execution_count": 10,
     "metadata": {},
     "output_type": "execute_result"
    }
   ],
   "source": [
    "out1[\"location parameters\"]"
   ]
  },
  {
   "cell_type": "code",
   "execution_count": 11,
   "metadata": {},
   "outputs": [
    {
     "data": {
      "text/html": [
       "<table class=\"data-frame\"><thead><tr><th></th><th>Covariance</th><th>Estimate</th><th>Std_Error</th></tr><tr><th></th><th>Any</th><th>Any</th><th>Any</th></tr></thead><tbody><p>1 rows × 3 columns</p><tr><th>1</th><td>y1_y1</td><td>1.53495</td><td>1.65136</td></tr></tbody></table>"
      ],
      "text/latex": [
       "\\begin{tabular}{r|ccc}\n",
       "\t& Covariance & Estimate & Std\\_Error\\\\\n",
       "\t\\hline\n",
       "\t& Any & Any & Any\\\\\n",
       "\t\\hline\n",
       "\t1 & y1\\_y1 & 1.53495 & 1.65136 \\\\\n",
       "\\end{tabular}\n"
      ],
      "text/plain": [
       "1×3 DataFrame\n",
       "│ Row │ Covariance │ Estimate │ Std_Error │\n",
       "│     │ \u001b[90mAny\u001b[39m        │ \u001b[90mAny\u001b[39m      │ \u001b[90mAny\u001b[39m       │\n",
       "├─────┼────────────┼──────────┼───────────┤\n",
       "│ 1   │ y1_y1      │ 1.53495  │ 1.65136   │"
      ]
     },
     "execution_count": 11,
     "metadata": {},
     "output_type": "execute_result"
    }
   ],
   "source": [
    "out1[\"residual variance\"]"
   ]
  },
  {
   "cell_type": "markdown",
   "metadata": {},
   "source": [
    "<div class=\"span5 alert alert-success\">\n",
    " <font size=\"5\" face=\"Georgia\">Multivariate Linear Mixed Models (Conventional)</font> \n",
    "</div>"
   ]
  },
  {
   "cell_type": "markdown",
   "metadata": {},
   "source": [
    "<button type=\"button\" class=\"btn btn-lg btn-primary\">Step 3: Build Model Equations</button> "
   ]
  },
  {
   "cell_type": "code",
   "execution_count": 12,
   "metadata": {},
   "outputs": [],
   "source": [
    "model_equation2 =\"y1 = intercept + x1 + x3\n",
    "                  y2 = intercept + x1 + x2 + x3\n",
    "                  y3 = intercept + x1 + x1*x3 + x2\";"
   ]
  },
  {
   "cell_type": "code",
   "execution_count": 13,
   "metadata": {},
   "outputs": [],
   "source": [
    "model2 = build_model(model_equation2);"
   ]
  },
  {
   "cell_type": "markdown",
   "metadata": {},
   "source": [
    "<button type=\"button\" class=\"btn btn-lg btn-primary\">Step 4: Set Factors or Covariates</button> "
   ]
  },
  {
   "cell_type": "code",
   "execution_count": 14,
   "metadata": {},
   "outputs": [],
   "source": [
    "set_covariate(model2,\"x1\");"
   ]
  },
  {
   "cell_type": "markdown",
   "metadata": {},
   "source": [
    "<button type=\"button\" class=\"btn btn-lg btn-primary\">Step 5: Set Random or Fixed Effects</button> "
   ]
  },
  {
   "cell_type": "code",
   "execution_count": 15,
   "metadata": {},
   "outputs": [
    {
     "name": "stdout",
     "output_type": "stream",
     "text": [
      "\u001b[32mx2 is not found in model equation 1.\u001b[39m\n"
     ]
    }
   ],
   "source": [
    "set_random(model2,\"x2\");"
   ]
  },
  {
   "cell_type": "markdown",
   "metadata": {},
   "source": [
    "<button type=\"button\" class=\"btn btn-lg btn-primary\">Step 6: Run Analysis</button> "
   ]
  },
  {
   "cell_type": "code",
   "execution_count": 16,
   "metadata": {},
   "outputs": [
    {
     "name": "stdout",
     "output_type": "stream",
     "text": [
      "\u001b[32mChecking phenotypes...\u001b[39m\n",
      "\u001b[32mIndividual IDs (strings) are provided in the first column of the phenotypic data.\u001b[39m\n",
      "\u001b[31mPhenotypes for all traits included in the model for individual a7 in the row 5 are missing. This record is deleted.\u001b[39m\n",
      "\u001b[32mPrior information for residual variance is not provided and is generated from the data.\u001b[39m\n",
      "\u001b[32mPrior information for random effect variance is not provided and is generated from the data.\u001b[39m\n",
      "\n",
      "\u001b[0m\u001b[1mA Linear Mixed Model was build using model equations:\u001b[22m\n",
      "\n",
      "y1 = intercept + x1 + x3\n",
      "y2 = intercept + x1 + x2 + x3\n",
      "y3 = intercept + x1 + x1*x3 + x2\n",
      "\n",
      "\u001b[0m\u001b[1mModel Information:\u001b[22m\n",
      "\n",
      "Term            C/F          F/R            nLevels\n",
      "intercept       factor       fixed                1\n",
      "x1              covariate    fixed                1\n",
      "x3              factor       fixed                2\n",
      "x2              factor       random               2\n",
      "x1*x3           interaction  fixed                2\n",
      "\n",
      "\u001b[0m\u001b[1mMCMC Information:\u001b[22m\n",
      "\n",
      "methods                   conventional (no markers)\n",
      "chain_length                                   5000\n",
      "burnin                                            0\n",
      "estimateScale                                 false\n",
      "starting_value                                false\n",
      "printout_frequency                             5001\n",
      "output_samples_frequency                        100\n",
      "constraint                                    false\n",
      "missing_phenotypes                             true\n",
      "update_priors_frequency                           0\n",
      "seed                                          false\n",
      "\n",
      "\u001b[0m\u001b[1mHyper-parameters Information:\u001b[22m\n",
      "\n",
      "random effect variances (y2:x2,y3:x2):\n",
      " 1.081  0.0  \n",
      " 0.0    0.316\n",
      "residual variances:           \n",
      " 1.253  0.0    0.0  \n",
      " 0.0    1.081  0.0  \n",
      " 0.0    0.0    0.316\n",
      "\n",
      "\u001b[0m\u001b[1mDegree of freedom for hyper-parameters:\u001b[22m\n",
      "\n",
      "residual variances:                           7.000\n",
      "random effect variances:                      6.000\n",
      "\n",
      "\n",
      "\n",
      "\u001b[31mThe file MCMC_samples_residual_variance.txt already exists!!! It is overwritten by the new output.\u001b[39m\n",
      "\u001b[31mThe file MCMC_samples_y2.x2_y3.x2_variances.txt already exists!!! It is overwritten by the new output.\u001b[39m\n"
     ]
    },
    {
     "name": "stderr",
     "output_type": "stream",
     "text": [
      "\u001b[32mrunning MCMC for conventional (no markers)...100%|██████| Time: 0:00:03\u001b[39m\n"
     ]
    },
    {
     "name": "stdout",
     "output_type": "stream",
     "text": [
      "\n",
      "\n",
      "\u001b[0m\u001b[1mThe version of Julia and Platform in use:\u001b[22m\n",
      "\n",
      "Julia Version 1.3.1\n",
      "Commit 2d5741174c (2019-12-30 21:36 UTC)\n",
      "Platform Info:\n",
      "  OS: macOS (x86_64-apple-darwin18.6.0)\n",
      "  CPU: Intel(R) Core(TM) i7-7700K CPU @ 4.20GHz\n",
      "  WORD_SIZE: 64\n",
      "  LIBM: libopenlibm\n",
      "  LLVM: libLLVM-6.0.1 (ORCJIT, skylake)\n",
      "\n",
      "\n",
      "\u001b[0m\u001b[1mThe analysis has finished. Results are saved in the returned \u001b[22m\u001b[0m\u001b[1mvariable and text files. MCMC samples are saved in text files.\u001b[22m\n",
      "\n",
      "\n"
     ]
    }
   ],
   "source": [
    "out2=runMCMC(model2,phenotypes,chain_length=5000,output_samples_frequency=100);"
   ]
  },
  {
   "cell_type": "markdown",
   "metadata": {},
   "source": [
    "<button type=\"button\" class=\"btn btn-lg btn-primary\">Check Results</button> "
   ]
  },
  {
   "cell_type": "code",
   "execution_count": 17,
   "metadata": {},
   "outputs": [
    {
     "data": {
      "text/plain": [
       "Base.KeySet for a Dict{Any,Any} with 2 entries. Keys:\n",
       "  \"location parameters\"\n",
       "  \"residual variance\""
      ]
     },
     "execution_count": 17,
     "metadata": {},
     "output_type": "execute_result"
    }
   ],
   "source": [
    "keys(out2)"
   ]
  },
  {
   "cell_type": "code",
   "execution_count": 18,
   "metadata": {},
   "outputs": [
    {
     "data": {
      "text/html": [
       "<table class=\"data-frame\"><thead><tr><th></th><th>Trait</th><th>Effect</th><th>Level</th><th>Estimate</th><th>Std_Error</th></tr><tr><th></th><th>Any</th><th>Any</th><th>Any</th><th>Any</th><th>Any</th></tr></thead><tbody><p>16 rows × 5 columns</p><tr><th>1</th><td>y1</td><td>intercept</td><td>intercept</td><td>58.4043</td><td>34.3336</td></tr><tr><th>2</th><td>y1</td><td>x1</td><td>x1</td><td>-4.8379</td><td>4.53666</td></tr><tr><th>3</th><td>y1</td><td>x3</td><td>m</td><td>-55.5406</td><td>34.0001</td></tr><tr><th>4</th><td>y1</td><td>x3</td><td>f</td><td>-57.0454</td><td>34.0681</td></tr><tr><th>5</th><td>y2</td><td>intercept</td><td>intercept</td><td>15.2137</td><td>14.6064</td></tr><tr><th>6</th><td>y2</td><td>x1</td><td>x1</td><td>-11.9029</td><td>8.04085</td></tr><tr><th>7</th><td>y2</td><td>x2</td><td>2.0</td><td>0.218078</td><td>1.02655</td></tr><tr><th>8</th><td>y2</td><td>x2</td><td>1.0</td><td>0.142865</td><td>1.07977</td></tr><tr><th>9</th><td>y2</td><td>x3</td><td>m</td><td>-1.28758</td><td>15.4774</td></tr><tr><th>10</th><td>y2</td><td>x3</td><td>f</td><td>-4.10139</td><td>15.3815</td></tr><tr><th>11</th><td>y3</td><td>intercept</td><td>intercept</td><td>-1.66267</td><td>1.01476</td></tr><tr><th>12</th><td>y3</td><td>x1</td><td>x1</td><td>-15.347</td><td>14.4518</td></tr><tr><th>13</th><td>y3</td><td>x1*x3</td><td>x1 * m</td><td>16.1353</td><td>14.3822</td></tr><tr><th>14</th><td>y3</td><td>x1*x3</td><td>x1 * f</td><td>19.3425</td><td>14.3084</td></tr><tr><th>15</th><td>y3</td><td>x2</td><td>2.0</td><td>-0.119527</td><td>0.59711</td></tr><tr><th>16</th><td>y3</td><td>x2</td><td>1.0</td><td>0.143961</td><td>0.493966</td></tr></tbody></table>"
      ],
      "text/latex": [
       "\\begin{tabular}{r|ccccc}\n",
       "\t& Trait & Effect & Level & Estimate & Std\\_Error\\\\\n",
       "\t\\hline\n",
       "\t& Any & Any & Any & Any & Any\\\\\n",
       "\t\\hline\n",
       "\t1 & y1 & intercept & intercept & 58.4043 & 34.3336 \\\\\n",
       "\t2 & y1 & x1 & x1 & -4.8379 & 4.53666 \\\\\n",
       "\t3 & y1 & x3 & m & -55.5406 & 34.0001 \\\\\n",
       "\t4 & y1 & x3 & f & -57.0454 & 34.0681 \\\\\n",
       "\t5 & y2 & intercept & intercept & 15.2137 & 14.6064 \\\\\n",
       "\t6 & y2 & x1 & x1 & -11.9029 & 8.04085 \\\\\n",
       "\t7 & y2 & x2 & 2.0 & 0.218078 & 1.02655 \\\\\n",
       "\t8 & y2 & x2 & 1.0 & 0.142865 & 1.07977 \\\\\n",
       "\t9 & y2 & x3 & m & -1.28758 & 15.4774 \\\\\n",
       "\t10 & y2 & x3 & f & -4.10139 & 15.3815 \\\\\n",
       "\t11 & y3 & intercept & intercept & -1.66267 & 1.01476 \\\\\n",
       "\t12 & y3 & x1 & x1 & -15.347 & 14.4518 \\\\\n",
       "\t13 & y3 & x1*x3 & x1 * m & 16.1353 & 14.3822 \\\\\n",
       "\t14 & y3 & x1*x3 & x1 * f & 19.3425 & 14.3084 \\\\\n",
       "\t15 & y3 & x2 & 2.0 & -0.119527 & 0.59711 \\\\\n",
       "\t16 & y3 & x2 & 1.0 & 0.143961 & 0.493966 \\\\\n",
       "\\end{tabular}\n"
      ],
      "text/plain": [
       "16×5 DataFrame\n",
       "│ Row │ Trait │ Effect    │ Level     │ Estimate  │ Std_Error │\n",
       "│     │ \u001b[90mAny\u001b[39m   │ \u001b[90mAny\u001b[39m       │ \u001b[90mAny\u001b[39m       │ \u001b[90mAny\u001b[39m       │ \u001b[90mAny\u001b[39m       │\n",
       "├─────┼───────┼───────────┼───────────┼───────────┼───────────┤\n",
       "│ 1   │ y1    │ intercept │ intercept │ 58.4043   │ 34.3336   │\n",
       "│ 2   │ y1    │ x1        │ x1        │ -4.8379   │ 4.53666   │\n",
       "│ 3   │ y1    │ x3        │ m         │ -55.5406  │ 34.0001   │\n",
       "│ 4   │ y1    │ x3        │ f         │ -57.0454  │ 34.0681   │\n",
       "│ 5   │ y2    │ intercept │ intercept │ 15.2137   │ 14.6064   │\n",
       "│ 6   │ y2    │ x1        │ x1        │ -11.9029  │ 8.04085   │\n",
       "│ 7   │ y2    │ x2        │ 2.0       │ 0.218078  │ 1.02655   │\n",
       "│ 8   │ y2    │ x2        │ 1.0       │ 0.142865  │ 1.07977   │\n",
       "│ 9   │ y2    │ x3        │ m         │ -1.28758  │ 15.4774   │\n",
       "│ 10  │ y2    │ x3        │ f         │ -4.10139  │ 15.3815   │\n",
       "│ 11  │ y3    │ intercept │ intercept │ -1.66267  │ 1.01476   │\n",
       "│ 12  │ y3    │ x1        │ x1        │ -15.347   │ 14.4518   │\n",
       "│ 13  │ y3    │ x1*x3     │ x1 * m    │ 16.1353   │ 14.3822   │\n",
       "│ 14  │ y3    │ x1*x3     │ x1 * f    │ 19.3425   │ 14.3084   │\n",
       "│ 15  │ y3    │ x2        │ 2.0       │ -0.119527 │ 0.59711   │\n",
       "│ 16  │ y3    │ x2        │ 1.0       │ 0.143961  │ 0.493966  │"
      ]
     },
     "execution_count": 18,
     "metadata": {},
     "output_type": "execute_result"
    }
   ],
   "source": [
    "out2[\"location parameters\"]"
   ]
  },
  {
   "cell_type": "code",
   "execution_count": 19,
   "metadata": {},
   "outputs": [
    {
     "data": {
      "text/html": [
       "<table class=\"data-frame\"><thead><tr><th></th><th>Covariance</th><th>Estimate</th><th>Std_Error</th></tr><tr><th></th><th>Any</th><th>Any</th><th>Any</th></tr></thead><tbody><p>9 rows × 3 columns</p><tr><th>1</th><td>y1_y1</td><td>3.41408</td><td>2.91564</td></tr><tr><th>2</th><td>y1_y2</td><td>-0.236925</td><td>2.33926</td></tr><tr><th>3</th><td>y1_y3</td><td>-0.175038</td><td>0.861852</td></tr><tr><th>4</th><td>y2_y1</td><td>-0.236925</td><td>2.33926</td></tr><tr><th>5</th><td>y2_y2</td><td>1.53161</td><td>1.56651</td></tr><tr><th>6</th><td>y2_y3</td><td>0.0333331</td><td>0.479879</td></tr><tr><th>7</th><td>y3_y1</td><td>-0.175038</td><td>0.861852</td></tr><tr><th>8</th><td>y3_y2</td><td>0.0333331</td><td>0.479879</td></tr><tr><th>9</th><td>y3_y3</td><td>0.303169</td><td>0.273024</td></tr></tbody></table>"
      ],
      "text/latex": [
       "\\begin{tabular}{r|ccc}\n",
       "\t& Covariance & Estimate & Std\\_Error\\\\\n",
       "\t\\hline\n",
       "\t& Any & Any & Any\\\\\n",
       "\t\\hline\n",
       "\t1 & y1\\_y1 & 3.41408 & 2.91564 \\\\\n",
       "\t2 & y1\\_y2 & -0.236925 & 2.33926 \\\\\n",
       "\t3 & y1\\_y3 & -0.175038 & 0.861852 \\\\\n",
       "\t4 & y2\\_y1 & -0.236925 & 2.33926 \\\\\n",
       "\t5 & y2\\_y2 & 1.53161 & 1.56651 \\\\\n",
       "\t6 & y2\\_y3 & 0.0333331 & 0.479879 \\\\\n",
       "\t7 & y3\\_y1 & -0.175038 & 0.861852 \\\\\n",
       "\t8 & y3\\_y2 & 0.0333331 & 0.479879 \\\\\n",
       "\t9 & y3\\_y3 & 0.303169 & 0.273024 \\\\\n",
       "\\end{tabular}\n"
      ],
      "text/plain": [
       "9×3 DataFrame\n",
       "│ Row │ Covariance │ Estimate  │ Std_Error │\n",
       "│     │ \u001b[90mAny\u001b[39m        │ \u001b[90mAny\u001b[39m       │ \u001b[90mAny\u001b[39m       │\n",
       "├─────┼────────────┼───────────┼───────────┤\n",
       "│ 1   │ y1_y1      │ 3.41408   │ 2.91564   │\n",
       "│ 2   │ y1_y2      │ -0.236925 │ 2.33926   │\n",
       "│ 3   │ y1_y3      │ -0.175038 │ 0.861852  │\n",
       "│ 4   │ y2_y1      │ -0.236925 │ 2.33926   │\n",
       "│ 5   │ y2_y2      │ 1.53161   │ 1.56651   │\n",
       "│ 6   │ y2_y3      │ 0.0333331 │ 0.479879  │\n",
       "│ 7   │ y3_y1      │ -0.175038 │ 0.861852  │\n",
       "│ 8   │ y3_y2      │ 0.0333331 │ 0.479879  │\n",
       "│ 9   │ y3_y3      │ 0.303169  │ 0.273024  │"
      ]
     },
     "execution_count": 19,
     "metadata": {},
     "output_type": "execute_result"
    }
   ],
   "source": [
    "out2[\"residual variance\"]"
   ]
  }
 ],
 "metadata": {
  "anaconda-cloud": {},
  "kernelspec": {
   "display_name": "Julia 1.3.0",
   "language": "julia",
   "name": "julia-1.3"
  },
  "language_info": {
   "file_extension": ".jl",
   "mimetype": "application/julia",
   "name": "julia",
   "version": "1.3.1"
  }
 },
 "nbformat": 4,
 "nbformat_minor": 2
}
