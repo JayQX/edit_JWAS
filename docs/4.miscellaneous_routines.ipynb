{
 "cells": [
  {
   "cell_type": "markdown",
   "metadata": {},
   "source": [
    "<div class=\"span5 alert alert-success\">\n",
    " <font size=\"5\" face=\"Georgia\">miscellaneous routines</font> \n",
    "</div>"
   ]
  },
  {
   "cell_type": "code",
   "execution_count": 1,
   "metadata": {
    "collapsed": false
   },
   "outputs": [],
   "source": [
    "include(\"../src/JWAS.jl\")\n",
    "\n",
    "using DataFrames,JWAS,JWAS.Datasets"
   ]
  },
  {
   "cell_type": "markdown",
   "metadata": {},
   "source": [
    "<button type=\"button\" class=\"btn btn-lg btn-primary\">mulitiple trait with missing phenotypes</button> "
   ]
  },
  {
   "cell_type": "markdown",
   "metadata": {},
   "source": [
    "* missing values are denoted as \"NA\""
   ]
  },
  {
   "cell_type": "code",
   "execution_count": 2,
   "metadata": {
    "collapsed": false
   },
   "outputs": [],
   "source": [
    "MTData   = Datasets.dataset(\"testMT\",\"MTData.txt\");\n",
    "genofile = Datasets.dataset(\"testMT\",\"genotype.txt\");"
   ]
  },
  {
   "cell_type": "code",
   "execution_count": 3,
   "metadata": {
    "collapsed": false
   },
   "outputs": [
    {
     "name": "stdout",
     "output_type": "stream",
     "text": [
      "y1   y2    trt\n",
      "1.0  2.0    1\n",
      "1.1  NA     1\n",
      "0.9  1.9    2\n",
      "1.2   1.7   2\n"
     ]
    }
   ],
   "source": [
    ";cat $MTData"
   ]
  },
  {
   "cell_type": "code",
   "execution_count": 26,
   "metadata": {
    "collapsed": false
   },
   "outputs": [
    {
     "data": {
      "text/html": [
       "<table class=\"data-frame\"><tr><th></th><th>y1</th><th>y2</th><th>trt</th></tr><tr><th>1</th><td>1.0</td><td>2.0</td><td>1</td></tr><tr><th>2</th><td>1.1</td><td>NA</td><td>1</td></tr><tr><th>3</th><td>0.9</td><td>1.9</td><td>2</td></tr><tr><th>4</th><td>1.2</td><td>1.7</td><td>2</td></tr></table>"
      ],
      "text/plain": [
       "4×3 DataFrames.DataFrame\n",
       "│ Row │ y1  │ y2  │ trt │\n",
       "├─────┼─────┼─────┼─────┤\n",
       "│ 1   │ 1.0 │ 2.0 │ 1   │\n",
       "│ 2   │ 1.1 │ NA  │ 1   │\n",
       "│ 3   │ 0.9 │ 1.9 │ 2   │\n",
       "│ 4   │ 1.2 │ 1.7 │ 2   │"
      ]
     },
     "execution_count": 26,
     "metadata": {},
     "output_type": "execute_result"
    }
   ],
   "source": [
    "df = readtable(MTData, separator = ' ')"
   ]
  },
  {
   "cell_type": "code",
   "execution_count": 27,
   "metadata": {
    "collapsed": false
   },
   "outputs": [
    {
     "name": "stdout",
     "output_type": "stream",
     "text": [
      "Animal,x1,x2,x3,x4,x5\n",
      "S1,1.0,0.0,1.0,1.0,1.0\n",
      "D1,2.0,0.0,2.0,2.0,1.0\n",
      "O1,1.0,2.0,0.0,1.0,0.0\n",
      "O3,0.0,0.0,2.0,1.0,1.0\n"
     ]
    }
   ],
   "source": [
    ";cat $genofile"
   ]
  },
  {
   "cell_type": "code",
   "execution_count": 28,
   "metadata": {
    "collapsed": true
   },
   "outputs": [],
   "source": [
    "R0=[1.0 0.5\n",
    "    0.5 2.0];"
   ]
  },
  {
   "cell_type": "code",
   "execution_count": 29,
   "metadata": {
    "collapsed": false
   },
   "outputs": [],
   "source": [
    "models = \"y1 = intercept + trt;\n",
    "          y2 = intercept + trt\"\n",
    "mme = build_model(models,R0);"
   ]
  },
  {
   "cell_type": "code",
   "execution_count": 30,
   "metadata": {
    "collapsed": false
   },
   "outputs": [
    {
     "name": "stdout",
     "output_type": "stream",
     "text": [
      "The delimiters in file /Users/haocheng/Github/JWAS.jl/src/5.Datasets/src/../data/testMT/genotype.txt is ,  .\n"
     ]
    }
   ],
   "source": [
    "G=[1.0 0.5\n",
    "    0.5 2.0];\n",
    "add_markers(mme,genofile,G,separator=',',header=true);"
   ]
  },
  {
   "cell_type": "code",
   "execution_count": 25,
   "metadata": {
    "collapsed": false
   },
   "outputs": [
    {
     "name": "stdout",
     "output_type": "stream",
     "text": [
      "Priors for marker effects covariance matrix were calculated from genetic covariance matrix and π.\n",
      "Marker effects covariance matrix is \n",
      "[0.876712 0.876712\n",
      " 0.876712 1.753425].\n",
      "\n",
      "\n",
      "MCMC Information:\n",
      "methods                                      BayesC\n",
      "chain_length                                   5000\n",
      "estimatePi                                    false\n",
      "constraint                                    false\n",
      "missing_phenotypes                             true\n",
      "starting_value                                false\n",
      "output_samples_frequency                          0\n",
      "printout_frequency                             5001\n",
      "\n",
      "Degree of freedom for hyper-parameters:\n",
      "residual variances:                           4.000\n",
      "iid random effect variances:                  4.000\n",
      "polygenic effect variances:                   4.000\n",
      "marker effect variances:                      4.000\n",
      "\n",
      "\n",
      "\n",
      "running MCMC for BayesC...100%|█████████████████████████| Time: 0:00:01\n"
     ]
    }
   ],
   "source": [
    "Pi=Dict([1.0; 1.0]=>0.25,[1.0; 0.0]=>0.25,[0.0; 1.0]=>0.25,[0.0; 0.0]=>0.25)\n",
    "out = runMCMC(mme,df,Pi=Pi,methods=\"BayesC\",missing_phenotypes=true,chain_length=5000);"
   ]
  },
  {
   "cell_type": "markdown",
   "metadata": {},
   "source": [
    "<button type=\"button\" class=\"btn btn-lg btn-primary\">constraint</button> "
   ]
  },
  {
   "cell_type": "code",
   "execution_count": 31,
   "metadata": {
    "collapsed": false
   },
   "outputs": [
    {
     "name": "stdout",
     "output_type": "stream",
     "text": [
      "Priors for marker effects covariance matrix were calculated from genetic covariance matrix and π.\n",
      "Marker effects covariance matrix is \n",
      "[0.876712 0.876712\n",
      " 0.876712 1.753425].\n",
      "\n",
      "\n",
      "MCMC Information:\n",
      "methods                                      BayesC\n",
      "chain_length                                   5000\n",
      "estimatePi                                    false\n",
      "constraint                                     true\n",
      "missing_phenotypes                             true\n",
      "starting_value                                false\n",
      "output_samples_frequency                          0\n",
      "printout_frequency                             1000\n",
      "\n",
      "Degree of freedom for hyper-parameters:\n",
      "residual variances:                           4.000\n",
      "iid random effect variances:                  4.000\n",
      "polygenic effect variances:                   4.000\n",
      "marker effect variances:                      4.000\n",
      "\n",
      "\n",
      "\n",
      "running MCMC for BayesC... 13%|███                      |  ETA: 0:00:01\n",
      "Posterior means at iteration: 1000\n",
      "Residual covariance matrix: \n",
      "[0.586137 0.0\n",
      " 0.0 1.769774]\n",
      "Marker effects covariance matrix: \n",
      "[0.606568 0.559873\n",
      " 0.559873 1.233148]\n",
      "\n",
      "running MCMC for BayesC... 28%|███████                  |  ETA: 0:00:01\n",
      "Posterior means at iteration: 2000\n",
      "Residual covariance matrix: \n",
      "[0.595247 0.0\n",
      " 0.0 1.658858]\n",
      "Marker effects covariance matrix: \n",
      "[0.648616 0.614856\n",
      " 0.614856 1.303798]\n",
      "\n",
      "running MCMC for BayesC... 60%|███████████████          |  ETA: 0:00:00\n",
      "Posterior means at iteration: 3000\n",
      "Residual covariance matrix: \n",
      "[0.578742 0.0\n",
      " 0.0 1.69344]\n",
      "Marker effects covariance matrix: \n",
      "[0.664524 0.617532\n",
      " 0.617532 1.322285]\n",
      "\n",
      "running MCMC for BayesC... 77%|███████████████████      |  ETA: 0:00:00\n",
      "Posterior means at iteration: 4000\n",
      "Residual covariance matrix: \n",
      "[0.596228 0.0\n",
      " 0.0 1.637419]\n",
      "Marker effects covariance matrix: \n",
      "[0.679442 0.631769\n",
      " 0.631769 1.344238]\n",
      "\n",
      "running MCMC for BayesC... 91%|███████████████████████  |  ETA: 0:00:00\n",
      "Posterior means at iteration: 5000\n",
      "Residual covariance matrix: \n",
      "[0.599609 0.0\n",
      " 0.0 1.612775]\n",
      "Marker effects covariance matrix: \n",
      "[0.674906 0.632242\n",
      " 0.632242 1.356611]\n",
      "\n",
      "running MCMC for BayesC...100%|█████████████████████████| Time: 0:00:01\n"
     ]
    }
   ],
   "source": [
    "Pi=Dict([1.0; 1.0]=>0.25,[1.0; 0.0]=>0.25,[0.0; 1.0]=>0.25,[0.0; 0.0]=>0.25)\n",
    "out = runMCMC(mme,df,Pi=Pi,methods=\"BayesC\",constraint=true,missing_phenotypes=true,chain_length=5000,printout_frequency=1000);"
   ]
  },
  {
   "cell_type": "code",
   "execution_count": null,
   "metadata": {
    "collapsed": true
   },
   "outputs": [],
   "source": []
  }
 ],
 "metadata": {
  "kernelspec": {
   "display_name": "Julia 0.4.6",
   "language": "julia",
   "name": "julia-0.4"
  },
  "language_info": {
   "file_extension": ".jl",
   "mimetype": "application/julia",
   "name": "julia",
   "version": "0.4.6"
  }
 },
 "nbformat": 4,
 "nbformat_minor": 0
}
