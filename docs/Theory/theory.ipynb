{
 "cells": [
  {
   "cell_type": "markdown",
   "metadata": {},
   "source": [
    "# Univariate analyses"
   ]
  },
  {
   "cell_type": "markdown",
   "metadata": {},
   "source": [
    "### Models\n",
    "\n",
    "The starting point for these methods is a mixed linear model of the form:\n",
    "\n",
    "\n",
    "  $$\\boldsymbol{y=X\\beta+Z\\alpha+e}$$\n",
    "\n",
    "where  $y$ is an $n\\times 1$ vector of trait phenotypic values, $\\boldsymbol{X}$ is an $n\\times p$ incidence matrix relating the vector $\\boldsymbol{\\beta}$ of non-genetic fixed or random effects to $\\boldsymbol{y}$,  $\\boldsymbol{Z}$\n",
    "is an $n\\times k$ matrix of genotype covariates (coded as 0, 1 or 2)\n",
    "for $k$ SNP markers, $\\boldsymbol{\\alpha}$ is a $k\\times 1$ vector of random\n",
    "partial regression coefficients of the $k$ SNPs (which are more\n",
    "commonly referred to as the marker effects), and $\\boldsymbol{e}$ is a\n",
    "vector of residuals. \n",
    "\n",
    "To proceed with Bayesian regression, prior distributions must be\n",
    "specified for $\\beta$, $\\alpha$ and $e$. In all the models\n",
    "considered here a flat prior is used for\n",
    "$\\boldsymbol{\\beta}$, and conditional on the residual variance, $\\sigma^2_e$, a\n",
    "normal distribution with null mean and covariance matrix\n",
    "$\\sigma^2_e$ is used for the vector of residuals, where $R$\n",
    "is a diagonal matrix. Further, $\\sigma^2_e$ is treated as an unknown\n",
    "with a scaled inverse chi-square prior. The alternative methods differ \n",
    "only in the prior used for $\\alpha$."
   ]
  },
  {
   "cell_type": "markdown",
   "metadata": {},
   "source": [
    "### BayesA\n",
    "\n",
    "The prior assumption is that marker effects have identical\n",
    "and independent univariate-t distributions each with a null mean,\n",
    "scale parameter $S^2_{\\alpha}$ and $\\nu$ degrees of freedom.\n",
    "This is equivalent to assuming that the marker effect at locus $i$ has a univariate normal\n",
    "with null mean and unknown, locus-specific variance $\\sigma^2_i$,\n",
    "which in turn is assigned a scaled inverse chi-square prior with scale\n",
    "parameter $S^2_{\\alpha}$ and $\\nu_{\\alpha}$ degrees of freedom. "
   ]
  },
  {
   "cell_type": "markdown",
   "metadata": {},
   "source": [
    "### BayesB\n",
    "\n",
    "In BayesB, the prior assumption is that marker effects have identical\n",
    "and independent mixture distributions, where each has a point mass at\n",
    "zero with probability $\\pi$ and a univariate-t distribution with\n",
    "probability $1-\\pi$ having a null mean, scale parameter $S^2_{\\alpha}$\n",
    "and $\\nu$ degrees of freedom. Thus, BayesA is a special case of BayesB\n",
    "with $\\pi=0$. Further, as in BayesA, the t-distribution in BayesB is\n",
    "equivalent to a univariate normal with null mean and unknown,\n",
    "locus-specific variance, which in turn is assigned a scaled inverse chi-square\n",
    "prior with scale parameter $S^2_{\\alpha}$ and $\\nu_{\\alpha}$ degrees\n",
    "of freedom. \n",
    "\n",
    "**A fast and efficient Gibbs sampler was implemented for BayesB in JWAS.**"
   ]
  },
  {
   "cell_type": "markdown",
   "metadata": {},
   "source": [
    "### BayesC and BayesC$\\pi$\n",
    "\n",
    "In BayesC, the prior assumption is that marker effects have identical\n",
    "and independent mixture distributions, where each has a point mass at\n",
    "zero with probability $\\pi$ and a univariate-normal distribution with\n",
    "probability $1-\\pi$ having a null mean and variance\n",
    "$\\sigma^2_{\\alpha}$, which in turn has a scaled inverse chi-square\n",
    "prior with scale parameter $S^2_{\\alpha}$ and $\\nu_{\\alpha}$ degrees\n",
    "of freedom.  \n",
    "\n",
    "In addition to the above assumptions, in BayesC $\\pi$, $\\pi$ is treated\n",
    "as unknown with a uniform prior. "
   ]
  },
  {
   "cell_type": "markdown",
   "metadata": {},
   "source": [
    "> #### reference\n",
    "> * Fernando RL, Garrick D. Bayesian methods applied to GWAS. Methods Mol Biol. 2013;1019:237–274. doi: 10.1007/978-1-62703-447-0_10\n",
    "> * Cheng H, Garrick D, Fernando R. A fast and efficient Gibbs sampler for BayesB in whole- genome analyses. Genet Sel Evol, 2015, 47:80."
   ]
  },
  {
   "cell_type": "markdown",
   "metadata": {},
   "source": [
    "# Multivariate analyses"
   ]
  },
  {
   "cell_type": "markdown",
   "metadata": {},
   "source": [
    "For simplicity and without loss of generality, we will assume a general mean as the only fixed effect, and write the multi-trait model for individual i from among n genotyped individuals as \n",
    "\n",
    "$$\\boldsymbol{y}_{i}\t=\\boldsymbol{\\mu}+\\sum_{j=1}^{p}m_{ij}\\boldsymbol{\\alpha}_{j}+\\boldsymbol{e}_{i},$$"
   ]
  },
  {
   "cell_type": "markdown",
   "metadata": {},
   "source": [
    "where $\\boldsymbol{y}_{i}$ is a vector of phenotypes of t traits for individual i, $\\boldsymbol{\\mu}$ is a vector of overall means for t traits, $m_{ij}$ is the genotype covariate at locus j for individual i, p is the number of genotyped loci, $\\boldsymbol{\\alpha}_{j}$ is a vector of allele substitution effects of t traits for locus j, and $\\boldsymbol{e}_{i}$ is the random residual effects of t traits for individual i. The fixed effects, or general mean in this case, are assigned a flat prior. The vector $\\boldsymbol{e}_{i}$ of residuals are a priori assumed to be independently and identically following multivariate normal distributions with null mean and covariance matrix $\\boldsymbol{R}$, and having an inverse Wishart prior distribution, $W_{t}^{-1}\\left(S_{e},\\nu_{e}\\right)$. "
   ]
  },
  {
   "cell_type": "markdown",
   "metadata": {},
   "source": [
    "The prior for $\\boldsymbol{\\alpha}_{jk}$, the allele substitution or marker effect of trait k for locus j, is a mixture with a point mass at zero and a univariate normal distribution conditional on $\\sigma_{k}^{2}$: \n",
    "\n",
    "$$\n",
    "\\alpha_{jk}\\mid\\pi_{k},\\sigma_{k}^{2}\t\\begin{cases}\n",
    "\\sim N\\left(0,\\,\\sigma_{k}^{2}\\right) & probability\\;(1-\\pi_{k})\\\\\n",
    "0 & probability\\;\\pi_{k}\n",
    "\\end{cases}\n",
    "$$ \n",
    "\n",
    "and the covariance $\\sigma_{kk^{'}}$ between effects for different traits at the same locus, i.e. $\\alpha_{jk}$ and $\\alpha_{jk^{'}}$ is\n",
    "\n",
    "$$\n",
    "cov\\left(\\alpha_{jk},\\alpha_{jk^{'}}\\mid\\sigma_{kk^{'}}\\right)=\\begin{cases}\n",
    "\\sigma_{kk^{'}} & \\:if\\:both\\,\\alpha_{jk}\\neq0\\:and\\:\\alpha_{jk^{'}}\\neq0\\\\\n",
    "0 & \\:otherwise\n",
    "\\end{cases}.\t\n",
    "$$"
   ]
  },
  {
   "cell_type": "markdown",
   "metadata": {},
   "source": [
    "The covariance matrix $\\boldsymbol{G}=\\begin{bmatrix}\\sigma_{1}^{2} & \\cdots & \\sigma_{1t}\\\\\n",
    "\\vdots & \\ddots & \\vdots\\\\\n",
    "\\sigma_{1t} & \\cdots & \\sigma_{t}^{2}\n",
    "\\end{bmatrix}$ is a priori assumed to follow an inverse Wishart distribution, $W_{t}^{-1}\\left(S_{\\beta},\\nu_{\\beta}\\right).$ "
   ]
  },
  {
   "cell_type": "markdown",
   "metadata": {},
   "source": [
    "> #### reference\n",
    "> Cheng H, Zeng J, Garrick D, Fernando R. Multiple-trait Bayesian Regression Methods with Mixture Priors for Genomic Prediction and Genome-wide Association Studies."
   ]
  }
 ],
 "metadata": {
  "anaconda-cloud": {},
  "kernelspec": {
   "display_name": "Julia 0.5.0",
   "language": "julia",
   "name": "julia-0.5"
  },
  "language_info": {
   "file_extension": ".jl",
   "mimetype": "application/julia",
   "name": "julia",
   "version": "0.5.0"
  }
 },
 "nbformat": 4,
 "nbformat_minor": 0
}
