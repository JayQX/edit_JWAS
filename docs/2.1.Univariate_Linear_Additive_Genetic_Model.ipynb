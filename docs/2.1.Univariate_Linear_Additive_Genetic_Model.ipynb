{
 "cells": [
  {
   "cell_type": "markdown",
   "metadata": {},
   "source": [
    "<ul class=\"breadcrumb\">\n",
    "  <li><a href=\"1.1.Univaraite_Linear_Mixed_Effects_Model.ipynb\">Univariate Basics</a></li>\n",
    "  <li><a href=\"2.1.Univariate_Linear_Additive_Genetic_Model.ipynb\">Univariate Additive Genetic Model</a></li> \n",
    "  <li><a href=\"3.1.Univariate_Linear_Mixed_Effects_Model_with_Genomic_Data.ipynb\">Univariate Genomic Data</a></li>\n",
    "</ul>"
   ]
  },
  {
   "cell_type": "markdown",
   "metadata": {},
   "source": [
    "<div class=\"span5 alert alert-success\">\n",
    " <font size=\"5\" face=\"Georgia\">Univariate Linear Additive Genetic Model</font><br> \n",
    "  <font size=\"5\" face=\"Georgia\">(with Maternal Effects)</font> \n",
    "\n",
    "</div>"
   ]
  },
  {
   "cell_type": "code",
   "execution_count": 1,
   "metadata": {
    "collapsed": false
   },
   "outputs": [],
   "source": [
    "using DataFrames,JWAS,JWAS.Datasets"
   ]
  },
  {
   "cell_type": "markdown",
   "metadata": {},
   "source": [
    "<div class=\"span5 alert alert-info\">\n",
    " <font size=\"5\" face=\"Georgia\">I. Univariate Linear Additive Genetic Model</font><br> \n",
    "</div>"
   ]
  },
  {
   "cell_type": "markdown",
   "metadata": {},
   "source": [
    "<button type=\"button\" class=\"btn btn-lg btn-primary\">Data</button> "
   ]
  },
  {
   "cell_type": "code",
   "execution_count": 2,
   "metadata": {
    "collapsed": false
   },
   "outputs": [],
   "source": [
    "pedfile   = Datasets.dataset(\"testMME\",\"pedigree.txt\")\n",
    "phenofile = Datasets.dataset(\"testMME\",\"simple.txt\");"
   ]
  },
  {
   "cell_type": "code",
   "execution_count": 3,
   "metadata": {
    "collapsed": false
   },
   "outputs": [
    {
     "name": "stdout",
     "output_type": "stream",
     "text": [
      "S1 0 0\n",
      "D1 0 0\n",
      "O1 S1 D1\n",
      "O2 S1 D1\n",
      "O3 S1 D1\n"
     ]
    }
   ],
   "source": [
    ";cat $pedfile"
   ]
  },
  {
   "cell_type": "code",
   "execution_count": 4,
   "metadata": {
    "collapsed": false
   },
   "outputs": [
    {
     "data": {
      "text/html": [
       "<table class=\"data-frame\"><tr><th></th><th>Animal</th><th>Age</th><th>y</th></tr><tr><th>1</th><td>S1</td><td>1</td><td>-0.92</td></tr><tr><th>2</th><td>D1</td><td>2</td><td>-1.05</td></tr><tr><th>3</th><td>O1</td><td>3</td><td>-0.92</td></tr><tr><th>4</th><td>O3</td><td>2</td><td>1.2</td></tr></table>"
      ],
      "text/plain": [
       "4×3 DataFrames.DataFrame\n",
       "│ Row │ Animal │ Age │ y     │\n",
       "├─────┼────────┼─────┼───────┤\n",
       "│ 1   │ \"S1\"   │ 1   │ -0.92 │\n",
       "│ 2   │ \"D1\"   │ 2   │ -1.05 │\n",
       "│ 3   │ \"O1\"   │ 3   │ -0.92 │\n",
       "│ 4   │ \"O3\"   │ 2   │ 1.2   │"
      ]
     },
     "execution_count": 4,
     "metadata": {},
     "output_type": "execute_result"
    }
   ],
   "source": [
    "d1 = readtable(phenofile)"
   ]
  },
  {
   "cell_type": "markdown",
   "metadata": {},
   "source": [
    "<button type=\"button\" class=\"btn btn-lg btn-primary\">Build Model</button> "
   ]
  },
  {
   "cell_type": "code",
   "execution_count": 5,
   "metadata": {
    "collapsed": false
   },
   "outputs": [
    {
     "name": "stdout",
     "output_type": "stream",
     "text": [
      "Finished!\n"
     ]
    }
   ],
   "source": [
    "ped = get_pedigree(pedfile);"
   ]
  },
  {
   "cell_type": "code",
   "execution_count": 6,
   "metadata": {
    "collapsed": false
   },
   "outputs": [],
   "source": [
    "varRes=1.0\n",
    "model1 = build_model(\"y = intercept + Age + Animal\",varRes)\n",
    "set_covariate(model1,\"Age\")\n",
    "G=2.5\n",
    "set_random(model1,\"Animal\",ped,G)"
   ]
  },
  {
   "cell_type": "markdown",
   "metadata": {},
   "source": [
    "<button type=\"button\" class=\"btn btn-lg btn-primary\">Run Model</button> "
   ]
  },
  {
   "cell_type": "code",
   "execution_count": 7,
   "metadata": {
    "collapsed": false
   },
   "outputs": [
    {
     "name": "stdout",
     "output_type": "stream",
     "text": [
      "40 3.3923200477199566e-5\n"
     ]
    },
    {
     "data": {
      "text/plain": [
       "7x2 Array{Any,2}:\n",
       " \"1:intercept : intercept\"  -1.00435   \n",
       " \"1:Age : Age\"               0.204266  \n",
       " \"1:Animal : S1\"             0.116387  \n",
       " \"1:Animal : D1\"            -0.122438  \n",
       " \"1:Animal : O1\"            -0.294925  \n",
       " \"1:Animal : O3\"             0.996334  \n",
       " \"1:Animal : O2\"            -0.00302537"
      ]
     },
     "execution_count": 7,
     "metadata": {},
     "output_type": "execute_result"
    }
   ],
   "source": [
    "out = solve(model1,d1,solver=\"GaussSeidel\",printout_frequency=40)"
   ]
  },
  {
   "cell_type": "markdown",
   "metadata": {},
   "source": [
    "<button type=\"button\" class=\"btn btn-lg btn-primary\">Check Results</button> "
   ]
  },
  {
   "cell_type": "markdown",
   "metadata": {},
   "source": [
    "<div class=\"span5 alert alert-info\">\n",
    " <font size=\"5\" face=\"Georgia\">II. Univariate Linear Additive Genetic Model with Repeated Measures</font><br> \n",
    "</div>"
   ]
  },
  {
   "cell_type": "markdown",
   "metadata": {},
   "source": [
    "<button type=\"button\" class=\"btn btn-lg btn-primary\">Data</button> "
   ]
  },
  {
   "cell_type": "code",
   "execution_count": 8,
   "metadata": {
    "collapsed": false
   },
   "outputs": [
    {
     "data": {
      "text/html": [
       "<table class=\"data-frame\"><tr><th></th><th>Animal</th><th>Age</th><th>y</th></tr><tr><th>1</th><td>S1</td><td>1</td><td>-0.92</td></tr><tr><th>2</th><td>S1</td><td>2</td><td>-1.35</td></tr><tr><th>3</th><td>S1</td><td>3</td><td>-0.33</td></tr><tr><th>4</th><td>D1</td><td>1</td><td>-0.3</td></tr><tr><th>5</th><td>D1</td><td>2</td><td>-1.05</td></tr><tr><th>6</th><td>D1</td><td>3</td><td>0.56</td></tr><tr><th>7</th><td>O1</td><td>1</td><td>-0.09</td></tr><tr><th>8</th><td>O1</td><td>2</td><td>0.44</td></tr><tr><th>9</th><td>O1</td><td>3</td><td>-0.92</td></tr><tr><th>10</th><td>O3</td><td>1</td><td>-0.2</td></tr><tr><th>11</th><td>O3</td><td>2</td><td>1.2</td></tr><tr><th>12</th><td>O3</td><td>3</td><td>0.25</td></tr></table>"
      ],
      "text/plain": [
       "12×3 DataFrames.DataFrame\n",
       "│ Row │ Animal │ Age │ y     │\n",
       "├─────┼────────┼─────┼───────┤\n",
       "│ 1   │ \"S1\"   │ 1   │ -0.92 │\n",
       "│ 2   │ \"S1\"   │ 2   │ -1.35 │\n",
       "│ 3   │ \"S1\"   │ 3   │ -0.33 │\n",
       "│ 4   │ \"D1\"   │ 1   │ -0.3  │\n",
       "│ 5   │ \"D1\"   │ 2   │ -1.05 │\n",
       "│ 6   │ \"D1\"   │ 3   │ 0.56  │\n",
       "│ 7   │ \"O1\"   │ 1   │ -0.09 │\n",
       "│ 8   │ \"O1\"   │ 2   │ 0.44  │\n",
       "│ 9   │ \"O1\"   │ 3   │ -0.92 │\n",
       "│ 10  │ \"O3\"   │ 1   │ -0.2  │\n",
       "│ 11  │ \"O3\"   │ 2   │ 1.2   │\n",
       "│ 12  │ \"O3\"   │ 3   │ 0.25  │"
      ]
     },
     "execution_count": 8,
     "metadata": {},
     "output_type": "execute_result"
    }
   ],
   "source": [
    "phenofile = Datasets.dataset(\"testMME\",\"repeated_measures.txt\")\n",
    "d2 = readtable(phenofile)"
   ]
  },
  {
   "cell_type": "markdown",
   "metadata": {},
   "source": [
    "<button type=\"button\" class=\"btn btn-lg btn-primary\">Build Model</button> "
   ]
  },
  {
   "cell_type": "code",
   "execution_count": 9,
   "metadata": {
    "collapsed": false
   },
   "outputs": [],
   "source": [
    "varRes=1.0\n",
    "model2 = build_model(\"y = intercept + Age + Animal + Animal*Age\",varRes)\n",
    "set_covariate(model2,\"Age\")\n",
    "G = [1 0.1; 0.1 1.0]\n",
    "set_random(model2,\"Animal Animal*Age\",ped,G)"
   ]
  },
  {
   "cell_type": "markdown",
   "metadata": {},
   "source": [
    "<button type=\"button\" class=\"btn btn-lg btn-primary\">Run Model</button> "
   ]
  },
  {
   "cell_type": "code",
   "execution_count": 10,
   "metadata": {
    "collapsed": false
   },
   "outputs": [
    {
     "name": "stdout",
     "output_type": "stream",
     "text": [
      "40 0.004079837352814904\n",
      "80 0.0008468686195409121\n",
      "120 0.00026899969970286267\n",
      "160 9.606419899377913e-5\n",
      "200 3.649498312582733e-5\n",
      "240 1.4825947812909268e-5\n",
      "280 6.569648963398997e-6\n",
      "320 3.2261059576412398e-6\n",
      "360 1.7555444111655143e-6\n",
      "400 1.0411088953585247e-6\n"
     ]
    },
    {
     "data": {
      "text/plain": [
       "12x2 Array{Any,2}:\n",
       " \"1:intercept : intercept\"  -0.590464   \n",
       " \"1:Age : Age\"               0.0738261  \n",
       " \"1:Animal : S1\"            -0.0839778  \n",
       " \"1:Animal : D1\"             0.0822513  \n",
       " \"1:Animal : O1\"             0.191167   \n",
       " \"1:Animal : O3\"             0.204641   \n",
       " \"1:Animal : O2\"            -0.000908243\n",
       " \"1:Animal*Age : S1\"        -0.0943315  \n",
       " \"1:Animal*Age : D1\"         0.099499   \n",
       " \"1:Animal*Age : O1\"        -0.0351528  \n",
       " \"1:Animal*Age : O3\"         0.267083   \n",
       " \"1:Animal*Age : O2\"         0.00261206 "
      ]
     },
     "execution_count": 10,
     "metadata": {},
     "output_type": "execute_result"
    }
   ],
   "source": [
    "out = solve(model2,d2,solver=\"Jacobi\",printout_frequency=40)"
   ]
  },
  {
   "cell_type": "code",
   "execution_count": 11,
   "metadata": {
    "collapsed": false
   },
   "outputs": [
    {
     "name": "stdout",
     "output_type": "stream",
     "text": [
      "MCMC Information:\n",
      "methods                        conventional (no markers)\n",
      "chain_length                                   1000\n",
      "estimatePi                                    false\n",
      "constraint                                    false\n",
      "missing_phenotypes                            false\n",
      "starting_value                                false\n",
      "output_samples_frequency                          0\n",
      "printout_frequency                             1001\n",
      "update_priors_frequency                           0\n",
      "\n",
      "Degree of freedom for hyper-parameters:\n",
      "residual variances:                           4.000\n",
      "iid random effect variances:                  4.000\n",
      "polygenic effect variances:                   4.000\n",
      "marker effect variances:                      4.000\n",
      "\n",
      "\n",
      "\n",
      "running MCMC for conventional (no markers)...100%|██████| Time: 0:00:00\n"
     ]
    }
   ],
   "source": [
    "out = runMCMC(model2,d2,chain_length=1000);"
   ]
  },
  {
   "cell_type": "markdown",
   "metadata": {},
   "source": [
    "<button type=\"button\" class=\"btn btn-lg btn-primary\">Check Results</button> "
   ]
  },
  {
   "cell_type": "markdown",
   "metadata": {},
   "source": [
    "<div class=\"span5 alert alert-info\">\n",
    " <font size=\"5\" face=\"Georgia\">III. The Univariate Linear Additive Genetic Model with Maternal Effects</font> \n",
    "</div>"
   ]
  },
  {
   "cell_type": "markdown",
   "metadata": {},
   "source": [
    "<button type=\"button\" class=\"btn btn-lg btn-primary\">Data</button> "
   ]
  },
  {
   "cell_type": "code",
   "execution_count": 12,
   "metadata": {
    "collapsed": false
   },
   "outputs": [
    {
     "data": {
      "text/html": [
       "<table class=\"data-frame\"><tr><th></th><th>Animal</th><th>Age</th><th>y</th><th>Dam</th></tr><tr><th>1</th><td>S1</td><td>1</td><td>-0.92</td><td>0</td></tr><tr><th>2</th><td>S1</td><td>2</td><td>-1.35</td><td>0</td></tr><tr><th>3</th><td>S1</td><td>3</td><td>-0.33</td><td>0</td></tr><tr><th>4</th><td>D1</td><td>1</td><td>-0.3</td><td>0</td></tr><tr><th>5</th><td>D1</td><td>2</td><td>-1.05</td><td>0</td></tr><tr><th>6</th><td>D1</td><td>3</td><td>0.56</td><td>0</td></tr><tr><th>7</th><td>O1</td><td>1</td><td>-0.09</td><td>D1</td></tr><tr><th>8</th><td>O1</td><td>2</td><td>0.44</td><td>D1</td></tr><tr><th>9</th><td>O1</td><td>3</td><td>-0.92</td><td>D1</td></tr><tr><th>10</th><td>O3</td><td>1</td><td>-0.2</td><td>D1</td></tr><tr><th>11</th><td>O3</td><td>2</td><td>1.2</td><td>D1</td></tr><tr><th>12</th><td>O3</td><td>3</td><td>0.25</td><td>D1</td></tr></table>"
      ],
      "text/plain": [
       "12×4 DataFrames.DataFrame\n",
       "│ Row │ Animal │ Age │ y     │ Dam  │\n",
       "├─────┼────────┼─────┼───────┼──────┤\n",
       "│ 1   │ \"S1\"   │ 1   │ -0.92 │ \"0\"  │\n",
       "│ 2   │ \"S1\"   │ 2   │ -1.35 │ \"0\"  │\n",
       "│ 3   │ \"S1\"   │ 3   │ -0.33 │ \"0\"  │\n",
       "│ 4   │ \"D1\"   │ 1   │ -0.3  │ \"0\"  │\n",
       "│ 5   │ \"D1\"   │ 2   │ -1.05 │ \"0\"  │\n",
       "│ 6   │ \"D1\"   │ 3   │ 0.56  │ \"0\"  │\n",
       "│ 7   │ \"O1\"   │ 1   │ -0.09 │ \"D1\" │\n",
       "│ 8   │ \"O1\"   │ 2   │ 0.44  │ \"D1\" │\n",
       "│ 9   │ \"O1\"   │ 3   │ -0.92 │ \"D1\" │\n",
       "│ 10  │ \"O3\"   │ 1   │ -0.2  │ \"D1\" │\n",
       "│ 11  │ \"O3\"   │ 2   │ 1.2   │ \"D1\" │\n",
       "│ 12  │ \"O3\"   │ 3   │ 0.25  │ \"D1\" │"
      ]
     },
     "execution_count": 12,
     "metadata": {},
     "output_type": "execute_result"
    }
   ],
   "source": [
    "phenofile = Datasets.dataset(\"testMME\",\"maternal_effects.txt\")\n",
    "d3 = readtable(phenofile)"
   ]
  },
  {
   "cell_type": "code",
   "execution_count": 13,
   "metadata": {
    "collapsed": false
   },
   "outputs": [
    {
     "name": "stdout",
     "output_type": "stream",
     "text": [
      "S1 0 0\n",
      "D1 0 0\n",
      "O1 S1 D1\n",
      "O2 S1 D1\n",
      "O3 S1 D1\n"
     ]
    }
   ],
   "source": [
    ";cat $pedfile"
   ]
  },
  {
   "cell_type": "markdown",
   "metadata": {},
   "source": [
    "<button type=\"button\" class=\"btn btn-lg btn-primary\">Build Model</button> "
   ]
  },
  {
   "cell_type": "code",
   "execution_count": 14,
   "metadata": {
    "collapsed": false
   },
   "outputs": [],
   "source": [
    "varRes = 1.0\n",
    "model3 = build_model(\"y = intercept + Animal + Dam\",varRes);"
   ]
  },
  {
   "cell_type": "code",
   "execution_count": 15,
   "metadata": {
    "collapsed": false
   },
   "outputs": [],
   "source": [
    "G = [1 0.1; 0.1 1.0]\n",
    "set_random(model3,\"Animal Dam\",ped,G)"
   ]
  },
  {
   "cell_type": "markdown",
   "metadata": {},
   "source": [
    "<button type=\"button\" class=\"btn btn-lg btn-primary\">Run Model</button> "
   ]
  },
  {
   "cell_type": "code",
   "execution_count": 16,
   "metadata": {
    "collapsed": false
   },
   "outputs": [
    {
     "name": "stdout",
     "output_type": "stream",
     "text": [
      "at sample: 1000\n",
      "at sample: 2000\n",
      "at sample: 3000\n",
      "at sample: 4000\n",
      "at sample: 5000\n"
     ]
    },
    {
     "data": {
      "text/plain": [
       "11x2 Array{Any,2}:\n",
       " \"1:intercept : intercept\"  -0.454248 \n",
       " \"1:Animal : S1\"            -0.282447 \n",
       " \"1:Animal : D1\"             0.184282 \n",
       " \"1:Animal : O1\"            -0.145197 \n",
       " \"1:Animal : O3\"             0.209786 \n",
       " \"1:Animal : O2\"            -0.0531358\n",
       " \"1:Dam : S1\"               -0.0683874\n",
       " \"1:Dam : D1\"                0.474598 \n",
       " \"1:Dam : O1\"                0.187702 \n",
       " \"1:Dam : O3\"                0.221185 \n",
       " \"1:Dam : O2\"                0.214125 "
      ]
     },
     "execution_count": 16,
     "metadata": {},
     "output_type": "execute_result"
    }
   ],
   "source": [
    "out = solve(model3,d3,solver=\"Gibbs\",printout_frequency=1000)"
   ]
  },
  {
   "cell_type": "code",
   "execution_count": 17,
   "metadata": {
    "collapsed": false
   },
   "outputs": [
    {
     "name": "stdout",
     "output_type": "stream",
     "text": [
      "MCMC Information:\n",
      "methods                        conventional (no markers)\n",
      "chain_length                                   1000\n",
      "estimatePi                                    false\n",
      "constraint                                    false\n",
      "missing_phenotypes                            false\n",
      "starting_value                                false\n",
      "output_samples_frequency                         10\n",
      "printout_frequency                             1001\n",
      "update_priors_frequency                           0\n",
      "\n",
      "Degree of freedom for hyper-parameters:\n",
      "residual variances:                           4.000\n",
      "iid random effect variances:                  4.000\n",
      "polygenic effect variances:                   4.000\n",
      "marker effect variances:                      4.000\n",
      "\n",
      "\n",
      "\n",
      "running MCMC for conventional (no markers)...100%|██████| Time: 0:00:00\n"
     ]
    }
   ],
   "source": [
    "outputMCMCsamples(model3,\"Animal\");\n",
    "out = runMCMC(model3,d3,chain_length=1000,output_samples_frequency=10);"
   ]
  },
  {
   "cell_type": "markdown",
   "metadata": {},
   "source": [
    "<button type=\"button\" class=\"btn btn-lg btn-primary\">Check Results</button> "
   ]
  },
  {
   "cell_type": "code",
   "execution_count": 18,
   "metadata": {
    "collapsed": false
   },
   "outputs": [
    {
     "data": {
      "text/plain": [
       "Base.KeyIterator for a Dict{Any,Any} with 4 entries. Keys:\n",
       "  \"MCMC samples for residual variance\"\n",
       "  \"MCMC samples for polygenic effects var-cov parameters\"\n",
       "  \"MCMC samples for: 1:Animal\"\n",
       "  \"Posterior mean of location parameters\""
      ]
     },
     "execution_count": 18,
     "metadata": {},
     "output_type": "execute_result"
    }
   ],
   "source": [
    "keys(out)"
   ]
  },
  {
   "cell_type": "code",
   "execution_count": 19,
   "metadata": {
    "collapsed": false
   },
   "outputs": [
    {
     "data": {
      "text/plain": [
       "11x2 Array{Any,2}:\n",
       " \"1:intercept : intercept\"  -0.422088  \n",
       " \"1:Animal : S1\"            -0.188057  \n",
       " \"1:Animal : D1\"             0.165045  \n",
       " \"1:Animal : O1\"            -0.0348238 \n",
       " \"1:Animal : O3\"             0.207546  \n",
       " \"1:Animal : O2\"            -0.0212569 \n",
       " \"1:Dam : S1\"                0.00715565\n",
       " \"1:Dam : D1\"                0.331039  \n",
       " \"1:Dam : O1\"                0.186682  \n",
       " \"1:Dam : O3\"                0.194227  \n",
       " \"1:Dam : O2\"                0.163045  "
      ]
     },
     "execution_count": 19,
     "metadata": {},
     "output_type": "execute_result"
    }
   ],
   "source": [
    "out[\"Posterior mean of location parameters\"]"
   ]
  },
  {
   "cell_type": "code",
   "execution_count": 20,
   "metadata": {
    "collapsed": false
   },
   "outputs": [
    {
     "data": {
      "text/plain": [
       "5x101 Array{Any,2}:\n",
       " \"1:Animal : S1\"  -0.411003   0.44366   …  -0.189172   -0.573982  -0.472356\n",
       " \"1:Animal : D1\"  -0.329615  -0.443609      0.396339   -0.626157   0.13115 \n",
       " \"1:Animal : O1\"  -0.552599  -0.313881      0.0682567  -0.562362  -0.257826\n",
       " \"1:Animal : O3\"  -0.363756   0.52053       0.534197   -0.662004   0.342766\n",
       " \"1:Animal : O2\"  -0.413678  -0.366833     -0.280669   -0.665699  -0.345913"
      ]
     },
     "execution_count": 20,
     "metadata": {},
     "output_type": "execute_result"
    }
   ],
   "source": [
    "out[\"MCMC samples for: 1:Animal\"]"
   ]
  }
 ],
 "metadata": {
  "kernelspec": {
   "display_name": "Julia 0.4.6",
   "language": "julia",
   "name": "julia-0.4"
  },
  "language_info": {
   "file_extension": ".jl",
   "mimetype": "application/julia",
   "name": "julia",
   "version": "0.4.6"
  }
 },
 "nbformat": 4,
 "nbformat_minor": 0
}
