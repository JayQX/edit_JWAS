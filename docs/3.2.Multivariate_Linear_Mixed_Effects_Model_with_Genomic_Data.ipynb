{
 "cells": [
  {
   "cell_type": "markdown",
   "metadata": {},
   "source": [
    "<ul class=\"breadcrumb\">\n",
    "  <li><a href=\"1.2.Multivariate_Linear_Mixed_Effects_Model.ipynb\">Multivariate Basics</a></li>\n",
    "  <li><a href=\"2.2.Multivariate_Linear_Additive_Genetic_Model.ipynb\">Multivariate Additive Genetic Model</a></li> \n",
    "  <li><a href=\"3.2.Multivariate_Linear_Mixed_Effects_Model_with_Genomic_Data.ipynb\">Multivariate Genomic Data</a></li>\n",
    "</ul>"
   ]
  },
  {
   "cell_type": "markdown",
   "metadata": {},
   "source": [
    "<div class=\"span5 alert alert-success\">\n",
    " <font size=\"5\" face=\"Georgia\">Multivariate Linear Mixed Effects Model with Genomic Data</font> \n",
    "</div>"
   ]
  },
  {
   "cell_type": "code",
   "execution_count": 2,
   "metadata": {},
   "outputs": [],
   "source": [
    "using DataFrames,CSV,JWAS\n",
    "using JWAS: Datasets,misc"
   ]
  },
  {
   "cell_type": "code",
   "execution_count": 3,
   "metadata": {},
   "outputs": [
    {
     "name": "stdout",
     "output_type": "stream",
     "text": [
      "search: \u001b[1mr\u001b[22m\u001b[1mu\u001b[22m\u001b[1mn\u001b[22m\u001b[1mM\u001b[22m\u001b[1mC\u001b[22m\u001b[1mM\u001b[22m\u001b[1mC\u001b[22m\n",
      "\n"
     ]
    },
    {
     "data": {
      "text/markdown": [
       "```\n",
       "runMCMC(mme,df;Pi=0.0,estimatePi=false,chain_length=1000,starting_value=false,printout_frequency=100,missing_phenotypes=false,constraint=false,methods=\"conventional (no markers)\",output_samples_frequency::Int64 = 0)\n",
       "```\n",
       "\n",
       "Run MCMC (marker information included or not) with sampling of variance components.\n",
       "\n",
       "  * available **methods** include \"conventional (no markers)\", \"BayesC0\", \"BayesC\", \"BayesCC\",\"BayesB\".\n",
       "  * **missing_phenotypes**\n",
       "  * **Pi** for single-trait analyses is a number; **Pi** for multi-trait analyses is a dictionary such as `Pi=Dict([1.0; 1.0]=>0.7,[1.0; 0.0]=>0.1,[0.0; 1.0]=>0.1,[0.0; 0.0]=>0.1)`,\n",
       "\n",
       "      * if Pi (Π) is not provided in multi-trait analysis, it will be generated assuming all markers have effects on all traits.\n",
       "  * save MCMC samples every **output_samples_frequency** iterations\n",
       "  * **starting_value** can be provided as a vector for all location parameteres except marker effects.\n",
       "  * print out the monte carlo mean in REPL with **printout_frequency**\n",
       "  * **constraint**=true if constrain residual covariances between traits to be zero.\n"
      ],
      "text/plain": [
       "```\n",
       "runMCMC(mme,df;Pi=0.0,estimatePi=false,chain_length=1000,starting_value=false,printout_frequency=100,missing_phenotypes=false,constraint=false,methods=\"conventional (no markers)\",output_samples_frequency::Int64 = 0)\n",
       "```\n",
       "\n",
       "Run MCMC (marker information included or not) with sampling of variance components.\n",
       "\n",
       "  * available **methods** include \"conventional (no markers)\", \"BayesC0\", \"BayesC\", \"BayesCC\",\"BayesB\".\n",
       "  * **missing_phenotypes**\n",
       "  * **Pi** for single-trait analyses is a number; **Pi** for multi-trait analyses is a dictionary such as `Pi=Dict([1.0; 1.0]=>0.7,[1.0; 0.0]=>0.1,[0.0; 1.0]=>0.1,[0.0; 0.0]=>0.1)`,\n",
       "\n",
       "      * if Pi (Π) is not provided in multi-trait analysis, it will be generated assuming all markers have effects on all traits.\n",
       "  * save MCMC samples every **output_samples_frequency** iterations\n",
       "  * **starting_value** can be provided as a vector for all location parameteres except marker effects.\n",
       "  * print out the monte carlo mean in REPL with **printout_frequency**\n",
       "  * **constraint**=true if constrain residual covariances between traits to be zero.\n"
      ]
     },
     "execution_count": 3,
     "metadata": {},
     "output_type": "execute_result"
    }
   ],
   "source": [
    "?runMCMC"
   ]
  },
  {
   "cell_type": "markdown",
   "metadata": {},
   "source": [
    "<button type=\"button\" class=\"btn btn-lg btn-primary\">Data</button> "
   ]
  },
  {
   "cell_type": "code",
   "execution_count": 4,
   "metadata": {},
   "outputs": [],
   "source": [
    "phenofile = Datasets.dataset(\"testMT\",\"phenotype.txt\")\n",
    "genofile  = Datasets.dataset(\"testMT\",\"genotype.txt\")\n",
    "pedfile   = Datasets.dataset(\"testMT\",\"pedigree.txt\");"
   ]
  },
  {
   "cell_type": "markdown",
   "metadata": {},
   "source": [
    "### phenotypes"
   ]
  },
  {
   "cell_type": "code",
   "execution_count": 5,
   "metadata": {},
   "outputs": [
    {
     "name": "stdout",
     "output_type": "stream",
     "text": [
      "Animal,BW,CW,age,sex\n",
      "S1,100.0,10.0,8,M\n",
      "D1,50.0,12.9,7,F\n",
      "O1,150.0,13.0,3,M\n",
      "O3,40.0,5.0,4,F\n"
     ]
    }
   ],
   "source": [
    ";cat $phenofile"
   ]
  },
  {
   "cell_type": "markdown",
   "metadata": {},
   "source": [
    "### genotypes"
   ]
  },
  {
   "cell_type": "code",
   "execution_count": 6,
   "metadata": {},
   "outputs": [
    {
     "name": "stdout",
     "output_type": "stream",
     "text": [
      "Animal,x1,x2,x3,x4,x5\n",
      "S1,1.0,0.0,1.0,1.0,1.0\n",
      "D1,2.0,0.0,2.0,2.0,1.0\n",
      "O1,1.0,2.0,0.0,1.0,0.0\n",
      "O3,0.0,0.0,2.0,1.0,1.0\n"
     ]
    }
   ],
   "source": [
    ";cat $genofile"
   ]
  },
  {
   "cell_type": "markdown",
   "metadata": {},
   "source": [
    "### pedigree"
   ]
  },
  {
   "cell_type": "code",
   "execution_count": 7,
   "metadata": {},
   "outputs": [
    {
     "name": "stdout",
     "output_type": "stream",
     "text": [
      "S1 0 0\n",
      "D1 0 0\n",
      "O1 S1 D1\n",
      "O2 S1 D1\n",
      "O3 S1 D1\n"
     ]
    }
   ],
   "source": [
    ";cat $pedfile"
   ]
  },
  {
   "cell_type": "code",
   "execution_count": 8,
   "metadata": {},
   "outputs": [],
   "source": [
    "data = CSV.read(phenofile,delim = ',',header=true,null=\"NA\");"
   ]
  },
  {
   "cell_type": "markdown",
   "metadata": {},
   "source": [
    "<div class=\"span5 alert alert-info\">\n",
    " <font size=\"5\" face=\"Georgia\">I. Multiple Traits Analyses with Marker Information</font><br> \n",
    "</div>"
   ]
  },
  {
   "cell_type": "markdown",
   "metadata": {},
   "source": [
    "<button type=\"button\" class=\"btn btn-lg btn-primary\">Build Model</button> "
   ]
  },
  {
   "cell_type": "markdown",
   "metadata": {},
   "source": [
    "### Genetic covariance matrix and residual covariance matrix"
   ]
  },
  {
   "cell_type": "code",
   "execution_count": 9,
   "metadata": {},
   "outputs": [],
   "source": [
    "R      = [10.0 2.0\n",
    "           2.0 1.0]\n",
    "G      = [20.0 1.0\n",
    "           1.0 2.0];"
   ]
  },
  {
   "cell_type": "code",
   "execution_count": 10,
   "metadata": {},
   "outputs": [],
   "source": [
    "model_equations = \"BW = intercept + age + sex;\n",
    "                   CW = intercept + age + sex\";"
   ]
  },
  {
   "cell_type": "code",
   "execution_count": 11,
   "metadata": {},
   "outputs": [],
   "source": [
    "model1 = build_model(model_equations,R);"
   ]
  },
  {
   "cell_type": "code",
   "execution_count": 12,
   "metadata": {},
   "outputs": [],
   "source": [
    "set_covariate(model1,\"age\");"
   ]
  },
  {
   "cell_type": "code",
   "execution_count": 13,
   "metadata": {},
   "outputs": [
    {
     "name": "stdout",
     "output_type": "stream",
     "text": [
      "5 markers on 4 individuals were added.\n"
     ]
    }
   ],
   "source": [
    "add_genotypes(model1,genofile,G,separator=',',header=true);"
   ]
  },
  {
   "cell_type": "markdown",
   "metadata": {},
   "source": [
    "<button type=\"button\" class=\"btn btn-lg btn-primary\">Run Model</button> "
   ]
  },
  {
   "cell_type": "code",
   "execution_count": 14,
   "metadata": {},
   "outputs": [
    {
     "name": "stdout",
     "output_type": "stream",
     "text": [
      "The prior for marker effects covariance matrix were calculated from genetic covariance matrix and π.\n",
      "Marker effects covariance matrix is \n",
      "[10.9589 0.626223; 0.626223 1.09589].\n",
      "\n",
      "\n",
      "MCMC Information:\n",
      "\n",
      "methods                                      BayesC\n",
      "chain_length                                   5000\n",
      "starting_value                                false\n",
      "printout_frequency                             5001\n",
      "output_samples_frequency                          5\n",
      "constraint                                    false\n",
      "missing_phenotypes                            false\n",
      "update_priors_frequency                           0\n",
      "\n",
      "Information for hyper-parameter: π (Π)\n",
      "π                              Dict([0.0, 1.0]=>0.1,[1.0, 0.0]=>0.1,[1.0, 1.0]=>0.7,[0.0, 0.0]=>0.1)\n",
      "estimatePi                                     true\n",
      "\n",
      "Degree of freedom for hyper-parameters:\n",
      "residual variances:                           4.000\n",
      "iid random effect variances:                  4.000\n",
      "polygenic effect variances:                   4.000\n",
      "marker effect variances:                      4.000\n",
      "\n",
      "\n",
      "\n"
     ]
    },
    {
     "name": "stderr",
     "output_type": "stream",
     "text": [
      "\u001b[1m\u001b[33mWARNING: \u001b[39m\u001b[22m\u001b[33mThe file MCMC_samples_for_marker_effects_BW already exists!!! It was overwritten by the new output.\u001b[39m\n",
      "\u001b[1m\u001b[33mWARNING: \u001b[39m\u001b[22m\u001b[33mThe file MCMC_samples_for_marker_effects_CW already exists!!! It was overwritten by the new output.\u001b[39m\n",
      "\u001b[32mrunning MCMC for BayesC...100%|█████████████████████████| Time: 0:00:03\u001b[39m\n"
     ]
    }
   ],
   "source": [
    "Pi=Dict([1.0; 1.0]=>0.7,[1.0;0.0]=>0.1,[0.0,1.0]=>0.1,[0.0; 0.0]=>0.1)\n",
    "out = runMCMC(model1,data,Pi=Pi,chain_length=5000,methods=\"BayesC\",\n",
    "estimatePi=true,output_samples_frequency=5);"
   ]
  },
  {
   "cell_type": "markdown",
   "metadata": {},
   "source": [
    "<button type=\"button\" class=\"btn btn-lg btn-primary\">Check Results</button> "
   ]
  },
  {
   "cell_type": "code",
   "execution_count": 15,
   "metadata": {},
   "outputs": [
    {
     "data": {
      "text/plain": [
       "Base.KeyIterator for a Dict{Any,Any} with 7 entries. Keys:\n",
       "  \"Model frequency\"\n",
       "  \"Posterior mean of residual covariance matrix\"\n",
       "  \"Posterior mean of marker effects\"\n",
       "  \"Posterior mean of marker effects covariance matrix\"\n",
       "  \"MCMC samples for residual covariance matrix\"\n",
       "  \"Posterior mean of location parameters\"\n",
       "  \"Posterior mean of Pi\""
      ]
     },
     "execution_count": 15,
     "metadata": {},
     "output_type": "execute_result"
    }
   ],
   "source": [
    "keys(out)"
   ]
  },
  {
   "cell_type": "code",
   "execution_count": 16,
   "metadata": {},
   "outputs": [],
   "source": [
    "file1=\"MCMC_samples_for_marker_effects_BW.txt\"\n",
    "file2=\"MCMC_samples_for_marker_effects_CW.txt\";"
   ]
  },
  {
   "cell_type": "code",
   "execution_count": 17,
   "metadata": {},
   "outputs": [
    {
     "data": {
      "text/plain": [
       "2-element Array{Any,1}:\n",
       " 4×3 DataFrames.DataFrame\n",
       "│ Row │ ID │ EBV      │ PEV     │\n",
       "├─────┼────┼──────────┼─────────┤\n",
       "│ 1   │ S1 │ -2.90923 │ 20.5328 │\n",
       "│ 2   │ D1 │ 0.289624 │ 60.4025 │\n",
       "│ 3   │ O1 │ 10.7198  │ 194.511 │\n",
       "│ 4   │ O3 │ -8.10023 │ 59.9866 │            \n",
       " 4×3 DataFrames.DataFrame\n",
       "│ Row │ ID │ EBV       │ PEV      │\n",
       "├─────┼────┼───────────┼──────────┤\n",
       "│ 1   │ S1 │ -0.407811 │ 0.796295 │\n",
       "│ 2   │ D1 │ 0.64458   │ 3.42457  │\n",
       "│ 3   │ O1 │ 1.41096   │ 4.65713  │\n",
       "│ 4   │ O3 │ -1.64773  │ 3.77901  │"
      ]
     },
     "execution_count": 17,
     "metadata": {},
     "output_type": "execute_result"
    }
   ],
   "source": [
    "get_breeding_values(model1,file1,file2)"
   ]
  },
  {
   "cell_type": "code",
   "execution_count": 18,
   "metadata": {},
   "outputs": [],
   "source": [
    "samples4G=get_additive_genetic_variances(model1,file1,file2);\n",
    "\n",
    "samples4R=out[\"MCMC samples for residual covariance matrix\"];\n",
    "\n",
    "samples4h2=get_heritability(reformat(samples4G),reformat(samples4R));"
   ]
  },
  {
   "cell_type": "code",
   "execution_count": 19,
   "metadata": {},
   "outputs": [],
   "source": [
    "writedlm(\"out3.txt\",samples4G)"
   ]
  },
  {
   "cell_type": "code",
   "execution_count": 20,
   "metadata": {},
   "outputs": [],
   "source": [
    "samples_genetic_correlation=get_correlations(reformat(samples4G));"
   ]
  },
  {
   "cell_type": "code",
   "execution_count": 21,
   "metadata": {},
   "outputs": [],
   "source": [
    "writedlm(\"out.G.txt\",reformat(reformat(samples4G)))"
   ]
  },
  {
   "cell_type": "code",
   "execution_count": 22,
   "metadata": {},
   "outputs": [
    {
     "data": {
      "text/plain": [
       "4×1000 Array{Float64,2}:\n",
       " 250.56      188.191     247.121    …  20.5917    17.3427       1.66152 \n",
       "   0.375972   -2.63645    -6.64268     -1.01599   -4.75509e-17  0.342272\n",
       "   0.375972   -2.63645    -6.64268     -1.01599   -4.75509e-17  0.342272\n",
       "   2.58449     0.651393    2.27528      0.280738   1.51643      2.44501 "
      ]
     },
     "execution_count": 22,
     "metadata": {},
     "output_type": "execute_result"
    }
   ],
   "source": [
    "out=readdlm(\"out.G.txt\")"
   ]
  },
  {
   "cell_type": "code",
   "execution_count": 23,
   "metadata": {},
   "outputs": [
    {
     "data": {
      "text/plain": [
       "1000-element Array{Array{Float64,2},1}:\n",
       " [250.56 0.375972; 0.375972 2.58449]         \n",
       " [188.191 -2.63645; -2.63645 0.651393]       \n",
       " [247.121 -6.64268; -6.64268 2.27528]        \n",
       " [239.311 -6.57474; -6.57474 3.09645]        \n",
       " [312.573 0.896203; 0.896203 4.23299]        \n",
       " [514.013 9.27911; 9.27911 4.26298]          \n",
       " [595.109 42.7164; 42.7164 10.7273]          \n",
       " [542.042 4.66542; 4.66542 10.0555]          \n",
       " [510.18 -3.3889; -3.3889 7.41538]           \n",
       " [502.717 16.7167; 16.7167 5.13881]          \n",
       " [587.524 72.8189; 72.8189 11.3825]          \n",
       " [537.371 73.5715; 73.5715 12.7434]          \n",
       " [341.641 30.7309; 30.7309 3.54294]          \n",
       " ⋮                                           \n",
       " [61.765 7.61555; 7.61555 1.31842]           \n",
       " [24.3645 -3.26021; -3.26021 0.503113]       \n",
       " [5.51657 -0.355884; -0.355884 0.188208]     \n",
       " [1.37264 -0.609465; -0.609465 0.428967]     \n",
       " [1.05501 0.0; 0.0 0.0]                      \n",
       " [0.808812 0.0; 0.0 0.0]                     \n",
       " [5.00493 0.0; 0.0 0.0]                      \n",
       " [1.46007 0.0; 0.0 0.0]                      \n",
       " [0.856087 0.0; 0.0 0.0]                     \n",
       " [20.5917 -1.01599; -1.01599 0.280738]       \n",
       " [17.3427 -4.75509e-17; -4.75509e-17 1.51643]\n",
       " [1.66152 0.342272; 0.342272 2.44501]        "
      ]
     },
     "execution_count": 23,
     "metadata": {},
     "output_type": "execute_result"
    }
   ],
   "source": [
    "reformat(out)"
   ]
  },
  {
   "cell_type": "code",
   "execution_count": 24,
   "metadata": {},
   "outputs": [
    {
     "data": {
      "text/plain": [
       "2×1000 Array{Float64,2}:\n",
       " 0.674227  0.41205    0.768594  0.905624  …  0.0636437  0.0757336  0.00607171\n",
       " 0.319772  0.0384976  0.363702  0.576998     0.0160809  0.192369   0.183894  "
      ]
     },
     "execution_count": 24,
     "metadata": {},
     "output_type": "execute_result"
    }
   ],
   "source": [
    "out10=reformat(samples4h2)"
   ]
  },
  {
   "cell_type": "code",
   "execution_count": 25,
   "metadata": {},
   "outputs": [
    {
     "data": {
      "text/plain": [
       "1000-element Array{Array{Float64,2},1}:\n",
       " [250.56 0.375972; 0.375972 2.58449]         \n",
       " [188.191 -2.63645; -2.63645 0.651393]       \n",
       " [247.121 -6.64268; -6.64268 2.27528]        \n",
       " [239.311 -6.57474; -6.57474 3.09645]        \n",
       " [312.573 0.896203; 0.896203 4.23299]        \n",
       " [514.013 9.27911; 9.27911 4.26298]          \n",
       " [595.109 42.7164; 42.7164 10.7273]          \n",
       " [542.042 4.66542; 4.66542 10.0555]          \n",
       " [510.18 -3.3889; -3.3889 7.41538]           \n",
       " [502.717 16.7167; 16.7167 5.13881]          \n",
       " [587.524 72.8189; 72.8189 11.3825]          \n",
       " [537.371 73.5715; 73.5715 12.7434]          \n",
       " [341.641 30.7309; 30.7309 3.54294]          \n",
       " ⋮                                           \n",
       " [61.765 7.61555; 7.61555 1.31842]           \n",
       " [24.3645 -3.26021; -3.26021 0.503113]       \n",
       " [5.51657 -0.355884; -0.355884 0.188208]     \n",
       " [1.37264 -0.609465; -0.609465 0.428967]     \n",
       " [1.05501 0.0; 0.0 0.0]                      \n",
       " [0.808812 0.0; 0.0 0.0]                     \n",
       " [5.00493 0.0; 0.0 0.0]                      \n",
       " [1.46007 0.0; 0.0 0.0]                      \n",
       " [0.856087 0.0; 0.0 0.0]                     \n",
       " [20.5917 -1.01599; -1.01599 0.280738]       \n",
       " [17.3427 -4.75509e-17; -4.75509e-17 1.51643]\n",
       " [1.66152 0.342272; 0.342272 2.44501]        "
      ]
     },
     "execution_count": 25,
     "metadata": {},
     "output_type": "execute_result"
    }
   ],
   "source": [
    "reformat(out,2)"
   ]
  },
  {
   "cell_type": "code",
   "execution_count": 26,
   "metadata": {},
   "outputs": [
    {
     "name": "stdout",
     "output_type": "stream",
     "text": [
      "Summary Stats:\n",
      "Mean:           18.626749\n",
      "Minimum:        -38.685950\n",
      "1st Quartile:   0.000000\n",
      "Median:         2.199540\n",
      "3rd Quartile:   32.997333\n",
      "Maximum:        208.030269\n",
      "Length:         1000\n",
      "Type:           Float64\n",
      "nothing\n"
     ]
    }
   ],
   "source": [
    "#genetic correlation between trait 1 and trait 2\n",
    "report(reformat(samples4G),index=[1,2]);"
   ]
  },
  {
   "cell_type": "markdown",
   "metadata": {},
   "source": [
    "<div class=\"span5 alert alert-info\">\n",
    " <font size=\"5\" face=\"Georgia\">II. Multiple Traits Analyses with Marker Effects and Polygenic Effects</font><br> \n",
    "</div>"
   ]
  },
  {
   "cell_type": "markdown",
   "metadata": {},
   "source": [
    "<button type=\"button\" class=\"btn btn-lg btn-primary\">Build Model</button> "
   ]
  },
  {
   "cell_type": "code",
   "execution_count": 27,
   "metadata": {},
   "outputs": [],
   "source": [
    "model_equations = \"BW = intercept + age + sex + Animal;\n",
    "                   CW = intercept + age + sex + Animal\";\n",
    "model2          = build_model(model_equations,R);\n",
    "\n",
    "set_covariate(model2,\"age\");"
   ]
  },
  {
   "cell_type": "markdown",
   "metadata": {},
   "source": [
    "get pedigree information from a file"
   ]
  },
  {
   "cell_type": "code",
   "execution_count": 28,
   "metadata": {},
   "outputs": [
    {
     "name": "stderr",
     "output_type": "stream",
     "text": [
      "\r",
      "\u001b[32mcalculating inbreeding...  20%|█████                    |  ETA: 0:00:01\u001b[39m\r",
      "\u001b[32mcalculating inbreeding... 100%|█████████████████████████| Time: 0:00:00\u001b[39m"
     ]
    },
    {
     "name": "stdout",
     "output_type": "stream",
     "text": [
      "Finished!\n"
     ]
    },
    {
     "name": "stderr",
     "output_type": "stream",
     "text": [
      "\n"
     ]
    }
   ],
   "source": [
    "ped=get_pedigree(pedfile);"
   ]
  },
  {
   "cell_type": "code",
   "execution_count": 29,
   "metadata": {},
   "outputs": [],
   "source": [
    "GA = G*0.1\n",
    "set_random(model2,\"Animal\",ped,GA)"
   ]
  },
  {
   "cell_type": "code",
   "execution_count": 30,
   "metadata": {},
   "outputs": [
    {
     "name": "stdout",
     "output_type": "stream",
     "text": [
      "5 markers on 4 individuals were added.\n"
     ]
    }
   ],
   "source": [
    "GM = G*0.9\n",
    "add_genotypes(model2,genofile,GM,separator=',',header=true);"
   ]
  },
  {
   "cell_type": "markdown",
   "metadata": {},
   "source": [
    "<button type=\"button\" class=\"btn btn-lg btn-primary\">Run Model</button> "
   ]
  },
  {
   "cell_type": "code",
   "execution_count": 31,
   "metadata": {},
   "outputs": [
    {
     "name": "stderr",
     "output_type": "stream",
     "text": [
      "\u001b[1m\u001b[33mWARNING: \u001b[39m\u001b[22m\u001b[33mPi (Π) is not provided!!\u001b[39m\n",
      "\u001b[1m\u001b[33mWARNING: \u001b[39m\u001b[22m\u001b[33mPi was generated assuming all markers have effects on all traits\u001b[39m\n"
     ]
    },
    {
     "name": "stdout",
     "output_type": "stream",
     "text": [
      "The prior for marker effects covariance matrix were calculated from genetic covariance matrix and π.\n",
      "Marker effects covariance matrix is \n",
      "[7.89041 0.394521; 0.394521 0.789041].\n",
      "\n",
      "\n",
      "MCMC Information:\n",
      "\n",
      "methods                                      BayesC\n",
      "chain_length                                   5000\n",
      "starting_value                                false\n",
      "printout_frequency                             5001\n",
      "output_samples_frequency                          0\n",
      "constraint                                    false\n",
      "missing_phenotypes                            false\n",
      "update_priors_frequency                           0\n",
      "\n",
      "Information for hyper-parameter: π (Π)\n",
      "π                              Dict([0.0, 1.0]=>0.0,[1.0, 0.0]=>0.0,[1.0, 1.0]=>1.0,[0.0, 0.0]=>0.0)\n",
      "estimatePi                                    false\n",
      "\n",
      "Degree of freedom for hyper-parameters:\n",
      "residual variances:                           4.000\n",
      "iid random effect variances:                  4.000\n",
      "polygenic effect variances:                   4.000\n",
      "marker effect variances:                      4.000\n",
      "\n",
      "\n",
      "\n"
     ]
    },
    {
     "name": "stderr",
     "output_type": "stream",
     "text": [
      "\u001b[32mrunning MCMC for BayesC...100%|█████████████████████████| Time: 0:00:02\u001b[39m\n"
     ]
    }
   ],
   "source": [
    "out2=runMCMC(model2,data,chain_length=5000,methods=\"BayesC\");"
   ]
  },
  {
   "cell_type": "markdown",
   "metadata": {},
   "source": [
    "<button type=\"button\" class=\"btn btn-lg btn-primary\">Check Results</button> "
   ]
  },
  {
   "cell_type": "code",
   "execution_count": 32,
   "metadata": {},
   "outputs": [
    {
     "data": {
      "text/plain": [
       "Base.KeyIterator for a Dict{Any,Any} with 6 entries. Keys:\n",
       "  \"Posterior mean of polygenic effects covariance matrix\"\n",
       "  \"Model frequency\"\n",
       "  \"Posterior mean of residual covariance matrix\"\n",
       "  \"Posterior mean of marker effects\"\n",
       "  \"Posterior mean of marker effects covariance matrix\"\n",
       "  \"Posterior mean of location parameters\""
      ]
     },
     "execution_count": 32,
     "metadata": {},
     "output_type": "execute_result"
    }
   ],
   "source": [
    "keys(out2)"
   ]
  },
  {
   "cell_type": "code",
   "execution_count": 33,
   "metadata": {},
   "outputs": [
    {
     "data": {
      "text/plain": [
       "2×2 Array{Float64,2}:\n",
       " 2.04859   0.109106\n",
       " 0.109106  0.192032"
      ]
     },
     "execution_count": 33,
     "metadata": {},
     "output_type": "execute_result"
    }
   ],
   "source": [
    "out2[\"Posterior mean of polygenic effects covariance matrix\"]"
   ]
  }
 ],
 "metadata": {
  "anaconda-cloud": {},
  "kernelspec": {
   "display_name": "Julia 0.6.2",
   "language": "julia",
   "name": "julia-0.6"
  },
  "language_info": {
   "file_extension": ".jl",
   "mimetype": "application/julia",
   "name": "julia",
   "version": "0.6.2"
  }
 },
 "nbformat": 4,
 "nbformat_minor": 1
}
