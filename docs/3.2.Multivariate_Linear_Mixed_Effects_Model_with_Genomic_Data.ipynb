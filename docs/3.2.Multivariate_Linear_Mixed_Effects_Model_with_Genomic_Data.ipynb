{
 "cells": [
  {
   "cell_type": "markdown",
   "metadata": {},
   "source": [
    "<ul class=\"breadcrumb\">\n",
    "  <li><a href=\"1.2.Multivariate_Linear_Mixed_Effects_Model.ipynb\">Multivariate Basics</a></li>\n",
    "  <li><a href=\"2.2.Multivariate_Linear_Additive_Genetic_Model.ipynb\">Multivariate Additive Genetic Model</a></li> \n",
    "  <li><a href=\"3.2.Multivariate_Linear_Mixed_Effects_Model_with_Genomic_Data.ipynb\">Multivariate Genomic Data</a></li>\n",
    "</ul>"
   ]
  },
  {
   "cell_type": "markdown",
   "metadata": {},
   "source": [
    "<div class=\"span5 alert alert-success\">\n",
    " <font size=\"5\" face=\"Georgia\">Multivariate Linear Mixed Effects Model with Genomic Data</font> \n",
    "</div>"
   ]
  },
  {
   "cell_type": "code",
   "execution_count": 1,
   "metadata": {
    "collapsed": false
   },
   "outputs": [
    {
     "data": {
      "text/plain": [
       "JWAS"
      ]
     },
     "execution_count": 1,
     "metadata": {},
     "output_type": "execute_result"
    }
   ],
   "source": [
    "include(\"../src/JWAS.jl\")"
   ]
  },
  {
   "cell_type": "code",
   "execution_count": 2,
   "metadata": {
    "collapsed": false
   },
   "outputs": [],
   "source": [
    "using DataFrames,JWAS\n",
    "using JWAS: Datasets,misc"
   ]
  },
  {
   "cell_type": "markdown",
   "metadata": {},
   "source": [
    "<button type=\"button\" class=\"btn btn-lg btn-primary\">Data</button> "
   ]
  },
  {
   "cell_type": "code",
   "execution_count": 3,
   "metadata": {
    "collapsed": false
   },
   "outputs": [],
   "source": [
    "phenofile = Datasets.dataset(\"testMT\",\"phenotype.txt\")\n",
    "genofile  = Datasets.dataset(\"testMT\",\"genotype.txt\")\n",
    "pedfile   = Datasets.dataset(\"testMT\",\"pedigree.txt\");"
   ]
  },
  {
   "cell_type": "markdown",
   "metadata": {},
   "source": [
    "### phenotypes"
   ]
  },
  {
   "cell_type": "code",
   "execution_count": 4,
   "metadata": {
    "collapsed": false
   },
   "outputs": [
    {
     "name": "stdout",
     "output_type": "stream",
     "text": [
      "Animal,BW,CW,age,sex\n",
      "S1,100.0,10.0,8,M\n",
      "D1,50.0,12.9,7,F\n",
      "O1,150.0,13.0,3,M\n",
      "O3,40.0,5.0,4,F\n"
     ]
    }
   ],
   "source": [
    ";cat $phenofile"
   ]
  },
  {
   "cell_type": "markdown",
   "metadata": {},
   "source": [
    "### genotypes"
   ]
  },
  {
   "cell_type": "code",
   "execution_count": 5,
   "metadata": {
    "collapsed": false
   },
   "outputs": [
    {
     "name": "stdout",
     "output_type": "stream",
     "text": [
      "Animal,x1,x2,x3,x4,x5\n",
      "S1,1.0,0.0,1.0,1.0,1.0\n",
      "D1,2.0,0.0,2.0,2.0,1.0\n",
      "O1,1.0,2.0,0.0,1.0,0.0\n",
      "O3,0.0,0.0,2.0,1.0,1.0\n"
     ]
    }
   ],
   "source": [
    ";cat $genofile"
   ]
  },
  {
   "cell_type": "markdown",
   "metadata": {},
   "source": [
    "### pedigree"
   ]
  },
  {
   "cell_type": "code",
   "execution_count": 6,
   "metadata": {
    "collapsed": false
   },
   "outputs": [
    {
     "name": "stdout",
     "output_type": "stream",
     "text": [
      "S1 0 0\n",
      "D1 0 0\n",
      "O1 S1 D1\n",
      "O2 S1 D1\n",
      "O3 S1 D1\n"
     ]
    }
   ],
   "source": [
    ";cat $pedfile"
   ]
  },
  {
   "cell_type": "code",
   "execution_count": 7,
   "metadata": {
    "collapsed": false
   },
   "outputs": [
    {
     "data": {
      "text/html": [
       "<table class=\"data-frame\"><tr><th></th><th>Animal</th><th>BW</th><th>CW</th><th>age</th><th>sex</th></tr><tr><th>1</th><td>S1</td><td>100.0</td><td>10.0</td><td>8</td><td>M</td></tr><tr><th>2</th><td>D1</td><td>50.0</td><td>12.9</td><td>7</td><td>F</td></tr><tr><th>3</th><td>O1</td><td>150.0</td><td>13.0</td><td>3</td><td>M</td></tr><tr><th>4</th><td>O3</td><td>40.0</td><td>5.0</td><td>4</td><td>F</td></tr></table>"
      ],
      "text/plain": [
       "4×5 DataFrames.DataFrame\n",
       "│ Row │ Animal │ BW    │ CW   │ age │ sex │\n",
       "├─────┼────────┼───────┼──────┼─────┼─────┤\n",
       "│ 1   │ \"S1\"   │ 100.0 │ 10.0 │ 8   │ \"M\" │\n",
       "│ 2   │ \"D1\"   │ 50.0  │ 12.9 │ 7   │ \"F\" │\n",
       "│ 3   │ \"O1\"   │ 150.0 │ 13.0 │ 3   │ \"M\" │\n",
       "│ 4   │ \"O3\"   │ 40.0  │ 5.0  │ 4   │ \"F\" │"
      ]
     },
     "execution_count": 7,
     "metadata": {},
     "output_type": "execute_result"
    }
   ],
   "source": [
    "data=readtable(phenofile)"
   ]
  },
  {
   "cell_type": "markdown",
   "metadata": {},
   "source": [
    "<div class=\"span5 alert alert-info\">\n",
    " <font size=\"5\" face=\"Georgia\">I. Multiple Traits Analyses with Marker Information</font><br> \n",
    "</div>"
   ]
  },
  {
   "cell_type": "markdown",
   "metadata": {},
   "source": [
    "<button type=\"button\" class=\"btn btn-lg btn-primary\">Build Model</button> "
   ]
  },
  {
   "cell_type": "markdown",
   "metadata": {},
   "source": [
    "### Genetic covariance matrix and residual covariance matrix"
   ]
  },
  {
   "cell_type": "code",
   "execution_count": 15,
   "metadata": {
    "collapsed": false
   },
   "outputs": [],
   "source": [
    "R      = [10.0 2.0\n",
    "           2.0 1.0]\n",
    "G      = [20.0 1.0\n",
    "           1.0 2.0];"
   ]
  },
  {
   "cell_type": "code",
   "execution_count": 16,
   "metadata": {
    "collapsed": false
   },
   "outputs": [],
   "source": [
    "model_equations = \"BW = intercept + age + sex;\n",
    "                   CW = intercept + age + sex\";"
   ]
  },
  {
   "cell_type": "code",
   "execution_count": 17,
   "metadata": {
    "collapsed": false
   },
   "outputs": [],
   "source": [
    "model1 = build_model(model_equations,R);"
   ]
  },
  {
   "cell_type": "code",
   "execution_count": 18,
   "metadata": {
    "collapsed": false
   },
   "outputs": [],
   "source": [
    "set_covariate(model1,\"age\");"
   ]
  },
  {
   "cell_type": "code",
   "execution_count": 19,
   "metadata": {
    "collapsed": false
   },
   "outputs": [
    {
     "name": "stdout",
     "output_type": "stream",
     "text": [
      "5 markers on 4 individuals were added.\n"
     ]
    }
   ],
   "source": [
    "add_markers(model1,genofile,G,separator=',',header=true);"
   ]
  },
  {
   "cell_type": "markdown",
   "metadata": {},
   "source": [
    "<button type=\"button\" class=\"btn btn-lg btn-primary\">Run Model</button> "
   ]
  },
  {
   "cell_type": "code",
   "execution_count": 20,
   "metadata": {
    "collapsed": false
   },
   "outputs": [
    {
     "name": "stdout",
     "output_type": "stream",
     "text": [
      "Priors for marker effects covariance matrix were calculated from genetic covariance matrix and π.\n",
      "Marker effects covariance matrix is \n",
      "[10.958904 0.626223\n",
      " 0.626223 1.09589].\n",
      "\n",
      "\n",
      "MCMC Information:\n",
      "methods                                      BayesC\n",
      "chain_length                                   5000\n",
      "estimatePi                                     true\n",
      "constraint                                    false\n",
      "missing_phenotypes                            false\n",
      "starting_value                                false\n",
      "output_samples_frequency                          5\n",
      "printout_frequency                             5001\n",
      "update_priors_frequency                           0\n",
      "\n",
      "Degree of freedom for hyper-parameters:\n",
      "residual variances:                           4.000\n",
      "iid random effect variances:                  4.000\n",
      "polygenic effect variances:                   4.000\n",
      "marker effect variances:                      4.000\n",
      "\n",
      "\n",
      "\n",
      "running MCMC for BayesC...100%|█████████████████████████| Time: 0:00:01\n"
     ]
    }
   ],
   "source": [
    "Pi=Dict([1.0; 1.0]=>0.7,[1.0;0.0]=>0.1,[0.0,1.0]=>0.1,[0.0; 0.0]=>0.1)\n",
    "out = runMCMC(model1,data,Pi=Pi,chain_length=5000,methods=\"BayesC\",\n",
    "estimatePi=true,output_samples_frequency=5);"
   ]
  },
  {
   "cell_type": "markdown",
   "metadata": {},
   "source": [
    "<button type=\"button\" class=\"btn btn-lg btn-primary\">Check Results</button> "
   ]
  },
  {
   "cell_type": "code",
   "execution_count": 21,
   "metadata": {
    "collapsed": false
   },
   "outputs": [
    {
     "data": {
      "text/plain": [
       "Base.KeyIterator for a Dict{Any,Any} with 7 entries. Keys:\n",
       "  \"Model frequency\"\n",
       "  \"Posterior mean of residual covariance matrix\"\n",
       "  \"Posterior mean of marker effects\"\n",
       "  \"Posterior mean of marker effects covariance matrix\"\n",
       "  \"MCMC samples for residual covariance matrix\"\n",
       "  \"Posterior mean of location parameters\"\n",
       "  \"Posterior mean of Pi\""
      ]
     },
     "execution_count": 21,
     "metadata": {},
     "output_type": "execute_result"
    }
   ],
   "source": [
    "keys(out)"
   ]
  },
  {
   "cell_type": "code",
   "execution_count": 22,
   "metadata": {
    "collapsed": false
   },
   "outputs": [],
   "source": [
    "file1=\"MCMC_samples_for_marker_effects_BW.txt\"\n",
    "file2=\"MCMC_samples_for_marker_effects_CW.txt\";"
   ]
  },
  {
   "cell_type": "code",
   "execution_count": 23,
   "metadata": {
    "collapsed": false
   },
   "outputs": [
    {
     "data": {
      "text/plain": [
       "2-element Array{Any,1}:\n",
       " 4×3 DataFrames.DataFrame\n",
       "│ Row │ ID   │ EBV      │ PEV     │\n",
       "├─────┼──────┼──────────┼─────────┤\n",
       "│ 1   │ \"S1\" │ -1.13724 │ 8.07753 │\n",
       "│ 2   │ \"D1\" │ 8.04833  │ 86.4629 │\n",
       "│ 3   │ \"O1\" │ 3.37534  │ 70.1204 │\n",
       "│ 4   │ \"O3\" │ -10.2864 │ 70.7876 │            \n",
       " 4×3 DataFrames.DataFrame\n",
       "│ Row │ ID   │ EBV       │ PEV      │\n",
       "├─────┼──────┼───────────┼──────────┤\n",
       "│ 1   │ \"S1\" │ -0.137831 │ 0.538611 │\n",
       "│ 2   │ \"D1\" │ 2.29012   │ 6.84982  │\n",
       "│ 3   │ \"O1\" │ 0.163889  │ 4.43166  │\n",
       "│ 4   │ \"O3\" │ -2.31618  │ 4.63616  │"
      ]
     },
     "execution_count": 23,
     "metadata": {},
     "output_type": "execute_result"
    }
   ],
   "source": [
    "get_breeding_values(model1,file1,file2)"
   ]
  },
  {
   "cell_type": "code",
   "execution_count": 24,
   "metadata": {
    "collapsed": false
   },
   "outputs": [],
   "source": [
    "samples4G=get_additive_genetic_variances(model1,file1,file2);"
   ]
  },
  {
   "cell_type": "code",
   "execution_count": 25,
   "metadata": {
    "collapsed": false
   },
   "outputs": [],
   "source": [
    "samples4R=out[\"MCMC samples for residual covariance matrix\"];"
   ]
  },
  {
   "cell_type": "code",
   "execution_count": 26,
   "metadata": {
    "collapsed": false
   },
   "outputs": [],
   "source": [
    "samples4h2=get_heritability(reformat(samples4G),reformat(samples4R));"
   ]
  },
  {
   "cell_type": "code",
   "execution_count": 27,
   "metadata": {
    "collapsed": false
   },
   "outputs": [],
   "source": [
    "samples_genetic_correlation=get_correlations(reformat(samples4G));"
   ]
  },
  {
   "cell_type": "code",
   "execution_count": 28,
   "metadata": {
    "collapsed": false
   },
   "outputs": [
    {
     "name": "stdout",
     "output_type": "stream",
     "text": [
      "Summary Stats:\n",
      "Mean:         0.543587\n",
      "Minimum:      0.000000\n",
      "1st Quartile: 0.071374\n",
      "Median:       0.723365\n",
      "3rd Quartile: 0.951360\n",
      "Maximum:      0.994886\n",
      "nothing\n",
      "[Plots.jl] Initializing backend: pyplot\n"
     ]
    },
    {
     "data": {
      "text/html": [
       "<img src=\"data:image/png;base64,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\" />"
      ]
     },
     "execution_count": 28,
     "metadata": {},
     "output_type": "execute_result"
    }
   ],
   "source": [
    "#heritability for trait 2\n",
    "report(samples4h2,index=2)"
   ]
  },
  {
   "cell_type": "code",
   "execution_count": null,
   "metadata": {
    "collapsed": false
   },
   "outputs": [],
   "source": [
    "#genetic correlation between trait 1 and trait 2\n",
    "report2(reformat(samples4G),index=[1,2]);"
   ]
  },
  {
   "cell_type": "markdown",
   "metadata": {},
   "source": [
    "<div class=\"span5 alert alert-info\">\n",
    " <font size=\"5\" face=\"Georgia\">II. Multiple Traits Analyses with Marker Effects and Polygenic Effects</font><br> \n",
    "</div>"
   ]
  },
  {
   "cell_type": "markdown",
   "metadata": {},
   "source": [
    "<button type=\"button\" class=\"btn btn-lg btn-primary\">Build Model</button> "
   ]
  },
  {
   "cell_type": "code",
   "execution_count": 23,
   "metadata": {
    "collapsed": false
   },
   "outputs": [],
   "source": [
    "model_equations = \"BW = intercept + age + sex + Animal;\n",
    "                   CW = intercept + age + sex + Animal\";\n",
    "model2          = build_model(model_equations,R);\n",
    "\n",
    "set_covariate(model2,\"age\");"
   ]
  },
  {
   "cell_type": "markdown",
   "metadata": {},
   "source": [
    "get pedigree information from a file"
   ]
  },
  {
   "cell_type": "code",
   "execution_count": 24,
   "metadata": {
    "collapsed": false
   },
   "outputs": [
    {
     "name": "stdout",
     "output_type": "stream",
     "text": [
      "Finished!\n"
     ]
    }
   ],
   "source": [
    "ped=get_pedigree(pedfile);"
   ]
  },
  {
   "cell_type": "code",
   "execution_count": 25,
   "metadata": {
    "collapsed": false
   },
   "outputs": [],
   "source": [
    "GA = G*0.1\n",
    "set_random(model2,\"Animal\",ped,GA)"
   ]
  },
  {
   "cell_type": "code",
   "execution_count": 26,
   "metadata": {
    "collapsed": false
   },
   "outputs": [
    {
     "name": "stdout",
     "output_type": "stream",
     "text": [
      "5 markers on 4 individuals were added.\n"
     ]
    }
   ],
   "source": [
    "GM = G*0.9\n",
    "add_markers(model2,genofile,GM,separator=',',header=true);"
   ]
  },
  {
   "cell_type": "markdown",
   "metadata": {},
   "source": [
    "<button type=\"button\" class=\"btn btn-lg btn-primary\">Run Model</button> "
   ]
  },
  {
   "cell_type": "code",
   "execution_count": 27,
   "metadata": {
    "collapsed": false
   },
   "outputs": [
    {
     "name": "stdout",
     "output_type": "stream",
     "text": [
      "Priors for marker effects covariance matrix were calculated from genetic covariance matrix and π.\n",
      "Marker effects covariance matrix is \n",
      "[15.780822 1.578082\n",
      " 1.578082 1.578082].\n",
      "\n",
      "\n",
      "MCMC Information:\n",
      "methods                                      BayesC\n",
      "chain_length                                   5000\n",
      "estimatePi                                    false\n",
      "constraint                                    false\n",
      "missing_phenotypes                            false\n",
      "starting_value                                false\n",
      "output_samples_frequency                          0\n",
      "printout_frequency                             5001\n",
      "update_priors_frequency                           0\n",
      "\n",
      "Degree of freedom for hyper-parameters:\n",
      "residual variances:                           4.000\n",
      "iid random effect variances:                  4.000\n",
      "polygenic effect variances:                   4.000\n",
      "marker effect variances:                      4.000\n",
      "\n",
      "\n",
      "\n",
      "running MCMC for BayesC...100%|█████████████████████████| Time: 0:00:01\n"
     ]
    }
   ],
   "source": [
    "Pi=Dict([1.0; 1.0]=>0.25,[1.0;0.0]=>0.25,[0.0,1.0]=>0.25,[0.0; 0.0]=>0.25)\n",
    "out2=runMCMC(model2,data,Pi=Pi,chain_length=5000,methods=\"BayesC\");"
   ]
  },
  {
   "cell_type": "markdown",
   "metadata": {},
   "source": [
    "<button type=\"button\" class=\"btn btn-lg btn-primary\">Check Results</button> "
   ]
  },
  {
   "cell_type": "code",
   "execution_count": 28,
   "metadata": {
    "collapsed": false
   },
   "outputs": [
    {
     "data": {
      "text/plain": [
       "Base.KeyIterator for a Dict{Any,Any} with 6 entries. Keys:\n",
       "  \"Posterior mean of polygenic effects covariance matrix\"\n",
       "  \"Model frequency\"\n",
       "  \"Posterior mean of residual covariance matrix\"\n",
       "  \"Posterior mean of marker effects\"\n",
       "  \"Posterior mean of marker effects covariance matrix\"\n",
       "  \"Posterior mean of location parameters\""
      ]
     },
     "execution_count": 28,
     "metadata": {},
     "output_type": "execute_result"
    }
   ],
   "source": [
    "keys(out2)"
   ]
  },
  {
   "cell_type": "code",
   "execution_count": 29,
   "metadata": {
    "collapsed": false
   },
   "outputs": [
    {
     "data": {
      "text/plain": [
       "2x2 Array{Float64,2}:\n",
       " 2.03556   0.109594\n",
       " 0.109594  0.195886"
      ]
     },
     "execution_count": 29,
     "metadata": {},
     "output_type": "execute_result"
    }
   ],
   "source": [
    "out2[\"Posterior mean of polygenic effects covariance matrix\"]"
   ]
  }
 ],
 "metadata": {
  "kernelspec": {
   "display_name": "Julia 0.4.6",
   "language": "julia",
   "name": "julia-0.4"
  },
  "language_info": {
   "file_extension": ".jl",
   "mimetype": "application/julia",
   "name": "julia",
   "version": "0.4.6"
  }
 },
 "nbformat": 4,
 "nbformat_minor": 0
}
