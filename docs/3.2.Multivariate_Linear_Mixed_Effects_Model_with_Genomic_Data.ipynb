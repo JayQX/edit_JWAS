{
 "cells": [
  {
   "cell_type": "markdown",
   "metadata": {},
   "source": [
    "<ul class=\"breadcrumb\">\n",
    "  <li><a href=\"1.2.Multivariate_Linear_Mixed_Effects_Model.ipynb\">Multivariate Basics</a></li>\n",
    "  <li><a href=\"2.2.Multivariate_Linear_Additive_Genetic_Model.ipynb\">Multivariate Additive Genetic Model</a></li> \n",
    "  <li><a href=\"3.2.Multivariate_Linear_Mixed_Effects_Model_with_Genomic_Data.ipynb\">Multivariate Genomic Data</a></li>\n",
    "</ul>"
   ]
  },
  {
   "cell_type": "markdown",
   "metadata": {},
   "source": [
    "<div class=\"span5 alert alert-success\">\n",
    " <font size=\"5\" face=\"Georgia\">Multivariate Linear Mixed Effects Model with Genomic Data</font> \n",
    "</div>"
   ]
  },
  {
   "cell_type": "code",
   "execution_count": 1,
   "metadata": {
    "collapsed": false
   },
   "outputs": [
    {
     "data": {
      "text/plain": [
       "JWAS"
      ]
     },
     "execution_count": 1,
     "metadata": {},
     "output_type": "execute_result"
    }
   ],
   "source": [
    "include(\"../src/JWAS.jl\")"
   ]
  },
  {
   "cell_type": "code",
   "execution_count": 2,
   "metadata": {
    "collapsed": false
   },
   "outputs": [],
   "source": [
    "using DataFrames,JWAS\n",
    "using JWAS: Datasets,misc"
   ]
  },
  {
   "cell_type": "markdown",
   "metadata": {},
   "source": [
    "<button type=\"button\" class=\"btn btn-lg btn-primary\">Data</button> "
   ]
  },
  {
   "cell_type": "code",
   "execution_count": 3,
   "metadata": {
    "collapsed": false
   },
   "outputs": [],
   "source": [
    "phenofile = Datasets.dataset(\"testMT\",\"phenotype.txt\")\n",
    "genofile  = Datasets.dataset(\"testMT\",\"genotype.txt\")\n",
    "pedfile   = Datasets.dataset(\"testMT\",\"pedigree.txt\");"
   ]
  },
  {
   "cell_type": "markdown",
   "metadata": {},
   "source": [
    "### phenotypes"
   ]
  },
  {
   "cell_type": "code",
   "execution_count": 4,
   "metadata": {
    "collapsed": false
   },
   "outputs": [
    {
     "name": "stdout",
     "output_type": "stream",
     "text": [
      "Animal,BW,CW,age,sex\n",
      "S1,100.0,10.0,8,M\n",
      "D1,50.0,12.9,7,F\n",
      "O1,150.0,13.0,3,M\n",
      "O3,40.0,5.0,4,F\n"
     ]
    }
   ],
   "source": [
    ";cat $phenofile"
   ]
  },
  {
   "cell_type": "markdown",
   "metadata": {},
   "source": [
    "### genotypes"
   ]
  },
  {
   "cell_type": "code",
   "execution_count": 5,
   "metadata": {
    "collapsed": false
   },
   "outputs": [
    {
     "name": "stdout",
     "output_type": "stream",
     "text": [
      "Animal,x1,x2,x3,x4,x5\n",
      "S1,1.0,0.0,1.0,1.0,1.0\n",
      "D1,2.0,0.0,2.0,2.0,1.0\n",
      "O1,1.0,2.0,0.0,1.0,0.0\n",
      "O3,0.0,0.0,2.0,1.0,1.0\n"
     ]
    }
   ],
   "source": [
    ";cat $genofile"
   ]
  },
  {
   "cell_type": "markdown",
   "metadata": {},
   "source": [
    "### pedigree"
   ]
  },
  {
   "cell_type": "code",
   "execution_count": 6,
   "metadata": {
    "collapsed": false
   },
   "outputs": [
    {
     "name": "stdout",
     "output_type": "stream",
     "text": [
      "S1 0 0\n",
      "D1 0 0\n",
      "O1 S1 D1\n",
      "O2 S1 D1\n",
      "O3 S1 D1\n"
     ]
    }
   ],
   "source": [
    ";cat $pedfile"
   ]
  },
  {
   "cell_type": "code",
   "execution_count": 7,
   "metadata": {
    "collapsed": false
   },
   "outputs": [
    {
     "data": {
      "text/html": [
       "<table class=\"data-frame\"><tr><th></th><th>Animal</th><th>BW</th><th>CW</th><th>age</th><th>sex</th></tr><tr><th>1</th><td>S1</td><td>100.0</td><td>10.0</td><td>8</td><td>M</td></tr><tr><th>2</th><td>D1</td><td>50.0</td><td>12.9</td><td>7</td><td>F</td></tr><tr><th>3</th><td>O1</td><td>150.0</td><td>13.0</td><td>3</td><td>M</td></tr><tr><th>4</th><td>O3</td><td>40.0</td><td>5.0</td><td>4</td><td>F</td></tr></table>"
      ],
      "text/plain": [
       "4×5 DataFrames.DataFrame\n",
       "│ Row │ Animal │ BW    │ CW   │ age │ sex │\n",
       "├─────┼────────┼───────┼──────┼─────┼─────┤\n",
       "│ 1   │ \"S1\"   │ 100.0 │ 10.0 │ 8   │ \"M\" │\n",
       "│ 2   │ \"D1\"   │ 50.0  │ 12.9 │ 7   │ \"F\" │\n",
       "│ 3   │ \"O1\"   │ 150.0 │ 13.0 │ 3   │ \"M\" │\n",
       "│ 4   │ \"O3\"   │ 40.0  │ 5.0  │ 4   │ \"F\" │"
      ]
     },
     "execution_count": 7,
     "metadata": {},
     "output_type": "execute_result"
    }
   ],
   "source": [
    "data=readtable(phenofile)"
   ]
  },
  {
   "cell_type": "markdown",
   "metadata": {},
   "source": [
    "<div class=\"span5 alert alert-info\">\n",
    " <font size=\"5\" face=\"Georgia\">I. Multiple Traits Analyses with Marker Information</font><br> \n",
    "</div>"
   ]
  },
  {
   "cell_type": "markdown",
   "metadata": {},
   "source": [
    "<button type=\"button\" class=\"btn btn-lg btn-primary\">Build Model</button> "
   ]
  },
  {
   "cell_type": "markdown",
   "metadata": {},
   "source": [
    "### Genetic covariance matrix and residual covariance matrix"
   ]
  },
  {
   "cell_type": "code",
   "execution_count": 8,
   "metadata": {
    "collapsed": false
   },
   "outputs": [],
   "source": [
    "R      = [10.0 2.0\n",
    "           2.0 1.0]\n",
    "G      = [20.0 1.0\n",
    "           1.0 2.0];"
   ]
  },
  {
   "cell_type": "code",
   "execution_count": 9,
   "metadata": {
    "collapsed": false
   },
   "outputs": [],
   "source": [
    "model_equations = \"BW = intercept + age + sex;\n",
    "                   CW = intercept + age + sex\";"
   ]
  },
  {
   "cell_type": "code",
   "execution_count": 10,
   "metadata": {
    "collapsed": false
   },
   "outputs": [],
   "source": [
    "model1 = build_model(model_equations,R);"
   ]
  },
  {
   "cell_type": "code",
   "execution_count": 11,
   "metadata": {
    "collapsed": false
   },
   "outputs": [],
   "source": [
    "set_covariate(model1,\"age\");"
   ]
  },
  {
   "cell_type": "code",
   "execution_count": 12,
   "metadata": {
    "collapsed": false
   },
   "outputs": [
    {
     "name": "stdout",
     "output_type": "stream",
     "text": [
      "5 markers on 4 individuals were added.\n"
     ]
    }
   ],
   "source": [
    "add_markers(model1,genofile,G,separator=',',header=true);"
   ]
  },
  {
   "cell_type": "markdown",
   "metadata": {},
   "source": [
    "<button type=\"button\" class=\"btn btn-lg btn-primary\">Run Model</button> "
   ]
  },
  {
   "cell_type": "code",
   "execution_count": 13,
   "metadata": {
    "collapsed": false
   },
   "outputs": [
    {
     "name": "stdout",
     "output_type": "stream",
     "text": [
      "Priors for marker effects covariance matrix were calculated from genetic covariance matrix and π.\n",
      "Marker effects covariance matrix is \n",
      "[10.958904 0.626223\n",
      " 0.626223 1.09589].\n",
      "\n",
      "\n",
      "MCMC Information:\n",
      "methods                                      BayesC\n",
      "chain_length                                   5000\n",
      "estimatePi                                     true\n",
      "constraint                                    false\n",
      "missing_phenotypes                            false\n",
      "starting_value                                false\n",
      "output_samples_frequency                          5\n",
      "printout_frequency                             5001\n",
      "update_priors_frequency                           0\n",
      "\n",
      "Degree of freedom for hyper-parameters:\n",
      "residual variances:                           4.000\n",
      "iid random effect variances:                  4.000\n",
      "polygenic effect variances:                   4.000\n",
      "marker effect variances:                      4.000\n",
      "\n",
      "\n",
      "\n",
      "running MCMC for BayesC...100%|█████████████████████████| Time: 0:00:01\n"
     ]
    }
   ],
   "source": [
    "Pi=Dict([1.0; 1.0]=>0.7,[1.0;0.0]=>0.1,[0.0,1.0]=>0.1,[0.0; 0.0]=>0.1)\n",
    "out = runMCMC(model1,data,Pi=Pi,chain_length=5000,methods=\"BayesC\",\n",
    "estimatePi=true,output_samples_frequency=5);"
   ]
  },
  {
   "cell_type": "markdown",
   "metadata": {},
   "source": [
    "<button type=\"button\" class=\"btn btn-lg btn-primary\">Check Results</button> "
   ]
  },
  {
   "cell_type": "code",
   "execution_count": 14,
   "metadata": {
    "collapsed": false
   },
   "outputs": [
    {
     "data": {
      "text/plain": [
       "Base.KeyIterator for a Dict{Any,Any} with 7 entries. Keys:\n",
       "  \"Model frequency\"\n",
       "  \"Posterior mean of residual covariance matrix\"\n",
       "  \"Posterior mean of marker effects\"\n",
       "  \"Posterior mean of marker effects covariance matrix\"\n",
       "  \"MCMC samples for residual covariance matrix\"\n",
       "  \"Posterior mean of location parameters\"\n",
       "  \"Posterior mean of Pi\""
      ]
     },
     "execution_count": 14,
     "metadata": {},
     "output_type": "execute_result"
    }
   ],
   "source": [
    "keys(out)"
   ]
  },
  {
   "cell_type": "code",
   "execution_count": 15,
   "metadata": {
    "collapsed": false
   },
   "outputs": [],
   "source": [
    "file1=\"MCMC_samples_for_marker_effects_BW.txt\"\n",
    "file2=\"MCMC_samples_for_marker_effects_CW.txt\";"
   ]
  },
  {
   "cell_type": "code",
   "execution_count": 16,
   "metadata": {
    "collapsed": false
   },
   "outputs": [
    {
     "data": {
      "text/plain": [
       "2-element Array{Any,1}:\n",
       " 4×3 DataFrames.DataFrame\n",
       "│ Row │ ID   │ EBV      │ PEV     │\n",
       "├─────┼──────┼──────────┼─────────┤\n",
       "│ 1   │ \"S1\" │ -1.83954 │ 8.57093 │\n",
       "│ 2   │ \"D1\" │ 1.8231   │ 21.6987 │\n",
       "│ 3   │ \"O1\" │ 5.66075  │ 72.6224 │\n",
       "│ 4   │ \"O3\" │ -5.6443  │ 52.5498 │            \n",
       " 4×3 DataFrames.DataFrame\n",
       "│ Row │ ID   │ EBV       │ PEV      │\n",
       "├─────┼──────┼───────────┼──────────┤\n",
       "│ 1   │ \"S1\" │ -0.415404 │ 0.641585 │\n",
       "│ 2   │ \"D1\" │ 0.178116  │ 1.78065  │\n",
       "│ 3   │ \"O1\" │ 1.41326   │ 6.61642  │\n",
       "│ 4   │ \"O3\" │ -1.17597  │ 3.46853  │"
      ]
     },
     "execution_count": 16,
     "metadata": {},
     "output_type": "execute_result"
    }
   ],
   "source": [
    "get_breeding_values(model1,file1,file2)"
   ]
  },
  {
   "cell_type": "code",
   "execution_count": 17,
   "metadata": {
    "collapsed": false
   },
   "outputs": [],
   "source": [
    "samples4G=get_additive_genetic_variances(model1,file1,file2);"
   ]
  },
  {
   "cell_type": "code",
   "execution_count": 18,
   "metadata": {
    "collapsed": false
   },
   "outputs": [],
   "source": [
    "samples4R=out[\"MCMC samples for residual covariance matrix\"];"
   ]
  },
  {
   "cell_type": "code",
   "execution_count": 19,
   "metadata": {
    "collapsed": false
   },
   "outputs": [],
   "source": [
    "samples4h2=get_heritability(reformat(samples4G),reformat(samples4R));"
   ]
  },
  {
   "cell_type": "code",
   "execution_count": 20,
   "metadata": {
    "collapsed": false
   },
   "outputs": [],
   "source": [
    "samples_genetic_correlation=get_correlations(reformat(samples4G));"
   ]
  },
  {
   "cell_type": "code",
   "execution_count": 21,
   "metadata": {
    "collapsed": false
   },
   "outputs": [
    {
     "name": "stdout",
     "output_type": "stream",
     "text": [
      "Summary Stats:\n",
      "Mean:         0.398650\n",
      "Minimum:      0.000000\n",
      "1st Quartile: 0.078993\n",
      "Median:       0.333297\n",
      "3rd Quartile: 0.714466\n",
      "Maximum:      0.994852\n",
      "nothing\n",
      "[Plots.jl] Initializing backend: pyplot\n"
     ]
    },
    {
     "data": {
      "text/html": [
       "<img src=\"data:image/png;base64,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\" />"
      ]
     },
     "execution_count": 21,
     "metadata": {},
     "output_type": "execute_result"
    }
   ],
   "source": [
    "#heritability for trait 2\n",
    "report(samples4h2,index=2)"
   ]
  },
  {
   "cell_type": "code",
   "execution_count": 22,
   "metadata": {
    "collapsed": false
   },
   "outputs": [
    {
     "name": "stdout",
     "output_type": "stream",
     "text": [
      "Summary Stats:\n",
      "Mean:         15.447574\n",
      "Minimum:      -14.329623\n",
      "1st Quartile: 0.000000\n",
      "Median:       0.732189\n",
      "3rd Quartile: 20.716146\n",
      "Maximum:      172.442153\n",
      "nothing\n"
     ]
    }
   ],
   "source": [
    "#genetic correlation between trait 1 and trait 2\n",
    "report(reformat(samples4G),index=[1,2]);"
   ]
  },
  {
   "cell_type": "markdown",
   "metadata": {},
   "source": [
    "<div class=\"span5 alert alert-info\">\n",
    " <font size=\"5\" face=\"Georgia\">II. Multiple Traits Analyses with Marker Effects and Polygenic Effects</font><br> \n",
    "</div>"
   ]
  },
  {
   "cell_type": "markdown",
   "metadata": {},
   "source": [
    "<button type=\"button\" class=\"btn btn-lg btn-primary\">Build Model</button> "
   ]
  },
  {
   "cell_type": "code",
   "execution_count": 23,
   "metadata": {
    "collapsed": false
   },
   "outputs": [],
   "source": [
    "model_equations = \"BW = intercept + age + sex + Animal;\n",
    "                   CW = intercept + age + sex + Animal\";\n",
    "model2          = build_model(model_equations,R);\n",
    "\n",
    "set_covariate(model2,\"age\");"
   ]
  },
  {
   "cell_type": "markdown",
   "metadata": {},
   "source": [
    "get pedigree information from a file"
   ]
  },
  {
   "cell_type": "code",
   "execution_count": 24,
   "metadata": {
    "collapsed": false
   },
   "outputs": [
    {
     "name": "stdout",
     "output_type": "stream",
     "text": [
      "Finished!\n"
     ]
    }
   ],
   "source": [
    "ped=get_pedigree(pedfile);"
   ]
  },
  {
   "cell_type": "code",
   "execution_count": 25,
   "metadata": {
    "collapsed": false
   },
   "outputs": [],
   "source": [
    "GA = G*0.1\n",
    "set_random(model2,\"Animal\",ped,GA)"
   ]
  },
  {
   "cell_type": "code",
   "execution_count": 26,
   "metadata": {
    "collapsed": false
   },
   "outputs": [
    {
     "name": "stdout",
     "output_type": "stream",
     "text": [
      "5 markers on 4 individuals were added.\n"
     ]
    }
   ],
   "source": [
    "GM = G*0.9\n",
    "add_markers(model2,genofile,GM,separator=',',header=true);"
   ]
  },
  {
   "cell_type": "markdown",
   "metadata": {},
   "source": [
    "<button type=\"button\" class=\"btn btn-lg btn-primary\">Run Model</button> "
   ]
  },
  {
   "cell_type": "code",
   "execution_count": 27,
   "metadata": {
    "collapsed": false
   },
   "outputs": [
    {
     "name": "stdout",
     "output_type": "stream",
     "text": [
      "Priors for marker effects covariance matrix were calculated from genetic covariance matrix and π.\n",
      "Marker effects covariance matrix is \n",
      "[15.780822 1.578082\n",
      " 1.578082 1.578082].\n",
      "\n",
      "\n",
      "MCMC Information:\n",
      "methods                                      BayesC\n",
      "chain_length                                   5000\n",
      "estimatePi                                    false\n",
      "constraint                                    false\n",
      "missing_phenotypes                            false\n",
      "starting_value                                false\n",
      "output_samples_frequency                          0\n",
      "printout_frequency                             5001\n",
      "update_priors_frequency                           0\n",
      "\n",
      "Degree of freedom for hyper-parameters:\n",
      "residual variances:                           4.000\n",
      "iid random effect variances:                  4.000\n",
      "polygenic effect variances:                   4.000\n",
      "marker effect variances:                      4.000\n",
      "\n",
      "\n",
      "\n",
      "running MCMC for BayesC...100%|█████████████████████████| Time: 0:00:01\n"
     ]
    }
   ],
   "source": [
    "Pi=Dict([1.0; 1.0]=>0.25,[1.0;0.0]=>0.25,[0.0,1.0]=>0.25,[0.0; 0.0]=>0.25)\n",
    "out2=runMCMC(model2,data,Pi=Pi,chain_length=5000,methods=\"BayesC\");"
   ]
  },
  {
   "cell_type": "markdown",
   "metadata": {},
   "source": [
    "<button type=\"button\" class=\"btn btn-lg btn-primary\">Check Results</button> "
   ]
  },
  {
   "cell_type": "code",
   "execution_count": 28,
   "metadata": {
    "collapsed": false
   },
   "outputs": [
    {
     "data": {
      "text/plain": [
       "Base.KeyIterator for a Dict{Any,Any} with 6 entries. Keys:\n",
       "  \"Posterior mean of polygenic effects covariance matrix\"\n",
       "  \"Model frequency\"\n",
       "  \"Posterior mean of residual covariance matrix\"\n",
       "  \"Posterior mean of marker effects\"\n",
       "  \"Posterior mean of marker effects covariance matrix\"\n",
       "  \"Posterior mean of location parameters\""
      ]
     },
     "execution_count": 28,
     "metadata": {},
     "output_type": "execute_result"
    }
   ],
   "source": [
    "keys(out2)"
   ]
  },
  {
   "cell_type": "code",
   "execution_count": 29,
   "metadata": {
    "collapsed": false
   },
   "outputs": [
    {
     "data": {
      "text/plain": [
       "2x2 Array{Float64,2}:\n",
       " 2.03556   0.109594\n",
       " 0.109594  0.195886"
      ]
     },
     "execution_count": 29,
     "metadata": {},
     "output_type": "execute_result"
    }
   ],
   "source": [
    "out2[\"Posterior mean of polygenic effects covariance matrix\"]"
   ]
  }
 ],
 "metadata": {
  "kernelspec": {
   "display_name": "Julia 0.4.6",
   "language": "julia",
   "name": "julia-0.4"
  },
  "language_info": {
   "file_extension": ".jl",
   "mimetype": "application/julia",
   "name": "julia",
   "version": "0.4.6"
  }
 },
 "nbformat": 4,
 "nbformat_minor": 0
}
