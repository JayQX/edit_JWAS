{
 "cells": [
  {
   "cell_type": "markdown",
   "metadata": {},
   "source": [
    "<ul class=\"breadcrumb\">\n",
    "  <li><a href=\"1.2.Multivariate_Linear_Mixed_Effects_Model.ipynb\">Multivariate Basics</a></li>\n",
    "  <li><a href=\"2.2.Multivariate_Linear_Additive_Genetic_Model.ipynb\">Multivariate Additive Genetic Model</a></li> \n",
    "  <li><a href=\"3.2.Multivariate_Linear_Mixed_Effects_Model_with_Genomic_Data.ipynb\">Multivariate Genomic Data</a></li>\n",
    "</ul>"
   ]
  },
  {
   "cell_type": "markdown",
   "metadata": {},
   "source": [
    "<div class=\"span5 alert alert-success\">\n",
    " <font size=\"5\" face=\"Georgia\">Multivariate Linear Mixed Effects Model with Genomic Data</font> \n",
    "</div>"
   ]
  },
  {
   "cell_type": "code",
   "execution_count": 1,
   "metadata": {
    "collapsed": false
   },
   "outputs": [
    {
     "name": "stderr",
     "output_type": "stream",
     "text": [
      "INFO: Recompiling stale cache file /Users/haocheng/.julia/lib/v0.4/JWAS.ji for module JWAS.\n"
     ]
    }
   ],
   "source": [
    "using DataFrames,JWAS\n",
    "using JWAS: Datasets,misc"
   ]
  },
  {
   "cell_type": "markdown",
   "metadata": {},
   "source": [
    "<button type=\"button\" class=\"btn btn-lg btn-primary\">Data</button> "
   ]
  },
  {
   "cell_type": "code",
   "execution_count": 2,
   "metadata": {
    "collapsed": false
   },
   "outputs": [],
   "source": [
    "phenofile = Datasets.dataset(\"testMT\",\"phenotype.txt\")\n",
    "genofile  = Datasets.dataset(\"testMT\",\"genotype.txt\")\n",
    "pedfile   = Datasets.dataset(\"testMT\",\"pedigree.txt\");"
   ]
  },
  {
   "cell_type": "markdown",
   "metadata": {},
   "source": [
    "### phenotypes"
   ]
  },
  {
   "cell_type": "code",
   "execution_count": 3,
   "metadata": {
    "collapsed": false
   },
   "outputs": [
    {
     "name": "stdout",
     "output_type": "stream",
     "text": [
      "Animal,BW,CW,age,sex\n",
      "S1,100.0,10.0,8,M\n",
      "D1,50.0,12.9,7,F\n",
      "O1,150.0,13.0,3,M\n",
      "O3,40.0,5.0,4,F\n"
     ]
    }
   ],
   "source": [
    ";cat $phenofile"
   ]
  },
  {
   "cell_type": "markdown",
   "metadata": {},
   "source": [
    "### genotypes"
   ]
  },
  {
   "cell_type": "code",
   "execution_count": 4,
   "metadata": {
    "collapsed": false
   },
   "outputs": [
    {
     "name": "stdout",
     "output_type": "stream",
     "text": [
      "Animal,x1,x2,x3,x4,x5\n",
      "S1,1.0,0.0,1.0,1.0,1.0\n",
      "D1,2.0,0.0,2.0,2.0,1.0\n",
      "O1,1.0,2.0,0.0,1.0,0.0\n",
      "O3,0.0,0.0,2.0,1.0,1.0\n"
     ]
    }
   ],
   "source": [
    ";cat $genofile"
   ]
  },
  {
   "cell_type": "markdown",
   "metadata": {},
   "source": [
    "### pedigree"
   ]
  },
  {
   "cell_type": "code",
   "execution_count": 5,
   "metadata": {
    "collapsed": false
   },
   "outputs": [
    {
     "name": "stdout",
     "output_type": "stream",
     "text": [
      "S1 0 0\n",
      "D1 0 0\n",
      "O1 S1 D1\n",
      "O2 S1 D1\n",
      "O3 S1 D1\n"
     ]
    }
   ],
   "source": [
    ";cat $pedfile"
   ]
  },
  {
   "cell_type": "code",
   "execution_count": 6,
   "metadata": {
    "collapsed": false
   },
   "outputs": [
    {
     "data": {
      "text/html": [
       "<table class=\"data-frame\"><tr><th></th><th>Animal</th><th>BW</th><th>CW</th><th>age</th><th>sex</th></tr><tr><th>1</th><td>S1</td><td>100.0</td><td>10.0</td><td>8</td><td>M</td></tr><tr><th>2</th><td>D1</td><td>50.0</td><td>12.9</td><td>7</td><td>F</td></tr><tr><th>3</th><td>O1</td><td>150.0</td><td>13.0</td><td>3</td><td>M</td></tr><tr><th>4</th><td>O3</td><td>40.0</td><td>5.0</td><td>4</td><td>F</td></tr></table>"
      ],
      "text/plain": [
       "4×5 DataFrames.DataFrame\n",
       "│ Row │ Animal │ BW    │ CW   │ age │ sex │\n",
       "├─────┼────────┼───────┼──────┼─────┼─────┤\n",
       "│ 1   │ \"S1\"   │ 100.0 │ 10.0 │ 8   │ \"M\" │\n",
       "│ 2   │ \"D1\"   │ 50.0  │ 12.9 │ 7   │ \"F\" │\n",
       "│ 3   │ \"O1\"   │ 150.0 │ 13.0 │ 3   │ \"M\" │\n",
       "│ 4   │ \"O3\"   │ 40.0  │ 5.0  │ 4   │ \"F\" │"
      ]
     },
     "execution_count": 6,
     "metadata": {},
     "output_type": "execute_result"
    }
   ],
   "source": [
    "data=readtable(phenofile)"
   ]
  },
  {
   "cell_type": "markdown",
   "metadata": {},
   "source": [
    "<div class=\"span5 alert alert-info\">\n",
    " <font size=\"5\" face=\"Georgia\">I. Multiple Traits Analyses with Marker Information</font><br> \n",
    "</div>"
   ]
  },
  {
   "cell_type": "markdown",
   "metadata": {},
   "source": [
    "<button type=\"button\" class=\"btn btn-lg btn-primary\">Build Model</button> "
   ]
  },
  {
   "cell_type": "markdown",
   "metadata": {},
   "source": [
    "### Genetic covariance matrix and residual covariance matrix"
   ]
  },
  {
   "cell_type": "code",
   "execution_count": 7,
   "metadata": {
    "collapsed": false
   },
   "outputs": [],
   "source": [
    "R      = [10.0 2.0\n",
    "           2.0 1.0]\n",
    "G      = [20.0 1.0\n",
    "           1.0 2.0];"
   ]
  },
  {
   "cell_type": "code",
   "execution_count": 8,
   "metadata": {
    "collapsed": false
   },
   "outputs": [],
   "source": [
    "model_equations = \"BW = intercept + age + sex;\n",
    "                   CW = intercept + age + sex\";"
   ]
  },
  {
   "cell_type": "code",
   "execution_count": 9,
   "metadata": {
    "collapsed": false
   },
   "outputs": [],
   "source": [
    "model1 = build_model(model_equations,R);"
   ]
  },
  {
   "cell_type": "code",
   "execution_count": 10,
   "metadata": {
    "collapsed": false
   },
   "outputs": [],
   "source": [
    "set_covariate(model1,\"age\");"
   ]
  },
  {
   "cell_type": "code",
   "execution_count": 11,
   "metadata": {
    "collapsed": false
   },
   "outputs": [
    {
     "name": "stdout",
     "output_type": "stream",
     "text": [
      "5 markers on 4 individuals were added.\n"
     ]
    }
   ],
   "source": [
    "add_markers(model1,genofile,G,separator=',',header=true);"
   ]
  },
  {
   "cell_type": "markdown",
   "metadata": {},
   "source": [
    "<button type=\"button\" class=\"btn btn-lg btn-primary\">Run Model</button> "
   ]
  },
  {
   "cell_type": "code",
   "execution_count": 12,
   "metadata": {
    "collapsed": false
   },
   "outputs": [
    {
     "name": "stdout",
     "output_type": "stream",
     "text": [
      "Priors for marker effects covariance matrix were calculated from genetic covariance matrix and π.\n",
      "Marker effects covariance matrix is \n",
      "[10.958904 0.626223\n",
      " 0.626223 1.09589].\n",
      "\n",
      "\n",
      "MCMC Information:\n",
      "methods                                      BayesC\n",
      "chain_length                                   5000\n",
      "estimatePi                                     true\n",
      "constraint                                    false\n",
      "missing_phenotypes                            false\n",
      "starting_value                                false\n",
      "output_samples_frequency                          5\n",
      "printout_frequency                             5001\n",
      "update_priors_frequency                           0\n",
      "\n",
      "Degree of freedom for hyper-parameters:\n",
      "residual variances:                           4.000\n",
      "iid random effect variances:                  4.000\n",
      "polygenic effect variances:                   4.000\n",
      "marker effect variances:                      4.000\n",
      "\n",
      "\n",
      "\n",
      "running MCMC for BayesC...100%|█████████████████████████| Time: 0:00:02\n"
     ]
    }
   ],
   "source": [
    "Pi=Dict([1.0; 1.0]=>0.7,[1.0;0.0]=>0.1,[0.0,1.0]=>0.1,[0.0; 0.0]=>0.1)\n",
    "out = runMCMC(model1,data,Pi=Pi,chain_length=5000,methods=\"BayesC\",\n",
    "estimatePi=true,output_samples_frequency=5);"
   ]
  },
  {
   "cell_type": "markdown",
   "metadata": {},
   "source": [
    "<button type=\"button\" class=\"btn btn-lg btn-primary\">Check Results</button> "
   ]
  },
  {
   "cell_type": "code",
   "execution_count": 13,
   "metadata": {
    "collapsed": false
   },
   "outputs": [
    {
     "data": {
      "text/plain": [
       "Base.KeyIterator for a Dict{Any,Any} with 7 entries. Keys:\n",
       "  \"Model frequency\"\n",
       "  \"Posterior mean of residual covariance matrix\"\n",
       "  \"Posterior mean of marker effects\"\n",
       "  \"Posterior mean of marker effects covariance matrix\"\n",
       "  \"MCMC samples for residual covariance matrix\"\n",
       "  \"Posterior mean of location parameters\"\n",
       "  \"Posterior mean of Pi\""
      ]
     },
     "execution_count": 13,
     "metadata": {},
     "output_type": "execute_result"
    }
   ],
   "source": [
    "keys(out)"
   ]
  },
  {
   "cell_type": "code",
   "execution_count": 14,
   "metadata": {
    "collapsed": false
   },
   "outputs": [],
   "source": [
    "file1=\"MCMC_samples_for_marker_effects_BW.txt\"\n",
    "file2=\"MCMC_samples_for_marker_effects_CW.txt\";"
   ]
  },
  {
   "cell_type": "code",
   "execution_count": 15,
   "metadata": {
    "collapsed": false
   },
   "outputs": [
    {
     "data": {
      "text/plain": [
       "2-element Array{Any,1}:\n",
       " 4×3 DataFrames.DataFrame\n",
       "│ Row │ ID   │ EBV      │ PEV     │\n",
       "├─────┼──────┼──────────┼─────────┤\n",
       "│ 1   │ \"S1\" │ -1.13724 │ 8.07753 │\n",
       "│ 2   │ \"D1\" │ 8.04833  │ 86.4629 │\n",
       "│ 3   │ \"O1\" │ 3.37534  │ 70.1204 │\n",
       "│ 4   │ \"O3\" │ -10.2864 │ 70.7876 │            \n",
       " 4×3 DataFrames.DataFrame\n",
       "│ Row │ ID   │ EBV       │ PEV      │\n",
       "├─────┼──────┼───────────┼──────────┤\n",
       "│ 1   │ \"S1\" │ -0.137831 │ 0.538611 │\n",
       "│ 2   │ \"D1\" │ 2.29012   │ 6.84982  │\n",
       "│ 3   │ \"O1\" │ 0.163889  │ 4.43166  │\n",
       "│ 4   │ \"O3\" │ -2.31618  │ 4.63616  │"
      ]
     },
     "execution_count": 15,
     "metadata": {},
     "output_type": "execute_result"
    }
   ],
   "source": [
    "get_breeding_values(model1,file1,file2)"
   ]
  },
  {
   "cell_type": "code",
   "execution_count": 16,
   "metadata": {
    "collapsed": false
   },
   "outputs": [],
   "source": [
    "samples4G=get_additive_genetic_variances(model1,file1,file2);\n",
    "\n",
    "samples4R=out[\"MCMC samples for residual covariance matrix\"];\n",
    "\n",
    "samples4h2=get_heritability(reformat(samples4G),reformat(samples4R));"
   ]
  },
  {
   "cell_type": "code",
   "execution_count": 17,
   "metadata": {
    "collapsed": false
   },
   "outputs": [],
   "source": [
    "writedlm(\"out3.txt\",samples4G)"
   ]
  },
  {
   "cell_type": "code",
   "execution_count": 18,
   "metadata": {
    "collapsed": false
   },
   "outputs": [],
   "source": [
    "samples_genetic_correlation=get_correlations(reformat(samples4G));"
   ]
  },
  {
   "cell_type": "code",
   "execution_count": 19,
   "metadata": {
    "collapsed": false
   },
   "outputs": [],
   "source": [
    "writedlm(\"out.G.txt\",reformat(reformat(samples4G)))"
   ]
  },
  {
   "cell_type": "code",
   "execution_count": 20,
   "metadata": {
    "collapsed": false
   },
   "outputs": [
    {
     "data": {
      "text/plain": [
       "4x1000 Array{Float64,2}:\n",
       "  42.8867   36.6135    50.638   173.056   …  127.965    12.5632     6.30952 \n",
       " -13.6981    0.115981   7.1709   12.3879       9.47146   0.0818334  1.91655 \n",
       " -13.6981    0.115981   7.1709   12.3879       9.47146   0.0818334  1.91655 \n",
       "   4.53719  10.889      8.0778    8.1298       1.22728   0.574829   0.632083"
      ]
     },
     "execution_count": 20,
     "metadata": {},
     "output_type": "execute_result"
    }
   ],
   "source": [
    "out=readdlm(\"out.G.txt\")"
   ]
  },
  {
   "cell_type": "code",
   "execution_count": 21,
   "metadata": {
    "collapsed": false
   },
   "outputs": [
    {
     "data": {
      "text/plain": [
       "Array{Array{Float64,1},1}"
      ]
     },
     "execution_count": 21,
     "metadata": {},
     "output_type": "execute_result"
    }
   ],
   "source": [
    "typeof(samples4h2)"
   ]
  },
  {
   "cell_type": "code",
   "execution_count": 31,
   "metadata": {
    "collapsed": false
   },
   "outputs": [
    {
     "data": {
      "text/plain": [
       "1000-element Array{Array{Float64,2},1}:\n",
       " 2x2 Array{Float64,2}:\n",
       "  42.8867  -13.6981 \n",
       " -13.6981    4.53719    \n",
       " 2x2 Array{Float64,2}:\n",
       " 36.6135     0.115981\n",
       "  0.115981  10.889     \n",
       " 2x2 Array{Float64,2}:\n",
       " 50.638   7.1709\n",
       "  7.1709  8.0778            \n",
       " 2x2 Array{Float64,2}:\n",
       " 173.056   12.3879\n",
       "  12.3879   8.1298        \n",
       " 2x2 Array{Float64,2}:\n",
       " 95.6842  2.7784 \n",
       "  2.7784  3.56561          \n",
       " 2x2 Array{Float64,2}:\n",
       " 126.866   4.9117 \n",
       "   4.9117  1.96004        \n",
       " 2x2 Array{Float64,2}:\n",
       " 166.642  0.0\n",
       "   0.0    0.0                  \n",
       " 2x2 Array{Float64,2}:\n",
       " 215.404    9.27001 \n",
       "   9.27001  0.468837    \n",
       " 2x2 Array{Float64,2}:\n",
       " 172.508   10.1742  \n",
       "  10.1742   0.660939    \n",
       " 2x2 Array{Float64,2}:\n",
       " 77.2814  0.0\n",
       "  0.0     0.0                  \n",
       " 2x2 Array{Float64,2}:\n",
       " 151.585   10.9064 \n",
       "  10.9064   0.80257      \n",
       " 2x2 Array{Float64,2}:\n",
       " 160.008   20.9497 \n",
       "  20.9497   3.00534      \n",
       " 2x2 Array{Float64,2}:\n",
       " 202.058   26.1819 \n",
       "  26.1819   4.26451      \n",
       " ⋮                                                                  \n",
       " 2x2 Array{Float64,2}:\n",
       " 295.248   73.3354\n",
       "  73.3354  18.4397        \n",
       " 2x2 Array{Float64,2}:\n",
       " 233.003   44.7166 \n",
       "  44.7166   8.79226      \n",
       " 2x2 Array{Float64,2}:\n",
       " 120.06   38.019 \n",
       "  38.019  13.9545          \n",
       " 2x2 Array{Float64,2}:\n",
       " 388.445   82.6199\n",
       "  82.6199  23.661         \n",
       " 2x2 Array{Float64,2}:\n",
       " 361.34    40.5416 \n",
       "  40.5416   6.80281      \n",
       " 2x2 Array{Float64,2}:\n",
       " 278.26    37.5423\n",
       "  37.5423  11.9281        \n",
       " 2x2 Array{Float64,2}:\n",
       " 285.799   36.7349\n",
       "  36.7349  19.9377        \n",
       " 2x2 Array{Float64,2}:\n",
       " 210.563    7.21089 \n",
       "   7.21089  0.612799    \n",
       " 2x2 Array{Float64,2}:\n",
       " 98.8976   9.79882\n",
       "  9.79882  2.70865        \n",
       " 2x2 Array{Float64,2}:\n",
       " 127.965    9.47146\n",
       "   9.47146  1.22728      \n",
       " 2x2 Array{Float64,2}:\n",
       " 12.5632     0.0818334\n",
       "  0.0818334  0.574829 \n",
       " 2x2 Array{Float64,2}:\n",
       " 6.30952  1.91655 \n",
       " 1.91655  0.632083        "
      ]
     },
     "execution_count": 31,
     "metadata": {},
     "output_type": "execute_result"
    }
   ],
   "source": [
    "reformat(out)"
   ]
  },
  {
   "cell_type": "code",
   "execution_count": 23,
   "metadata": {
    "collapsed": false
   },
   "outputs": [
    {
     "data": {
      "text/plain": [
       "2x1000 Array{Float64,2}:\n",
       " 0.228612  0.20322  0.211682  0.648543  …  0.649724  0.173675   0.207354\n",
       " 0.355741  0.4927   0.425803  0.676871     0.12075   0.0906189  0.157265"
      ]
     },
     "execution_count": 23,
     "metadata": {},
     "output_type": "execute_result"
    }
   ],
   "source": [
    "out10=reformat(samples4h2)"
   ]
  },
  {
   "cell_type": "code",
   "execution_count": 28,
   "metadata": {
    "collapsed": false
   },
   "outputs": [
    {
     "data": {
      "text/plain": [
       "1000-element Array{Array{Float64,2},1}:\n",
       " 2x2 Array{Float64,2}:\n",
       "  42.8867  -13.6981 \n",
       " -13.6981    4.53719    \n",
       " 2x2 Array{Float64,2}:\n",
       " 36.6135     0.115981\n",
       "  0.115981  10.889     \n",
       " 2x2 Array{Float64,2}:\n",
       " 50.638   7.1709\n",
       "  7.1709  8.0778            \n",
       " 2x2 Array{Float64,2}:\n",
       " 173.056   12.3879\n",
       "  12.3879   8.1298        \n",
       " 2x2 Array{Float64,2}:\n",
       " 95.6842  2.7784 \n",
       "  2.7784  3.56561          \n",
       " 2x2 Array{Float64,2}:\n",
       " 126.866   4.9117 \n",
       "   4.9117  1.96004        \n",
       " 2x2 Array{Float64,2}:\n",
       " 166.642  0.0\n",
       "   0.0    0.0                  \n",
       " 2x2 Array{Float64,2}:\n",
       " 215.404    9.27001 \n",
       "   9.27001  0.468837    \n",
       " 2x2 Array{Float64,2}:\n",
       " 172.508   10.1742  \n",
       "  10.1742   0.660939    \n",
       " 2x2 Array{Float64,2}:\n",
       " 77.2814  0.0\n",
       "  0.0     0.0                  \n",
       " 2x2 Array{Float64,2}:\n",
       " 151.585   10.9064 \n",
       "  10.9064   0.80257      \n",
       " 2x2 Array{Float64,2}:\n",
       " 160.008   20.9497 \n",
       "  20.9497   3.00534      \n",
       " 2x2 Array{Float64,2}:\n",
       " 202.058   26.1819 \n",
       "  26.1819   4.26451      \n",
       " ⋮                                                                  \n",
       " 2x2 Array{Float64,2}:\n",
       " 295.248   73.3354\n",
       "  73.3354  18.4397        \n",
       " 2x2 Array{Float64,2}:\n",
       " 233.003   44.7166 \n",
       "  44.7166   8.79226      \n",
       " 2x2 Array{Float64,2}:\n",
       " 120.06   38.019 \n",
       "  38.019  13.9545          \n",
       " 2x2 Array{Float64,2}:\n",
       " 388.445   82.6199\n",
       "  82.6199  23.661         \n",
       " 2x2 Array{Float64,2}:\n",
       " 361.34    40.5416 \n",
       "  40.5416   6.80281      \n",
       " 2x2 Array{Float64,2}:\n",
       " 278.26    37.5423\n",
       "  37.5423  11.9281        \n",
       " 2x2 Array{Float64,2}:\n",
       " 285.799   36.7349\n",
       "  36.7349  19.9377        \n",
       " 2x2 Array{Float64,2}:\n",
       " 210.563    7.21089 \n",
       "   7.21089  0.612799    \n",
       " 2x2 Array{Float64,2}:\n",
       " 98.8976   9.79882\n",
       "  9.79882  2.70865        \n",
       " 2x2 Array{Float64,2}:\n",
       " 127.965    9.47146\n",
       "   9.47146  1.22728      \n",
       " 2x2 Array{Float64,2}:\n",
       " 12.5632     0.0818334\n",
       "  0.0818334  0.574829 \n",
       " 2x2 Array{Float64,2}:\n",
       " 6.30952  1.91655 \n",
       " 1.91655  0.632083        "
      ]
     },
     "execution_count": 28,
     "metadata": {},
     "output_type": "execute_result"
    }
   ],
   "source": [
    "reformat(out,2)"
   ]
  },
  {
   "cell_type": "code",
   "execution_count": 58,
   "metadata": {
    "collapsed": false
   },
   "outputs": [
    {
     "data": {
      "text/plain": [
       "2x1000 Array{Float64,2}:\n",
       " 0.212407  0.240839  0.0911501  0.557378  …  0.362104   0.0637727  0.0537529\n",
       " 0.481242  0.66608   0.297106   0.66303      0.0397157  0.0488209  0.14121  "
      ]
     },
     "execution_count": 58,
     "metadata": {},
     "output_type": "execute_result"
    }
   ],
   "source": [
    "reformat2(samples4h2)"
   ]
  },
  {
   "cell_type": "code",
   "execution_count": 57,
   "metadata": {
    "collapsed": false
   },
   "outputs": [
    {
     "data": {
      "text/plain": [
       "reformat2 (generic function with 2 methods)"
      ]
     },
     "execution_count": 57,
     "metadata": {},
     "output_type": "execute_result"
    }
   ],
   "source": [
    "function reformat2(G::Array{Array{Float64,1},1})\n",
    "    Gnew = zeros(length(G[1]),length(G))\n",
    "    for i in 1:length(G)\n",
    "        Gnew[:,i]=vec(G[i])\n",
    "    end\n",
    "    Gnew\n",
    "end"
   ]
  },
  {
   "cell_type": "code",
   "execution_count": 23,
   "metadata": {
    "collapsed": false
   },
   "outputs": [
    {
     "name": "stdout",
     "output_type": "stream",
     "text": [
      "Summary Stats:\n",
      "Mean:         30.352774\n",
      "Minimum:      -13.698141\n",
      "1st Quartile: 0.192949\n",
      "Median:       21.851885\n",
      "3rd Quartile: 51.839597\n",
      "Maximum:      194.005344\n",
      "nothing\n"
     ]
    }
   ],
   "source": [
    "#genetic correlation between trait 1 and trait 2\n",
    "report(reformat(samples4G),index=[1,2]);"
   ]
  },
  {
   "cell_type": "markdown",
   "metadata": {},
   "source": [
    "<div class=\"span5 alert alert-info\">\n",
    " <font size=\"5\" face=\"Georgia\">II. Multiple Traits Analyses with Marker Effects and Polygenic Effects</font><br> \n",
    "</div>"
   ]
  },
  {
   "cell_type": "markdown",
   "metadata": {},
   "source": [
    "<button type=\"button\" class=\"btn btn-lg btn-primary\">Build Model</button> "
   ]
  },
  {
   "cell_type": "code",
   "execution_count": 23,
   "metadata": {
    "collapsed": false
   },
   "outputs": [],
   "source": [
    "model_equations = \"BW = intercept + age + sex + Animal;\n",
    "                   CW = intercept + age + sex + Animal\";\n",
    "model2          = build_model(model_equations,R);\n",
    "\n",
    "set_covariate(model2,\"age\");"
   ]
  },
  {
   "cell_type": "markdown",
   "metadata": {},
   "source": [
    "get pedigree information from a file"
   ]
  },
  {
   "cell_type": "code",
   "execution_count": 24,
   "metadata": {
    "collapsed": false
   },
   "outputs": [
    {
     "name": "stdout",
     "output_type": "stream",
     "text": [
      "Finished!\n"
     ]
    }
   ],
   "source": [
    "ped=get_pedigree(pedfile);"
   ]
  },
  {
   "cell_type": "code",
   "execution_count": 25,
   "metadata": {
    "collapsed": false
   },
   "outputs": [],
   "source": [
    "GA = G*0.1\n",
    "set_random(model2,\"Animal\",ped,GA)"
   ]
  },
  {
   "cell_type": "code",
   "execution_count": 26,
   "metadata": {
    "collapsed": false
   },
   "outputs": [
    {
     "name": "stdout",
     "output_type": "stream",
     "text": [
      "5 markers on 4 individuals were added.\n"
     ]
    }
   ],
   "source": [
    "GM = G*0.9\n",
    "add_markers(model2,genofile,GM,separator=',',header=true);"
   ]
  },
  {
   "cell_type": "markdown",
   "metadata": {},
   "source": [
    "<button type=\"button\" class=\"btn btn-lg btn-primary\">Run Model</button> "
   ]
  },
  {
   "cell_type": "code",
   "execution_count": 27,
   "metadata": {
    "collapsed": false
   },
   "outputs": [
    {
     "name": "stdout",
     "output_type": "stream",
     "text": [
      "Priors for marker effects covariance matrix were calculated from genetic covariance matrix and π.\n",
      "Marker effects covariance matrix is \n",
      "[15.780822 1.578082\n",
      " 1.578082 1.578082].\n",
      "\n",
      "\n",
      "MCMC Information:\n",
      "methods                                      BayesC\n",
      "chain_length                                   5000\n",
      "estimatePi                                    false\n",
      "constraint                                    false\n",
      "missing_phenotypes                            false\n",
      "starting_value                                false\n",
      "output_samples_frequency                          0\n",
      "printout_frequency                             5001\n",
      "update_priors_frequency                           0\n",
      "\n",
      "Degree of freedom for hyper-parameters:\n",
      "residual variances:                           4.000\n",
      "iid random effect variances:                  4.000\n",
      "polygenic effect variances:                   4.000\n",
      "marker effect variances:                      4.000\n",
      "\n",
      "\n",
      "\n",
      "running MCMC for BayesC...100%|█████████████████████████| Time: 0:00:01\n"
     ]
    }
   ],
   "source": [
    "Pi=Dict([1.0; 1.0]=>0.25,[1.0;0.0]=>0.25,[0.0,1.0]=>0.25,[0.0; 0.0]=>0.25)\n",
    "out2=runMCMC(model2,data,Pi=Pi,chain_length=5000,methods=\"BayesC\");"
   ]
  },
  {
   "cell_type": "markdown",
   "metadata": {},
   "source": [
    "<button type=\"button\" class=\"btn btn-lg btn-primary\">Check Results</button> "
   ]
  },
  {
   "cell_type": "code",
   "execution_count": 28,
   "metadata": {
    "collapsed": false
   },
   "outputs": [
    {
     "data": {
      "text/plain": [
       "Base.KeyIterator for a Dict{Any,Any} with 6 entries. Keys:\n",
       "  \"Posterior mean of polygenic effects covariance matrix\"\n",
       "  \"Model frequency\"\n",
       "  \"Posterior mean of residual covariance matrix\"\n",
       "  \"Posterior mean of marker effects\"\n",
       "  \"Posterior mean of marker effects covariance matrix\"\n",
       "  \"Posterior mean of location parameters\""
      ]
     },
     "execution_count": 28,
     "metadata": {},
     "output_type": "execute_result"
    }
   ],
   "source": [
    "keys(out2)"
   ]
  },
  {
   "cell_type": "code",
   "execution_count": 29,
   "metadata": {
    "collapsed": false
   },
   "outputs": [
    {
     "data": {
      "text/plain": [
       "2x2 Array{Float64,2}:\n",
       " 2.03556   0.109594\n",
       " 0.109594  0.195886"
      ]
     },
     "execution_count": 29,
     "metadata": {},
     "output_type": "execute_result"
    }
   ],
   "source": [
    "out2[\"Posterior mean of polygenic effects covariance matrix\"]"
   ]
  }
 ],
 "metadata": {
  "anaconda-cloud": {},
  "kernelspec": {
   "display_name": "Julia 0.4.6",
   "language": "julia",
   "name": "julia-0.4"
  },
  "language_info": {
   "file_extension": ".jl",
   "mimetype": "application/julia",
   "name": "julia",
   "version": "0.4.6"
  }
 },
 "nbformat": 4,
 "nbformat_minor": 0
}
