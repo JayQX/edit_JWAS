{
 "cells": [
  {
   "cell_type": "markdown",
   "metadata": {},
   "source": [
    "### data format"
   ]
  },
  {
   "cell_type": "markdown",
   "metadata": {},
   "source": [
    "genotype\n",
    "```\n",
    "279 0 0 1 1 1\n",
    "280 1 0 0 2 2\n",
    "281 1 0 1 0 1\n",
    "```\n",
    "phenotype\n",
    "```\n",
    "5 1.869\n",
    "6 -1.140\n",
    "7 1.253\n",
    "```\n",
    "pedigree\n",
    "```\n",
    "1 0 0\n",
    "2 0 0\n",
    "3 1 2\n",
    "```\n",
    "\n",
    "* Founders are denoted as 0 in pedigree.\n",
    "* Animal IDs can be any string, don't have to be numbers.\n",
    "* Headers(marker IDs) for genotypes can be included."
   ]
  },
  {
   "cell_type": "markdown",
   "metadata": {},
   "source": [
    "### input parameters\n",
    "\n",
    "```julia\n",
    "input=InputParameters()\n",
    "fieldnames(input)\n",
    "\n",
    "#13-element Array{Symbol,1}:\n",
    "# :seed            \n",
    "# :method          \n",
    "# :chainLength     \n",
    "# :outFreq         \n",
    "# :probFixed       \n",
    "# :varGenotypic    \n",
    "# :varResidual     \n",
    "# :estimateVariance\n",
    "# :estimatePi      \n",
    "# :estimateScale   \n",
    "# :dfEffectVar     \n",
    "# :nuRes           \n",
    "# :nuGen  \n",
    "```"
   ]
  },
  {
   "cell_type": "markdown",
   "metadata": {},
   "source": [
    "### methods\n",
    "\n",
    "Methods in the SSBR package:\n",
    "\n",
    "1. BayesC0_constantvariance\n",
    "2. BayesC0\n",
    "3. BayesB\n",
    "4. BayesC\n",
    "\n",
    "Coming..\n",
    "\n",
    "ssGBLUP\n",
    "exact ssGBLUP\n",
    "APY ssGBLUP\n"
   ]
  },
  {
   "cell_type": "markdown",
   "metadata": {},
   "source": [
    "# SSBR\n",
    "\n",
    "SSBR is a tool for single step Bayesian regression analyses.\n",
    "\n",
    "\n",
    "#### Quick-start"
   ]
  },
  {
   "cell_type": "code",
   "execution_count": 1,
   "metadata": {},
   "outputs": [
    {
     "name": "stdout",
     "output_type": "stream",
     "text": [
      "MCMC Information:\n",
      "seed                        314\n",
      "chainLength               50000\n",
      "method                   BayesC\n",
      "outFreq                   10000\n",
      "probFixed                 0.990\n",
      "varGenotypic              4.480\n",
      "varResidual               6.720\n",
      "estimateVariance           true\n",
      "estimatePi                false\n",
      "estimateScale             false\n",
      "dfEffectVar               4.000\n",
      "nuRes                     4.000\n",
      "nuGen                     4.000\n",
      "centering                 false\n"
     ]
    },
    {
     "name": "stderr",
     "output_type": "stream",
     "text": [
      "\u001b[1m\u001b[33mWARNING: \u001b[39m\u001b[22m\u001b[33mreadtable is deprecated, use CSV.read from the CSV package instead\u001b[39m\n",
      "Stacktrace:\n",
      " [1] \u001b[1mdepwarn\u001b[22m\u001b[22m\u001b[1m(\u001b[22m\u001b[22m::String, ::Symbol\u001b[1m)\u001b[22m\u001b[22m at \u001b[1m./deprecated.jl:70\u001b[22m\u001b[22m\n",
      " [2] \u001b[1m#readtable#229\u001b[22m\u001b[22m\u001b[1m(\u001b[22m\u001b[22m::Bool, ::Char, ::Array{Char,1}, ::Char, ::Array{String,1}, ::Array{String,1}, ::Array{String,1}, ::Bool, ::Int64, ::Array{Symbol,1}, ::Array{DataType,1}, ::Bool, ::Char, ::Bool, ::Int64, ::Array{Int64,1}, ::Bool, ::Symbol, ::Bool, ::Bool, ::DataFrames.#readtable, ::String\u001b[1m)\u001b[22m\u001b[22m at \u001b[1m/Users/qtlcheng/.julia/v0.6/DataFrames/src/deprecated.jl:1045\u001b[22m\u001b[22m\n",
      " [3] \u001b[1m(::DataFrames.#kw##readtable)\u001b[22m\u001b[22m\u001b[1m(\u001b[22m\u001b[22m::Array{Any,1}, ::DataFrames.#readtable, ::String\u001b[1m)\u001b[22m\u001b[22m at \u001b[1m./<missing>:0\u001b[22m\u001b[22m\n",
      " [4] \u001b[1m#make_genotypes#1\u001b[22m\u001b[22m\u001b[1m(\u001b[22m\u001b[22m::Bool, ::Bool, ::Function, ::String\u001b[1m)\u001b[22m\u001b[22m at \u001b[1m/Users/qtlcheng/.julia/v0.6/JWAS/src/4.misc/src/genotypes.jl:30\u001b[22m\u001b[22m\n",
      " [5] \u001b[1m(::JWAS.misc.#kw##make_genotypes)\u001b[22m\u001b[22m\u001b[1m(\u001b[22m\u001b[22m::Array{Any,1}, ::JWAS.misc.#make_genotypes, ::String\u001b[1m)\u001b[22m\u001b[22m at \u001b[1m./<missing>:0\u001b[22m\u001b[22m\n",
      " [6] \u001b[1m#make_matrices_hybrid#1\u001b[22m\u001b[22m\u001b[1m(\u001b[22m\u001b[22m::Bool, ::Function, ::String, ::String, ::String\u001b[1m)\u001b[22m\u001b[22m at \u001b[1m/Users/qtlcheng/.julia/v0.6/JWAS/src/3.SSBR/src/getMatrices.jl:3\u001b[22m\u001b[22m\n",
      " [7] \u001b[1m(::JWAS.SSBR.#kw##make_matrices_hybrid)\u001b[22m\u001b[22m\u001b[1m(\u001b[22m\u001b[22m::Array{Any,1}, ::JWAS.SSBR.#make_matrices_hybrid, ::String, ::String, ::String\u001b[1m)\u001b[22m\u001b[22m at \u001b[1m./<missing>:0\u001b[22m\u001b[22m\n",
      " [8] \u001b[1m#runSSBR#16\u001b[22m\u001b[22m\u001b[1m(\u001b[22m\u001b[22m::String, ::String, ::String, ::String, ::Function, ::JWAS.misc.InputParameters\u001b[1m)\u001b[22m\u001b[22m at \u001b[1m/Users/qtlcheng/.julia/v0.6/JWAS/src/3.SSBR/src/run.jl:5\u001b[22m\u001b[22m\n",
      " [9] \u001b[1m(::JWAS.SSBR.#kw##runSSBR)\u001b[22m\u001b[22m\u001b[1m(\u001b[22m\u001b[22m::Array{Any,1}, ::JWAS.SSBR.#runSSBR, ::JWAS.misc.InputParameters\u001b[1m)\u001b[22m\u001b[22m at \u001b[1m./<missing>:0\u001b[22m\u001b[22m\n",
      " [10] \u001b[1minclude_string\u001b[22m\u001b[22m\u001b[1m(\u001b[22m\u001b[22m::String, ::String\u001b[1m)\u001b[22m\u001b[22m at \u001b[1m./loading.jl:522\u001b[22m\u001b[22m\n",
      " [11] \u001b[1mexecute_request\u001b[22m\u001b[22m\u001b[1m(\u001b[22m\u001b[22m::ZMQ.Socket, ::IJulia.Msg\u001b[1m)\u001b[22m\u001b[22m at \u001b[1m/Users/qtlcheng/.julia/v0.6/IJulia/src/execute_request.jl:158\u001b[22m\u001b[22m\n",
      " [12] \u001b[1m(::Compat.#inner#18{Array{Any,1},IJulia.#execute_request,Tuple{ZMQ.Socket,IJulia.Msg}})\u001b[22m\u001b[22m\u001b[1m(\u001b[22m\u001b[22m\u001b[1m)\u001b[22m\u001b[22m at \u001b[1m/Users/qtlcheng/.julia/v0.6/Compat/src/Compat.jl:386\u001b[22m\u001b[22m\n",
      " [13] \u001b[1meventloop\u001b[22m\u001b[22m\u001b[1m(\u001b[22m\u001b[22m::ZMQ.Socket\u001b[1m)\u001b[22m\u001b[22m at \u001b[1m/Users/qtlcheng/.julia/v0.6/IJulia/src/eventloop.jl:8\u001b[22m\u001b[22m\n",
      " [14] \u001b[1m(::IJulia.##14#17)\u001b[22m\u001b[22m\u001b[1m(\u001b[22m\u001b[22m\u001b[1m)\u001b[22m\u001b[22m at \u001b[1m./task.jl:335\u001b[22m\u001b[22m\n",
      "while loading In[1], in expression starting on line 38\n",
      "\u001b[32mcoding pedigree... 100%|████████████████████████████████| Time: 0:00:00\u001b[39m\n"
     ]
    },
    {
     "name": "stdout",
     "output_type": "stream",
     "text": [
      "Finished!\n"
     ]
    },
    {
     "name": "stderr",
     "output_type": "stream",
     "text": [
      "\u001b[1m\u001b[33mWARNING: \u001b[39m\u001b[22m\u001b[33mreadtable is deprecated, use CSV.read from the CSV package instead\u001b[39m\n",
      "Stacktrace:\n",
      " [1] \u001b[1mdepwarn\u001b[22m\u001b[22m\u001b[1m(\u001b[22m\u001b[22m::String, ::Symbol\u001b[1m)\u001b[22m\u001b[22m at \u001b[1m./deprecated.jl:70\u001b[22m\u001b[22m\n",
      " [2] \u001b[1m#readtable#229\u001b[22m\u001b[22m\u001b[1m(\u001b[22m\u001b[22m::Bool, ::Char, ::Array{Char,1}, ::Char, ::Array{String,1}, ::Array{String,1}, ::Array{String,1}, ::Bool, ::Int64, ::Array{Symbol,1}, ::Array{DataType,1}, ::Bool, ::Char, ::Bool, ::Int64, ::Array{Int64,1}, ::Bool, ::Symbol, ::Bool, ::Bool, ::DataFrames.#readtable, ::String\u001b[1m)\u001b[22m\u001b[22m at \u001b[1m/Users/qtlcheng/.julia/v0.6/DataFrames/src/deprecated.jl:1045\u001b[22m\u001b[22m\n",
      " [3] \u001b[1m(::DataFrames.#kw##readtable)\u001b[22m\u001b[22m\u001b[1m(\u001b[22m\u001b[22m::Array{Any,1}, ::DataFrames.#readtable, ::String\u001b[1m)\u001b[22m\u001b[22m at \u001b[1m./<missing>:0\u001b[22m\u001b[22m\n",
      " [4] \u001b[1m#make_yVecs#2\u001b[22m\u001b[22m\u001b[1m(\u001b[22m\u001b[22m::Bool, ::Function, ::String, ::JWAS.PedModule.Pedigree, ::JWAS.SSBR.Numbers\u001b[1m)\u001b[22m\u001b[22m at \u001b[1m/Users/qtlcheng/.julia/v0.6/JWAS/src/3.SSBR/src/getMatrices.jl:83\u001b[22m\u001b[22m\n",
      " [5] \u001b[1m#make_matrices_hybrid#1\u001b[22m\u001b[22m\u001b[1m(\u001b[22m\u001b[22m::Bool, ::Function, ::String, ::String, ::String\u001b[1m)\u001b[22m\u001b[22m at \u001b[1m/Users/qtlcheng/.julia/v0.6/JWAS/src/3.SSBR/src/getMatrices.jl:6\u001b[22m\u001b[22m\n",
      " [6] \u001b[1m(::JWAS.SSBR.#kw##make_matrices_hybrid)\u001b[22m\u001b[22m\u001b[1m(\u001b[22m\u001b[22m::Array{Any,1}, ::JWAS.SSBR.#make_matrices_hybrid, ::String, ::String, ::String\u001b[1m)\u001b[22m\u001b[22m at \u001b[1m./<missing>:0\u001b[22m\u001b[22m\n",
      " [7] \u001b[1m#runSSBR#16\u001b[22m\u001b[22m\u001b[1m(\u001b[22m\u001b[22m::String, ::String, ::String, ::String, ::Function, ::JWAS.misc.InputParameters\u001b[1m)\u001b[22m\u001b[22m at \u001b[1m/Users/qtlcheng/.julia/v0.6/JWAS/src/3.SSBR/src/run.jl:5\u001b[22m\u001b[22m\n",
      " [8] \u001b[1m(::JWAS.SSBR.#kw##runSSBR)\u001b[22m\u001b[22m\u001b[1m(\u001b[22m\u001b[22m::Array{Any,1}, ::JWAS.SSBR.#runSSBR, ::JWAS.misc.InputParameters\u001b[1m)\u001b[22m\u001b[22m at \u001b[1m./<missing>:0\u001b[22m\u001b[22m\n",
      " [9] \u001b[1minclude_string\u001b[22m\u001b[22m\u001b[1m(\u001b[22m\u001b[22m::String, ::String\u001b[1m)\u001b[22m\u001b[22m at \u001b[1m./loading.jl:522\u001b[22m\u001b[22m\n",
      " [10] \u001b[1mexecute_request\u001b[22m\u001b[22m\u001b[1m(\u001b[22m\u001b[22m::ZMQ.Socket, ::IJulia.Msg\u001b[1m)\u001b[22m\u001b[22m at \u001b[1m/Users/qtlcheng/.julia/v0.6/IJulia/src/execute_request.jl:158\u001b[22m\u001b[22m\n",
      " [11] \u001b[1m(::Compat.#inner#18{Array{Any,1},IJulia.#execute_request,Tuple{ZMQ.Socket,IJulia.Msg}})\u001b[22m\u001b[22m\u001b[1m(\u001b[22m\u001b[22m\u001b[1m)\u001b[22m\u001b[22m at \u001b[1m/Users/qtlcheng/.julia/v0.6/Compat/src/Compat.jl:386\u001b[22m\u001b[22m\n",
      " [12] \u001b[1meventloop\u001b[22m\u001b[22m\u001b[1m(\u001b[22m\u001b[22m::ZMQ.Socket\u001b[1m)\u001b[22m\u001b[22m at \u001b[1m/Users/qtlcheng/.julia/v0.6/IJulia/src/eventloop.jl:8\u001b[22m\u001b[22m\n",
      " [13] \u001b[1m(::IJulia.##14#17)\u001b[22m\u001b[22m\u001b[1m(\u001b[22m\u001b[22m\u001b[1m)\u001b[22m\u001b[22m at \u001b[1m./task.jl:335\u001b[22m\u001b[22m\n",
      "while loading In[1], in expression starting on line 38\n",
      "\u001b[1m\u001b[33mWARNING: \u001b[39m\u001b[22m\u001b[33mreadtable is deprecated, use CSV.read from the CSV package instead\u001b[39m\n",
      "Stacktrace:\n",
      " [1] \u001b[1mdepwarn\u001b[22m\u001b[22m\u001b[1m(\u001b[22m\u001b[22m::String, ::Symbol\u001b[1m)\u001b[22m\u001b[22m at \u001b[1m./deprecated.jl:70\u001b[22m\u001b[22m\n",
      " [2] \u001b[1m#readtable#229\u001b[22m\u001b[22m\u001b[1m(\u001b[22m\u001b[22m::Bool, ::Char, ::Array{Char,1}, ::Char, ::Array{String,1}, ::Array{String,1}, ::Array{String,1}, ::Bool, ::Int64, ::Array{Symbol,1}, ::Array{DataType,1}, ::Bool, ::Char, ::Bool, ::Int64, ::Array{Int64,1}, ::Bool, ::Symbol, ::Bool, ::Bool, ::DataFrames.#readtable, ::String\u001b[1m)\u001b[22m\u001b[22m at \u001b[1m/Users/qtlcheng/.julia/v0.6/DataFrames/src/deprecated.jl:1045\u001b[22m\u001b[22m\n",
      " [3] \u001b[1m(::DataFrames.#kw##readtable)\u001b[22m\u001b[22m\u001b[1m(\u001b[22m\u001b[22m::Array{Any,1}, ::DataFrames.#readtable, ::String\u001b[1m)\u001b[22m\u001b[22m at \u001b[1m./<missing>:0\u001b[22m\u001b[22m\n",
      " [4] \u001b[1m#make_fixed#3\u001b[22m\u001b[22m\u001b[1m(\u001b[22m\u001b[22m::Array{Union{Missings.Missing, String},1}, ::Function, ::String\u001b[1m)\u001b[22m\u001b[22m at \u001b[1m/Users/qtlcheng/.julia/v0.6/JWAS/src/4.misc/src/fixed_effects.jl:27\u001b[22m\u001b[22m\n",
      " [5] \u001b[1m(::JWAS.misc.#kw##make_fixed)\u001b[22m\u001b[22m\u001b[1m(\u001b[22m\u001b[22m::Array{Any,1}, ::JWAS.misc.#make_fixed, ::String\u001b[1m)\u001b[22m\u001b[22m at \u001b[1m./<missing>:0\u001b[22m\u001b[22m\n",
      " [6] \u001b[1m#runSSBR#16\u001b[22m\u001b[22m\u001b[1m(\u001b[22m\u001b[22m::String, ::String, ::String, ::String, ::Function, ::JWAS.misc.InputParameters\u001b[1m)\u001b[22m\u001b[22m at \u001b[1m/Users/qtlcheng/.julia/v0.6/JWAS/src/3.SSBR/src/run.jl:7\u001b[22m\u001b[22m\n",
      " [7] \u001b[1m(::JWAS.SSBR.#kw##runSSBR)\u001b[22m\u001b[22m\u001b[1m(\u001b[22m\u001b[22m::Array{Any,1}, ::JWAS.SSBR.#runSSBR, ::JWAS.misc.InputParameters\u001b[1m)\u001b[22m\u001b[22m at \u001b[1m./<missing>:0\u001b[22m\u001b[22m\n",
      " [8] \u001b[1minclude_string\u001b[22m\u001b[22m\u001b[1m(\u001b[22m\u001b[22m::String, ::String\u001b[1m)\u001b[22m\u001b[22m at \u001b[1m./loading.jl:522\u001b[22m\u001b[22m\n",
      " [9] \u001b[1mexecute_request\u001b[22m\u001b[22m\u001b[1m(\u001b[22m\u001b[22m::ZMQ.Socket, ::IJulia.Msg\u001b[1m)\u001b[22m\u001b[22m at \u001b[1m/Users/qtlcheng/.julia/v0.6/IJulia/src/execute_request.jl:158\u001b[22m\u001b[22m\n",
      " [10] \u001b[1m(::Compat.#inner#18{Array{Any,1},IJulia.#execute_request,Tuple{ZMQ.Socket,IJulia.Msg}})\u001b[22m\u001b[22m\u001b[1m(\u001b[22m\u001b[22m\u001b[1m)\u001b[22m\u001b[22m at \u001b[1m/Users/qtlcheng/.julia/v0.6/Compat/src/Compat.jl:386\u001b[22m\u001b[22m\n",
      " [11] \u001b[1meventloop\u001b[22m\u001b[22m\u001b[1m(\u001b[22m\u001b[22m::ZMQ.Socket\u001b[1m)\u001b[22m\u001b[22m at \u001b[1m/Users/qtlcheng/.julia/v0.6/IJulia/src/eventloop.jl:8\u001b[22m\u001b[22m\n",
      " [12] \u001b[1m(::IJulia.##14#17)\u001b[22m\u001b[22m\u001b[1m(\u001b[22m\u001b[22m\u001b[1m)\u001b[22m\u001b[22m at \u001b[1m./task.jl:335\u001b[22m\u001b[22m\n",
      "while loading In[1], in expression starting on line 38\n"
     ]
    },
    {
     "name": "stdout",
     "output_type": "stream",
     "text": [
      "running BayesC with a MCMC of length 50000\n",
      "Iteration 10000 with 9 loci included in the model, mean residual/marker effect/genetic(imputation) variance  1.329/19.522/ 6.491 with mean π=  0.990.\n",
      "Iteration 20000 with 9 loci included in the model, mean residual/marker effect/genetic(imputation) variance  1.321/19.355/ 6.483 with mean π=  0.990.\n",
      "Iteration 30000 with 9 loci included in the model, mean residual/marker effect/genetic(imputation) variance  1.320/19.332/ 6.486 with mean π=  0.990.\n",
      "Iteration 40000 with 9 loci included in the model, mean residual/marker effect/genetic(imputation) variance  1.315/19.322/ 6.492 with mean π=  0.990.\n",
      "Iteration 50000 with 9 loci included in the model, mean residual/marker effect/genetic(imputation) variance  1.314/19.317/ 6.492 with mean π=  0.990.\n"
     ]
    },
    {
     "name": "stderr",
     "output_type": "stream",
     "text": [
      "\u001b[1m\u001b[33mWARNING: \u001b[39m\u001b[22m\u001b[33mreadtable is deprecated, use CSV.read from the CSV package instead\u001b[39m\n",
      "Stacktrace:\n",
      " [1] \u001b[1mdepwarn\u001b[22m\u001b[22m\u001b[1m(\u001b[22m\u001b[22m::String, ::Symbol\u001b[1m)\u001b[22m\u001b[22m at \u001b[1m./deprecated.jl:70\u001b[22m\u001b[22m\n",
      " [2] \u001b[1m#readtable#229\u001b[22m\u001b[22m\u001b[1m(\u001b[22m\u001b[22m::Bool, ::Char, ::Array{Char,1}, ::Char, ::Array{String,1}, ::Array{String,1}, ::Array{String,1}, ::Bool, ::Int64, ::Array{Symbol,1}, ::Array{DataType,1}, ::Bool, ::Char, ::Bool, ::Int64, ::Array{Int64,1}, ::Bool, ::Symbol, ::Bool, ::Bool, ::DataFrames.#readtable, ::String\u001b[1m)\u001b[22m\u001b[22m at \u001b[1m/Users/qtlcheng/.julia/v0.6/DataFrames/src/deprecated.jl:1045\u001b[22m\u001b[22m\n",
      " [3] \u001b[1m(::DataFrames.#kw##readtable)\u001b[22m\u001b[22m\u001b[1m(\u001b[22m\u001b[22m::Array{Any,1}, ::DataFrames.#readtable, ::String\u001b[1m)\u001b[22m\u001b[22m at \u001b[1m./<missing>:0\u001b[22m\u001b[22m\n",
      " [4] \u001b[1minclude_string\u001b[22m\u001b[22m\u001b[1m(\u001b[22m\u001b[22m::String, ::String\u001b[1m)\u001b[22m\u001b[22m at \u001b[1m./loading.jl:522\u001b[22m\u001b[22m\n",
      " [5] \u001b[1mexecute_request\u001b[22m\u001b[22m\u001b[1m(\u001b[22m\u001b[22m::ZMQ.Socket, ::IJulia.Msg\u001b[1m)\u001b[22m\u001b[22m at \u001b[1m/Users/qtlcheng/.julia/v0.6/IJulia/src/execute_request.jl:158\u001b[22m\u001b[22m\n",
      " [6] \u001b[1m(::Compat.#inner#18{Array{Any,1},IJulia.#execute_request,Tuple{ZMQ.Socket,IJulia.Msg}})\u001b[22m\u001b[22m\u001b[1m(\u001b[22m\u001b[22m\u001b[1m)\u001b[22m\u001b[22m at \u001b[1m/Users/qtlcheng/.julia/v0.6/Compat/src/Compat.jl:386\u001b[22m\u001b[22m\n",
      " [7] \u001b[1meventloop\u001b[22m\u001b[22m\u001b[1m(\u001b[22m\u001b[22m::ZMQ.Socket\u001b[1m)\u001b[22m\u001b[22m at \u001b[1m/Users/qtlcheng/.julia/v0.6/IJulia/src/eventloop.jl:8\u001b[22m\u001b[22m\n",
      " [8] \u001b[1m(::IJulia.##14#17)\u001b[22m\u001b[22m\u001b[1m(\u001b[22m\u001b[22m\u001b[1m)\u001b[22m\u001b[22m at \u001b[1m./task.jl:335\u001b[22m\u001b[22m\n",
      "while loading In[1], in expression starting on line 42\n",
      "\u001b[1m\u001b[33mWARNING: \u001b[39m\u001b[22m\u001b[33mDuplicate variable names are deprecated: pass makeunique=true to add a suffix automatically.\u001b[39m\n",
      "Stacktrace:\n",
      " [1] \u001b[1mdepwarn\u001b[22m\u001b[22m\u001b[1m(\u001b[22m\u001b[22m::String, ::Symbol\u001b[1m)\u001b[22m\u001b[22m at \u001b[1m./deprecated.jl:70\u001b[22m\u001b[22m\n",
      " [2] \u001b[1m#make_unique#3\u001b[22m\u001b[22m\u001b[1m(\u001b[22m\u001b[22m::Bool, ::Function, ::Array{Symbol,1}\u001b[1m)\u001b[22m\u001b[22m at \u001b[1m/Users/qtlcheng/.julia/v0.6/DataFrames/src/other/utils.jl:61\u001b[22m\u001b[22m\n",
      " [3] \u001b[1m(::DataFrames.#kw##make_unique)\u001b[22m\u001b[22m\u001b[1m(\u001b[22m\u001b[22m::Array{Any,1}, ::DataFrames.#make_unique, ::Array{Symbol,1}\u001b[1m)\u001b[22m\u001b[22m at \u001b[1m./<missing>:0\u001b[22m\u001b[22m\n",
      " [4] \u001b[1m#Index#6\u001b[22m\u001b[22m at \u001b[1m/Users/qtlcheng/.julia/v0.6/DataFrames/src/other/index.jl:12\u001b[22m\u001b[22m [inlined]\n",
      " [5] \u001b[1m(::Core.#kw#Type)\u001b[22m\u001b[22m\u001b[1m(\u001b[22m\u001b[22m::Array{Any,1}, ::Type{DataFrames.Index}, ::Array{Symbol,1}\u001b[1m)\u001b[22m\u001b[22m at \u001b[1m./<missing>:0\u001b[22m\u001b[22m\n",
      " [6] \u001b[1m#DataFrame#57\u001b[22m\u001b[22m\u001b[1m(\u001b[22m\u001b[22m::Bool, ::Type{T} where T, ::Array{Any,1}, ::Array{Symbol,1}\u001b[1m)\u001b[22m\u001b[22m at \u001b[1m/Users/qtlcheng/.julia/v0.6/DataFrames/src/dataframe/dataframe.jl:156\u001b[22m\u001b[22m\n",
      " [7] \u001b[1m(::Core.#kw#Type)\u001b[22m\u001b[22m\u001b[1m(\u001b[22m\u001b[22m::Array{Any,1}, ::Type{DataFrames.DataFrame}, ::Array{Any,1}, ::Array{Symbol,1}\u001b[1m)\u001b[22m\u001b[22m at \u001b[1m./<missing>:0\u001b[22m\u001b[22m\n",
      " [8] \u001b[1m#compose_joined_table#125\u001b[22m\u001b[22m\u001b[1m(\u001b[22m\u001b[22m::Bool, ::Function, ::DataFrames.DataFrameJoiner{DataFrames.DataFrame,DataFrames.DataFrame}, ::Symbol, ::DataFrames.RowIndexMap, ::DataFrames.RowIndexMap, ::DataFrames.RowIndexMap, ::DataFrames.RowIndexMap\u001b[1m)\u001b[22m\u001b[22m at \u001b[1m/Users/qtlcheng/.julia/v0.6/DataFrames/src/abstractdataframe/join.jl:103\u001b[22m\u001b[22m\n",
      " [9] \u001b[1m(::DataFrames.#kw##compose_joined_table)\u001b[22m\u001b[22m\u001b[1m(\u001b[22m\u001b[22m::Array{Any,1}, ::DataFrames.#compose_joined_table, ::DataFrames.DataFrameJoiner{DataFrames.DataFrame,DataFrames.DataFrame}, ::Symbol, ::DataFrames.RowIndexMap, ::DataFrames.RowIndexMap, ::DataFrames.RowIndexMap, ::DataFrames.RowIndexMap\u001b[1m)\u001b[22m\u001b[22m at \u001b[1m./<missing>:0\u001b[22m\u001b[22m\n",
      " [10] \u001b[1m#join#133\u001b[22m\u001b[22m\u001b[1m(\u001b[22m\u001b[22m::Symbol, ::Symbol, ::Bool, ::Function, ::DataFrames.DataFrame, ::DataFrames.DataFrame\u001b[1m)\u001b[22m\u001b[22m at \u001b[1m/Users/qtlcheng/.julia/v0.6/DataFrames/src/abstractdataframe/join.jl:294\u001b[22m\u001b[22m\n",
      " [11] \u001b[1m(::Base.#kw##join)\u001b[22m\u001b[22m\u001b[1m(\u001b[22m\u001b[22m::Array{Any,1}, ::Base.#join, ::DataFrames.DataFrame, ::DataFrames.DataFrame\u001b[1m)\u001b[22m\u001b[22m at \u001b[1m./<missing>:0\u001b[22m\u001b[22m\n",
      " [12] \u001b[1minclude_string\u001b[22m\u001b[22m\u001b[1m(\u001b[22m\u001b[22m::String, ::String\u001b[1m)\u001b[22m\u001b[22m at \u001b[1m./loading.jl:522\u001b[22m\u001b[22m\n",
      " [13] \u001b[1mexecute_request\u001b[22m\u001b[22m\u001b[1m(\u001b[22m\u001b[22m::ZMQ.Socket, ::IJulia.Msg\u001b[1m)\u001b[22m\u001b[22m at \u001b[1m/Users/qtlcheng/.julia/v0.6/IJulia/src/execute_request.jl:158\u001b[22m\u001b[22m\n",
      " [14] \u001b[1m(::Compat.#inner#18{Array{Any,1},IJulia.#execute_request,Tuple{ZMQ.Socket,IJulia.Msg}})\u001b[22m\u001b[22m\u001b[1m(\u001b[22m\u001b[22m\u001b[1m)\u001b[22m\u001b[22m at \u001b[1m/Users/qtlcheng/.julia/v0.6/Compat/src/Compat.jl:386\u001b[22m\u001b[22m\n",
      " [15] \u001b[1meventloop\u001b[22m\u001b[22m\u001b[1m(\u001b[22m\u001b[22m::ZMQ.Socket\u001b[1m)\u001b[22m\u001b[22m at \u001b[1m/Users/qtlcheng/.julia/v0.6/IJulia/src/eventloop.jl:8\u001b[22m\u001b[22m\n",
      " [16] \u001b[1m(::IJulia.##14#17)\u001b[22m\u001b[22m\u001b[1m(\u001b[22m\u001b[22m\u001b[1m)\u001b[22m\u001b[22m at \u001b[1m./task.jl:335\u001b[22m\u001b[22m\n",
      "while loading In[1], in expression starting on line 43\n"
     ]
    },
    {
     "data": {
      "text/plain": [
       "0.9607132114477104"
      ]
     },
     "execution_count": 1,
     "metadata": {},
     "output_type": "execute_result"
    }
   ],
   "source": [
    "using JWAS: Datasets,SSBR,misc\n",
    "\n",
    "#data files from QTLDatasets package\n",
    "pedfile    = Datasets.dataset(\"testSSBR\",\"ped.txt\")\n",
    "genofile   = Datasets.dataset(\"testSSBR\",\"genotype.txt\")\n",
    "phenofile  = Datasets.dataset(\"testSSBR\",\"phenotype.txt\")\n",
    "fixedfile  = Datasets.dataset(\"testSSBR\",\"fixed.txt\")\n",
    "Validation = Datasets.dataset(\"testSSBR\",\"validation.txt\")\n",
    "\n",
    "#set up input parameters\n",
    "input=InputParameters()\n",
    "input.method       = \"BayesC\"\n",
    "input.varGenotypic = 4.48\n",
    "input.varResidual  = 6.72\n",
    "input.probFixed    = 0.99\n",
    "input.outFreq      = 10000\n",
    "\n",
    "\n",
    "MCMCinfo(input)\n",
    "#MCMC Information:\n",
    "#seed                        314\n",
    "#chainLength               50000\n",
    "#method                   BayesC\n",
    "#outFreq                    1000\n",
    "#probFixed                 0.990\n",
    "#varGenotypic              4.480\n",
    "#varResidual               6.720\n",
    "#estimateVariance           true\n",
    "#estimatePi                false\n",
    "#estimateScale             false\n",
    "#dfEffectVar               4.000\n",
    "#nuRes                     4.000\n",
    "#nuGen                     4.000\n",
    "#centering                 false\n",
    "\n",
    "\n",
    "#run it\n",
    "out=runSSBR(input,pedigree=pedfile,genotype=genofile,phenotype=phenofile,fixedfile=fixedfile); #return matrices, marker effects and ebv\n",
    "\n",
    "#check accuracy\n",
    "using DataFrames\n",
    "df = readtable(Validation, eltypes =[String, Float64], separator = ' ',header=false,names=[:ID,:EBV]);\n",
    "comp=join(out.ebv,df,on=:ID);\n",
    "cor(comp[:EBV],comp[:EBV_1])"
   ]
  },
  {
   "cell_type": "markdown",
   "metadata": {},
   "source": [
    "#### More\n",
    "\n",
    "* **homepage**: [QTL.rocks](http://QTL.rocks)\n",
    "* **Documentation**: [available here](https://github.com/QTL-rocks/SSBR.jl/wiki)\n",
    "* **Authors**: [Hao Cheng](http://reworkhow.github.io),[Rohan Fernando](http://www.ans.iastate.edu/faculty/index.php?id=rohan)"
   ]
  }
 ],
 "metadata": {
  "kernelspec": {
   "display_name": "Julia 0.6.2",
   "language": "julia",
   "name": "julia-0.6"
  },
  "language_info": {
   "file_extension": ".jl",
   "mimetype": "application/julia",
   "name": "julia",
   "version": "0.6.2"
  }
 },
 "nbformat": 4,
 "nbformat_minor": 1
}
