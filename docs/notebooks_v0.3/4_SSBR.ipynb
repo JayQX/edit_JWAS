{
 "cells": [
  {
   "cell_type": "markdown",
   "metadata": {},
   "source": [
    "<ul class=\"breadcrumb\">\n",
    "  <li><a href=\"1_Conventional_Linear_Mixed_Model.ipynb\">Bayesian Linear Mixed Models (Conventional)</a></li>\n",
    "  <li><a href=\"2_Linear_Additive_Genetic_Model.ipynb\">Bayesian Linear Additive Genetic Model</a></li> \n",
    "  <li><a href=\"3_Genomic_Linear_Mixed_Model.ipynb\">Bayesian Linear Mixed Models (Genomic Data)</a></li>\n",
    "</ul>"
   ]
  },
  {
   "cell_type": "markdown",
   "metadata": {},
   "source": [
    "<div class=\"span5 alert alert-success\">\n",
    " <font size=\"5\" face=\"Georgia\">Single-step Bayesian Regression (Incomplete Genomic Data)</font> \n",
    "</div>"
   ]
  },
  {
   "cell_type": "code",
   "execution_count": 1,
   "metadata": {},
   "outputs": [
    {
     "data": {
      "text/plain": [
       "JWAS"
      ]
     },
     "execution_count": 1,
     "metadata": {},
     "output_type": "execute_result"
    }
   ],
   "source": [
    "include(\"/home/ubuntu/work/Github/JWAS.jl/src/JWAS.jl\")"
   ]
  },
  {
   "cell_type": "markdown",
   "metadata": {},
   "source": [
    "<button type=\"button\" class=\"btn btn-lg btn-primary\">Step 1: Load Packages</button> "
   ]
  },
  {
   "cell_type": "code",
   "execution_count": 2,
   "metadata": {},
   "outputs": [],
   "source": [
    "using JWAS,JWAS.Datasets,DataFrames,CSV"
   ]
  },
  {
   "cell_type": "markdown",
   "metadata": {},
   "source": [
    "<button type=\"button\" class=\"btn btn-lg btn-primary\">Step 2: Read data</button> "
   ]
  },
  {
   "cell_type": "code",
   "execution_count": 3,
   "metadata": {},
   "outputs": [
    {
     "name": "stderr",
     "output_type": "stream",
     "text": [
      "\r",
      "\u001b[32mcoding pedigree...   8%|███                             |  ETA: 0:00:01\u001b[39m"
     ]
    },
    {
     "name": "stdout",
     "output_type": "stream",
     "text": [
      "Finished!\n"
     ]
    },
    {
     "name": "stderr",
     "output_type": "stream",
     "text": [
      "\u001b[32mcoding pedigree... 100%|████████████████████████████████| Time: 0:00:00\u001b[39m\n"
     ]
    }
   ],
   "source": [
    "phenofile  = Datasets.dataset(\"example\",\"phenotypes_ssbr.txt\")\n",
    "pedfile    = Datasets.dataset(\"example\",\"pedigree.txt\")\n",
    "genofile   = Datasets.dataset(\"example\",\"genotypes.txt\")\n",
    "\n",
    "phenotypes = CSV.read(phenofile,delim = ',',header=true)\n",
    "pedigree   = get_pedigree(pedfile,separator=\",\",header=true);"
   ]
  },
  {
   "cell_type": "code",
   "execution_count": 4,
   "metadata": {},
   "outputs": [
    {
     "data": {
      "text/html": [
       "<table class=\"data-frame\"><thead><tr><th></th><th>ID</th><th>y1</th><th>y2</th><th>y3</th><th>x1</th><th>x2</th><th>x3</th><th>dam</th></tr></thead><tbody><tr><th>1</th><td>a1</td><td>-0.06</td><td>3.58</td><td>-1.18</td><td>0.9</td><td>2</td><td>m</td><td>0</td></tr><tr><th>2</th><td>a2</td><td>-0.6</td><td>4.9</td><td>0.88</td><td>0.3</td><td>1</td><td>f</td><td>0</td></tr><tr><th>3</th><td>a3</td><td>-2.07</td><td>3.19</td><td>0.73</td><td>0.7</td><td>2</td><td>f</td><td>0</td></tr><tr><th>4</th><td>a4</td><td>-2.63</td><td>6.97</td><td>-0.83</td><td>0.6</td><td>1</td><td>m</td><td>a2</td></tr><tr><th>5</th><td>a5</td><td>2.31</td><td>3.5</td><td>-1.52</td><td>0.4</td><td>2</td><td>m</td><td>a2</td></tr><tr><th>6</th><td>a6</td><td>0.93</td><td>4.87</td><td>-0.01</td><td>5.0</td><td>2</td><td>f</td><td>a3</td></tr></tbody></table>"
      ],
      "text/plain": [
       "6×8 DataFrames.DataFrame\n",
       "│ Row │ ID │ y1    │ y2   │ y3    │ x1  │ x2 │ x3 │ dam │\n",
       "├─────┼────┼───────┼──────┼───────┼─────┼────┼────┼─────┤\n",
       "│ 1   │ a1 │ -0.06 │ 3.58 │ -1.18 │ 0.9 │ 2  │ m  │ 0   │\n",
       "│ 2   │ a2 │ -0.6  │ 4.9  │ 0.88  │ 0.3 │ 1  │ f  │ 0   │\n",
       "│ 3   │ a3 │ -2.07 │ 3.19 │ 0.73  │ 0.7 │ 2  │ f  │ 0   │\n",
       "│ 4   │ a4 │ -2.63 │ 6.97 │ -0.83 │ 0.6 │ 1  │ m  │ a2  │\n",
       "│ 5   │ a5 │ 2.31  │ 3.5  │ -1.52 │ 0.4 │ 2  │ m  │ a2  │\n",
       "│ 6   │ a6 │ 0.93  │ 4.87 │ -0.01 │ 5.0 │ 2  │ f  │ a3  │"
      ]
     },
     "execution_count": 4,
     "metadata": {},
     "output_type": "execute_result"
    }
   ],
   "source": [
    "head(phenotypes)"
   ]
  },
  {
   "cell_type": "markdown",
   "metadata": {},
   "source": [
    "<div class=\"span5 alert alert-success\">\n",
    " <font size=\"5\" face=\"Georgia\">Single-trait Single-step Bayesian Regression (Incomplete Genomic Data)</font> \n",
    "</div>"
   ]
  },
  {
   "cell_type": "markdown",
   "metadata": {},
   "source": [
    "<button type=\"button\" class=\"btn btn-lg btn-primary\">Step 3: Build Model Equations</button> "
   ]
  },
  {
   "cell_type": "code",
   "execution_count": 5,
   "metadata": {},
   "outputs": [],
   "source": [
    "model_equation1  =\"y1 = intercept + x1*x3 + x2 + x3 + ID + dam\";"
   ]
  },
  {
   "cell_type": "code",
   "execution_count": 6,
   "metadata": {},
   "outputs": [],
   "source": [
    "R      = 1.0\n",
    "model1 = build_model(model_equation1,R);"
   ]
  },
  {
   "cell_type": "markdown",
   "metadata": {},
   "source": [
    "<button type=\"button\" class=\"btn btn-lg btn-primary\">Step 4: Set Factors or Covariates</button> "
   ]
  },
  {
   "cell_type": "code",
   "execution_count": 7,
   "metadata": {},
   "outputs": [],
   "source": [
    "set_covariate(model1,\"x1\");"
   ]
  },
  {
   "cell_type": "markdown",
   "metadata": {},
   "source": [
    "<button type=\"button\" class=\"btn btn-lg btn-primary\">Step 5: Set Random or Fixed Effects</button> "
   ]
  },
  {
   "cell_type": "code",
   "execution_count": 8,
   "metadata": {},
   "outputs": [],
   "source": [
    "G1 = 1.0\n",
    "G2 = eye(2)\n",
    "set_random(model1,\"x2\",G1);\n",
    "set_random(model1,\"ID dam\",pedigree,G2);"
   ]
  },
  {
   "cell_type": "markdown",
   "metadata": {},
   "source": [
    "<button type=\"button\" class=\"btn btn-lg btn-primary\">Step 6: Use Genomic Information</button> "
   ]
  },
  {
   "cell_type": "code",
   "execution_count": 9,
   "metadata": {},
   "outputs": [
    {
     "name": "stdout",
     "output_type": "stream",
     "text": [
      "5 markers on 7 individuals were added.\n"
     ]
    }
   ],
   "source": [
    "G3 =1.0\n",
    "add_genotypes(model1,genofile,G3,separator=',');"
   ]
  },
  {
   "cell_type": "code",
   "execution_count": 10,
   "metadata": {},
   "outputs": [
    {
     "name": "stdout",
     "output_type": "stream",
     "text": [
      "Estimated breeding values and prediction error variances will be included in the output.\n"
     ]
    }
   ],
   "source": [
    "JWAS.outputEBV(model1,[\"a1\",\"a2\",\"a3\"]);"
   ]
  },
  {
   "cell_type": "markdown",
   "metadata": {},
   "source": [
    "<button type=\"button\" class=\"btn btn-lg btn-primary\">Step 7: Run Analysis</button> "
   ]
  },
  {
   "cell_type": "code",
   "execution_count": 11,
   "metadata": {},
   "outputs": [
    {
     "name": "stdout",
     "output_type": "stream",
     "text": [
      "\n",
      "The prior for marker effects variance is calculated from \n",
      "the genetic variance and π. The prior for the marker effects variance \n",
      "is: 0.492462\n",
      "\n",
      "\n",
      "\n",
      "A Linear Mixed Model was build using model equations:\n",
      "\n",
      "y1 = intercept + x1*x3 + x2 + x3 + ID + dam\n",
      "\n",
      "Model Information:\n",
      "\n",
      "Term            C/F          F/R            nLevels\n",
      "intercept       factor       fixed                1\n",
      "x1*x3           interaction  fixed                2\n",
      "x2              factor       random               2\n",
      "x3              factor       fixed                2\n",
      "ID              factor       random              12\n",
      "dam             factor       random              12\n",
      "ϵ               factor       random               5\n",
      "J               covariate    fixed                1\n",
      "\n",
      "MCMC Information:\n",
      "\n",
      "methods                                      BayesC\n",
      "chain_length                                   5000\n",
      "burnin                                            0\n",
      "estimatePi                                     true\n",
      "starting_value                                 true\n",
      "printout_frequency                             5001\n",
      "output_samples_frequency                        100\n",
      "constraint                                    false\n",
      "missing_phenotypes                            false\n",
      "update_priors_frequency                           0\n",
      "\n",
      "Hyper-parameters Information: \n",
      "\n",
      "random effect variances (x2):                 [1.0]\n",
      "random effect variances (ϵ):                  [1.0]\n",
      "residual variances:                           1.000\n",
      "genetic variances (polygenic):\n",
      "                                 [1.0 0.0; 0.0 1.0]\n",
      "genetic variances (genomic):                  0.492\n",
      "marker effect variances:                      0.492\n",
      "π                                               0.0\n",
      "\n",
      "Degree of freedom for hyper-parameters:\n",
      "\n",
      "residual variances:                           4.000\n",
      "iid random effect variances:                  4.000\n",
      "polygenic effect variances:                   4.000\n",
      "marker effect variances:                      4.000\n",
      "\n",
      "\n",
      "\n"
     ]
    },
    {
     "name": "stderr",
     "output_type": "stream",
     "text": [
      "\u001b[1m\u001b[33mWARNING: \u001b[39m\u001b[22m\u001b[33mThe file MCMC_samples_residual_variance.txt already exists!!! It is overwritten by the new output.\u001b[39m\n",
      "\u001b[1m\u001b[33mWARNING: \u001b[39m\u001b[22m\u001b[33mThe file MCMC_samples_polygenic_effects_variance.txt already exists!!! It is overwritten by the new output.\u001b[39m\n",
      "\u001b[1m\u001b[33mWARNING: \u001b[39m\u001b[22m\u001b[33mThe file MCMC_samples_marker_effects_y1.txt already exists!!! It is overwritten by the new output.\u001b[39m\n",
      "\u001b[1m\u001b[33mWARNING: \u001b[39m\u001b[22m\u001b[33mThe file MCMC_samples_marker_effects_variances.txt already exists!!! It is overwritten by the new output.\u001b[39m\n",
      "\u001b[1m\u001b[33mWARNING: \u001b[39m\u001b[22m\u001b[33mThe file MCMC_samples_pi.txt already exists!!! It is overwritten by the new output.\u001b[39m\n",
      "\u001b[1m\u001b[33mWARNING: \u001b[39m\u001b[22m\u001b[33mThe file MCMC_samples_x2_variances.txt already exists!!! It is overwritten by the new output.\u001b[39m\n",
      "\u001b[1m\u001b[33mWARNING: \u001b[39m\u001b[22m\u001b[33mThe file MCMC_samples_ϵ_variances.txt already exists!!! It is overwritten by the new output.\u001b[39m\n",
      "\u001b[32mrunning MCMC for BayesC...100%|█████████████████████████| Time: 0:00:01\u001b[39m\n"
     ]
    }
   ],
   "source": [
    "outputMCMCsamples(model1,\"x2\")\n",
    "out1=runMCMC(model1,phenotypes,methods=\"BayesC\",estimatePi=true,single_step_analysis=true,pedigree=pedigree,chain_length=5000,output_samples_frequency=100);"
   ]
  },
  {
   "cell_type": "markdown",
   "metadata": {},
   "source": [
    "<button type=\"button\" class=\"btn btn-lg btn-primary\">Check Results</button> "
   ]
  },
  {
   "cell_type": "code",
   "execution_count": 12,
   "metadata": {},
   "outputs": [
    {
     "data": {
      "text/plain": [
       "0.48397016611142374"
      ]
     },
     "execution_count": 12,
     "metadata": {},
     "output_type": "execute_result"
    }
   ],
   "source": [
    "out1[\"Posterior mean of Pi\"]"
   ]
  },
  {
   "cell_type": "code",
   "execution_count": 36,
   "metadata": {},
   "outputs": [
    {
     "data": {
      "text/plain": [
       "37×2 Array{Any,2}:\n",
       " \"1:intercept : intercept\"  -12.8387   \n",
       " \"1:x1*x3 : x1 * m\"          -3.79852  \n",
       " \"1:x1*x3 : x1 * f\"           0.801257 \n",
       " \"1:x2 : 2\"                   0.226994 \n",
       " \"1:x2 : 1\"                  -0.255599 \n",
       " \"1:x3 : m\"                  20.0851   \n",
       " \"1:x3 : f\"                  15.308    \n",
       " \"1:ID : a12\"                 0.254401 \n",
       " \"1:ID : a10\"                -0.125304 \n",
       " \"1:ID : a11\"                -0.059143 \n",
       " \"1:ID : a2\"                 -0.0848801\n",
       " \"1:ID : a9\"                  0.0997279\n",
       " \"1:ID : a6\"                  0.318544 \n",
       " ⋮                                     \n",
       " \"1:dam : a7\"                -0.944983 \n",
       " \"1:dam : a3\"                -0.649777 \n",
       " \"1:dam : a8\"                -0.269806 \n",
       " \"1:dam : a1\"                -0.165287 \n",
       " \"1:dam : a5\"                 0.161601 \n",
       " \"1:dam : a4\"                -0.148299 \n",
       " \"1:ϵ : a12\"                  0.0899715\n",
       " \"1:ϵ : a10\"                 -0.392067 \n",
       " \"1:ϵ : a11\"                 -0.119267 \n",
       " \"1:ϵ : a2\"                  -0.0337624\n",
       " \"1:ϵ : a9\"                   0.14072  \n",
       " \"1:J : J\"                    5.54181  "
      ]
     },
     "execution_count": 36,
     "metadata": {},
     "output_type": "execute_result"
    }
   ],
   "source": [
    "res=out1[\"Posterior mean of location parameters\"]"
   ]
  },
  {
   "cell_type": "code",
   "execution_count": 38,
   "metadata": {},
   "outputs": [
    {
     "data": {
      "text/html": [
       "<table class=\"data-frame\"><thead><tr><th></th><th>x1</th><th>x2</th></tr></thead><tbody><tr><th>1</th><td>1:intercept : intercept</td><td>-12.8387</td></tr><tr><th>2</th><td>1:x1*x3 : x1 * m</td><td>-3.79852</td></tr><tr><th>3</th><td>1:x1*x3 : x1 * f</td><td>0.801257</td></tr><tr><th>4</th><td>1:x2 : 2</td><td>0.226994</td></tr><tr><th>5</th><td>1:x2 : 1</td><td>-0.255599</td></tr><tr><th>6</th><td>1:x3 : m</td><td>20.0851</td></tr><tr><th>7</th><td>1:x3 : f</td><td>15.308</td></tr><tr><th>8</th><td>1:ID : a12</td><td>0.254401</td></tr><tr><th>9</th><td>1:ID : a10</td><td>-0.125304</td></tr><tr><th>10</th><td>1:ID : a11</td><td>-0.059143</td></tr><tr><th>11</th><td>1:ID : a2</td><td>-0.0848801</td></tr><tr><th>12</th><td>1:ID : a9</td><td>0.0997279</td></tr><tr><th>13</th><td>1:ID : a6</td><td>0.318544</td></tr><tr><th>14</th><td>1:ID : a7</td><td>0.0876654</td></tr><tr><th>15</th><td>1:ID : a3</td><td>0.0904477</td></tr><tr><th>16</th><td>1:ID : a8</td><td>0.0591145</td></tr><tr><th>17</th><td>1:ID : a1</td><td>0.526759</td></tr><tr><th>18</th><td>1:ID : a5</td><td>0.561239</td></tr><tr><th>19</th><td>1:ID : a4</td><td>-0.219742</td></tr><tr><th>20</th><td>1:dam : a12</td><td>-0.164979</td></tr><tr><th>21</th><td>1:dam : a10</td><td>-0.0103924</td></tr><tr><th>22</th><td>1:dam : a11</td><td>-0.266194</td></tr><tr><th>23</th><td>1:dam : a2</td><td>-0.122193</td></tr><tr><th>24</th><td>1:dam : a9</td><td>-0.37104</td></tr><tr><th>25</th><td>1:dam : a6</td><td>-0.36245</td></tr><tr><th>26</th><td>1:dam : a7</td><td>-0.944983</td></tr><tr><th>27</th><td>1:dam : a3</td><td>-0.649777</td></tr><tr><th>28</th><td>1:dam : a8</td><td>-0.269806</td></tr><tr><th>29</th><td>1:dam : a1</td><td>-0.165287</td></tr><tr><th>30</th><td>1:dam : a5</td><td>0.161601</td></tr><tr><th>&vellip;</th><td>&vellip;</td><td>&vellip;</td></tr></tbody></table>"
      ],
      "text/plain": [
       "37×2 DataFrames.DataFrame\n",
       "│ Row │ x1                      │ x2         │\n",
       "├─────┼─────────────────────────┼────────────┤\n",
       "│ 1   │ 1:intercept : intercept │ -12.8387   │\n",
       "│ 2   │ 1:x1*x3 : x1 * m        │ -3.79852   │\n",
       "│ 3   │ 1:x1*x3 : x1 * f        │ 0.801257   │\n",
       "│ 4   │ 1:x2 : 2                │ 0.226994   │\n",
       "│ 5   │ 1:x2 : 1                │ -0.255599  │\n",
       "│ 6   │ 1:x3 : m                │ 20.0851    │\n",
       "│ 7   │ 1:x3 : f                │ 15.308     │\n",
       "│ 8   │ 1:ID : a12              │ 0.254401   │\n",
       "│ 9   │ 1:ID : a10              │ -0.125304  │\n",
       "│ 10  │ 1:ID : a11              │ -0.059143  │\n",
       "│ 11  │ 1:ID : a2               │ -0.0848801 │\n",
       "⋮\n",
       "│ 26  │ 1:dam : a7              │ -0.944983  │\n",
       "│ 27  │ 1:dam : a3              │ -0.649777  │\n",
       "│ 28  │ 1:dam : a8              │ -0.269806  │\n",
       "│ 29  │ 1:dam : a1              │ -0.165287  │\n",
       "│ 30  │ 1:dam : a5              │ 0.161601   │\n",
       "│ 31  │ 1:dam : a4              │ -0.148299  │\n",
       "│ 32  │ 1:ϵ : a12               │ 0.0899715  │\n",
       "│ 33  │ 1:ϵ : a10               │ -0.392067  │\n",
       "│ 34  │ 1:ϵ : a11               │ -0.119267  │\n",
       "│ 35  │ 1:ϵ : a2                │ -0.0337624 │\n",
       "│ 36  │ 1:ϵ : a9                │ 0.14072    │\n",
       "│ 37  │ 1:J : J                 │ 5.54181    │"
      ]
     },
     "execution_count": 38,
     "metadata": {},
     "output_type": "execute_result"
    }
   ],
   "source": [
    "convert(DataFrame,res)"
   ]
  },
  {
   "cell_type": "markdown",
   "metadata": {},
   "source": [
    "<div class=\"span5 alert alert-success\">\n",
    " <font size=\"5\" face=\"Georgia\">Multi-trait Single-step Bayesian Regression (Incomplete Genomic Data)</font> \n",
    "</div>"
   ]
  },
  {
   "cell_type": "markdown",
   "metadata": {},
   "source": [
    "<button type=\"button\" class=\"btn btn-lg btn-primary\">Step 3: Build Model Equations</button> "
   ]
  },
  {
   "cell_type": "code",
   "execution_count": 15,
   "metadata": {},
   "outputs": [],
   "source": [
    "model_equation2 =\"y1 = intercept + x1 + x3 + ID + dam\n",
    "                  y2 = intercept + x1 + x2 + x3 + ID\n",
    "                  y3 = intercept + x1 + x1*x3 + x2 + ID\";"
   ]
  },
  {
   "cell_type": "code",
   "execution_count": 16,
   "metadata": {},
   "outputs": [],
   "source": [
    "R      = eye(3)\n",
    "model2 = build_model(model_equation2,R);"
   ]
  },
  {
   "cell_type": "markdown",
   "metadata": {},
   "source": [
    "<button type=\"button\" class=\"btn btn-lg btn-primary\">Step 4: Set Factors or Covariates</button> "
   ]
  },
  {
   "cell_type": "code",
   "execution_count": 17,
   "metadata": {},
   "outputs": [],
   "source": [
    "set_covariate(model2,\"x1\");"
   ]
  },
  {
   "cell_type": "markdown",
   "metadata": {},
   "source": [
    "<button type=\"button\" class=\"btn btn-lg btn-primary\">Step 5: Set Random or Fixed Effects</button> "
   ]
  },
  {
   "cell_type": "code",
   "execution_count": 18,
   "metadata": {},
   "outputs": [
    {
     "name": "stderr",
     "output_type": "stream",
     "text": [
      "\u001b[1m\u001b[36mINFO: \u001b[39m\u001b[22m\u001b[36mx2 is not found in model equation 1.\n",
      "\u001b[39m\u001b[1m\u001b[36mINFO: \u001b[39m\u001b[22m\u001b[36mdam is not found in model equation 2.\n",
      "\u001b[39m\u001b[1m\u001b[36mINFO: \u001b[39m\u001b[22m\u001b[36mdam is not found in model equation 3.\n",
      "\u001b[39m"
     ]
    }
   ],
   "source": [
    "G1 = eye(2)\n",
    "G2 = eye(4)\n",
    "set_random(model2,\"x2\",G1);\n",
    "set_random(model2,\"ID dam\",pedigree,G2);"
   ]
  },
  {
   "cell_type": "markdown",
   "metadata": {},
   "source": [
    "<button type=\"button\" class=\"btn btn-lg btn-primary\">Step 6: Use Genomic Information</button> "
   ]
  },
  {
   "cell_type": "code",
   "execution_count": 19,
   "metadata": {},
   "outputs": [
    {
     "name": "stdout",
     "output_type": "stream",
     "text": [
      "5 markers on 7 individuals were added.\n"
     ]
    }
   ],
   "source": [
    "G3 = eye(3)\n",
    "add_genotypes(model2,genofile,G3,separator=',');"
   ]
  },
  {
   "cell_type": "markdown",
   "metadata": {},
   "source": [
    "<button type=\"button\" class=\"btn btn-lg btn-primary\">Step 7: Run Analysis</button> "
   ]
  },
  {
   "cell_type": "code",
   "execution_count": 20,
   "metadata": {},
   "outputs": [
    {
     "name": "stderr",
     "output_type": "stream",
     "text": [
      "\u001b[1m\u001b[36mINFO: \u001b[39m\u001b[22m\u001b[36mPi (Π) is not provided.\n",
      "\u001b[39m\u001b[1m\u001b[36mINFO: \u001b[39m\u001b[22m\u001b[36mPi (Π) is generated assuming all markers have effects on all traits.\n",
      "\u001b[39m"
     ]
    },
    {
     "name": "stdout",
     "output_type": "stream",
     "text": [
      "\n",
      "The prior for marker effects covariance matrix is calculated from \n",
      "genetic covariance matrix and Π. The prior for the marker effects \n",
      "covariance matrix is: \n",
      "\n",
      " 0.492462  0.0       0.0     \n",
      " 0.0       0.492462  0.0     \n",
      " 0.0       0.0       0.492462\n",
      "\n",
      "\n",
      "A Linear Mixed Model was build using model equations:\n",
      "\n",
      "y1 = intercept + x1 + x3 + ID + dam\n",
      "y2 = intercept + x1 + x2 + x3 + ID\n",
      "y3 = intercept + x1 + x1*x3 + x2 + ID\n",
      "\n",
      "Model Information:\n",
      "\n",
      "Term            C/F          F/R            nLevels\n",
      "intercept       factor       fixed                1\n",
      "x1              covariate    fixed                1\n",
      "x3              factor       fixed                2\n",
      "ID              factor       random              12\n",
      "dam             factor       random              12\n",
      "x2              factor       random               2\n",
      "x1*x3           interaction  fixed                2\n",
      "ϵ               factor       random               5\n",
      "J               covariate    fixed                1\n",
      "\n",
      "MCMC Information:\n",
      "\n",
      "methods                                      BayesC\n",
      "chain_length                                   5000\n",
      "burnin                                            0\n",
      "estimatePi                                     true\n",
      "starting_value                                 true\n",
      "printout_frequency                             5001\n",
      "output_samples_frequency                        100\n",
      "constraint                                    false\n",
      "missing_phenotypes                            false\n",
      "update_priors_frequency                           0\n",
      "\n",
      "Hyper-parameters Information: \n",
      "\n",
      "random effect variances (x2): \n",
      " 1.0  0.0\n",
      " 0.0  1.0\n",
      "random effect variances (ϵ):  \n",
      " 1.0  0.0  0.0\n",
      " 0.0  1.0  0.0\n",
      " 0.0  0.0  1.0\n",
      "residual variances:           \n",
      " 1.0  0.0  0.0\n",
      " 0.0  1.0  0.0\n",
      " 0.0  0.0  1.0\n",
      "genetic variances (polygenic):\n",
      " 1.0  0.0  0.0  0.0\n",
      " 0.0  1.0  0.0  0.0\n",
      " 0.0  0.0  1.0  0.0\n",
      " 0.0  0.0  0.0  1.0\n",
      "genetic variances (genomic):  \n",
      " 0.492  0.0    0.0  \n",
      " 0.0    0.492  0.0  \n",
      " 0.0    0.0    0.492\n",
      "marker effect variances:      \n",
      " 0.492  0.0    0.0  \n",
      " 0.0    0.492  0.0  \n",
      " 0.0    0.0    0.492\n",
      "Π:\n",
      "combinations          probability\n",
      "[1.0, 0.0, 1.0]               0.0\n",
      "[0.0, 0.0, 1.0]               0.0\n",
      "[0.0, 1.0, 1.0]               0.0\n",
      "[1.0, 1.0, 0.0]               0.0\n",
      "[0.0, 0.0, 0.0]               0.0\n",
      "[0.0, 1.0, 0.0]               0.0\n",
      "[1.0, 0.0, 0.0]               0.0\n",
      "[1.0, 1.0, 1.0]               1.0\n",
      "\n",
      "Degree of freedom for hyper-parameters:\n",
      "\n",
      "residual variances:                           4.000\n",
      "iid random effect variances:                  4.000\n",
      "polygenic effect variances:                   4.000\n",
      "marker effect variances:                      4.000\n",
      "\n",
      "\n",
      "\n"
     ]
    },
    {
     "name": "stderr",
     "output_type": "stream",
     "text": [
      "\u001b[1m\u001b[33mWARNING: \u001b[39m\u001b[22m\u001b[33mThe file MCMC_samples_residual_variance.txt already exists!!! It is overwritten by the new output.\u001b[39m\n",
      "\u001b[1m\u001b[33mWARNING: \u001b[39m\u001b[22m\u001b[33mThe file MCMC_samples_polygenic_effects_variance.txt already exists!!! It is overwritten by the new output.\u001b[39m\n",
      "\u001b[1m\u001b[33mWARNING: \u001b[39m\u001b[22m\u001b[33mThe file MCMC_samples_marker_effects_y1.txt already exists!!! It is overwritten by the new output.\u001b[39m\n",
      "\u001b[1m\u001b[33mWARNING: \u001b[39m\u001b[22m\u001b[33mThe file MCMC_samples_marker_effects_y2.txt already exists!!! It is overwritten by the new output.\u001b[39m\n",
      "\u001b[1m\u001b[33mWARNING: \u001b[39m\u001b[22m\u001b[33mThe file MCMC_samples_marker_effects_y3.txt already exists!!! It is overwritten by the new output.\u001b[39m\n",
      "\u001b[1m\u001b[33mWARNING: \u001b[39m\u001b[22m\u001b[33mThe file MCMC_samples_marker_effects_variances.txt already exists!!! It is overwritten by the new output.\u001b[39m\n",
      "\u001b[1m\u001b[33mWARNING: \u001b[39m\u001b[22m\u001b[33mThe file MCMC_samples_pi.txt already exists!!! It is overwritten by the new output.\u001b[39m\n",
      "\u001b[1m\u001b[33mWARNING: \u001b[39m\u001b[22m\u001b[33mThe file MCMC_samples_x2_variances.txt already exists!!! It is overwritten by the new output.\u001b[39m\n",
      "\u001b[1m\u001b[33mWARNING: \u001b[39m\u001b[22m\u001b[33mThe file MCMC_samples_ϵ_variances.txt already exists!!! It is overwritten by the new output.\u001b[39m\n",
      "\u001b[32mrunning MCMC for BayesC...100%|█████████████████████████| Time: 0:00:05\u001b[39m\n"
     ]
    }
   ],
   "source": [
    "outputMCMCsamples(model2,\"x2\")\n",
    "out2=runMCMC(model2,phenotypes,methods=\"BayesC\",estimatePi=true,single_step_analysis=true,pedigree=pedigree,chain_length=5000,output_samples_frequency=100);"
   ]
  },
  {
   "cell_type": "markdown",
   "metadata": {},
   "source": [
    "<button type=\"button\" class=\"btn btn-lg btn-primary\">Check Results</button> "
   ]
  },
  {
   "cell_type": "code",
   "execution_count": 21,
   "metadata": {},
   "outputs": [
    {
     "data": {
      "text/plain": [
       "Base.KeyIterator for a Dict{Any,Any} with 10 entries. Keys:\n",
       "  \"Posterior mean of polygenic effects covariance matrix\"\n",
       "  \"Model frequency\"\n",
       "  \"Posterior mean of residual covariance matrix\"\n",
       "  \"Posterior mean of marker effects\"\n",
       "  \"Posterior mean of marker effects covariance matrix\"\n",
       "  \"EBV_y1\"\n",
       "  \"EBV_y2\"\n",
       "  \"EBV_y3\"\n",
       "  \"Posterior mean of location parameters\"\n",
       "  \"Posterior mean of Pi\""
      ]
     },
     "execution_count": 21,
     "metadata": {},
     "output_type": "execute_result"
    }
   ],
   "source": [
    "keys(out2)"
   ]
  },
  {
   "cell_type": "code",
   "execution_count": 22,
   "metadata": {},
   "outputs": [
    {
     "data": {
      "text/plain": [
       "Dict{Array{Float64,1},Float64} with 8 entries:\n",
       "  [1.0, 0.0, 1.0] => 0.123901\n",
       "  [0.0, 0.0, 1.0] => 0.128251\n",
       "  [0.0, 1.0, 1.0] => 0.119375\n",
       "  [1.0, 1.0, 0.0] => 0.131305\n",
       "  [0.0, 0.0, 0.0] => 0.125698\n",
       "  [0.0, 1.0, 0.0] => 0.121291\n",
       "  [1.0, 0.0, 0.0] => 0.129121\n",
       "  [1.0, 1.0, 1.0] => 0.121058"
      ]
     },
     "execution_count": 22,
     "metadata": {},
     "output_type": "execute_result"
    }
   ],
   "source": [
    "out2[\"Posterior mean of Pi\"]"
   ]
  },
  {
   "cell_type": "code",
   "execution_count": 23,
   "metadata": {},
   "outputs": [
    {
     "data": {
      "text/plain": [
       "10-element Array{Float64,1}:\n",
       "  0.732419 \n",
       " -0.205542 \n",
       "  0.424181 \n",
       " -0.0536685\n",
       "  0.385955 \n",
       "  1.7495   \n",
       " -1.56113  \n",
       " -0.0282286\n",
       "  1.65375  \n",
       " -0.544697 "
      ]
     },
     "execution_count": 23,
     "metadata": {},
     "output_type": "execute_result"
    }
   ],
   "source": [
    "a=randn(10)"
   ]
  },
  {
   "cell_type": "code",
   "execution_count": 24,
   "metadata": {},
   "outputs": [
    {
     "data": {
      "text/plain": [
       "10-element Array{Float64,1}:\n",
       "  0.732419 \n",
       " -0.205542 \n",
       "  0.424181 \n",
       " -0.0536685\n",
       "  0.385955 \n",
       "  1.7495   \n",
       " -1.56113  \n",
       " -0.0282286\n",
       "  1.65375  \n",
       " -0.544697 "
      ]
     },
     "execution_count": 24,
     "metadata": {},
     "output_type": "execute_result"
    }
   ],
   "source": [
    "b=a"
   ]
  },
  {
   "cell_type": "code",
   "execution_count": 143,
   "metadata": {},
   "outputs": [
    {
     "data": {
      "text/plain": [
       "82-element Array{Float64,1}:\n",
       "  13.4964   \n",
       "   0.712683 \n",
       "  -8.0825   \n",
       " -10.0853   \n",
       "   0.221651 \n",
       "  -0.037391 \n",
       "   0.0561244\n",
       "  -0.0985782\n",
       "   0.0754944\n",
       "   0.180056 \n",
       "  -0.0176215\n",
       "   0.0858479\n",
       "  -0.0476729\n",
       "   ⋮        \n",
       "   0.317737 \n",
       "  -0.0382785\n",
       "   0.230667 \n",
       "  -0.335866 \n",
       "   0.0101171\n",
       "   0.208554 \n",
       "   0.0624572\n",
       "   0.0964736\n",
       "  -0.0533304\n",
       "   6.35545  \n",
       "  -0.830931 \n",
       "   1.05116  "
      ]
     },
     "execution_count": 143,
     "metadata": {},
     "output_type": "execute_result"
    }
   ],
   "source": [
    "map(Float64,res[:,2])"
   ]
  },
  {
   "cell_type": "code",
   "execution_count": 97,
   "metadata": {},
   "outputs": [
    {
     "data": {
      "text/plain": [
       "82×2 Array{Any,2}:\n",
       " \"1:intercept : intercept\"   13.4964   \n",
       " \"1:x1 : x1\"                  0.712683 \n",
       " \"1:x3 : m\"                  -8.0825   \n",
       " \"1:x3 : f\"                 -10.0853   \n",
       " \"1:ID : a12\"                 0.221651 \n",
       " \"1:ID : a10\"                -0.037391 \n",
       " \"1:ID : a11\"                 0.0561244\n",
       " \"1:ID : a2\"                 -0.0985782\n",
       " \"1:ID : a9\"                  0.0754944\n",
       " \"1:ID : a6\"                  0.180056 \n",
       " \"1:ID : a7\"                 -0.0176215\n",
       " \"1:ID : a3\"                  0.0858479\n",
       " \"1:ID : a8\"                 -0.0476729\n",
       " ⋮                                     \n",
       " \"2:ϵ : a10\"                  0.317737 \n",
       " \"2:ϵ : a11\"                 -0.0382785\n",
       " \"2:ϵ : a2\"                   0.230667 \n",
       " \"2:ϵ : a9\"                  -0.335866 \n",
       " \"3:ϵ : a12\"                  0.0101171\n",
       " \"3:ϵ : a10\"                  0.208554 \n",
       " \"3:ϵ : a11\"                  0.0624572\n",
       " \"3:ϵ : a2\"                   0.0964736\n",
       " \"3:ϵ : a9\"                  -0.0533304\n",
       " \"1:J : J\"                    6.35545  \n",
       " \"2:J : J\"                   -0.830931 \n",
       " \"3:J : J\"                    1.05116  "
      ]
     },
     "execution_count": 97,
     "metadata": {},
     "output_type": "execute_result"
    }
   ],
   "source": [
    "res=out2[\"Posterior mean of location parameters\"]"
   ]
  },
  {
   "cell_type": "code",
   "execution_count": 141,
   "metadata": {},
   "outputs": [
    {
     "name": "stdout",
     "output_type": "stream",
     "text": [
      "search: \u001b[1mD\u001b[22m\u001b[1ma\u001b[22m\u001b[1mt\u001b[22m\u001b[1ma\u001b[22m\u001b[1mF\u001b[22m\u001b[1mr\u001b[22m\u001b[1ma\u001b[22m\u001b[1mm\u001b[22m\u001b[1me\u001b[22m \u001b[1mD\u001b[22m\u001b[1ma\u001b[22m\u001b[1mt\u001b[22m\u001b[1ma\u001b[22m\u001b[1mF\u001b[22m\u001b[1mr\u001b[22m\u001b[1ma\u001b[22m\u001b[1mm\u001b[22m\u001b[1me\u001b[22ms \u001b[1mD\u001b[22m\u001b[1ma\u001b[22m\u001b[1mt\u001b[22m\u001b[1ma\u001b[22m\u001b[1mF\u001b[22m\u001b[1mr\u001b[22m\u001b[1ma\u001b[22m\u001b[1mm\u001b[22m\u001b[1me\u001b[22mRow Sub\u001b[1mD\u001b[22m\u001b[1ma\u001b[22m\u001b[1mt\u001b[22m\u001b[1ma\u001b[22m\u001b[1mF\u001b[22m\u001b[1mr\u001b[22m\u001b[1ma\u001b[22m\u001b[1mm\u001b[22m\u001b[1me\u001b[22m Groupe\u001b[1md\u001b[22mD\u001b[1ma\u001b[22m\u001b[1mt\u001b[22m\u001b[1ma\u001b[22m\u001b[1mF\u001b[22m\u001b[1mr\u001b[22m\u001b[1ma\u001b[22m\u001b[1mm\u001b[22m\u001b[1me\u001b[22m\n",
      "\n"
     ]
    },
    {
     "data": {
      "text/markdown": [
       "An AbstractDataFrame that stores a set of named columns\n",
       "\n",
       "The columns are normally AbstractVectors stored in memory, particularly a Vector or CategoricalVector.\n",
       "\n",
       "**Constructors**\n",
       "\n",
       "```julia\n",
       "DataFrame(columns::Vector, names::Vector{Symbol}; makeunique::Bool=false)\n",
       "DataFrame(columns::Matrix, names::Vector{Symbol}; makeunique::Bool=false)\n",
       "DataFrame(kwargs...)\n",
       "DataFrame(pairs::Pair{Symbol}...; makeunique::Bool=false)\n",
       "DataFrame() # an empty DataFrame\n",
       "DataFrame(t::Type, nrows::Integer, ncols::Integer) # an empty DataFrame of arbitrary size\n",
       "DataFrame(column_eltypes::Vector, names::Vector, nrows::Integer; makeunique::Bool=false)\n",
       "DataFrame(column_eltypes::Vector, cnames::Vector, categorical::Vector, nrows::Integer;\n",
       "          makeunique::Bool=false)\n",
       "DataFrame(ds::AbstractDict)\n",
       "```\n",
       "\n",
       "**Arguments**\n",
       "\n",
       "  * `columns` : a Vector with each column as contents or a Matrix\n",
       "  * `names` : the column names\n",
       "  * `makeunique` : if `false` (the default), an error will be raised if duplicates in `names` are found; if `true`, duplicate names will be suffixed with `_i` (`i` starting at 1 for the first duplicate).\n",
       "  * `kwargs` : the key gives the column names, and the value is the column contents\n",
       "  * `t` : elemental type of all columns\n",
       "  * `nrows`, `ncols` : number of rows and columns\n",
       "  * `column_eltypes` : elemental type of each column\n",
       "  * `categorical` : `Vector{Bool}` indicating which columns should be converted to                 `CategoricalVector`\n",
       "  * `ds` : `AbstractDict` of columns\n",
       "\n",
       "Each column in `columns` should be the same length.\n",
       "\n",
       "**Notes**\n",
       "\n",
       "A `DataFrame` is a lightweight object. As long as columns are not manipulated, creation of a `DataFrame` from existing AbstractVectors is inexpensive. For example, indexing on columns is inexpensive, but indexing by rows is expensive because copies are made of each column.\n",
       "\n",
       "If a column is passed to a `DataFrame` constructor or is assigned as a whole using `setindex!` then its reference is stored in the `DataFrame`. An exception to this rule is assignment of an `AbstractRange` as a column, in which case the range is collected to a `Vector`.\n",
       "\n",
       "Because column types can vary, a `DataFrame` is not type stable. For performance-critical code, do not index into a `DataFrame` inside of loops.\n",
       "\n",
       "**Examples**\n",
       "\n",
       "```julia\n",
       "df = DataFrame()\n",
       "v = [\"x\",\"y\",\"z\"][rand(1:3, 10)]\n",
       "df1 = DataFrame(Any[collect(1:10), v, rand(10)], [:A, :B, :C])\n",
       "df2 = DataFrame(A = 1:10, B = v, C = rand(10))\n",
       "dump(df1)\n",
       "dump(df2)\n",
       "describe(df2)\n",
       "head(df1)\n",
       "df1[:A] + df2[:C]\n",
       "df1[1:4, 1:2]\n",
       "df1[[:A,:C]]\n",
       "df1[1:2, [:A,:C]]\n",
       "df1[:, [:A,:C]]\n",
       "df1[:, [1,3]]\n",
       "df1[1:4, :]\n",
       "df1[1:4, :C]\n",
       "df1[1:4, :C] = 40. * df1[1:4, :C]\n",
       "[df1; df2]  # vcat\n",
       "[df1  df2]  # hcat\n",
       "size(df1)\n",
       "```\n"
      ],
      "text/plain": [
       "An AbstractDataFrame that stores a set of named columns\n",
       "\n",
       "The columns are normally AbstractVectors stored in memory, particularly a Vector or CategoricalVector.\n",
       "\n",
       "**Constructors**\n",
       "\n",
       "```julia\n",
       "DataFrame(columns::Vector, names::Vector{Symbol}; makeunique::Bool=false)\n",
       "DataFrame(columns::Matrix, names::Vector{Symbol}; makeunique::Bool=false)\n",
       "DataFrame(kwargs...)\n",
       "DataFrame(pairs::Pair{Symbol}...; makeunique::Bool=false)\n",
       "DataFrame() # an empty DataFrame\n",
       "DataFrame(t::Type, nrows::Integer, ncols::Integer) # an empty DataFrame of arbitrary size\n",
       "DataFrame(column_eltypes::Vector, names::Vector, nrows::Integer; makeunique::Bool=false)\n",
       "DataFrame(column_eltypes::Vector, cnames::Vector, categorical::Vector, nrows::Integer;\n",
       "          makeunique::Bool=false)\n",
       "DataFrame(ds::AbstractDict)\n",
       "```\n",
       "\n",
       "**Arguments**\n",
       "\n",
       "  * `columns` : a Vector with each column as contents or a Matrix\n",
       "  * `names` : the column names\n",
       "  * `makeunique` : if `false` (the default), an error will be raised if duplicates in `names` are found; if `true`, duplicate names will be suffixed with `_i` (`i` starting at 1 for the first duplicate).\n",
       "  * `kwargs` : the key gives the column names, and the value is the column contents\n",
       "  * `t` : elemental type of all columns\n",
       "  * `nrows`, `ncols` : number of rows and columns\n",
       "  * `column_eltypes` : elemental type of each column\n",
       "  * `categorical` : `Vector{Bool}` indicating which columns should be converted to                 `CategoricalVector`\n",
       "  * `ds` : `AbstractDict` of columns\n",
       "\n",
       "Each column in `columns` should be the same length.\n",
       "\n",
       "**Notes**\n",
       "\n",
       "A `DataFrame` is a lightweight object. As long as columns are not manipulated, creation of a `DataFrame` from existing AbstractVectors is inexpensive. For example, indexing on columns is inexpensive, but indexing by rows is expensive because copies are made of each column.\n",
       "\n",
       "If a column is passed to a `DataFrame` constructor or is assigned as a whole using `setindex!` then its reference is stored in the `DataFrame`. An exception to this rule is assignment of an `AbstractRange` as a column, in which case the range is collected to a `Vector`.\n",
       "\n",
       "Because column types can vary, a `DataFrame` is not type stable. For performance-critical code, do not index into a `DataFrame` inside of loops.\n",
       "\n",
       "**Examples**\n",
       "\n",
       "```julia\n",
       "df = DataFrame()\n",
       "v = [\"x\",\"y\",\"z\"][rand(1:3, 10)]\n",
       "df1 = DataFrame(Any[collect(1:10), v, rand(10)], [:A, :B, :C])\n",
       "df2 = DataFrame(A = 1:10, B = v, C = rand(10))\n",
       "dump(df1)\n",
       "dump(df2)\n",
       "describe(df2)\n",
       "head(df1)\n",
       "df1[:A] + df2[:C]\n",
       "df1[1:4, 1:2]\n",
       "df1[[:A,:C]]\n",
       "df1[1:2, [:A,:C]]\n",
       "df1[:, [:A,:C]]\n",
       "df1[:, [1,3]]\n",
       "df1[1:4, :]\n",
       "df1[1:4, :C]\n",
       "df1[1:4, :C] = 40. * df1[1:4, :C]\n",
       "[df1; df2]  # vcat\n",
       "[df1  df2]  # hcat\n",
       "size(df1)\n",
       "```\n"
      ]
     },
     "execution_count": 141,
     "metadata": {},
     "output_type": "execute_result"
    }
   ],
   "source": [
    "?DataFrame"
   ]
  },
  {
   "cell_type": "code",
   "execution_count": 138,
   "metadata": {},
   "outputs": [
    {
     "ename": "LoadError",
     "evalue": "\u001b[91mMethodError: no method matching &(::String, ::Array{Any,1})\u001b[0m\nClosest candidates are:\n  &(::Any, ::Any, \u001b[91m::Any\u001b[39m, \u001b[91m::Any...\u001b[39m) at operators.jl:424\n  &(\u001b[91m::Number\u001b[39m, ::AbstractArray) at deprecated.jl:56\n  &(\u001b[91m::AbstractArray\u001b[39m, ::AbstractArray) at deprecated.jl:56\u001b[39m",
     "output_type": "error",
     "traceback": [
      "\u001b[91mMethodError: no method matching &(::String, ::Array{Any,1})\u001b[0m\nClosest candidates are:\n  &(::Any, ::Any, \u001b[91m::Any\u001b[39m, \u001b[91m::Any...\u001b[39m) at operators.jl:424\n  &(\u001b[91m::Number\u001b[39m, ::AbstractArray) at deprecated.jl:56\n  &(\u001b[91m::AbstractArray\u001b[39m, ::AbstractArray) at deprecated.jl:56\u001b[39m",
      ""
     ]
    }
   ],
   "source": [
    "out[out[:Trait].==\"1\"&out[:Effect].==\"ϵ\" ,:]"
   ]
  },
  {
   "cell_type": "code",
   "execution_count": 108,
   "metadata": {},
   "outputs": [
    {
     "data": {
      "text/html": [
       "<table class=\"data-frame\"><thead><tr><th></th><th>x1</th><th>x2</th><th>x3</th><th>x4</th></tr></thead><tbody><tr><th>1</th><td>Trait</td><td>Effect</td><td>Level</td><td>Estimate</td></tr><tr><th>2</th><td>1</td><td>intercept</td><td>intercept</td><td>13.4964</td></tr><tr><th>3</th><td>1</td><td>x1</td><td>x1</td><td>0.712683</td></tr><tr><th>4</th><td>1</td><td>x3</td><td>m</td><td>-8.0825</td></tr><tr><th>5</th><td>1</td><td>x3</td><td>f</td><td>-10.0853</td></tr><tr><th>6</th><td>1</td><td>ID</td><td>a12</td><td>0.221651</td></tr><tr><th>7</th><td>1</td><td>ID</td><td>a10</td><td>-0.037391</td></tr><tr><th>8</th><td>1</td><td>ID</td><td>a11</td><td>0.0561244</td></tr><tr><th>9</th><td>1</td><td>ID</td><td>a2</td><td>-0.0985782</td></tr><tr><th>10</th><td>1</td><td>ID</td><td>a9</td><td>0.0754944</td></tr><tr><th>11</th><td>1</td><td>ID</td><td>a6</td><td>0.180056</td></tr><tr><th>12</th><td>1</td><td>ID</td><td>a7</td><td>-0.0176215</td></tr><tr><th>13</th><td>1</td><td>ID</td><td>a3</td><td>0.0858479</td></tr><tr><th>14</th><td>1</td><td>ID</td><td>a8</td><td>-0.0476729</td></tr><tr><th>15</th><td>1</td><td>ID</td><td>a1</td><td>-0.00141359</td></tr><tr><th>16</th><td>1</td><td>ID</td><td>a5</td><td>0.292997</td></tr><tr><th>17</th><td>1</td><td>ID</td><td>a4</td><td>-0.289516</td></tr><tr><th>18</th><td>1</td><td>dam</td><td>a12</td><td>0.131736</td></tr><tr><th>19</th><td>1</td><td>dam</td><td>a10</td><td>0.172466</td></tr><tr><th>20</th><td>1</td><td>dam</td><td>a11</td><td>0.144829</td></tr><tr><th>21</th><td>1</td><td>dam</td><td>a2</td><td>0.309245</td></tr><tr><th>22</th><td>1</td><td>dam</td><td>a9</td><td>0.101539</td></tr><tr><th>23</th><td>1</td><td>dam</td><td>a6</td><td>-0.00629704</td></tr><tr><th>24</th><td>1</td><td>dam</td><td>a7</td><td>-0.119601</td></tr><tr><th>25</th><td>1</td><td>dam</td><td>a3</td><td>-0.0553698</td></tr><tr><th>26</th><td>1</td><td>dam</td><td>a8</td><td>0.0708276</td></tr><tr><th>27</th><td>1</td><td>dam</td><td>a1</td><td>-0.00369073</td></tr><tr><th>28</th><td>1</td><td>dam</td><td>a5</td><td>0.185723</td></tr><tr><th>29</th><td>1</td><td>dam</td><td>a4</td><td>0.174134</td></tr><tr><th>30</th><td>2</td><td>intercept</td><td>intercept</td><td>16.0637</td></tr><tr><th>&vellip;</th><td>&vellip;</td><td>&vellip;</td><td>&vellip;</td><td>&vellip;</td></tr></tbody></table>"
      ],
      "text/plain": [
       "83×4 DataFrames.DataFrame\n",
       "│ Row │ x1    │ x2        │ x3        │ x4         │\n",
       "├─────┼───────┼───────────┼───────────┼────────────┤\n",
       "│ 1   │ Trait │ Effect    │ Level     │ Estimate   │\n",
       "│ 2   │ 1     │ intercept │ intercept │ 13.4964    │\n",
       "│ 3   │ 1     │ x1        │ x1        │ 0.712683   │\n",
       "│ 4   │ 1     │ x3        │ m         │ -8.0825    │\n",
       "│ 5   │ 1     │ x3        │ f         │ -10.0853   │\n",
       "│ 6   │ 1     │ ID        │ a12       │ 0.221651   │\n",
       "│ 7   │ 1     │ ID        │ a10       │ -0.037391  │\n",
       "│ 8   │ 1     │ ID        │ a11       │ 0.0561244  │\n",
       "│ 9   │ 1     │ ID        │ a2        │ -0.0985782 │\n",
       "│ 10  │ 1     │ ID        │ a9        │ 0.0754944  │\n",
       "│ 11  │ 1     │ ID        │ a6        │ 0.180056   │\n",
       "⋮\n",
       "│ 72  │ 2     │ ϵ         │ a10       │ 0.317737   │\n",
       "│ 73  │ 2     │ ϵ         │ a11       │ -0.0382785 │\n",
       "│ 74  │ 2     │ ϵ         │ a2        │ 0.230667   │\n",
       "│ 75  │ 2     │ ϵ         │ a9        │ -0.335866  │\n",
       "│ 76  │ 3     │ ϵ         │ a12       │ 0.0101171  │\n",
       "│ 77  │ 3     │ ϵ         │ a10       │ 0.208554   │\n",
       "│ 78  │ 3     │ ϵ         │ a11       │ 0.0624572  │\n",
       "│ 79  │ 3     │ ϵ         │ a2        │ 0.0964736  │\n",
       "│ 80  │ 3     │ ϵ         │ a9        │ -0.0533304 │\n",
       "│ 81  │ 1     │ J         │ J         │ 6.35545    │\n",
       "│ 82  │ 2     │ J         │ J         │ -0.830931  │\n",
       "│ 83  │ 3     │ J         │ J         │ 1.05116    │"
      ]
     },
     "execution_count": 108,
     "metadata": {},
     "output_type": "execute_result"
    }
   ],
   "source": [
    "DataFrame(out)"
   ]
  },
  {
   "cell_type": "code",
   "execution_count": 95,
   "metadata": {},
   "outputs": [
    {
     "name": "stdout",
     "output_type": "stream",
     "text": [
      "search: \u001b[1mp\u001b[22m\u001b[1me\u001b[22m\u001b[1mr\u001b[22m\u001b[1mm\u001b[22m\u001b[1mu\u001b[22m\u001b[1mt\u001b[22m\u001b[1me\u001b[22m\u001b[1md\u001b[22m\u001b[1mi\u001b[22m\u001b[1mm\u001b[22m\u001b[1ms\u001b[22m \u001b[1mp\u001b[22m\u001b[1me\u001b[22m\u001b[1mr\u001b[22m\u001b[1mm\u001b[22m\u001b[1mu\u001b[22m\u001b[1mt\u001b[22m\u001b[1me\u001b[22m\u001b[1md\u001b[22m\u001b[1mi\u001b[22m\u001b[1mm\u001b[22m\u001b[1ms\u001b[22m! i\u001b[1mp\u001b[22m\u001b[1me\u001b[22m\u001b[1mr\u001b[22m\u001b[1mm\u001b[22m\u001b[1mu\u001b[22m\u001b[1mt\u001b[22m\u001b[1me\u001b[22m\u001b[1md\u001b[22m\u001b[1mi\u001b[22m\u001b[1mm\u001b[22m\u001b[1ms\u001b[22m \u001b[1mP\u001b[22m\u001b[1me\u001b[22m\u001b[1mr\u001b[22m\u001b[1mm\u001b[22m\u001b[1mu\u001b[22m\u001b[1mt\u001b[22m\u001b[1me\u001b[22m\u001b[1md\u001b[22mD\u001b[1mi\u001b[22m\u001b[1mm\u001b[22m\u001b[1ms\u001b[22mArray\n",
      "\n"
     ]
    },
    {
     "data": {
      "text/markdown": [
       "```\n",
       "permutedims(A, perm)\n",
       "```\n",
       "\n",
       "Permute the dimensions of array `A`. `perm` is a vector specifying a permutation of length `ndims(A)`. This is a generalization of transpose for multi-dimensional arrays. Transpose is equivalent to `permutedims(A, [2,1])`.\n",
       "\n",
       "See also: [`PermutedDimsArray`](@ref).\n",
       "\n",
       "# Example\n",
       "\n",
       "```jldoctest\n",
       "julia> A = reshape(collect(1:8), (2,2,2))\n",
       "2×2×2 Array{Int64,3}:\n",
       "[:, :, 1] =\n",
       " 1  3\n",
       " 2  4\n",
       "\n",
       "[:, :, 2] =\n",
       " 5  7\n",
       " 6  8\n",
       "\n",
       "julia> permutedims(A, [3, 2, 1])\n",
       "2×2×2 Array{Int64,3}:\n",
       "[:, :, 1] =\n",
       " 1  3\n",
       " 5  7\n",
       "\n",
       "[:, :, 2] =\n",
       " 2  4\n",
       " 6  8\n",
       "```\n"
      ],
      "text/plain": [
       "```\n",
       "permutedims(A, perm)\n",
       "```\n",
       "\n",
       "Permute the dimensions of array `A`. `perm` is a vector specifying a permutation of length `ndims(A)`. This is a generalization of transpose for multi-dimensional arrays. Transpose is equivalent to `permutedims(A, [2,1])`.\n",
       "\n",
       "See also: [`PermutedDimsArray`](@ref).\n",
       "\n",
       "# Example\n",
       "\n",
       "```jldoctest\n",
       "julia> A = reshape(collect(1:8), (2,2,2))\n",
       "2×2×2 Array{Int64,3}:\n",
       "[:, :, 1] =\n",
       " 1  3\n",
       " 2  4\n",
       "\n",
       "[:, :, 2] =\n",
       " 5  7\n",
       " 6  8\n",
       "\n",
       "julia> permutedims(A, [3, 2, 1])\n",
       "2×2×2 Array{Int64,3}:\n",
       "[:, :, 1] =\n",
       " 1  3\n",
       " 5  7\n",
       "\n",
       "[:, :, 2] =\n",
       " 2  4\n",
       " 6  8\n",
       "```\n"
      ]
     },
     "execution_count": 95,
     "metadata": {},
     "output_type": "execute_result"
    }
   ],
   "source": [
    "?permutedims"
   ]
  },
  {
   "cell_type": "code",
   "execution_count": 139,
   "metadata": {},
   "outputs": [
    {
     "name": "stdout",
     "output_type": "stream",
     "text": [
      "Trait\n",
      "Summary Stats:\n",
      "Length:         82\n",
      "Type:           Any\n",
      "Number Unique:  3\n",
      "Number Missing: 0\n",
      "% Missing:      0.000000\n",
      "\n",
      "Effect\n",
      "Summary Stats:\n",
      "Length:         82\n",
      "Type:           Any\n",
      "Number Unique:  9\n",
      "Number Missing: 0\n",
      "% Missing:      0.000000\n",
      "\n",
      "Level\n",
      "Summary Stats:\n",
      "Length:         82\n",
      "Type:           Any\n",
      "Number Unique:  21\n",
      "Number Missing: 0\n",
      "% Missing:      0.000000\n",
      "\n",
      "Estimate\n",
      "Summary Stats:\n",
      "Length:         82\n",
      "Type:           Any\n",
      "Number Unique:  82\n",
      "Number Missing: 0\n",
      "% Missing:      0.000000\n",
      "\n"
     ]
    }
   ],
   "source": [
    "describe(out)"
   ]
  },
  {
   "cell_type": "code",
   "execution_count": 82,
   "metadata": {},
   "outputs": [
    {
     "ename": "LoadError",
     "evalue": "\u001b[91mDimensionMismatch(\"mismatch in dimension 2 (expected 3 got 1)\")\u001b[39m",
     "output_type": "error",
     "traceback": [
      "\u001b[91mDimensionMismatch(\"mismatch in dimension 2 (expected 3 got 1)\")\u001b[39m",
      "",
      "Stacktrace:",
      " [1] \u001b[1m_cs\u001b[22m\u001b[22m\u001b[1m(\u001b[22m\u001b[22m::Int64, ::Bool, ::Int64, ::Int64\u001b[1m)\u001b[22m\u001b[22m at \u001b[1m./abstractarray.jl:1193\u001b[22m\u001b[22m",
      " [2] \u001b[1m_cshp\u001b[22m\u001b[22m at \u001b[1m./abstractarray.jl:1181\u001b[22m\u001b[22m [inlined]",
      " [3] \u001b[1m_cshp\u001b[22m\u001b[22m at \u001b[1m./abstractarray.jl:1190\u001b[22m\u001b[22m [inlined]",
      " [4] \u001b[1mcat_shape\u001b[22m\u001b[22m\u001b[1m(\u001b[22m\u001b[22m::Tuple{Bool}, ::Tuple{Int64,Int64}, ::Tuple{Int64}\u001b[1m)\u001b[22m\u001b[22m at \u001b[1m./abstractarray.jl:1170\u001b[22m\u001b[22m (repeats 2 times)",
      " [5] \u001b[1mcat_t\u001b[22m\u001b[22m\u001b[1m(\u001b[22m\u001b[22m::Type{T} where T, ::Type{T} where T, ::Array{String,2}, ::Vararg{Any,N} where N\u001b[1m)\u001b[22m\u001b[22m at \u001b[1m./abstractarray.jl:1203\u001b[22m\u001b[22m",
      " [6] \u001b[1mvcat\u001b[22m\u001b[22m\u001b[1m(\u001b[22m\u001b[22m::Array{String,2}, ::Array{SubString{String},1}\u001b[1m)\u001b[22m\u001b[22m at \u001b[1m./sparse/sparsevector.jl:990\u001b[22m\u001b[22m"
     ]
    }
   ],
   "source": [
    "[out\n",
    "[strip(i) for i in split(res[3,1],':',keep=false)]]"
   ]
  },
  {
   "cell_type": "code",
   "execution_count": 88,
   "metadata": {},
   "outputs": [
    {
     "data": {
      "text/plain": [
       "1×249 Array{String,2}:\n",
       " \"trait\"  \"effect\"  \"level\"  \"1\"  …  \"m\"  \"1\"  \"x3\"  \"m\"  \"1\"  \"x3\"  \"m\""
      ]
     },
     "execution_count": 88,
     "metadata": {},
     "output_type": "execute_result"
    }
   ],
   "source": [
    "JWAS.transubstrarr(out)"
   ]
  },
  {
   "cell_type": "code",
   "execution_count": null,
   "metadata": {},
   "outputs": [],
   "source": []
  }
 ],
 "metadata": {
  "anaconda-cloud": {},
  "kernelspec": {
   "display_name": "Julia 0.6.2",
   "language": "julia",
   "name": "julia-0.6"
  },
  "language_info": {
   "file_extension": ".jl",
   "mimetype": "application/julia",
   "name": "julia",
   "version": "0.6.2"
  }
 },
 "nbformat": 4,
 "nbformat_minor": 1
}
