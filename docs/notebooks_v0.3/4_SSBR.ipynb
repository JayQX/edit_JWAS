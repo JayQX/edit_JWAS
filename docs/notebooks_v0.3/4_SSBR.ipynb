{
 "cells": [
  {
   "cell_type": "markdown",
   "metadata": {},
   "source": [
    "<ul class=\"breadcrumb\">\n",
    "  <li><a href=\"1_Conventional_Linear_Mixed_Model.ipynb\">Bayesian Linear Mixed Models (Conventional)</a></li>\n",
    "  <li><a href=\"2_Linear_Additive_Genetic_Model.ipynb\">Bayesian Linear Additive Genetic Model</a></li> \n",
    "  <li><a href=\"3_Genomic_Linear_Mixed_Model.ipynb\">Bayesian Linear Mixed Models (Genomic Data)</a></li>\n",
    "</ul>"
   ]
  },
  {
   "cell_type": "markdown",
   "metadata": {},
   "source": [
    "<div class=\"span5 alert alert-success\">\n",
    " <font size=\"5\" face=\"Georgia\">Single-step Bayesian Regression (Incomplete Genomic Data)</font> \n",
    "</div>"
   ]
  },
  {
   "cell_type": "code",
   "execution_count": 1,
   "metadata": {},
   "outputs": [
    {
     "data": {
      "text/plain": [
       "JWAS"
      ]
     },
     "execution_count": 1,
     "metadata": {},
     "output_type": "execute_result"
    }
   ],
   "source": [
    "include(\"/home/ubuntu/work/Github/JWAS.jl/src/JWAS.jl\")"
   ]
  },
  {
   "cell_type": "markdown",
   "metadata": {},
   "source": [
    "<button type=\"button\" class=\"btn btn-lg btn-primary\">Step 1: Load Packages</button> "
   ]
  },
  {
   "cell_type": "code",
   "execution_count": 2,
   "metadata": {},
   "outputs": [],
   "source": [
    "using JWAS,JWAS.Datasets,DataFrames,CSV"
   ]
  },
  {
   "cell_type": "markdown",
   "metadata": {},
   "source": [
    "<button type=\"button\" class=\"btn btn-lg btn-primary\">Step 2: Read data</button> "
   ]
  },
  {
   "cell_type": "code",
   "execution_count": 3,
   "metadata": {},
   "outputs": [
    {
     "name": "stderr",
     "output_type": "stream",
     "text": [
      "\r",
      "\u001b[32mcoding pedigree...   8%|███                             |  ETA: 0:00:01\u001b[39m"
     ]
    },
    {
     "name": "stdout",
     "output_type": "stream",
     "text": [
      "Finished!\n"
     ]
    },
    {
     "name": "stderr",
     "output_type": "stream",
     "text": [
      "\u001b[32mcoding pedigree... 100%|████████████████████████████████| Time: 0:00:00\u001b[39m\n"
     ]
    }
   ],
   "source": [
    "phenofile  = Datasets.dataset(\"example\",\"phenotypes_ssbr.txt\")\n",
    "pedfile    = Datasets.dataset(\"example\",\"pedigree.txt\")\n",
    "genofile   = Datasets.dataset(\"example\",\"genotypes.txt\")\n",
    "\n",
    "phenotypes = CSV.read(phenofile,delim = ',',header=true)\n",
    "pedigree   = get_pedigree(pedfile,separator=\",\",header=true);"
   ]
  },
  {
   "cell_type": "code",
   "execution_count": 4,
   "metadata": {},
   "outputs": [
    {
     "data": {
      "text/html": [
       "<table class=\"data-frame\"><thead><tr><th></th><th>ID</th><th>y1</th><th>y2</th><th>y3</th><th>x1</th><th>x2</th><th>x3</th><th>dam</th></tr></thead><tbody><tr><th>1</th><td>a1</td><td>-0.06</td><td>3.58</td><td>-1.18</td><td>0.9</td><td>2</td><td>m</td><td>0</td></tr><tr><th>2</th><td>a2</td><td>-0.6</td><td>4.9</td><td>0.88</td><td>0.3</td><td>1</td><td>f</td><td>0</td></tr><tr><th>3</th><td>a3</td><td>-2.07</td><td>3.19</td><td>0.73</td><td>0.7</td><td>2</td><td>f</td><td>0</td></tr><tr><th>4</th><td>a4</td><td>-2.63</td><td>6.97</td><td>-0.83</td><td>0.6</td><td>1</td><td>m</td><td>a2</td></tr><tr><th>5</th><td>a5</td><td>2.31</td><td>3.5</td><td>-1.52</td><td>0.4</td><td>2</td><td>m</td><td>a2</td></tr><tr><th>6</th><td>a6</td><td>0.93</td><td>4.87</td><td>-0.01</td><td>5.0</td><td>2</td><td>f</td><td>a3</td></tr></tbody></table>"
      ],
      "text/plain": [
       "6×8 DataFrames.DataFrame\n",
       "│ Row │ ID │ y1    │ y2   │ y3    │ x1  │ x2 │ x3 │ dam │\n",
       "├─────┼────┼───────┼──────┼───────┼─────┼────┼────┼─────┤\n",
       "│ 1   │ a1 │ -0.06 │ 3.58 │ -1.18 │ 0.9 │ 2  │ m  │ 0   │\n",
       "│ 2   │ a2 │ -0.6  │ 4.9  │ 0.88  │ 0.3 │ 1  │ f  │ 0   │\n",
       "│ 3   │ a3 │ -2.07 │ 3.19 │ 0.73  │ 0.7 │ 2  │ f  │ 0   │\n",
       "│ 4   │ a4 │ -2.63 │ 6.97 │ -0.83 │ 0.6 │ 1  │ m  │ a2  │\n",
       "│ 5   │ a5 │ 2.31  │ 3.5  │ -1.52 │ 0.4 │ 2  │ m  │ a2  │\n",
       "│ 6   │ a6 │ 0.93  │ 4.87 │ -0.01 │ 5.0 │ 2  │ f  │ a3  │"
      ]
     },
     "execution_count": 4,
     "metadata": {},
     "output_type": "execute_result"
    }
   ],
   "source": [
    "head(phenotypes)"
   ]
  },
  {
   "cell_type": "markdown",
   "metadata": {},
   "source": [
    "<div class=\"span5 alert alert-success\">\n",
    " <font size=\"5\" face=\"Georgia\">Single-trait Single-step Bayesian Regression (Incomplete Genomic Data)</font> \n",
    "</div>"
   ]
  },
  {
   "cell_type": "markdown",
   "metadata": {},
   "source": [
    "<button type=\"button\" class=\"btn btn-lg btn-primary\">Step 3: Build Model Equations</button> "
   ]
  },
  {
   "cell_type": "code",
   "execution_count": 5,
   "metadata": {},
   "outputs": [],
   "source": [
    "model_equation1  =\"y1 = intercept + x1*x3 + x2 + x3 + ID + dam\";"
   ]
  },
  {
   "cell_type": "code",
   "execution_count": 6,
   "metadata": {},
   "outputs": [],
   "source": [
    "R      = 1.0\n",
    "model1 = build_model(model_equation1,R);"
   ]
  },
  {
   "cell_type": "markdown",
   "metadata": {},
   "source": [
    "<button type=\"button\" class=\"btn btn-lg btn-primary\">Step 4: Set Factors or Covariates</button> "
   ]
  },
  {
   "cell_type": "code",
   "execution_count": 7,
   "metadata": {},
   "outputs": [],
   "source": [
    "set_covariate(model1,\"x1\");"
   ]
  },
  {
   "cell_type": "markdown",
   "metadata": {},
   "source": [
    "<button type=\"button\" class=\"btn btn-lg btn-primary\">Step 5: Set Random or Fixed Effects</button> "
   ]
  },
  {
   "cell_type": "code",
   "execution_count": 8,
   "metadata": {},
   "outputs": [],
   "source": [
    "G1 = 1.0\n",
    "G2 = eye(2)\n",
    "set_random(model1,\"x2\",G1);\n",
    "set_random(model1,\"ID dam\",pedigree,G2);"
   ]
  },
  {
   "cell_type": "markdown",
   "metadata": {},
   "source": [
    "<button type=\"button\" class=\"btn btn-lg btn-primary\">Step 6: Use Genomic Information</button> "
   ]
  },
  {
   "cell_type": "code",
   "execution_count": 9,
   "metadata": {},
   "outputs": [
    {
     "name": "stdout",
     "output_type": "stream",
     "text": [
      "5 markers on 7 individuals were added.\n"
     ]
    }
   ],
   "source": [
    "G3 =1.0\n",
    "add_genotypes(model1,genofile,G3,separator=',');"
   ]
  },
  {
   "cell_type": "code",
   "execution_count": 10,
   "metadata": {},
   "outputs": [
    {
     "name": "stdout",
     "output_type": "stream",
     "text": [
      "Estimated breeding values and prediction error variances will be included in the output.\n"
     ]
    }
   ],
   "source": [
    "JWAS.outputEBV(model1,[\"a1\",\"a2\",\"a3\"]);"
   ]
  },
  {
   "cell_type": "markdown",
   "metadata": {},
   "source": [
    "<button type=\"button\" class=\"btn btn-lg btn-primary\">Step 7: Run Analysis</button> "
   ]
  },
  {
   "cell_type": "code",
   "execution_count": 11,
   "metadata": {},
   "outputs": [
    {
     "name": "stdout",
     "output_type": "stream",
     "text": [
      "\n",
      "The prior for marker effects variance is calculated from \n",
      "the genetic variance and π. The prior for the marker effects variance \n",
      "is: 0.492462\n",
      "\n",
      "\n",
      "\n",
      "A Linear Mixed Model was build using model equations:\n",
      "\n",
      "y1 = intercept + x1*x3 + x2 + x3 + ID + dam\n",
      "\n",
      "Model Information:\n",
      "\n",
      "Term            C/F          F/R            nLevels\n",
      "intercept       factor       fixed                1\n",
      "x1*x3           interaction  fixed                2\n",
      "x2              factor       random               2\n",
      "x3              factor       fixed                2\n",
      "ID              factor       random              12\n",
      "dam             factor       random              12\n",
      "ϵ               factor       random               5\n",
      "J               covariate    fixed                1\n",
      "\n",
      "MCMC Information:\n",
      "\n",
      "methods                                      BayesC\n",
      "chain_length                                   5000\n",
      "burnin                                            0\n",
      "estimatePi                                     true\n",
      "starting_value                                 true\n",
      "printout_frequency                             5001\n",
      "output_samples_frequency                        100\n",
      "constraint                                    false\n",
      "missing_phenotypes                            false\n",
      "update_priors_frequency                           0\n",
      "\n",
      "Hyper-parameters Information: \n",
      "\n",
      "random effect variances (x2):                 [1.0]\n",
      "random effect variances (ϵ):                  [1.0]\n",
      "residual variances:                           1.000\n",
      "genetic variances (polygenic):\n",
      "                                 [1.0 0.0; 0.0 1.0]\n",
      "genetic variances (genomic):                  0.492\n",
      "marker effect variances:                      0.492\n",
      "π                                               0.0\n",
      "\n",
      "Degree of freedom for hyper-parameters:\n",
      "\n",
      "residual variances:                           4.000\n",
      "iid random effect variances:                  4.000\n",
      "polygenic effect variances:                   4.000\n",
      "marker effect variances:                      4.000\n",
      "\n",
      "\n",
      "\n"
     ]
    },
    {
     "name": "stderr",
     "output_type": "stream",
     "text": [
      "\u001b[1m\u001b[33mWARNING: \u001b[39m\u001b[22m\u001b[33mThe file MCMC_samples_residual_variance.txt already exists!!! It is overwritten by the new output.\u001b[39m\n",
      "\u001b[1m\u001b[33mWARNING: \u001b[39m\u001b[22m\u001b[33mThe file MCMC_samples_polygenic_effects_variance.txt already exists!!! It is overwritten by the new output.\u001b[39m\n",
      "\u001b[1m\u001b[33mWARNING: \u001b[39m\u001b[22m\u001b[33mThe file MCMC_samples_marker_effects_y1.txt already exists!!! It is overwritten by the new output.\u001b[39m\n",
      "\u001b[1m\u001b[33mWARNING: \u001b[39m\u001b[22m\u001b[33mThe file MCMC_samples_marker_effects_variances.txt already exists!!! It is overwritten by the new output.\u001b[39m\n",
      "\u001b[1m\u001b[33mWARNING: \u001b[39m\u001b[22m\u001b[33mThe file MCMC_samples_pi.txt already exists!!! It is overwritten by the new output.\u001b[39m\n",
      "\u001b[1m\u001b[33mWARNING: \u001b[39m\u001b[22m\u001b[33mThe file MCMC_samples_x2_variances.txt already exists!!! It is overwritten by the new output.\u001b[39m\n",
      "\u001b[1m\u001b[33mWARNING: \u001b[39m\u001b[22m\u001b[33mThe file MCMC_samples_ϵ_variances.txt already exists!!! It is overwritten by the new output.\u001b[39m\n",
      "\u001b[32mrunning MCMC for BayesC...100%|█████████████████████████| Time: 0:00:01\u001b[39m\n"
     ]
    }
   ],
   "source": [
    "outputMCMCsamples(model1,\"x2\")\n",
    "out1=runMCMC(model1,phenotypes,methods=\"BayesC\",estimatePi=true,single_step_analysis=true,pedigree=pedigree,chain_length=5000,output_samples_frequency=100);"
   ]
  },
  {
   "cell_type": "markdown",
   "metadata": {},
   "source": [
    "<button type=\"button\" class=\"btn btn-lg btn-primary\">Check Results</button> "
   ]
  },
  {
   "cell_type": "code",
   "execution_count": 12,
   "metadata": {},
   "outputs": [
    {
     "data": {
      "text/plain": [
       "0.5019453755046704"
      ]
     },
     "execution_count": 12,
     "metadata": {},
     "output_type": "execute_result"
    }
   ],
   "source": [
    "out1[\"Posterior mean of Pi\"]"
   ]
  },
  {
   "cell_type": "code",
   "execution_count": 13,
   "metadata": {},
   "outputs": [
    {
     "data": {
      "text/plain": [
       "Dict{Any,Any} with 7 entries:\n",
       "  \"Posterior mean of polyg… => [3.19318 -0.449993; -0.449993 2.27363]\n",
       "  \"EBV_y1\"                  => Any[\"a1\" -1.29728; \"a2\" -0.780137; \"a3\" -2.84001]\n",
       "  \"Posterior mean of marke… => Any[\"m1\" -0.0130229; \"m2\" -0.122099; … ; \"m4\" -0…\n",
       "  \"Posterior mean of resid… => 2.98433\n",
       "  \"Posterior mean of marke… => 0.527822\n",
       "  \"Posterior mean of locat… => 37×4 DataFrames.DataFrame…\n",
       "  \"Posterior mean of Pi\"    => 0.501945"
      ]
     },
     "execution_count": 13,
     "metadata": {},
     "output_type": "execute_result"
    }
   ],
   "source": [
    "out1"
   ]
  },
  {
   "cell_type": "code",
   "execution_count": 14,
   "metadata": {},
   "outputs": [
    {
     "data": {
      "text/html": [
       "<table class=\"data-frame\"><thead><tr><th></th><th>Trait</th><th>Effect</th><th>Level</th><th>Estimate</th></tr></thead><tbody><tr><th>1</th><td>1</td><td>intercept</td><td>intercept</td><td>20.9864</td></tr><tr><th>2</th><td>1</td><td>x1*x3</td><td>x1 * m</td><td>-3.39436</td></tr><tr><th>3</th><td>1</td><td>x1*x3</td><td>x1 * f</td><td>0.571842</td></tr><tr><th>4</th><td>1</td><td>x2</td><td>2</td><td>0.128036</td></tr><tr><th>5</th><td>1</td><td>x2</td><td>1</td><td>-0.127236</td></tr><tr><th>6</th><td>1</td><td>x3</td><td>m</td><td>-18.0363</td></tr><tr><th>7</th><td>1</td><td>x3</td><td>f</td><td>-21.0072</td></tr><tr><th>8</th><td>1</td><td>ID</td><td>a12</td><td>0.50457</td></tr><tr><th>9</th><td>1</td><td>ID</td><td>a10</td><td>-0.163578</td></tr><tr><th>10</th><td>1</td><td>ID</td><td>a11</td><td>0.0868416</td></tr><tr><th>11</th><td>1</td><td>ID</td><td>a2</td><td>0.0174801</td></tr><tr><th>12</th><td>1</td><td>ID</td><td>a9</td><td>0.278478</td></tr><tr><th>13</th><td>1</td><td>ID</td><td>a6</td><td>0.130282</td></tr><tr><th>14</th><td>1</td><td>ID</td><td>a7</td><td>-0.133211</td></tr><tr><th>15</th><td>1</td><td>ID</td><td>a3</td><td>-0.564242</td></tr><tr><th>16</th><td>1</td><td>ID</td><td>a8</td><td>-0.0395543</td></tr><tr><th>17</th><td>1</td><td>ID</td><td>a1</td><td>0.792388</td></tr><tr><th>18</th><td>1</td><td>ID</td><td>a5</td><td>0.816716</td></tr><tr><th>19</th><td>1</td><td>ID</td><td>a4</td><td>-0.0942773</td></tr><tr><th>20</th><td>1</td><td>dam</td><td>a12</td><td>-0.0873319</td></tr><tr><th>21</th><td>1</td><td>dam</td><td>a10</td><td>0.0579673</td></tr><tr><th>22</th><td>1</td><td>dam</td><td>a11</td><td>-0.160484</td></tr><tr><th>23</th><td>1</td><td>dam</td><td>a2</td><td>0.00856546</td></tr><tr><th>24</th><td>1</td><td>dam</td><td>a9</td><td>-0.294694</td></tr><tr><th>25</th><td>1</td><td>dam</td><td>a6</td><td>-0.315609</td></tr><tr><th>26</th><td>1</td><td>dam</td><td>a7</td><td>-0.734475</td></tr><tr><th>27</th><td>1</td><td>dam</td><td>a3</td><td>-0.391396</td></tr><tr><th>28</th><td>1</td><td>dam</td><td>a8</td><td>-0.178296</td></tr><tr><th>29</th><td>1</td><td>dam</td><td>a1</td><td>-0.299487</td></tr><tr><th>30</th><td>1</td><td>dam</td><td>a5</td><td>0.0359569</td></tr><tr><th>&vellip;</th><td>&vellip;</td><td>&vellip;</td><td>&vellip;</td><td>&vellip;</td></tr></tbody></table>"
      ],
      "text/plain": [
       "37×4 DataFrames.DataFrame\n",
       "│ Row │ Trait │ Effect    │ Level     │ Estimate   │\n",
       "├─────┼───────┼───────────┼───────────┼────────────┤\n",
       "│ 1   │ 1     │ intercept │ intercept │ 20.9864    │\n",
       "│ 2   │ 1     │ x1*x3     │ x1 * m    │ -3.39436   │\n",
       "│ 3   │ 1     │ x1*x3     │ x1 * f    │ 0.571842   │\n",
       "│ 4   │ 1     │ x2        │ 2         │ 0.128036   │\n",
       "│ 5   │ 1     │ x2        │ 1         │ -0.127236  │\n",
       "│ 6   │ 1     │ x3        │ m         │ -18.0363   │\n",
       "│ 7   │ 1     │ x3        │ f         │ -21.0072   │\n",
       "│ 8   │ 1     │ ID        │ a12       │ 0.50457    │\n",
       "│ 9   │ 1     │ ID        │ a10       │ -0.163578  │\n",
       "│ 10  │ 1     │ ID        │ a11       │ 0.0868416  │\n",
       "│ 11  │ 1     │ ID        │ a2        │ 0.0174801  │\n",
       "⋮\n",
       "│ 26  │ 1     │ dam       │ a7        │ -0.734475  │\n",
       "│ 27  │ 1     │ dam       │ a3        │ -0.391396  │\n",
       "│ 28  │ 1     │ dam       │ a8        │ -0.178296  │\n",
       "│ 29  │ 1     │ dam       │ a1        │ -0.299487  │\n",
       "│ 30  │ 1     │ dam       │ a5        │ 0.0359569  │\n",
       "│ 31  │ 1     │ dam       │ a4        │ -0.139696  │\n",
       "│ 32  │ 1     │ ϵ         │ a12       │ 0.141437   │\n",
       "│ 33  │ 1     │ ϵ         │ a10       │ -0.260348  │\n",
       "│ 34  │ 1     │ ϵ         │ a11       │ -0.0486121 │\n",
       "│ 35  │ 1     │ ϵ         │ a2        │ 0.0474853  │\n",
       "│ 36  │ 1     │ ϵ         │ a9        │ 0.133985   │\n",
       "│ 37  │ 1     │ J         │ J         │ 1.81665    │"
      ]
     },
     "execution_count": 14,
     "metadata": {},
     "output_type": "execute_result"
    }
   ],
   "source": [
    "res=out1[\"Posterior mean of location parameters\"]"
   ]
  },
  {
   "cell_type": "code",
   "execution_count": 15,
   "metadata": {},
   "outputs": [
    {
     "data": {
      "text/plain": [
       "Dict{Any,Any} with 7 entries:\n",
       "  \"Posterior mean of polyg… => [3.19318 -0.449993; -0.449993 2.27363]\n",
       "  \"EBV_y1\"                  => Any[\"a1\" -1.29728; \"a2\" -0.780137; \"a3\" -2.84001]\n",
       "  \"Posterior mean of marke… => Any[\"m1\" -0.0130229; \"m2\" -0.122099; … ; \"m4\" -0…\n",
       "  \"Posterior mean of resid… => 2.98433\n",
       "  \"Posterior mean of marke… => 0.527822\n",
       "  \"Posterior mean of locat… => 37×4 DataFrames.DataFrame…\n",
       "  \"Posterior mean of Pi\"    => 0.501945"
      ]
     },
     "execution_count": 15,
     "metadata": {},
     "output_type": "execute_result"
    }
   ],
   "source": [
    "out1"
   ]
  },
  {
   "cell_type": "markdown",
   "metadata": {},
   "source": [
    "<div class=\"span5 alert alert-success\">\n",
    " <font size=\"5\" face=\"Georgia\">Multi-trait Single-step Bayesian Regression (Incomplete Genomic Data)</font> \n",
    "</div>"
   ]
  },
  {
   "cell_type": "markdown",
   "metadata": {},
   "source": [
    "<button type=\"button\" class=\"btn btn-lg btn-primary\">Step 3: Build Model Equations</button> "
   ]
  },
  {
   "cell_type": "code",
   "execution_count": 16,
   "metadata": {},
   "outputs": [],
   "source": [
    "model_equation2 =\"y1 = intercept + x1 + x3 + ID + dam\n",
    "                  y2 = intercept + x1 + x2 + x3 + ID\n",
    "                  y3 = intercept + x1 + x1*x3 + x2 + ID\";"
   ]
  },
  {
   "cell_type": "code",
   "execution_count": 17,
   "metadata": {},
   "outputs": [],
   "source": [
    "R      = eye(3)\n",
    "model2 = build_model(model_equation2,R);"
   ]
  },
  {
   "cell_type": "markdown",
   "metadata": {},
   "source": [
    "<button type=\"button\" class=\"btn btn-lg btn-primary\">Step 4: Set Factors or Covariates</button> "
   ]
  },
  {
   "cell_type": "code",
   "execution_count": 18,
   "metadata": {},
   "outputs": [],
   "source": [
    "set_covariate(model2,\"x1\");"
   ]
  },
  {
   "cell_type": "markdown",
   "metadata": {},
   "source": [
    "<button type=\"button\" class=\"btn btn-lg btn-primary\">Step 5: Set Random or Fixed Effects</button> "
   ]
  },
  {
   "cell_type": "code",
   "execution_count": 19,
   "metadata": {},
   "outputs": [
    {
     "name": "stderr",
     "output_type": "stream",
     "text": [
      "\u001b[1m\u001b[36mINFO: \u001b[39m\u001b[22m\u001b[36mx2 is not found in model equation 1.\n",
      "\u001b[39m\u001b[1m\u001b[36mINFO: \u001b[39m\u001b[22m\u001b[36mdam is not found in model equation 2.\n",
      "\u001b[39m\u001b[1m\u001b[36mINFO: \u001b[39m\u001b[22m\u001b[36mdam is not found in model equation 3.\n",
      "\u001b[39m"
     ]
    }
   ],
   "source": [
    "G1 = eye(2)\n",
    "G2 = eye(4)\n",
    "set_random(model2,\"x2\",G1);\n",
    "set_random(model2,\"ID dam\",pedigree,G2);"
   ]
  },
  {
   "cell_type": "markdown",
   "metadata": {},
   "source": [
    "<button type=\"button\" class=\"btn btn-lg btn-primary\">Step 6: Use Genomic Information</button> "
   ]
  },
  {
   "cell_type": "code",
   "execution_count": 20,
   "metadata": {},
   "outputs": [
    {
     "name": "stdout",
     "output_type": "stream",
     "text": [
      "5 markers on 7 individuals were added.\n"
     ]
    }
   ],
   "source": [
    "G3 = eye(3)\n",
    "add_genotypes(model2,genofile,G3,separator=',');"
   ]
  },
  {
   "cell_type": "markdown",
   "metadata": {},
   "source": [
    "<button type=\"button\" class=\"btn btn-lg btn-primary\">Step 7: Run Analysis</button> "
   ]
  },
  {
   "cell_type": "code",
   "execution_count": 21,
   "metadata": {},
   "outputs": [
    {
     "name": "stderr",
     "output_type": "stream",
     "text": [
      "\u001b[1m\u001b[36mINFO: \u001b[39m\u001b[22m\u001b[36mPi (Π) is not provided.\n",
      "\u001b[39m\u001b[1m\u001b[36mINFO: \u001b[39m\u001b[22m\u001b[36mPi (Π) is generated assuming all markers have effects on all traits.\n",
      "\u001b[39m"
     ]
    },
    {
     "name": "stdout",
     "output_type": "stream",
     "text": [
      "\n",
      "The prior for marker effects covariance matrix is calculated from \n",
      "genetic covariance matrix and Π. The prior for the marker effects \n",
      "covariance matrix is: \n",
      "\n",
      " 0.492462  0.0       0.0     \n",
      " 0.0       0.492462  0.0     \n",
      " 0.0       0.0       0.492462\n",
      "\n",
      "\n",
      "A Linear Mixed Model was build using model equations:\n",
      "\n",
      "y1 = intercept + x1 + x3 + ID + dam\n",
      "y2 = intercept + x1 + x2 + x3 + ID\n",
      "y3 = intercept + x1 + x1*x3 + x2 + ID\n",
      "\n",
      "Model Information:\n",
      "\n",
      "Term            C/F          F/R            nLevels\n",
      "intercept       factor       fixed                1\n",
      "x1              covariate    fixed                1\n",
      "x3              factor       fixed                2\n",
      "ID              factor       random              12\n",
      "dam             factor       random              12\n",
      "x2              factor       random               2\n",
      "x1*x3           interaction  fixed                2\n",
      "ϵ               factor       random               5\n",
      "J               covariate    fixed                1\n",
      "\n",
      "MCMC Information:\n",
      "\n",
      "methods                                      BayesC\n",
      "chain_length                                   5000\n",
      "burnin                                            0\n",
      "estimatePi                                     true\n",
      "starting_value                                 true\n",
      "printout_frequency                             5001\n",
      "output_samples_frequency                        100\n",
      "constraint                                    false\n",
      "missing_phenotypes                            false\n",
      "update_priors_frequency                           0\n",
      "\n",
      "Hyper-parameters Information: \n",
      "\n",
      "random effect variances (x2): \n",
      " 1.0  0.0\n",
      " 0.0  1.0\n",
      "random effect variances (ϵ):  \n",
      " 1.0  0.0  0.0\n",
      " 0.0  1.0  0.0\n",
      " 0.0  0.0  1.0\n",
      "residual variances:           \n",
      " 1.0  0.0  0.0\n",
      " 0.0  1.0  0.0\n",
      " 0.0  0.0  1.0\n",
      "genetic variances (polygenic):\n",
      " 1.0  0.0  0.0  0.0\n",
      " 0.0  1.0  0.0  0.0\n",
      " 0.0  0.0  1.0  0.0\n",
      " 0.0  0.0  0.0  1.0\n",
      "genetic variances (genomic):  \n",
      " 0.492  0.0    0.0  \n",
      " 0.0    0.492  0.0  \n",
      " 0.0    0.0    0.492\n",
      "marker effect variances:      \n",
      " 0.492  0.0    0.0  \n",
      " 0.0    0.492  0.0  \n",
      " 0.0    0.0    0.492\n",
      "Π:\n",
      "combinations          probability\n",
      "[1.0, 0.0, 1.0]               0.0\n",
      "[0.0, 0.0, 1.0]               0.0\n",
      "[0.0, 1.0, 1.0]               0.0\n",
      "[1.0, 1.0, 0.0]               0.0\n",
      "[0.0, 0.0, 0.0]               0.0\n",
      "[0.0, 1.0, 0.0]               0.0\n",
      "[1.0, 0.0, 0.0]               0.0\n",
      "[1.0, 1.0, 1.0]               1.0\n",
      "\n",
      "Degree of freedom for hyper-parameters:\n",
      "\n",
      "residual variances:                           4.000\n",
      "iid random effect variances:                  4.000\n",
      "polygenic effect variances:                   4.000\n",
      "marker effect variances:                      4.000\n",
      "\n",
      "\n",
      "\n"
     ]
    },
    {
     "name": "stderr",
     "output_type": "stream",
     "text": [
      "\u001b[1m\u001b[33mWARNING: \u001b[39m\u001b[22m\u001b[33mThe file MCMC_samples_residual_variance.txt already exists!!! It is overwritten by the new output.\u001b[39m\n",
      "\u001b[1m\u001b[33mWARNING: \u001b[39m\u001b[22m\u001b[33mThe file MCMC_samples_polygenic_effects_variance.txt already exists!!! It is overwritten by the new output.\u001b[39m\n",
      "\u001b[1m\u001b[33mWARNING: \u001b[39m\u001b[22m\u001b[33mThe file MCMC_samples_marker_effects_y1.txt already exists!!! It is overwritten by the new output.\u001b[39m\n",
      "\u001b[1m\u001b[33mWARNING: \u001b[39m\u001b[22m\u001b[33mThe file MCMC_samples_marker_effects_y2.txt already exists!!! It is overwritten by the new output.\u001b[39m\n",
      "\u001b[1m\u001b[33mWARNING: \u001b[39m\u001b[22m\u001b[33mThe file MCMC_samples_marker_effects_y3.txt already exists!!! It is overwritten by the new output.\u001b[39m\n",
      "\u001b[1m\u001b[33mWARNING: \u001b[39m\u001b[22m\u001b[33mThe file MCMC_samples_marker_effects_variances.txt already exists!!! It is overwritten by the new output.\u001b[39m\n",
      "\u001b[1m\u001b[33mWARNING: \u001b[39m\u001b[22m\u001b[33mThe file MCMC_samples_pi.txt already exists!!! It is overwritten by the new output.\u001b[39m\n",
      "\u001b[1m\u001b[33mWARNING: \u001b[39m\u001b[22m\u001b[33mThe file MCMC_samples_x2_variances.txt already exists!!! It is overwritten by the new output.\u001b[39m\n",
      "\u001b[1m\u001b[33mWARNING: \u001b[39m\u001b[22m\u001b[33mThe file MCMC_samples_ϵ_variances.txt already exists!!! It is overwritten by the new output.\u001b[39m\n",
      "\u001b[32mrunning MCMC for BayesC...100%|█████████████████████████| Time: 0:00:05\u001b[39m\n"
     ]
    }
   ],
   "source": [
    "out2=runMCMC(model2,phenotypes,methods=\"BayesC\",estimatePi=true,single_step_analysis=true,pedigree=pedigree,chain_length=5000,output_samples_frequency=100);"
   ]
  },
  {
   "cell_type": "markdown",
   "metadata": {},
   "source": [
    "<button type=\"button\" class=\"btn btn-lg btn-primary\">Check Results</button> "
   ]
  },
  {
   "cell_type": "code",
   "execution_count": 23,
   "metadata": {},
   "outputs": [
    {
     "data": {
      "text/plain": [
       "Base.KeyIterator for a Dict{Any,Any} with 7 entries. Keys:\n",
       "  \"Posterior mean of polygenic effects covariance matrix\"\n",
       "  \"Model frequency\"\n",
       "  \"Posterior mean of residual covariance matrix\"\n",
       "  \"Posterior mean of marker effects\"\n",
       "  \"Posterior mean of marker effects covariance matrix\"\n",
       "  \"Posterior mean of location parameters\"\n",
       "  \"Posterior mean of Pi\""
      ]
     },
     "execution_count": 23,
     "metadata": {},
     "output_type": "execute_result"
    }
   ],
   "source": [
    "keys(out2)"
   ]
  },
  {
   "cell_type": "code",
   "execution_count": 24,
   "metadata": {},
   "outputs": [
    {
     "data": {
      "text/plain": [
       "Dict{Array{Float64,1},Float64} with 8 entries:\n",
       "  [1.0, 0.0, 1.0] => 0.125355\n",
       "  [0.0, 0.0, 1.0] => 0.123946\n",
       "  [0.0, 1.0, 1.0] => 0.121144\n",
       "  [1.0, 1.0, 0.0] => 0.126313\n",
       "  [0.0, 0.0, 0.0] => 0.129351\n",
       "  [0.0, 1.0, 0.0] => 0.123645\n",
       "  [1.0, 0.0, 0.0] => 0.128658\n",
       "  [1.0, 1.0, 1.0] => 0.121586"
      ]
     },
     "execution_count": 24,
     "metadata": {},
     "output_type": "execute_result"
    }
   ],
   "source": [
    "out2[\"Posterior mean of Pi\"]"
   ]
  },
  {
   "cell_type": "code",
   "execution_count": 25,
   "metadata": {},
   "outputs": [
    {
     "data": {
      "text/plain": [
       "5×2 Array{Any,2}:\n",
       " \"m1\"  -0.0391361\n",
       " \"m2\"  -0.241005 \n",
       " \"m3\"   0.212377 \n",
       " \"m4\"  -0.113705 \n",
       " \"m5\"   0.0928107"
      ]
     },
     "execution_count": 25,
     "metadata": {},
     "output_type": "execute_result"
    }
   ],
   "source": [
    "out2[\"Posterior mean of marker effects\"][1]"
   ]
  },
  {
   "cell_type": "code",
   "execution_count": 26,
   "metadata": {},
   "outputs": [
    {
     "data": {
      "text/plain": [
       "3-element Array{Any,1}:\n",
       " Any[\"m1\" -0.0391361; \"m2\" -0.241005; … ; \"m4\" -0.113705; \"m5\" 0.0928107]\n",
       " Any[\"m1\" 0.0346502; \"m2\" 0.00247991; … ; \"m4\" 0.0775843; \"m5\" 0.0825744]\n",
       " Any[\"m1\" -0.0815575; \"m2\" 0.059716; … ; \"m4\" 0.0522826; \"m5\" 0.00345809]"
      ]
     },
     "execution_count": 26,
     "metadata": {},
     "output_type": "execute_result"
    }
   ],
   "source": [
    "out2[\"Posterior mean of marker effects\"]"
   ]
  },
  {
   "cell_type": "code",
   "execution_count": 27,
   "metadata": {},
   "outputs": [
    {
     "data": {
      "text/plain": [
       "5×2 Array{Any,2}:\n",
       " \"m1\"  -0.0130229\n",
       " \"m2\"  -0.122099 \n",
       " \"m3\"   0.190064 \n",
       " \"m4\"  -0.123359 \n",
       " \"m5\"  -0.0262301"
      ]
     },
     "execution_count": 27,
     "metadata": {},
     "output_type": "execute_result"
    }
   ],
   "source": [
    "out1[\"Posterior mean of marker effects\"]"
   ]
  },
  {
   "cell_type": "code",
   "execution_count": 29,
   "metadata": {},
   "outputs": [
    {
     "ename": "LoadError",
     "evalue": "\u001b[91mKeyError: key \"EBV_y1\" not found\u001b[39m",
     "output_type": "error",
     "traceback": [
      "\u001b[91mKeyError: key \"EBV_y1\" not found\u001b[39m",
      "",
      "Stacktrace:",
      " [1] \u001b[1mgetindex\u001b[22m\u001b[22m\u001b[1m(\u001b[22m\u001b[22m::Dict{Any,Any}, ::String\u001b[1m)\u001b[22m\u001b[22m at \u001b[1m./dict.jl:474\u001b[22m\u001b[22m"
     ]
    }
   ],
   "source": [
    "out2[\"EBV_y1\"]"
   ]
  }
 ],
 "metadata": {
  "anaconda-cloud": {},
  "kernelspec": {
   "display_name": "Julia 0.6.2",
   "language": "julia",
   "name": "julia-0.6"
  },
  "language_info": {
   "file_extension": ".jl",
   "mimetype": "application/julia",
   "name": "julia",
   "version": "0.6.2"
  }
 },
 "nbformat": 4,
 "nbformat_minor": 1
}
