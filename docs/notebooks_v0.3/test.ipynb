{
 "cells": [
  {
   "cell_type": "markdown",
   "metadata": {},
   "source": [
    "<ul class=\"breadcrumb\">\n",
    "  <li><a href=\"1_Conventional_Linear_Mixed_Model.ipynb\">Bayesian Linear Mixed Models (Conventional)</a></li>\n",
    "  <li><a href=\"2_Linear_Additive_Genetic_Model.ipynb\">Bayesian Linear Additive Genetic Model</a></li> \n",
    "  <li><a href=\"3_Genomic_Linear_Mixed_Model.ipynb\">Bayesian Linear Mixed Models (Genomic Data)</a></li>\n",
    "</ul>"
   ]
  },
  {
   "cell_type": "markdown",
   "metadata": {},
   "source": [
    "<div class=\"span5 alert alert-success\">\n",
    " <font size=\"5\" face=\"Georgia\">Bayesian Linear Mixed Models (Genomic Data)</font> \n",
    "</div>"
   ]
  },
  {
   "cell_type": "code",
   "execution_count": 1,
   "metadata": {},
   "outputs": [
    {
     "name": "stdout",
     "output_type": "stream",
     "text": [
      "/Users/haocheng/Github/JWAS.jl/docs/notebooks_v0.3\n"
     ]
    }
   ],
   "source": [
    ";pwd"
   ]
  },
  {
   "cell_type": "code",
   "execution_count": 2,
   "metadata": {},
   "outputs": [
    {
     "data": {
      "text/plain": [
       "JWAS"
      ]
     },
     "execution_count": 2,
     "metadata": {},
     "output_type": "execute_result"
    }
   ],
   "source": [
    "include(\"../../src/JWAS.jl\")"
   ]
  },
  {
   "cell_type": "markdown",
   "metadata": {},
   "source": [
    "<button type=\"button\" class=\"btn btn-lg btn-primary\">Step 1: Load Packages</button> "
   ]
  },
  {
   "cell_type": "code",
   "execution_count": 3,
   "metadata": {},
   "outputs": [],
   "source": [
    "using JWAS,JWAS.Datasets,DataFrames,CSV"
   ]
  },
  {
   "cell_type": "markdown",
   "metadata": {},
   "source": [
    "<button type=\"button\" class=\"btn btn-lg btn-primary\">Step 2: Read data</button> "
   ]
  },
  {
   "cell_type": "code",
   "execution_count": 4,
   "metadata": {},
   "outputs": [
    {
     "name": "stderr",
     "output_type": "stream",
     "text": [
      "\u001b[32mcoding pedigree... 100%|████████████████████████████████| Time: 0:00:00\u001b[39m"
     ]
    },
    {
     "name": "stdout",
     "output_type": "stream",
     "text": [
      "Finished!\n"
     ]
    },
    {
     "name": "stderr",
     "output_type": "stream",
     "text": [
      "\n",
      "\r",
      "\u001b[32mcalculating inbreeding...  10%|██                       |  ETA: 0:00:01\u001b[39m\r",
      "\u001b[32mcalculating inbreeding... 100%|█████████████████████████| Time: 0:00:00\u001b[39m\n"
     ]
    }
   ],
   "source": [
    "phenofile  = Datasets.dataset(\"example\",\"phenotypes.txt\")\n",
    "pedfile    = Datasets.dataset(\"example\",\"pedigree.txt\")\n",
    "genofile   = Datasets.dataset(\"example\",\"genotypes.txt\")\n",
    "\n",
    "phenotypes = CSV.read(phenofile,delim = ',',header=true)\n",
    "pedigree   = get_pedigree(pedfile,separator=\",\",header=true);"
   ]
  },
  {
   "cell_type": "code",
   "execution_count": 5,
   "metadata": {},
   "outputs": [
    {
     "data": {
      "text/html": [
       "<table class=\"data-frame\"><thead><tr><th></th><th>ID</th><th>y1</th><th>y2</th><th>y3</th><th>x1</th><th>x2</th><th>x3</th><th>dam</th></tr></thead><tbody><tr><th>1</th><td>a1</td><td>-0.06</td><td>3.58</td><td>-1.18</td><td>0.9</td><td>2</td><td>m</td><td>0</td></tr><tr><th>2</th><td>a2</td><td>-0.6</td><td>4.9</td><td>0.88</td><td>0.3</td><td>1</td><td>f</td><td>0</td></tr><tr><th>3</th><td>a3</td><td>-2.07</td><td>3.19</td><td>0.73</td><td>0.7</td><td>2</td><td>f</td><td>0</td></tr><tr><th>4</th><td>a4</td><td>-2.63</td><td>6.97</td><td>-0.83</td><td>0.6</td><td>1</td><td>m</td><td>a2</td></tr><tr><th>5</th><td>a5</td><td>2.31</td><td>3.5</td><td>-1.52</td><td>0.4</td><td>2</td><td>m</td><td>a2</td></tr><tr><th>6</th><td>a6</td><td>0.93</td><td>4.87</td><td>-0.01</td><td>5.0</td><td>2</td><td>f</td><td>a3</td></tr></tbody></table>"
      ],
      "text/plain": [
       "6×8 DataFrames.DataFrame\n",
       "│ Row │ ID │ y1    │ y2   │ y3    │ x1  │ x2 │ x3 │ dam │\n",
       "├─────┼────┼───────┼──────┼───────┼─────┼────┼────┼─────┤\n",
       "│ 1   │ a1 │ -0.06 │ 3.58 │ -1.18 │ 0.9 │ 2  │ m  │ 0   │\n",
       "│ 2   │ a2 │ -0.6  │ 4.9  │ 0.88  │ 0.3 │ 1  │ f  │ 0   │\n",
       "│ 3   │ a3 │ -2.07 │ 3.19 │ 0.73  │ 0.7 │ 2  │ f  │ 0   │\n",
       "│ 4   │ a4 │ -2.63 │ 6.97 │ -0.83 │ 0.6 │ 1  │ m  │ a2  │\n",
       "│ 5   │ a5 │ 2.31  │ 3.5  │ -1.52 │ 0.4 │ 2  │ m  │ a2  │\n",
       "│ 6   │ a6 │ 0.93  │ 4.87 │ -0.01 │ 5.0 │ 2  │ f  │ a3  │"
      ]
     },
     "execution_count": 5,
     "metadata": {},
     "output_type": "execute_result"
    }
   ],
   "source": [
    "head(phenotypes)"
   ]
  },
  {
   "cell_type": "markdown",
   "metadata": {},
   "source": [
    "<div class=\"span5 alert alert-success\">\n",
    " <font size=\"5\" face=\"Georgia\">Univariate Linear Mixed Model (Genomic data)</font> \n",
    "</div>"
   ]
  },
  {
   "cell_type": "markdown",
   "metadata": {},
   "source": [
    "<button type=\"button\" class=\"btn btn-lg btn-primary\">Step 3: Build Model Equations</button> "
   ]
  },
  {
   "cell_type": "code",
   "execution_count": 31,
   "metadata": {},
   "outputs": [],
   "source": [
    "model_equation1  =\"y1 = intercept + x1*x3 + x2 + x3 + ID + dam\";"
   ]
  },
  {
   "cell_type": "code",
   "execution_count": 32,
   "metadata": {},
   "outputs": [],
   "source": [
    "R      = 1.0\n",
    "model1 = build_model(model_equation1,R);"
   ]
  },
  {
   "cell_type": "markdown",
   "metadata": {},
   "source": [
    "<button type=\"button\" class=\"btn btn-lg btn-primary\">Step 4: Set Factors or Covariates</button> "
   ]
  },
  {
   "cell_type": "code",
   "execution_count": 33,
   "metadata": {},
   "outputs": [],
   "source": [
    "set_covariate(model1,\"x2\");"
   ]
  },
  {
   "cell_type": "markdown",
   "metadata": {},
   "source": [
    "<button type=\"button\" class=\"btn btn-lg btn-primary\">Step 5: Build Random or Fixed Effects</button> "
   ]
  },
  {
   "cell_type": "code",
   "execution_count": 34,
   "metadata": {},
   "outputs": [],
   "source": [
    "G1 = 1.0\n",
    "G2 = eye(2)\n",
    "set_random(model1,\"x2\",G1);\n",
    "set_random(model1,\"x3\",G1);\n",
    "set_random(model1,\"ID dam\",pedigree,G2);"
   ]
  },
  {
   "cell_type": "markdown",
   "metadata": {},
   "source": [
    "<button type=\"button\" class=\"btn btn-lg btn-primary\">Step 6: Use Genomic Information</button> "
   ]
  },
  {
   "cell_type": "code",
   "execution_count": 35,
   "metadata": {},
   "outputs": [
    {
     "name": "stdout",
     "output_type": "stream",
     "text": [
      "5 markers on 10 individuals were added.\n"
     ]
    }
   ],
   "source": [
    "G3 =1.0\n",
    "add_genotypes(model1,genofile,G3,separator=',',G_is_marker_variance=true);"
   ]
  },
  {
   "cell_type": "code",
   "execution_count": 36,
   "metadata": {},
   "outputs": [],
   "source": [
    "outputMCMCsamples(model1,\"x3\")"
   ]
  },
  {
   "cell_type": "markdown",
   "metadata": {},
   "source": [
    "<button type=\"button\" class=\"btn btn-lg btn-primary\">Step 7: Run Analysis</button> "
   ]
  },
  {
   "cell_type": "code",
   "execution_count": 37,
   "metadata": {},
   "outputs": [
    {
     "name": "stdout",
     "output_type": "stream",
     "text": [
      "\n",
      "\n",
      "\n",
      "MCMC Information:\n",
      "\n",
      "methods                                      BayesB\n",
      "chain_length                                   5000\n",
      "burnin                                            0\n",
      "starting_value                                false\n",
      "printout_frequency                             5001\n",
      "output_samples_frequency                        100\n",
      "constraint                                    false\n",
      "missing_phenotypes                            false\n",
      "update_priors_frequency                           0\n",
      "\n",
      "Information for hyper-parameter: π (Π)\n",
      "π                                               0.0\n",
      "estimatePi                                    false\n",
      "\n",
      "Degree of freedom for hyper-parameters:\n",
      "residual variances:                           4.000\n",
      "iid random effect variances:                  4.000\n",
      "polygenic effect variances:                   4.000\n",
      "marker effect variances:                      4.000\n",
      "\n",
      "\n",
      "\n"
     ]
    },
    {
     "name": "stderr",
     "output_type": "stream",
     "text": [
      "\u001b[1m\u001b[33mWARNING: \u001b[39m\u001b[22m\u001b[33mThe file MCMC_samples_residual_variance.txt already exists!!! It is overwritten by the new output.\u001b[39m\n",
      "\u001b[1m\u001b[33mWARNING: \u001b[39m\u001b[22m\u001b[33mThe file MCMC_samples_polygenic_effects_variance.txt already exists!!! It is overwritten by the new output.\u001b[39m\n",
      "\u001b[1m\u001b[33mWARNING: \u001b[39m\u001b[22m\u001b[33mThe file MCMC_samples_y1_marker_effects.txt already exists!!! It is overwritten by the new output.\u001b[39m\n",
      "\u001b[1m\u001b[33mWARNING: \u001b[39m\u001b[22m\u001b[33mThe file MCMC_samples_marker_effects_variances.txt already exists!!! It is overwritten by the new output.\u001b[39m\n",
      "\u001b[1m\u001b[33mWARNING: \u001b[39m\u001b[22m\u001b[33mThe file MCMC_samples_pi.txt already exists!!! It is overwritten by the new output.\u001b[39m\n",
      "\u001b[1m\u001b[33mWARNING: \u001b[39m\u001b[22m\u001b[33mThe file MCMC_samples_x2_variances.txt already exists!!! It is overwritten by the new output.\u001b[39m\n",
      "\u001b[1m\u001b[33mWARNING: \u001b[39m\u001b[22m\u001b[33mThe file MCMC_samples_x3_variances.txt already exists!!! It is overwritten by the new output.\u001b[39m\n",
      "\u001b[32mrunning MCMC for BayesB ...100%|████████████████████████| Time: 0:00:01\u001b[39m\n"
     ]
    }
   ],
   "source": [
    "out1=runMCMC(model1,phenotypes,chain_length=5000,methods=\"BayesB\",output_samples_frequency=100);"
   ]
  },
  {
   "cell_type": "code",
   "execution_count": 13,
   "metadata": {},
   "outputs": [
    {
     "data": {
      "text/plain": [
       "Base.KeyIterator for a Dict{Any,Any} with 3 entries. Keys:\n",
       "  \"Posterior mean of marker effects\"\n",
       "  \"Posterior mean of location parameters\"\n",
       "  \"MCMC samples for: 1:x3\""
      ]
     },
     "execution_count": 13,
     "metadata": {},
     "output_type": "execute_result"
    }
   ],
   "source": [
    "keys(out1)"
   ]
  },
  {
   "cell_type": "code",
   "execution_count": 14,
   "metadata": {},
   "outputs": [
    {
     "data": {
      "text/plain": [
       "51×2 Array{Any,2}:\n",
       "   \"1:x3 : m\"    \"1:x3 : f\"\n",
       " -1.29018      -0.791645   \n",
       " -0.576721      0.462971   \n",
       "  0.847065     -0.0730476  \n",
       "  0.943571      0.22769    \n",
       " -1.40503      -0.24283    \n",
       "  1.9577        1.57373    \n",
       "  0.691723     -0.463638   \n",
       "  0.32902      -0.27348    \n",
       "  0.012153     -0.910058   \n",
       " -0.0437385     1.115      \n",
       " -0.0276657     1.15303    \n",
       " -0.806354     -0.782516   \n",
       "  ⋮                        \n",
       "  1.52325      -2.61419    \n",
       " -0.54575      -1.04289    \n",
       " -0.571396     -0.0172729  \n",
       "  1.30215      -0.989892   \n",
       "  0.0505139     0.269762   \n",
       " -0.521277     -0.62662    \n",
       "  0.396045     -0.445992   \n",
       " -1.26731       1.12148    \n",
       "  0.916822     -0.0603681  \n",
       " -0.569464     -0.39921    \n",
       " -0.858377      0.825486   \n",
       "  1.2156        0.297428   "
      ]
     },
     "execution_count": 14,
     "metadata": {},
     "output_type": "execute_result"
    }
   ],
   "source": [
    "out1[\"MCMC samples for: 1:x3\"]"
   ]
  },
  {
   "cell_type": "code",
   "execution_count": 15,
   "metadata": {},
   "outputs": [
    {
     "data": {
      "text/plain": [
       "33×2 Array{Any,2}:\n",
       " \"1:intercept : intercept\"  -18.3513    \n",
       " \"1:x1*x3 : 0.9 * m\"         17.8156    \n",
       " \"1:x1*x3 : 0.3 * f\"         17.5648    \n",
       " \"1:x1*x3 : 0.7 * f\"         16.2725    \n",
       " \"1:x1*x3 : 0.6 * m\"         16.0125    \n",
       " \"1:x1*x3 : 0.4 * m\"         17.7696    \n",
       " \"1:x1*x3 : 5.0 * f\"         20.5157    \n",
       " \"1:x1*x3 : 0.5 * f\"         16.7506    \n",
       " \"1:x1*x3 : 0.3 * m\"         15.142     \n",
       " \"1:x1*x3 : 0.2 * m\"         18.5722    \n",
       " \"1:x2 : x2\"                  0.0914076 \n",
       " \"1:x3 : m\"                  -0.00792315\n",
       " \"1:x3 : f\"                   0.00473313\n",
       " ⋮                                      \n",
       " \"1:ID : a10\"                 0.256301  \n",
       " \"1:ID : a9\"                 -0.297277  \n",
       " \"1:dam : a1\"                -0.292514  \n",
       " \"1:dam : a3\"                -0.382114  \n",
       " \"1:dam : a6\"                -0.671305  \n",
       " \"1:dam : a7\"                -0.361783  \n",
       " \"1:dam : a2\"                 0.654975  \n",
       " \"1:dam : a4\"                 0.191197  \n",
       " \"1:dam : a8\"                -0.23995   \n",
       " \"1:dam : a5\"                 0.172734  \n",
       " \"1:dam : a10\"               -0.127402  \n",
       " \"1:dam : a9\"                -0.224354  "
      ]
     },
     "execution_count": 15,
     "metadata": {},
     "output_type": "execute_result"
    }
   ],
   "source": [
    "out1[\"Posterior mean of location parameters\"]"
   ]
  },
  {
   "cell_type": "code",
   "execution_count": 16,
   "metadata": {},
   "outputs": [
    {
     "data": {
      "text/plain": [
       "51×2 Array{Any,2}:\n",
       "   \"1:x3 : m\"    \"1:x3 : f\"\n",
       " -1.29018      -0.791645   \n",
       " -0.576721      0.462971   \n",
       "  0.847065     -0.0730476  \n",
       "  0.943571      0.22769    \n",
       " -1.40503      -0.24283    \n",
       "  1.9577        1.57373    \n",
       "  0.691723     -0.463638   \n",
       "  0.32902      -0.27348    \n",
       "  0.012153     -0.910058   \n",
       " -0.0437385     1.115      \n",
       " -0.0276657     1.15303    \n",
       " -0.806354     -0.782516   \n",
       "  ⋮                        \n",
       "  1.52325      -2.61419    \n",
       " -0.54575      -1.04289    \n",
       " -0.571396     -0.0172729  \n",
       "  1.30215      -0.989892   \n",
       "  0.0505139     0.269762   \n",
       " -0.521277     -0.62662    \n",
       "  0.396045     -0.445992   \n",
       " -1.26731       1.12148    \n",
       "  0.916822     -0.0603681  \n",
       " -0.569464     -0.39921    \n",
       " -0.858377      0.825486   \n",
       "  1.2156        0.297428   "
      ]
     },
     "execution_count": 16,
     "metadata": {},
     "output_type": "execute_result"
    }
   ],
   "source": [
    "out1[\"MCMC samples for: 1:x3\"]"
   ]
  },
  {
   "cell_type": "code",
   "execution_count": 17,
   "metadata": {},
   "outputs": [
    {
     "name": "stdout",
     "output_type": "stream",
     "text": [
      "MCMC Information:\n",
      "\n",
      "methods                        conventional (no markers)\n",
      "chain_length                                   5000\n",
      "burnin                                            0\n",
      "starting_value                                false\n",
      "printout_frequency                             5001\n",
      "output_samples_frequency                        100\n",
      "constraint                                    false\n",
      "missing_phenotypes                            false\n",
      "update_priors_frequency                           0\n",
      "\n",
      "Degree of freedom for hyper-parameters:\n",
      "residual variances:                           4.000\n",
      "iid random effect variances:                  4.000\n",
      "polygenic effect variances:                   4.000\n",
      "marker effect variances:                      4.000\n",
      "\n",
      "\n",
      "\n"
     ]
    },
    {
     "ename": "LoadError",
     "evalue": "\u001b[91mPlease build your model again using the function build_model().\u001b[39m",
     "output_type": "error",
     "traceback": [
      "\u001b[91mPlease build your model again using the function build_model().\u001b[39m",
      "",
      "Stacktrace:",
      " [1] \u001b[1mgetMME\u001b[22m\u001b[22m\u001b[1m(\u001b[22m\u001b[22m::JWAS.MME, ::DataFrames.DataFrame\u001b[1m)\u001b[22m\u001b[22m at \u001b[1m/Users/haocheng/Github/JWAS.jl/src/1.JWAS/src/build_MME.jl:195\u001b[22m\u001b[22m",
      " [2] \u001b[1mpre_check\u001b[22m\u001b[22m\u001b[1m(\u001b[22m\u001b[22m::JWAS.MME, ::DataFrames.DataFrame, ::Bool\u001b[1m)\u001b[22m\u001b[22m at \u001b[1m/Users/haocheng/Github/JWAS.jl/src/1.JWAS/src/MCMC/DRY.jl:6\u001b[22m\u001b[22m",
      " [3] \u001b[1m#MCMC_BayesC#36\u001b[22m\u001b[22m\u001b[1m(\u001b[22m\u001b[22m::Int64, ::Float64, ::Bool, ::Bool, ::Int64, ::String, ::Int64, ::String, ::JWAS.#MCMC_BayesC, ::Int64, ::JWAS.MME, ::DataFrames.DataFrame\u001b[1m)\u001b[22m\u001b[22m at \u001b[1m/Users/haocheng/Github/JWAS.jl/src/1.JWAS/src/MCMC/MCMC_BayesC.jl:16\u001b[22m\u001b[22m",
      " [4] \u001b[1m(::JWAS.#kw##MCMC_BayesC)\u001b[22m\u001b[22m\u001b[1m(\u001b[22m\u001b[22m::Array{Any,1}, ::JWAS.#MCMC_BayesC, ::Int64, ::JWAS.MME, ::DataFrames.DataFrame\u001b[1m)\u001b[22m\u001b[22m at \u001b[1m./<missing>:0\u001b[22m\u001b[22m",
      " [5] \u001b[1m#runMCMC#60\u001b[22m\u001b[22m\u001b[1m(\u001b[22m\u001b[22m::Float64, ::Int64, ::Int64, ::Bool, ::Bool, ::Bool, ::Bool, ::String, ::String, ::String, ::Int64, ::Bool, ::Int64, ::Int64, ::JWAS.#runMCMC, ::JWAS.MME, ::DataFrames.DataFrame\u001b[1m)\u001b[22m\u001b[22m at \u001b[1m/Users/haocheng/Github/JWAS.jl/src/1.JWAS/src/MCMC/MCMC.jl:96\u001b[22m\u001b[22m",
      " [6] \u001b[1m(::JWAS.#kw##runMCMC)\u001b[22m\u001b[22m\u001b[1m(\u001b[22m\u001b[22m::Array{Any,1}, ::JWAS.#runMCMC, ::JWAS.MME, ::DataFrames.DataFrame\u001b[1m)\u001b[22m\u001b[22m at \u001b[1m./<missing>:0\u001b[22m\u001b[22m",
      " [7] \u001b[1minclude_string\u001b[22m\u001b[22m\u001b[1m(\u001b[22m\u001b[22m::String, ::String\u001b[1m)\u001b[22m\u001b[22m at \u001b[1m./loading.jl:522\u001b[22m\u001b[22m"
     ]
    }
   ],
   "source": [
    "out2=runMCMC(model1,phenotypes,chain_length=5000,output_samples_frequency=100);"
   ]
  }
 ],
 "metadata": {
  "anaconda-cloud": {},
  "kernelspec": {
   "display_name": "Julia 0.6.2",
   "language": "julia",
   "name": "julia-0.6"
  },
  "language_info": {
   "file_extension": ".jl",
   "mimetype": "application/julia",
   "name": "julia",
   "version": "0.6.2"
  }
 },
 "nbformat": 4,
 "nbformat_minor": 1
}
