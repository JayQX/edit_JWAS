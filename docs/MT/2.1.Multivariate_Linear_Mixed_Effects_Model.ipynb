{
 "cells": [
  {
   "cell_type": "markdown",
   "metadata": {},
   "source": [
    "<ul class=\"breadcrumb\">\n",
    "  <li><a href=\"2.1.Multivariate_Linear_Mixed_Effects_Model.ipynb\">Multivariate Basics</a></li>\n",
    "  <li><a href=\"2.2.Multivariate_Linear_Additive_Genetic_Model.ipynb\">Multivariate Additive Genetic Model</a></li> \n",
    "  <li><a href=\"2.3.Multivariate_Linear_Mixed_Effects_Model_with_Genomic_Data.ipynb\">Multivariate Genomic Data</a></li>\n",
    "</ul>"
   ]
  },
  {
   "cell_type": "markdown",
   "metadata": {},
   "source": [
    "<div class=\"span5 alert alert-success\">\n",
    " <font size=\"5\" face=\"Georgia\">The Multivariate Linear Mixed Effects Model</font> \n",
    "</div>"
   ]
  },
  {
   "cell_type": "code",
   "execution_count": 1,
   "metadata": {
    "collapsed": false
   },
   "outputs": [],
   "source": [
    "using DataFrames,JWAS,JWAS.Datasets"
   ]
  },
  {
   "cell_type": "markdown",
   "metadata": {},
   "source": [
    "<button type=\"button\" class=\"btn btn-lg btn-primary\">Data</button> "
   ]
  },
  {
   "cell_type": "code",
   "execution_count": 2,
   "metadata": {
    "collapsed": false
   },
   "outputs": [
    {
     "data": {
      "text/html": [
       "<table class=\"data-frame\"><tr><th></th><th>sow</th><th>site</th><th>yr</th><th>age</th><th>geneticCode</th><th>parity</th><th>nwn</th><th>SYS</th><th>bw</th></tr><tr><th>1</th><td>100-113</td><td>113</td><td>2005</td><td>18</td><td>PIC 1</td><td>1</td><td>8</td><td>113_2005_WNTR</td><td>9.0</td></tr><tr><th>2</th><td>100-113</td><td>113</td><td>2006</td><td>18</td><td>PIC 1</td><td>2</td><td>12</td><td>113_2006_SPNG</td><td>8.0</td></tr><tr><th>3</th><td>100-5</td><td>5</td><td>2008</td><td>15</td><td>PIC 2</td><td>1</td><td>10</td><td>5_2008_ATMN</td><td>7.5</td></tr><tr><th>4</th><td>1000-5</td><td>5</td><td>2009</td><td>17</td><td>PIC 2</td><td>1</td><td>10</td><td>5_2009_SPNG</td><td>8.3</td></tr><tr><th>5</th><td>10000-13</td><td>13</td><td>2004</td><td>16</td><td>Commercial</td><td>1</td><td>9</td><td>13_2004_WNTR</td><td>4.3</td></tr><tr><th>6</th><td>10000-13</td><td>13</td><td>2004</td><td>18</td><td>Commercial</td><td>2</td><td>10</td><td>13_2004_SMMR</td><td>2.8</td></tr><tr><th>7</th><td>10000-13</td><td>13</td><td>2004</td><td>20</td><td>Commercial</td><td>3</td><td>11</td><td>13_2004_ATMN</td><td>3.9</td></tr><tr><th>8</th><td>10000-13</td><td>13</td><td>2005</td><td>18</td><td>Commercial</td><td>4</td><td>11</td><td>13_2005_SPNG</td><td>10.0</td></tr><tr><th>9</th><td>10000-13</td><td>13</td><td>2005</td><td>25</td><td>Commercial</td><td>5</td><td>7</td><td>13_2005_ATMN</td><td>4.0</td></tr><tr><th>10</th><td>10000-6</td><td>6</td><td>2012</td><td>17</td><td>PIC C27</td><td>1</td><td>12</td><td>6_2012_ATMN</td><td>8.9</td></tr></table>"
      ],
      "text/plain": [
       "10×9 DataFrames.DataFrame\n",
       "│ Row │ sow        │ site │ yr   │ age │ geneticCode  │ parity │ nwn │\n",
       "├─────┼────────────┼──────┼──────┼─────┼──────────────┼────────┼─────┤\n",
       "│ 1   │ \"100-113\"  │ 113  │ 2005 │ 18  │ \"PIC 1\"      │ 1      │ 8   │\n",
       "│ 2   │ \"100-113\"  │ 113  │ 2006 │ 18  │ \"PIC 1\"      │ 2      │ 12  │\n",
       "│ 3   │ \"100-5\"    │ 5    │ 2008 │ 15  │ \"PIC 2\"      │ 1      │ 10  │\n",
       "│ 4   │ \"1000-5\"   │ 5    │ 2009 │ 17  │ \"PIC 2\"      │ 1      │ 10  │\n",
       "│ 5   │ \"10000-13\" │ 13   │ 2004 │ 16  │ \"Commercial\" │ 1      │ 9   │\n",
       "│ 6   │ \"10000-13\" │ 13   │ 2004 │ 18  │ \"Commercial\" │ 2      │ 10  │\n",
       "│ 7   │ \"10000-13\" │ 13   │ 2004 │ 20  │ \"Commercial\" │ 3      │ 11  │\n",
       "│ 8   │ \"10000-13\" │ 13   │ 2005 │ 18  │ \"Commercial\" │ 4      │ 11  │\n",
       "│ 9   │ \"10000-13\" │ 13   │ 2005 │ 25  │ \"Commercial\" │ 5      │ 7   │\n",
       "│ 10  │ \"10000-6\"  │ 6    │ 2012 │ 17  │ \"PIC C27\"    │ 1      │ 12  │\n",
       "\n",
       "│ Row │ SYS             │ bw   │\n",
       "├─────┼─────────────────┼──────┤\n",
       "│ 1   │ \"113_2005_WNTR\" │ 9.0  │\n",
       "│ 2   │ \"113_2006_SPNG\" │ 8.0  │\n",
       "│ 3   │ \"5_2008_ATMN\"   │ 7.5  │\n",
       "│ 4   │ \"5_2009_SPNG\"   │ 8.3  │\n",
       "│ 5   │ \"13_2004_WNTR\"  │ 4.3  │\n",
       "│ 6   │ \"13_2004_SMMR\"  │ 2.8  │\n",
       "│ 7   │ \"13_2004_ATMN\"  │ 3.9  │\n",
       "│ 8   │ \"13_2005_SPNG\"  │ 10.0 │\n",
       "│ 9   │ \"13_2005_ATMN\"  │ 4.0  │\n",
       "│ 10  │ \"6_2012_ATMN\"   │ 8.9  │"
      ]
     },
     "execution_count": 2,
     "metadata": {},
     "output_type": "execute_result"
    }
   ],
   "source": [
    "phenofile = Datasets.dataset(\"testMME\",\"data.txt\")\n",
    "data      = readtable(phenofile,separator = ',',header=true)"
   ]
  },
  {
   "cell_type": "markdown",
   "metadata": {},
   "source": [
    "<button type=\"button\" class=\"btn btn-lg btn-primary\">Build Model</button> "
   ]
  },
  {
   "cell_type": "markdown",
   "metadata": {},
   "source": [
    "#### set up model equations"
   ]
  },
  {
   "cell_type": "code",
   "execution_count": 8,
   "metadata": {
    "collapsed": false
   },
   "outputs": [],
   "source": [
    "model_equations    = \"nwn = intercept+parity*site+ age\n",
    "                      bw = intercept+parity*site+ age\";\n",
    "\n",
    "residual_variance = [10.0 2.0\n",
    "                      2.0 1.0];"
   ]
  },
  {
   "cell_type": "code",
   "execution_count": 9,
   "metadata": {
    "collapsed": false
   },
   "outputs": [],
   "source": [
    "model = build_model(model_equations,R);"
   ]
  },
  {
   "cell_type": "markdown",
   "metadata": {},
   "source": [
    "#### set variables as covariate (all variables are set as factors by default)"
   ]
  },
  {
   "cell_type": "code",
   "execution_count": 10,
   "metadata": {
    "collapsed": false
   },
   "outputs": [
    {
     "data": {
      "text/plain": [
       "1-element Array{Symbol,1}:\n",
       " :age"
      ]
     },
     "execution_count": 10,
     "metadata": {},
     "output_type": "execute_result"
    }
   ],
   "source": [
    "set_covariate(model,\"age\")"
   ]
  },
  {
   "cell_type": "markdown",
   "metadata": {},
   "source": [
    "<button type=\"button\" class=\"btn btn-lg btn-primary\">Run Model</button> "
   ]
  },
  {
   "cell_type": "code",
   "execution_count": 15,
   "metadata": {
    "collapsed": false
   },
   "outputs": [
    {
     "name": "stdout",
     "output_type": "stream",
     "text": [
      "MCMC Information:\n",
      "methods                        conventional (no markers)\n",
      "chain_length                                  10000\n",
      "estimatePi                                    false\n",
      "constraint                                    false\n",
      "missing_phenotypes                            false\n",
      "starting_value                                false\n",
      "output_samples_frequency                          0\n",
      "printout_frequency                            10001\n",
      "\n",
      "Degree of freedom for hyper-parameters:\n",
      "residual variances:                           4.000\n",
      "iid random effect variances:                  4.000\n",
      "polygenic effect variances:                   4.000\n",
      "marker effect variances:                      4.000\n",
      "\n",
      "\n",
      "\n",
      "running MCMC for conventional (no markers)...100%|██████| Time: 0:00:03\n"
     ]
    }
   ],
   "source": [
    "out=runMCMC(model,data,chain_length=10000);"
   ]
  },
  {
   "cell_type": "markdown",
   "metadata": {},
   "source": [
    "<button type=\"button\" class=\"btn btn-lg btn-primary\">Check Results</button> "
   ]
  },
  {
   "cell_type": "code",
   "execution_count": 16,
   "metadata": {
    "collapsed": false
   },
   "outputs": [
    {
     "data": {
      "text/plain": [
       "Base.KeyIterator for a Dict{Any,Any} with 2 entries. Keys:\n",
       "  \"Posterior mean of residual covariance matrix\"\n",
       "  \"Posterior mean of location parameters\""
      ]
     },
     "execution_count": 16,
     "metadata": {},
     "output_type": "execute_result"
    }
   ],
   "source": [
    "keys(out)"
   ]
  },
  {
   "cell_type": "code",
   "execution_count": 17,
   "metadata": {
    "collapsed": false
   },
   "outputs": [
    {
     "data": {
      "text/plain": [
       "22x2 Array{Any,2}:\n",
       " \"1:intercept : intercept\"  -140.891   \n",
       " \"1:parity*site : 1 * 113\"   108.702   \n",
       " \"1:parity*site : 2 * 113\"   112.802   \n",
       " \"1:parity*site : 1 * 5\"     115.115   \n",
       " \"1:parity*site : 1 * 13\"    114.183   \n",
       " \"1:parity*site : 2 * 13\"    110.838   \n",
       " \"1:parity*site : 3 * 13\"    107.378   \n",
       " \"1:parity*site : 4 * 13\"    111.735   \n",
       " \"1:parity*site : 5 * 13\"     91.841   \n",
       " \"1:parity*site : 1 * 6\"     114.952   \n",
       " \"1:age : age\"                 2.23324 \n",
       " \"2:intercept : intercept\"    15.0951  \n",
       " \"2:parity*site : 1 * 113\"   -17.3747  \n",
       " \"2:parity*site : 2 * 113\"   -18.3593  \n",
       " \"2:parity*site : 1 * 5\"     -17.2309  \n",
       " \"2:parity*site : 1 * 13\"    -20.8182  \n",
       " \"2:parity*site : 2 * 13\"    -23.5577  \n",
       " \"2:parity*site : 3 * 13\"    -23.7158  \n",
       " \"2:parity*site : 4 * 13\"    -16.3717  \n",
       " \"2:parity*site : 5 * 13\"    -26.7867  \n",
       " \"2:parity*site : 1 * 6\"     -16.8515  \n",
       " \"2:age : age\"                 0.626808"
      ]
     },
     "execution_count": 17,
     "metadata": {},
     "output_type": "execute_result"
    }
   ],
   "source": [
    "out[\"Posterior mean of location parameters\"]"
   ]
  },
  {
   "cell_type": "code",
   "execution_count": null,
   "metadata": {
    "collapsed": true
   },
   "outputs": [],
   "source": []
  }
 ],
 "metadata": {
  "kernelspec": {
   "display_name": "Julia 0.4.6",
   "language": "julia",
   "name": "julia-0.4"
  },
  "language_info": {
   "file_extension": ".jl",
   "mimetype": "application/julia",
   "name": "julia",
   "version": "0.4.6"
  }
 },
 "nbformat": 4,
 "nbformat_minor": 0
}
