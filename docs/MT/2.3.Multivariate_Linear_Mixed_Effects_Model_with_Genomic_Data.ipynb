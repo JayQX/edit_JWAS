{
 "cells": [
  {
   "cell_type": "markdown",
   "metadata": {},
   "source": [
    "<ul class=\"breadcrumb\">\n",
    "  <li><a href=\"2.1.Multivariate_Linear_Mixed_Effects_Model.ipynb\">Multivariate Basics</a></li>\n",
    "  <li><a href=\"2.2.Multivariate_Linear_Additive_Genetic_Model.ipynb\">Multivariate Additive Genetic Model</a></li> \n",
    "  <li><a href=\"2.3.Multivariate_Linear_Mixed_Effects_Model_with_Genomic_Data.ipynb\">Multivariate Genomic Data</a></li>\n",
    "</ul>"
   ]
  },
  {
   "cell_type": "markdown",
   "metadata": {},
   "source": [
    "<div class=\"span5 alert alert-success\">\n",
    " <font size=\"5\" face=\"Georgia\">Multivariate Linear Mixed Effects Model with Genomic Data</font> \n",
    "</div>"
   ]
  },
  {
   "cell_type": "code",
   "execution_count": 1,
   "metadata": {
    "collapsed": false
   },
   "outputs": [
    {
     "data": {
      "text/plain": [
       "JWAS"
      ]
     },
     "execution_count": 1,
     "metadata": {},
     "output_type": "execute_result"
    }
   ],
   "source": [
    "include(\"../../src/JWAS.jl\")"
   ]
  },
  {
   "cell_type": "code",
   "execution_count": 2,
   "metadata": {
    "collapsed": false
   },
   "outputs": [],
   "source": [
    "using DataFrames\n",
    "using JWAS: MT,Datasets,QTL"
   ]
  },
  {
   "cell_type": "markdown",
   "metadata": {},
   "source": [
    "<button type=\"button\" class=\"btn btn-lg btn-primary\">Data</button> "
   ]
  },
  {
   "cell_type": "code",
   "execution_count": 3,
   "metadata": {
    "collapsed": false
   },
   "outputs": [],
   "source": [
    "phenofile = Datasets.dataset(\"testMT\",\"phenotype.txt\")\n",
    "genofile  = Datasets.dataset(\"testMT\",\"genotype.txt\")\n",
    "pedfile   = Datasets.dataset(\"testMT\",\"pedigree.txt\");"
   ]
  },
  {
   "cell_type": "markdown",
   "metadata": {},
   "source": [
    "### phenotypes"
   ]
  },
  {
   "cell_type": "code",
   "execution_count": 4,
   "metadata": {
    "collapsed": false
   },
   "outputs": [
    {
     "name": "stdout",
     "output_type": "stream",
     "text": [
      "Animal,BW,CW,age,sex\n",
      "S1,100.0,10.0,8,M\n",
      "D1,50.0,12.9,7,F\n",
      "O1,150.0,13.0,3,M\n",
      "O3,40.0,5.0,4,F\n"
     ]
    }
   ],
   "source": [
    ";cat $phenofile"
   ]
  },
  {
   "cell_type": "markdown",
   "metadata": {},
   "source": [
    "### genotypes"
   ]
  },
  {
   "cell_type": "code",
   "execution_count": 5,
   "metadata": {
    "collapsed": false
   },
   "outputs": [
    {
     "name": "stdout",
     "output_type": "stream",
     "text": [
      "Animal,x1,x2,x3,x4,x5\n",
      "S1,1.0,0.0,1.0,1.0,1.0\n",
      "D1,2.0,0.0,2.0,2.0,1.0\n",
      "O1,1.0,2.0,0.0,1.0,0.0\n",
      "O3,0.0,0.0,2.0,1.0,1.0\n"
     ]
    }
   ],
   "source": [
    ";cat $genofile"
   ]
  },
  {
   "cell_type": "markdown",
   "metadata": {},
   "source": [
    "### pedigree"
   ]
  },
  {
   "cell_type": "code",
   "execution_count": 6,
   "metadata": {
    "collapsed": false
   },
   "outputs": [
    {
     "name": "stdout",
     "output_type": "stream",
     "text": [
      "S1 0 0\n",
      "D1 0 0\n",
      "O1 S1 D1\n",
      "O2 S1 D1\n",
      "O3 S1 D1\n"
     ]
    }
   ],
   "source": [
    ";cat $pedfile"
   ]
  },
  {
   "cell_type": "code",
   "execution_count": 7,
   "metadata": {
    "collapsed": false
   },
   "outputs": [
    {
     "data": {
      "text/html": [
       "<table class=\"data-frame\"><tr><th></th><th>Animal</th><th>BW</th><th>CW</th><th>age</th><th>sex</th></tr><tr><th>1</th><td>S1</td><td>100.0</td><td>10.0</td><td>8</td><td>M</td></tr><tr><th>2</th><td>D1</td><td>50.0</td><td>12.9</td><td>7</td><td>F</td></tr><tr><th>3</th><td>O1</td><td>150.0</td><td>13.0</td><td>3</td><td>M</td></tr><tr><th>4</th><td>O3</td><td>40.0</td><td>5.0</td><td>4</td><td>F</td></tr></table>"
      ],
      "text/plain": [
       "4×5 DataFrames.DataFrame\n",
       "│ Row │ Animal │ BW    │ CW   │ age │ sex │\n",
       "├─────┼────────┼───────┼──────┼─────┼─────┤\n",
       "│ 1   │ \"S1\"   │ 100.0 │ 10.0 │ 8   │ \"M\" │\n",
       "│ 2   │ \"D1\"   │ 50.0  │ 12.9 │ 7   │ \"F\" │\n",
       "│ 3   │ \"O1\"   │ 150.0 │ 13.0 │ 3   │ \"M\" │\n",
       "│ 4   │ \"O3\"   │ 40.0  │ 5.0  │ 4   │ \"F\" │"
      ]
     },
     "execution_count": 7,
     "metadata": {},
     "output_type": "execute_result"
    }
   ],
   "source": [
    "data=readtable(phenofile)"
   ]
  },
  {
   "cell_type": "markdown",
   "metadata": {},
   "source": [
    "<div class=\"span5 alert alert-info\">\n",
    " <font size=\"5\" face=\"Georgia\">I. Multiple Traits Analyses with Marker Information</font><br> \n",
    "</div>"
   ]
  },
  {
   "cell_type": "markdown",
   "metadata": {},
   "source": [
    "<button type=\"button\" class=\"btn btn-lg btn-primary\">Build Model</button> "
   ]
  },
  {
   "cell_type": "markdown",
   "metadata": {},
   "source": [
    "### Genetic covariance matrix and residual covariance matrix"
   ]
  },
  {
   "cell_type": "code",
   "execution_count": 8,
   "metadata": {
    "collapsed": false
   },
   "outputs": [],
   "source": [
    "R      = [10.0 2.0\n",
    "           2.0 1.0]\n",
    "G      = [20.0 1.0\n",
    "           1.0 2.0];"
   ]
  },
  {
   "cell_type": "code",
   "execution_count": 9,
   "metadata": {
    "collapsed": false
   },
   "outputs": [],
   "source": [
    "model_equations = \"BW = intercept + age + sex;\n",
    "                   CW = intercept + age + sex\";"
   ]
  },
  {
   "cell_type": "code",
   "execution_count": 10,
   "metadata": {
    "collapsed": false
   },
   "outputs": [],
   "source": [
    "model = MT.build_model(model_equations,R);"
   ]
  },
  {
   "cell_type": "code",
   "execution_count": 11,
   "metadata": {
    "collapsed": false
   },
   "outputs": [],
   "source": [
    "MT.set_covariate(model,\"age\")"
   ]
  },
  {
   "cell_type": "code",
   "execution_count": 12,
   "metadata": {
    "collapsed": false
   },
   "outputs": [
    {
     "name": "stdout",
     "output_type": "stream",
     "text": [
      "The delimiters in file /Users/haocheng/Github/JWAS.jl/src/5.Datasets/src/../data/testMT/genotype.txt is ,  .\n"
     ]
    }
   ],
   "source": [
    "MT.add_markers(model,genofile,G,separator=',',header=true);"
   ]
  },
  {
   "cell_type": "markdown",
   "metadata": {},
   "source": [
    "<button type=\"button\" class=\"btn btn-lg btn-primary\">Run Model</button> "
   ]
  },
  {
   "cell_type": "code",
   "execution_count": 13,
   "metadata": {
    "collapsed": false
   },
   "outputs": [
    {
     "name": "stdout",
     "output_type": "stream",
     "text": [
      "Priors for marker effects covariance matrix were calculated from genetic covaraince matrix and π.\n",
      "Marker effects covariance matrix is \n",
      "[17.53 1.75\n",
      " 1.75 1.75].\n",
      "\n",
      "\n",
      "running MCMC for BayesC...100%|█████████████████████████| Time: 0:00:01\n"
     ]
    }
   ],
   "source": [
    "Pi=Dict([1.0; 1.0]=>0.25,[1.0;0.0]=>0.25,[0.0,1.0]=>0.25,[0.0; 0.0]=>0.25)\n",
    "out = MT.runMCMC(model,data,Pi=Pi,chain_length=500,methods=\"BayesC\",\n",
    "output_samples_frequency=50);"
   ]
  },
  {
   "cell_type": "markdown",
   "metadata": {},
   "source": [
    "<button type=\"button\" class=\"btn btn-lg btn-primary\">Check Results</button> "
   ]
  },
  {
   "cell_type": "code",
   "execution_count": 14,
   "metadata": {
    "collapsed": false
   },
   "outputs": [
    {
     "data": {
      "text/plain": [
       "Base.KeyIterator for a Dict{Any,Any} with 5 entries. Keys:\n",
       "  \"Posterior mean of residual covariance matrix\"\n",
       "  \"Posterior mean of marker effects\"\n",
       "  \"Posterior mean of marker effects covariance matrix\"\n",
       "  \"MCMC samples for residual covariance matrix\"\n",
       "  \"Posterior mean of location parameters\""
      ]
     },
     "execution_count": 14,
     "metadata": {},
     "output_type": "execute_result"
    }
   ],
   "source": [
    "keys(out)"
   ]
  },
  {
   "cell_type": "code",
   "execution_count": 15,
   "metadata": {
    "collapsed": false
   },
   "outputs": [],
   "source": [
    "file1=\"marker_effects_BW_2016-07-29T12:51:23.txt\"\n",
    "file2=\"marker_effects_CW_2016-07-29T12:51:23.txt\";"
   ]
  },
  {
   "cell_type": "code",
   "execution_count": 16,
   "metadata": {
    "collapsed": false
   },
   "outputs": [],
   "source": [
    "samples4G,dict4G=get_additive_genetic_variances(model,file1,file2);"
   ]
  },
  {
   "cell_type": "code",
   "execution_count": 17,
   "metadata": {
    "collapsed": false
   },
   "outputs": [],
   "source": [
    "samples4R=out[\"MCMC samples for residual covariance matrix\"];"
   ]
  },
  {
   "cell_type": "code",
   "execution_count": 18,
   "metadata": {
    "collapsed": false
   },
   "outputs": [],
   "source": [
    "samples4h2,dict4h2=get_heritability(samples4G,samples4R);"
   ]
  },
  {
   "cell_type": "code",
   "execution_count": 28,
   "metadata": {
    "collapsed": false
   },
   "outputs": [
    {
     "data": {
      "text/plain": [
       "Base.KeyIterator for a Dict{ASCIIString,Array{Float64,2}} with 2 entries. Keys:\n",
       "  \"mean_of_heritability\"\n",
       "  \"variance_of_heritability\""
      ]
     },
     "execution_count": 28,
     "metadata": {},
     "output_type": "execute_result"
    }
   ],
   "source": [
    "keys(dict4h2)"
   ]
  },
  {
   "cell_type": "code",
   "execution_count": 29,
   "metadata": {
    "collapsed": false
   },
   "outputs": [
    {
     "data": {
      "text/plain": [
       "2x2 Array{Float64,2}:\n",
       " 0.799966  0.59977\n",
       " 0.59977   0.81131"
      ]
     },
     "execution_count": 29,
     "metadata": {},
     "output_type": "execute_result"
    }
   ],
   "source": [
    "dict4h2[\"mean_of_heritability\"]"
   ]
  },
  {
   "cell_type": "markdown",
   "metadata": {},
   "source": [
    "<div class=\"span5 alert alert-info\">\n",
    " <font size=\"5\" face=\"Georgia\">II. Multiple Traits Analyses with Marker Effects and Polygenic Effects</font><br> \n",
    "</div>"
   ]
  },
  {
   "cell_type": "markdown",
   "metadata": {},
   "source": [
    "<button type=\"button\" class=\"btn btn-lg btn-primary\">Build Model</button> "
   ]
  },
  {
   "cell_type": "markdown",
   "metadata": {},
   "source": [
    "#### set up model equations"
   ]
  },
  {
   "cell_type": "code",
   "execution_count": 19,
   "metadata": {
    "collapsed": false
   },
   "outputs": [],
   "source": [
    "model_equations = \"BW = intercept + age + sex + Animal;\n",
    "                   CW = intercept + age + sex + Animal\";"
   ]
  },
  {
   "cell_type": "code",
   "execution_count": 20,
   "metadata": {
    "collapsed": false
   },
   "outputs": [],
   "source": [
    "model4    = MT.build_model(model_equations,R);"
   ]
  },
  {
   "cell_type": "code",
   "execution_count": 21,
   "metadata": {
    "collapsed": false
   },
   "outputs": [],
   "source": [
    "MT.set_covariate(model4,\"age\")"
   ]
  },
  {
   "cell_type": "code",
   "execution_count": 22,
   "metadata": {
    "collapsed": false
   },
   "outputs": [
    {
     "ename": "LoadError",
     "evalue": "LoadError: UndefVarError: ped not defined\nwhile loading In[22], in expression starting on line 2",
     "output_type": "error",
     "traceback": [
      "LoadError: UndefVarError: ped not defined\nwhile loading In[22], in expression starting on line 2",
      ""
     ]
    }
   ],
   "source": [
    "GA = G*0.1\n",
    "MT.set_random(model4,\"Animal\",ped,GA)"
   ]
  },
  {
   "cell_type": "code",
   "execution_count": 23,
   "metadata": {
    "collapsed": false
   },
   "outputs": [
    {
     "name": "stdout",
     "output_type": "stream",
     "text": [
      "The delimiters in file /Users/haocheng/Github/JWAS.jl/src/5.Datasets/src/../data/testMT/genotype.txt is ,  .\n"
     ]
    }
   ],
   "source": [
    "GM = G*0.9\n",
    "MT.add_markers(model4,genofile,GM,separator=',',header=true);"
   ]
  },
  {
   "cell_type": "markdown",
   "metadata": {},
   "source": [
    "<button type=\"button\" class=\"btn btn-lg btn-primary\">Run Model</button> "
   ]
  },
  {
   "cell_type": "code",
   "execution_count": 24,
   "metadata": {
    "collapsed": false
   },
   "outputs": [
    {
     "name": "stdout",
     "output_type": "stream",
     "text": [
      "Priors for marker effects covariance matrix were calculated from genetic covaraince matrix and π.\n",
      "Marker effects covariance matrix is \n",
      "[15.78 1.58\n",
      " 1.58 1.58].\n",
      "\n",
      "\n",
      "\n",
      "Posterior means at iteration: 300\n",
      "Residual covariance matrix: \n",
      "[30.67 5.289\n",
      " 5.289 1.527]\n",
      "Marker effects covariance matrix: \n",
      "[11.343 1.0\n",
      " 1.0 1.301]\n",
      "\n",
      "running MCMC for BayesC...100%|█████████████████████████| Time: 0:00:00\n"
     ]
    }
   ],
   "source": [
    "Pi=Dict([1.0; 1.0]=>0.25,[1.0;0.0]=>0.25,[0.0,1.0]=>0.25,[0.0; 0.0]=>0.25)\n",
    "out4=MT.runMCMC(model4,data,Pi=Pi,chain_length=500,printout_frequency=300,methods=\"BayesC\");"
   ]
  },
  {
   "cell_type": "markdown",
   "metadata": {},
   "source": [
    "<button type=\"button\" class=\"btn btn-lg btn-primary\">Check Results</button> "
   ]
  },
  {
   "cell_type": "code",
   "execution_count": 25,
   "metadata": {
    "collapsed": false
   },
   "outputs": [
    {
     "data": {
      "text/plain": [
       "Base.KeyIterator for a Dict{Any,Any} with 4 entries. Keys:\n",
       "  \"Posterior mean of residual covariance matrix\"\n",
       "  \"Posterior mean of marker effects\"\n",
       "  \"Posterior mean of marker effects covariance matrix\"\n",
       "  \"Posterior mean of location parameters\""
      ]
     },
     "execution_count": 25,
     "metadata": {},
     "output_type": "execute_result"
    }
   ],
   "source": [
    "keys(out4)"
   ]
  },
  {
   "cell_type": "code",
   "execution_count": 26,
   "metadata": {
    "collapsed": false
   },
   "outputs": [
    {
     "data": {
      "text/plain": [
       "5x2 Array{Any,2}:\n",
       " \"x1\"  -0.0874222\n",
       " \"x2\"  -0.0180527\n",
       " \"x3\"  -0.0299907\n",
       " \"x4\"   0.101756 \n",
       " \"x5\"   0.0257107"
      ]
     },
     "execution_count": 26,
     "metadata": {},
     "output_type": "execute_result"
    }
   ],
   "source": [
    "#out4[\"Posterior mean of polygenic effects covariance matrix\"]\n",
    "#out4[\"Posterior mean of location parameters\"]\n",
    "#out4[\"Posterior mean of marker effects\"][1]\n",
    "out4[\"Posterior mean of marker effects\"][2]"
   ]
  }
 ],
 "metadata": {
  "kernelspec": {
   "display_name": "Julia 0.4.5",
   "language": "julia",
   "name": "julia-0.4"
  },
  "language_info": {
   "file_extension": ".jl",
   "mimetype": "application/julia",
   "name": "julia",
   "version": "0.4.5"
  }
 },
 "nbformat": 4,
 "nbformat_minor": 0
}
