{
 "cells": [
  {
   "cell_type": "markdown",
   "metadata": {},
   "source": [
    "<ul class=\"breadcrumb\">\n",
    "  <li><a href=\"2.1.Multivariate_Linear_Mixed_Effects_Model.ipynb\">Multivariate Basics</a></li>\n",
    "  <li><a href=\"2.2.Multivariate_Linear_Additive_Genetic_Model.ipynb\">Multivariate Additive Genetic Model</a></li> \n",
    "  <li><a href=\"2.3.Multivariate_Linear_Mixed_Effects_Model_with_Genomic_Data.ipynb\">Multivariate Genomic Data</a></li>\n",
    "</ul>"
   ]
  },
  {
   "cell_type": "markdown",
   "metadata": {},
   "source": [
    "<div class=\"span5 alert alert-success\">\n",
    " <font size=\"5\" face=\"Georgia\">Multivariate Linear Mixed Effects Model with Genomic Data</font> \n",
    "</div>"
   ]
  },
  {
   "cell_type": "code",
   "execution_count": 1,
   "metadata": {
    "collapsed": false
   },
   "outputs": [],
   "source": [
    "using DataFrames\n",
    "using JWAS: MT,Datasets,QTL"
   ]
  },
  {
   "cell_type": "markdown",
   "metadata": {},
   "source": [
    "<button type=\"button\" class=\"btn btn-lg btn-primary\">Data</button> "
   ]
  },
  {
   "cell_type": "code",
   "execution_count": 2,
   "metadata": {
    "collapsed": false
   },
   "outputs": [],
   "source": [
    "phenofile = Datasets.dataset(\"testMT\",\"phenotype.txt\")\n",
    "genofile  = Datasets.dataset(\"testMT\",\"genotype.txt\")\n",
    "pedfile   = Datasets.dataset(\"testMT\",\"pedigree.txt\");"
   ]
  },
  {
   "cell_type": "markdown",
   "metadata": {},
   "source": [
    "### phenotypes"
   ]
  },
  {
   "cell_type": "code",
   "execution_count": 3,
   "metadata": {
    "collapsed": false
   },
   "outputs": [
    {
     "name": "stdout",
     "output_type": "stream",
     "text": [
      "Animal,BW,CW,age,sex\n",
      "S1,100.0,10.0,8,M\n",
      "D1,50.0,12.9,7,F\n",
      "O1,150.0,13.0,3,M\n",
      "O3,40.0,5.0,4,F\n"
     ]
    }
   ],
   "source": [
    ";cat $phenofile"
   ]
  },
  {
   "cell_type": "markdown",
   "metadata": {},
   "source": [
    "### genotypes"
   ]
  },
  {
   "cell_type": "code",
   "execution_count": 4,
   "metadata": {
    "collapsed": false
   },
   "outputs": [
    {
     "name": "stdout",
     "output_type": "stream",
     "text": [
      "Animal,x1,x2,x3,x4,x5\n",
      "S1,1.0,0.0,1.0,1.0,1.0\n",
      "D1,2.0,0.0,2.0,2.0,1.0\n",
      "O1,1.0,2.0,0.0,1.0,0.0\n",
      "O3,0.0,0.0,2.0,1.0,1.0\n"
     ]
    }
   ],
   "source": [
    ";cat $genofile"
   ]
  },
  {
   "cell_type": "markdown",
   "metadata": {},
   "source": [
    "### pedigree"
   ]
  },
  {
   "cell_type": "code",
   "execution_count": 5,
   "metadata": {
    "collapsed": false
   },
   "outputs": [
    {
     "name": "stdout",
     "output_type": "stream",
     "text": [
      "S1 0 0\n",
      "D1 0 0\n",
      "O1 S1 D1\n",
      "O2 S1 D1\n",
      "O3 S1 D1\n"
     ]
    }
   ],
   "source": [
    ";cat $pedfile"
   ]
  },
  {
   "cell_type": "code",
   "execution_count": 6,
   "metadata": {
    "collapsed": false
   },
   "outputs": [
    {
     "data": {
      "text/html": [
       "<table class=\"data-frame\"><tr><th></th><th>Animal</th><th>BW</th><th>CW</th><th>age</th><th>sex</th></tr><tr><th>1</th><td>S1</td><td>100.0</td><td>10.0</td><td>8</td><td>M</td></tr><tr><th>2</th><td>D1</td><td>50.0</td><td>12.9</td><td>7</td><td>F</td></tr><tr><th>3</th><td>O1</td><td>150.0</td><td>13.0</td><td>3</td><td>M</td></tr><tr><th>4</th><td>O3</td><td>40.0</td><td>5.0</td><td>4</td><td>F</td></tr></table>"
      ],
      "text/plain": [
       "4×5 DataFrames.DataFrame\n",
       "│ Row │ Animal │ BW    │ CW   │ age │ sex │\n",
       "├─────┼────────┼───────┼──────┼─────┼─────┤\n",
       "│ 1   │ \"S1\"   │ 100.0 │ 10.0 │ 8   │ \"M\" │\n",
       "│ 2   │ \"D1\"   │ 50.0  │ 12.9 │ 7   │ \"F\" │\n",
       "│ 3   │ \"O1\"   │ 150.0 │ 13.0 │ 3   │ \"M\" │\n",
       "│ 4   │ \"O3\"   │ 40.0  │ 5.0  │ 4   │ \"F\" │"
      ]
     },
     "execution_count": 6,
     "metadata": {},
     "output_type": "execute_result"
    }
   ],
   "source": [
    "data=readtable(phenofile)"
   ]
  },
  {
   "cell_type": "markdown",
   "metadata": {},
   "source": [
    "<div class=\"span5 alert alert-info\">\n",
    " <font size=\"5\" face=\"Georgia\">I. Multiple Traits Analyses with Marker Information</font><br> \n",
    "</div>"
   ]
  },
  {
   "cell_type": "markdown",
   "metadata": {},
   "source": [
    "<button type=\"button\" class=\"btn btn-lg btn-primary\">Build Model</button> "
   ]
  },
  {
   "cell_type": "markdown",
   "metadata": {},
   "source": [
    "### Genetic covariance matrix and residual covariance matrix"
   ]
  },
  {
   "cell_type": "code",
   "execution_count": 7,
   "metadata": {
    "collapsed": false
   },
   "outputs": [],
   "source": [
    "R      = [10.0 2.0\n",
    "           2.0 1.0]\n",
    "G      = [20.0 1.0\n",
    "           1.0 2.0];"
   ]
  },
  {
   "cell_type": "code",
   "execution_count": 8,
   "metadata": {
    "collapsed": false
   },
   "outputs": [],
   "source": [
    "model_equations = \"BW = intercept + age + sex;\n",
    "                   CW = intercept + age + sex\";"
   ]
  },
  {
   "cell_type": "code",
   "execution_count": 9,
   "metadata": {
    "collapsed": false
   },
   "outputs": [],
   "source": [
    "model1 = MT.build_model(model_equations,R);"
   ]
  },
  {
   "cell_type": "code",
   "execution_count": 10,
   "metadata": {
    "collapsed": false
   },
   "outputs": [],
   "source": [
    "MT.set_covariate(model1,\"age\")"
   ]
  },
  {
   "cell_type": "code",
   "execution_count": 11,
   "metadata": {
    "collapsed": false
   },
   "outputs": [
    {
     "name": "stdout",
     "output_type": "stream",
     "text": [
      "The delimiters in file /Users/haocheng/.julia/v0.4/JWAS/src/5.Datasets/src/../data/testMT/genotype.txt is ,  .\n"
     ]
    }
   ],
   "source": [
    "MT.add_markers(model1,genofile,G,separator=',',header=true);"
   ]
  },
  {
   "cell_type": "markdown",
   "metadata": {},
   "source": [
    "<button type=\"button\" class=\"btn btn-lg btn-primary\">Run Model</button> "
   ]
  },
  {
   "cell_type": "code",
   "execution_count": 12,
   "metadata": {
    "collapsed": false
   },
   "outputs": [
    {
     "name": "stdout",
     "output_type": "stream",
     "text": [
      "Priors for marker effects covariance matrix were calculated from genetic covariance matrix and π.\n",
      "Marker effects covariance matrix is \n",
      "[10.96 0.63\n",
      " 0.63 1.1].\n",
      "\n",
      "\n",
      "running MCMC for BayesC...100%|█████████████████████████| Time: 0:00:01\n"
     ]
    }
   ],
   "source": [
    "Pi=Dict([1.0; 1.0]=>0.7,[1.0;0.0]=>0.1,[0.0,1.0]=>0.1,[0.0; 0.0]=>0.1)\n",
    "out = MT.runMCMC(model1,data,Pi=Pi,chain_length=5000,methods=\"BayesC\",\n",
    "estimatePi=false,output_samples_frequency=5);"
   ]
  },
  {
   "cell_type": "markdown",
   "metadata": {},
   "source": [
    "<button type=\"button\" class=\"btn btn-lg btn-primary\">Check Results</button> "
   ]
  },
  {
   "cell_type": "code",
   "execution_count": 13,
   "metadata": {
    "collapsed": false
   },
   "outputs": [
    {
     "data": {
      "text/plain": [
       "Base.KeyIterator for a Dict{Any,Any} with 5 entries. Keys:\n",
       "  \"Posterior mean of residual covariance matrix\"\n",
       "  \"Posterior mean of marker effects\"\n",
       "  \"Posterior mean of marker effects covariance matrix\"\n",
       "  \"MCMC samples for residual covariance matrix\"\n",
       "  \"Posterior mean of location parameters\""
      ]
     },
     "execution_count": 13,
     "metadata": {},
     "output_type": "execute_result"
    }
   ],
   "source": [
    "keys(out)"
   ]
  },
  {
   "cell_type": "code",
   "execution_count": 14,
   "metadata": {
    "collapsed": false
   },
   "outputs": [],
   "source": [
    "file1=\"marker_effects_BW_test.txt\"\n",
    "file2=\"marker_effects_CW_test.txt\";"
   ]
  },
  {
   "cell_type": "code",
   "execution_count": 15,
   "metadata": {
    "collapsed": false
   },
   "outputs": [
    {
     "data": {
      "text/plain": [
       "2-element Array{Any,1}:\n",
       " 4×3 DataFrames.DataFrame\n",
       "│ Row │ ID   │ EBV      │ PEV     │\n",
       "├─────┼──────┼──────────┼─────────┤\n",
       "│ 1   │ \"S1\" │ -2.28925 │ 8.59649 │\n",
       "│ 2   │ \"D1\" │ 7.29421  │ 66.5718 │\n",
       "│ 3   │ \"O1\" │ 6.00993  │ 84.3757 │\n",
       "│ 4   │ \"O3\" │ -11.0149 │ 55.9334 │            \n",
       " 4×3 DataFrames.DataFrame\n",
       "│ Row │ ID   │ EBV       │ PEV      │\n",
       "├─────┼──────┼───────────┼──────────┤\n",
       "│ 1   │ \"S1\" │ -0.519934 │ 0.675675 │\n",
       "│ 2   │ \"D1\" │ 1.69301   │ 4.29433  │\n",
       "│ 3   │ \"O1\" │ 1.31326   │ 6.14348  │\n",
       "│ 4   │ \"O3\" │ -2.48634  │ 3.90827  │"
      ]
     },
     "execution_count": 15,
     "metadata": {},
     "output_type": "execute_result"
    }
   ],
   "source": [
    "get_breeding_values(model1,file1,file2)"
   ]
  },
  {
   "cell_type": "code",
   "execution_count": 16,
   "metadata": {
    "collapsed": false
   },
   "outputs": [],
   "source": [
    "samples4G=get_additive_genetic_variances(model1,file1,file2);"
   ]
  },
  {
   "cell_type": "code",
   "execution_count": 17,
   "metadata": {
    "collapsed": false
   },
   "outputs": [],
   "source": [
    "samples4R=out[\"MCMC samples for residual covariance matrix\"];"
   ]
  },
  {
   "cell_type": "code",
   "execution_count": 18,
   "metadata": {
    "collapsed": false
   },
   "outputs": [],
   "source": [
    "samples4h2=get_heritability(samples4G,samples4R);"
   ]
  },
  {
   "cell_type": "code",
   "execution_count": 19,
   "metadata": {
    "collapsed": false
   },
   "outputs": [],
   "source": [
    "samples_genetic_correlation=get_genetic_correlations(samples4G);"
   ]
  },
  {
   "cell_type": "code",
   "execution_count": 29,
   "metadata": {
    "collapsed": false
   },
   "outputs": [
    {
     "name": "stdout",
     "output_type": "stream",
     "text": [
      "Summary Stats:\n",
      "Mean:         0.655193\n",
      "Minimum:      0.000115\n",
      "1st Quartile: 0.429680\n",
      "Median:       0.741844\n",
      "3rd Quartile: 0.916272\n",
      "Maximum:      0.991828\n",
      "nothing\n"
     ]
    },
    {
     "data": {
      "text/html": [
       "<img src=\"data:image/png;base64,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\" />"
      ]
     },
     "execution_count": 29,
     "metadata": {},
     "output_type": "execute_result"
    }
   ],
   "source": [
    "#heritability for trait 2\n",
    "QTL.describe(samples4h2,index=2)"
   ]
  },
  {
   "cell_type": "code",
   "execution_count": 21,
   "metadata": {
    "collapsed": false
   },
   "outputs": [
    {
     "name": "stdout",
     "output_type": "stream",
     "text": [
      "Summary Stats:\n",
      "Mean:         0.658274\n",
      "Minimum:      -0.998177\n",
      "1st Quartile: 0.617180\n",
      "Median:       0.914032\n",
      "3rd Quartile: 0.978989\n",
      "Maximum:      0.999982\n",
      "nothing\n"
     ]
    },
    {
     "data": {
      "text/html": [
       "<img src=\"data:image/png;base64,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\" />"
      ]
     },
     "execution_count": 21,
     "metadata": {},
     "output_type": "execute_result"
    }
   ],
   "source": [
    "#genetic correlation between trait 1 and trait 2\n",
    "QTL.describe(samples_genetic_correlation,index=[1,2])"
   ]
  },
  {
   "cell_type": "markdown",
   "metadata": {},
   "source": [
    "<div class=\"span5 alert alert-info\">\n",
    " <font size=\"5\" face=\"Georgia\">II. Multiple Traits Analyses with Marker Effects and Polygenic Effects</font><br> \n",
    "</div>"
   ]
  },
  {
   "cell_type": "markdown",
   "metadata": {},
   "source": [
    "<button type=\"button\" class=\"btn btn-lg btn-primary\">Build Model</button> "
   ]
  },
  {
   "cell_type": "code",
   "execution_count": 22,
   "metadata": {
    "collapsed": false
   },
   "outputs": [],
   "source": [
    "model_equations = \"BW = intercept + age + sex + Animal;\n",
    "                   CW = intercept + age + sex + Animal\";\n",
    "model2          = MT.build_model(model_equations,R);\n",
    "\n",
    "MT.set_covariate(model2,\"age\")"
   ]
  },
  {
   "cell_type": "markdown",
   "metadata": {},
   "source": [
    "get pedigree information from a file"
   ]
  },
  {
   "cell_type": "code",
   "execution_count": 23,
   "metadata": {
    "collapsed": false
   },
   "outputs": [
    {
     "name": "stdout",
     "output_type": "stream",
     "text": [
      "Finished!\n"
     ]
    }
   ],
   "source": [
    "ped=MT.get_pedigree(pedfile);"
   ]
  },
  {
   "cell_type": "code",
   "execution_count": 24,
   "metadata": {
    "collapsed": false
   },
   "outputs": [],
   "source": [
    "GA = G*0.1\n",
    "MT.set_random(model2,\"Animal\",ped,GA)"
   ]
  },
  {
   "cell_type": "code",
   "execution_count": 25,
   "metadata": {
    "collapsed": false
   },
   "outputs": [
    {
     "name": "stdout",
     "output_type": "stream",
     "text": [
      "The delimiters in file /Users/haocheng/.julia/v0.4/JWAS/src/5.Datasets/src/../data/testMT/genotype.txt is ,  .\n"
     ]
    }
   ],
   "source": [
    "GM = G*0.9\n",
    "MT.add_markers(model2,genofile,GM,separator=',',header=true);"
   ]
  },
  {
   "cell_type": "markdown",
   "metadata": {},
   "source": [
    "<button type=\"button\" class=\"btn btn-lg btn-primary\">Run Model</button> "
   ]
  },
  {
   "cell_type": "code",
   "execution_count": 26,
   "metadata": {
    "collapsed": false
   },
   "outputs": [
    {
     "name": "stdout",
     "output_type": "stream",
     "text": [
      "Priors for marker effects covariance matrix were calculated from genetic covariance matrix and π.\n",
      "Marker effects covariance matrix is \n",
      "[15.78 1.58\n",
      " 1.58 1.58].\n",
      "\n",
      "\n",
      "running MCMC for BayesC...100%|█████████████████████████| Time: 0:00:01\n"
     ]
    }
   ],
   "source": [
    "Pi=Dict([1.0; 1.0]=>0.25,[1.0;0.0]=>0.25,[0.0,1.0]=>0.25,[0.0; 0.0]=>0.25)\n",
    "out2=MT.runMCMC(model2,data,Pi=Pi,chain_length=5000,methods=\"BayesC\");"
   ]
  },
  {
   "cell_type": "markdown",
   "metadata": {},
   "source": [
    "<button type=\"button\" class=\"btn btn-lg btn-primary\">Check Results</button> "
   ]
  },
  {
   "cell_type": "code",
   "execution_count": 27,
   "metadata": {
    "collapsed": false
   },
   "outputs": [
    {
     "data": {
      "text/plain": [
       "Base.KeyIterator for a Dict{Any,Any} with 5 entries. Keys:\n",
       "  \"Posterior mean of polygenic effects covariance matrix\"\n",
       "  \"Posterior mean of residual covariance matrix\"\n",
       "  \"Posterior mean of marker effects\"\n",
       "  \"Posterior mean of marker effects covariance matrix\"\n",
       "  \"Posterior mean of location parameters\""
      ]
     },
     "execution_count": 27,
     "metadata": {},
     "output_type": "execute_result"
    }
   ],
   "source": [
    "keys(out2)"
   ]
  },
  {
   "cell_type": "code",
   "execution_count": 28,
   "metadata": {
    "collapsed": false
   },
   "outputs": [
    {
     "data": {
      "text/plain": [
       "2x2 Array{Float64,2}:\n",
       " 1.91962   0.110855\n",
       " 0.110855  0.2112  "
      ]
     },
     "execution_count": 28,
     "metadata": {},
     "output_type": "execute_result"
    }
   ],
   "source": [
    "out2[\"Posterior mean of polygenic effects covariance matrix\"]"
   ]
  }
 ],
 "metadata": {
  "kernelspec": {
   "display_name": "Julia 0.4.6",
   "language": "julia",
   "name": "julia-0.4"
  },
  "language_info": {
   "file_extension": ".jl",
   "mimetype": "application/julia",
   "name": "julia",
   "version": "0.4.6"
  }
 },
 "nbformat": 4,
 "nbformat_minor": 0
}
