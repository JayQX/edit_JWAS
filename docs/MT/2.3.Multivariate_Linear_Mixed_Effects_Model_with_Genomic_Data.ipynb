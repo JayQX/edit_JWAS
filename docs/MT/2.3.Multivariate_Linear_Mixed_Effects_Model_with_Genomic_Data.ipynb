{
 "cells": [
  {
   "cell_type": "markdown",
   "metadata": {},
   "source": [
    "<ul class=\"breadcrumb\">\n",
    "  <li><a href=\"2.1.Multivariate_Linear_Mixed_Effects_Model.ipynb\">Multivariate Basics</a></li>\n",
    "  <li><a href=\"2.2.Multivariate_Linear_Additive_Genetic_Model.ipynb\">Multivariate Additive Genetic Model</a></li> \n",
    "  <li><a href=\"2.3.Multivariate_Linear_Mixed_Effects_Model_with_Genomic_Data.ipynb\">Multivariate Genomic Data</a></li>\n",
    "</ul>"
   ]
  },
  {
   "cell_type": "markdown",
   "metadata": {},
   "source": [
    "<div class=\"span5 alert alert-success\">\n",
    " <font size=\"5\" face=\"Georgia\">Multivariate Linear Mixed Effects Model with Genomic Data</font> \n",
    "</div>"
   ]
  },
  {
   "cell_type": "code",
   "execution_count": 1,
   "metadata": {
    "collapsed": false
   },
   "outputs": [
    {
     "name": "stderr",
     "output_type": "stream",
     "text": [
      "INFO: Precompiling module Plots...\n",
      "WARNING: could not import LinAlg._chol! into FixedSizeArrays\n",
      "INFO: Recompiling stale cache file /Users/haocheng/.julia/lib/v0.4/Colors.ji for module Colors.\n",
      "INFO: Recompiling stale cache file /Users/haocheng/.julia/lib/v0.4/FixedPointNumbers.ji for module FixedPointNumbers.\n",
      "INFO: Recompiling stale cache file /Users/haocheng/.julia/lib/v0.4/ColorTypes.ji for module ColorTypes.\n"
     ]
    }
   ],
   "source": [
    "using DataFrames\n",
    "using JWAS: MT,Datasets,QTL"
   ]
  },
  {
   "cell_type": "markdown",
   "metadata": {},
   "source": [
    "<button type=\"button\" class=\"btn btn-lg btn-primary\">Data</button> "
   ]
  },
  {
   "cell_type": "code",
   "execution_count": 2,
   "metadata": {
    "collapsed": false
   },
   "outputs": [],
   "source": [
    "phenofile = Datasets.dataset(\"testMT\",\"phenotype.txt\")\n",
    "genofile  = Datasets.dataset(\"testMT\",\"genotype.txt\")\n",
    "pedfile   = Datasets.dataset(\"testMT\",\"pedigree.txt\");"
   ]
  },
  {
   "cell_type": "markdown",
   "metadata": {},
   "source": [
    "### phenotypes"
   ]
  },
  {
   "cell_type": "code",
   "execution_count": 3,
   "metadata": {
    "collapsed": false
   },
   "outputs": [
    {
     "name": "stdout",
     "output_type": "stream",
     "text": [
      "Animal,BW,CW,age,sex\n",
      "S1,100.0,10.0,8,M\n",
      "D1,50.0,12.9,7,F\n",
      "O1,150.0,13.0,3,M\n",
      "O3,40.0,5.0,4,F\n"
     ]
    }
   ],
   "source": [
    ";cat $phenofile"
   ]
  },
  {
   "cell_type": "markdown",
   "metadata": {},
   "source": [
    "### genotypes"
   ]
  },
  {
   "cell_type": "code",
   "execution_count": 4,
   "metadata": {
    "collapsed": false
   },
   "outputs": [
    {
     "name": "stdout",
     "output_type": "stream",
     "text": [
      "Animal,x1,x2,x3,x4,x5\n",
      "S1,1.0,0.0,1.0,1.0,1.0\n",
      "D1,2.0,0.0,2.0,2.0,1.0\n",
      "O1,1.0,2.0,0.0,1.0,0.0\n",
      "O3,0.0,0.0,2.0,1.0,1.0\n"
     ]
    }
   ],
   "source": [
    ";cat $genofile"
   ]
  },
  {
   "cell_type": "markdown",
   "metadata": {},
   "source": [
    "### pedigree"
   ]
  },
  {
   "cell_type": "code",
   "execution_count": 5,
   "metadata": {
    "collapsed": false
   },
   "outputs": [
    {
     "name": "stdout",
     "output_type": "stream",
     "text": [
      "S1 0 0\n",
      "D1 0 0\n",
      "O1 S1 D1\n",
      "O2 S1 D1\n",
      "O3 S1 D1\n"
     ]
    }
   ],
   "source": [
    ";cat $pedfile"
   ]
  },
  {
   "cell_type": "code",
   "execution_count": 6,
   "metadata": {
    "collapsed": false
   },
   "outputs": [
    {
     "data": {
      "text/html": [
       "<table class=\"data-frame\"><tr><th></th><th>Animal</th><th>BW</th><th>CW</th><th>age</th><th>sex</th></tr><tr><th>1</th><td>S1</td><td>100.0</td><td>10.0</td><td>8</td><td>M</td></tr><tr><th>2</th><td>D1</td><td>50.0</td><td>12.9</td><td>7</td><td>F</td></tr><tr><th>3</th><td>O1</td><td>150.0</td><td>13.0</td><td>3</td><td>M</td></tr><tr><th>4</th><td>O3</td><td>40.0</td><td>5.0</td><td>4</td><td>F</td></tr></table>"
      ],
      "text/plain": [
       "4×5 DataFrames.DataFrame\n",
       "│ Row │ Animal │ BW    │ CW   │ age │ sex │\n",
       "├─────┼────────┼───────┼──────┼─────┼─────┤\n",
       "│ 1   │ \"S1\"   │ 100.0 │ 10.0 │ 8   │ \"M\" │\n",
       "│ 2   │ \"D1\"   │ 50.0  │ 12.9 │ 7   │ \"F\" │\n",
       "│ 3   │ \"O1\"   │ 150.0 │ 13.0 │ 3   │ \"M\" │\n",
       "│ 4   │ \"O3\"   │ 40.0  │ 5.0  │ 4   │ \"F\" │"
      ]
     },
     "execution_count": 6,
     "metadata": {},
     "output_type": "execute_result"
    }
   ],
   "source": [
    "data=readtable(phenofile)"
   ]
  },
  {
   "cell_type": "markdown",
   "metadata": {},
   "source": [
    "<div class=\"span5 alert alert-info\">\n",
    " <font size=\"5\" face=\"Georgia\">I. Multiple Traits Analyses with Marker Information</font><br> \n",
    "</div>"
   ]
  },
  {
   "cell_type": "markdown",
   "metadata": {},
   "source": [
    "<button type=\"button\" class=\"btn btn-lg btn-primary\">Build Model</button> "
   ]
  },
  {
   "cell_type": "markdown",
   "metadata": {},
   "source": [
    "### Genetic covariance matrix and residual covariance matrix"
   ]
  },
  {
   "cell_type": "code",
   "execution_count": 31,
   "metadata": {
    "collapsed": false
   },
   "outputs": [],
   "source": [
    "R      = [10.0 2.0\n",
    "           2.0 1.0]\n",
    "G      = [20.0 1.0\n",
    "           1.0 2.0];"
   ]
  },
  {
   "cell_type": "code",
   "execution_count": 32,
   "metadata": {
    "collapsed": false
   },
   "outputs": [],
   "source": [
    "model_equations = \"BW = intercept + age + sex;\n",
    "                   CW = intercept + age + sex\";"
   ]
  },
  {
   "cell_type": "code",
   "execution_count": 33,
   "metadata": {
    "collapsed": false
   },
   "outputs": [],
   "source": [
    "model1 = MT.build_model(model_equations,R);"
   ]
  },
  {
   "cell_type": "code",
   "execution_count": 34,
   "metadata": {
    "collapsed": false
   },
   "outputs": [],
   "source": [
    "MT.set_covariate(model1,\"age\")"
   ]
  },
  {
   "cell_type": "code",
   "execution_count": 35,
   "metadata": {
    "collapsed": false
   },
   "outputs": [
    {
     "name": "stdout",
     "output_type": "stream",
     "text": [
      "The delimiters in file /Users/haocheng/.julia/v0.4/JWAS/src/5.Datasets/src/../data/testMT/genotype.txt is ,  .\n"
     ]
    }
   ],
   "source": [
    "MT.add_markers(model1,genofile,G,separator=',',header=true);"
   ]
  },
  {
   "cell_type": "markdown",
   "metadata": {},
   "source": [
    "<button type=\"button\" class=\"btn btn-lg btn-primary\">Run Model</button> "
   ]
  },
  {
   "cell_type": "code",
   "execution_count": 36,
   "metadata": {
    "collapsed": false
   },
   "outputs": [
    {
     "name": "stdout",
     "output_type": "stream",
     "text": [
      "Priors for marker effects covariance matrix were calculated from genetic covariance matrix and π.\n",
      "Marker effects covariance matrix is \n",
      "[10.96 0.63\n",
      " 0.63 1.1].\n",
      "\n",
      "\n",
      "running MCMC for BayesCC...100%|████████████████████████| Time: 0:00:01\n"
     ]
    }
   ],
   "source": [
    "Pi=Dict([1.0; 1.0]=>0.7,[1.0;0.0]=>0.1,[0.0,1.0]=>0.1,[0.0; 0.0]=>0.1)\n",
    "out = MT.runMCMC(model1,data,Pi=Pi,chain_length=5000,methods=\"BayesCC\",\n",
    "estimatePi=false,output_samples_frequency=5);"
   ]
  },
  {
   "cell_type": "markdown",
   "metadata": {},
   "source": [
    "<button type=\"button\" class=\"btn btn-lg btn-primary\">Check Results</button> "
   ]
  },
  {
   "cell_type": "code",
   "execution_count": 13,
   "metadata": {
    "collapsed": false
   },
   "outputs": [
    {
     "data": {
      "text/plain": [
       "Base.KeyIterator for a Dict{Any,Any} with 6 entries. Keys:\n",
       "  \"Model frequency\"\n",
       "  \"Posterior mean of residual covariance matrix\"\n",
       "  \"Posterior mean of marker effects\"\n",
       "  \"Posterior mean of marker effects covariance matrix\"\n",
       "  \"MCMC samples for residual covariance matrix\"\n",
       "  \"Posterior mean of location parameters\""
      ]
     },
     "execution_count": 13,
     "metadata": {},
     "output_type": "execute_result"
    }
   ],
   "source": [
    "keys(out)"
   ]
  },
  {
   "cell_type": "code",
   "execution_count": 14,
   "metadata": {
    "collapsed": false
   },
   "outputs": [],
   "source": [
    "file1=\"marker_effects_BW_test.txt\"\n",
    "file2=\"marker_effects_CW_test.txt\";"
   ]
  },
  {
   "cell_type": "code",
   "execution_count": 15,
   "metadata": {
    "collapsed": false
   },
   "outputs": [
    {
     "data": {
      "text/plain": [
       "2-element Array{Any,1}:\n",
       " 4×3 DataFrames.DataFrame\n",
       "│ Row │ ID   │ EBV      │ PEV     │\n",
       "├─────┼──────┼──────────┼─────────┤\n",
       "│ 1   │ \"S1\" │ -2.28925 │ 8.59649 │\n",
       "│ 2   │ \"D1\" │ 7.29421  │ 66.5718 │\n",
       "│ 3   │ \"O1\" │ 6.00993  │ 84.3757 │\n",
       "│ 4   │ \"O3\" │ -11.0149 │ 55.9334 │            \n",
       " 4×3 DataFrames.DataFrame\n",
       "│ Row │ ID   │ EBV       │ PEV      │\n",
       "├─────┼──────┼───────────┼──────────┤\n",
       "│ 1   │ \"S1\" │ -0.519934 │ 0.675675 │\n",
       "│ 2   │ \"D1\" │ 1.69301   │ 4.29433  │\n",
       "│ 3   │ \"O1\" │ 1.31326   │ 6.14348  │\n",
       "│ 4   │ \"O3\" │ -2.48634  │ 3.90827  │"
      ]
     },
     "execution_count": 15,
     "metadata": {},
     "output_type": "execute_result"
    }
   ],
   "source": [
    "get_breeding_values(model1,file1,file2)"
   ]
  },
  {
   "cell_type": "code",
   "execution_count": 16,
   "metadata": {
    "collapsed": false
   },
   "outputs": [],
   "source": [
    "samples4G=get_additive_genetic_variances(model1,file1,file2);"
   ]
  },
  {
   "cell_type": "code",
   "execution_count": 17,
   "metadata": {
    "collapsed": false
   },
   "outputs": [],
   "source": [
    "samples4R=out[\"MCMC samples for residual covariance matrix\"];"
   ]
  },
  {
   "cell_type": "code",
   "execution_count": 18,
   "metadata": {
    "collapsed": false
   },
   "outputs": [],
   "source": [
    "samples4h2=get_heritability(samples4G,samples4R);"
   ]
  },
  {
   "cell_type": "code",
   "execution_count": 19,
   "metadata": {
    "collapsed": false
   },
   "outputs": [],
   "source": [
    "samples_genetic_correlation=get_genetic_correlations(samples4G);"
   ]
  },
  {
   "cell_type": "code",
   "execution_count": 22,
   "metadata": {
    "collapsed": false
   },
   "outputs": [
    {
     "name": "stdout",
     "output_type": "stream",
     "text": [
      "Summary Stats:\n",
      "Mean:         0.684593\n",
      "Minimum:      0.000867\n",
      "1st Quartile: 0.496996\n",
      "Median:       0.782964\n",
      "3rd Quartile: 0.930342\n",
      "Maximum:      0.992149\n",
      "nothing\n"
     ]
    },
    {
     "data": {
      "text/html": [
       "<script src=\"/Users/haocheng/.julia/v0.4/Plots/deps/plotly-latest.min.js\"></script>    <div id=\"44257595-d626-4887-985e-ea5118a4d533\" style=\"width:600px;height:400px;\"></div>\n",
       "    <script>\n",
       "    PLOT = document.getElementById('44257595-d626-4887-985e-ea5118a4d533');\n",
       "    Plotly.plot(PLOT, [{\"yaxis\":\"y\",\"y\":[0.7061560327598684,0.6052765995084586,0.6052765995084586,0.6052765995084586,0.3530780163799342,0.5548368828827537,0.3530780163799342,0.5548368828827537,0.3026382997542293,0.3026382997542293,0.4035177330056391,0.25219858312852445,0.4035177330056391,0.8070354660112782,0.25219858312852445,0.5043971662570489,0.3530780163799342,0.6557163161341635,0.453957449631344,0.3530780163799342,0.7061560327598684,0.4035177330056391,0.7061560327598684,0.5548368828827537,0.8574751826369831,0.6557163161341635,0.8574751826369831,0.4035177330056391,0.4035177330056391,1.1096737657655074,0.3530780163799342,1.1096737657655074,0.907914899262688,0.7565957493855733,1.0592340491398027,1.1096737657655074,0.9583546158883928,1.3618723488940319,1.1601134823912123,1.0087943325140978,1.1601134823912123,1.4123120655197368,1.815829798525376,1.3618723488940319,1.765390081899671,2.4211063980338343,2.471546114659539,4.186496479933505,4.993531945944784,3.026382997542293],\"showlegend\":true,\"name\":\"y1\",\"type\":\"bar\",\"xaxis\":\"x\",\"orientation\":\"v\",\"x\":[0.0008665801267570884,0.02069222679762645,0.04051787346849581,0.06034352013936517,0.08016916681023453,0.09999481348110388,0.11982046015197324,0.1396461068228426,0.15947175349371195,0.1792974001645813,0.19912304683545068,0.21894869350632007,0.2387743401771894,0.25859998684805874,0.27842563351892813,0.2982512801897975,0.31807692686066685,0.3379025735315362,0.3577282202024055,0.37755386687327497,0.39737951354414425,0.4172051602150136,0.437030806885883,0.45685645355675236,0.47668210022762175,0.4965077468984911,0.5163333935693604,0.5361590402402299,0.5559846869110991,0.5758103335819684,0.5956359802528379,0.6154616269237073,0.6352872735945766,0.655112920265446,0.6749385669363153,0.6947642136071848,0.7145898602780539,0.7344155069489234,0.7542411536197927,0.7740668002906621,0.7938924469615314,0.8137180936324009,0.83354374030327,0.8533693869741396,0.8731950336450091,0.8930206803158782,0.9128463269867477,0.9326719736576169,0.9524976203284864,0.9723232669993557,0.9921489136702251]}], {\"yaxis\":{\"type\":\"-\",\"titlefont\":{\"size\":15,\"color\":\"rgba(0, 0, 0, 1.000)\",\"family\":\"Helvetica\"},\"title\":\"\",\"tickfont\":{\"size\":11,\"color\":\"rgba(0, 0, 0, 1.000)\",\"family\":\"Helvetica\"},\"tickmode\":\"array\",\"showgrid\":true,\"tickvals\":[0.0,1.0,2.0,3.0,4.0],\"domain\":[0.057305336832895896,0.9415463692038495],\"ticktext\":[\"0\",\"1\",\"2\",\"3\",\"4\"],\"zeroline\":false,\"linecolor\":\"rgba(0, 0, 0, 1.000)\",\"tickcolor\":\"rgba(0, 0, 0, 1.000)\",\"anchor\":\"x\"},\"annotations\":[{\"text\":\"Trait 2\",\"y\":1.0,\"xref\":\"paper\",\"font\":{\"size\":20,\"color\":\"rgba(0, 0, 0, 1.000)\",\"family\":\"Helvetica\"},\"xanchor\":\"center\",\"x\":0.526246719160105,\"yref\":\"paper\",\"showarrow\":false,\"yanchor\":\"top\",\"rotation\":0.0}],\"width\":600,\"plot_bgcolor\":\"rgba(255, 255, 255, 1.000)\",\"showlegend\":true,\"legend\":{\"bgcolor\":\"rgba(255, 255, 255, 1.000)\",\"font\":{\"size\":11,\"color\":\"rgba(0, 0, 0, 1.000)\",\"family\":\"Helvetica\"},\"bordercolor\":\"rgba(0, 0, 0, 1.000)\"},\"xaxis\":{\"type\":\"-\",\"titlefont\":{\"size\":15,\"color\":\"rgba(0, 0, 0, 1.000)\",\"family\":\"Helvetica\"},\"title\":\"\",\"tickfont\":{\"size\":11,\"color\":\"rgba(0, 0, 0, 1.000)\",\"family\":\"Helvetica\"},\"tickmode\":\"array\",\"showgrid\":true,\"tickvals\":[0.0,0.5,1.0],\"domain\":[0.05905511811023622,0.9934383202099738],\"ticktext\":[\"0.0\",\"0.5\",\"1.0\"],\"zeroline\":false,\"linecolor\":\"rgba(0, 0, 0, 1.000)\",\"tickcolor\":\"rgba(0, 0, 0, 1.000)\",\"anchor\":\"y\"},\"paper_bgcolor\":\"rgba(255, 255, 255, 1.000)\",\"height\":400,\"margin\":{\"r\":0,\"l\":0,\"b\":0,\"t\":20}});\n",
       "    </script>\n"
      ]
     },
     "execution_count": 22,
     "metadata": {},
     "output_type": "execute_result"
    }
   ],
   "source": [
    "#heritability for trait 2\n",
    "QTL.describe(samples4h2,index=2)"
   ]
  },
  {
   "cell_type": "code",
   "execution_count": 23,
   "metadata": {
    "collapsed": false
   },
   "outputs": [
    {
     "name": "stdout",
     "output_type": "stream",
     "text": [
      "Summary Stats:\n",
      "Mean:         0.658274\n",
      "Minimum:      -0.998177\n",
      "1st Quartile: 0.617180\n",
      "Median:       0.914032\n",
      "3rd Quartile: 0.978989\n",
      "Maximum:      0.999982\n",
      "nothing\n"
     ]
    },
    {
     "data": {
      "text/html": [
       "<script src=\"/Users/haocheng/.julia/v0.4/Plots/deps/plotly-latest.min.js\"></script>    <div id=\"a75a1ea0-a8b8-4140-93c2-3dc10d50bccc\" style=\"width:600px;height:400px;\"></div>\n",
       "    <script>\n",
       "    PLOT = document.getElementById('a75a1ea0-a8b8-4140-93c2-3dc10d50bccc');\n",
       "    Plotly.plot(PLOT, [{\"yaxis\":\"y\",\"y\":[0.30027646400799907,0.2502303866733325,0.07506911600199977,0.15013823200399953,0.07506911600199977,0.10009215466933301,0.12511519333666626,0.12511519333666626,0.12511519333666626,0.10009215466933301,0.17516127067133277,0.050046077334666504,0.07506911600199977,0.15013823200399953,0.050046077334666504,0.20018430933866602,0.12511519333666626,0.07506911600199977,0.07506911600199977,0.22520734800599929,0.15013823200399953,0.12511519333666626,0.30027646400799907,0.15013823200399953,0.17516127067133277,0.10009215466933301,0.15013823200399953,0.050046077334666504,0.10009215466933301,0.20018430933866602,0.15013823200399953,0.12511519333666626,0.10009215466933301,0.22520734800599929,0.15013823200399953,0.2502303866733325,0.2502303866733325,0.17516127067133277,0.20018430933866602,0.27525342534066577,0.500460773346665,0.35032254134266555,0.6255759666833314,0.500460773346665,0.7757141986873308,0.8507833146893307,1.476359281372662,1.6515205520439946,3.3030411040879892,8.958247842905305],\"showlegend\":true,\"name\":\"y1\",\"type\":\"bar\",\"xaxis\":\"x\",\"orientation\":\"v\",\"x\":[-0.998177047406174,-0.9582138753352509,-0.9182507032643278,-0.8782875311934046,-0.8383243591224816,-0.7983611870515586,-0.7583980149806355,-0.7184348429097125,-0.6784716708387893,-0.6385084987678663,-0.5985453266969433,-0.5585821546260202,-0.5186189825550972,-0.4786558104841739,-0.43869263841325085,-0.39872946634232775,-0.3587662942714047,-0.3188031222004817,-0.2788399501295586,-0.23887677805863552,-0.19891360598771243,-0.1589504339167893,-0.11898726184586629,-0.07902408977494318,-0.03906091770402014,0.0009022543669028948,0.04086542643782607,0.08082859850874911,0.12079177057967215,0.16075494265059526,0.2007181147215183,0.24068128679244138,0.28064445886336453,0.32060763093428757,0.3605708030052106,0.40053397507613375,0.44049714714705684,0.4804603192179799,0.520423491288903,0.560386663359826,0.6003498354307492,0.6403130075016722,0.6802761795725952,0.7202393516435183,0.7602025237144414,0.8001656957853643,0.8401288678562877,0.8800920399272107,0.9200552119981338,0.9600183840690568,0.9999815561399799]}], {\"yaxis\":{\"type\":\"-\",\"titlefont\":{\"size\":15,\"color\":\"rgba(0, 0, 0, 1.000)\",\"family\":\"Helvetica\"},\"title\":\"\",\"tickfont\":{\"size\":11,\"color\":\"rgba(0, 0, 0, 1.000)\",\"family\":\"Helvetica\"},\"tickmode\":\"array\",\"showgrid\":true,\"tickvals\":[0.0,2.5,5.0,7.5],\"domain\":[0.057305336832895896,0.9415463692038495],\"ticktext\":[\"0.0\",\"2.5\",\"5.0\",\"7.5\"],\"zeroline\":false,\"linecolor\":\"rgba(0, 0, 0, 1.000)\",\"tickcolor\":\"rgba(0, 0, 0, 1.000)\",\"anchor\":\"x\"},\"annotations\":[{\"text\":\"Trait 1 and Trait 2\",\"y\":1.0,\"xref\":\"paper\",\"font\":{\"size\":20,\"color\":\"rgba(0, 0, 0, 1.000)\",\"family\":\"Helvetica\"},\"xanchor\":\"center\",\"x\":0.526246719160105,\"yref\":\"paper\",\"showarrow\":false,\"yanchor\":\"top\",\"rotation\":0.0}],\"width\":600,\"plot_bgcolor\":\"rgba(255, 255, 255, 1.000)\",\"showlegend\":true,\"legend\":{\"bgcolor\":\"rgba(255, 255, 255, 1.000)\",\"font\":{\"size\":11,\"color\":\"rgba(0, 0, 0, 1.000)\",\"family\":\"Helvetica\"},\"bordercolor\":\"rgba(0, 0, 0, 1.000)\"},\"xaxis\":{\"type\":\"-\",\"titlefont\":{\"size\":15,\"color\":\"rgba(0, 0, 0, 1.000)\",\"family\":\"Helvetica\"},\"title\":\"\",\"tickfont\":{\"size\":11,\"color\":\"rgba(0, 0, 0, 1.000)\",\"family\":\"Helvetica\"},\"tickmode\":\"array\",\"showgrid\":true,\"tickvals\":[-1.0,0.0,1.0],\"domain\":[0.05905511811023622,0.9934383202099738],\"ticktext\":[\"-1\",\"0\",\"1\"],\"zeroline\":false,\"linecolor\":\"rgba(0, 0, 0, 1.000)\",\"tickcolor\":\"rgba(0, 0, 0, 1.000)\",\"anchor\":\"y\"},\"paper_bgcolor\":\"rgba(255, 255, 255, 1.000)\",\"height\":400,\"margin\":{\"r\":0,\"l\":0,\"b\":0,\"t\":20}});\n",
       "    </script>\n"
      ]
     },
     "execution_count": 23,
     "metadata": {},
     "output_type": "execute_result"
    }
   ],
   "source": [
    "#genetic correlation between trait 1 and trait 2\n",
    "QTL.describe(samples_genetic_correlation,index=[1,2])"
   ]
  },
  {
   "cell_type": "markdown",
   "metadata": {},
   "source": [
    "<div class=\"span5 alert alert-info\">\n",
    " <font size=\"5\" face=\"Georgia\">II. Multiple Traits Analyses with Marker Effects and Polygenic Effects</font><br> \n",
    "</div>"
   ]
  },
  {
   "cell_type": "markdown",
   "metadata": {},
   "source": [
    "<button type=\"button\" class=\"btn btn-lg btn-primary\">Build Model</button> "
   ]
  },
  {
   "cell_type": "code",
   "execution_count": 22,
   "metadata": {
    "collapsed": false
   },
   "outputs": [],
   "source": [
    "model_equations = \"BW = intercept + age + sex + Animal;\n",
    "                   CW = intercept + age + sex + Animal\";\n",
    "model2          = MT.build_model(model_equations,R);\n",
    "\n",
    "MT.set_covariate(model2,\"age\")"
   ]
  },
  {
   "cell_type": "markdown",
   "metadata": {},
   "source": [
    "get pedigree information from a file"
   ]
  },
  {
   "cell_type": "code",
   "execution_count": 23,
   "metadata": {
    "collapsed": false
   },
   "outputs": [
    {
     "name": "stdout",
     "output_type": "stream",
     "text": [
      "Finished!\n"
     ]
    }
   ],
   "source": [
    "ped=MT.get_pedigree(pedfile);"
   ]
  },
  {
   "cell_type": "code",
   "execution_count": 24,
   "metadata": {
    "collapsed": false
   },
   "outputs": [],
   "source": [
    "GA = G*0.1\n",
    "MT.set_random(model2,\"Animal\",ped,GA)"
   ]
  },
  {
   "cell_type": "code",
   "execution_count": 25,
   "metadata": {
    "collapsed": false
   },
   "outputs": [
    {
     "name": "stdout",
     "output_type": "stream",
     "text": [
      "The delimiters in file /Users/haocheng/.julia/v0.4/JWAS/src/5.Datasets/src/../data/testMT/genotype.txt is ,  .\n"
     ]
    }
   ],
   "source": [
    "GM = G*0.9\n",
    "MT.add_markers(model2,genofile,GM,separator=',',header=true);"
   ]
  },
  {
   "cell_type": "markdown",
   "metadata": {},
   "source": [
    "<button type=\"button\" class=\"btn btn-lg btn-primary\">Run Model</button> "
   ]
  },
  {
   "cell_type": "code",
   "execution_count": 26,
   "metadata": {
    "collapsed": false
   },
   "outputs": [
    {
     "name": "stdout",
     "output_type": "stream",
     "text": [
      "Priors for marker effects covariance matrix were calculated from genetic covariance matrix and π.\n",
      "Marker effects covariance matrix is \n",
      "[15.78 1.58\n",
      " 1.58 1.58].\n",
      "\n",
      "\n",
      "running MCMC for BayesC...100%|█████████████████████████| Time: 0:00:01\n"
     ]
    }
   ],
   "source": [
    "Pi=Dict([1.0; 1.0]=>0.25,[1.0;0.0]=>0.25,[0.0,1.0]=>0.25,[0.0; 0.0]=>0.25)\n",
    "out2=MT.runMCMC(model2,data,Pi=Pi,chain_length=5000,methods=\"BayesC\");"
   ]
  },
  {
   "cell_type": "markdown",
   "metadata": {},
   "source": [
    "<button type=\"button\" class=\"btn btn-lg btn-primary\">Check Results</button> "
   ]
  },
  {
   "cell_type": "code",
   "execution_count": 27,
   "metadata": {
    "collapsed": false
   },
   "outputs": [
    {
     "data": {
      "text/plain": [
       "Base.KeyIterator for a Dict{Any,Any} with 6 entries. Keys:\n",
       "  \"Posterior mean of polygenic effects covariance matrix\"\n",
       "  \"Model frequency\"\n",
       "  \"Posterior mean of residual covariance matrix\"\n",
       "  \"Posterior mean of marker effects\"\n",
       "  \"Posterior mean of marker effects covariance matrix\"\n",
       "  \"Posterior mean of location parameters\""
      ]
     },
     "execution_count": 27,
     "metadata": {},
     "output_type": "execute_result"
    }
   ],
   "source": [
    "keys(out2)"
   ]
  },
  {
   "cell_type": "code",
   "execution_count": 28,
   "metadata": {
    "collapsed": false
   },
   "outputs": [
    {
     "data": {
      "text/plain": [
       "2x2 Array{Float64,2}:\n",
       " 2.16838   0.138901\n",
       " 0.138901  0.205509"
      ]
     },
     "execution_count": 28,
     "metadata": {},
     "output_type": "execute_result"
    }
   ],
   "source": [
    "out2[\"Posterior mean of polygenic effects covariance matrix\"]"
   ]
  }
 ],
 "metadata": {
  "kernelspec": {
   "display_name": "Julia 0.4.6",
   "language": "julia",
   "name": "julia-0.4"
  },
  "language_info": {
   "file_extension": ".jl",
   "mimetype": "application/julia",
   "name": "julia",
   "version": "0.4.6"
  }
 },
 "nbformat": 4,
 "nbformat_minor": 0
}
