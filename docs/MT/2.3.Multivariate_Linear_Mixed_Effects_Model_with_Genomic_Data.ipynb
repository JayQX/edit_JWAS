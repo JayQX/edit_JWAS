{
 "cells": [
  {
   "cell_type": "markdown",
   "metadata": {},
   "source": [
    "<ul class=\"breadcrumb\">\n",
    "  <li><a href=\"2.1.Multivariate_Linear_Mixed_Effects_Model.ipynb\">Multivariate Basics</a></li>\n",
    "  <li><a href=\"2.2.Multivariate_Linear_Additive_Genetic_Model.ipynb\">Multivariate Additive Genetic Model</a></li> \n",
    "  <li><a href=\"2.3.Multivariate_Linear_Mixed_Effects_Model_with_Genomic_Data.ipynb\">Multivariate Genomic Data</a></li>\n",
    "</ul>"
   ]
  },
  {
   "cell_type": "code",
   "execution_count": 1,
   "metadata": {
    "collapsed": false
   },
   "outputs": [
    {
     "data": {
      "text/plain": [
       "JWAS"
      ]
     },
     "execution_count": 1,
     "metadata": {},
     "output_type": "execute_result"
    }
   ],
   "source": [
    "include(\"../../src/JWAS.jl\")"
   ]
  },
  {
   "cell_type": "markdown",
   "metadata": {},
   "source": [
    "<div class=\"span5 alert alert-success\">\n",
    " <font size=\"5\" face=\"Georgia\">Multivariate Linear Mixed Effects Model with Genomic Data</font> \n",
    "</div>"
   ]
  },
  {
   "cell_type": "code",
   "execution_count": 2,
   "metadata": {
    "collapsed": false
   },
   "outputs": [],
   "source": [
    "using DataFrames\n",
    "using JWAS: MT,Datasets,QTL"
   ]
  },
  {
   "cell_type": "markdown",
   "metadata": {},
   "source": [
    "<button type=\"button\" class=\"btn btn-lg btn-primary\">Data</button> "
   ]
  },
  {
   "cell_type": "code",
   "execution_count": 3,
   "metadata": {
    "collapsed": false
   },
   "outputs": [],
   "source": [
    "phenofile = Datasets.dataset(\"testMT\",\"phenotype.txt\")\n",
    "genofile  = Datasets.dataset(\"testMT\",\"genotype.txt\")\n",
    "pedfile   = Datasets.dataset(\"testMT\",\"pedigree.txt\");"
   ]
  },
  {
   "cell_type": "markdown",
   "metadata": {},
   "source": [
    "### phenotypes"
   ]
  },
  {
   "cell_type": "code",
   "execution_count": 4,
   "metadata": {
    "collapsed": false
   },
   "outputs": [
    {
     "name": "stdout",
     "output_type": "stream",
     "text": [
      "Animal,BW,CW,age,sex\n",
      "S1,100.0,10.0,8,M\n",
      "D1,50.0,12.9,7,F\n",
      "O1,150.0,13.0,3,M\n",
      "O3,40.0,5.0,4,F\n"
     ]
    }
   ],
   "source": [
    ";cat $phenofile"
   ]
  },
  {
   "cell_type": "markdown",
   "metadata": {},
   "source": [
    "### genotypes"
   ]
  },
  {
   "cell_type": "code",
   "execution_count": 5,
   "metadata": {
    "collapsed": false
   },
   "outputs": [
    {
     "name": "stdout",
     "output_type": "stream",
     "text": [
      "Animal,x1,x2,x3,x4,x5\n",
      "S1,1.0,0.0,1.0,1.0,1.0\n",
      "D1,2.0,0.0,2.0,2.0,1.0\n",
      "O1,1.0,2.0,0.0,1.0,0.0\n",
      "O3,0.0,0.0,2.0,1.0,1.0\n"
     ]
    }
   ],
   "source": [
    ";cat $genofile"
   ]
  },
  {
   "cell_type": "markdown",
   "metadata": {},
   "source": [
    "### pedigree"
   ]
  },
  {
   "cell_type": "code",
   "execution_count": 6,
   "metadata": {
    "collapsed": false
   },
   "outputs": [
    {
     "name": "stdout",
     "output_type": "stream",
     "text": [
      "S1 0 0\n",
      "D1 0 0\n",
      "O1 S1 D1\n",
      "O2 S1 D1\n",
      "O3 S1 D1\n"
     ]
    }
   ],
   "source": [
    ";cat $pedfile"
   ]
  },
  {
   "cell_type": "code",
   "execution_count": 7,
   "metadata": {
    "collapsed": false
   },
   "outputs": [
    {
     "data": {
      "text/html": [
       "<table class=\"data-frame\"><tr><th></th><th>Animal</th><th>BW</th><th>CW</th><th>age</th><th>sex</th></tr><tr><th>1</th><td>S1</td><td>100.0</td><td>10.0</td><td>8</td><td>M</td></tr><tr><th>2</th><td>D1</td><td>50.0</td><td>12.9</td><td>7</td><td>F</td></tr><tr><th>3</th><td>O1</td><td>150.0</td><td>13.0</td><td>3</td><td>M</td></tr><tr><th>4</th><td>O3</td><td>40.0</td><td>5.0</td><td>4</td><td>F</td></tr></table>"
      ],
      "text/plain": [
       "4×5 DataFrames.DataFrame\n",
       "│ Row │ Animal │ BW    │ CW   │ age │ sex │\n",
       "├─────┼────────┼───────┼──────┼─────┼─────┤\n",
       "│ 1   │ \"S1\"   │ 100.0 │ 10.0 │ 8   │ \"M\" │\n",
       "│ 2   │ \"D1\"   │ 50.0  │ 12.9 │ 7   │ \"F\" │\n",
       "│ 3   │ \"O1\"   │ 150.0 │ 13.0 │ 3   │ \"M\" │\n",
       "│ 4   │ \"O3\"   │ 40.0  │ 5.0  │ 4   │ \"F\" │"
      ]
     },
     "execution_count": 7,
     "metadata": {},
     "output_type": "execute_result"
    }
   ],
   "source": [
    "data=readtable(phenofile)"
   ]
  },
  {
   "cell_type": "markdown",
   "metadata": {},
   "source": [
    "<div class=\"span5 alert alert-info\">\n",
    " <font size=\"5\" face=\"Georgia\">I. Multiple Traits Analyses with Marker Information</font><br> \n",
    "</div>"
   ]
  },
  {
   "cell_type": "markdown",
   "metadata": {},
   "source": [
    "<button type=\"button\" class=\"btn btn-lg btn-primary\">Build Model</button> "
   ]
  },
  {
   "cell_type": "markdown",
   "metadata": {},
   "source": [
    "### Genetic covariance matrix and residual covariance matrix"
   ]
  },
  {
   "cell_type": "code",
   "execution_count": 8,
   "metadata": {
    "collapsed": false
   },
   "outputs": [],
   "source": [
    "R      = [10.0 2.0\n",
    "           2.0 1.0]\n",
    "G      = [20.0 1.0\n",
    "           1.0 2.0];"
   ]
  },
  {
   "cell_type": "code",
   "execution_count": 9,
   "metadata": {
    "collapsed": false
   },
   "outputs": [],
   "source": [
    "model_equations = \"BW = intercept + age + sex;\n",
    "                   CW = intercept + age + sex\";"
   ]
  },
  {
   "cell_type": "code",
   "execution_count": 10,
   "metadata": {
    "collapsed": false
   },
   "outputs": [],
   "source": [
    "model1 = MT.build_model(model_equations,R);"
   ]
  },
  {
   "cell_type": "code",
   "execution_count": 11,
   "metadata": {
    "collapsed": false
   },
   "outputs": [],
   "source": [
    "MT.set_covariate(model1,\"age\")"
   ]
  },
  {
   "cell_type": "code",
   "execution_count": 12,
   "metadata": {
    "collapsed": false
   },
   "outputs": [
    {
     "name": "stdout",
     "output_type": "stream",
     "text": [
      "The delimiters in file /Users/haocheng/Github/JWAS.jl/src/5.Datasets/src/../data/testMT/genotype.txt is ,  .\n"
     ]
    }
   ],
   "source": [
    "MT.add_markers(model1,genofile,G,separator=',',header=true);"
   ]
  },
  {
   "cell_type": "markdown",
   "metadata": {},
   "source": [
    "<button type=\"button\" class=\"btn btn-lg btn-primary\">Run Model</button> "
   ]
  },
  {
   "cell_type": "code",
   "execution_count": 13,
   "metadata": {
    "collapsed": false
   },
   "outputs": [
    {
     "name": "stdout",
     "output_type": "stream",
     "text": [
      "Priors for marker effects covariance matrix were calculated from genetic covariance matrix and π.\n",
      "Marker effects covariance matrix is \n",
      "[10.96 0.63\n",
      " 0.63 1.1].\n",
      "\n",
      "\n",
      "running MCMC for BayesC...100%|█████████████████████████| Time: 0:00:01\n"
     ]
    }
   ],
   "source": [
    "Pi=Dict([1.0; 1.0]=>0.7,[1.0;0.0]=>0.1,[0.0,1.0]=>0.1,[0.0; 0.0]=>0.1)\n",
    "out = MT.runMCMC(model1,data,Pi=Pi,chain_length=5000,methods=\"BayesC\",\n",
    "estimatePi=false,output_samples_frequency=5);"
   ]
  },
  {
   "cell_type": "markdown",
   "metadata": {},
   "source": [
    "<button type=\"button\" class=\"btn btn-lg btn-primary\">Check Results</button> "
   ]
  },
  {
   "cell_type": "code",
   "execution_count": 14,
   "metadata": {
    "collapsed": false
   },
   "outputs": [
    {
     "data": {
      "text/plain": [
       "Base.KeyIterator for a Dict{Any,Any} with 5 entries. Keys:\n",
       "  \"Posterior mean of residual covariance matrix\"\n",
       "  \"Posterior mean of marker effects\"\n",
       "  \"Posterior mean of marker effects covariance matrix\"\n",
       "  \"MCMC samples for residual covariance matrix\"\n",
       "  \"Posterior mean of location parameters\""
      ]
     },
     "execution_count": 14,
     "metadata": {},
     "output_type": "execute_result"
    }
   ],
   "source": [
    "keys(out)"
   ]
  },
  {
   "cell_type": "code",
   "execution_count": 15,
   "metadata": {
    "collapsed": false
   },
   "outputs": [],
   "source": [
    "file1=\"marker_effects_BW_test.txt\"\n",
    "file2=\"marker_effects_CW_test.txt\";"
   ]
  },
  {
   "cell_type": "code",
   "execution_count": 16,
   "metadata": {
    "collapsed": false
   },
   "outputs": [
    {
     "data": {
      "text/plain": [
       "2-element Array{Any,1}:\n",
       " 4×3 DataFrames.DataFrame\n",
       "│ Row │ ID   │ EBV      │ PEV     │\n",
       "├─────┼──────┼──────────┼─────────┤\n",
       "│ 1   │ \"S1\" │ -2.28925 │ 8.59649 │\n",
       "│ 2   │ \"D1\" │ 7.29421  │ 66.5718 │\n",
       "│ 3   │ \"O1\" │ 6.00993  │ 84.3757 │\n",
       "│ 4   │ \"O3\" │ -11.0149 │ 55.9334 │            \n",
       " 4×3 DataFrames.DataFrame\n",
       "│ Row │ ID   │ EBV       │ PEV      │\n",
       "├─────┼──────┼───────────┼──────────┤\n",
       "│ 1   │ \"S1\" │ -0.519934 │ 0.675675 │\n",
       "│ 2   │ \"D1\" │ 1.69301   │ 4.29433  │\n",
       "│ 3   │ \"O1\" │ 1.31326   │ 6.14348  │\n",
       "│ 4   │ \"O3\" │ -2.48634  │ 3.90827  │"
      ]
     },
     "execution_count": 16,
     "metadata": {},
     "output_type": "execute_result"
    }
   ],
   "source": [
    "get_breeding_values(model1,file1,file2)"
   ]
  },
  {
   "cell_type": "code",
   "execution_count": 17,
   "metadata": {
    "collapsed": false
   },
   "outputs": [],
   "source": [
    "samples4G=get_additive_genetic_variances(model1,file1,file2);"
   ]
  },
  {
   "cell_type": "code",
   "execution_count": 18,
   "metadata": {
    "collapsed": false
   },
   "outputs": [],
   "source": [
    "samples4R=out[\"MCMC samples for residual covariance matrix\"];"
   ]
  },
  {
   "cell_type": "code",
   "execution_count": 19,
   "metadata": {
    "collapsed": false
   },
   "outputs": [],
   "source": [
    "samples4h2=get_heritability(samples4G,samples4R);"
   ]
  },
  {
   "cell_type": "code",
   "execution_count": 20,
   "metadata": {
    "collapsed": false
   },
   "outputs": [],
   "source": [
    "samples_genetic_correlation=get_genetic_correlations(samples4G);"
   ]
  },
  {
   "cell_type": "code",
   "execution_count": 21,
   "metadata": {
    "collapsed": false
   },
   "outputs": [
    {
     "name": "stdout",
     "output_type": "stream",
     "text": [
      "Summary Stats:\n",
      "Mean:         0.671525\n",
      "Minimum:      0.000303\n",
      "1st Quartile: 0.491262\n",
      "Median:       0.764454\n",
      "3rd Quartile: 0.917741\n",
      "Maximum:      0.990039\n",
      "nothing\n",
      "[Plots.jl] Initializing backend: pyplot\n"
     ]
    },
    {
     "data": {
      "text/html": [
       "<img src=\"data:image/png;base64,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\" />"
      ]
     },
     "execution_count": 21,
     "metadata": {},
     "output_type": "execute_result"
    }
   ],
   "source": [
    "#heritability for trait 2\n",
    "QTL.describe(samples4h2,index=2)"
   ]
  },
  {
   "cell_type": "code",
   "execution_count": 31,
   "metadata": {
    "collapsed": false
   },
   "outputs": [
    {
     "name": "stdout",
     "output_type": "stream",
     "text": [
      "Summary Stats:\n",
      "Mean:         0.658274\n",
      "Minimum:      -0.998177\n",
      "1st Quartile: 0.617180\n",
      "Median:       0.914032\n",
      "3rd Quartile: 0.978989\n",
      "Maximum:      0.999982\n",
      "nothing\n"
     ]
    },
    {
     "data": {
      "text/html": [
       "<img src=\"data:image/png;base64,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\" />"
      ]
     },
     "execution_count": 31,
     "metadata": {},
     "output_type": "execute_result"
    }
   ],
   "source": [
    "#genetic correlation between trait 1 and trait 2\n",
    "QTL.describe(samples_genetic_correlation,index=[1,2])"
   ]
  },
  {
   "cell_type": "markdown",
   "metadata": {},
   "source": [
    "<div class=\"span5 alert alert-info\">\n",
    " <font size=\"5\" face=\"Georgia\">II. Multiple Traits Analyses with Marker Effects and Polygenic Effects</font><br> \n",
    "</div>"
   ]
  },
  {
   "cell_type": "markdown",
   "metadata": {},
   "source": [
    "<button type=\"button\" class=\"btn btn-lg btn-primary\">Build Model</button> "
   ]
  },
  {
   "cell_type": "code",
   "execution_count": 23,
   "metadata": {
    "collapsed": false
   },
   "outputs": [],
   "source": [
    "model_equations = \"BW = intercept + age + sex + Animal;\n",
    "                   CW = intercept + age + sex + Animal\";\n",
    "model2          = MT.build_model(model_equations,R);\n",
    "\n",
    "MT.set_covariate(model2,\"age\")"
   ]
  },
  {
   "cell_type": "markdown",
   "metadata": {},
   "source": [
    "get pedigree information from a file"
   ]
  },
  {
   "cell_type": "code",
   "execution_count": 24,
   "metadata": {
    "collapsed": false
   },
   "outputs": [
    {
     "name": "stdout",
     "output_type": "stream",
     "text": [
      "Finished!\n"
     ]
    }
   ],
   "source": [
    "ped=MT.get_pedigree(pedfile);"
   ]
  },
  {
   "cell_type": "code",
   "execution_count": 25,
   "metadata": {
    "collapsed": false
   },
   "outputs": [],
   "source": [
    "GA = G*0.1\n",
    "MT.set_random(model2,\"Animal\",ped,GA)"
   ]
  },
  {
   "cell_type": "code",
   "execution_count": 26,
   "metadata": {
    "collapsed": false
   },
   "outputs": [
    {
     "name": "stdout",
     "output_type": "stream",
     "text": [
      "The delimiters in file /Users/haocheng/Github/JWAS.jl/src/5.Datasets/src/../data/testMT/genotype.txt is ,  .\n"
     ]
    }
   ],
   "source": [
    "GM = G*0.9\n",
    "MT.add_markers(model2,genofile,GM,separator=',',header=true);"
   ]
  },
  {
   "cell_type": "markdown",
   "metadata": {},
   "source": [
    "<button type=\"button\" class=\"btn btn-lg btn-primary\">Run Model</button> "
   ]
  },
  {
   "cell_type": "code",
   "execution_count": 27,
   "metadata": {
    "collapsed": false
   },
   "outputs": [
    {
     "name": "stdout",
     "output_type": "stream",
     "text": [
      "Priors for marker effects covariance matrix were calculated from genetic covariance matrix and π.\n",
      "Marker effects covariance matrix is \n",
      "[15.78 1.58\n",
      " 1.58 1.58].\n",
      "\n",
      "\n",
      "running MCMC for BayesC...100%|█████████████████████████| Time: 0:00:01\n"
     ]
    }
   ],
   "source": [
    "Pi=Dict([1.0; 1.0]=>0.25,[1.0;0.0]=>0.25,[0.0,1.0]=>0.25,[0.0; 0.0]=>0.25)\n",
    "out2=MT.runMCMC(model2,data,Pi=Pi,chain_length=5000,methods=\"BayesC\");"
   ]
  },
  {
   "cell_type": "markdown",
   "metadata": {},
   "source": [
    "<button type=\"button\" class=\"btn btn-lg btn-primary\">Check Results</button> "
   ]
  },
  {
   "cell_type": "code",
   "execution_count": 28,
   "metadata": {
    "collapsed": false
   },
   "outputs": [
    {
     "data": {
      "text/plain": [
       "Base.KeyIterator for a Dict{Any,Any} with 5 entries. Keys:\n",
       "  \"Posterior mean of polygenic effects covariance matrix\"\n",
       "  \"Posterior mean of residual covariance matrix\"\n",
       "  \"Posterior mean of marker effects\"\n",
       "  \"Posterior mean of marker effects covariance matrix\"\n",
       "  \"Posterior mean of location parameters\""
      ]
     },
     "execution_count": 28,
     "metadata": {},
     "output_type": "execute_result"
    }
   ],
   "source": [
    "keys(out2)"
   ]
  },
  {
   "cell_type": "code",
   "execution_count": 29,
   "metadata": {
    "collapsed": false
   },
   "outputs": [
    {
     "data": {
      "text/plain": [
       "2x2 Array{Float64,2}:\n",
       " 2.29666   0.162965\n",
       " 0.162965  0.211184"
      ]
     },
     "execution_count": 29,
     "metadata": {},
     "output_type": "execute_result"
    }
   ],
   "source": [
    "out2[\"Posterior mean of polygenic effects covariance matrix\"]"
   ]
  }
 ],
 "metadata": {
  "kernelspec": {
   "display_name": "Julia 0.4.6",
   "language": "julia",
   "name": "julia-0.4"
  },
  "language_info": {
   "file_extension": ".jl",
   "mimetype": "application/julia",
   "name": "julia",
   "version": "0.4.6"
  }
 },
 "nbformat": 4,
 "nbformat_minor": 0
}
