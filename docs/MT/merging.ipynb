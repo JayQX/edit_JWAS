{
 "cells": [
  {
   "cell_type": "code",
   "execution_count": 1,
   "metadata": {
    "collapsed": false
   },
   "outputs": [
    {
     "data": {
      "text/plain": [
       "JWAS"
      ]
     },
     "execution_count": 1,
     "metadata": {},
     "output_type": "execute_result"
    }
   ],
   "source": [
    "include(\"../../src/JWAS.jl\")"
   ]
  },
  {
   "cell_type": "code",
   "execution_count": 2,
   "metadata": {
    "collapsed": false
   },
   "outputs": [],
   "source": [
    "using DataFrames\n",
    "using JWAS: MT,Datasets"
   ]
  },
  {
   "cell_type": "markdown",
   "metadata": {},
   "source": [
    "<button type=\"button\" class=\"btn btn-lg btn-primary\">Data</button> "
   ]
  },
  {
   "cell_type": "code",
   "execution_count": 3,
   "metadata": {
    "collapsed": false
   },
   "outputs": [],
   "source": [
    "phenofile = Datasets.dataset(\"testMT\",\"phenotype.txt\")\n",
    "genofile  = Datasets.dataset(\"testMT\",\"genotype.txt\")\n",
    "pedfile   = Datasets.dataset(\"testMT\",\"pedigree.txt\");"
   ]
  },
  {
   "cell_type": "code",
   "execution_count": 4,
   "metadata": {
    "collapsed": false
   },
   "outputs": [
    {
     "data": {
      "text/html": [
       "<table class=\"data-frame\"><tr><th></th><th>Animal</th><th>BW</th><th>CW</th><th>age</th><th>sex</th></tr><tr><th>1</th><td>S1</td><td>100.0</td><td>10.0</td><td>8</td><td>M</td></tr><tr><th>2</th><td>D1</td><td>50.0</td><td>12.9</td><td>7</td><td>F</td></tr><tr><th>3</th><td>O1</td><td>150.0</td><td>13.0</td><td>3</td><td>M</td></tr><tr><th>4</th><td>O3</td><td>40.0</td><td>5.0</td><td>4</td><td>F</td></tr></table>"
      ],
      "text/plain": [
       "4×5 DataFrames.DataFrame\n",
       "│ Row │ Animal │ BW    │ CW   │ age │ sex │\n",
       "├─────┼────────┼───────┼──────┼─────┼─────┤\n",
       "│ 1   │ \"S1\"   │ 100.0 │ 10.0 │ 8   │ \"M\" │\n",
       "│ 2   │ \"D1\"   │ 50.0  │ 12.9 │ 7   │ \"F\" │\n",
       "│ 3   │ \"O1\"   │ 150.0 │ 13.0 │ 3   │ \"M\" │\n",
       "│ 4   │ \"O3\"   │ 40.0  │ 5.0  │ 4   │ \"F\" │"
      ]
     },
     "execution_count": 4,
     "metadata": {},
     "output_type": "execute_result"
    }
   ],
   "source": [
    "data=readtable(phenofile)"
   ]
  },
  {
   "cell_type": "markdown",
   "metadata": {},
   "source": [
    "<button type=\"button\" class=\"btn btn-lg btn-primary\">Build Model</button> "
   ]
  },
  {
   "cell_type": "markdown",
   "metadata": {},
   "source": [
    "### Genetic covariance matrix and residual covariance matrix"
   ]
  },
  {
   "cell_type": "code",
   "execution_count": 5,
   "metadata": {
    "collapsed": false
   },
   "outputs": [],
   "source": [
    "R      = [10.0 2.0\n",
    "           2.0 1.0]\n",
    "G      = [20.0 1.0\n",
    "           1.0 2.0];"
   ]
  },
  {
   "cell_type": "code",
   "execution_count": 6,
   "metadata": {
    "collapsed": false
   },
   "outputs": [],
   "source": [
    "model_equations = \"BW = intercept + age + sex + Animal\n",
    "                   CW = intercept + age + sex + Animal\";"
   ]
  },
  {
   "cell_type": "code",
   "execution_count": 7,
   "metadata": {
    "collapsed": false
   },
   "outputs": [],
   "source": [
    "#model    = MT.build_model(model_equations,R[1,1]);\n",
    "model    = MT.build_model(model_equations,R);"
   ]
  },
  {
   "cell_type": "code",
   "execution_count": 8,
   "metadata": {
    "collapsed": false
   },
   "outputs": [],
   "source": [
    "MT.set_covariate(model,\"age\")"
   ]
  },
  {
   "cell_type": "markdown",
   "metadata": {},
   "source": [
    "#### set variables as random variables"
   ]
  },
  {
   "cell_type": "markdown",
   "metadata": {},
   "source": [
    "* random variables whose covariance matrices are numerator relationship matrix "
   ]
  },
  {
   "cell_type": "code",
   "execution_count": 9,
   "metadata": {
    "collapsed": false
   },
   "outputs": [
    {
     "name": "stdout",
     "output_type": "stream",
     "text": [
      "Finished!\n"
     ]
    }
   ],
   "source": [
    "ped = MT.get_pedigree(pedfile);"
   ]
  },
  {
   "cell_type": "code",
   "execution_count": 10,
   "metadata": {
    "collapsed": false
   },
   "outputs": [],
   "source": [
    "MT.set_random(model,\"Animal\", ped,G)"
   ]
  },
  {
   "cell_type": "markdown",
   "metadata": {},
   "source": [
    "<button type=\"button\" class=\"btn btn-lg btn-primary\">Run Model</button> "
   ]
  },
  {
   "cell_type": "code",
   "execution_count": 11,
   "metadata": {
    "collapsed": false
   },
   "outputs": [
    {
     "name": "stdout",
     "output_type": "stream",
     "text": [
      "running MCMC for conventional (no markers)...  0%|      |  ETA: 0:04:13\n",
      "Posterior means at iteration: 500\n",
      "Residual covariance matrix: \n",
      "[52.978374 11.615309\n",
      " 11.615309 3.485505]\n",
      "Polygenic effects covariance matrix \n",
      "[96.827154 17.314193\n",
      " 17.314193 6.302828]\n",
      "\n",
      "running MCMC for conventional (no markers)... 50%|███   |  ETA: 0:00:01\n",
      "Posterior means at iteration: 1000\n",
      "Residual covariance matrix: \n",
      "[124.837309 32.520275\n",
      " 32.520275 9.354802]\n",
      "Polygenic effects covariance matrix \n",
      "[60.169062 8.963388\n",
      " 8.963388 3.933715]\n",
      "\n",
      "running MCMC for conventional (no markers)...100%|██████| Time: 0:00:01\n"
     ]
    }
   ],
   "source": [
    "out2 = MT.runMCMC(model,data,chain_length=1000,printout_frequency=500,output_samples_frequency=10);"
   ]
  },
  {
   "cell_type": "code",
   "execution_count": 12,
   "metadata": {
    "collapsed": false
   },
   "outputs": [
    {
     "data": {
      "text/plain": [
       "Base.KeyIterator for a Dict{Any,Any} with 5 entries. Keys:\n",
       "  \"Posterior mean of polygenic effects covariance matrix\"\n",
       "  \"Posterior mean of residual covariance matrix\"\n",
       "  \"MCMC samples for residual covariance matrix\"\n",
       "  \"MCMC samples for polygenic effects covariance matrix\"\n",
       "  \"Posterior mean of location parameters\""
      ]
     },
     "execution_count": 12,
     "metadata": {},
     "output_type": "execute_result"
    }
   ],
   "source": [
    "keys(out2)"
   ]
  },
  {
   "cell_type": "code",
   "execution_count": 14,
   "metadata": {
    "collapsed": false
   },
   "outputs": [
    {
     "data": {
      "text/plain": [
       "18x2 Array{Any,2}:\n",
       " \"1:intercept : intercept\"   96.5131  \n",
       " \"1:age : age\"               -8.63383 \n",
       " \"1:sex : M\"                 75.8994  \n",
       " \"1:sex : F\"                 -0.956484\n",
       " \"1:Animal : S1\"             -5.30481 \n",
       " \"1:Animal : D1\"              3.97298 \n",
       " \"1:Animal : O1\"              1.03662 \n",
       " \"1:Animal : O3\"             -4.00686 \n",
       " \"1:Animal : O2\"             -1.40066 \n",
       " \"2:intercept : intercept\"   25.8721  \n",
       " \"2:age : age\"               -0.468865\n",
       " \"2:sex : M\"                -11.5851  \n",
       " \"2:sex : F\"                -13.1586  \n",
       " \"2:Animal : S1\"             -1.24695 \n",
       " \"2:Animal : D1\"              0.570291\n",
       " \"2:Animal : O1\"             -0.385957\n",
       " \"2:Animal : O3\"             -1.22023 \n",
       " \"2:Animal : O2\"             -0.478835"
      ]
     },
     "execution_count": 14,
     "metadata": {},
     "output_type": "execute_result"
    }
   ],
   "source": [
    "out2[\"Posterior mean of location parameters\"]"
   ]
  },
  {
   "cell_type": "code",
   "execution_count": 16,
   "metadata": {
    "collapsed": false
   },
   "outputs": [
    {
     "data": {
      "text/plain": [
       "4x100 Array{Float64,2}:\n",
       " 36.2728   39.3213   126.278   61.557    …  459.092   241.868   152.956 \n",
       " 16.7784   10.9217    37.4417  17.5606      128.631    55.1791   39.1256\n",
       " 16.7784   10.9217    37.4417  17.5606      128.631    55.1791   39.1256\n",
       "  8.42561   4.31877   11.4207   5.84039      36.4596   12.7285   10.2745"
      ]
     },
     "execution_count": 16,
     "metadata": {},
     "output_type": "execute_result"
    }
   ],
   "source": [
    "out2[\"MCMC samples for residual covariance matrix\"]"
   ]
  },
  {
   "cell_type": "code",
   "execution_count": null,
   "metadata": {
    "collapsed": true
   },
   "outputs": [],
   "source": []
  }
 ],
 "metadata": {
  "kernelspec": {
   "display_name": "Julia 0.4.6",
   "language": "julia",
   "name": "julia-0.4"
  },
  "language_info": {
   "file_extension": ".jl",
   "mimetype": "application/julia",
   "name": "julia",
   "version": "0.4.6"
  }
 },
 "nbformat": 4,
 "nbformat_minor": 0
}
