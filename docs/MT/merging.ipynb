{
 "cells": [
  {
   "cell_type": "code",
   "execution_count": 1,
   "metadata": {
    "collapsed": false
   },
   "outputs": [
    {
     "data": {
      "text/plain": [
       "JWAS"
      ]
     },
     "execution_count": 1,
     "metadata": {},
     "output_type": "execute_result"
    }
   ],
   "source": [
    "include(\"../../src/JWAS.jl\")"
   ]
  },
  {
   "cell_type": "code",
   "execution_count": 2,
   "metadata": {
    "collapsed": false
   },
   "outputs": [],
   "source": [
    "using DataFrames\n",
    "using JWAS.Datasets\n",
    "using JWAS"
   ]
  },
  {
   "cell_type": "markdown",
   "metadata": {},
   "source": [
    "<button type=\"button\" class=\"btn btn-lg btn-primary\">Data</button> "
   ]
  },
  {
   "cell_type": "code",
   "execution_count": 3,
   "metadata": {
    "collapsed": false
   },
   "outputs": [],
   "source": [
    "phenofile = Datasets.dataset(\"testMT\",\"phenotype.txt\")\n",
    "genofile  = Datasets.dataset(\"testMT\",\"genotype.txt\")\n",
    "pedfile   = Datasets.dataset(\"testMT\",\"pedigree.txt\");"
   ]
  },
  {
   "cell_type": "code",
   "execution_count": 4,
   "metadata": {
    "collapsed": false
   },
   "outputs": [
    {
     "data": {
      "text/html": [
       "<table class=\"data-frame\"><tr><th></th><th>Animal</th><th>BW</th><th>CW</th><th>age</th><th>sex</th></tr><tr><th>1</th><td>S1</td><td>100.0</td><td>10.0</td><td>8</td><td>M</td></tr><tr><th>2</th><td>D1</td><td>50.0</td><td>12.9</td><td>7</td><td>F</td></tr><tr><th>3</th><td>O1</td><td>150.0</td><td>13.0</td><td>3</td><td>M</td></tr><tr><th>4</th><td>O3</td><td>40.0</td><td>5.0</td><td>4</td><td>F</td></tr></table>"
      ],
      "text/plain": [
       "4×5 DataFrames.DataFrame\n",
       "│ Row │ Animal │ BW    │ CW   │ age │ sex │\n",
       "├─────┼────────┼───────┼──────┼─────┼─────┤\n",
       "│ 1   │ \"S1\"   │ 100.0 │ 10.0 │ 8   │ \"M\" │\n",
       "│ 2   │ \"D1\"   │ 50.0  │ 12.9 │ 7   │ \"F\" │\n",
       "│ 3   │ \"O1\"   │ 150.0 │ 13.0 │ 3   │ \"M\" │\n",
       "│ 4   │ \"O3\"   │ 40.0  │ 5.0  │ 4   │ \"F\" │"
      ]
     },
     "execution_count": 4,
     "metadata": {},
     "output_type": "execute_result"
    }
   ],
   "source": [
    "data=readtable(phenofile)"
   ]
  },
  {
   "cell_type": "markdown",
   "metadata": {},
   "source": [
    "<button type=\"button\" class=\"btn btn-lg btn-primary\">Build Model</button> "
   ]
  },
  {
   "cell_type": "markdown",
   "metadata": {},
   "source": [
    "### Genetic covariance matrix and residual covariance matrix"
   ]
  },
  {
   "cell_type": "code",
   "execution_count": 29,
   "metadata": {
    "collapsed": false
   },
   "outputs": [],
   "source": [
    "R      = [10.0 2.0\n",
    "           2.0 1.0]\n",
    "G      = [20.0 1.0\n",
    "           1.0 2.0];"
   ]
  },
  {
   "cell_type": "code",
   "execution_count": 30,
   "metadata": {
    "collapsed": false
   },
   "outputs": [],
   "source": [
    "model_equations = \"BW = intercept + age + sex + Animal\n",
    "                   CW = intercept + age + sex + Animal\";"
   ]
  },
  {
   "cell_type": "code",
   "execution_count": 31,
   "metadata": {
    "collapsed": false
   },
   "outputs": [],
   "source": [
    "#model    = build_model(model_equations,R[1,1]);\n",
    "model    = build_model(model_equations,R);"
   ]
  },
  {
   "cell_type": "markdown",
   "metadata": {},
   "source": [
    "#### set variables as random variables"
   ]
  },
  {
   "cell_type": "markdown",
   "metadata": {},
   "source": [
    "* random variables whose covariance matrices are numerator relationship matrix "
   ]
  },
  {
   "cell_type": "code",
   "execution_count": 32,
   "metadata": {
    "collapsed": false
   },
   "outputs": [
    {
     "name": "stdout",
     "output_type": "stream",
     "text": [
      "Finished!\n"
     ]
    }
   ],
   "source": [
    "ped = get_pedigree(pedfile);"
   ]
  },
  {
   "cell_type": "code",
   "execution_count": 33,
   "metadata": {
    "collapsed": false
   },
   "outputs": [],
   "source": [
    "set_random(model,\"Animal\", ped,G)"
   ]
  },
  {
   "cell_type": "code",
   "execution_count": 34,
   "metadata": {
    "collapsed": false
   },
   "outputs": [],
   "source": [
    "set_random(model,\"age\", 1.0,df=8)"
   ]
  },
  {
   "cell_type": "code",
   "execution_count": 22,
   "metadata": {
    "collapsed": false
   },
   "outputs": [],
   "source": [
    "outputMCMCsamples(model,\"age\")"
   ]
  },
  {
   "cell_type": "code",
   "execution_count": 23,
   "metadata": {
    "collapsed": false
   },
   "outputs": [
    {
     "name": "stdout",
     "output_type": "stream",
     "text": [
      "The delimiters in file /Users/haocheng/Github/JWAS.jl/src/5.Datasets/src/../data/testMT/genotype.txt is ,  .\n"
     ]
    }
   ],
   "source": [
    "add_markers(model,genofile,G,separator=',',header=true);"
   ]
  },
  {
   "cell_type": "markdown",
   "metadata": {},
   "source": [
    "<button type=\"button\" class=\"btn btn-lg btn-primary\">Run Model</button> "
   ]
  },
  {
   "cell_type": "code",
   "execution_count": 24,
   "metadata": {
    "collapsed": false
   },
   "outputs": [
    {
     "name": "stdout",
     "output_type": "stream",
     "text": [
      "Priors for marker effects covariance matrix were calculated from genetic covariance matrix and π.\n",
      "Marker effects covariance matrix is \n",
      "[17.534247 1.753425\n",
      " 1.753425 1.753425].\n",
      "\n",
      "\n",
      "MCMC Information:\n",
      "methods                                      BayesC\n",
      "chain length                                   1000\n",
      "estimatePi                                    false\n",
      "constraint                                    false\n",
      "missing_phenotypes                            false\n",
      "starting value                                false\n",
      "output sample frequency                          10\n",
      "printout frequency                              500\n",
      "\n",
      "Degree of freedom for hyper-parameters:\n",
      "residual variances:                           4.000\n",
      "iid random effect variances:                  8.000\n",
      "polygenic effect variances:                   4.000\n",
      "marker effect variances:                      4.000\n",
      "\n",
      "\n",
      "\n",
      "running MCMC for BayesC... 39%|██████████               |  ETA: 0:00:00\n",
      "Posterior means at iteration: 500\n",
      "Residual covariance matrix: \n",
      "[11.162725 2.347703\n",
      " 2.347703 1.060416]\n",
      "Polygenic effects covariance matrix \n",
      "[14.690286 0.262355\n",
      " 0.262355 1.746603]\n",
      "Marker effects covariance matrix: \n",
      "[14.445369 1.501991\n",
      " 1.501991 1.420829]\n",
      "\n",
      "running MCMC for BayesC... 86%|██████████████████████   |  ETA: 0:00:00\n",
      "Posterior means at iteration: 1000\n",
      "Residual covariance matrix: \n",
      "[10.972087 2.194358\n",
      " 2.194358 0.999772]\n",
      "Polygenic effects covariance matrix \n",
      "[16.381734 0.593882\n",
      " 0.593882 1.728109]\n",
      "Marker effects covariance matrix: \n",
      "[14.982415 1.330669\n",
      " 1.330669 1.470341]\n",
      "\n",
      "running MCMC for BayesC...100%|█████████████████████████| Time: 0:00:00\n"
     ]
    }
   ],
   "source": [
    "Pi=Dict([1.0; 1.0]=>0.25,[1.0; 0.0]=>0.25,[0.0; 1.0]=>0.25,[0.0; 0.0]=>0.25)\n",
    "out2 = runMCMC(model,data,methods=\"BayesC\",Pi=Pi,chain_length=1000,printout_frequency=500,output_samples_frequency=10);"
   ]
  },
  {
   "cell_type": "code",
   "execution_count": 25,
   "metadata": {
    "collapsed": false
   },
   "outputs": [
    {
     "data": {
      "text/plain": [
       "Base.KeyIterator for a Dict{Any,Any} with 12 entries. Keys:\n",
       "  \"Model frequency\"\n",
       "  \"Posterior mean of marker effects\"\n",
       "  \"MCMC samples for polygenic effects covariance matrix\"\n",
       "  \"MCMC samples for: variance of 2:age\"\n",
       "  \"Posterior mean of location parameters\"\n",
       "  \"Posterior mean of polygenic effects covariance matrix\"\n",
       "  \"Posterior mean of marker effects covariance matrix\"\n",
       "  \"MCMC samples for: 1:age\"\n",
       "  \"MCMC samples for residual covariance matrix\"\n",
       "  \"Posterior mean of residual covariance matrix\"\n",
       "  \"MCMC samples for: 2:age\"\n",
       "  \"MCMC samples for: variance of 1:age\""
      ]
     },
     "execution_count": 25,
     "metadata": {},
     "output_type": "execute_result"
    }
   ],
   "source": [
    "keys(out2)"
   ]
  },
  {
   "cell_type": "code",
   "execution_count": 26,
   "metadata": {
    "collapsed": false
   },
   "outputs": [
    {
     "data": {
      "text/plain": [
       "2-element Array{Any,1}:\n",
       " 5x2 Array{Any,2}:\n",
       " \"x1\"   0.322683 \n",
       " \"x2\"  -0.0713638\n",
       " \"x3\"   0.385389 \n",
       " \"x4\"   0.500715 \n",
       " \"x5\"   0.240846 \n",
       " 5x2 Array{Any,2}:\n",
       " \"x1\"  -0.0569113\n",
       " \"x2\"   0.211425 \n",
       " \"x3\"  -0.0579064\n",
       " \"x4\"  -0.101527 \n",
       " \"x5\"   0.0516265"
      ]
     },
     "execution_count": 26,
     "metadata": {},
     "output_type": "execute_result"
    }
   ],
   "source": [
    "out2[\"Posterior mean of marker effects\"]"
   ]
  },
  {
   "cell_type": "code",
   "execution_count": 35,
   "metadata": {
    "collapsed": false
   },
   "outputs": [],
   "source": [
    "JWAS.getMME(model,data)"
   ]
  },
  {
   "cell_type": "code",
   "execution_count": 39,
   "metadata": {
    "collapsed": false
   },
   "outputs": [
    {
     "data": {
      "text/plain": [
       "24x25 Array{Any,2}:\n",
       " \"1:intercept : intercept\"   0.67  …  -0.33  -0.33  -0.33  -0.33   0.0 \n",
       " \"1:age : 8\"                 0.17     -0.33   0.0    0.0    0.0    0.0 \n",
       " \"1:age : 7\"                 0.17      0.0   -0.33   0.0    0.0    0.0 \n",
       " \"1:age : 3\"                 0.17      0.0    0.0   -0.33   0.0    0.0 \n",
       " \"1:age : 4\"                 0.17      0.0    0.0    0.0   -0.33   0.0 \n",
       " \"1:sex : M\"                 0.33  …  -0.33   0.0   -0.33   0.0    0.0 \n",
       " \"1:sex : F\"                 0.33      0.0   -0.33   0.0   -0.33   0.0 \n",
       " \"1:Animal : S1\"             0.17     -0.4   -0.04   0.03   0.03   0.03\n",
       " \"1:Animal : D1\"             0.17     -0.04  -0.4    0.03   0.03   0.03\n",
       " \"1:Animal : O1\"             0.17      0.03   0.03  -0.38   0.0    0.0 \n",
       " \"1:Animal : O3\"             0.17  …   0.03   0.03   0.0   -0.38   0.0 \n",
       " \"1:Animal : O2\"             0.0       0.03   0.03   0.0    0.0   -0.05\n",
       " \"2:intercept : intercept\"  -1.33      1.67   1.67   1.67   1.67   0.0 \n",
       " \"2:age : 8\"                -0.33      1.67   0.0    0.0    0.0    0.0 \n",
       " \"2:age : 7\"                -0.33      0.0    1.67   0.0    0.0    0.0 \n",
       " \"2:age : 3\"                -0.33  …   0.0    0.0    1.67   0.0    0.0 \n",
       " \"2:age : 4\"                -0.33      0.0    0.0    0.0    1.67   0.0 \n",
       " \"2:sex : M\"                -0.67      1.67   0.0    1.67   0.0    0.0 \n",
       " \"2:sex : F\"                -0.67      0.0    1.67   0.0    1.67   0.0 \n",
       " \"2:Animal : S1\"            -0.33      2.95   0.77  -0.51  -0.51  -0.51\n",
       " \"2:Animal : D1\"            -0.33  …   0.77   2.95  -0.51  -0.51  -0.51\n",
       " \"2:Animal : O1\"            -0.33     -0.51  -0.51   2.69   0.0    0.0 \n",
       " \"2:Animal : O3\"            -0.33     -0.51  -0.51   0.0    2.69   0.0 \n",
       " \"2:Animal : O2\"             0.0      -0.51  -0.51   0.0    0.0    1.03"
      ]
     },
     "execution_count": 39,
     "metadata": {},
     "output_type": "execute_result"
    }
   ],
   "source": [
    "[JWAS.getNames(model) round(model.mmeLhs,2)]"
   ]
  },
  {
   "cell_type": "code",
   "execution_count": null,
   "metadata": {
    "collapsed": true
   },
   "outputs": [],
   "source": []
  }
 ],
 "metadata": {
  "kernelspec": {
   "display_name": "Julia 0.4.6",
   "language": "julia",
   "name": "julia-0.4"
  },
  "language_info": {
   "file_extension": ".jl",
   "mimetype": "application/julia",
   "name": "julia",
   "version": "0.4.6"
  }
 },
 "nbformat": 4,
 "nbformat_minor": 0
}
