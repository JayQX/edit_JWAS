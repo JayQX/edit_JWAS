{
 "cells": [
  {
   "cell_type": "markdown",
   "metadata": {},
   "source": [
    "<ul class=\"breadcrumb\">\n",
    "  <li><a href=\"1.1.Univaraite_Linear_Mixed_Effects_Model.ipynb\">Univariate Basics</a></li>\n",
    "  <li><a href=\"1.2.Univariate_Linear_Additive_Genetic_Model.ipynb\">Univariate Additive Genetic Model</a></li> \n",
    "  <li><a href=\"1.3.Univariate_Linear_Mixed_Effects_Model_with_Genomic_Data.ipynb\">Univariate Genomic Data</a></li>\n",
    "</ul>"
   ]
  },
  {
   "cell_type": "markdown",
   "metadata": {},
   "source": [
    "<div class=\"span5 alert alert-success\">\n",
    " <font size=\"5\" face=\"Georgia\">Univaraite Linear Mixed Effects Model</font> \n",
    "</div>"
   ]
  },
  {
   "cell_type": "code",
   "execution_count": 1,
   "metadata": {
    "collapsed": false
   },
   "outputs": [],
   "source": [
    "using DataFrames,JWAS,JWAS.Datasets"
   ]
  },
  {
   "cell_type": "markdown",
   "metadata": {},
   "source": [
    "<button type=\"button\" class=\"btn btn-lg btn-primary\">Data</button> "
   ]
  },
  {
   "cell_type": "code",
   "execution_count": 2,
   "metadata": {
    "collapsed": false
   },
   "outputs": [
    {
     "data": {
      "text/html": [
       "<table class=\"data-frame\"><tr><th></th><th>sow</th><th>site</th><th>yr</th><th>age</th><th>geneticCode</th><th>parity</th><th>nwn</th><th>SYS</th><th>bw</th></tr><tr><th>1</th><td>100-113</td><td>113</td><td>2005</td><td>18</td><td>PIC 1</td><td>1</td><td>8</td><td>113_2005_WNTR</td><td>9.0</td></tr><tr><th>2</th><td>100-113</td><td>113</td><td>2006</td><td>18</td><td>PIC 1</td><td>2</td><td>12</td><td>113_2006_SPNG</td><td>8.0</td></tr><tr><th>3</th><td>100-5</td><td>5</td><td>2008</td><td>15</td><td>PIC 2</td><td>1</td><td>10</td><td>5_2008_ATMN</td><td>7.5</td></tr><tr><th>4</th><td>1000-5</td><td>5</td><td>2009</td><td>17</td><td>PIC 2</td><td>1</td><td>10</td><td>5_2009_SPNG</td><td>8.3</td></tr><tr><th>5</th><td>10000-13</td><td>13</td><td>2004</td><td>16</td><td>Commercial</td><td>1</td><td>9</td><td>13_2004_WNTR</td><td>4.3</td></tr><tr><th>6</th><td>10000-13</td><td>13</td><td>2004</td><td>18</td><td>Commercial</td><td>2</td><td>10</td><td>13_2004_SMMR</td><td>2.8</td></tr><tr><th>7</th><td>10000-13</td><td>13</td><td>2004</td><td>20</td><td>Commercial</td><td>3</td><td>11</td><td>13_2004_ATMN</td><td>3.9</td></tr><tr><th>8</th><td>10000-13</td><td>13</td><td>2005</td><td>18</td><td>Commercial</td><td>4</td><td>11</td><td>13_2005_SPNG</td><td>10.0</td></tr><tr><th>9</th><td>10000-13</td><td>13</td><td>2005</td><td>25</td><td>Commercial</td><td>5</td><td>7</td><td>13_2005_ATMN</td><td>4.0</td></tr><tr><th>10</th><td>10000-6</td><td>6</td><td>2012</td><td>17</td><td>PIC C27</td><td>1</td><td>12</td><td>6_2012_ATMN</td><td>8.9</td></tr></table>"
      ],
      "text/plain": [
       "10×9 DataFrames.DataFrame\n",
       "│ Row │ sow        │ site │ yr   │ age │ geneticCode  │ parity │ nwn │\n",
       "├─────┼────────────┼──────┼──────┼─────┼──────────────┼────────┼─────┤\n",
       "│ 1   │ \"100-113\"  │ 113  │ 2005 │ 18  │ \"PIC 1\"      │ 1      │ 8   │\n",
       "│ 2   │ \"100-113\"  │ 113  │ 2006 │ 18  │ \"PIC 1\"      │ 2      │ 12  │\n",
       "│ 3   │ \"100-5\"    │ 5    │ 2008 │ 15  │ \"PIC 2\"      │ 1      │ 10  │\n",
       "│ 4   │ \"1000-5\"   │ 5    │ 2009 │ 17  │ \"PIC 2\"      │ 1      │ 10  │\n",
       "│ 5   │ \"10000-13\" │ 13   │ 2004 │ 16  │ \"Commercial\" │ 1      │ 9   │\n",
       "│ 6   │ \"10000-13\" │ 13   │ 2004 │ 18  │ \"Commercial\" │ 2      │ 10  │\n",
       "│ 7   │ \"10000-13\" │ 13   │ 2004 │ 20  │ \"Commercial\" │ 3      │ 11  │\n",
       "│ 8   │ \"10000-13\" │ 13   │ 2005 │ 18  │ \"Commercial\" │ 4      │ 11  │\n",
       "│ 9   │ \"10000-13\" │ 13   │ 2005 │ 25  │ \"Commercial\" │ 5      │ 7   │\n",
       "│ 10  │ \"10000-6\"  │ 6    │ 2012 │ 17  │ \"PIC C27\"    │ 1      │ 12  │\n",
       "\n",
       "│ Row │ SYS             │ bw   │\n",
       "├─────┼─────────────────┼──────┤\n",
       "│ 1   │ \"113_2005_WNTR\" │ 9.0  │\n",
       "│ 2   │ \"113_2006_SPNG\" │ 8.0  │\n",
       "│ 3   │ \"5_2008_ATMN\"   │ 7.5  │\n",
       "│ 4   │ \"5_2009_SPNG\"   │ 8.3  │\n",
       "│ 5   │ \"13_2004_WNTR\"  │ 4.3  │\n",
       "│ 6   │ \"13_2004_SMMR\"  │ 2.8  │\n",
       "│ 7   │ \"13_2004_ATMN\"  │ 3.9  │\n",
       "│ 8   │ \"13_2005_SPNG\"  │ 10.0 │\n",
       "│ 9   │ \"13_2005_ATMN\"  │ 4.0  │\n",
       "│ 10  │ \"6_2012_ATMN\"   │ 8.9  │"
      ]
     },
     "execution_count": 2,
     "metadata": {},
     "output_type": "execute_result"
    }
   ],
   "source": [
    "phenofile = Datasets.dataset(\"testMME\",\"data.txt\")\n",
    "data      = readtable(phenofile,separator = ',',header=true)"
   ]
  },
  {
   "cell_type": "markdown",
   "metadata": {},
   "source": [
    "<button type=\"button\" class=\"btn btn-lg btn-primary\">Build Model</button> "
   ]
  },
  {
   "cell_type": "code",
   "execution_count": 3,
   "metadata": {
    "collapsed": false
   },
   "outputs": [
    {
     "data": {
      "text/plain": [
       "\"nwn = intercept +parity + parity*site + yr + geneticCode + age\""
      ]
     },
     "execution_count": 3,
     "metadata": {},
     "output_type": "execute_result"
    }
   ],
   "source": [
    "model_equation  = \"nwn = intercept +parity + parity*site + yr + geneticCode + age\""
   ]
  },
  {
   "cell_type": "code",
   "execution_count": 4,
   "metadata": {
    "collapsed": false
   },
   "outputs": [],
   "source": [
    "residual_variance = 2.97\n",
    "model             = build_model(model_equation,residual_variance)\n",
    "\n",
    "set_covariate(model,\"age\")\n",
    "\n",
    "sow_variance      = 0.26\n",
    "set_random(model,\"parity\",sow_variance);"
   ]
  },
  {
   "cell_type": "markdown",
   "metadata": {},
   "source": [
    "<button type=\"button\" class=\"btn btn-lg btn-primary\">Run Model</button> "
   ]
  },
  {
   "cell_type": "code",
   "execution_count": 5,
   "metadata": {
    "collapsed": false
   },
   "outputs": [],
   "source": [
    "outputMCMCsamples(model,\"parity\",\"age\");"
   ]
  },
  {
   "cell_type": "code",
   "execution_count": 6,
   "metadata": {
    "collapsed": false
   },
   "outputs": [
    {
     "name": "stdout",
     "output_type": "stream",
     "text": [
      "MCMC Information:\n",
      "methods                        conventional (no markers)\n",
      "chain_length                                  50000\n",
      "estimatePi                                    false\n",
      "constraint                                    false\n",
      "missing_phenotypes                            false\n",
      "starting_value                                false\n",
      "output_samples_frequency                        100\n",
      "printout_frequency                            50001\n",
      "\n",
      "Degree of freedom for hyper-parameters:\n",
      "residual variances:                           4.000\n",
      "iid random effect variances:                  4.000\n",
      "polygenic effect variances:                   4.000\n",
      "marker effect variances:                      4.000\n",
      "\n",
      "\n",
      "\n",
      "running MCMC for conventional (no markers)...100%|██████| Time: 0:00:01\n"
     ]
    }
   ],
   "source": [
    "out=runMCMC(model,data,chain_length=50000,output_samples_frequency=100);"
   ]
  },
  {
   "cell_type": "markdown",
   "metadata": {},
   "source": [
    "<button type=\"button\" class=\"btn btn-lg btn-primary\">Check Results</button> "
   ]
  },
  {
   "cell_type": "code",
   "execution_count": 7,
   "metadata": {
    "collapsed": false
   },
   "outputs": [
    {
     "data": {
      "text/plain": [
       "Base.KeyIterator for a Dict{Any,Any} with 5 entries. Keys:\n",
       "  \"MCMC samples for: 1:age\"\n",
       "  \"MCMC samples for residual variance\"\n",
       "  \"MCMC samples for: variance of 1:parity\"\n",
       "  \"Posterior mean of location parameters\"\n",
       "  \"MCMC samples for: 1:parity\""
      ]
     },
     "execution_count": 7,
     "metadata": {},
     "output_type": "execute_result"
    }
   ],
   "source": [
    "keys(out)"
   ]
  },
  {
   "cell_type": "code",
   "execution_count": 8,
   "metadata": {
    "collapsed": false
   },
   "outputs": [
    {
     "data": {
      "text/plain": [
       "26x2 Array{Any,2}:\n",
       " \"1:intercept : intercept\"      -38.6727     \n",
       " \"1:parity : 1\"                   0.00153363 \n",
       " \"1:parity : 2\"                   8.53826e-5 \n",
       " \"1:parity : 3\"                   0.000825188\n",
       " \"1:parity : 4\"                   0.00135508 \n",
       " \"1:parity : 5\"                   0.00132473 \n",
       " \"1:parity*site : 1 * 113\"      -13.6245     \n",
       " \"1:parity*site : 2 * 113\"      -70.5246     \n",
       " \"1:parity*site : 1 * 5\"        -35.8722     \n",
       " \"1:parity*site : 1 * 13\"        38.6122     \n",
       " \"1:parity*site : 2 * 13\"        42.0627     \n",
       " \"1:parity*site : 3 * 13\"        45.4869     \n",
       " \"1:parity*site : 4 * 13\"        85.9803     \n",
       " \"1:parity*site : 5 * 13\"        90.5302     \n",
       " \"1:parity*site : 1 * 6\"        -96.4731     \n",
       " \"1:yr : 2005\"                   29.8294     \n",
       " \"1:yr : 2006\"                   90.7328     \n",
       " \"1:yr : 2008\"                  515.488      \n",
       " \"1:yr : 2009\"                  517.949      \n",
       " \"1:yr : 2004\"                   72.7702     \n",
       " \"1:yr : 2012\"                  250.3        \n",
       " \"1:geneticCode : PIC 1\"         52.4549     \n",
       " \"1:geneticCode : PIC 2\"       -412.63       \n",
       " \"1:geneticCode : Commercial\"   -44.1646     \n",
       " \"1:geneticCode : PIC C27\"      -82.3924     \n",
       " \"1:age : age\"                   -1.22142    "
      ]
     },
     "execution_count": 8,
     "metadata": {},
     "output_type": "execute_result"
    }
   ],
   "source": [
    "out[\"Posterior mean of location parameters\"]"
   ]
  },
  {
   "cell_type": "code",
   "execution_count": 9,
   "metadata": {
    "collapsed": false
   },
   "outputs": [
    {
     "data": {
      "text/plain": [
       "1x501 Array{Any,2}:\n",
       " \"1:age : age\"  0.82255  1.68343  1.48906  …  -0.200852  -0.421858  -0.849606"
      ]
     },
     "execution_count": 9,
     "metadata": {},
     "output_type": "execute_result"
    }
   ],
   "source": [
    "oursample=out[\"MCMC samples for: 1:age\"]"
   ]
  },
  {
   "cell_type": "code",
   "execution_count": 10,
   "metadata": {
    "collapsed": false
   },
   "outputs": [
    {
     "name": "stdout",
     "output_type": "stream",
     "text": [
      "[Plots.jl] Initializing backend: pyplot\n"
     ]
    },
    {
     "data": {
      "text/html": [
       "<img src=\"data:image/png;base64,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\" />"
      ]
     },
     "execution_count": 10,
     "metadata": {},
     "output_type": "execute_result"
    }
   ],
   "source": [
    "using Plots\n",
    "sample4age = vec(oursample[2:end])\n",
    "histogram(sample4age)"
   ]
  },
  {
   "cell_type": "code",
   "execution_count": 11,
   "metadata": {
    "collapsed": false
   },
   "outputs": [
    {
     "data": {
      "text/plain": [
       "1x500 Array{Float64,2}:\n",
       " 0.053795  0.0999454  0.0913555  0.0652821  …  0.196411  0.0770084  0.06779"
      ]
     },
     "execution_count": 11,
     "metadata": {},
     "output_type": "execute_result"
    }
   ],
   "source": [
    "out[\"MCMC samples for: variance of 1:parity\"]"
   ]
  }
 ],
 "metadata": {
  "kernelspec": {
   "display_name": "Julia 0.4.6",
   "language": "julia",
   "name": "julia-0.4"
  },
  "language_info": {
   "file_extension": ".jl",
   "mimetype": "application/julia",
   "name": "julia",
   "version": "0.4.6"
  }
 },
 "nbformat": 4,
 "nbformat_minor": 0
}
