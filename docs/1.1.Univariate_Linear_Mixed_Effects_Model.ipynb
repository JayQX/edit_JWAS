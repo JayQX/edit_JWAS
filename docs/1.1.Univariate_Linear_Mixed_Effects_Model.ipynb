{
 "cells": [
  {
   "cell_type": "markdown",
   "metadata": {},
   "source": [
    "<ul class=\"breadcrumb\">\n",
    "  <li><a href=\"1.1.Univaraite_Linear_Mixed_Effects_Model.ipynb\">Univariate Basics</a></li>\n",
    "  <li><a href=\"2.1.Univariate_Linear_Additive_Genetic_Model.ipynb\">Univariate Additive Genetic Model</a></li> \n",
    "  <li><a href=\"3.1.Univariate_Linear_Mixed_Effects_Model_with_Genomic_Data.ipynb\">Univariate Genomic Data</a></li>\n",
    "</ul>"
   ]
  },
  {
   "cell_type": "markdown",
   "metadata": {},
   "source": [
    "<div class=\"span5 alert alert-success\">\n",
    " <font size=\"5\" face=\"Georgia\">Univaraite Linear Mixed Effects Model</font> \n",
    "</div>"
   ]
  },
  {
   "cell_type": "code",
   "execution_count": 5,
   "metadata": {
    "collapsed": false
   },
   "outputs": [],
   "source": [
    "using DataFrames,JWAS,JWAS.Datasets"
   ]
  },
  {
   "cell_type": "markdown",
   "metadata": {},
   "source": [
    "<button type=\"button\" class=\"btn btn-lg btn-primary\">Data</button> "
   ]
  },
  {
   "cell_type": "code",
   "execution_count": 6,
   "metadata": {
    "collapsed": false
   },
   "outputs": [
    {
     "data": {
      "text/html": [
       "<table class=\"data-frame\"><tr><th></th><th>sow</th><th>site</th><th>yr</th><th>age</th><th>geneticCode</th><th>parity</th><th>nwn</th><th>SYS</th><th>bw</th></tr><tr><th>1</th><td>100-113</td><td>113</td><td>2005</td><td>18</td><td>PIC 1</td><td>1</td><td>8</td><td>113_2005_WNTR</td><td>9.0</td></tr><tr><th>2</th><td>100-113</td><td>113</td><td>2006</td><td>18</td><td>PIC 1</td><td>2</td><td>12</td><td>113_2006_SPNG</td><td>8.0</td></tr><tr><th>3</th><td>100-5</td><td>5</td><td>2008</td><td>15</td><td>PIC 2</td><td>1</td><td>10</td><td>5_2008_ATMN</td><td>7.5</td></tr><tr><th>4</th><td>1000-5</td><td>5</td><td>2009</td><td>17</td><td>PIC 2</td><td>1</td><td>10</td><td>5_2009_SPNG</td><td>8.3</td></tr><tr><th>5</th><td>10000-13</td><td>13</td><td>2004</td><td>16</td><td>Commercial</td><td>1</td><td>9</td><td>13_2004_WNTR</td><td>4.3</td></tr><tr><th>6</th><td>10000-13</td><td>13</td><td>2004</td><td>18</td><td>Commercial</td><td>2</td><td>10</td><td>13_2004_SMMR</td><td>2.8</td></tr><tr><th>7</th><td>10000-13</td><td>13</td><td>2004</td><td>20</td><td>Commercial</td><td>3</td><td>11</td><td>13_2004_ATMN</td><td>3.9</td></tr><tr><th>8</th><td>10000-13</td><td>13</td><td>2005</td><td>18</td><td>Commercial</td><td>4</td><td>11</td><td>13_2005_SPNG</td><td>10.0</td></tr><tr><th>9</th><td>10000-13</td><td>13</td><td>2005</td><td>25</td><td>Commercial</td><td>5</td><td>7</td><td>13_2005_ATMN</td><td>4.0</td></tr><tr><th>10</th><td>10000-6</td><td>6</td><td>2012</td><td>17</td><td>PIC C27</td><td>1</td><td>12</td><td>6_2012_ATMN</td><td>8.9</td></tr></table>"
      ],
      "text/plain": [
       "10×9 DataFrames.DataFrame\n",
       "│ Row │ sow        │ site │ yr   │ age │ geneticCode  │ parity │ nwn │\n",
       "├─────┼────────────┼──────┼──────┼─────┼──────────────┼────────┼─────┤\n",
       "│ 1   │ \"100-113\"  │ 113  │ 2005 │ 18  │ \"PIC 1\"      │ 1      │ 8   │\n",
       "│ 2   │ \"100-113\"  │ 113  │ 2006 │ 18  │ \"PIC 1\"      │ 2      │ 12  │\n",
       "│ 3   │ \"100-5\"    │ 5    │ 2008 │ 15  │ \"PIC 2\"      │ 1      │ 10  │\n",
       "│ 4   │ \"1000-5\"   │ 5    │ 2009 │ 17  │ \"PIC 2\"      │ 1      │ 10  │\n",
       "│ 5   │ \"10000-13\" │ 13   │ 2004 │ 16  │ \"Commercial\" │ 1      │ 9   │\n",
       "│ 6   │ \"10000-13\" │ 13   │ 2004 │ 18  │ \"Commercial\" │ 2      │ 10  │\n",
       "│ 7   │ \"10000-13\" │ 13   │ 2004 │ 20  │ \"Commercial\" │ 3      │ 11  │\n",
       "│ 8   │ \"10000-13\" │ 13   │ 2005 │ 18  │ \"Commercial\" │ 4      │ 11  │\n",
       "│ 9   │ \"10000-13\" │ 13   │ 2005 │ 25  │ \"Commercial\" │ 5      │ 7   │\n",
       "│ 10  │ \"10000-6\"  │ 6    │ 2012 │ 17  │ \"PIC C27\"    │ 1      │ 12  │\n",
       "\n",
       "│ Row │ SYS             │ bw   │\n",
       "├─────┼─────────────────┼──────┤\n",
       "│ 1   │ \"113_2005_WNTR\" │ 9.0  │\n",
       "│ 2   │ \"113_2006_SPNG\" │ 8.0  │\n",
       "│ 3   │ \"5_2008_ATMN\"   │ 7.5  │\n",
       "│ 4   │ \"5_2009_SPNG\"   │ 8.3  │\n",
       "│ 5   │ \"13_2004_WNTR\"  │ 4.3  │\n",
       "│ 6   │ \"13_2004_SMMR\"  │ 2.8  │\n",
       "│ 7   │ \"13_2004_ATMN\"  │ 3.9  │\n",
       "│ 8   │ \"13_2005_SPNG\"  │ 10.0 │\n",
       "│ 9   │ \"13_2005_ATMN\"  │ 4.0  │\n",
       "│ 10  │ \"6_2012_ATMN\"   │ 8.9  │"
      ]
     },
     "execution_count": 6,
     "metadata": {},
     "output_type": "execute_result"
    }
   ],
   "source": [
    "phenofile = Datasets.dataset(\"testMME\",\"data.txt\")\n",
    "data      = readtable(phenofile,separator = ',',header=true)"
   ]
  },
  {
   "cell_type": "markdown",
   "metadata": {},
   "source": [
    "<button type=\"button\" class=\"btn btn-lg btn-primary\">Build Model</button> "
   ]
  },
  {
   "cell_type": "code",
   "execution_count": 7,
   "metadata": {
    "collapsed": false
   },
   "outputs": [
    {
     "data": {
      "text/plain": [
       "\"nwn = intercept +parity + parity*site + yr + geneticCode + age\""
      ]
     },
     "execution_count": 7,
     "metadata": {},
     "output_type": "execute_result"
    }
   ],
   "source": [
    "model_equation  = \"nwn = intercept +parity + parity*site + yr + geneticCode + age\""
   ]
  },
  {
   "cell_type": "code",
   "execution_count": 8,
   "metadata": {
    "collapsed": false
   },
   "outputs": [],
   "source": [
    "residual_variance = 2.97\n",
    "model             = build_model(model_equation,residual_variance)\n",
    "\n",
    "set_covariate(model,\"age\")\n",
    "\n",
    "sow_variance      = 0.26\n",
    "set_random(model,\"sow\",sow_variance);"
   ]
  },
  {
   "cell_type": "markdown",
   "metadata": {},
   "source": [
    "<button type=\"button\" class=\"btn btn-lg btn-primary\">Run Model</button> "
   ]
  },
  {
   "cell_type": "code",
   "execution_count": 5,
   "metadata": {
    "collapsed": false
   },
   "outputs": [],
   "source": [
    "outputMCMCsamples(model,\"parity\",\"age\");"
   ]
  },
  {
   "cell_type": "code",
   "execution_count": 6,
   "metadata": {
    "collapsed": false
   },
   "outputs": [
    {
     "name": "stdout",
     "output_type": "stream",
     "text": [
      "MCMC Information:\n",
      "methods                        conventional (no markers)\n",
      "chain_length                                  50000\n",
      "estimatePi                                    false\n",
      "constraint                                    false\n",
      "missing_phenotypes                            false\n",
      "starting_value                                false\n",
      "output_samples_frequency                        100\n",
      "printout_frequency                            50001\n",
      "update_priors_frequency                           0\n",
      "\n",
      "Degree of freedom for hyper-parameters:\n",
      "residual variances:                           4.000\n",
      "iid random effect variances:                  4.000\n",
      "polygenic effect variances:                   4.000\n",
      "marker effect variances:                      4.000\n",
      "\n",
      "\n",
      "\n",
      "running MCMC for conventional (no markers)...100%|██████| Time: 0:00:01\n"
     ]
    }
   ],
   "source": [
    "out=runMCMC(model,data,chain_length=50000,output_samples_frequency=100);"
   ]
  },
  {
   "cell_type": "markdown",
   "metadata": {},
   "source": [
    "<button type=\"button\" class=\"btn btn-lg btn-primary\">Check Results</button> "
   ]
  },
  {
   "cell_type": "code",
   "execution_count": 7,
   "metadata": {
    "collapsed": false
   },
   "outputs": [
    {
     "data": {
      "text/plain": [
       "Base.KeyIterator for a Dict{Any,Any} with 5 entries. Keys:\n",
       "  \"MCMC samples for: 1:age\"\n",
       "  \"MCMC samples for residual variance\"\n",
       "  \"MCMC samples for: variance of 1:parity\"\n",
       "  \"Posterior mean of location parameters\"\n",
       "  \"MCMC samples for: 1:parity\""
      ]
     },
     "execution_count": 7,
     "metadata": {},
     "output_type": "execute_result"
    }
   ],
   "source": [
    "keys(out)"
   ]
  },
  {
   "cell_type": "code",
   "execution_count": 8,
   "metadata": {
    "collapsed": false
   },
   "outputs": [
    {
     "data": {
      "text/plain": [
       "26x2 Array{Any,2}:\n",
       " \"1:intercept : intercept\"       85.074      \n",
       " \"1:parity : 1\"                   0.00084536 \n",
       " \"1:parity : 2\"                  -0.00194611 \n",
       " \"1:parity : 3\"                  -0.00156681 \n",
       " \"1:parity : 4\"                   0.000890018\n",
       " \"1:parity : 5\"                  -0.000997834\n",
       " \"1:parity*site : 1 * 113\"      294.825      \n",
       " \"1:parity*site : 2 * 113\"      131.797      \n",
       " \"1:parity*site : 1 * 5\"       -267.23       \n",
       " \"1:parity*site : 1 * 13\"      -341.117      \n",
       " \"1:parity*site : 2 * 13\"      -346.174      \n",
       " \"1:parity*site : 3 * 13\"      -351.203      \n",
       " \"1:parity*site : 4 * 13\"      -304.59       \n",
       " \"1:parity*site : 5 * 13\"      -329.748      \n",
       " \"1:parity*site : 1 * 6\"       -151.488      \n",
       " \"1:yr : 2005\"                   95.3079     \n",
       " \"1:yr : 2006\"                  262.351      \n",
       " \"1:yr : 2008\"                  -20.4951     \n",
       " \"1:yr : 2009\"                  -26.5392     \n",
       " \"1:yr : 2004\"                  135.895      \n",
       " \"1:yr : 2012\"                   41.6875     \n",
       " \"1:geneticCode : PIC 1\"       -521.642      \n",
       " \"1:geneticCode : PIC 2\"        167.298      \n",
       " \"1:geneticCode : Commercial\"    80.7843     \n",
       " \"1:geneticCode : PIC C27\"      -14.667      \n",
       " \"1:age : age\"                    3.02332    "
      ]
     },
     "execution_count": 8,
     "metadata": {},
     "output_type": "execute_result"
    }
   ],
   "source": [
    "out[\"Posterior mean of location parameters\"]"
   ]
  },
  {
   "cell_type": "code",
   "execution_count": 9,
   "metadata": {
    "collapsed": false
   },
   "outputs": [
    {
     "data": {
      "text/plain": [
       "1x501 Array{Any,2}:\n",
       " \"1:age : age\"  -0.348487  -0.060165  …  1.8925  2.3202  2.14014  2.02161"
      ]
     },
     "execution_count": 9,
     "metadata": {},
     "output_type": "execute_result"
    }
   ],
   "source": [
    "oursample=out[\"MCMC samples for: 1:age\"]"
   ]
  },
  {
   "cell_type": "code",
   "execution_count": 11,
   "metadata": {
    "collapsed": false
   },
   "outputs": [
    {
     "data": {
      "text/html": [
       "<img src=\"data:image/png;base64,iVBORw0KGgoAAAANSUhEUgAAAlgAAAGQCAYAAAByNR6YAAAABHNCSVQICAgIfAhkiAAAAAlwSFlzAAAPYQAAD2EBqD+naQAAIABJREFUeJzt3X9s1eXd//EXPxagm+KttRkQTkFnlWxRWli0m95GF8sk2blBR1i1VVqYNINuzAwwt3+0JMNRxsgMNKJfK1kGK9WZFLLIj2U6vq1TgxzYhjuVrdoew46BM+4xTVED9v6Dm2rXI7/OdfU6n+t6PpIm7sPp57wPr17ta4fP5+qI/v7+fgEAAMCYka4HAAAA8A0FCwAAwLDRNk+eyWS0e/duTZkyRePGjbP5VAAAAE6cPHlSPT09mjVrlgoLCyVZLli7d+9WVVWVzacAAADIC1u2bNH9998vyXLBmjJlysATTps2zeZT4VOWLVumn//8567HgEVk7Lfz5ZtMJs/8n9fZ/y198frcnuwfb0vbG/k+PYxYv/45uybP9h7JcsE6+8+C06ZNU1lZmc2nwqdcccUV/H17joz9dsH5lv6XVFya25P1HpC2N/J9ehixfv316cuhuMjdQx999JHrEWAZGfuNfP1GvmE45ztYmzdv1sKFC9Xe3q54PK5jx47pgQceUHd3t8aOHavm5mbddtttwzUrLtDBgwddjwDLyNhv5Ou3kPJNpVLKZDKuxzCusLBQsVjsnI/5zILV29urp59+WuXl5QPHHnnkEZWXl2vnzp16/fXXNXfuXPX09GjUqFHmpkbOrr8+x2sykPfI2G/k67dQ8k2lUpo2bZr6+vpcj2JcQUGBksnkOUtW1oLV39+vRYsWaePGjXr44YcHjj/77LPq7u6WJM2cOVOTJk3S3r17deeddxoeHbmoq6tzPQIsI2O/ka/fQsk3k8mor6/Puxsozl7QnslkLr5grV+/XrfddptKSz+5ePL48eM6deqUioqKBo4VFxcrlUoZHBsmVFZWuh4BlpGx38jXb6HlG+oNFEMK1htvvKHnn39eHR0dLuYBAACIvCF3EXZ0dKi3t1fXXXedpk6dqldffVUPPfSQnn32WY0ePVpHjx4deGxPT895L/KSpNmzZysejw/6KC8vV3t7+6DH7dmzR/F4fMjnL1myRC0tLYOOJRIJxePxIRfPNTQ0qKmpadCxVCqleDyurq6uQcc3bNig5cuXDzrW19eneDyuzs7OQcdbW1tVU1MzZLb58+fn3etoaWnx4nVIfuRh43V8eu4ov45P43V88jqmT59+Qa/DJvKw9zrOzhP113HWZ72OZcuWDXmsT77zne8MdJpsr3VEf39//7lOcMcdd+jhhx/Wt771LdXW1qq4uFgNDQ3at2+f7rnnnnNe5J5IJDRjxgzt378/yLcHXVmyZImam5tdjwGLyNhv58v37PdWPfqamX2wVt/M9+lhFMr6jVIH6O3t1YIFC3TgwAFdc801SiQSn/nYbK8r27HzbjQ6YsQIne1ga9asUXV1tUpKSjRmzBht3bqVOwjzUAgLN3Rk7Dfy9Vvo+X73/5/Sof8xd76v/If0//4zt33TL7/8cq1evVonTpzQo48+amSu80704osvDvx3UVGRdu/ebeSJAQBAeA79j/Tq0XP+49lFGnHBj/zZz36mw4cP68knn5QknThxQl/60pf017/+VV/72te0d+9eY1OxkzsAAAjCokWLtH37dv3rX/+SdGZD9Tlz5uiKK64w/lwULAAAEITx48fr29/+tp555hlJ0hNPPKGlS5daeS4Kloey3YECv5Cx38jXb+TrVn19vZ544gnt2rVLRUVFuummm6w8T25XhSEv2WrjyB9k7Dfy9Vvo+X7lP6SLuW7qws534a6//npdc801euihh7Ru3bpBf9bf36/zbK5wwShYHqqoqHA9AiwjY7+Rr99CzzfXO/5M+O53v6v6+nrde++9kqSTJ0+qpKREH330kU6cOKFYLKbq6mqtXr36kp/D/asEAAAYRi+99JK+973vDWw1NW7cOL3zzjtGn4OCBQAAgpBOp3XnnXfqqquusr7tFBe5e+jff2UB/EPGfiNfv5GvOxMmTFAymVRnZ6c+//nPW30uCpaHWltbXY8Ay8jYb+TrN/INAwXLQ21tba5HgGVk7Dfy9Rv5hoFrsAAAgDXJZNL1CEZd6OuhYAEAAOMKCwtVUFCgqqoq16MYV1BQoMLCwnM+hoIFAACMi8ViSiaTymQyrkcxrrCwULFY7JyPoWB5qKamRps3b3Y9BiwiY7+Rr99CyjcWi523iPiKi9w9FPouwSEgY7+Rr9/INwwULA9VVla6HgGWkbHfyNdv5BsGChYAAIBhFCwAAADDKFge6uzsdD0CLCNjv5Gv38g3DBQsD61du9b1CLCMjP1Gvn4j3zBQsDy0bds21yPAMjL2G/n6jXzDQMHyUEFBgesRYBkZ+418/Ua+YaBgAQAAGEbBAgAAMIyC5aHly5e7HgGWkbHfyNdv5BsGCpaHQv29TyEhY7+Rr9/INwwULA/V19e7HgGWkbHfyNdv5BsGChYAAIBhFCwAAADDKFge6urqcj0CLCNjv5Gv38g3DBQsD61YscL1CLCMjP1Gvn4j3zBQsDy0ceNG1yPAMjL2G/n6jXzDQMHyELcA+4+M/Ua+fiPfMFCwAAAADKNgAQAAGEbB8lBTU5PrEWAZGfuNfP1GvmGgYHmor6/P9QiwjIz9Rr5+I98wULA8tGrVKtcjwDIy9hv5+o18w0DBAgAAMIyCBQAAYBgFy0OZTMb1CLCMjP1Gvn4j3zBQsDxUW1vregRYRsZ+I1+/kW8YKFgeamxsdD0CLCNjv5Gv38g3DBQsD5WVlbkeAZaRsd/I12/kGwYKFgAAgGEULAAAAMMoWB5qaWlxPQIsI2O/ka/fyDcMFCwPJRIJ1yPAMjL2G/n6jXzDQMHyUHNzs+sRYBkZ+418/Ua+YaBgAQAAGEbBAgAAMIyCBQAAYBgFy0PxeNz1CLCMjP1Gvn4j3zBQsDy0dOlS1yPAMjL2G/n6jXzDQMHyUEVFhesRYBkZ+418/Ua+YaBgAQAAGEbBAgAAMIyC5aH29nbXI8AyMvYb+fqNfMNAwfJQa2ur6xFgGRn7jXz9Rr5hoGB5qK2tzfUIsIyM/Ua+fiPfMFCwAAAADKNgAQAAGEbBAgAAMIyC5aGamhrXI8AyMvYb+fqNfMNAwfIQuwT7j4z9Rr5+I98wULA8VFlZ6XoEWEbGfiNfv5FvGChYAAAAhlGwAAAADKNgeaizs9P1CLCMjP1Gvn4j3zCMdj0AzFu7dq1uvfVW12MMi3Q6rXQ6beRchYWFisViRs5lW0gZh4h8/Ua+YaBgeWjbtm2uRxgW6XRaEydONHa+seMK9GZXMhIlK5SMQ0W+fiPfMFCwPFRQUOB6hGEx8M5V9SYpVprbyd5N6oOWBcpkMpEoWKFkHCry9Rv5hoGCheiLlUrFORYsAAAM4iJ3AAAAwyhYHlq+fLnrEWAZGfuNfP1GvmGgYHkoCtcQITdk7Dfy9Rv5hoGC5aH6+nrXI8AyMvYb+fqNfMNAwQIAADCMggUAAGAYBctDXV1drkeAZWTsN/L1G/mGgYLloRUrVrgeAZaRsd/I12/kGwYKloc2btzoegRYRsZ+I1+/kW8YKFge4hZg/5Gx38jXb+Qbhs8sWLNmzdL06dNVWlqq22+/XQcPHpQkHTt2THfffbdKSkp04403qqOjY9iGBQAAiILP/F2Ezz33nC6//HJJUnt7uxYsWKCDBw9q5cqVKi8v186dO/X6669r7ty56unp0ahRo4ZtaAAAgHz2me9gnS1XkvTPf/5zoEA999xzqqurkyTNnDlTkyZN0t69ey2PiYvR1NTkegRYRsZ+I1+/kW8YPvMdLEl68MEH9dJLL2nEiBF64YUXdPz4cZ06dUpFRUUDjykuLlYqlbI+KC5cX1+f6xFgGRn7jXz9Rr5hOOdF7r/4xS+USqX04x//eOC20v7+/mEZDJdu1apVrkeAZWTsN/L1G/mG4YLuIqyurtbvf/97SdLnPvc5HT16dODPenp6zntHxOzZsxWPxwd9lJeXq729fdDj9uzZo3g8PuTzlyxZopaWlkHHEomE4vG4MpnMoOMNDQ1D3n5NpVKKx+NDNnfbsGHDkN9q3tfXp3g8rs7OzkHHW1tbVVNTM2S2+fPn8zocvY7GxsYhs+UqmUySB68jMq/DJvLgdfA6sr+O1tZWTZ06VdOnTx/oNMuWLRtyvhH9Wd6SOnHihPr6+jRhwgRJZy5y//73v69UKqXa2loVFxeroaFB+/bt0z333POZF7knEgnNmDFD+/fvV1lZ2ZA/B3Jx9utLj74mFZfmdrLeA9Lqm/laRSTwtQ/kl2x9J+s1WCdOnNC8efP0wQcfaMSIESoqKtJvfvMbSdKaNWtUXV2tkpISjRkzRlu3buUOwjyTyWRUWFjoegxYRMZ+I1+/kW8YshasWCym1157LesnFBUVaffu3VaHQm5qa2u1Y8cO12PAIjL2G/n6jXzDwE7uHrJxbRLyCxn7jXz9Rr5hoGB5iOso/EfGfiNfv5FvGChYAAAAhlGwAAAADDvnTu6IppaWFi1cuND1GLCIjP0W5XzT6bTS6bSRcxUWFp53n8UoinK+uHAULA8lEgkWr+fI2G9RzTedTmvixInGzjd2XIHe7Ep6V7Kimi8uDgXLQ83Nza5HgGVk7Leo5jvwzlX1JimW4wao7yb1QcsCZTIZ7wpWVPPFxaFgAQDMipXmvsM8EHFc5A4AAGAYBQsAAMAwCpaHsv0Gc/iFjP1Gvn4j3zBQsDy0dOlS1yPAMjL2G/n6jXzDQMHyUEVFhesRYBkZ+418/Ua+YeAuQgw7UxsRJpNJA9MAw4evfSAcFCwMK9MbEQJRwdc+EBYKlofa29s1Z84c12NkZXQjwkM7pe2NOc8URfmcMbLjax9nsX7DQMHyUGtra/4vXhMbEaa7zMwSQZHIGNnxtR881m8YuMjdQ21tba5HgGVkDEQX6zcMFCwAAADDKFgAAACGUbAAAAAMo2B5qKamxvUIsIyMgehi/YaBguUhdgn2HxkD0cX6DQMFy0OVlZWuR4BlZAxEF+s3DBQsAAAAwyhYAAAAhlGwPNTZ2el6BFhGxkB0sX7DQMHy0Nq1a12PAMvIGIgu1m8YKFge2rZtm+sRYBkZA9HF+g0DBctDBQUFrkeAZWQMRBfrNwwULAAAAMMoWAAAAIaNdj0AzFu+fLl++tOfuh4jkpLJpLFzFRYWKhaLGTvfp5ExEF2s3zBQsDxk64e6197LSJKqqqqMnXLsuAK92ZW0kgcZA9HF+g0DBctD9fX1rkeInvfPFCxVb5Jipbmf792kPmhZoEwmY+WbKRkD0cX6DQMFC/i0WKlUbKBgAQCCxkXuAAAAhlGwPNTV1eV6BFhGxkB0sX7DQMHy0IoVK1yPAMvIGIgu1m8YKFge2rhxo+sRYBkZA9HF+g0DBctD3ALsPzIGoov1GwbuIgQCk06nlU6njZzL5maqABBlFCwgIOl0WhMnTjR2PpubqQJAlFGwPNTU1KSVK1e6HgMWXWrGA+9cmdhQ1fJmqoCv+B4dBgqWh/r6+lyPAMtyzpgNVQFn+B4dBi5y99CqVatcjwDLyBiILtZvGChYAAAAhlGwAAAADKNgeSiTybgeAZaRMRBdrN8wULA8VFtb63oEWEbGQHSxfsPAXYQeamxsdD0CLPMxYzZARSh8XL8YioLlobKyMtcjwDLfMmYDVITEt/WL7ChYAJxjA1QAvqFgAcgfbIAKwBNc5O6hlpYW1yPAMjIGoov1GwYKlocSiYTrEWAZGQPRxfoNAwXLQ83Nza5HgGVkDEQX6zcMFCwAAADDKFgAAACGcRchLoipTSCTyaSBaQCYZmJtsr6BT1CwPBSPx7Vjxw5j5zO9CSRyZzpjBOy9M78Xr6qqyvEg4WD9hoGC5aGlS5caPZ/RTSAP7ZS2N+Y8U+hMZ4yAvf9/v3iY9T1sWL9hoGB5qKKiws6JTWwCme4yM0vgrGWMcLG+hw3rNwxc5A4AAGAYBQsAAMAwCpaH2tvbXY8Ay8gYiC7WbxgoWB5qbW11PQIsI2Mguli/YaBgeaitrc31CLCMjIHoYv2GgYIFAABgGAULAADAMAoWAACAYRQsD9XU1LgeAZaRMRBdrN8wULA8xC7B/iNjILpYv2GgYHmosrLS9QiwjIyB6GL9hoGCBQAAYBgFCwAAwDAKloc6OztdjwDLyBiILtZvGChYHlq7dq3rEWAZGQPRxfoNw2jXA8C8bdu2uR4BluVTxslkMi/OAURFPq1f2EPB8lBBQYHrEWBZXmT8XkaSVFVV5XgQIFryYv3COgoWgEvz/pmCpepNUqw0t3Md2iltb8x5JADIFxQsALmJlUrFORasdJeZWQAgT3CRu4eWL1/uegRYRsZAdLF+w5C1YH344YeaO3eubrjhBpWWlmrWrFnq7u6WJB07dkx33323SkpKdOONN6qjo2NYB8b5xWIx1yPAMjIGoov1G4bPfAdr8eLF6urq0oEDBxSPx7Vo0SJJ0sqVK1VeXq7Dhw/rmWee0X333afTp08P28A4v/r6etcjwDIyBqKL9RuGrAVrzJgx+uY3vznwv2+55Rb19vZKkp577jnV1dVJkmbOnKlJkyZp7969wzAqAABANFzQNViPP/645syZo+PHj+vUqVMqKioa+LPi4mKlUilrAwIAAETNeQvWY489pu7ubj322GPDMQ8M6OrijizfkTEQXazfMJyzYK1bt07t7e3atWuXxo4dqyuvvFKjR4/W0aNHBx7T09Nz3gv2Zs+erXg8PuijvLxc7e3tgx63Z88exePxIZ+/ZMkStbS0DDqWSCQUj8eVyWQGHW9oaFBTU9OgY6lUSvF4fMgX9YYNG4bczdHX16d4PD7kd0W1traqpqZmyGzz58/Pu9exYsUKq68DF890HitWrBg4fjFfV5s2bcrpdURRvqzzZcuWXepLCFpjY+OQY/n4fVe68K+rs+s36q/jrNBeR2trq6ZOnarp06cPdJps63tEf39//5CjktavX69f/epX+t3vfqfx48cPHK+trVVxcbEaGhq0b98+3XPPPerp6dGoUaOGnCORSGjGjBnav3+/ysrKsj0NLEilUkbvUjmbox59Lff9jl5tlZ550O9zSVLvAWn1zda+9i814yCytPx3f6mC+LsPIEcTTH+PhnvZ+k7WjUaPHDmiH/3oR7r22mt1xx13qL+/X2PHjtUrr7yiNWvWqLq6WiUlJRozZoy2bt2atVzBHRau/8gYiC7WbxiyFqxJkybp448/zvoJRUVF2r17t9WhAAAAooyd3AEAAAyjYHno3y8KhH/IGIgu1m8YKFge6uvrcz0CLCNjILpYv2GgYHlo1apVrkeAZWQMRBfrNwxZL3KHH9LptNLpdM7nSSaTBqYJk6m/u8LCQu48AoAIoWB5Kp1Oa+LEia7HCNd7ZzbMq6qqMnK6seMK9GZXkpIFABFBwfJQJpP55J2r6k1SLMcN/w7tlLY35jxXUN7/vx2JTfz9v5vUBy0LlMlkBgpWJpNRYWFhjkMCcIH1GwYKlodqa2s/+fUSsdLcd1RO83uzLpmJv/8samtrtWPHDuPnBWAf6zcMXOTuoWy/uwt+IWMguli/YaBgeci339uFocgYiC7WbxgoWAAAAIZRsAAAAAyjYHmopaXF9QiwjIyB6GL9hoG7CD2USCRUWmr+zjXkj0QioYULF7oeI6+xySvyFes3DBQsDzU3NyuRSLgeAxY1Nze7HiF/sckr8hzrNwwULAB+sbzJKwBcCAoWAD9Z2uQVAC4EF7kDAAAYRsHyUDwedz0CLCNjILpYv2GgYHlo6dKlrkeAZWQMRBfrNwwULA9VVFS4HgGWkTEQXazfMFCwAAAADOMuQgBA3mLDWEQVBctD7e3tfCPxXHt7u+bMmeN6DMAejzeMZf2GgYLlodbWVq1cudL1GLCotbWVb9Dwm8cbxrJ+w0DB8lBbWxu/KsdzbW1trkcAhoeHG8ayfsPARe4AAACGUbAAAAAMo2ABAAAYRsHyUE1NjesRYBkZA9HF+g0DBctD7BLsPzIGoov1GwYKlocqKytdjwDLyBiILtZvGChYAAAAhlGwAAAADKNgeaizs9P1CLCMjIHoYv2GgYLlobVr17oeAZaRMRBdrN8wULA8tG3bNtcjwDIyBqKL9RsGCpaHCgoKXI8Ay8gYiC7WbxgoWAAAAIZRsAAAAAyjYHlo+fLlrkeAZWQMRBfrNwwULA/FYjHXI8AyMgaii/UbBgqWh+rr612PAMvIGIgu1m8YKFgAAACGUbAAAAAMo2B5qKury/UIsIyMgehi/YaBguWhFStWuB4BlpExEF2s3zBQsDy0ceNG1yPAMjIGoov1GwYKloe4Bdh/ZAxEF+s3DBQsAAAAw0a7HgAAgOGQTCaNnev06dMaNWqUkXMVFhbyrpaHKFgeampq0l133eV6DFjU1NSklStXuh4DiIb3MpKkqqoqx4NkN3Zcgd7sSlKyPEPB8lBfX5/rEWAZGQMX4f0zBUvVm6RYae7nO7RT2t5o5nzvJvVBywJlMhkKlmcoWB5atWqVEomE6zFg0apVq1yPAERPrFQqNlCw0l1mzwcvcZE7AACAYRQsAAAAwyhYHspkMq5HgGVkDAD5jYLlodraWtcjwDIyBoD8RsHyUGNjo+sRYBkZA0B+4y5CD5WVlXEXoYf+fZPES8nY5EaLAMwxtTbZtDR/ULCAfJfnmyQCyIHh9c2mpfmDggXkO5ObJJ7dIBFAfjC5vtm0NK9QsDzU0tKi0lI2v/OOiU0Nz26QCCC/sGmpd7jI3UNcfwUAgFsULA81Nze7HgEAgKBRsAAAAAyjYAEAABhGwQIAADCMuwg9FI/H2ekbMMjEJpBs8gqEhYLloaVLl7oeAfADm7wCuEQULA9VVFSwVQNgApu8ArhEFCwAOB82eQVwkbjIHQAAwDAKlofa29tdjwAAQNAoWB5qbW11PQIAAEGjYHmora3N9QgAAASNggUAAGAYBQsAAMAwChYAAIBhFCwP1dTUuB4BAICgUbA8VFFR4XoEAACCRsHyUGVlpesRAAAIGgULAADAsKwF6wc/+IGmTp2qkSNH6k9/+tPA8WPHjunuu+9WSUmJbrzxRnV0dAzboAAAAFGRtWDNmzdPL7/8sqZMmTLo+COPPKLy8nIdPnxYzzzzjO677z6dPn16OObERejs7HQ9AgAAQctasG699VZNnDhR/f39g44/++yzqqurkyTNnDlTkyZN0t69e+1PiYuydu1a1yMAABC0C74G6/jx4zp16pSKiooGjhUXFyuVSlkZDJdu27ZtrkcAACBoXOTuoYKCAtcjAAAQtAsuWFdeeaVGjx6to0ePDhzr6elRLBY77+fOnj1b8Xh80Ed5ebna29sHPW7Pnj2Kx+NDPn/JkiVqaWkZdCyRSCgejyuTyQw63tDQoKampkHHUqmU4vG4urq6Bh3fsGGDli9fPuhYX1+f4vH4kOuYWltbs27gOX/+/Lx8HSdPnhzy/AAA/23atImfgxZfR2trq6ZOnarp06cPdJply5YNOd/oIUfOYd68eXriiSfU0NCgffv26e9//7tuv/32837eCy+8oLKysvM+rqKiIusmmc3NzUOOlZWVaceOHUOOr1q1asixWCyW9bH19fVDjhUUFGR9bGVlZdb9pdra2oYcy4fXMW7cuCHHAAD+q6urG/IzN8Sfg7ZeR7bPTyQSmjFjxqBjWd/Bqqur0+TJk3XkyBHNmjVLJSUlkqQ1a9boD3/4g0pKSlRbW6utW7dq1KhR2U4Bh/69xQMAgOGV9R2sTZs2ZX1wUVGRdu/ebXUg5O5C/tkWAADYw0XuHsr2VikAABg+FCwAAADDKFgAAACGUbA89O+3rwIAgOF1Uds0ILt0Oq10Om3kXKdPn875zsxly5Zp8eLFRuYBAAAXj4KVo3Q6rYkTJ7oeY4iOjg7XIwAAECwKVo4G3rmq3iTFSnM72aGd0vZGs+cCAADDjoJlSqxUKs6xFKW7zJ8LAAAMOy5yBwAAMIyCBQAAYBgFCwAAwDAKFgAAgGEULAAAAMOCvYvQ1OagyWTSwDQAAJhh6udSYWGhYrGYkXOFKMiCla+bgwIAcMney0iSqqqqjJxu7LgCvdmVpGRdomALliQ29AQA+OP9MwXLyM+2d5P6oGWBMpkMBesSBVmwBrChJwDANyZ+tiFnXOQOAABgGAULAADAMAoWAACAYRQsAAAAwyhYAAAAhoV9FyEAALDO1ObeUnQ2QKVgAQAAa0xv7h2VDVApWAAAwBqjm3tHaANUChYAALAvsA1QucgdAADAMAoWAACAYRQsAAAAwyhYAAAAhlGwAAAADOMuQgAAECnJZNLIeWxuWkrBAgAA0fBeRpJUVVVl5HQ2Ny2lYAEAgGh4/0zBisKmpRQsAAAQLRHYtJSL3AEAAAyjYAEAABhGwQIAADCMggUAAGAYBQsAAMAwChYAAIBhkdqmIZ1OK51O53weUzvAAgDgMxM/L0P9mRuZgpVOpzVx4kTXYwAA4D/DO6aHKFIFS5KZ3VsP7ZS2N+Y8EwAAXjK5Y3qgP3MjU7AGmNi9Nd1lZhYAAHzGz9xLxkXuAAAAhlGwAAAADKNgAQAAGEbBAgAAMIyCBQAAYBgFCwAAwDAKFgAAgGEULAAAAMMoWAAAAIZRsAAAAAyjYAEAABhGwQIAADCMggUAAGAYBQsAAMAwChYAAIBhFCwAAADDKFgAAACGUbAAAAAMo2ABAAAYRsECAAAwjIIFAABgGAULAADAMAoWAACAYaOH40mSyWRenAMAAODTbHWUYSlYVVVVw/E0AAAAF+a9jCR7HWVYCpZm/7dU+l+5nePQTml7o5FxAABA4N4/U7BUvUmKleZ2riwdZXgK1hevl4pzHD7dZWYWAACAs2KlVjoKF7kDAAAYRsECAAAwjIIFAABgGAULAADAMAoWAACAYRQsAAAAwyhYAAAAhlGwAAAADKNgAQAAGEbBAgAAMIyCBQAAYNglFay//e1v+vrnN6IQAAAD7klEQVTXv67rr79eN998s5LJpOm5AAAAIuuSCtbixYtVV1enN998UytWrNCDDz5oei4AAIDIuuiCdezYMe3fv1/333+/JOnee+/VO++8o7feesv4cAAAAFF00QXrnXfe0YQJEzRy5CefGovFlEqljA4GAAAQVaNtnvzkyZNn/qP75dxPdvYch3ZK6S7Oxbny91ymz8e5OBfnyp9zmT4f5/LqXAO9R5L6L9LRo0f7x48f33/69OmBY1/84hf7u7u7hzx2y5Yt/ZL44IMPPvjggw8+vP/YsmXLQAe66Hewrr76apWVlemXv/ylHnzwQf3617/W5MmTdc011wx57KxZs7RlyxZNmTJF48aNu9inAgAAyHsnT55UT0+PZs2aNXBsRH9/f//Fnujw4cNasGCB/vGPf2j8+PHavHmzvvzlLxsdFgAAIKouqWABAADgs7GTOwAAgGEULM+wy76/PvzwQ82dO1c33HCDSktLNWvWLHV3d7seCxZs3rxZI0eO1I4dO1yPAoM++ugj1dfXq6SkRDfddJMeeOAB1yPBIgqWZ9hl32+LFy9WV1eXDhw4oHg8rkWLFrkeCYb19vbq6aefVnl5uetRYNjKlSs1cuRIHT58WH/84x+1bt061yPBIq7B8sixY8d03XXX6fjx4wMbwU6YMEEvv/xy1rs8EW379+/XvHnz+C0KHunv71dFRYXWrl2rhx9+WD/84Q8Vj8ddjwUD+vr6NGHCBB05ckRf+MIXXI+DYcA7WB5hl/2wPP7445ozZ47rMWDQ+vXrddttt6m0tNT1KDCsu7tbV155pVavXq2vfvWruv322/Xiiy+6HgsWWd3JHYAdjz32mLq7u/XUU0+5HgWGvPHGG3r++efV0dHhehRYcOrUKfX29uorX/mKfvKTn+jgwYO666679Je//EVXX3216/FgAe9geWTy5MlKp9P6+OOPB46lUinFYjGHU8G0devWqb29Xbt27dLYsWNdjwNDOjo61Nvbq+uuu05Tp07Vq6++qoceekhPPvmk69FgQCwW06hRo3TfffdJkqZPn66pU6fqz3/+s+PJYAsFyyOf3mVf0jl32Uc0rV+/Xtu2bdNvf/tbXXbZZa7HgUF1dXU6cuSI3nrrLb399tu65ZZb9NRTT2nx4sWuR4MBV111lb7xjW9o165dkqS3335bPT09mjZtmuPJYAsXuXuGXfb9deTIEU2ePFnXXnutLrvsMvX392vs2LF65ZVXXI8GC+68804tW7aMi9w98vbbb2vhwoXKZDIaNWqUGhoauI7SYxQsAAAAw/gnQgAAAMMoWAAAAIZRsAAAAAyjYAEAABhGwQIAADDsfwFe1e2JRmHHAgAAAABJRU5ErkJggg==\" />"
      ]
     },
     "execution_count": 11,
     "metadata": {},
     "output_type": "execute_result"
    }
   ],
   "source": [
    "using Plots\n",
    "sample4age = vec(oursample[2:end])\n",
    "histogram(sample4age)"
   ]
  },
  {
   "cell_type": "code",
   "execution_count": 12,
   "metadata": {
    "collapsed": false
   },
   "outputs": [
    {
     "data": {
      "text/plain": [
       "1x500 Array{Float64,2}:\n",
       " 0.0899984  0.0888872  0.0351931  …  0.256085  0.0780606  0.0828524"
      ]
     },
     "execution_count": 12,
     "metadata": {},
     "output_type": "execute_result"
    }
   ],
   "source": [
    "out[\"MCMC samples for: variance of 1:parity\"]"
   ]
  }
 ],
 "metadata": {
  "anaconda-cloud": {},
  "kernelspec": {
   "display_name": "Julia 0.5.0",
   "language": "julia",
   "name": "julia-0.5"
  },
  "language_info": {
   "file_extension": ".jl",
   "mimetype": "application/julia",
   "name": "julia",
   "version": "0.5.0"
  }
 },
 "nbformat": 4,
 "nbformat_minor": 0
}
